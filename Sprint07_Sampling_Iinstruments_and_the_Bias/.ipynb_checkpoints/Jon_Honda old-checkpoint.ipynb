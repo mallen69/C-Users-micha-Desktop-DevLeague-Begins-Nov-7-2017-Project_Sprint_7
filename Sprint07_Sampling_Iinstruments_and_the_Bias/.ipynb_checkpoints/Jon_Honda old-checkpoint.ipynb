{
 "cells": [
  {
   "cell_type": "markdown",
   "metadata": {
    "collapsed": true
   },
   "source": [
    "# Project Name\n",
    "#### [2/28/2018] | [Jon Honda] | [Sprint 7: Sampling, Instruments, and Bias]\n",
    "#### Description\n",
    "Learn about how sampling and instruments used in sampling affects uncertainty. \n",
    "\n",
    "## Skill Backlog User Story\n",
    "As a engineer using storm water quality data to design treatment systems, I need to understand how sample size affects uncertainty So that I can develop effective tools to communicate how additional sampling costs will result in reduced stormwater treatment costs.\n",
    "\n",
    "## Project Proposal\n",
    "I propose to learn about:\n",
    "1. Ways to describe uncertainty as it relates to sampling size.\n",
    "2. The mathematical relationships between sampling size and uncertainty. Hopefully there is a way to do something like this:\n",
    "   Given current sampling size, identify probability that the average water quality obtained thru sampling is not the \"True\" average. Or, that the    observed 60 percentile water quality is not the true 60 percentile average, etc. - basically that the water quality value used in our design is not the true value, and we therefore should increase treatment system size to accomodate this uncertainty.\n",
    "3. Identify how increasing sampling size will reduce probability that our average (or other statistic) based on observation is not the \"true\" value.\n",
    "\n",
    "4. Build a simulator that demonstrats that spending X dollars on sampling results in Y reduction in treatment costs.\n",
    "\n",
    "\n",
    "## Key Questions\n",
    "- Things I want to find out\n",
    "- Definitions I want to establish and clarify\n",
    "\n",
    "## Key Findings\n",
    "- A running list of things that I'm learning and don't want to forget\n",
    "\n",
    "## Gameplan\n",
    "Here is my overall approach \n",
    "1. Step 1\n",
    "2. Step 2\n",
    "3. Step 3\n",
    "4. Step 4\n",
    "\n",
    "---\n",
    "\n",
    "## Day 1 Work\n",
    "\n",
    "These are the concepts that I researched:\n",
    " - Stratified Sampling\n",
    " - Systematic sampling\n",
    " - Single Random sampling\n",
    " - Cluster sampling\n",
    " - convenience sampling\n",
    "\n",
    "## Day 2 Work\n",
    "\n",
    "This is what I tried to do on Day 2. Here's some more code\n",
    "\n",
    "## Peer Feedback on Day 3\n",
    "\n",
    "After talking it over with a peer, I received the following feedback and decided to make these changes\n",
    "\n",
    "## Here are some overall notes on the skills I learned\n",
    "And perhaps some stream of consciousness notes about what I did, and other questions I might have"
   ]
  },
  {
   "cell_type": "markdown",
   "metadata": {
    "collapsed": true
   },
   "source": [
    "## Law of large averages:\n",
    "This concept says that larger sample populations will reduce uncertainty. And more specifically, uncertainty as measured by standard deviation.\n",
    "\n",
    "https://stats.stackexchange.com/questions/129885/why-does-increasing-the-sample-size-lower-the-sampling-variance\n",
    "\n"
   ]
  }
 ],
 "metadata": {
  "kernelspec": {
   "display_name": "Python 3",
   "language": "python",
   "name": "python3"
  },
  "language_info": {
   "codemirror_mode": {
    "name": "ipython",
    "version": 3
   },
   "file_extension": ".py",
   "mimetype": "text/x-python",
   "name": "python",
   "nbconvert_exporter": "python",
   "pygments_lexer": "ipython3",
   "version": "3.6.3"
  }
 },
 "nbformat": 4,
 "nbformat_minor": 2
}
