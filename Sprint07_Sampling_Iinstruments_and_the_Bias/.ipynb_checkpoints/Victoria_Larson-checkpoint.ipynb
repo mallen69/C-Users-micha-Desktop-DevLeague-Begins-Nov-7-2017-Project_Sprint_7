{
 "cells": [
  {
   "cell_type": "markdown",
   "metadata": {
    "collapsed": true
   },
   "source": [
    "# Some sort of PDF Project\n",
    "#### 2/27/2018 - 3/8/2018 | Victoria Larson | Sprint 7\n",
    "#### Description\n",
    "In this sprint I will be taking the hotel STR data (as i have in a previous sprint but this time i will combine multiple pdfs together to create one large table. This way I will be able to analyze the data over time and eventually use it to creat basic plots as well as a dashboard. \n",
    "\n",
    "## Skill Backlog User Story\n",
    "As a resource coordinator I need to construct data from **obscure places** so that I can create dashboards and basic plots. of the resources I am coordinating. \n",
    "\n",
    "## Project Proposal\n",
    "The goal is to eventually become proficient enough in practice of pulling data from obscure places that I will be able to just upload the obscure data, run the code, and then be able to easily analyze it without hours of organization. \n",
    "\n",
    "## Key Questions\n",
    "- What are the best tools to use when pulling data from PDFs as well as when web scraping. \n",
    "- What questions to I ask so I can organize my data accordingly. \n",
    "\n",
    "\n",
    "## Key Findings\n",
    "- A running list of things that I'm learning and don't want to forget\n",
    "\n",
    "## Gameplan\n",
    "Here is my overall approach \n",
    "1. Start by analyzing the last project that I did when I used the STR data. \n",
    "2. Step 2\n",
    "3. Step 3\n",
    "4. Step 4\n",
    "\n",
    "---\n",
    "\n",
    "## Day 1 Work\n",
    "\n",
    "This is what I tried to do on Day 1. Here's some Code\n",
    "\n",
    "## Day 2 Work\n",
    "\n",
    "This is what I tried to do on Day 2. Here's some more code\n",
    "\n",
    "## Peer Feedback on Day 3\n",
    "\n",
    "After talking it over with a peer, I received the following feedback and decided to make these changes\n",
    "\n",
    "## Here are some overall notes on the skills I learned\n",
    "And perhaps some stream of consciousness notes about what I did, and other questions I might have"
   ]
  },
  {
   "cell_type": "code",
   "execution_count": null,
   "metadata": {
    "collapsed": true
   },
   "outputs": [],
   "source": []
  }
 ],
 "metadata": {
  "kernelspec": {
   "display_name": "Python 3",
   "language": "python",
   "name": "python3"
  },
  "language_info": {
   "codemirror_mode": {
    "name": "ipython",
    "version": 3
   },
   "file_extension": ".py",
   "mimetype": "text/x-python",
   "name": "python",
   "nbconvert_exporter": "python",
   "pygments_lexer": "ipython3",
   "version": "3.6.1"
  }
 },
 "nbformat": 4,
 "nbformat_minor": 2
}
