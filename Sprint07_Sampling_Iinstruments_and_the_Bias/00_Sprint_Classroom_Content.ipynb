{
 "cells": [
  {
   "cell_type": "markdown",
   "metadata": {},
   "source": [
    "# Sprint Title\n",
    "\n",
    "## Key Concepts and Definitions\n",
    "\n",
    "## Key Questions\n",
    "\n",
    "## Project Ideas\n",
    "\n",
    "From Justin for Both Sprints on Experimental Design and Research Methods\n",
    "- What are you trying to understand? What questions are you trying to answer?\n",
    "- How is data better than your intuition or ‘gut’?\n",
    "- Is the thing you want to understand directly measureable? \n",
    "- If not, what are some proxies to that? \n",
    "- What is correlation vs. causation?\n",
    "- What might confound your ability to approximate?\n",
    "- Are there reasonable ranges of values you may expect to encounter?\n",
    "- Are there unreasonable ranges? How do you know?\n",
    "- Pull the measureable or proxy-based data and visualize it. \n",
    "        - What does it tell you? \n",
    "        - What are some basic conclusions?\n",
    "        - What are some reasons that this may be wrong?\n",
    "        - How can you overcome these limitations?\n",
    "- Talk about Thomas Kuhn, Karl Popper, Michael Polanyi. \n",
    "- Tools: Scipy, numpy, PyMC, statsmodels, sci-kit learn"
   ]
  },
  {
   "cell_type": "code",
   "execution_count": null,
   "metadata": {
    "collapsed": true
   },
   "outputs": [],
   "source": []
  }
 ],
 "metadata": {
  "kernelspec": {
   "display_name": "Python 3",
   "language": "python",
   "name": "python3"
  },
  "language_info": {
   "codemirror_mode": {
    "name": "ipython",
    "version": 3
   },
   "file_extension": ".py",
   "mimetype": "text/x-python",
   "name": "python",
   "nbconvert_exporter": "python",
   "pygments_lexer": "ipython3",
   "version": "3.6.3"
  }
 },
 "nbformat": 4,
 "nbformat_minor": 2
}
