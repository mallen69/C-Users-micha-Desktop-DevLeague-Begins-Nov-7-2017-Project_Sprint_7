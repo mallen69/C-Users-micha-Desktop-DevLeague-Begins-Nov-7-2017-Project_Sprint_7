{
 "cells": [
  {
   "cell_type": "markdown",
   "metadata": {},
   "source": [
    "# Sampling Costs vs Treatment Solution Costs\n",
    "Sprint 7: Sampling, Instruments, and Bias \n",
    "\n",
    "By: Jon Honda"
   ]
  },
  {
   "cell_type": "markdown",
   "metadata": {},
   "source": [
    "# 1. Skill Story / Skills / Questions\n",
    "As a engineer using storm water quality data to design treatment systems, I need to understand how sample size affects uncertainty So that I can develop effective tools to communicate how additional sampling costs will result in reduced stormwater treatment costs."
   ]
  },
  {
   "cell_type": "markdown",
   "metadata": {},
   "source": [
    "# 2. Example Projects, Models, and Benchmarks"
   ]
  },
  {
   "cell_type": "markdown",
   "metadata": {},
   "source": [
    "# 3. Technical Prototyping"
   ]
  },
  {
   "cell_type": "code",
   "execution_count": 1,
   "metadata": {
    "collapsed": true
   },
   "outputs": [],
   "source": [
    "# technical prototype code area"
   ]
  },
  {
   "cell_type": "code",
   "execution_count": 2,
   "metadata": {
    "collapsed": true
   },
   "outputs": [],
   "source": [
    "# technical prototype code area"
   ]
  },
  {
   "cell_type": "code",
   "execution_count": 3,
   "metadata": {
    "collapsed": true
   },
   "outputs": [],
   "source": [
    "# technical prototype code area"
   ]
  },
  {
   "cell_type": "markdown",
   "metadata": {},
   "source": [
    "# 4. Project Scope\n",
    "I propose to learn about:\n",
    "1. Ways to describe uncertainty as it relates to sampling size.\n",
    "2. The mathematical relationships between sampling size and uncertainty. Hopefully there is a way to do something like this:\n",
    "   Given current sampling size, identify probability that the average water quality obtained thru sampling is not the \"True\" average. Or, that the    observed 60 percentile water quality is not the true 60 percentile average, etc. - basically that the water quality value used in our design is not the true value, and we therefore should increase treatment system size to accomodate this uncertainty.\n",
    "3. Identify how increasing sampling size will reduce probability that our average (or other statistic) based on observation is not the \"true\" value.\n",
    "\n",
    "4. Build a simulator that demonstrats that spending X dollars on sampling results in Y reduction in treatment costs."
   ]
  },
  {
   "cell_type": "code",
   "execution_count": null,
   "metadata": {
    "collapsed": true
   },
   "outputs": [],
   "source": []
  }
 ],
 "metadata": {
  "kernelspec": {
   "display_name": "Python 3",
   "language": "python",
   "name": "python3"
  },
  "language_info": {
   "codemirror_mode": {
    "name": "ipython",
    "version": 3
   },
   "file_extension": ".py",
   "mimetype": "text/x-python",
   "name": "python",
   "nbconvert_exporter": "python",
   "pygments_lexer": "ipython3",
   "version": "3.6.3"
  }
 },
 "nbformat": 4,
 "nbformat_minor": 2
}
