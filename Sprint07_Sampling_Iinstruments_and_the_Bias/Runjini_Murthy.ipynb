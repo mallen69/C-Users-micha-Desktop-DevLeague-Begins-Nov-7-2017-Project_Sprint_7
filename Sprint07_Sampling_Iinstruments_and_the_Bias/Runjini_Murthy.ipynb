{
 "cells": [
  {
   "cell_type": "markdown",
   "metadata": {
    "collapsed": true
   },
   "source": [
    "# Project Name\n",
    "#### [Date] | [Author] | [Sprint]\n",
    "#### Description\n",
    "1 to 2 sentence description. The first 5 Sections are mandatory. Free form after that, but there are a couple of suggested categories you can use. But really document however you feel the most comfortable.\n",
    "\n",
    "## Skill Backlog User Story\n",
    "As a [TKTKTK] I need [TKTKTK] So that [TKTKTK]\n",
    "\n",
    "## Project Proposal\n",
    "This is what I propose to do in this project and why I think it will be useful to me and my overall objective\n",
    "\n",
    "## Key Questions\n",
    "- Things I want to find out\n",
    "- Definitions I want to establish and clarify\n",
    "\n",
    "## Key Findings\n",
    "- A running list of things that I'm learning and don't want to forget\n",
    "\n",
    "## Gameplan\n",
    "Here is my overall approach \n",
    "1. Step 1\n",
    "2. Step 2\n",
    "3. Step 3\n",
    "4. Step 4\n",
    "\n",
    "---\n",
    "\n",
    "## Day 1 Work - Fantasy Draft for Sprint Concepts\n",
    "\n",
    "### Likert Scale \n",
    "- https://www.surveymonkey.com/mp/likert-scale/\n",
    "- Survey questions that offer a range of answer options — from one extreme attitude to another, like “extremely likely” to “not at all likely.”\n",
    "- Nmed after their creator, American social scientist Rensis Likert.\n",
    "- Gives more granular feedback than a yes/no.\n",
    "- Examples: Very satisfied, Somewhat satisfied, Neither satisfied nor dissatisfied, Somewhat dissatisfied, Very dissatisfied OR: Strongly disagree, Disagree, Neutral/Neither agree nor disagree, Agree, Strongly agree\n",
    "- When do you use this?  When you want to understand the degrees of response or sentiment.  Scientifically, it gets at VARIANCE.\n",
    "- These questions work better when questions are focused on one topic.\n",
    "- For a unipolar scale, best to stick with 5 options.  For a bipolar scale, 7 options.  You should give an odd number of options so the survey taker has a clear sense of the midpoint.\n",
    "\n",
    "\n",
    "### Voluntary Response Sample\n",
    "- http://www.statisticshowto.com/voluntary-response-sample/\n",
    "- These types of samples are always biased. \n",
    "- A famous example of voluntary response sample bias was the Ann Landers Survey on Parenthood. The syndicated advice columnist asked her readers if they would choose to have children again. An incredible 70% of respondents said that if they lived their lives over again, they would not have children. A similar poll in Good Housekeeping the same year resulted in 95% of people saying they would have children.\n",
    "- When would you use this?  An inexpensive way to conduct a study with data that's easy to gather.  Or, for something like an American Idol poll, where you only care about the responses of the people that are opting in.\n",
    "- Disadvatnages: Not representative.  No control of sample. Likely to be filled with responses of strongly opinionated people.\n",
    "\n",
    "### Ordinal Variable\n",
    "- https://statistics.laerd.com/statistical-guides/types-of-variable.php\n",
    "- Comprised of categories that can be ranked or ordered.  You can't assign a value of these variables in relation to each other, however.  (In contrast, nominal variables are cateogires, but cannot be ranked/ordered - ex. 50 states.)\n",
    "- Categorial variables are discrete and not continuous.\n",
    "- Examples: Great, Okay, Bad.  You can't say Great is 2X Okay.\n",
    "\n",
    "### Predictor Variable\n",
    "- https://statistics.laerd.com/statistical-guides/types-of-variable.php\n",
    "- An independent variable, sometimes called an experimental or predictor variable, is a variable that is being manipulated in an experiment in order to observe the effect on a dependent variable, sometimes called an outcome variable.\n",
    "- Think of it as the variable on the X-axis.\n",
    "- This variable is the one that is changed by the scientist in the experiment.\n",
    "- Example: Test scores as the dependent variable; IQ and number of hours studied as the independent variable.\n",
    "\n",
    "### Stratified Sample\n",
    "- https://onlinecourses.science.psu.edu/stat506/node/27\n",
    "- Population is grouped in non-overlapping segments, and a sample is designed from each group.\n",
    "- Examples: Geographical regions can be stratified into similar regions by means of some known variable such as habitat type, elevation or soil type. Another example might be to determine the proportions of defective products being assembled in a factory. In this case sampling may be stratified by production lines, factory, etc.\n",
    "- Why would you use this?  To reduce error of estimation.  To reduce cost, if it is easier to observe elements within a group. You might want to gather knowledge about the subgroups anyway.\n",
    "\n",
    "## Day 2 Work\n",
    "\n",
    "This is what I tried to do on Day 2. Here's some more code\n",
    "\n",
    "## Peer Feedback on Day 3\n",
    "\n",
    "After talking it over with a peer, I received the following feedback and decided to make these changes\n",
    "\n",
    "## Here are some overall notes on the skills I learned\n",
    "And perhaps some stream of consciousness notes about what I did, and other questions I might have"
   ]
  },
  {
   "cell_type": "code",
   "execution_count": null,
   "metadata": {
    "collapsed": true
   },
   "outputs": [],
   "source": []
  }
 ],
 "metadata": {
  "kernelspec": {
   "display_name": "Python 3",
   "language": "python",
   "name": "python3"
  },
  "language_info": {
   "codemirror_mode": {
    "name": "ipython",
    "version": 3
   },
   "file_extension": ".py",
   "mimetype": "text/x-python",
   "name": "python",
   "nbconvert_exporter": "python",
   "pygments_lexer": "ipython3",
   "version": "3.6.3"
  }
 },
 "nbformat": 4,
 "nbformat_minor": 2
}
