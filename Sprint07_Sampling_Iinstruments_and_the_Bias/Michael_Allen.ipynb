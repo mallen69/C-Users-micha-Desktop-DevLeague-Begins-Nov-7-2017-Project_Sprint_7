{
 "cells": [
  {
   "cell_type": "markdown",
   "metadata": {
    "collapsed": true
   },
   "source": [
    "# Project Name\n",
    "#### [03/01/2018] | [Michael Allen] | [Sprint #7]\n",
    "#### Description\n",
    "1 to 2 sentence description. The first 5 Sections are mandatory. Free form after that, but there are a couple of suggested categories you can use. But really document however you feel the most comfortable.\n",
    "\n",
    "## Skill Backlog User Story\n",
    "As a [TKTKTK] I need [TKTKTK] So that [TKTKTK]\n",
    "\n",
    "## Project Proposal\n",
    "This is what I propose to do in this project and why I think it will be useful to me and my overall objective\n",
    "\n",
    "## Key Questions\n",
    "- Things I want to find out\n",
    "- Definitions I want to establish and clarify\n",
    "\n",
    "## Key Findings\n",
    "- A running list of things that I'm learning and don't want to forget\n",
    "\n",
    "## Gameplan\n",
    "Here is my overall approach \n",
    "1. To research content for survey design (Tuesday)(Likert/Scale of four/Net promoter score\n",
    "2. Create a five slide PowerPoint presentation (Tuesday)\n",
    "3. Research GitHub/Markdown for Presentation examples (Wednesday \n",
    "4. Add Content, new writing, and Formatting  \n",
    "\n",
    "---\n",
    "\n",
    "## Day 1 Work\n",
    "\n",
    "This is what I tried to do on Day 1. Here's some Code\n",
    "\n",
    "## Day 2 Work\n",
    "\n",
    "This is what I tried to do on Day 2. Here's some more code\n",
    "\n",
    "## Peer Feedback on Day 3\n",
    "\n",
    "After talking it over with Ben, I received the following feedback and decided to make these changes.  He suggested that I do the above GamePlan.\n",
    "\n",
    "## Here are some overall notes on the skills I learned\n",
    "And perhaps some stream of consciousness notes about what I did, and other questions I might have"
   ]
  },
  {
   "cell_type": "markdown",
   "metadata": {},
   "source": [
    "### Suggested Links from my Peers for this Sprint:"
   ]
  },
  {
   "cell_type": "markdown",
   "metadata": {
    "collapsed": true
   },
   "source": [
    "https://www.qualtrics.com/blog/10-tips-for-building-effective-surveys/  \n",
    "\n",
    "https://en.wikiversity.org/wiki/Survey_design\n",
    "\n",
    "https://www.surveygizmo.com/resources/blog/designing-surveys/\n",
    "\n",
    "https://uxmastery.com/successful-survey-design/\n",
    "\n",
    "http://www.pewresearch.org/methodology/u-s-survey-research/questionnaire-design/\n",
    "\n",
    "https://www.surveymonkey.com/mp/survey-types/?ut_source=header\n",
    "\n",
    "https://www.surveymonkey.com/mp/academic-surveys/?ut_source=header\n",
    "\n",
    "https://www.qualtrics.com/blog/top-10-survey-pitfalls/\n",
    "\n",
    "https://www.surveymonkey.com/mp/quiz/?ut_source=header\n",
    "\n",
    "https://scholar.google.com/scholar?q=survey+design+research&hl=en&as_sdt=0&as_vis=1&oi=scholart&sa=X&ved=0ahUKEwjux-um6MzZAhWC71MKHX4IDYEQgQMIJzAA\n",
    "\n",
    "https://www.google.com/search?q=video+tutorial+on+survey+design&oq=video+tutorial+on+survey+design&aqs=chrome..69i57.41175j0j7&sourceid=chrome&ie=UTF-8\n",
    "\n",
    "https://github.com/AndreiD/surveylib\n",
    "\n",
    "\n",
    "    \n",
    "    "
   ]
  },
  {
   "cell_type": "code",
   "execution_count": null,
   "metadata": {
    "collapsed": true
   },
   "outputs": [],
   "source": []
  },
  {
   "cell_type": "code",
   "execution_count": null,
   "metadata": {
    "collapsed": true
   },
   "outputs": [],
   "source": []
  }
 ],
 "metadata": {
  "kernelspec": {
   "display_name": "Python 3",
   "language": "python",
   "name": "python3"
  },
  "language_info": {
   "codemirror_mode": {
    "name": "ipython",
    "version": 3
   },
   "file_extension": ".py",
   "mimetype": "text/x-python",
   "name": "python",
   "nbconvert_exporter": "python",
   "pygments_lexer": "ipython3",
   "version": "3.6.3"
  }
 },
 "nbformat": 4,
 "nbformat_minor": 2
}
