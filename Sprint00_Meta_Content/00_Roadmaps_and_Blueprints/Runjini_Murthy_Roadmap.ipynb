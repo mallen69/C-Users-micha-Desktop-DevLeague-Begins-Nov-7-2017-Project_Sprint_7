{
 "cells": [
  {
   "cell_type": "markdown",
   "metadata": {},
   "source": [
    "# Runjini Murthy Roadmap"
   ]
  },
  {
   "cell_type": "markdown",
   "metadata": {},
   "source": [
    "### Init Day Statements\n",
    "|||\n",
    "|:----|:----|\n",
    "|**I enrolled in this class**|to make a career change and transition out of marketing.|\n",
    "|**I am most worried about**|making enough money, and relatedly, being gainfully employed in the future. Also, robots.|\n",
    "|**I learn best**|with clear instruction, case studies/examples, replicating examples, and then tackling new problems on my own in a hands-on way.|\n",
    "|**I am most excited about**|learning SQL and Tableau, as these skills come up most commonly in the jobs I hope to apply to.|\n",
    "|**After this class I hope to**|transition to a marketing analyst role.|\n",
    "|**My dream job is**|retirement! I don’t know what the actual job is yet, but I want flexibility in my schedule, feeling like I have tangible, in-demand skills, and that I produce actual outputs. Also, I want this job to pay well. :-)|\n",
    "\n",
    "### Expectations for Big Data Analyst Track\n",
    "*Articulate your expecations for this class in as much detail as you need. A response that is helpful to both you and your cohort may include statements such as:\n",
    "- *After this class I expect to be able to...* feel more comfortable in at least 1-2 languages or tools used in this field. I would like to be able to visualize data for both executive leadership as well as my own team to measure performance.  Stretch goals include a better understanding of statistics and how to build predictive models.\n",
    "- *I expect this classroom and environment to support my goals and objectives by...*  answering my questions and walking me through examples of using these tools. I expect a forum for us to discuss issues.  I expect to be able to gain a foundational understanding of the subject matter as a complete novice in the field.\n",
    "- *In reaching my goals, my coaches and cohort are responsible for...* introducing us to new concepts, being available to answer quesitons, and demonstrating examples for the class.\n",
    "- *In reaching my goals, I am responsible for...* understanding the concepts presented, delivering my sprint work on time, and being an active participant in class.\n",
    "\n",
    "\n",
    "### Expectations for Myself\n",
    "*Describe your objectives and vision for yourself, particularly as it pertains to the skills you will learn as part of this class*\n",
    "- *Here is how I envision my life will look after I complete this class:* I will be on the road to make a true career change. I expect I will need to start in more of an entry-level role, but I also expect to be far more comfortable in this realm than I am now. I ultimately want a remote position that gives me freedom and flexibility to live in Hawaii and on the West Coast, and I think a role in data analysis is one of the more realistic options for me given my previous experience and current interests.\n",
    "- *Here is how I envision myself after I complete this class:* I will have confidence in my tangible skills and programs.  I will be able to speak with reasonable confidence about the major subjects I hope to get out of this class: primarily one programming language and one visualization tool.\n",
    "- *This is the type of job I can imagine myself working in after I complete this class:* The first job I can realistically envision is a marketing analyst position.  Ultimately, I would like to transition out of marketing and do broader business analysis, or analysis for other industries.  A dream job would be working for a group like Pew or Gallup doing broad studies of the population or surveying populations on current events.  I am not entirely sure how this class could get me there, but I think it puts me closer than my current trajectory.\n",
    "- *This is what I would like to be doing 6 months after this class ends:* Have a new job focused on marketing data analysis.\n",
    "- *This is what I would like to be doing in 5 years:* Working as a data analytics consultant in a remote position.\n",
    "- *What I want most out of life is to... and this is supporting that desire:* I ultimately do not want to work. I want to spend time with my loved ones, read, exercise, and improve my health. As a non-billionaire, not working isn't a realistic option for me, so I need to find a position with minimal stress (the office politics and people conflict kind) and greater flexibility. One of my frustrations in my current job is feeling like I have a lack of tangible skills, and I feel like comfort in a programming language and learning a data visualization tool would be actual skills I could be proud of."
   ]
  },
  {
   "cell_type": "markdown",
   "metadata": {},
   "source": [
    "# Sprint 1: Data Formats and Terminology\n",
    "|Skill Story |Project|\n",
    "|:----|:----|\n",
    "|As a marketing analytics manager, I need to understand data formats so that I can compile data sets from multiple sources to do things like establish benchmarks for marketing and sales KPIs.|Since my company's data is not only confidential but generally stored as CSV, I would like to increase my knowledge and use of public source data.  I will do this by downloading public data on public art and farmers' markets, which are lifestyle interests of value to our customer base.  I also want to gain exposure to file formats beyond CSV (i.e. XML and JSON), and will convert CSVN files to XML and JSON in order to better understand the formatting and uses of the latter files.|"
   ]
  },
  {
   "cell_type": "markdown",
   "metadata": {},
   "source": [
    "### Sprint 2: Connecting to Data Sources\n",
    "|Skill Story |Project|\n",
    "|:----|:----|\n",
    "|As a budding data analyst, I need to be able to construct data models so I can structure the format of the database I'd like to query.| My project has three main components: One, I need to construct a data model to represent databases for movies and award categories.  Two, I need to build these databases in SQLite.  Three, I would like to be able to query the database(s) using SQL.|"
   ]
  },
  {
   "cell_type": "markdown",
   "metadata": {},
   "source": [
    "### Sprint 3: Data Operations\n",
    "|Skill Story |Project|\n",
    "|:----|:----|\n",
    "|As a furture marketing analyst, I need to be able to perform SQL queries to glean insights from a database. I would need to perform quick calculations (averages, max, min, subtotals), as well as surface filtered information for further campaign work (i.e. pull out a filtered group for an additional direct marketing piece). Additionally, I need to be able to perform these functions in R to develop querying skills in that program. |I have downloaded a wine review database of about 130,000 reviews from Kaggle. I aim to query this database in SQL, and then replicate those queries in R. I will need to upload the CSV files into SQLite Studio and RStudio. I need to determine all the queries I would like to perform. I would like to document my steps for each program, and draw parallels/equivalencies of the commands/functions in each program.|"
   ]
  },
  {
   "cell_type": "markdown",
   "metadata": {},
   "source": [
    "### Sprint 4: Data Manipulation Libraries and Tools\n",
    "|Skill Story |Project|\n",
    "|:----|:----|\n",
    "|As a budding marketing data analyst, I need to understand how to utilize R packages like Rfacebook so that I have a more efficient way to access the data and an alternate method to Excel to perform social media campaign analysis.|Using the Facebook API and the R package Rfacebook, I will extract Facebook post data for the Ward Village account for 2017.  I intend to answer the following questions: What time of day results in the most Facebook engagement (defined as likes, comments, and shares); How much website traffic does Facebook content generate; What kind of social media content drives the most Facebook engagement?|"
   ]
  },
  {
   "cell_type": "markdown",
   "metadata": {},
   "source": [
    "### Sprint 5: EDA - Summarizing and Describing \n",
    "|Skill Story |Project|\n",
    "|:----|:----|\n",
    "|As a future marketing data analyst, I need to understand how to perform exploratory data analysis on data sets that I may obtain from external sources. This will involve sketching out a process for discovery, outlining tools needed, and landing on a direction for further technical work.|To perform EDA, I will begin to explore a Lego product data set from Kaggle. This data set includes information on colors, parts, the size of sets, themes for the toys, and more. I would like to perform EDA to visualize this information to observe trends and potentially correlations.|"
   ]
  },
  {
   "cell_type": "markdown",
   "metadata": {},
   "source": [
    "### Sprint 6: EDA - Preliminary Findings and Hypotheses\n",
    "|Skill Story |Project|\n",
    "|:----|:----|\n",
    "|..................................................................................|..................................................................................|"
   ]
  },
  {
   "cell_type": "markdown",
   "metadata": {},
   "source": [
    "### Sprint 7: Sampling, Instruments and the Bias introduced by Both\n",
    "|Skill Story |Project|\n",
    "|:----|:----|\n",
    "|..................................................................................|..................................................................................|"
   ]
  },
  {
   "cell_type": "markdown",
   "metadata": {},
   "source": [
    "### Sprint 8: Implementing Tests\n",
    "|Skill Story |Project|\n",
    "|:----|:----|\n",
    "|..................................................................................|..................................................................................|"
   ]
  },
  {
   "cell_type": "markdown",
   "metadata": {},
   "source": [
    "### Sprint 9: Random/Stochastic Processes and Variables\n",
    "|Skill Story |Project|\n",
    "|:----|:----|\n",
    "|..................................................................................|..................................................................................|"
   ]
  },
  {
   "cell_type": "markdown",
   "metadata": {},
   "source": [
    "### Sprint 10: Applying Probability Models\n",
    "|Skill Story |Project|\n",
    "|:----|:----|\n",
    "|..................................................................................|..................................................................................|"
   ]
  },
  {
   "cell_type": "markdown",
   "metadata": {},
   "source": [
    "### Sprint 11: Population Estimates and Hypotheses\n",
    "|Skill Story |Project|\n",
    "|:----|:----|\n",
    "|..................................................................................|..................................................................................|"
   ]
  },
  {
   "cell_type": "markdown",
   "metadata": {},
   "source": [
    "### Sprint 12: Linear Regression Models\n",
    "|Skill Story |Project|\n",
    "|:----|:----|\n",
    "|..................................................................................|..................................................................................|"
   ]
  },
  {
   "cell_type": "markdown",
   "metadata": {},
   "source": [
    "### Sprint 13: Machine Learning Capabilities\n",
    "|Skill Story |Project|\n",
    "|:----|:----|\n",
    "|..................................................................................|..................................................................................|"
   ]
  },
  {
   "cell_type": "markdown",
   "metadata": {},
   "source": [
    "### Sprint 14: Machine Learning Optimization\n",
    "|Skill Story |Project|\n",
    "|:----|:----|\n",
    "|..................................................................................|..................................................................................|"
   ]
  },
  {
   "cell_type": "markdown",
   "metadata": {},
   "source": [
    "### Sprint 15: Sanitizing Data\n",
    "|Skill Story |Project|\n",
    "|:----|:----|\n",
    "|..................................................................................|..................................................................................|"
   ]
  },
  {
   "cell_type": "markdown",
   "metadata": {},
   "source": [
    "### Sprint 16: Securing Data\n",
    "|Skill Story |Project|\n",
    "|:----|:----|\n",
    "|..................................................................................|..................................................................................|"
   ]
  },
  {
   "cell_type": "markdown",
   "metadata": {},
   "source": [
    "### Sprint 17: Storing and Computing in the Cloud\n",
    "|Skill Story |Project|\n",
    "|:----|:----|\n",
    "|..................................................................................|..................................................................................|"
   ]
  },
  {
   "cell_type": "markdown",
   "metadata": {},
   "source": [
    "### Sprint 18: Performance\n",
    "|Skill Story |Project|\n",
    "|:----|:----|\n",
    "|..................................................................................|..................................................................................|"
   ]
  },
  {
   "cell_type": "markdown",
   "metadata": {},
   "source": [
    "### Sprint 19: Interactive Dashboards & Tools\n",
    "|Skill Story |Project|\n",
    "|:----|:----|\n",
    "|..................................................................................|..................................................................................|"
   ]
  },
  {
   "cell_type": "markdown",
   "metadata": {},
   "source": [
    "### Sprint 20: Integrated Analytical Tools\n",
    "|Skill Story |Project|\n",
    "|:----|:----|\n",
    "|..................................................................................|..................................................................................|"
   ]
  },
  {
   "cell_type": "code",
   "execution_count": null,
   "metadata": {
    "collapsed": true
   },
   "outputs": [],
   "source": []
  },
  {
   "cell_type": "code",
   "execution_count": null,
   "metadata": {
    "collapsed": true
   },
   "outputs": [],
   "source": []
  }
 ],
 "metadata": {
  "kernelspec": {
   "display_name": "Python 3",
   "language": "python",
   "name": "python3"
  },
  "language_info": {
   "codemirror_mode": {
    "name": "ipython",
    "version": 3
   },
   "file_extension": ".py",
   "mimetype": "text/x-python",
   "name": "python",
   "nbconvert_exporter": "python",
   "pygments_lexer": "ipython3",
   "version": "3.6.1"
  }
 },
 "nbformat": 4,
 "nbformat_minor": 2
}
