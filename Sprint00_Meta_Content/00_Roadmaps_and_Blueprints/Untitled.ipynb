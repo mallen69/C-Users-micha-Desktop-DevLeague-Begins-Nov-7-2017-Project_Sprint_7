{
 "cells": [
  {
   "cell_type": "markdown",
   "metadata": {},
   "source": [
    "# Hunter Heaivilin Roadmap"
   ]
  },
  {
   "cell_type": "markdown",
   "metadata": {},
   "source": [
    "## Init Day Statements\n",
    "|||\n",
    "|----|----|\n",
    "|**I enrolled in this class**|because my consulting and research will benefit from the skills covered.|\n",
    "|**I am most worried about**|my own potential economic migration|\n",
    "|**I learn best**|when involved with real world projects|\n",
    "|**I am most excited about**| machine learning because I humbly bow down to our robot overlords|\n",
    "|**After this class I hope to**| finish my PhD|\n",
    "|**My dream job is**|pretty much what I'm up to, just better paid|\n",
    "\n",
    "## Expectations for Big Data Analyst Track\n",
    "*After this class I expect to be able to...*\n",
    "\n",
    "*I expect this classroom and environment to support my goals and objectives by...*\n",
    "\n",
    "*I expect this classroom and environment to support my goals and objectives by...*\n",
    "\n",
    "*In reaching my goals, my coaches and cohort are responsible for...* \n",
    "\n",
    "*In reaching my goals, I am responsible for...* \n",
    "\n",
    "\n",
    "## Vision for Myself\n",
    "*Here is how I envision my life will look after I complete this class*\n",
    "\n",
    "*Here is how I envision myself after I complete this class*\n",
    "\n",
    "*What I want most out of life is to... and this is *"
   ]
  },
  {
   "cell_type": "markdown",
   "metadata": {},
   "source": [
    "## Sprint 1: Data Formats and Terminology\n",
    "|Skill Story |Project|\n",
    "|----|----|\n",
    "|As a modeler, I need to programmatically read, write, edit, and convert data files so that I can convert back and forth between data formats and make the data interact.|Learning how to programmatically read, write, edit, and convert data files so that I can convert back and forth between data formats.|"
   ]
  },
  {
   "cell_type": "markdown",
   "metadata": {},
   "source": [
    "## Project 1:"
   ]
  },
  {
   "cell_type": "code",
   "execution_count": null,
   "metadata": {
    "collapsed": true
   },
   "outputs": [],
   "source": []
  },
  {
   "cell_type": "code",
   "execution_count": null,
   "metadata": {
    "collapsed": true
   },
   "outputs": [],
   "source": []
  },
  {
   "cell_type": "code",
   "execution_count": null,
   "metadata": {
    "collapsed": true
   },
   "outputs": [],
   "source": []
  },
  {
   "cell_type": "code",
   "execution_count": null,
   "metadata": {
    "collapsed": true
   },
   "outputs": [],
   "source": []
  },
  {
   "cell_type": "code",
   "execution_count": null,
   "metadata": {
    "collapsed": true
   },
   "outputs": [],
   "source": []
  },
  {
   "cell_type": "code",
   "execution_count": null,
   "metadata": {
    "collapsed": true
   },
   "outputs": [],
   "source": []
  },
  {
   "cell_type": "code",
   "execution_count": null,
   "metadata": {
    "collapsed": true
   },
   "outputs": [],
   "source": []
  },
  {
   "cell_type": "code",
   "execution_count": null,
   "metadata": {
    "collapsed": true
   },
   "outputs": [],
   "source": []
  }
 ],
 "metadata": {
  "kernelspec": {
   "display_name": "Python 3",
   "language": "python",
   "name": "python3"
  },
  "language_info": {
   "codemirror_mode": {
    "name": "ipython",
    "version": 3
   },
   "file_extension": ".py",
   "mimetype": "text/x-python",
   "name": "python",
   "nbconvert_exporter": "python",
   "pygments_lexer": "ipython3",
   "version": "3.6.1"
  }
 },
 "nbformat": 4,
 "nbformat_minor": 2
}
