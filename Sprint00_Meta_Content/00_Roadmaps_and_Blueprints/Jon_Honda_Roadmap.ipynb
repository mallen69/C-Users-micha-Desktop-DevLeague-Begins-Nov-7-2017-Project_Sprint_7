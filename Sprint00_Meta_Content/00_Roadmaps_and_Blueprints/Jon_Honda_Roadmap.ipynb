{
 "cells": [
  {
   "cell_type": "markdown",
   "metadata": {},
   "source": [
    "# Jon Honda Roadmap"
   ]
  },
  {
   "cell_type": "markdown",
   "metadata": {},
   "source": [
    "### Init Day Statements\n",
    "|||\n",
    "|----:|:----|\n",
    "|**I enrolled in this class**|because I want to improve my ability to communicate analysis results at work - how I obtained them, what the results are saying.|\n",
    "|**I am most worried about**|not suceeding|\n",
    "|**I learn best**|when I am supported in my quest to answer question or complete project I'm working on|\n",
    "|**I am most excited about**| learning more about machine learning|\n",
    "|**After this class I hope to**| build a stock valuating system|\n",
    "|**My dream job is**|something in software development|\n",
    "\n",
    "### Expectations for Big Data Analyst Track\n",
    "*Articulate your expecations for this class in as much detail as you need. A response that is helpful to both you and your cohort may include statements such as:\n",
    "- *After this class I expect to be able to have an improved ability to explain how I obtained data analysis results. I also expect to have improved data analysis capabilities.*\n",
    "- *I expect this classroom and environment support my goals and objectives by providing a safe environment to take risks and fail.*\n",
    "- *I expect this classroom and environment to support my goals and objectives by challenging my data analysis methods and results.*\n",
    "- *In reaching my goals, my coaches and cohort are responsible for helping me understand concepts, providing constructive feedback when I'm wrong, celebrating with me when things go well! * \n",
    "- *In reaching my goals, I am responsible for pushing myself beyond my comfort zone, asking for guidance when I'm super lost.* \n",
    "\n",
    "\n",
    "### Expectations for Myself\n",
    "*Describe your objectives and vision for yourself, particularly as it pertains to the skills you will learn as part of this class*\n",
    "- *After this class, I envision I will have a lot more free time after work. Maybe working at home on my company valuation models so I can get rich and do fun stuff like hike and climb mountains all year.*\n",
    "- *After this class, I envision that I will have refined my understanding of data analysis techniques, have connected previously disparate things I've learned on my own, learned new modern ways to code and work with data.*\n",
    "- *I think I will be able to do more data analysis for my main client. Lots of water quality data needs to be made sense of.*\n",
    "- *I think I will be able to run massive simulations at work on water quality data sets - especially trying to run scenarios to find good solutions for my client's water quality problems.*\n",
    "- *This is what I would like to be doing 6 months after this class ends: Presenting ideal solutions based on analysis to my client.*\n",
    "- *This is what I would like to be doing in 5 years: playing with my company valuation models*\n",
    "- *What I want most out of life is to not feel so bound to my current career and this is supporting that desire by giving me more confidence that I could change careers to something more data analysis driven.*"
   ]
  },
  {
   "cell_type": "markdown",
   "metadata": {},
   "source": [
    "### Sprint 1: Data Formats and Terminology\n",
    "|Skill Story |Project|\n",
    "|:----|:----|\n",
    "|As a financial analysis data engineer, I need to understand the structure and format of web-based financial information and news stories, so that I can extract it and use it to identify interesting trends.|I will explore how various web sites encode news articles using HTML tags. I will then explore various python libraries available to scrape these tags. I will then attempt to write a python script that writes the scraped information into various data formats (JSON/CSV/XML).|"
   ]
  },
  {
   "cell_type": "markdown",
   "metadata": {},
   "source": [
    "### Sprint 2: Connecting to Data Sources\n",
    "|Skill Story |Project|\n",
    "|:----|:----|\n",
    "|As a financial analyst I need to be able to retrieve and store web based market price data so that I can run analyses on the collected data.| I will work with the Quandl API to retrieve daily closing metal commodity price and mining stock price data. I will build a SQLite database model to store the data. I will build several SQL SELECT commands to get different data reports from the database.|"
   ]
  },
  {
   "cell_type": "markdown",
   "metadata": {},
   "source": [
    "### Sprint 3: Data Operations\n",
    "|Skill Story |Project|\n",
    "|:----|:----|\n",
    "|As a data engineer working on a database to store math expressions, I need to understand how data serialization speeds up code developement so that I can rapidly develop a solution for storing and retrieving the variable attributes that define the database table/field location holding the variable's value.  | I will serialize variable data using python pickling. The expressions, variable, and serialized variable data will be stored in a SQLite database. I will \"depickle\" the data and retrieve the table/field that a variable's value is located in|"
   ]
  },
  {
   "cell_type": "markdown",
   "metadata": {},
   "source": [
    "### Sprint 4: Data Manipulation Libraries and Tools\n",
    "|Skill Story |Project|\n",
    "|:----|:----|\n",
    "|As a data engineer trying to efficiently write readable code, I need to develop the ability to rapidly identify if and how libraries can help my solution, and then select from the often wide variety of similar libraries.|I will search for libary options, evaluate the options for my need-fitness, decide if a library should be implemented, and then implement the selected libary for the following problems: *-Can object relational mapping (ORM) (SQLAlchemy) help simplify SQL coding aspects of my solution? How to work with python modules to separate ORM code from \"main\" code?|"
   ]
  },
  {
   "cell_type": "markdown",
   "metadata": {},
   "source": [
    "### Sprint 5: EDA - Summarizing and Describing \n",
    "|Skill Story |Project|\n",
    "|:----|:----|\n",
    "|As a data engineer, I need to better understand how valid data in data set is, how valid associations presented in data are (e.g. time series linked data: are time series truly the same? did someone make an error in creating the data? |I will find a data set that has some background information on how data was collected. I will research and develop my own methods to assess data validity and uncertainty. I will work with tools to assess the data validity.|"
   ]
  },
  {
   "cell_type": "markdown",
   "metadata": {},
   "source": [
    "### Sprint 6: EDA - Preliminary Findings and Hypotheses\n",
    "|Skill Story |Project|\n",
    "|:----|:----|\n",
    "|As a researcher, I need to produce statistical summaries, charts, and dashboards that communicate how variables in my data set relate to each other, so that I can develop hypotheses to guide my analysis|..................................................................................||"
   ]
  },
  {
   "cell_type": "markdown",
   "metadata": {},
   "source": [
    "### Sprint 7: Sampling, Instruments and the Bias introduced by Both\n",
    "|Skill Story |Project|\n",
    "|:----|:----|\n",
    "|As a statistical modeler, I need to design and implement valid data collection instruments so that my analyses doesn't inadvertently introducing bias|..................................................................................|"
   ]
  },
  {
   "cell_type": "markdown",
   "metadata": {},
   "source": [
    "### Sprint 8: Implementing Tests\n",
    "|Skill Story |Project|\n",
    "|:----|:----|\n",
    "|As a researcher, I need to understand how to implement experiment-driven algorithms such as A/B testing and Epsilon Greedy) so that I can isolate factors and design appropriate experiments|..................................................................................|"
   ]
  },
  {
   "cell_type": "markdown",
   "metadata": {},
   "source": [
    "### Sprint 9: Random/Stochastic Processes and Variables\n",
    "|Skill Story |Project|\n",
    "|:----|:----|\n",
    "|..................................................................................|..................................................................................|"
   ]
  },
  {
   "cell_type": "markdown",
   "metadata": {},
   "source": [
    "### Sprint 10: Applying Probability Models\n",
    "|Skill Story |Project|\n",
    "|:----|:----|\n",
    "|..................................................................................|..................................................................................|"
   ]
  },
  {
   "cell_type": "markdown",
   "metadata": {},
   "source": [
    "### Sprint 11: Population Estimates and Hypotheses\n",
    "|Skill Story |Project|\n",
    "|:----|:----|\n",
    "|..................................................................................|..................................................................................|"
   ]
  },
  {
   "cell_type": "markdown",
   "metadata": {},
   "source": [
    "### Sprint 12: Linear Regression Models\n",
    "|Skill Story |Project|\n",
    "|:----|:----|\n",
    "|..................................................................................|..................................................................................|"
   ]
  },
  {
   "cell_type": "markdown",
   "metadata": {},
   "source": [
    "### Sprint 13: Machine Learning Capabilities\n",
    "|Skill Story |Project|\n",
    "|:----|:----|\n",
    "|..................................................................................|..................................................................................|"
   ]
  },
  {
   "cell_type": "markdown",
   "metadata": {},
   "source": [
    "### Sprint 14: Machine Learning Optimization\n",
    "|Skill Story |Project|\n",
    "|:----|:----|\n",
    "|..................................................................................|..................................................................................|"
   ]
  },
  {
   "cell_type": "markdown",
   "metadata": {},
   "source": [
    "### Sprint 15: Sanitizing Data\n",
    "|Skill Story |Project|\n",
    "|:----|:----|\n",
    "|..................................................................................|..................................................................................|"
   ]
  },
  {
   "cell_type": "markdown",
   "metadata": {},
   "source": [
    "### Sprint 16: Securing Data\n",
    "|Skill Story |Project|\n",
    "|:----|:----|\n",
    "|..................................................................................|..................................................................................|"
   ]
  },
  {
   "cell_type": "markdown",
   "metadata": {},
   "source": [
    "### Sprint 17: Storing and Computing in the Cloud\n",
    "|Skill Story |Project|\n",
    "|:----|:----|\n",
    "|..................................................................................|..................................................................................|"
   ]
  },
  {
   "cell_type": "markdown",
   "metadata": {},
   "source": [
    "### Sprint 18: Performance\n",
    "|Skill Story |Project|\n",
    "|:----|:----|\n",
    "|..................................................................................|..................................................................................|"
   ]
  },
  {
   "cell_type": "markdown",
   "metadata": {},
   "source": [
    "### Sprint 19: Interactive Dashboards & Tools\n",
    "|Skill Story |Project|\n",
    "|:----|:----|\n",
    "|..................................................................................|..................................................................................|"
   ]
  },
  {
   "cell_type": "markdown",
   "metadata": {},
   "source": [
    "### Sprint 20: Integrated Analytical Tools\n",
    "|Skill Story |Project|\n",
    "|:----|:----|\n",
    "|..................................................................................|..................................................................................|"
   ]
  }
 ],
 "metadata": {
  "kernelspec": {
   "display_name": "Python 3",
   "language": "python",
   "name": "python3"
  },
  "language_info": {
   "codemirror_mode": {
    "name": "ipython",
    "version": 3
   },
   "file_extension": ".py",
   "mimetype": "text/x-python",
   "name": "python",
   "nbconvert_exporter": "python",
   "pygments_lexer": "ipython3",
   "version": "3.6.3"
  }
 },
 "nbformat": 4,
 "nbformat_minor": 2
}
