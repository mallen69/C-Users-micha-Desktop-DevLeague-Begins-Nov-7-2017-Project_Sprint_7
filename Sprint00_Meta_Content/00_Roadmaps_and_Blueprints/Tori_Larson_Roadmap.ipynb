{
 "cells": [
  {
   "cell_type": "markdown",
   "metadata": {},
   "source": [
    "# Tori Larson Roadmap"
   ]
  },
  {
   "cell_type": "markdown",
   "metadata": {},
   "source": [
    "### Init Day Statements\n",
    "|||\n",
    "|----:|:----|\n",
    "|**I enrolled in this class**|So Ben and I will eventually be able to work with each other .|\n",
    "|**I am most worried about**|Flipping over the handle bars on my bike.|\n",
    "|**I learn best**|I am able to have hands on experience with the content|\n",
    "|**I am most excited about**|The opportunity that taking this class creates|\n",
    "|**After this class I hope to**| Freelance and work with Ben|\n",
    "|**My dream job is**|Work while being able to travel the world|\n",
    "\n",
    "### Expectations for Big Data Analyst Track\n",
    "*Articulate your expecations for this class in as much detail as you need. A response that is helpful to both you and your cohort may include statements such as:\n",
    "- *I would like to add on to this portion as I go.\n",
    "    - After this class I expect to be able to convert CSV, XML, and JSON into differenct file formats in order to use them more efficiently*\n",
    "        - *After this class I would like to be able to import information to SQL *\n",
    "        - *I expect this classroom and environment to support my goals and objectives by...\n",
    "    - Giving me feedback \n",
    "    - Partner up with others so i can learn more\n",
    "    - To be pushed by my classmates\n",
    "\n",
    "- *In reaching my goals, my coaches and cohort are responsible for...*\n",
    "    - More to come. \n",
    "- *In reaching my goals, I am responsible for...*\n",
    "    - Doing the work when it is assigned. \n",
    "    - Not getting discouraged when I when I could otherwise get discouraged\n",
    "\n",
    "\n",
    "### Expectations for Myself\n",
    "*Describe your objectives and vision for yourself, particularly as it pertains to the skills you will learn as part of this class*\n",
    "- *Here is how I envision my life will look after I complete this class*\n",
    "    - Being able to freelance or work more closely with Ben.\n",
    "- *Here is how I envision myself after I complete this class*\n",
    "    - Being more confident dealing with data. Knowing about data at all.\n",
    "- *This is the type of job I can imagine myself working in after I complete this class*\n",
    "    - Analyzing companies data sets in order to make the company run more efficiently or save them money.\n",
    "- *This is what I would like to be doing 6 months after this class ends*\n",
    "    - Seeing how this work applies to my HR career.\n",
    "- *This is what I would like to be doing in 5 years*\n",
    "    - Working with Ben freelancing. \n",
    "- *What I want most out of life is to... and this is supporting that desire*\n",
    "    - More to come..."
   ]
  },
  {
   "cell_type": "markdown",
   "metadata": {},
   "source": [
    "### Sprint 1: Data Formats and Terminology\n",
    "|Skill Story |Project|\n",
    "|:----|:----|\n",
    "|As a prospective data analyst I need to understand data files so I can use them in the correct programs.|The purpose of this project was to create a better understanding in working with CSV, JSON, and XML files so when working with future projects I understand the file types I am working with.|"
   ]
  },
  {
   "cell_type": "markdown",
   "metadata": {},
   "source": [
    "### Sprint 2: Connecting to Data Sources\n",
    "|Skill Story |Project|\n",
    "|:----|:----|\n",
    "|As a researcher, I need to understand SQL so that I can work with larger amounts of data more efficiently.|  In this project I learned the basics of SQLite and what the possibilties are when using it.|"
   ]
  },
  {
   "cell_type": "markdown",
   "metadata": {},
   "source": [
    "### Sprint 3: Data Operations\n",
    "|Skill Story |Project|\n",
    "|:----|:----|\n",
    "|As a future freelancer I need to be able to upload and manipulate data into SQL & R so that I can answer questions about the data more efficiently. I would also like to gather insights that wouldnt be availiable using excel. | For my project in the Data Operations sprint I will be uploading survery data from HART and uploading it in SQL and in R. Since I already have some previous knowledge in SQL I would like to continue importing data and learning new things. I would also like to run some more advanced queries with SQL to see what information is availiable. In dealing with R I would like to learn the basics do an intro to R. I would also like to run some similar queries as I did in SQL to compare and contrast the two. |"
   ]
  },
  {
   "cell_type": "markdown",
   "metadata": {},
   "source": [
    "### Sprint 4: Data Manipulation Libraries and Tools\n",
    "|Skill Story |Project|\n",
    "|:----|:----|\n",
    "|As a statistical modeler, I need to understand the NumPy arrays and Pandas / R dataframes so I can supply data to algorithms, fit models, etc| ..................................................................................|"
   ]
  },
  {
   "cell_type": "markdown",
   "metadata": {},
   "source": [
    "### Sprint 5: EDA - Summarizing and Describing \n",
    "|Skill Story |Project|\n",
    "|:----|:----|\n",
    "|As a statistical modeler, I need to produce basic visual plots and summary statistics of the central tendencies and range of my data set so that I can develop an intuition for and a familiarity with my data set|..................................................................................|"
   ]
  },
  {
   "cell_type": "markdown",
   "metadata": {},
   "source": [
    "### Sprint 6: EDA - Preliminary Findings and Hypotheses\n",
    "|Skill Story |Project|\n",
    "|:----|:----|\n",
    "|As a researcher, I need to produce statistical summaries, charts, and dashboards that communicate how variables in my data set relate to each other, so that I can develop hypotheses to guide my analysis|..................................................................................||"
   ]
  },
  {
   "cell_type": "markdown",
   "metadata": {},
   "source": [
    "### Sprint 7: Sampling, Instruments and the Bias introduced by Both\n",
    "|Skill Story |Project|\n",
    "|:----|:----|\n",
    "|As a statistical modeler, I need to design and implement valid data collection instruments so that my analyses doesn't inadvertently introducing bias|..................................................................................|"
   ]
  },
  {
   "cell_type": "markdown",
   "metadata": {},
   "source": [
    "### Sprint 8: Implementing Tests\n",
    "|Skill Story |Project|\n",
    "|:----|:----|\n",
    "|As a researcher, I need to understand how to implement experiment-driven algorithms such as A/B testing and Epsilon Greedy) so that I can isolate factors and design appropriate experiments|..................................................................................|"
   ]
  },
  {
   "cell_type": "markdown",
   "metadata": {},
   "source": [
    "### Sprint 9: Random/Stochastic Processes and Variables\n",
    "|Skill Story |Project|\n",
    "|:----|:----|\n",
    "|..................................................................................|..................................................................................|"
   ]
  },
  {
   "cell_type": "markdown",
   "metadata": {},
   "source": [
    "### Sprint 10: Applying Probability Models\n",
    "|Skill Story |Project|\n",
    "|:----|:----|\n",
    "|..................................................................................|..................................................................................|"
   ]
  },
  {
   "cell_type": "markdown",
   "metadata": {},
   "source": [
    "### Sprint 11: Population Estimates and Hypotheses\n",
    "|Skill Story |Project|\n",
    "|:----|:----|\n",
    "|..................................................................................|..................................................................................|"
   ]
  },
  {
   "cell_type": "markdown",
   "metadata": {},
   "source": [
    "### Sprint 12: Linear Regression Models\n",
    "|Skill Story |Project|\n",
    "|:----|:----|\n",
    "|..................................................................................|..................................................................................|"
   ]
  },
  {
   "cell_type": "markdown",
   "metadata": {},
   "source": [
    "### Sprint 13: Machine Learning Capabilities\n",
    "|Skill Story |Project|\n",
    "|:----|:----|\n",
    "|..................................................................................|..................................................................................|"
   ]
  },
  {
   "cell_type": "markdown",
   "metadata": {},
   "source": [
    "### Sprint 14: Machine Learning Optimization\n",
    "|Skill Story |Project|\n",
    "|:----|:----|\n",
    "|..................................................................................|..................................................................................|"
   ]
  },
  {
   "cell_type": "markdown",
   "metadata": {},
   "source": [
    "### Sprint 15: Sanitizing Data\n",
    "|Skill Story |Project|\n",
    "|:----|:----|\n",
    "|..................................................................................|..................................................................................|"
   ]
  },
  {
   "cell_type": "markdown",
   "metadata": {},
   "source": [
    "### Sprint 16: Securing Data\n",
    "|Skill Story |Project|\n",
    "|:----|:----|\n",
    "|..................................................................................|..................................................................................|"
   ]
  },
  {
   "cell_type": "markdown",
   "metadata": {},
   "source": [
    "### Sprint 17: Storing and Computing in the Cloud\n",
    "|Skill Story |Project|\n",
    "|:----|:----|\n",
    "|..................................................................................|..................................................................................|"
   ]
  },
  {
   "cell_type": "markdown",
   "metadata": {},
   "source": [
    "### Sprint 18: Performance\n",
    "|Skill Story |Project|\n",
    "|:----|:----|\n",
    "|..................................................................................|..................................................................................|"
   ]
  },
  {
   "cell_type": "markdown",
   "metadata": {},
   "source": [
    "### Sprint 19: Interactive Dashboards & Tools\n",
    "|Skill Story |Project|\n",
    "|:----|:----|\n",
    "|..................................................................................|..................................................................................|"
   ]
  },
  {
   "cell_type": "markdown",
   "metadata": {},
   "source": [
    "### Sprint 20: Integrated Analytical Tools\n",
    "|Skill Story |Project|\n",
    "|:----|:----|\n",
    "|..................................................................................|..................................................................................|"
   ]
  }
 ],
 "metadata": {
  "kernelspec": {
   "display_name": "Python 3",
   "language": "python",
   "name": "python3"
  },
  "language_info": {
   "codemirror_mode": {
    "name": "ipython",
    "version": 3
   },
   "file_extension": ".py",
   "mimetype": "text/x-python",
   "name": "python",
   "nbconvert_exporter": "python",
   "pygments_lexer": "ipython3",
   "version": "3.6.1"
  }
 },
 "nbformat": 4,
 "nbformat_minor": 2
}
