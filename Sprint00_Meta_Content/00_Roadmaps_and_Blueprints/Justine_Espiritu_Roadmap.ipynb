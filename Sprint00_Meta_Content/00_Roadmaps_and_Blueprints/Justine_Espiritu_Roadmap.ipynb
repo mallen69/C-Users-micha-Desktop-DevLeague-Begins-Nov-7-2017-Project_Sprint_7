{
 "cells": [
  {
   "cell_type": "markdown",
   "metadata": {},
   "source": [
    "# Justine Espiritu Roadmap"
   ]
  },
  {
   "cell_type": "markdown",
   "metadata": {},
   "source": [
    "### Init Day Statements\n",
    "|||\n",
    "|----:|:----|\n",
    "|**I enrolled in this class**|so I could learn skills that my employer will benefit from having in house, and increasing my value to my current and future employers.|\n",
    "|**I am most worried about**|not being able to communicate what i've leanred and the value of the class to my employer.|\n",
    "|**I learn best**|when there are a lot of examples and I can work things out with a well infomred person supervising me.|\n",
    "|**I am most excited about**|visualizing data so that fascinating and importatnt things can be communicated quickly and effectively. |\n",
    "|**After this class I hope to**| be a more well-rounded person/employee.|\n",
    "|**My dream job is**|flexible, allows me to make my own schedule, and is collaborative with other industries and organizations, and doesn't feel like work.|\n",
    "\n",
    "### Expectations for Big Data Analyst Track\n",
    "*Articulate your expecations for this class in as much detail as you need. A response that is helpful to both you and your cohort may include statements such as:\n",
    "- *After this class I expect to be able to...* understand more coding and programming vocabulary and community, understand more about the purpose and value of different programs we use, understand how to engage with our own data more .\n",
    "- *I expect this classroom and environment to support my goals and objectives by...* explaining things clearly, giving clear instructions and examples, being patient with my lack of experience.\n",
    "- *In reaching my goals, my coaches and cohort are responsible for...* providing a supportive learning environment.\n",
    "- *In reaching my goals, I am responsible for...* asking for calrity, showing up, doing all assigned work to the best of my understanding and ability, making extra time and effort when I don't feel like I get it.\n",
    "\n",
    "\n",
    "### Expectations for Myself\n",
    "*Describe your objectives and vision for yourself, particularly as it pertains to the skills you will learn as part of this class*\n", My objective is to retain a basic understanding of what programs support data analysis so that I can be an informed advisor or manager to these tasks as our organization and data grows and becomes more relvenet to ourselves and our community
    "- *Here is how I envision my life will look after I complete this class:* MK I will be able to ask for hire pay in any new organizations or industry I apply into.\n",
    "- *Here is how I envision myself after I complete this class:*  I will feel like an informed and competent person in conversations and projects related to data analysis and coding and programming in general.\n",
    "- *This is the type of job I can imagine myself working in after I complete this class:* I'd like to stay in a mission-based organization.\n",
    "- *This is what I would like to be doing 6 months after this class ends:* asking for more raises, producing a tangible benefit to my copany for funding this course.\n",
    "- *This is what I would like to be doing in 5 years:* Sleeping 8 hours a night, reading a lot, surfing and yoga every day, feeling calm, secure, and fulfilled in my work and career\n",
    "- *What I want most out of life is to... and this is supporting that desire:* What I want most out of life is to take advantage of rare and unique opportunities, and being open despite feelings of inadequacy and incompetency and isolation is supporting that desire because I feel down and fearful but do things anyway."
   ]
  },
  {
   "cell_type": "markdown",
   "metadata": {},
   "source": [
    "### Sprint 1: Data Formats and Terminology\n",
    "|Skill Story |Project|\n",
    "|:----|:----|\n",
    "|As a Fantasy Football team owner, I need to compile relevant data that helps predict weekly player performance into one place so that I can create a predictive statistical model that helps me win.|Using RStudio (rvest) to scrape data off of a website.|"
   ]
  },
  {
   "cell_type": "markdown",
   "metadata": {},
   "source": [
    "### Sprint 2: Connecting to Data Sources\n",
    "|Skill Story |Project|\n",
    "|:----|:----|\n",
    "|As a researcher, I need to understand command line-based applications, basic scripting, databases, web resources, APIs, and data warehouses so that I can download data from websites, connect to and query databases, interface with APIs, and web scrape.| ..................................................................................|"
   ]
  },
  {
   "cell_type": "markdown",
   "metadata": {},
   "source": [
    "### Sprint 3: Data Operations\n",
    "|Skill Story |Project|\n",
    "|:----|:----|\n",
    "|..................................................................................|..................................................................................|"
   ]
  },
  {
   "cell_type": "markdown",
   "metadata": {},
   "source": [
    "### Sprint 4: Data Manipulation Libraries and Tools\n",
    "|Skill Story |Project|\n",
    "|:----|:----|\n",
    "|..................................................................................|..................................................................................|"
   ]
  },
  {
   "cell_type": "markdown",
   "metadata": {},
   "source": [
    "### Sprint 5: EDA - Summarizing and Describing \n",
    "|Skill Story |Project|\n",
    "|:----|:----|\n",
    "|..................................................................................|..................................................................................|"
   ]
  },
  {
   "cell_type": "markdown",
   "metadata": {},
   "source": [
    "### Sprint 6: EDA - Preliminary Findings and Hypotheses\n",
    "|Skill Story |Project|\n",
    "|:----|:----|\n",
    "|..................................................................................|..................................................................................|"
   ]
  },
  {
   "cell_type": "markdown",
   "metadata": {},
   "source": [
    "### Sprint 7: Sampling, Instruments and the Bias introduced by Both\n",
    "|Skill Story |Project|\n",
    "|:----|:----|\n",
    "|..................................................................................|..................................................................................|"
   ]
  },
  {
   "cell_type": "markdown",
   "metadata": {},
   "source": [
    "### Sprint 8: Implementing Tests\n",
    "|Skill Story |Project|\n",
    "|:----|:----|\n",
    "|..................................................................................|..................................................................................|"
   ]
  },
  {
   "cell_type": "markdown",
   "metadata": {},
   "source": [
    "### Sprint 9: Random/Stochastic Processes and Variables\n",
    "|Skill Story |Project|\n",
    "|:----|:----|\n",
    "|..................................................................................|..................................................................................|"
   ]
  },
  {
   "cell_type": "markdown",
   "metadata": {},
   "source": [
    "### Sprint 10: Applying Probability Models\n",
    "|Skill Story |Project|\n",
    "|:----|:----|\n",
    "|..................................................................................|..................................................................................|"
   ]
  },
  {
   "cell_type": "markdown",
   "metadata": {},
   "source": [
    "### Sprint 11: Population Estimates and Hypotheses\n",
    "|Skill Story |Project|\n",
    "|:----|:----|\n",
    "|..................................................................................|..................................................................................|"
   ]
  },
  {
   "cell_type": "markdown",
   "metadata": {},
   "source": [
    "### Sprint 12: Linear Regression Models\n",
    "|Skill Story |Project|\n",
    "|:----|:----|\n",
    "|..................................................................................|..................................................................................|"
   ]
  },
  {
   "cell_type": "markdown",
   "metadata": {},
   "source": [
    "### Sprint 13: Machine Learning Capabilities\n",
    "|Skill Story |Project|\n",
    "|:----|:----|\n",
    "|..................................................................................|..................................................................................|"
   ]
  },
  {
   "cell_type": "markdown",
   "metadata": {},
   "source": [
    "### Sprint 14: Machine Learning Optimization\n",
    "|Skill Story |Project|\n",
    "|:----|:----|\n",
    "|..................................................................................|..................................................................................|"
   ]
  },
  {
   "cell_type": "markdown",
   "metadata": {},
   "source": [
    "### Sprint 15: Sanitizing Data\n",
    "|Skill Story |Project|\n",
    "|:----|:----|\n",
    "|..................................................................................|..................................................................................|"
   ]
  },
  {
   "cell_type": "markdown",
   "metadata": {},
   "source": [
    "### Sprint 16: Securing Data\n",
    "|Skill Story |Project|\n",
    "|:----|:----|\n",
    "|..................................................................................|..................................................................................|"
   ]
  },
  {
   "cell_type": "markdown",
   "metadata": {},
   "source": [
    "### Sprint 17: Storing and Computing in the Cloud\n",
    "|Skill Story |Project|\n",
    "|:----|:----|\n",
    "|..................................................................................|..................................................................................|"
   ]
  },
  {
   "cell_type": "markdown",
   "metadata": {},
   "source": [
    "### Sprint 18: Performance\n",
    "|Skill Story |Project|\n",
    "|:----|:----|\n",
    "|..................................................................................|..................................................................................|"
   ]
  },
  {
   "cell_type": "markdown",
   "metadata": {},
   "source": [
    "### Sprint 19: Interactive Dashboards & Tools\n",
    "|Skill Story |Project|\n",
    "|:----|:----|\n",
    "|..................................................................................|..................................................................................|"
   ]
  },
  {
   "cell_type": "markdown",
   "metadata": {},
   "source": [
    "### Sprint 20: Integrated Analytical Tools\n",
    "|Skill Story |Project|\n",
    "|:----|:----|\n",
    "|..................................................................................|..................................................................................|"
   ]
  },
  {
   "cell_type": "code",
   "execution_count": null,
   "metadata": {
    "collapsed": true
   },
   "outputs": [],
   "source": []
  },
  {
   "cell_type": "code",
   "execution_count": null,
   "metadata": {
    "collapsed": true
   },
   "outputs": [],
   "source": []
  }
 ],
 "metadata": {
  "kernelspec": {
   "display_name": "Python 3",
   "language": "python",
   "name": "python3"
  },
  "language_info": {
   "codemirror_mode": {
    "name": "ipython",
    "version": 3
   },
   "file_extension": ".py",
   "mimetype": "text/x-python",
   "name": "python",
   "nbconvert_exporter": "python",
   "pygments_lexer": "ipython3",
   "version": "3.6.1"
  }
 },
 "nbformat": 4,
 "nbformat_minor": 2
}
