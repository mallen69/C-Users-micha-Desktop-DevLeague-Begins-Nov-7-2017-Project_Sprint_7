{
 "cells": [
  {
   "cell_type": "markdown",
   "metadata": {},
   "source": [
    "# Justine Espiritu Roadmap"
   ]
  },
  {
   "cell_type": "markdown",
   "metadata": {},
   "source": [
    "### Init Day Statements\n",
    "|||\n",
    "|----:|:----|\n",
    "|**I enrolled in this class**|so I could learn skills that my employer will benefit from having in house, and increasing my value to my current and future employers.|\n",
    "|**I am most worried about**|not being able to communicate what i've leanred and the value of the class to my employer|\n",
    "|**I learn best**|when there are a lot of examples and I can work things out with a well infomred person supervising me|\n",
    "|**I am most excited about**|visualizing data so that fascinating and importatnt things can be communicated quickly and effectively.|\n",
    "|**After this class I hope to**|be a more well-rounded person/employee.|\n",
    "|**My dream job is**|flexible, allows me to make my own schedule, and is collaborative with other industries and organizations, and doesn't feel like work.|\n",
    "\n",
    "### Expectations for Big Data Analyst Track\n",
    "Articulate your expecations for this class in as much detail as you need. A response that is helpful to both you and your cohort may include statements such as:\n",
    "- *After this class I expect to be able to understand more coding and programming vocabulary and community, understand more about the purpose and value of different programs we use, understand how to engage with our own data more.*\n",
    "- *I expect this classroom and environment to support my goals and objectives by explaining things clearly, giving clear instructions and examples, being patient with my lack of experience.*\n",
    "- *In reaching my goals, my coaches and cohort are responsible for providing a supportive learning environment.* \n",
    "- *In reaching my goals, I am responsible for asking for calrity, showing up, doing all assigned work to the best of my understanding and ability, making extra time and effort when I don't feel like I get it.* \n",
    "\n",
    "\n",
    "### Expectations for Myself\n",
    "Describe your objectives and vision for yourself, particularly as it pertains to the skills you will learn as part of this class\n",
    "- *My objective is to retain a basic understanding of what programs support data analysis so that I can be an informed adviser or manager to these tasks as our organization and data grows and becomes more relevent to ourselves and our community*\n",
    "- *Here is how I envision my life will look after I complete this class: I will be able to command a higher salary within my current job, get a cooler title, and ask for higher pay in any new organizations or industry I apply into, and I present myself as someone who takes initiative and challenges myself for the benefit of the organizations I work for.*\n",
    "- *Here is how I envision myself after I complete this class:  I will feel like an informed and competent person in conversations and projects related to data analysis and coding and programming in general.*\n",
    "- *This is the type of job I can imagine myself working in after I complete this class: I'd like to stay in a mission-based organization.*\n",
    "- *This is what I would like to be doing 6 months after this class ends: asking for more raises, producing a tangible benefit to my company for funding this course.*\n",
    "- *This is what I would like to be doing in 5 years: Sleeping 8 hours a night, reading a lot, not letting work interfere with surfing and yoga, feeling calm, secure, effecient and fulfilled in my work and career*\n",
    "- *What I want most out of life is to... and this is supporting that desire: What I want most out of life is to take advantage of rare and unique opportunities, and being open despite feelings of inadequacy and incompetency and isolation is supporting that desire because I feel down and fearful but do things anyway.*"
   ]
  },
  {
   "cell_type": "markdown",
   "metadata": {},
   "source": [
    "### Sprint 1: Data Formats and Terminology\n",
    "|Skill Story |Project|\n",
    "|:----|:----|\n",
    "|As a researcher, I need to understand command line-based applications, basic scripting, databases, web resources, APIs, and data warehouses so that I can download data from websites, connect to and query databases, interface with APIs, and web scrape.|"
   ]
  },
  {
   "cell_type": "markdown",
   "metadata": {},
   "source": [
    "### Sprint 2: Connecting to Data Sources\n",
    "|Skill Story |Project|\n",
    "|:----|:----|\n",
    "|As a business analyst, I need to understand command line-based applications, basic scripting, databases, web resources, APIs, and data warehouses so that I can try out programs other than excel to view and store data. I also want to source other bikeshare system's data, and find meaningful ways to compare our systems.| Learn the basics of SQLite and get experience of using the terminal/command line. I want to do this so I understand what advantages SQLite might have over excel, which is what I normally use. I want experience with the terminal/command line because they say it's quicker and more effecient than the GUI (graphical user interface), and I need to become effeceint at this to experiment with programs/scripts. If I get far enough I will upload an excel file into SQLite, maybe two, maybe some of ours, maybe other bikeshare systems..................................................................................|"
   ]
  },
  {
   "cell_type": "markdown",
   "metadata": {},
   "source": [
    "### Sprint 3: Data Operations\n",
    "|Skill Story |Project|\n",
    "|:----|:----|\n",
    "|As a data engineer, I need to understand the programming basics of automation so that I can implement algorithms and develop tools that work efficiently (also big o notation, computability and complexity, sorting and searching algorithms)| ..................................................................................|"
   ]
  },
  {
   "cell_type": "markdown",
   "metadata": {},
   "source": [
    "### Sprint 4: Data Manipulation Libraries and Tools\n",
    "|Skill Story |Project|\n",
    "|:----|:----|\n",
    "|As a statistical modeler, I need to understand the NumPy arrays and Pandas / R dataframes so I can supply data to algorithms, fit models, etc| ..................................................................................|"
   ]
  },
  {
   "cell_type": "markdown",
   "metadata": {},
   "source": [
    "### Sprint 5: EDA - Summarizing and Describing \n",
    "|Skill Story |Project|\n",
    "|:----|:----|\n",
    "|As a statistical modeler, I need to produce basic visual plots and summary statistics of the central tendencies and range of my data set so that I can develop an intuition for and a familiarity with my data set|..................................................................................|"
   ]
  },
  {
   "cell_type": "markdown",
   "metadata": {},
   "source": [
    "### Sprint 6: EDA - Preliminary Findings and Hypotheses\n",
    "|Skill Story |Project|\n",
    "|:----|:----|\n",
    "|As a researcher, I need to produce statistical summaries, charts, and dashboards that communicate how variables in my data set relate to each other, so that I can develop hypotheses to guide my analysis|..................................................................................||"
   ]
  },
  {
   "cell_type": "markdown",
   "metadata": {},
   "source": [
    "### Sprint 7: Sampling, Instruments and the Bias introduced by Both\n",
    "|Skill Story |Project|\n",
    "|:----|:----|\n",
    "|As a statistical modeler, I need to design and implement valid data collection instruments so that my analyses doesn't inadvertently introducing bias|..................................................................................|"
   ]
  },
  {
   "cell_type": "markdown",
   "metadata": {},
   "source": [
    "### Sprint 8: Implementing Tests\n",
    "|Skill Story |Project|\n",
    "|:----|:----|\n",
    "|As a researcher, I need to understand how to implement experiment-driven algorithms such as A/B testing and Epsilon Greedy) so that I can isolate factors and design appropriate experiments|..................................................................................|"
   ]
  },
  {
   "cell_type": "markdown",
   "metadata": {},
   "source": [
    "### Sprint 9: Random/Stochastic Processes and Variables\n",
    "|Skill Story |Project|\n",
    "|:----|:----|\n",
    "|..................................................................................|..................................................................................|"
   ]
  },
  {
   "cell_type": "markdown",
   "metadata": {},
   "source": [
    "### Sprint 10: Applying Probability Models\n",
    "|Skill Story |Project|\n",
    "|:----|:----|\n",
    "|..................................................................................|..................................................................................|"
   ]
  },
  {
   "cell_type": "markdown",
   "metadata": {},
   "source": [
    "### Sprint 11: Population Estimates and Hypotheses\n",
    "|Skill Story |Project|\n",
    "|:----|:----|\n",
    "|..................................................................................|..................................................................................|"
   ]
  },
  {
   "cell_type": "markdown",
   "metadata": {},
   "source": [
    "### Sprint 12: Linear Regression Models\n",
    "|Skill Story |Project|\n",
    "|:----|:----|\n",
    "|..................................................................................|..................................................................................|"
   ]
  },
  {
   "cell_type": "markdown",
   "metadata": {},
   "source": [
    "### Sprint 13: Machine Learning Capabilities\n",
    "|Skill Story |Project|\n",
    "|:----|:----|\n",
    "|..................................................................................|..................................................................................|"
   ]
  },
  {
   "cell_type": "markdown",
   "metadata": {},
   "source": [
    "### Sprint 14: Machine Learning Optimization\n",
    "|Skill Story |Project|\n",
    "|:----|:----|\n",
    "|..................................................................................|..................................................................................|"
   ]
  },
  {
   "cell_type": "markdown",
   "metadata": {},
   "source": [
    "### Sprint 15: Sanitizing Data\n",
    "|Skill Story |Project|\n",
    "|:----|:----|\n",
    "|..................................................................................|..................................................................................|"
   ]
  },
  {
   "cell_type": "markdown",
   "metadata": {},
   "source": [
    "### Sprint 16: Securing Data\n",
    "|Skill Story |Project|\n",
    "|:----|:----|\n",
    "|..................................................................................|..................................................................................|"
   ]
  },
  {
   "cell_type": "markdown",
   "metadata": {},
   "source": [
    "### Sprint 17: Storing and Computing in the Cloud\n",
    "|Skill Story |Project|\n",
    "|:----|:----|\n",
    "|..................................................................................|..................................................................................|"
   ]
  },
  {
   "cell_type": "markdown",
   "metadata": {},
   "source": [
    "### Sprint 18: Performance\n",
    "|Skill Story |Project|\n",
    "|:----|:----|\n",
    "|..................................................................................|..................................................................................|"
   ]
  },
  {
   "cell_type": "markdown",
   "metadata": {},
   "source": [
    "### Sprint 19: Interactive Dashboards & Tools\n",
    "|Skill Story |Project|\n",
    "|:----|:----|\n",
    "|..................................................................................|..................................................................................|"
   ]
  },
  {
   "cell_type": "markdown",
   "metadata": {},
   "source": [
    "### Sprint 20: Integrated Analytical Tools\n",
    "|Skill Story |Project|\n",
    "|:----|:----|\n",
    "|..................................................................................|..................................................................................|"
   ]
  }
 ],
 "metadata": {
  "kernelspec": {
   "display_name": "Python 3",
   "language": "python",
   "name": "python3"
  },
  "language_info": {
   "codemirror_mode": {
    "name": "ipython",
    "version": 3
   },
   "file_extension": ".py",
   "mimetype": "text/x-python",
   "name": "python",
   "nbconvert_exporter": "python",
   "pygments_lexer": "ipython3",
   "version": "3.6.3"
  }
 },
 "nbformat": 4,
 "nbformat_minor": 2
}
