{
 "cells": [
  {
   "cell_type": "markdown",
   "metadata": {},
   "source": [
    "# Michael Allen Roadmap"
   ]
  },
  {
   "cell_type": "markdown",
   "metadata": {},
   "source": [
    "### Init Day Statements\n",
    "|||\n",
    "|----:|:----|\n",
    "|**I enrolled in this class**|Because it helps to keep me off the streets and learn about big data.|\n",
    "|**I am most worried about**|Successfully learning and getting thru this program!|\n",
    "|**I learn best**|When attending a class with a patient instructor & peers who instill confidence during lecture, having hands on practice conducive to learning in class, and plenty of time outside of class to study and practice!|\n",
    "|**I am most excited about**|Learning about big data because it will be a necessity to know and understand in the future|\n",
    "|**After this class I hope to**|Have the confidence and qualifications to secure/develop a teaching position utilizing the skills and knowledge acquired during this program |\n",
    "|**My dream job is**|To teach online (Quantitative Analysis / Telecommunications / Survey Analysis/ Big Data..?) with part-time face-to-face delivery in Hawaii and/or San Francisco|\n",
    "\n",
    "### Expectations for Big Data Analyst Track\n",
    "*Articulate your expecations for this class in as much detail as you need. A response that is helpful to both you and your cohort may include statements such as:*\n",
    "\n",
    "*After this class I expect to be able to:* \n",
    "*Be compfortable working with big data and understand the basics of what it entails.*\n",
    "\n",
    "*I expect this classroom and environment to support my goals and objectives by:* \n",
    "*Providing a learning environment which teaches me skills that I and an employer find useful and valuable.\n",
    "\n",
    "*In reaching my goals, my coaches and cohort are responsible for:* \n",
    "*Providing a supportive learning environment.*\n",
    "*In reaching my goals, I am responsible for:*\n",
    "*My own learning with the necessary support from my coaches.*\n",
    "\n",
    "### Expectations for Myself\n",
    "*Describe your objectives and vision for yourself, particularly as it pertains to the skills you will learn as part of this class*\n",
    "\n",
    "- *Here is how I envision my life will look after I complete this class*\n",
    "    - *To have the necessary skills and knowledge to tackle big data questions as the need arises.*\n",
    "- *Here is how I envision myself after I complete this class*\n",
    "    - *To have the necessary skills and knowledge to tackle big data questions as the need arises.*\n",
    "- *This is the type of job I can imagine myself working in after I complete this class*\n",
    "    - *Part-time online/face-to-face teaching position which utilizes some of the knowledge and skills acquired throughout this program.*\n",
    "- *This is what I would like to be doing 6 months after this class ends*\n",
    "    - *Part-time online/face-to-face teaching position which utilizes some of the knowledge and skills acquired throughout this program in addition to developing a short-course (half day) for survey analysis utilizing some of the skills acquired thoughout this program.*\n",
    "- *This is what I would like to be doing in 5 years*\n",
    "    - *Part-time online/face-to-face teaching position which utilizes skills acquired throughout this program in addition to teaching a short-course (half day) for survey analysis utilizing the skills acquired thoughout this program.*\n",
    "- *What I want most out of life is to... and this is supporting that desire*\n",
    "    - *To continue to have a good balance between work and play, by learning new skills that are sought after.*"
   ]
  },
  {
   "cell_type": "markdown",
   "metadata": {},
   "source": [
    "### Sprint 1: Data Formats and Terminology\n",
    "|Skill Story |Project|\n",
    "|:----|:----|\n",
    "|As a Technology Teacher: I need to understand the basic terminology and structure of data so that I can apply statistical analyses. I also need to understand the story of where the data came from so I know how it is relevant to my action or recommendation.|\n",
    "|I propose to first document potential bias from particants on filling out a survey as well as the researcher design biases for the survey tool. This is useful to understand the story of where the data came from so I know how it is relevant to my action or recommendations. Secondly to create a quick \"End of Sprint Survey\" in Survey Monday, and then where I will first simulate completing multiple surveys. Survey Monkey has immediate analysis (though I do not know in what format this is in. I believe I can then export to Excel. Where then I will look into how to convert it to \"R\" in order to learn this program in subsequent Sprints for equal or better analysis then what Excel offers. |"
   ]
  },
  {
   "cell_type": "markdown",
   "metadata": {},
   "source": [
    "### Sprint 2: Connecting to Data Sources\n",
    "|Skill Story |Project|\n",
    "|:----|:----|\n",
    "|(Using Bayesian Statistical Theory): As a Technology Teacher I need to get exposed to Google Forms and Google Sheets and create a Survey with Google Forms instead of SurveyMonkey (as there are limitations without a paid subscription) so that I am able to read the Google Form Survey data in R, and to understand a basic R script.| |Create an \"End of Sprint Survey\" in Google Forms and read the survey results in R.  And then create a script in R to automate (simplify) the process of reading it into R.  |"
   ]
  },
  {
   "cell_type": "markdown",
   "metadata": {},
   "source": [
    "### Sprint 3: Data Operations\n",
    "|Skill Story |Project|\n",
    "|:----|:----|\n",
    "|(As a Technology Teacher I need to learn how to take dirty data (From Excel during this Sprint) and make it tidy in order to eventually perform statistical analysis with it in R.)| To utilize R to clean (real) Survey Monkey Data (known as Dirty Data) for the time period of (February 2016 through August 2016) which has been exported to R. And then export it back to a CSV file|"
   ]
  },
  {
   "cell_type": "markdown",
   "metadata": {},
   "source": [
    "### Sprint 4: Data Manipulation Libraries and Tools\n",
    "|Skill Story |Project|\n",
    "|:----|:----|\n",
    "|As a Technlogy Teacher I need.............................)| To utilize "
   ]
  },
  {
   "cell_type": "markdown",
   "metadata": {},
   "source": [
    "### Sprint 5: EDA - Summarizing and Describing \n",
    "|Skill Story |Project|\n",
    "|:----|:----|\n",
    "||..................................................................................|"
   ]
  },
  {
   "cell_type": "markdown",
   "metadata": {},
   "source": [
    "### Sprint 6: EDA - Preliminary Findings and Hypotheses\n",
    "|Skill Story |Project|\n",
    "|:----|:----|\n",
    "||..................................................................................||"
   ]
  },
  {
   "cell_type": "markdown",
   "metadata": {},
   "source": [
    "### Sprint 7: Sampling, Instruments and the Bias introduced by Both\n",
    "|Skill Story |Project|\n",
    "|:----|:----|\n",
    "||..................................................................................|"
   ]
  },
  {
   "cell_type": "markdown",
   "metadata": {},
   "source": [
    "### Sprint 8: Implementing Tests\n",
    "|Skill Story |Project|\n",
    "|:----|:----|\n",
    "||..................................................................................|"
   ]
  },
  {
   "cell_type": "markdown",
   "metadata": {},
   "source": [
    "### Sprint 9: Random/Stochastic Processes and Variables\n",
    "|Skill Story |Project|\n",
    "|:----|:----|\n",
    "|..................................................................................|..................................................................................|"
   ]
  },
  {
   "cell_type": "markdown",
   "metadata": {},
   "source": [
    "### Sprint 10: Applying Probability Models\n",
    "|Skill Story |Project|\n",
    "|:----|:----|\n",
    "|..................................................................................|..................................................................................|"
   ]
  },
  {
   "cell_type": "markdown",
   "metadata": {},
   "source": [
    "### Sprint 11: Population Estimates and Hypotheses\n",
    "|Skill Story |Project|\n",
    "|:----|:----|\n",
    "|..................................................................................|..................................................................................|"
   ]
  },
  {
   "cell_type": "markdown",
   "metadata": {},
   "source": [
    "### Sprint 12: Linear Regression Models\n",
    "|Skill Story |Project|\n",
    "|:----|:----|\n",
    "|..................................................................................|..................................................................................|"
   ]
  },
  {
   "cell_type": "markdown",
   "metadata": {},
   "source": [
    "### Sprint 13: Machine Learning Capabilities\n",
    "|Skill Story |Project|\n",
    "|:----|:----|\n",
    "|..................................................................................|..................................................................................|"
   ]
  },
  {
   "cell_type": "markdown",
   "metadata": {},
   "source": [
    "### Sprint 14: Machine Learning Optimization\n",
    "|Skill Story |Project|\n",
    "|:----|:----|\n",
    "|..................................................................................|..................................................................................|"
   ]
  },
  {
   "cell_type": "markdown",
   "metadata": {},
   "source": [
    "### Sprint 15: Sanitizing Data\n",
    "|Skill Story |Project|\n",
    "|:----|:----|\n",
    "|..................................................................................|..................................................................................|"
   ]
  },
  {
   "cell_type": "markdown",
   "metadata": {},
   "source": [
    "### Sprint 16: Securing Data\n",
    "|Skill Story |Project|\n",
    "|:----|:----|\n",
    "|..................................................................................|..................................................................................|"
   ]
  },
  {
   "cell_type": "markdown",
   "metadata": {},
   "source": [
    "### Sprint 17: Storing and Computing in the Cloud\n",
    "|Skill Story |Project|\n",
    "|:----|:----|\n",
    "|..................................................................................|..................................................................................|"
   ]
  },
  {
   "cell_type": "markdown",
   "metadata": {},
   "source": [
    "### Sprint 18: Performance\n",
    "|Skill Story |Project|\n",
    "|:----|:----|\n",
    "|..................................................................................|..................................................................................|"
   ]
  },
  {
   "cell_type": "markdown",
   "metadata": {},
   "source": [
    "### Sprint 19: Interactive Dashboards & Tools\n",
    "|Skill Story |Project|\n",
    "|:----|:----|\n",
    "|..................................................................................|..................................................................................|"
   ]
  },
  {
   "cell_type": "markdown",
   "metadata": {},
   "source": [
    "### Sprint 20: Integrated Analytical Tools\n",
    "|Skill Story |Project|\n",
    "|:----|:----|\n",
    "|..................................................................................|..................................................................................|"
   ]
  }
 ],
 "metadata": {
  "kernelspec": {
   "display_name": "Python 3",
   "language": "python",
   "name": "python3"
  },
  "language_info": {
   "codemirror_mode": {
    "name": "ipython",
    "version": 3
   },
   "file_extension": ".py",
   "mimetype": "text/x-python",
   "name": "python",
   "nbconvert_exporter": "python",
   "pygments_lexer": "ipython3",
   "version": "3.6.3"
  }
 },
 "nbformat": 4,
 "nbformat_minor": 2
}
