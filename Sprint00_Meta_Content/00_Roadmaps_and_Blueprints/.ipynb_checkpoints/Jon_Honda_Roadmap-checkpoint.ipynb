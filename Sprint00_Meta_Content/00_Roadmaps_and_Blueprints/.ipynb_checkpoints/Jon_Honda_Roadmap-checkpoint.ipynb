{
 "cells": [
  {
   "cell_type": "markdown",
   "metadata": {},
   "source": [
    "# Jon Honda Roadmap"
   ]
  },
  {
   "cell_type": "markdown",
   "metadata": {},
   "source": [
    "### Init Day Statements\n",
    "|||\n",
    "|----:|:----|\n",
    "|**I enrolled in this class**|because I am interested in learning more about data analysis.|\n",
    "|**I am most worried about**|not suceeding|\n",
    "|**I learn best**|when I have a question or project I'm working on|\n",
    "|**I am most excited about**| learning more about machine learning|\n",
    "|**After this class I hope to**| build a stock valuating system|\n",
    "|**My dream job is**|something in software development|\n",
    "\n",
    "### Expectations for Big Data Analyst Track\n",
    "*Articulate your expecations for this class in as much detail as you need. A response that is helpful to both you and your cohort may include statements such as:\n",
    "- *After this class I expect to be able to...*\n",
    "- *I expect this classroom and environment to support my goals and objectives by...*\n",
    "- *I expect this classroom and environment to support my goals and objectives by...*\n",
    "- *In reaching my goals, my coaches and cohort are responsible for...* \n",
    "- *In reaching my goals, I am responsible for...* \n",
    "\n",
    "### Expectations for Myself\n",
    "*Describe your objectives and vision for yourself, particularly as it pertains to the skills you will learn as part of this class*\n",
    "- *Here is how I envision my life will look after I complete this class*\n",
    "- *Here is how I envision myself after I complete this class*\n",
    "- *This is the type of job I can imagine myself working in after I complete this class*\n",
    "- *This is what I would like to be doing 6 months after this class ends*\n",
    "- *This is what I would like to be doing in 5 years*\n",
    "- *What I want most out of life is to... and this is supporting that desire*"
   ]
  },
  {
   "cell_type": "markdown",
   "metadata": {},
   "source": [
    "### Sprint 1: Data Formats and Terminology\n",
    "|Skill Story |Project|\n",
    "|:----|:----|\n",
    "|As a financial analysis data engineer, I need to understand the structure and format of web-based financial information and news stories, so that I can extract it and use it to identify interesting trends.|I will explore how various web sites encode news articles using HTML tags. I will then explore various python libraries available to scrape these tags. I will then attempt to write a python script that writes the scraped information into various data formats (JSON/CSV/XML).|"
   ]
  },
  {
   "cell_type": "markdown",
   "metadata": {},
   "source": [
    "### Sprint 2: Connecting to Data Sources\n",
    "|Skill Story |Project|\n",
    "|:----|:----|\n",
    "|As a financial analyst I need to be able to retrieve and store web based market price data so that I can run analyses on the collected data.| I will work with the Quandl API to retrieve daily closing metal commodity price and mining stock price data. I will build a SQLite database model to store the data. I will build several SQL SELECT commands to get different data reports from the database.|"
   ]
  },
  {
   "cell_type": "markdown",
   "metadata": {},
   "source": [
    "### Sprint 3: Data Operations\n",
    "|Skill Story |Project|\n",
    "|:----|:----|\n",
    "|As a data engineer, I need to understand the programming basics of automation so that I can implement algorithms and develop tools that work efficiently (also big o notation, computability and complexity, sorting and searching algorithms)| ..................................................................................|"
   ]
  },
  {
   "cell_type": "markdown",
   "metadata": {},
   "source": [
    "### Sprint 4: Data Manipulation Libraries and Tools\n",
    "|Skill Story |Project|\n",
    "|:----|:----|\n",
    "|As a statistical modeler, I need to understand the NumPy arrays and Pandas / R dataframes so I can supply data to algorithms, fit models, etc| ..................................................................................|"
   ]
  },
  {
   "cell_type": "markdown",
   "metadata": {},
   "source": [
    "### Sprint 5: EDA - Summarizing and Describing \n",
    "|Skill Story |Project|\n",
    "|:----|:----|\n",
    "|As a statistical modeler, I need to produce basic visual plots and summary statistics of the central tendencies and range of my data set so that I can develop an intuition for and a familiarity with my data set|..................................................................................|"
   ]
  },
  {
   "cell_type": "markdown",
   "metadata": {},
   "source": [
    "### Sprint 6: EDA - Preliminary Findings and Hypotheses\n",
    "|Skill Story |Project|\n",
    "|:----|:----|\n",
    "|As a researcher, I need to produce statistical summaries, charts, and dashboards that communicate how variables in my data set relate to each other, so that I can develop hypotheses to guide my analysis|..................................................................................||"
   ]
  },
  {
   "cell_type": "markdown",
   "metadata": {},
   "source": [
    "### Sprint 7: Sampling, Instruments and the Bias introduced by Both\n",
    "|Skill Story |Project|\n",
    "|:----|:----|\n",
    "|As a statistical modeler, I need to design and implement valid data collection instruments so that my analyses doesn't inadvertently introducing bias|..................................................................................|"
   ]
  },
  {
   "cell_type": "markdown",
   "metadata": {},
   "source": [
    "### Sprint 8: Implementing Tests\n",
    "|Skill Story |Project|\n",
    "|:----|:----|\n",
    "|As a researcher, I need to understand how to implement experiment-driven algorithms such as A/B testing and Epsilon Greedy) so that I can isolate factors and design appropriate experiments|..................................................................................|"
   ]
  },
  {
   "cell_type": "markdown",
   "metadata": {},
   "source": [
    "### Sprint 9: Random/Stochastic Processes and Variables\n",
    "|Skill Story |Project|\n",
    "|:----|:----|\n",
    "|..................................................................................|..................................................................................|"
   ]
  },
  {
   "cell_type": "markdown",
   "metadata": {},
   "source": [
    "### Sprint 10: Applying Probability Models\n",
    "|Skill Story |Project|\n",
    "|:----|:----|\n",
    "|..................................................................................|..................................................................................|"
   ]
  },
  {
   "cell_type": "markdown",
   "metadata": {},
   "source": [
    "### Sprint 11: Population Estimates and Hypotheses\n",
    "|Skill Story |Project|\n",
    "|:----|:----|\n",
    "|..................................................................................|..................................................................................|"
   ]
  },
  {
   "cell_type": "markdown",
   "metadata": {},
   "source": [
    "### Sprint 12: Linear Regression Models\n",
    "|Skill Story |Project|\n",
    "|:----|:----|\n",
    "|..................................................................................|..................................................................................|"
   ]
  },
  {
   "cell_type": "markdown",
   "metadata": {},
   "source": [
    "### Sprint 13: Machine Learning Capabilities\n",
    "|Skill Story |Project|\n",
    "|:----|:----|\n",
    "|..................................................................................|..................................................................................|"
   ]
  },
  {
   "cell_type": "markdown",
   "metadata": {},
   "source": [
    "### Sprint 14: Machine Learning Optimization\n",
    "|Skill Story |Project|\n",
    "|:----|:----|\n",
    "|..................................................................................|..................................................................................|"
   ]
  },
  {
   "cell_type": "markdown",
   "metadata": {},
   "source": [
    "### Sprint 15: Sanitizing Data\n",
    "|Skill Story |Project|\n",
    "|:----|:----|\n",
    "|..................................................................................|..................................................................................|"
   ]
  },
  {
   "cell_type": "markdown",
   "metadata": {},
   "source": [
    "### Sprint 16: Securing Data\n",
    "|Skill Story |Project|\n",
    "|:----|:----|\n",
    "|..................................................................................|..................................................................................|"
   ]
  },
  {
   "cell_type": "markdown",
   "metadata": {},
   "source": [
    "### Sprint 17: Storing and Computing in the Cloud\n",
    "|Skill Story |Project|\n",
    "|:----|:----|\n",
    "|..................................................................................|..................................................................................|"
   ]
  },
  {
   "cell_type": "markdown",
   "metadata": {},
   "source": [
    "### Sprint 18: Performance\n",
    "|Skill Story |Project|\n",
    "|:----|:----|\n",
    "|..................................................................................|..................................................................................|"
   ]
  },
  {
   "cell_type": "markdown",
   "metadata": {},
   "source": [
    "### Sprint 19: Interactive Dashboards & Tools\n",
    "|Skill Story |Project|\n",
    "|:----|:----|\n",
    "|..................................................................................|..................................................................................|"
   ]
  },
  {
   "cell_type": "markdown",
   "metadata": {},
   "source": [
    "### Sprint 20: Integrated Analytical Tools\n",
    "|Skill Story |Project|\n",
    "|:----|:----|\n",
    "|..................................................................................|..................................................................................|"
   ]
  }
 ],
 "metadata": {
  "kernelspec": {
   "display_name": "Python 3",
   "language": "python",
   "name": "python3"
  },
  "language_info": {
   "codemirror_mode": {
    "name": "ipython",
    "version": 3
   },
   "file_extension": ".py",
   "mimetype": "text/x-python",
   "name": "python",
   "nbconvert_exporter": "python",
   "pygments_lexer": "ipython3",
   "version": "3.6.3"
  }
 },
 "nbformat": 4,
 "nbformat_minor": 2
}
