{
 "cells": [
  {
   "cell_type": "markdown",
   "metadata": {},
   "source": [
    "# Natalie Ramirez RoadMap\n"
   ]
  },
  {
   "cell_type": "markdown",
   "metadata": {},
   "source": [
    "### Init Day Statements\n",
    "|||\n",
    "|----:|:----|\n",
    "|**I enrolled in this class**|because my company needs someone to construct an efficent data process. I feel like my background and skills can help build out the initial structure for data processing and analysis.|\n",
    "|**I am most worried about**|Time constraints|\n",
    "|**I learn best**|in an immersive setting and when involved with real world projects|\n",
    "|**I am most excited about**|Learning to build data models from scratch and building database architecture. I'm also excited to learn more about machine learning.|\n",
    "|**After this class I hope to**|Implement most of my projects to help my company report more accurate structured data.|\n",
    "|**My dream job is**|pretty much what I already do, just doing it remotely and traveling the world.|\n",
    "\n",
    "### Expectations for Big Data Analyst Track\n",
    "*Articulate your expecations for this class in as much detail as you need. A response that is helpful to both you and your cohort may include statements such as:\n",
    "- *After this class I expect to be able to build out a data model that works well for my company for multiple lines of business*\n",
    "- *I expect this classroom and environment to support my goals and objectives by showing me best practices in the areas I want to learn more in*\n",
    "- *I expect this classroom and environment to support my goals and objectives by helping me understand more complex concepts about data*\n",
    "- *In reaching my goals, my coaches and cohort are responsible for giving me open feedback regardless of varying skill levels* \n",
    "- *In reaching my goals, I am responsible for honoring my commitments, ahering to deadlines, providing guidance when I can, providing honest feedback, and respecting everyones point of view* \n",
    "\n",
    "\n",
    "### Expectations for Myself\n",
    "*Describe your objectives and vision for yourself, particularly as it pertains to the skills you will learn as part of this class*\n",
    "- *Here is how I envision my life will look after I complete this class*\n",
    "I envision my life immersed in data and data analytics, I will eat live and breathe data. :)\n",
    "- *Here is how I envision myself after I complete this class*\n",
    "I envision myself learning people's behavior by looking at data and using that to improve the way I build systems and applications. \n",
    "- *This is the type of job I can imagine myself working in after I complete this class*\n",
    "I aim at creating a human-behavior sensing and visualization suite to improve service processes by using behavior, marketing, and sales data for my company.\n",
    "- *This is what I would like to be doing 6 months after this class ends*\n",
    "I'd like to have a centralized structured database set up internally and connect multiple datasources to house all of our student data.\n",
    "- *This is what I would like to be doing in 5 years*\n",
    "I'd like to be working remotely, running my own small team of data engineers, and learning more about behavioral data methodologies and studying how to use artificial intellegence to gather more targeted data.\n",
    "- *What I want most out of life is to never stop learning and growing. I feel that getting started in this is supporting that desire*"
   ]
  },
  {
   "cell_type": "markdown",
   "metadata": {},
   "source": [
    "### Sprint 1: Data Formats and Terminology\n",
    "|Skill Story |Project|\n",
    "|:----|:----|\n",
    "|As a Director of Technology I need to understand the structure of data used to evaluate instructional program performance so that I can eventually compile data from students and third-party sources to analyze and use to improve our programs.|Converting multiple file formats to a JSON file format.|"
   ]
  },
  {
   "cell_type": "markdown",
   "metadata": {},
   "source": [
    "### Sprint 2: Connecting to Data Sources\n",
    "|Skill Story |Project|\n",
    "|:----|:----|\n",
    "|As a Director of Technology, I need to understand command line-based applications, basic scripting, databases, web resources, APIs, and data warehouses so that I can download data from websites, connect to and query databases, interface with APIs, and web scrape.| Pulling data from multiple resources and storing it into a PostgreSQl database.|"
   ]
  },
  {
   "cell_type": "markdown",
   "metadata": {},
   "source": [
    "### Sprint 3: Data Operations\n",
    "|Skill Story |Project|\n",
    "|:----|:----|\n",
    "|As a data engineer, I need to understand the programming basics of automation so that I can implement algorithms and develop tools that work efficiently (also big o notation, computability and complexity, sorting and searching algorithms)| ..................................................................................|"
   ]
  },
  {
   "cell_type": "markdown",
   "metadata": {},
   "source": [
    "### Sprint 4: Data Manipulation Libraries and Tools\n",
    "|Skill Story |Project|\n",
    "|:----|:----|\n",
    "|As a statistical modeler, I need to understand the NumPy arrays and Pandas / R dataframes so I can supply data to algorithms, fit models, etc| ..................................................................................|"
   ]
  },
  {
   "cell_type": "markdown",
   "metadata": {},
   "source": [
    "### Sprint 5: EDA - Summarizing and Describing \n",
    "|Skill Story |Project|\n",
    "|:----|:----|\n",
    "|As a statistical modeler, I need to produce basic visual plots and summary statistics of the central tendencies and range of my data set so that I can develop an intuition for and a familiarity with my data set|..................................................................................|"
   ]
  },
  {
   "cell_type": "markdown",
   "metadata": {},
   "source": [
    "### Sprint 6: EDA - Preliminary Findings and Hypotheses\n",
    "|Skill Story |Project|\n",
    "|:----|:----|\n",
    "|As a researcher, I need to produce statistical summaries, charts, and dashboards that communicate how variables in my data set relate to each other, so that I can develop hypotheses to guide my analysis|..................................................................................||"
   ]
  },
  {
   "cell_type": "markdown",
   "metadata": {},
   "source": [
    "### Sprint 7: Sampling, Instruments and the Bias introduced by Both\n",
    "|Skill Story |Project|\n",
    "|:----|:----|\n",
    "|As a statistical modeler, I need to design and implement valid data collection instruments so that my analyses doesn't inadvertently introducing bias|..................................................................................|"
   ]
  },
  {
   "cell_type": "markdown",
   "metadata": {},
   "source": [
    "### Sprint 8: Implementing Tests\n",
    "|Skill Story |Project|\n",
    "|:----|:----|\n",
    "|As a researcher, I need to understand how to implement experiment-driven algorithms such as A/B testing and Epsilon Greedy) so that I can isolate factors and design appropriate experiments|..................................................................................|"
   ]
  },
  {
   "cell_type": "markdown",
   "metadata": {},
   "source": [
    "### Sprint 9: Random/Stochastic Processes and Variables\n",
    "|Skill Story |Project|\n",
    "|:----|:----|\n",
    "|..................................................................................|..................................................................................|"
   ]
  },
  {
   "cell_type": "markdown",
   "metadata": {},
   "source": [
    "### Sprint 10: Applying Probability Models\n",
    "|Skill Story |Project|\n",
    "|:----|:----|\n",
    "|..................................................................................|..................................................................................|"
   ]
  },
  {
   "cell_type": "markdown",
   "metadata": {},
   "source": [
    "### Sprint 11: Population Estimates and Hypotheses\n",
    "|Skill Story |Project|\n",
    "|:----|:----|\n",
    "|..................................................................................|..................................................................................|"
   ]
  },
  {
   "cell_type": "markdown",
   "metadata": {},
   "source": [
    "### Sprint 12: Linear Regression Models\n",
    "|Skill Story |Project|\n",
    "|:----|:----|\n",
    "|..................................................................................|..................................................................................|"
   ]
  },
  {
   "cell_type": "markdown",
   "metadata": {},
   "source": [
    "### Sprint 13: Machine Learning Capabilities\n",
    "|Skill Story |Project|\n",
    "|:----|:----|\n",
    "|..................................................................................|..................................................................................|"
   ]
  },
  {
   "cell_type": "markdown",
   "metadata": {},
   "source": [
    "### Sprint 14: Machine Learning Optimization\n",
    "|Skill Story |Project|\n",
    "|:----|:----|\n",
    "|..................................................................................|..................................................................................|"
   ]
  },
  {
   "cell_type": "markdown",
   "metadata": {},
   "source": [
    "### Sprint 15: Sanitizing Data\n",
    "|Skill Story |Project|\n",
    "|:----|:----|\n",
    "|..................................................................................|..................................................................................|"
   ]
  },
  {
   "cell_type": "markdown",
   "metadata": {},
   "source": [
    "### Sprint 16: Securing Data\n",
    "|Skill Story |Project|\n",
    "|:----|:----|\n",
    "|..................................................................................|..................................................................................|"
   ]
  },
  {
   "cell_type": "markdown",
   "metadata": {},
   "source": [
    "### Sprint 17: Storing and Computing in the Cloud\n",
    "|Skill Story |Project|\n",
    "|:----|:----|\n",
    "|..................................................................................|..................................................................................|"
   ]
  },
  {
   "cell_type": "markdown",
   "metadata": {},
   "source": [
    "### Sprint 18: Performance\n",
    "|Skill Story |Project|\n",
    "|:----|:----|\n",
    "|..................................................................................|..................................................................................|"
   ]
  },
  {
   "cell_type": "markdown",
   "metadata": {},
   "source": [
    "### Sprint 19: Interactive Dashboards & Tools\n",
    "|Skill Story |Project|\n",
    "|:----|:----|\n",
    "|..................................................................................|..................................................................................|"
   ]
  },
  {
   "cell_type": "markdown",
   "metadata": {},
   "source": [
    "### Sprint 20: Integrated Analytical Tools\n",
    "|Skill Story |Project|\n",
    "|:----|:----|\n",
    "|..................................................................................|..................................................................................|"
   ]
  },
  {
   "cell_type": "code",
   "execution_count": null,
   "metadata": {
    "collapsed": true
   },
   "outputs": [],
   "source": []
  }
 ],
 "metadata": {
  "kernelspec": {
   "display_name": "Python 3",
   "language": "python",
   "name": "python3"
  },
  "language_info": {
   "codemirror_mode": {
    "name": "ipython",
    "version": 3
   },
   "file_extension": ".py",
   "mimetype": "text/x-python",
   "name": "python",
   "nbconvert_exporter": "python",
   "pygments_lexer": "ipython3",
   "version": "3.6.1"
  }
 },
 "nbformat": 4,
 "nbformat_minor": 2
}
