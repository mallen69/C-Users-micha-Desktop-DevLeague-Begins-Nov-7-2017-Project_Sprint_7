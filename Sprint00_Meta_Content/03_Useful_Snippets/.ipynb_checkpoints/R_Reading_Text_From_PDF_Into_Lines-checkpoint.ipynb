{
 "cells": [
  {
   "cell_type": "markdown",
   "metadata": {},
   "source": [
    "### Load from PDF File into vector with one string per page"
   ]
  },
  {
   "cell_type": "code",
   "execution_count": 20,
   "metadata": {},
   "outputs": [
    {
     "data": {
      "text/html": [
       "10"
      ],
      "text/latex": [
       "10"
      ],
      "text/markdown": [
       "10"
      ],
      "text/plain": [
       "[1] 10"
      ]
     },
     "metadata": {},
     "output_type": "display_data"
    },
    {
     "data": {
      "text/html": [
       "'character'"
      ],
      "text/latex": [
       "'character'"
      ],
      "text/markdown": [
       "'character'"
      ],
      "text/plain": [
       "[1] \"character\""
      ]
     },
     "metadata": {},
     "output_type": "display_data"
    }
   ],
   "source": [
    "library(pdftools)\n",
    "pdfpages <- pdf_text(\"_bentrevino_files/HotelReview12.31.17.pdf\")\n",
    "length(pdfpages)\n",
    "typeof(pdfpages)"
   ]
  },
  {
   "cell_type": "markdown",
   "metadata": {},
   "source": [
    "### Split up page string into list of string vectors with one string per line"
   ]
  },
  {
   "cell_type": "code",
   "execution_count": 21,
   "metadata": {},
   "outputs": [
    {
     "data": {
      "text/html": [
       "10"
      ],
      "text/latex": [
       "10"
      ],
      "text/markdown": [
       "10"
      ],
      "text/plain": [
       "[1] 10"
      ]
     },
     "metadata": {},
     "output_type": "display_data"
    },
    {
     "data": {
      "text/html": [
       "'list'"
      ],
      "text/latex": [
       "'list'"
      ],
      "text/markdown": [
       "'list'"
      ],
      "text/plain": [
       "[1] \"list\""
      ]
     },
     "metadata": {},
     "output_type": "display_data"
    }
   ],
   "source": [
    "# String split with \"\\n\" - creates new lines\n",
    "pagebreaks = strsplit(pdfpages, \"\\n\")\n",
    "#List with element for each page\n",
    "length(pagebreaks)\n",
    "typeof(pagebreaks)"
   ]
  },
  {
   "cell_type": "markdown",
   "metadata": {},
   "source": [
    "### Last line of first page"
   ]
  },
  {
   "cell_type": "code",
   "execution_count": 23,
   "metadata": {},
   "outputs": [
    {
     "data": {
      "text/html": [
       "'immediately. Source: 2018 STR, Inc. / STR Global, Ltd. trading as \"STR\".'"
      ],
      "text/latex": [
       "'immediately. Source: 2018 STR, Inc. / STR Global, Ltd. trading as \"STR\".'"
      ],
      "text/markdown": [
       "'immediately. Source: 2018 STR, Inc. / STR Global, Ltd. trading as \"STR\".'"
      ],
      "text/plain": [
       "[1] \"immediately. Source: 2018 STR, Inc. / STR Global, Ltd. trading as \\\"STR\\\".\""
      ]
     },
     "metadata": {},
     "output_type": "display_data"
    }
   ],
   "source": [
    "pagebreaks[[1]][20]"
   ]
  }
 ],
 "metadata": {
  "kernelspec": {
   "display_name": "R",
   "language": "R",
   "name": "ir"
  },
  "language_info": {
   "codemirror_mode": "r",
   "file_extension": ".r",
   "mimetype": "text/x-r-source",
   "name": "R",
   "pygments_lexer": "r",
   "version": "3.4.3"
  }
 },
 "nbformat": 4,
 "nbformat_minor": 2
}
