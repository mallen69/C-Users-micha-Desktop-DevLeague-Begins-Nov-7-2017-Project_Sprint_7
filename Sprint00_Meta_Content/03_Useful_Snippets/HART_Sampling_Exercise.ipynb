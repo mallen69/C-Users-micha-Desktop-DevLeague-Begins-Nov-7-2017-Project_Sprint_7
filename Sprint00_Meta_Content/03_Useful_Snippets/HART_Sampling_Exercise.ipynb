{
 "cells": [
  {
   "cell_type": "markdown",
   "metadata": {},
   "source": [
    "# HART Survey Data Sampling Exercise\n",
    "\n",
    "*Introduction to the file: this is a dataset produced by an onboard bus survey intended to suppor the study of the rail project's impact on transit. There is an accompanying study, but I did not review it prior to this analysis. *\n",
    "\n",
    "Going into this analysis, I don't have any particular interest, just trying to assess the value of the dataset to any of my related interests. This could include characterizing people who ride the bus, understanding commute times, understanding which routes are most important, understanding what might make more people ride the bus and move away from driving personal vehicles for transportation"
   ]
  },
  {
   "cell_type": "code",
   "execution_count": 35,
   "metadata": {
    "collapsed": true
   },
   "outputs": [],
   "source": [
    "library(ggplot2)"
   ]
  },
  {
   "cell_type": "code",
   "execution_count": 36,
   "metadata": {},
   "outputs": [
    {
     "data": {
      "text/html": [
       "<table>\n",
       "<thead><tr><th></th><th scope=col>size</th><th scope=col>isdir</th><th scope=col>mode</th><th scope=col>mtime</th><th scope=col>ctime</th><th scope=col>atime</th><th scope=col>uid</th><th scope=col>gid</th><th scope=col>uname</th><th scope=col>grname</th></tr></thead>\n",
       "<tbody>\n",
       "\t<tr><th scope=row>_bentrevino_files/HART_survey_data.csv</th><td>25421948           </td><td>FALSE              </td><td>644                </td><td>2018-02-03 12:28:35</td><td>2018-02-03 12:28:37</td><td>2018-02-26 17:00:00</td><td>501                </td><td>20                 </td><td>bentrevino         </td><td>staff              </td></tr>\n",
       "</tbody>\n",
       "</table>\n"
      ],
      "text/latex": [
       "\\begin{tabular}{r|llllllllll}\n",
       "  & size & isdir & mode & mtime & ctime & atime & uid & gid & uname & grname\\\\\n",
       "\\hline\n",
       "\t\\_bentrevino\\_files/HART\\_survey\\_data.csv & 25421948            & FALSE               & 644                 & 2018-02-03 12:28:35 & 2018-02-03 12:28:37 & 2018-02-26 17:00:00 & 501                 & 20                  & bentrevino          & staff              \\\\\n",
       "\\end{tabular}\n"
      ],
      "text/markdown": [
       "\n",
       "| <!--/--> | size | isdir | mode | mtime | ctime | atime | uid | gid | uname | grname | \n",
       "|---|\n",
       "| _bentrevino_files/HART_survey_data.csv | 25421948            | FALSE               | 644                 | 2018-02-03 12:28:35 | 2018-02-03 12:28:37 | 2018-02-26 17:00:00 | 501                 | 20                  | bentrevino          | staff               | \n",
       "\n",
       "\n"
      ],
      "text/plain": [
       "                                       size     isdir mode mtime              \n",
       "_bentrevino_files/HART_survey_data.csv 25421948 FALSE 644  2018-02-03 12:28:35\n",
       "                                       ctime               atime              \n",
       "_bentrevino_files/HART_survey_data.csv 2018-02-03 12:28:37 2018-02-26 17:00:00\n",
       "                                       uid gid uname      grname\n",
       "_bentrevino_files/HART_survey_data.csv 501 20  bentrevino staff "
      ]
     },
     "metadata": {},
     "output_type": "display_data"
    }
   ],
   "source": [
    "library(tidyverse)\n",
    "\n",
    "file.info(\"_bentrevino_files/HART_survey_data.csv\")"
   ]
  },
  {
   "cell_type": "markdown",
   "metadata": {},
   "source": [
    "## Step 1: Load the file"
   ]
  },
  {
   "cell_type": "code",
   "execution_count": 37,
   "metadata": {
    "collapsed": true
   },
   "outputs": [],
   "source": [
    "tb = read.csv(\"_bentrevino_files/HART_survey_data.csv\")\n",
    "tb = select(tb, INCOME_Code, INCOME_Text)"
   ]
  },
  {
   "cell_type": "markdown",
   "metadata": {},
   "source": [
    "*It's worth noting that this file is 25MB which suggests a large file that might be slow to work with. Will probably want to get it down to be manageable for both performance and management*"
   ]
  },
  {
   "cell_type": "markdown",
   "metadata": {},
   "source": [
    "## Step 2: Filter out people who did not report"
   ]
  },
  {
   "cell_type": "code",
   "execution_count": 38,
   "metadata": {},
   "outputs": [
    {
     "name": "stdout",
     "output_type": "stream",
     "text": [
      "Observations: 26,246\n",
      "Variables: 2\n",
      "$ INCOME_Code <int> 3, 2, 9, 2, 9, 5, 3, 3, 7, 5, 6, 3, 9, 2, 4, 3, 1, 7, 6...\n",
      "$ INCOME_Text <fct> $15,000 - $29,999, $12,000 - $14,999, $90,000 - $114,99...\n"
     ]
    },
    {
     "data": {
      "text/html": [
       "<table>\n",
       "<thead><tr><th scope=col>INCOME_Text</th><th scope=col>n</th></tr></thead>\n",
       "<tbody>\n",
       "\t<tr><td>$115,000 +        </td><td>1196              </td></tr>\n",
       "\t<tr><td>$12,000 - $14,999 </td><td>1829              </td></tr>\n",
       "\t<tr><td>$15,000 - $29,999 </td><td>3705              </td></tr>\n",
       "\t<tr><td>$30,000 - $39,999 </td><td>3474              </td></tr>\n",
       "\t<tr><td>$40,000 - $49,999 </td><td>2788              </td></tr>\n",
       "\t<tr><td>$50,000 - $59,999 </td><td>2670              </td></tr>\n",
       "\t<tr><td>$60,000 - $74,999 </td><td>2234              </td></tr>\n",
       "\t<tr><td>$75,000 - $89,999 </td><td>1820              </td></tr>\n",
       "\t<tr><td>$90,000 - $114,999</td><td>1513              </td></tr>\n",
       "\t<tr><td>Below $12,000     </td><td>3831              </td></tr>\n",
       "\t<tr><td>Did Not Know      </td><td> 175              </td></tr>\n",
       "\t<tr><td>Not Asked Because </td><td> 735              </td></tr>\n",
       "\t<tr><td>Refused to Answer </td><td> 276              </td></tr>\n",
       "</tbody>\n",
       "</table>\n"
      ],
      "text/latex": [
       "\\begin{tabular}{r|ll}\n",
       " INCOME\\_Text & n\\\\\n",
       "\\hline\n",
       "\t \\$115,000 +         & 1196                \\\\\n",
       "\t \\$12,000 - \\$14,999  & 1829                  \\\\\n",
       "\t \\$15,000 - \\$29,999  & 3705                  \\\\\n",
       "\t \\$30,000 - \\$39,999  & 3474                  \\\\\n",
       "\t \\$40,000 - \\$49,999  & 2788                  \\\\\n",
       "\t \\$50,000 - \\$59,999  & 2670                  \\\\\n",
       "\t \\$60,000 - \\$74,999  & 2234                  \\\\\n",
       "\t \\$75,000 - \\$89,999  & 1820                  \\\\\n",
       "\t \\$90,000 - \\$114,999 & 1513                  \\\\\n",
       "\t Below \\$12,000      & 3831                \\\\\n",
       "\t Did Not Know       &  175              \\\\\n",
       "\t Not Asked Because  &  735              \\\\\n",
       "\t Refused to Answer  &  276              \\\\\n",
       "\\end{tabular}\n"
      ],
      "text/markdown": [
       "\n",
       "INCOME_Text | n | \n",
       "|---|---|---|---|---|---|---|---|---|---|---|---|---|\n",
       "| $115,000 +         | 1196               | \n",
       "| $12,000 - $14,999  | 1829               | \n",
       "| $15,000 - $29,999  | 3705               | \n",
       "| $30,000 - $39,999  | 3474               | \n",
       "| $40,000 - $49,999  | 2788               | \n",
       "| $50,000 - $59,999  | 2670               | \n",
       "| $60,000 - $74,999  | 2234               | \n",
       "| $75,000 - $89,999  | 1820               | \n",
       "| $90,000 - $114,999 | 1513               | \n",
       "| Below $12,000      | 3831               | \n",
       "| Did Not Know       |  175               | \n",
       "| Not Asked Because  |  735               | \n",
       "| Refused to Answer  |  276               | \n",
       "\n",
       "\n"
      ],
      "text/plain": [
       "   INCOME_Text        n   \n",
       "1  $115,000 +         1196\n",
       "2  $12,000 - $14,999  1829\n",
       "3  $15,000 - $29,999  3705\n",
       "4  $30,000 - $39,999  3474\n",
       "5  $40,000 - $49,999  2788\n",
       "6  $50,000 - $59,999  2670\n",
       "7  $60,000 - $74,999  2234\n",
       "8  $75,000 - $89,999  1820\n",
       "9  $90,000 - $114,999 1513\n",
       "10 Below $12,000      3831\n",
       "11 Did Not Know        175\n",
       "12 Not Asked Because   735\n",
       "13 Refused to Answer   276"
      ]
     },
     "metadata": {},
     "output_type": "display_data"
    }
   ],
   "source": [
    "glimpse(tb)\n",
    "count(tb,INCOME_Text)"
   ]
  },
  {
   "cell_type": "code",
   "execution_count": 39,
   "metadata": {},
   "outputs": [
    {
     "name": "stdout",
     "output_type": "stream",
     "text": [
      "Observations: 25,060\n",
      "Variables: 2\n",
      "$ INCOME_Code <int> 3, 2, 9, 2, 9, 5, 3, 3, 7, 5, 6, 3, 9, 2, 4, 3, 1, 7, 6...\n",
      "$ INCOME_Text <fct> $15,000 - $29,999, $12,000 - $14,999, $90,000 - $114,99...\n"
     ]
    },
    {
     "data": {
      "text/html": [
       "<table>\n",
       "<thead><tr><th scope=col>INCOME_Text</th><th scope=col>n</th></tr></thead>\n",
       "<tbody>\n",
       "\t<tr><td>$115,000 +        </td><td>1196              </td></tr>\n",
       "\t<tr><td>$12,000 - $14,999 </td><td>1829              </td></tr>\n",
       "\t<tr><td>$15,000 - $29,999 </td><td>3705              </td></tr>\n",
       "\t<tr><td>$30,000 - $39,999 </td><td>3474              </td></tr>\n",
       "\t<tr><td>$40,000 - $49,999 </td><td>2788              </td></tr>\n",
       "\t<tr><td>$50,000 - $59,999 </td><td>2670              </td></tr>\n",
       "\t<tr><td>$60,000 - $74,999 </td><td>2234              </td></tr>\n",
       "\t<tr><td>$75,000 - $89,999 </td><td>1820              </td></tr>\n",
       "\t<tr><td>$90,000 - $114,999</td><td>1513              </td></tr>\n",
       "\t<tr><td>Below $12,000     </td><td>3831              </td></tr>\n",
       "</tbody>\n",
       "</table>\n"
      ],
      "text/latex": [
       "\\begin{tabular}{r|ll}\n",
       " INCOME\\_Text & n\\\\\n",
       "\\hline\n",
       "\t \\$115,000 +         & 1196                \\\\\n",
       "\t \\$12,000 - \\$14,999  & 1829                  \\\\\n",
       "\t \\$15,000 - \\$29,999  & 3705                  \\\\\n",
       "\t \\$30,000 - \\$39,999  & 3474                  \\\\\n",
       "\t \\$40,000 - \\$49,999  & 2788                  \\\\\n",
       "\t \\$50,000 - \\$59,999  & 2670                  \\\\\n",
       "\t \\$60,000 - \\$74,999  & 2234                  \\\\\n",
       "\t \\$75,000 - \\$89,999  & 1820                  \\\\\n",
       "\t \\$90,000 - \\$114,999 & 1513                  \\\\\n",
       "\t Below \\$12,000      & 3831                \\\\\n",
       "\\end{tabular}\n"
      ],
      "text/markdown": [
       "\n",
       "INCOME_Text | n | \n",
       "|---|---|---|---|---|---|---|---|---|---|\n",
       "| $115,000 +         | 1196               | \n",
       "| $12,000 - $14,999  | 1829               | \n",
       "| $15,000 - $29,999  | 3705               | \n",
       "| $30,000 - $39,999  | 3474               | \n",
       "| $40,000 - $49,999  | 2788               | \n",
       "| $50,000 - $59,999  | 2670               | \n",
       "| $60,000 - $74,999  | 2234               | \n",
       "| $75,000 - $89,999  | 1820               | \n",
       "| $90,000 - $114,999 | 1513               | \n",
       "| Below $12,000      | 3831               | \n",
       "\n",
       "\n"
      ],
      "text/plain": [
       "   INCOME_Text        n   \n",
       "1  $115,000 +         1196\n",
       "2  $12,000 - $14,999  1829\n",
       "3  $15,000 - $29,999  3705\n",
       "4  $30,000 - $39,999  3474\n",
       "5  $40,000 - $49,999  2788\n",
       "6  $50,000 - $59,999  2670\n",
       "7  $60,000 - $74,999  2234\n",
       "8  $75,000 - $89,999  1820\n",
       "9  $90,000 - $114,999 1513\n",
       "10 Below $12,000      3831"
      ]
     },
     "metadata": {},
     "output_type": "display_data"
    }
   ],
   "source": [
    "tb = filter(tb, INCOME_Code <= 10)\n",
    "glimpse(tb)\n",
    "count(tb,INCOME_Text)"
   ]
  },
  {
   "cell_type": "markdown",
   "metadata": {},
   "source": [
    "## Step 3: Create Random Samples of 3000 rows, 300 rows, 30 rows"
   ]
  },
  {
   "cell_type": "code",
   "execution_count": 40,
   "metadata": {
    "collapsed": true
   },
   "outputs": [],
   "source": [
    "tori3000 = sample_n(tb, 3000, FALSE)\n",
    "sheuli3000 = sample_n(tb, 3000, FALSE)\n",
    "runjini3000 = sample_n(tb, 3000, FALSE)\n",
    "michael3000 = sample_n(tb, 3000, FALSE)\n",
    "jon3000 = sample_n(tb, 3000, FALSE)\n",
    "hunter3000 = sample_n(tb, 3000, FALSE)\n",
    "\n",
    "tori300 = sample_n(tb, 300, FALSE)\n",
    "sheuli300 = sample_n(tb, 300, FALSE)\n",
    "runjini300 = sample_n(tb, 300, FALSE)\n",
    "michael300 = sample_n(tb, 300, FALSE)\n",
    "jon300 = sample_n(tb, 300, FALSE)\n",
    "hunter300 = sample_n(tb, 300, FALSE)\n",
    "\n",
    "tori30 = sample_n(tb, 30, FALSE)\n",
    "sheuli30 = sample_n(tb, 30, FALSE)\n",
    "runjini30 = sample_n(tb, 30, FALSE)\n",
    "michael30 = sample_n(tb, 30, FALSE)\n",
    "jon30 = sample_n(tb, 30, FALSE)\n",
    "hunter30 = sample_n(tb, 30, FALSE)\n"
   ]
  },
  {
   "cell_type": "markdown",
   "metadata": {},
   "source": [
    "## Step 4: Calculate The Actual Population Mean"
   ]
  },
  {
   "cell_type": "code",
   "execution_count": 41,
   "metadata": {},
   "outputs": [
    {
     "data": {
      "text/html": [
       "4.71807661612131"
      ],
      "text/latex": [
       "4.71807661612131"
      ],
      "text/markdown": [
       "4.71807661612131"
      ],
      "text/plain": [
       "[1] 4.718077"
      ]
     },
     "metadata": {},
     "output_type": "display_data"
    }
   ],
   "source": [
    "mean(tb$INCOME_Code)"
   ]
  },
  {
   "cell_type": "markdown",
   "metadata": {},
   "source": [
    "## Step 5: Write Samples to Files"
   ]
  },
  {
   "cell_type": "code",
   "execution_count": 42,
   "metadata": {},
   "outputs": [],
   "source": [
    "write.csv(tori3000, file = \"_HART_Sampling_Exercise/tori3000.csv\", row.names=FALSE)\n",
    "write.csv(sheuli3000, file = \"_HART_Sampling_Exercise/sheuli3000.csv\", row.names=FALSE)\n",
    "write.csv(runjini3000, file = \"_HART_Sampling_Exercise/runjini3000.csv\", row.names=FALSE)\n",
    "write.csv(michael3000, file = \"_HART_Sampling_Exercise/michael3000.csv\", row.names=FALSE)\n",
    "write.csv(jon3000, file = \"_HART_Sampling_Exercise/jon3000.csv\", row.names=FALSE)\n",
    "write.csv(hunter3000, file = \"_HART_Sampling_Exercise/hunter3000.csv\", row.names=FALSE)\n",
    "\n",
    "write.csv(tori300, file = \"_HART_Sampling_Exercise/tori300.csv\", row.names=FALSE)\n",
    "write.csv(sheuli300, file = \"_HART_Sampling_Exercise/sheuli300.csv\", row.names=FALSE)\n",
    "write.csv(runjini300, file = \"_HART_Sampling_Exercise/runjini300.csv\", row.names=FALSE)\n",
    "write.csv(michael300, file = \"_HART_Sampling_Exercise/michael300.csv\", row.names=FALSE)\n",
    "write.csv(jon300, file = \"_HART_Sampling_Exercise/jon300.csv\", row.names=FALSE)\n",
    "write.csv(hunter300, file = \"_HART_Sampling_Exercise/hunter300.csv\", row.names=FALSE)\n",
    "\n",
    "write.csv(tori30, file = \"_HART_Sampling_Exercise/tori30.csv\", row.names=FALSE)\n",
    "write.csv(sheuli30, file = \"_HART_Sampling_Exercise/sheuli30.csv\", row.names=FALSE)\n",
    "write.csv(runjini30, file = \"_HART_Sampling_Exercise/runjini30.csv\", row.names=FALSE)\n",
    "write.csv(michael30, file = \"_HART_Sampling_Exercise/michael30.csv\", row.names=FALSE)\n",
    "write.csv(jon30, file = \"_HART_Sampling_Exercise/jon30.csv\", row.names=FALSE)\n",
    "write.csv(hunter30, file = \"_HART_Sampling_Exercise/hunter30.csv\", row.names=FALSE)"
   ]
  },
  {
   "cell_type": "code",
   "execution_count": 43,
   "metadata": {},
   "outputs": [
    {
     "data": {
      "text/html": [
       "4.75433333333333"
      ],
      "text/latex": [
       "4.75433333333333"
      ],
      "text/markdown": [
       "4.75433333333333"
      ],
      "text/plain": [
       "[1] 4.754333"
      ]
     },
     "metadata": {},
     "output_type": "display_data"
    },
    {
     "data": {
      "text/html": [
       "4.658"
      ],
      "text/latex": [
       "4.658"
      ],
      "text/markdown": [
       "4.658"
      ],
      "text/plain": [
       "[1] 4.658"
      ]
     },
     "metadata": {},
     "output_type": "display_data"
    },
    {
     "data": {
      "text/html": [
       "4.74"
      ],
      "text/latex": [
       "4.74"
      ],
      "text/markdown": [
       "4.74"
      ],
      "text/plain": [
       "[1] 4.74"
      ]
     },
     "metadata": {},
     "output_type": "display_data"
    },
    {
     "data": {
      "text/html": [
       "4.70133333333333"
      ],
      "text/latex": [
       "4.70133333333333"
      ],
      "text/markdown": [
       "4.70133333333333"
      ],
      "text/plain": [
       "[1] 4.701333"
      ]
     },
     "metadata": {},
     "output_type": "display_data"
    },
    {
     "data": {
      "text/html": [
       "4.74"
      ],
      "text/latex": [
       "4.74"
      ],
      "text/markdown": [
       "4.74"
      ],
      "text/plain": [
       "[1] 4.74"
      ]
     },
     "metadata": {},
     "output_type": "display_data"
    },
    {
     "data": {
      "text/html": [
       "4.69233333333333"
      ],
      "text/latex": [
       "4.69233333333333"
      ],
      "text/markdown": [
       "4.69233333333333"
      ],
      "text/plain": [
       "[1] 4.692333"
      ]
     },
     "metadata": {},
     "output_type": "display_data"
    }
   ],
   "source": [
    "\n",
    "mean(tori3000$INCOME_Code)\n",
    "mean(sheuli3000$INCOME_Code)\n",
    "mean(runjini3000$INCOME_Code)\n",
    "mean(michael3000$INCOME_Code)\n",
    "mean(jon3000$INCOME_Code)\n",
    "mean(hunter3000$INCOME_Code)\n"
   ]
  },
  {
   "cell_type": "code",
   "execution_count": 44,
   "metadata": {},
   "outputs": [
    {
     "data": {
      "text/html": [
       "4.68"
      ],
      "text/latex": [
       "4.68"
      ],
      "text/markdown": [
       "4.68"
      ],
      "text/plain": [
       "[1] 4.68"
      ]
     },
     "metadata": {},
     "output_type": "display_data"
    },
    {
     "data": {
      "text/html": [
       "4.94333333333333"
      ],
      "text/latex": [
       "4.94333333333333"
      ],
      "text/markdown": [
       "4.94333333333333"
      ],
      "text/plain": [
       "[1] 4.943333"
      ]
     },
     "metadata": {},
     "output_type": "display_data"
    },
    {
     "data": {
      "text/html": [
       "4.47333333333333"
      ],
      "text/latex": [
       "4.47333333333333"
      ],
      "text/markdown": [
       "4.47333333333333"
      ],
      "text/plain": [
       "[1] 4.473333"
      ]
     },
     "metadata": {},
     "output_type": "display_data"
    },
    {
     "data": {
      "text/html": [
       "4.48333333333333"
      ],
      "text/latex": [
       "4.48333333333333"
      ],
      "text/markdown": [
       "4.48333333333333"
      ],
      "text/plain": [
       "[1] 4.483333"
      ]
     },
     "metadata": {},
     "output_type": "display_data"
    },
    {
     "data": {
      "text/html": [
       "4.68333333333333"
      ],
      "text/latex": [
       "4.68333333333333"
      ],
      "text/markdown": [
       "4.68333333333333"
      ],
      "text/plain": [
       "[1] 4.683333"
      ]
     },
     "metadata": {},
     "output_type": "display_data"
    },
    {
     "data": {
      "text/html": [
       "4.78666666666667"
      ],
      "text/latex": [
       "4.78666666666667"
      ],
      "text/markdown": [
       "4.78666666666667"
      ],
      "text/plain": [
       "[1] 4.786667"
      ]
     },
     "metadata": {},
     "output_type": "display_data"
    }
   ],
   "source": [
    "mean(tori300$INCOME_Code)\n",
    "mean(sheuli300$INCOME_Code)\n",
    "mean(runjini300$INCOME_Code)\n",
    "mean(michael300$INCOME_Code)\n",
    "mean(jon300$INCOME_Code)\n",
    "mean(hunter300$INCOME_Code)"
   ]
  },
  {
   "cell_type": "code",
   "execution_count": 45,
   "metadata": {},
   "outputs": [
    {
     "data": {
      "text/html": [
       "4.46666666666667"
      ],
      "text/latex": [
       "4.46666666666667"
      ],
      "text/markdown": [
       "4.46666666666667"
      ],
      "text/plain": [
       "[1] 4.466667"
      ]
     },
     "metadata": {},
     "output_type": "display_data"
    },
    {
     "data": {
      "text/html": [
       "4.7"
      ],
      "text/latex": [
       "4.7"
      ],
      "text/markdown": [
       "4.7"
      ],
      "text/plain": [
       "[1] 4.7"
      ]
     },
     "metadata": {},
     "output_type": "display_data"
    },
    {
     "data": {
      "text/html": [
       "4.8"
      ],
      "text/latex": [
       "4.8"
      ],
      "text/markdown": [
       "4.8"
      ],
      "text/plain": [
       "[1] 4.8"
      ]
     },
     "metadata": {},
     "output_type": "display_data"
    },
    {
     "data": {
      "text/html": [
       "4.46666666666667"
      ],
      "text/latex": [
       "4.46666666666667"
      ],
      "text/markdown": [
       "4.46666666666667"
      ],
      "text/plain": [
       "[1] 4.466667"
      ]
     },
     "metadata": {},
     "output_type": "display_data"
    },
    {
     "data": {
      "text/html": [
       "5.06666666666667"
      ],
      "text/latex": [
       "5.06666666666667"
      ],
      "text/markdown": [
       "5.06666666666667"
      ],
      "text/plain": [
       "[1] 5.066667"
      ]
     },
     "metadata": {},
     "output_type": "display_data"
    },
    {
     "data": {
      "text/html": [
       "4.36666666666667"
      ],
      "text/latex": [
       "4.36666666666667"
      ],
      "text/markdown": [
       "4.36666666666667"
      ],
      "text/plain": [
       "[1] 4.366667"
      ]
     },
     "metadata": {},
     "output_type": "display_data"
    }
   ],
   "source": [
    "mean(tori30$INCOME_Code)\n",
    "mean(sheuli30$INCOME_Code)\n",
    "mean(runjini30$INCOME_Code)\n",
    "mean(michael30$INCOME_Code)\n",
    "mean(jon30$INCOME_Code)\n",
    "mean(hunter30$INCOME_Code)\n"
   ]
  },
  {
   "cell_type": "code",
   "execution_count": 41,
   "metadata": {},
   "outputs": [
    {
     "data": {},
     "metadata": {},
     "output_type": "display_data"
    },
    {
     "data": {
      "image/png": "[encoded data removed]",
      "text/plain": [
       "plot without title"
      ]
     },
     "metadata": {},
     "output_type": "display_data"
    }
   ],
   "source": [
    "ggplot(tb, aes(x=INCOME_Text)) + geom_bar() + theme(axis.text.x=element_text(angle=90))"
   ]
  },
  {
   "cell_type": "code",
   "execution_count": 42,
   "metadata": {},
   "outputs": [
    {
     "data": {},
     "metadata": {},
     "output_type": "display_data"
    },
    {
     "data": {
      "image/png": "[encoded data removed]",
      "text/plain": [
       "plot without title"
      ]
     },
     "metadata": {},
     "output_type": "display_data"
    }
   ],
   "source": [
    "ggplot(tb, aes(x=INCOME_Code)) + geom_bar() + theme(axis.text.x=element_text(angle=90))"
   ]
  },
  {
   "cell_type": "code",
   "execution_count": 14,
   "metadata": {},
   "outputs": [
    {
     "data": {},
     "metadata": {},
     "output_type": "display_data"
    },
    {
     "data": {
      "image/png": "[encoded data removed]",
      "text/plain": [
       "plot without title"
      ]
     },
     "metadata": {},
     "output_type": "display_data"
    }
   ],
   "source": [
    "ggplot(runjini300, aes(x=INCOME_Code)) + geom_bar() + theme(axis.text.x=element_text(angle=90))"
   ]
  },
  {
   "cell_type": "code",
   "execution_count": null,
   "metadata": {
    "collapsed": true
   },
   "outputs": [],
   "source": []
  }
 ],
 "metadata": {
  "kernelspec": {
   "display_name": "R",
   "language": "R",
   "name": "ir"
  },
  "language_info": {
   "codemirror_mode": "r",
   "file_extension": ".r",
   "mimetype": "text/x-r-source",
   "name": "R",
   "pygments_lexer": "r",
   "version": "3.4.3"
  }
 },
 "nbformat": 4,
 "nbformat_minor": 2
}
