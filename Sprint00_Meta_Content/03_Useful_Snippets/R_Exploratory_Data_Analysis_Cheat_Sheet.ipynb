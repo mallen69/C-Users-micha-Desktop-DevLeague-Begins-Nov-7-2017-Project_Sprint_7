{
 "cells": [
  {
   "cell_type": "code",
   "execution_count": 14,
   "metadata": {
    "collapsed": true
   },
   "outputs": [],
   "source": [
    "library(tidyverse)\n",
    "tb = tbl_df(read.csv(\"_bentrevino_files/us_contagious_diseases.csv\"))\n"
   ]
  },
  {
   "cell_type": "markdown",
   "metadata": {},
   "source": [
    "### Summarizing Variables"
   ]
  },
  {
   "cell_type": "code",
   "execution_count": 10,
   "metadata": {},
   "outputs": [
    {
     "name": "stdout",
     "output_type": "stream",
     "text": [
      "Observations: 18,870\n",
      "Variables: 7\n",
      "$ X               <int> 1, 2, 3, 4, 5, 6, 7, 8, 9, 10, 11, 12, 13, 14, 15, ...\n",
      "$ disease         <fct> Hepatitis A, Hepatitis A, Hepatitis A, Hepatitis A,...\n",
      "$ state           <fct> Alabama, Alabama, Alabama, Alabama, Alabama, Alabam...\n",
      "$ year            <int> 1966, 1967, 1968, 1969, 1970, 1971, 1972, 1973, 197...\n",
      "$ weeks_reporting <int> 50, 49, 52, 49, 51, 51, 45, 45, 45, 46, 50, 43, 41,...\n",
      "$ count           <int> 321, 291, 314, 380, 413, 378, 342, 467, 244, 286, 2...\n",
      "$ population      <int> 3345787, 3364130, 3386068, 3412450, 3444165, 348179...\n"
     ]
    }
   ],
   "source": [
    "glimpse(tb)"
   ]
  },
  {
   "cell_type": "code",
   "execution_count": 22,
   "metadata": {},
   "outputs": [
    {
     "data": {
      "text/plain": [
       "       X                disease            state            year     \n",
       " Min.   :    1   Hepatitis A:2346   Alabama   :  370   Min.   :1928  \n",
       " 1st Qu.: 4718   Measles    :3876   Alaska    :  370   1st Qu.:1956  \n",
       " Median : 9436   Mumps      :1836   Arizona   :  370   Median :1977  \n",
       " Mean   : 9436   Pertussis  :3774   Arkansas  :  370   Mean   :1974  \n",
       " 3rd Qu.:14153   Polio      :3774   California:  370   3rd Qu.:1992  \n",
       " Max.   :18870   Rubella    :1938   Colorado  :  370   Max.   :2011  \n",
       "                 Smallpox   :1326   (Other)   :16650                 \n",
       " weeks_reporting     count            population      \n",
       " Min.   : 0.00   Min.   :     0.0   Min.   :   86853  \n",
       " 1st Qu.:14.00   1st Qu.:     1.0   1st Qu.: 1046542  \n",
       " Median :44.00   Median :    47.0   Median : 2824918  \n",
       " Mean   :33.28   Mean   :  1367.5   Mean   : 4242911  \n",
       " 3rd Qu.:50.00   3rd Qu.:   440.8   3rd Qu.: 5153640  \n",
       " Max.   :52.00   Max.   :132342.0   Max.   :37607525  \n",
       "                                    NA's   :204       "
      ]
     },
     "metadata": {},
     "output_type": "display_data"
    }
   ],
   "source": [
    "summary(tb)"
   ]
  },
  {
   "cell_type": "markdown",
   "metadata": {},
   "source": [
    "### Unique Values for Categorical Data"
   ]
  },
  {
   "cell_type": "code",
   "execution_count": 21,
   "metadata": {},
   "outputs": [
    {
     "data": {
      "text/html": [
       "<ol class=list-inline>\n",
       "\t<li>Hepatitis A</li>\n",
       "\t<li>Measles</li>\n",
       "\t<li>Mumps</li>\n",
       "\t<li>Pertussis</li>\n",
       "\t<li>Polio</li>\n",
       "\t<li>Rubella</li>\n",
       "\t<li>Smallpox</li>\n",
       "</ol>\n"
      ],
      "text/latex": [
       "\\begin{enumerate*}\n",
       "\\item Hepatitis A\n",
       "\\item Measles\n",
       "\\item Mumps\n",
       "\\item Pertussis\n",
       "\\item Polio\n",
       "\\item Rubella\n",
       "\\item Smallpox\n",
       "\\end{enumerate*}\n"
      ],
      "text/markdown": [
       "1. Hepatitis A\n",
       "2. Measles\n",
       "3. Mumps\n",
       "4. Pertussis\n",
       "5. Polio\n",
       "6. Rubella\n",
       "7. Smallpox\n",
       "\n",
       "\n"
      ],
      "text/plain": [
       "[1] Hepatitis A Measles     Mumps       Pertussis   Polio       Rubella    \n",
       "[7] Smallpox   \n",
       "Levels: Hepatitis A Measles Mumps Pertussis Polio Rubella Smallpox"
      ]
     },
     "metadata": {},
     "output_type": "display_data"
    }
   ],
   "source": [
    "unique(tb$disease)"
   ]
  },
  {
   "cell_type": "markdown",
   "metadata": {},
   "source": [
    "### Adding New Columns / Variables"
   ]
  },
  {
   "cell_type": "code",
   "execution_count": 28,
   "metadata": {},
   "outputs": [
    {
     "name": "stdout",
     "output_type": "stream",
     "text": [
      "Observations: 18,870\n",
      "Variables: 8\n",
      "$ X               <int> 1, 2, 3, 4, 5, 6, 7, 8, 9, 10, 11, 12, 13, 14, 15, ...\n",
      "$ disease         <fct> Hepatitis A, Hepatitis A, Hepatitis A, Hepatitis A,...\n",
      "$ state           <fct> Alabama, Alabama, Alabama, Alabama, Alabama, Alabam...\n",
      "$ year            <int> 1966, 1967, 1968, 1969, 1970, 1971, 1972, 1973, 197...\n",
      "$ weeks_reporting <int> 50, 49, 52, 49, 51, 51, 45, 45, 45, 46, 50, 43, 41,...\n",
      "$ count           <int> 321, 291, 314, 380, 413, 378, 342, 467, 244, 286, 2...\n",
      "$ population      <int> 3345787, 3364130, 3386068, 3412450, 3444165, 348179...\n",
      "$ percent_sick    <dbl> 9.594155e-05, 8.650082e-05, 9.273293e-05, 1.113569e...\n"
     ]
    }
   ],
   "source": [
    "new_tb = transform(tb, percent_sick = count/population)\n",
    "glimpse(new_tb)\n",
    "# also\n",
    "# new_tb = tb %>% mutate(percent_sick = count/population)\n"
   ]
  },
  {
   "cell_type": "code",
   "execution_count": null,
   "metadata": {
    "collapsed": true
   },
   "outputs": [],
   "source": []
  },
  {
   "cell_type": "code",
   "execution_count": null,
   "metadata": {
    "collapsed": true
   },
   "outputs": [],
   "source": []
  }
 ],
 "metadata": {
  "kernelspec": {
   "display_name": "R",
   "language": "R",
   "name": "ir"
  },
  "language_info": {
   "codemirror_mode": "r",
   "file_extension": ".r",
   "mimetype": "text/x-r-source",
   "name": "R",
   "pygments_lexer": "r",
   "version": "3.4.3"
  }
 },
 "nbformat": 4,
 "nbformat_minor": 2
}
