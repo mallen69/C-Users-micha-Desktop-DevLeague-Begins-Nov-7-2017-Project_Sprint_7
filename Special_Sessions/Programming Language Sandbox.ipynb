{
 "cells": [
  {
   "cell_type": "markdown",
   "metadata": {},
   "source": [
    "#### Input / Output\n",
    "- prints\n",
    "- loading data\n",
    "- reading from keyboard\n",
    "- mouse input\n",
    "- displaying charts\n",
    "- displaying windows, pixels\n"
   ]
  },
  {
   "cell_type": "code",
   "execution_count": 1,
   "metadata": {},
   "outputs": [
    {
     "name": "stdout",
     "output_type": "stream",
     "text": [
      "Hello World!\n"
     ]
    }
   ],
   "source": [
    "print(\"Hello World!\")"
   ]
  },
  {
   "cell_type": "markdown",
   "metadata": {},
   "source": [
    "#### Objects and Data Structures\n",
    "- Variables\n",
    "- Lists\n",
    "- Objects"
   ]
  },
  {
   "cell_type": "code",
   "execution_count": 5,
   "metadata": {},
   "outputs": [
    {
     "name": "stdout",
     "output_type": "stream",
     "text": [
      "new_num value:\n",
      "1\n",
      "new_string value:\n",
      "hello world\n"
     ]
    }
   ],
   "source": [
    "new_num = 1\n",
    "print(\"new_num value:\")\n",
    "print(new_num)\n",
    "\n",
    "new_string = \"hello world\"\n",
    "print (\"new_string value:\")\n",
    "print(new_string)"
   ]
  },
  {
   "cell_type": "markdown",
   "metadata": {},
   "source": [
    "#### Conditional Flow and Control Structures\n",
    "- boolean\n",
    "- if / then / else"
   ]
  },
  {
   "cell_type": "code",
   "execution_count": 7,
   "metadata": {},
   "outputs": [
    {
     "name": "stdout",
     "output_type": "stream",
     "text": [
      "your name is Ben\n"
     ]
    }
   ],
   "source": [
    "name = \"Ben\"\n",
    "if (name == \"Ben\"):\n",
    "    print(\"your name is Ben\")\n",
    "else:\n",
    "    print(\"your name is not Ben\")"
   ]
  },
  {
   "cell_type": "markdown",
   "metadata": {},
   "source": [
    "#### Loops\n",
    "- for loops\n",
    "- while loops\n",
    "- looping conditions"
   ]
  },
  {
   "cell_type": "code",
   "execution_count": 11,
   "metadata": {},
   "outputs": [
    {
     "name": "stdout",
     "output_type": "stream",
     "text": [
      "Justine is the best!\n",
      "Hunter is the best!\n",
      "Michael is the best!\n",
      "Runjini is the best!\n",
      "Jon is the best!\n",
      "Sheuli is the best!\n",
      "Nat is the best!\n",
      "Tori is the best!\n",
      "Justin is the best!\n",
      "Ben is the best!\n"
     ]
    }
   ],
   "source": [
    "names = [\"Justine\", \"Hunter\", \"Michael\", \"Runjini\", \"Jon\", \"Sheuli\", \"Nat\", \"Tori\", \"Justin\", \"Ben\"]\n",
    "for name in names:\n",
    "    to_print = name + \" is the best!\"\n",
    "    print(to_print)"
   ]
  },
  {
   "cell_type": "markdown",
   "metadata": {},
   "source": [
    "#### Functions / Subroutines\n",
    "- evaluation\n",
    "- parameters\n",
    "- return values\n",
    "- libraries\n",
    "- Methods"
   ]
  },
  {
   "cell_type": "code",
   "execution_count": 15,
   "metadata": {},
   "outputs": [
    {
     "name": "stdout",
     "output_type": "stream",
     "text": [
      "Justine is the best!\n",
      "Hunter is the best!\n",
      "Michael is the best!\n",
      "Runjini is the best!\n",
      "Jon is the best!\n",
      "Sheuli is the best!\n",
      "Nat is the best!\n",
      "Tori is the best!\n",
      "Justin is the best!\n",
      "Ben is the best!\n",
      "--------\n",
      "huey\n",
      "dewey\n",
      "louie\n",
      "--------\n",
      "Justine is the best!\n",
      "Hunter is the best!\n",
      "Michael is the best!\n",
      "Runjini is the best!\n",
      "Jon is the best!\n",
      "Sheuli is the best!\n",
      "Nat is the best!\n",
      "Tori is the best!\n",
      "Justin is the best!\n",
      "Ben is the best!\n",
      "--------\n",
      "chip\n",
      "dale\n"
     ]
    }
   ],
   "source": [
    "#function to print the class names\n",
    "def print_class_names():\n",
    "    names = [\"Justine\", \"Hunter\", \"Michael\", \"Runjini\", \"Jon\", \"Sheuli\", \"Nat\", \"Tori\", \"Justin\", \"Ben\"]\n",
    "    for name in names:\n",
    "        to_print = name + \" is the best!\"\n",
    "        print(to_print)\n",
    "    \n",
    "#function to print the names passed into it\n",
    "def print_names(names):\n",
    "    for name in names:\n",
    "        print(name)\n",
    "\n",
    "##Calling the functions\n",
    "print_class_names()\n",
    "print (\"--------\")\n",
    "print_names([\"huey\", \"dewey\", \"louie\"])\n",
    "print (\"--------\")\n",
    "print_class_names()\n",
    "print (\"--------\")\n",
    "print_names([\"chip\",\"dale\"])"
   ]
  },
  {
   "cell_type": "code",
   "execution_count": null,
   "metadata": {
    "collapsed": true
   },
   "outputs": [],
   "source": []
  }
 ],
 "metadata": {
  "kernelspec": {
   "display_name": "Python 3",
   "language": "python",
   "name": "python3"
  },
  "language_info": {
   "codemirror_mode": {
    "name": "ipython",
    "version": 3
   },
   "file_extension": ".py",
   "mimetype": "text/x-python",
   "name": "python",
   "nbconvert_exporter": "python",
   "pygments_lexer": "ipython3",
   "version": "3.6.1"
  }
 },
 "nbformat": 4,
 "nbformat_minor": 2
}
