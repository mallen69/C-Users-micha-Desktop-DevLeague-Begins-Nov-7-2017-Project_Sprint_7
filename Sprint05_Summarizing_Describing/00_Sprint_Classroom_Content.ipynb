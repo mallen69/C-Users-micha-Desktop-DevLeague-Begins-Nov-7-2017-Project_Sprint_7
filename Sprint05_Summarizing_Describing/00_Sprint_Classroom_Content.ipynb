{
 "cells": [
  {
   "cell_type": "markdown",
   "metadata": {},
   "source": [
    "# 5. Summarizing and Describing\n",
    "*Module: Exploratory Data Analysis (Sprint 1 of 2)"
   ]
  },
  {
   "cell_type": "markdown",
   "metadata": {},
   "source": [
    "## Sprint Module Review and Data Stories\n",
    "\n",
    "#### Module 3: Exploratory Data Analysis\n",
    "*Data analysis is built around questions, and exploratory data analysis helps you know what questions to ask. Descriptive statistics and basic visualizations that summarize features or suggest relationships inspire the generation of hypotheses to confirm with statistical tests or build into statistical models.*\n",
    "\n",
    "|Data Journalist| Data Engineer | Statistical Modeler| Business Analyst |\n",
    "|----|----------------|------------------|----|\n",
    "|I need to **summarize the data I have** so that I can report basic findings| I need to **identify errors and inconsistencies in the data** so that I can develop solutions to address them, and possibly their source| I need to **produce basic visual plots and summary statistics of the central tendencies and range of my data set** so that I can develop an intuition for and a familiarity with my data set| I need to **construct inventories and quality assessment of the data available** so that I can propose high value ways to use the data assets|"
   ]
  },
  {
   "cell_type": "markdown",
   "metadata": {},
   "source": [
    "## Analytical Process Big Picture\n",
    "![Curriculum Summary](../curriculum_summary.png)"
   ]
  },
  {
   "cell_type": "markdown",
   "metadata": {},
   "source": [
    "### Whiteboard Exercise\n",
    "Illustrate the collection of data from a natural process.\n",
    "\n",
    "For Example: Someone asks you the question: What are the people in Honolulu like?\n",
    "Illustrate any/as many as possible of the following\n",
    "- 1.) All the people in Honolulu\n",
    "- 2.) All the characteristics of people in Honolulu, for example, height\n",
    "- 3.) A dataset that captures all of the people in Honolulu and their characteristics\n",
    "- 4.) A process for creating that dataset\n",
    "- 5.) A summary of a single characteristic\n",
    "\n",
    "### Shifting to Analysis\n",
    "\n",
    "Previously we worked on getting acquainted with the building blocks of analytical processes. We practiced working with data structures, and data formats, programming and scripts, using the command line and using libraries.\n",
    "\n",
    "With these building blocks in place, we can begin actually *looking* at our data. \n",
    "\n",
    "### Exploring\n",
    "\n",
    "The purpose of exploratory data analysis is to get a feel for your dataset. Understand what's in there, what the ranges of values are, where it might have holes. To the extent that you can understand the underlying natural phenomenon you want to develop a sense of that as well.\n",
    "\n",
    "Ultimately, while you're exploring your data, you want to use the opportunity to develop questions. Questions about what is going on with the data, and questions that the data seems to be able to answer.\n",
    "\n",
    "### Where does exploratory data analysis fit in\n",
    "\n",
    "- Data Cleaning: idenfitying problems to fix, inconsistencies to smooth out\n",
    "- Modeling: First thing you do when you get a data set\n",
    "- Governance: Understanding the data you're trying to secure\n",
    "- Production Development: Looking at the size and types of data you need to engineer around\n",
    "\n",
    "In a nutshell, though, analysis is fraught with \"gotchas\". As you've probably experienced in your programming, the devil is in the details. The more you know those details through exploration, the more productive your final analysis will be as you troubleshoot your way through it.\n",
    "\n",
    "### Key Questions\n",
    "- What is Exploratory Data Analysis?\n",
    "- How does it differ from Data Analysis?\n",
    "- What tools do I use to conduct Exploratory Data Analysis?\n",
    "- How can you summarize data?\n",
    "- What kind of Questions do I ask in Exploratory Data Analysis?\n",
    "- What is the connection between a dataset and the natural process that created it?\n",
    "\n",
    "### Three takes on EDA\n",
    "\n",
    "** R for Data Science **\n",
    ">EDA is an iterative cycle. You:\n",
    "\n",
    ">1. Generate questions about your data.\n",
    "\n",
    ">2. Search for answers by visualising, transforming, and modelling your data.\n",
    "\n",
    ">3. Use what you learn to refine your questions and/or generate new questions.\n",
    "\n",
    ">EDA is not a formal process with a strict set of rules. More than anything, EDA is a state of mind. During the initial phases of EDA you should feel free to investigate every idea that occurs to you. Some of these ideas will pan out, and some will be dead ends.\n",
    "\n",
    "\n",
    "** Experimental Design and Analysis **\n",
    "\n",
    "> exploratory data analysis or “EDA” is a critical\n",
    "first step in analyzing the data from an experiment. Here are the main reasons we\n",
    "use EDA:\n",
    "- detection of mistakes\n",
    "- checking of assumptions\n",
    "- preliminary selection of appropriate models\n",
    "- determining relationships among the explanatory variables, and\n",
    "- assessing the direction and rough size of relationships between explanatory and outcome variables.\n",
    "\n",
    ">Loosely speaking, any method of looking at data that does not include formal\n",
    "statistical modeling and inference falls under the term exploratory data analysis.\n",
    "\n",
    "** Engineering Statistics Handbook **\n",
    "\n",
    "> Exploratory Data Analysis (EDA) is an approach/philosophy for data analysis that employs a variety of techniques (mostly graphical) to\n",
    "- maximize insight into a data set;\n",
    "- uncover underlying structure;\n",
    "- extract important variables;\n",
    "- detect outliers and anomalies;\n",
    "- test underlying assumptions;\n",
    "- develop parsimonious models; and\n",
    "- determine optimal factor settings."
   ]
  },
  {
   "cell_type": "markdown",
   "metadata": {
    "collapsed": true
   },
   "source": [
    "### Key Concepts and Definitions\n",
    "- sample\n",
    "- statistic\n",
    "- population\n",
    "- parameter\n",
    "- central tendency\n",
    "- variation\n",
    "- univariate\n",
    "- multivariate\n",
    "- distribution\n",
    "- categorical variable\n",
    "- continuous / quantitative variable\n",
    "- variance\n",
    "- standard deviation\n",
    "- interquartile range\n",
    "- skewness\n",
    "- kurtosis\n",
    "- historgram\n",
    "- stem and leaf\n",
    "- box plot\n",
    "- outlier\n",
    "- cross tabulation\n",
    "- anova\n",
    "- correlation\n",
    "- covariance\n",
    "\n"
   ]
  },
  {
   "cell_type": "markdown",
   "metadata": {},
   "source": [
    "### Exploratory Data Analysis Resources\n",
    "- #### Overview: http://www.itl.nist.gov/div898/handbook/eda/section1/eda11.htm\n",
    "- #### In Depth: http://www.stat.cmu.edu/~hseltman/309/Book/chapter4.pdf \n",
    "- #### R: http://r4ds.had.co.nz/exploratory-data-analysis.html\n",
    "- #### Tableau: http://tableauafterdark.com/exploratory-data-analysis-eda-for-tableau/ \n",
    "\n",
    "### Develop a Process\n",
    "This is something you will do over and over again. Reusable scripts are useful. So is a reusable format for documentation."
   ]
  },
  {
   "cell_type": "markdown",
   "metadata": {},
   "source": [
    "### Project Ideas\n",
    "\n",
    "Explore these datasets\n",
    "https://simplystatistics.org/2018/01/22/the-dslabs-package-provides-datasets-for-teaching-data-science/?utm_source=feedburner&utm_medium=feed&utm_campaign=Feed%3A+SimplyStatistics+%28Simply+Statistics%29\n",
    "\n",
    "Find and Replicate a Kaggle Machine Learning EDA workflow\n",
    "https://www.kaggle.com/xchmiao/eda-with-python\n",
    "\n",
    "From Justin for Both Sprints on EDA\n",
    "- What is your intuition about the data? What do you ‘see’ when you look at a time series? What do you ‘see’ when you plot that same series? How does the visualization aid or deny your intuitions? What is the best way to visually encode the data you are currently evaluating?\n",
    "- Histogram everything\n",
    "- Using a csv or excel file of a data series like stock prices, weather data, house prices,  take some basic summary stats\n",
    "- `df.describe` and `df.info` metadata vs summary stats?\n",
    "- Tools: pandas for basic visualization\n",
    "\n"
   ]
  },
  {
   "cell_type": "code",
   "execution_count": 1,
   "metadata": {},
   "outputs": [
    {
     "name": "stdout",
     "output_type": "stream",
     "text": [
      "Day 1/2/3:\n",
      "['runjini', 'tori', 'nat', 'michael', 'hunter', 'sheuli', 'jon']\n",
      "Day 4/5/6:\n",
      "['jon' 'runjini' 'tori' 'nat' 'michael' 'hunter' 'sheuli']\n"
     ]
    }
   ],
   "source": [
    "#Randomizer\n",
    "import random\n",
    "import numpy\n",
    "cohort = [\"hunter\",\"jon\",\"michael\", \"nat\", \"runjini\", \"sheuli\",\"tori\"]\n",
    "random.shuffle(cohort)\n",
    "\n",
    "print(\"Day 1/2/3:\")\n",
    "print(cohort)\n",
    "cohort = numpy.roll(cohort,1)\n",
    "print(\"Day 4/5/6:\")\n",
    "print(cohort)\n"
   ]
  },
  {
   "cell_type": "code",
   "execution_count": 7,
   "metadata": {},
   "outputs": [
    {
     "data": {
      "text/html": [
       "<div>\n",
       "<style>\n",
       "    .dataframe thead tr:only-child th {\n",
       "        text-align: right;\n",
       "    }\n",
       "\n",
       "    .dataframe thead th {\n",
       "        text-align: left;\n",
       "    }\n",
       "\n",
       "    .dataframe tbody tr th {\n",
       "        vertical-align: top;\n",
       "    }\n",
       "</style>\n",
       "<table border=\"1\" class=\"dataframe\">\n",
       "  <thead>\n",
       "    <tr style=\"text-align: right;\">\n",
       "      <th></th>\n",
       "      <th>Country</th>\n",
       "      <th>Capital</th>\n",
       "    </tr>\n",
       "  </thead>\n",
       "  <tbody>\n",
       "    <tr>\n",
       "      <th>0</th>\n",
       "      <td>Belgium</td>\n",
       "      <td>Brussels</td>\n",
       "    </tr>\n",
       "    <tr>\n",
       "      <th>1</th>\n",
       "      <td>India</td>\n",
       "      <td>New Delhi</td>\n",
       "    </tr>\n",
       "    <tr>\n",
       "      <th>2</th>\n",
       "      <td>Brazil</td>\n",
       "      <td>Brasília</td>\n",
       "    </tr>\n",
       "  </tbody>\n",
       "</table>\n",
       "</div>"
      ],
      "text/plain": [
       "   Country    Capital\n",
       "0  Belgium   Brussels\n",
       "1    India  New Delhi\n",
       "2   Brazil   Brasília"
      ]
     },
     "execution_count": 7,
     "metadata": {},
     "output_type": "execute_result"
    }
   ],
   "source": [
    "import pandas as pd\n",
    "data = {'Country': ['Belgium', 'India', 'Brazil'],\n",
    " 'Capital': ['Brussels', 'New Delhi', 'Brasília'],\n",
    " 'Population': [11190846, 1303171035, 207847528]}\n",
    "\n",
    "df = pd.DataFrame(data,\n",
    " columns=['Country', 'Capital', 'Population'])\n",
    "\n",
    "df[['Country', 'Capital']]"
   ]
  },
  {
   "cell_type": "markdown",
   "metadata": {},
   "source": []
  }
 ],
 "metadata": {
  "kernelspec": {
   "display_name": "Python 3",
   "language": "python",
   "name": "python3"
  },
  "language_info": {
   "codemirror_mode": {
    "name": "ipython",
    "version": 3
   },
   "file_extension": ".py",
   "mimetype": "text/x-python",
   "name": "python",
   "nbconvert_exporter": "python",
   "pygments_lexer": "ipython3",
   "version": "3.6.1"
  }
 },
 "nbformat": 4,
 "nbformat_minor": 2
}
