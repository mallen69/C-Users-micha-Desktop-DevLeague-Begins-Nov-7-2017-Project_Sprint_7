{
 "cells": [
  {
   "cell_type": "markdown",
   "metadata": {},
   "source": [
    "# Sprint Title\n",
    "\n",
    "## Key Concepts and Definitions\n",
    "\n",
    "## Key Questions\n",
    "\n",
    "## Project Ideas\n",
    "\n",
    "From Justin for Both Sprints on EDA\n",
    "- What is your intuition about the data? What do you ‘see’ when you look at a time series? What do you ‘see’ when you plot that same series? How does the visualization aid or deny your intuitions? What is the best way to visually encode the data you are currently evaluating?\n",
    "- Histogram everything\n",
    "- Using a csv or excel file of a data series like stock prices, weather data, house prices,  take some basic summary stats\n",
    "- `df.describe` and `df.info` metadata vs summary stats?\n",
    "- Tools: pandas for basic visualization\n",
    "\n"
   ]
  },
  {
   "cell_type": "code",
   "execution_count": null,
   "metadata": {
    "collapsed": true
   },
   "outputs": [],
   "source": []
  }
 ],
 "metadata": {
  "kernelspec": {
   "display_name": "Python 3",
   "language": "python",
   "name": "python3"
  },
  "language_info": {
   "codemirror_mode": {
    "name": "ipython",
    "version": 3
   },
   "file_extension": ".py",
   "mimetype": "text/x-python",
   "name": "python",
   "nbconvert_exporter": "python",
   "pygments_lexer": "ipython3",
   "version": "3.6.1"
  }
 },
 "nbformat": 4,
 "nbformat_minor": 2
}
