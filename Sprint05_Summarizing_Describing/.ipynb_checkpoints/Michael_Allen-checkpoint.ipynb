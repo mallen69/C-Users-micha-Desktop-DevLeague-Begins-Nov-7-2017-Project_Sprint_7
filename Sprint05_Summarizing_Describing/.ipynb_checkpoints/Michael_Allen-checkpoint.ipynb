{
 "cells": [
  {
   "cell_type": "markdown",
   "metadata": {
    "collapsed": true
   },
   "source": [
    "# US Contagious Diseases Sprint #5 Michael Allen"
   ]
  },
  {
   "cell_type": "markdown",
   "metadata": {
    "collapsed": true
   },
   "source": [
    "---\n",
    "## DAY 1: Tuesday (Week 1)\n",
    "### What I Expect to Learn\n",
    "* Replace with a summary of what you hope to accomplish with this project and how it fits into your overall roadmap. This includes key questions such as things you want to find out and definitions you want to establish and clarify.\n",
    "\n",
    "### Project References\n",
    "- *https://stackoverflow.com/questions/4215154/count-unique-values*\n",
    "- *https://stackoverflow.com/questions/13013231/how-can-i-divide-one-column-of-a-data-frame-through-another*\n",
    "- *replace with Link to project and description of why it's of interest to you*\n",
    "\n",
    "### No Project Pitched on Tuesday\n"
   ]
  },
  {
   "cell_type": "markdown",
   "metadata": {},
   "source": [
    "--- \n",
    "## DAY 2: Wednesday (Week 1)\n",
    "### Pitch Feedback \n",
    "*Ben stated that he thought it best that I work with a new dataset for this Sprint - then the tools and such that I learn by looking at a new dataset will most likely help me more with my End of Course Survey Data Set for which I have been focused *\n",
    "\n",
    "### Prototype Notes: Items that I want to learn this Sprint:\n",
    "* In R, how to: \n",
    "* Determine how many different diseases there are without scrowling through thousands of lines of code: \n",
    "* Be able to group by disease and state and come up with the percentage of counts per population for that particular disease.   \n",
    "* After getting the percentage of all states for that particular disease, determine if there is statisical signficance between one state and another.\n",
    "* Plot on a yearly basis per disease per state the count to see if it is apparent if the disease is increasing or decreasing*  \n",
    "* An unexpected thing that I learned already working with a new data set is the filter command in R Studio which is very useful for getting a quick feel of the data by narrowing down the dataset a bit during the exploratory phase* \n",
    "\n",
    "\n",
    "### Results from prototype experiments, snippets of code, things I tried *\n",
    "*The code below gives me my answers my first question*  \n",
    "*unique(sick$disease)*\n",
    "*Hepatitis A  Measles Mumps  Pertussis  Polio  Rubella  Smallpox* \n",
    "\n",
    "*Here is a start of the code to get the percentage of the population that had a particular disease.  It added a new column called percentage_sick*   \n",
    "*sick <- transform(sick, percentage_sick = count / population)*  \n",
    "\n",
    "\n",
    "\n",
    "### Pair Show & Tell Comments\n",
    "*Comments from prototype discussion*\n",
    "\n",
    "*These comments lead into plan development. Key considerations for me and my partner:  Do I have a plan? Is my plan feasible?*\n",
    "\n",
    "### Proposed Plan: Key Milestones by Day\n",
    "\n",
    "##### Day 2 (Wed Week 1):\n",
    "- Develop Project Proposal\n",
    "- Push Docs / Repo / Roadmap Update\n",
    "\n",
    "##### Day 3 (Thu Week 1):\n",
    "- *milestone 1*\n",
    "- *milestone 2*\n",
    "- *milestone X...*\n",
    "- Push docs / repo\n",
    "\n",
    "##### Day 4 (Tue Week 2): \n",
    "- *milestone X+1*\n",
    "- *milestone X+2*\n",
    "- *milestone X+3*\n",
    "- Push docs / repo\n",
    "\n",
    "##### Day 5 (Wed Week 2):\n",
    "- Project highlights\n",
    "- Identify question or cohort knowledge gap for sprint review\n",
    "- Develop Topic Project + Presentation\n",
    "- Push Repo / docs / Presentation\n",
    "\n",
    "### Project Definition and README.MD Discussion \n",
    "*This is a discussion of how this project will fit into my overall roadmap. I will update my roadmap with the following project definition*\n",
    "\n",
    "*I will focus my project Repo's README.MD on the same topic, but with this additional detail.*\n"
   ]
  },
  {
   "cell_type": "markdown",
   "metadata": {},
   "source": [
    "--- \n",
    "## DAY 3: Thursday (Week 1)\n",
    "\n",
    "#### Setup for Repo and Documentation Push\n",
    "*Setup and testing I did to make sure my repo and documentation were ready to push at the end of the day*\n",
    "\n",
    "#### Repo File Strategy Discussion\n",
    "*How I will present my repo files for clarity and demonstration*\n",
    "\n",
    "#### Work towards milestone 1\n",
    "*Work I did towards Milestone *\n",
    "\n",
    "#### Work towards milestone 2\n",
    "*Work I did towards Milestone *\n",
    "\n",
    "#### Work towards milestone 3\n",
    "*Work I did towards Milestone *\n",
    "\n",
    "\n"
   ]
  },
  {
   "cell_type": "markdown",
   "metadata": {},
   "source": [
    "---\n",
    "## DAY 4: Tuesday (Week 2)\n",
    "\n",
    "#### Work in Progress Feedback \n",
    "*Feedback and ideas from my work in progress presentation *\n",
    "\n",
    "#### Work towards milestone 1\n",
    "*Work I did towards Milestone *\n",
    "\n",
    "#### Work towards milestone 2\n",
    "*Work I did towards Milestone *\n",
    "\n",
    "#### Work towards milestone 3\n",
    "*Work I did towards Milestone *\n"
   ]
  },
  {
   "cell_type": "markdown",
   "metadata": {},
   "source": [
    "--- \n",
    "\n",
    "## DAY 5: Wednesday (Week 2)\n",
    "\n",
    "### Project Highlights: The things I am most excited about in my project\n",
    "Me\n",
    "- \n",
    "- \n",
    "- \n",
    "\n",
    "Peer Identified\n",
    "\n",
    "- \n",
    "- \n",
    "- \n",
    "\n",
    "### Peer Repo Feedback \n",
    "\n",
    "*Here are the changes I am making to my repo structure for additional clarity* \n",
    "- \n",
    "- \n",
    "- \n",
    "\n"
   ]
  },
  {
   "cell_type": "markdown",
   "metadata": {},
   "source": [
    "## Day 6: Thursday (Week 2)\n",
    "--- \n",
    "\n",
    "#### Things I didn't get to\n",
    "*Here are some ideas that I didn't get to implement, but wanted to. I will be adding these to my roadmap table entry for this sprint as well."
   ]
  },
  {
   "cell_type": "code",
   "execution_count": null,
   "metadata": {
    "collapsed": true
   },
   "outputs": [],
   "source": []
  }
 ],
 "metadata": {
  "kernelspec": {
   "display_name": "Python 3",
   "language": "python",
   "name": "python3"
  },
  "language_info": {
   "codemirror_mode": {
    "name": "ipython",
    "version": 3
   },
   "file_extension": ".py",
   "mimetype": "text/x-python",
   "name": "python",
   "nbconvert_exporter": "python",
   "pygments_lexer": "ipython3",
   "version": "3.6.3"
  }
 },
 "nbformat": 4,
 "nbformat_minor": 2
}
