{
 "cells": [
  {
   "cell_type": "markdown",
   "metadata": {
    "collapsed": true
   },
   "source": [
    "# Analyzing, Understanding, and Summarizing Data - Sprint Journal for Tori Larson"
   ]
  },
  {
   "cell_type": "markdown",
   "metadata": {
    "collapsed": true
   },
   "source": [
    "---\n",
    "## DAY 1: Tuesday (Week 1)\n",
    "### What I Expect to Learn\n",
    "* At the end of this sprint I expect to be able to know how to better ask questions about the data that I am looking at. Right now I look at a data set and I dont know which questions should be asked and what can even be accomplished with the data. I am hoping to ask better questions with this data to create more meaningful results. I also believe that the better I am at asking questions the easier it will be for me to manipulate my data instead of flailing around not knowing what my final objective will be.  \n",
    "\n",
    "### Project References\n",
    "- [Link 1](https://hbr.org/2016/11/better-questions-to-ask-your-data-scientists)\n",
    "- *replace with Link to project and description of why it's of interest to you*\n",
    "- *replace with Link to project and description of why it's of interest to you*\n",
    "\n",
    "### Project Pitch\n",
    "- *Replace with project idea*\n",
    "- *Replace with description of how project relates to sprint content*\n",
    "\n",
    "### Some Practice Code I did today"
   ]
  },
  {
   "cell_type": "code",
   "execution_count": 1,
   "metadata": {},
   "outputs": [
    {
     "ename": "SyntaxError",
     "evalue": "invalid syntax (<ipython-input-1-d0bad06a2372>, line 26)",
     "output_type": "error",
     "traceback": [
      "\u001b[0;36m  File \u001b[0;32m\"<ipython-input-1-d0bad06a2372>\"\u001b[0;36m, line \u001b[0;32m26\u001b[0m\n\u001b[0;31m    Year_1928 %>% select(disease, state, year, count)\u001b[0m\n\u001b[0m               ^\u001b[0m\n\u001b[0;31mSyntaxError\u001b[0m\u001b[0;31m:\u001b[0m invalid syntax\n"
     ]
    }
   ],
   "source": [
    "# Contagious disease data\n",
    "data(\"us_contagious_diseases\")\n",
    "# Adding to a variable\n",
    "Diseases <- (us_contagious_diseases)\n",
    "# Naming (I did this the hardest way possible might I add.)\n",
    "HepA <- (Diseases[1:2346,1:6])\n",
    "# Naming\n",
    "Measles <- (Diseases[2347:6222,1:6])\n",
    "# Naming\n",
    "Mumps <- (Diseases[6223:8058,1:6])\n",
    "# Naming\n",
    "Pertussis <- (Diseases[8059:11832,1:6])\n",
    "# Naming\n",
    "Polio <- (Diseases[11833:15606,1:6])\n",
    "# Naming\n",
    "Rubella <- (Diseases[15607:17544,1:6])\n",
    "# Naming\n",
    "Smallpox <- (Diseases[17545:18870,1:6])\n",
    "# 1928 year\n",
    "Ex1928 <- (Diseases[c(17545,17571,17597,17623,17649,17675,17701,17727,17753,17779,17805,17831,17857,17883,17909,17935,17961,17987,18013,18039,18065,18091,18117,18143,18169,18195,18221,18247,18273,18299,18325,18351,18377,18403,18429,18455,18481,18507),1:6])\n",
    "# Easier way\n",
    "subset(Diseases,year==1959)\n",
    "Year_1928 <- subset(Diseases,year==1928)\n",
    "Year_1928 <- subset(Year_1928,disease==\"Smallpox\")\n",
    "# Selecting Columns\n",
    "Year_1928 %>% select(disease, state, year, count)\n",
    "# OR \n",
    "select(Year_1928, disease, state, year, count)\n",
    "#Smallpox in 1928\n",
    "Smallpox1928 <- Year1_1928 %>% select(disease, state, year, count)\n",
    "\n",
    "p <-ggplot(Smallpox1928, aes(state, count))\n",
    "\n",
    "p +geom_bar(stat = \"identity\")\n"
   ]
  },
  {
   "cell_type": "code",
   "execution_count": null,
   "metadata": {
    "collapsed": true
   },
   "outputs": [],
   "source": []
  },
  {
   "cell_type": "markdown",
   "metadata": {},
   "source": [
    "--- \n",
    "## DAY 2: Wednesday (Week 1)\n",
    "### Pitch Feedback \n",
    "* After speaking with Ben, I came up with a few steps in order to help myself through the analysis journey.*\n",
    "    1. Choose 3 or 4 data sets from kaggle \n",
    "    2. Analyze Data for 20 minutes\n",
    "    3. ask questions about the data - DON'T USE R\n",
    "    4. Use questions to create a sort of map around your data and how you will organize it to ask those questions. \n",
    "    \n",
    "\n",
    "    \n",
    "Data set 1: \n",
    "    1. Going to work more with the disease data - there is more I want out of it. \n",
    "    2. Analyzing/Question Asking\n",
    "        - What was the measles total count for Hawaii vs the United states average in 1960.\n",
    "        - Which state had the highest count for a specific disease and how did that compare to the average number for the rest of the united states.\n",
    "        - What was the count for each disease in Utah in 1994 & Texas in 1981?\n",
    "    3. ...\n",
    "    \n",
    "Date set 2:\n",
    "    1. I chose to use the HR Employee retention data.\n",
    "    2. Analyzing/Question asking\n",
    "        - Which department has the highest turnover?\n",
    "        - Is there a correlation between hours worked, salary level, and job satisfaction\n",
    "        - Does job satisfaction relate to how many projects they have.\n",
    "    3. ...\n",
    "      \n",
    "    \n",
    "Data set 3: \n",
    "    1. Going to analyze the HART data more since I didnt go into great detail with it the last sprint I used it.\n",
    "    2. Analyzing/Question Asking\n",
    "        - Something dealing with only residents of Hawai'i - how many residents could not make a trip if they didnt have the bus\n",
    "        - How many poeple use each pass? \n",
    "        - How many females with age group with no other way to get here use the bus at late night hours (other hours). \n",
    "    3. ...\n",
    "   \n",
    "    \n",
    "\n",
    "### Prototype Notes\n",
    "*Results from prototype experiments, snippets of code, things I tried * \n",
    "\n",
    "### Pair Show & Tell Comments\n",
    "*Comments from prototype discussion*\n",
    "\n",
    "*These comments lead into plan development. Key considerations for me and my partner:  Do I have a plan? Is my plan feasible?*\n",
    "\n",
    "### Proposed Plan: Key Milestones by Day\n",
    "\n",
    "##### Day 2 (Wed Week 1):\n",
    "- Develop Project Proposal\n",
    "- Push Docs / Repo / Roadmap Update\n",
    "\n",
    "##### Day 3 (Thu Week 1):\n",
    "- *milestone 1*\n",
    "- *milestone 2*\n",
    "- *milestone X...*\n",
    "- Push docs / repo\n",
    "\n",
    "##### Day 4 (Tue Week 2): \n",
    "- *milestone X+1*\n",
    "- *milestone X+2*\n",
    "- *milestone X+3*\n",
    "- Push docs / repo\n",
    "\n",
    "##### Day 5 (Wed Week 2):\n",
    "- Project highlights\n",
    "- Identify question or cohort knowledge gap for sprint review\n",
    "- Develop Topic Project + Presentation\n",
    "- Push Repo / docs / Presentation\n",
    "\n",
    "### Project Definition and README.MD Discussion \n",
    "*This is a discussion of how this project will fit into my overall roadmap. I will update my roadmap with the following project definition*\n",
    "\n",
    "*I will focus my project Repo's README.MD on the same topic, but with this additional detail.*\n"
   ]
  },
  {
   "cell_type": "markdown",
   "metadata": {},
   "source": [
    "--- \n",
    "## DAY 3: Thursday (Week 1)\n",
    "\n",
    "#### Setup for Repo and Documentation Push\n",
    "Today I worked mostly with the disease data. Here are the questions I asked and the work I did. "
   ]
  },
  {
   "cell_type": "code",
   "execution_count": null,
   "metadata": {
    "collapsed": true
   },
   "outputs": [],
   "source": [
    "## 1. What was the measles total count for Hawaii vs the United states average in 1960.\n",
    "\n",
    "## 1A. Total count for Hawaii 1960.\n",
    "\n",
    "# Contagious disease data\n",
    "data(\"us_contagious_diseases\")\n",
    "# Adding to a variable\n",
    "Diseases <- (us_contagious_diseases)\n",
    "# getting the year 1960\n",
    "subset(Diseases,year==1960)\n",
    "Year_1960 <- subset(Diseases,year==1960)\n",
    "# Measles for all in 1960\n",
    "Measles_1960 <- subset(Year_1960,disease==\"Measles\")\n",
    "MeaslesHI_1960 <- subset(Measles_1960,state==\"Hawaii\")\n",
    "HIMeaslesCT <-MeaslesHI_1960$count\n",
    "#Measles Count Hawaii\n",
    "HIMeaslesCT\n",
    "\n",
    "# Answer\n",
    "# 5322\n",
    "\n",
    "#1B. \n",
    "USMeasles_avg <- mean(Measles_1960$count)\n",
    "#Answer\n",
    "# 8474.922\n",
    "\n",
    "#2A. Which state had the highest count (in 52 weeks) for each  disease.\n",
    "\n",
    "# filtering 52 weeks from diseases report\n",
    "Week52_reporting <- subset(Diseases, weeks_reporting==52)\n",
    "#filtering out just Measles from the weeks reporting 52\n",
    "Measles52wks <- subset(Week52_reporting, disease==\"Measles\")\n",
    "#doing which.max tells you which line the code is on.\n",
    "which.max(Measles52wks$count)\n",
    "#ANSWER!\n",
    "MeaslesHigh <- Measles52wks[317,]\n",
    "## printed MeaslesHigh\n",
    "     disease        state year weeks_reporting  count population\n",
    "5245 Measles Pennsylvania 1938              52 132342    9851738\n",
    "\n",
    "#filtering out just HEP  A  from the weeks reporting 52\n",
    "HEPA52wks <- subset(Week52_reporting, disease==\"Hepatitis A\")\n",
    "#doing which.max tells you which line the code is on.\n",
    "which.max(HEPA52wks$count)\n",
    "#ANSWER!\n",
    "HEPAHigh <- HEPA52wks[5,]\n",
    "## printed HEPAHigh\n",
    "        disease      state year weeks_reporting count population\n",
    "187 Hepatitis A California 1968              52 10821   19219725\n",
    "\n",
    "#filtering out just Mumps  from the weeks reporting 52\n",
    "mumps52wks <- subset(Week52_reporting, disease==\"Mumps\")\n",
    "#doing which.max tells you which line the code is on.\n",
    "which.max(mumps52wks$count)\n",
    "#ANSWER!\n",
    "MumpsHigh <- mumps52wks[47,]\n",
    "# printed MumpsHigh\n",
    "    disease    state year weeks_reporting count population\n",
    "7022   Mumps Michigan 1975              52  9867    9156979\n",
    "\n",
    "#filtering out just Pertussis  from the weeks reporting 52\n",
    "Pert52wks <- subset(Week52_reporting, disease==\"Pertussis\")\n",
    "#doing which.max tells you which line the code is on.\n",
    "which.max(Pert52wks$count)\n",
    "#ANSWER!\n",
    "PertussisHigh <- Pert52wks[164,]\n",
    "## printed PertussisHigh\n",
    "        disease    state year weeks_reporting count population\n",
    "10428 Pertussis New York 1939              52 22013   13406915\n",
    "\n",
    "#filtering out just Polio  from the weeks reporting 52\n",
    "Polio52wks <- subset(Week52_reporting, disease==\"Polio\")\n",
    "#doing which.max tells you which line the code is on.\n",
    "which.max(Polio52wks$count)\n",
    "#ANSWER!\n",
    "PolioHigh <- Polio52wks[164,]\n",
    "# Printed PolioHigh\n",
    "      disease    state year weeks_reporting count population\n",
    "14202   Polio New York 1939              52 22013   13406915\n",
    "\n",
    "#filtering out just Rubella from the weeks reporting 52\n",
    "Rubella52wks <- subset(Week52_reporting, disease==\"Rubella\")\n",
    "#doing which.max tells you which line the code is on.\n",
    "which.max(Rubella52wks$count)\n",
    "RubellaHigh <- Rubella52wks[3,]\n",
    "# Printed RubellaHigh\n",
    "      disease      state year weeks_reporting count population\n",
    "15764 Rubella California 1971              52  8384   20300216\n",
    "\n",
    "#filtering out just Small pox  from the weeks reporting 52\n",
    "Smlpx52wks <- subset(Week52_reporting, disease==\"Smallpox\")\n",
    "#doing which.max tells you which line the code is on.\n",
    "which.max(Smlpx52wks$count)\n",
    "#ANSWER!\n",
    "SmallpoxHigh <- Smlpx52wks[163,]\n",
    "## Printed SmallpoxHigh\n",
    "       disease   state year weeks_reporting count population\n",
    "17911 Smallpox Indiana 1930              52  5239    3238503\n",
    "\n",
    "# thanks ben... \n",
    "Diseases %>% subset(weeks_reporting == 52) %>% group_by(disease) %>% summarise(max(count)) \n",
    "# this is what is prints\n",
    "  disease     `max(count)`\n",
    "  <fctr>             <dbl>\n",
    "1 Hepatitis A        10821\n",
    "2 Measles           132342\n",
    "3 Mumps               9867\n",
    "4 Pertussis          22013\n",
    "5 Polio              22013\n",
    "6 Rubella             8384\n",
    "7 Smallpox            5239"
   ]
  },
  {
   "cell_type": "markdown",
   "metadata": {},
   "source": [
    "That was the work I was able to get done today. I still need to figure out how to either combine all of the data that I have retrieved or figure out how to get the rest of the rows and columns from the code that Ben taught me how to write."
   ]
  },
  {
   "cell_type": "markdown",
   "metadata": {},
   "source": [
    "---\n",
    "## DAY 4: Tuesday (Week 2)\n",
    "\n",
    "I didnt get a lot done today... However! I did finish up the question which was eating away at me! finally figured out the code that would give me the answer!"
   ]
  },
  {
   "cell_type": "code",
   "execution_count": 2,
   "metadata": {},
   "outputs": [
    {
     "ename": "SyntaxError",
     "evalue": "invalid syntax (<ipython-input-2-5e1a410d72ea>, line 2)",
     "output_type": "error",
     "traceback": [
      "\u001b[0;36m  File \u001b[0;32m\"<ipython-input-2-5e1a410d72ea>\"\u001b[0;36m, line \u001b[0;32m2\u001b[0m\n\u001b[0;31m    DiseaseHigh <- ddply(Week52_reporting, 'disease', function(x) x[x$count==max(x$count),])\u001b[0m\n\u001b[0m                                                                  ^\u001b[0m\n\u001b[0;31mSyntaxError\u001b[0m\u001b[0;31m:\u001b[0m invalid syntax\n"
     ]
    }
   ],
   "source": [
    "# messing with ddply - its what I was looking for!\n",
    "DiseaseHigh <- ddply(Week52_reporting, 'disease', function(x) x[x$count==max(x$count),])\n",
    "# DiseaseHigh Printed\n",
    "\n",
    "      disease        state year weeks_reporting  count population\n",
    "1 Hepatitis A   California 1968              52  10821   19219725\n",
    "2     Measles Pennsylvania 1938              52 132342    9851738\n",
    "3       Mumps     Michigan 1975              52   9867    9156979\n",
    "4   Pertussis     New York 1939              52  22013   13406915\n",
    "5       Polio     New York 1939              52  22013   13406915\n",
    "6     Rubella   California 1971              52   8384   20300216\n",
    "7    Smallpox      Indiana 1930              52   5239    3238503\n",
    "\n",
    "## YASSSSS!\n",
    "\n",
    "## It would be interesting to see why Pertusis and Polio have the same count, in the same state in the same year. \n",
    "\n",
    "## Seems very fishy... "
   ]
  },
  {
   "cell_type": "markdown",
   "metadata": {
    "collapsed": true
   },
   "source": [
    "I wanted to plot the graph that had all of the Disease data. Here is my code:"
   ]
  },
  {
   "cell_type": "code",
   "execution_count": null,
   "metadata": {
    "collapsed": true
   },
   "outputs": [],
   "source": [
    "ggplot(Week52_reporting, aes(x=year, y=count)) + geom_point()"
   ]
  },
  {
   "cell_type": "markdown",
   "metadata": {},
   "source": [
    "Then! Ben taught me to add color to the plot so I could actually see which disease went where on the scatter plot. Here is the code:"
   ]
  },
  {
   "cell_type": "code",
   "execution_count": null,
   "metadata": {
    "collapsed": true
   },
   "outputs": [],
   "source": [
    "Week52plot <- ggplot(Week52_reporting, aes(x=year, y=count, color=disease)) + geom_point()"
   ]
  },
  {
   "cell_type": "code",
   "execution_count": null,
   "metadata": {
    "collapsed": true
   },
   "outputs": [],
   "source": [
    "## Added actual colors that I liked to my scatter plot "
   ]
  },
  {
   "cell_type": "code",
   "execution_count": null,
   "metadata": {
    "collapsed": true
   },
   "outputs": [],
   "source": [
    "Week52plot <- (Week52plot + scale_color_manual(values = c(\"royalblue1\", \"green3\", \"violet\", \"red4\", \"darkorchid\", \"cyan1\",\"coral\")))"
   ]
  },
  {
   "cell_type": "markdown",
   "metadata": {},
   "source": [
    "[link to colors](http://sape.inf.usi.ch/quick-reference/ggplot2/colour)"
   ]
  },
  {
   "cell_type": "code",
   "execution_count": null,
   "metadata": {
    "collapsed": true
   },
   "outputs": [],
   "source": []
  },
  {
   "cell_type": "markdown",
   "metadata": {},
   "source": [
    "I didn't like that originally the plot was giving me scientific notation. I dont understand what it means! I needed laymens terms!\n",
    "This [link](https://stackoverflow.com/questions/5963047/do-not-want-scientific-notation-on-plot-axis) was very helpful when learning about how to fix scientific notation.\n",
    "I typed: options(scipen = 10) which changed my scientific notation to a normal number. "
   ]
  },
  {
   "cell_type": "markdown",
   "metadata": {},
   "source": [
    "--- \n",
    "\n",
    "## DAY 5: Wednesday (Week 2)\n",
    "\n",
    "#### Continuing on with today's code!"
   ]
  },
  {
   "cell_type": "code",
   "execution_count": null,
   "metadata": {
    "collapsed": true
   },
   "outputs": [],
   "source": []
  },
  {
   "cell_type": "code",
   "execution_count": null,
   "metadata": {
    "collapsed": true
   },
   "outputs": [],
   "source": [
    "Disease_percent = total %>% group_by(disease) %>% summarise(first(count.x), sum(count.y), first(state.x), first(year)) %>% mutate(percent.of.disease=`first(count.x)`/`sum(count.y)`*100)\n",
    "total <- merge(DiseaseHigh, Week52_reporting, by=c(\"disease\", \"year\"))\n",
    "\n",
    "# This is what it prints as!\n",
    "\n",
    "  disease     `first(count.x)` `sum(count.y)` `first(state.x)` `first(year)` percent.of.disease\n",
    "  <fct>                  <dbl>          <dbl> <fct>                    <dbl>              <dbl>\n",
    "1 Hepatitis A            10821          29804 California                1968               36.3\n",
    "2 Measles               132342         620916 Pennsylvania              1938               21.3\n",
    "3 Mumps                   9867          49271 Michigan                  1975               20.0\n",
    "4 Pertussis              22013         185222 New York                  1939               11.9\n",
    "5 Polio                  22013         185222 New York                  1939               11.9\n",
    "6 Rubella                 8384          32045 California                1971               26.2\n",
    "7 Smallpox                5239          44027 Indiana                   1930               11.9"
   ]
  },
  {
   "cell_type": "markdown",
   "metadata": {},
   "source": [
    "## Day 6: Thursday (Week 2)\n",
    "--- \n",
    "\n",
    "#### Things I didn't get to\n",
    "*Here are some ideas that I didn't get to implement, but wanted to. I will be adding these to my roadmap table entry for this sprint as well."
   ]
  },
  {
   "cell_type": "code",
   "execution_count": null,
   "metadata": {
    "collapsed": true
   },
   "outputs": [],
   "source": []
  }
 ],
 "metadata": {
  "kernelspec": {
   "display_name": "Python 3",
   "language": "python",
   "name": "python3"
  },
  "language_info": {
   "codemirror_mode": {
    "name": "ipython",
    "version": 3
   },
   "file_extension": ".py",
   "mimetype": "text/x-python",
   "name": "python",
   "nbconvert_exporter": "python",
   "pygments_lexer": "ipython3",
   "version": "3.6.1"
  }
 },
 "nbformat": 4,
 "nbformat_minor": 2
}
