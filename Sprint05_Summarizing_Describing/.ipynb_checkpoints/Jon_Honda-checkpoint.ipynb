{
 "cells": [
  {
   "cell_type": "markdown",
   "metadata": {
    "collapsed": true
   },
   "source": [
    "# [Sprint Topic] Sprint Journal for [Author]"
   ]
  },
  {
   "cell_type": "markdown",
   "metadata": {
    "collapsed": true
   },
   "source": [
    "---\n",
    "## DAY 1: Tuesday (Week 1)\n",
    "### What I Expect to Learn\n",
    "* I hope to learn more about what exactly we mean when we say 'exploratory data analysis'. I hope to better understand the process too. These things will in turn help me build effective approaches to developing data engineering solutions.\n",
    "\n",
    "* I expect to learn about how bias can affect data analysis.\n",
    "\n",
    "* I expect to learn techniques to minimize bias during hypothises development\n",
    "\n",
    "* I expect to develop an EDA template that I can use as I move forward in my data analysis course.\n",
    "\n",
    "### Project References\n",
    "####Bias links:\n",
    "- Why bias is a problem: *https://hbr.org/2013/04/the-hidden-biases-in-big-data*\n",
    "- How to minimize bias:*https://hbr.org/2015/05/outsmart-your-own-biases?referral=03759&cm_vc=rr_item_page.bottomu*\n",
    "\n",
    "- Python plotting library (including maps) *https://plot.ly/python/scattermapbox/#mapbox-access-token*\n",
    "\n",
    "### Project Pitch\n",
    "- *I will find a Kaggle analysis to review and recreate. I will try to identify biases in the analysis. I will try to find different observations and hypotheses*"
   ]
  },
  {
   "cell_type": "markdown",
   "metadata": {},
   "source": [
    "--- \n",
    "## DAY 2: Wednesday (Week 1)\n",
    "### Pitch Feedback \n",
    "*These are comments I received or ideas I had from people's feedback to my pitch *\n",
    "\n",
    "### Prototype Notes\n",
    "#### Developing good questions feels a lot like first step of scientific method *https://en.wikipedia.org/wiki/Scientific_method*:\n",
    " - The method is a continuous process that begins with observations about the natural world. People are naturally inquisitive, so they often come up with questions about things they see or hear, and they often develop ideas or hypotheses about why things are the way they are. The best hypotheses lead to predictions that can be tested in various ways. The strongest tests of hypotheses come from carefully controlled experiments that gather empirical data. Depending on how well additional tests match the predictions, the original hypothesis may require refinement, alteration, expansion or even rejection. If a particular hypothesis becomes very well supported, a general theory may be developed.\n",
    " \n",
    "#### Hypothesis development\n",
    "from:*https://en.wikipedia.org/wiki/Scientific_method#Hypothesis_development* \n",
    "A hypothesis is a suggested explanation of a phenomenon, or alternately a reasoned proposal suggesting a possible correlation between or among a set of phenomena.\n",
    "\n",
    "Normally hypotheses have the form of a mathematical model. Sometimes, but not always, they can also be formulated as existential statements, stating that some particular instance of the phenomenon being studied has some characteristic and causal explanations, which have the general form of universal statements, stating that every instance of the phenomenon has a particular characteristic.\n",
    "\n",
    "Scientists are free to use whatever resources they have – their own creativity, ideas from other fields, inductive reasoning, Bayesian inference, and so on – to imagine possible explanations for a phenomenon under study. Charles Sanders Peirce, borrowing a page from Aristotle (Prior Analytics, 2.25) described the incipient stages of inquiry, instigated by the \"irritation of doubt\" to venture a plausible guess, as abductive reasoning. The history of science is filled with stories of scientists claiming a \"flash of inspiration\", or a hunch, which then motivated them to look for evidence to support or refute their idea. Michael Polanyi made such creativity the centerpiece of his discussion of methodology.\n",
    "\n",
    "William Glen observes that the success of a hypothesis, or its service to science, lies not simply in its perceived \"truth\", or power to displace, subsume or reduce a predecessor idea, but perhaps more in its ability to stimulate the research that will illuminate ... bald suppositions and areas of vagueness.[77]\n",
    "\n",
    "In general scientists tend to look for theories that are \"elegant\" or \"beautiful\". In contrast to the usual English use of these terms, they here refer to a theory in accordance with the known facts, which is nevertheless relatively simple and easy to handle. Occam's Razor serves as a rule of thumb for choosing the most desirable amongst a group of equally explanatory hypotheses.\n",
    "\n",
    "In general scientists tend to look for theories that are \"elegant\" or \"beautiful\". In contrast to the usual English use of these terms, they here refer to a theory in accordance with the known facts, which is nevertheless relatively simple and easy to handle. Occam's Razor serves as a rule of thumb for choosing the most desirable amongst a group of equally explanatory hypotheses.\n",
    "\n",
    "To minimize the confirmation bias which results from entertaining a single hypothesis, strong inference emphasizes the need for entertaining multiple alternative hypotheses.[78]\n",
    "\n",
    "*Results from prototype experiments, snippets of code, things I tried * \n",
    "\n",
    "- from the above, it appears developing multiple alternative hypotheses is a key part of the process Identifying independent and dependent variables may help?\n",
    "  *https://www.sciencebuddies.org/science-fair-projects/science-fair/variables*\n",
    "\n",
    "e.g. \n",
    "    Observation from looking at data: When it rains, cats meow.\n",
    "    Hypothesis: When it rains, cats meow because they feel wet.\n",
    "\n",
    "### Pair Show & Tell Comments\n",
    "*Comments from prototype discussion*\n",
    "Ben and I discussed my progress, and feeling that I was getting into the weeds. Some comments:\n",
    " - Overall: sci. method apprroach okay; but we're not interested in hypothesis being about analysis and conclusions at this time (i.e. why cats meow when it rains).\n",
    " - We are interested in validity and quality of data. e.g.: are there reasons to expect the data to be incorrect? Maybe rain and meow were collected separately, and someone combined data together, but made an error in time association.\n",
    " \n",
    " - so, we want to do hypothesis on why observation is valid.\n",
    " - we can also do hypothesis on why observation is invalid, which would satisfy what sources suggest about finding alternate reasons for data correlation.\n",
    " - we also want to answer questions like, are your observations valid? are you seeing a mirage?\n",
    "  \n",
    "*These comments lead into plan development. Key considerations for me and my partner:  Do I have a plan? Is my plan feasible?*\n",
    "\n",
    "### Proposed Plan: Key Milestones by Day\n",
    "\n",
    "##### Day 2 (Wed Week 1):\n",
    "- Develop Project Proposal\n",
    "- Push Docs / Repo / Roadmap Update\n",
    "\n",
    "##### Day 3 (Thu Week 1):\n",
    "- *Identify Kaggle dataset to use*\n",
    "- *Identify Kaggle analysis to review*\n",
    "- *Begin working with the analysis - can I recreate parts of it?*\n",
    "- Push docs / repo\n",
    "\n",
    "##### Day 4 (Tue Week 2): \n",
    "- *Review the Kaggle analysis for bias*\n",
    "- *Perform my own analysis - can I find alternate observations and analyses?*\n",
    "- Push docs / repo\n",
    "\n",
    "##### Day 5 (Wed Week 2):\n",
    "- Project highlights\n",
    "- Identify question or cohort knowledge gap for sprint review\n",
    "- Develop Topic Project + Presentation\n",
    "- Push Repo / docs / Presentation\n",
    "\n",
    "### Project Definition and README.MD Discussion \n",
    "*This is a discussion of how this project will fit into my overall roadmap. I will update my roadmap with the following project definition*\n",
    "\n",
    "*I will focus my project Repo's README.MD on the same topic, but with this additional detail.*\n"
   ]
  },
  {
   "cell_type": "markdown",
   "metadata": {},
   "source": [
    "--- \n",
    "## DAY 3: Thursday (Week 1)\n",
    "\n",
    "#### Setup for Repo and Documentation Push\n",
    "*Setup and testing I did to make sure my repo and documentation were ready to push at the end of the day*\n",
    "\n",
    "#### Repo File Strategy Discussion\n",
    "*How I will present my repo files for clarity and demonstration*\n",
    "1. List process steps used to do my EDA\n",
    "2. List commands and libraries I found especially helpful in doing EDA\n",
    "3. Include jupyter notebook I used to do my EDA of others' Kaggle analysis work.\n",
    "\n",
    "#### Work towards milestone 1\n",
    "*Work I did towards Milestone *\n",
    "I have decided to work with the TED talk data set:\n",
    "https://www.kaggle.com/rounakbanik/ted-talks\n",
    "\n",
    "#### Work towards milestone 2\n",
    "*Work I did towards Milestone *\n",
    "I have decided to work with this analysis of the TED talk data set:\n",
    "https://www.kaggle.com/jhonda/ted-data-analysis/editnb\n",
    "it's fairly comprehensive and lots of good charts, dataframes that I can review code on.\n",
    "\n",
    "#### Work towards milestone 3\n",
    "*Work I did towards Milestone *\n",
    "\n",
    "\n"
   ]
  },
  {
   "cell_type": "markdown",
   "metadata": {},
   "source": [
    "---\n",
    "## DAY 4: Tuesday (Week 2)\n",
    "\n",
    "#### Work in Progress Feedback \n",
    "*Feedback and ideas from my work in progress presentation *\n",
    "\n",
    "#### Work towards milestone 1\n",
    "*Work I did towards Milestone *\n",
    "\n",
    "#### Work towards milestone 2\n",
    "*Work I did towards Milestone *\n",
    "\n",
    "#### Work towards milestone 3\n",
    "*Work I did towards Milestone *\n"
   ]
  },
  {
   "cell_type": "markdown",
   "metadata": {},
   "source": [
    "--- \n",
    "\n",
    "## DAY 5: Wednesday (Week 2)\n",
    "\n",
    "### Project Highlights: The things I am most excited about in my project\n",
    "Me\n",
    "- \n",
    "- \n",
    "- \n",
    "\n",
    "Peer Identified\n",
    "\n",
    "- \n",
    "- \n",
    "- \n",
    "\n",
    "### Peer Repo Feedback \n",
    "\n",
    "*Here are the changes I am making to my repo structure for additional clarity* \n",
    "- \n",
    "- \n",
    "- \n",
    "\n"
   ]
  },
  {
   "cell_type": "markdown",
   "metadata": {},
   "source": [
    "## Day 6: Thursday (Week 2)\n",
    "--- \n",
    "\n",
    "#### Things I didn't get to\n",
    "*Here are some ideas that I didn't get to implement, but wanted to. I will be adding these to my roadmap table entry for this sprint as well."
   ]
  },
  {
   "cell_type": "code",
   "execution_count": null,
   "metadata": {
    "collapsed": true
   },
   "outputs": [],
   "source": []
  }
 ],
 "metadata": {
  "kernelspec": {
   "display_name": "Python 3",
   "language": "python",
   "name": "python3"
  },
  "language_info": {
   "codemirror_mode": {
    "name": "ipython",
    "version": 3
   },
   "file_extension": ".py",
   "mimetype": "text/x-python",
   "name": "python",
   "nbconvert_exporter": "python",
   "pygments_lexer": "ipython3",
   "version": "3.6.3"
  }
 },
 "nbformat": 4,
 "nbformat_minor": 2
}
