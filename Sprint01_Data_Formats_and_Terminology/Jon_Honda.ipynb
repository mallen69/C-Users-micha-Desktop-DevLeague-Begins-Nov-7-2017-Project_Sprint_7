{
 "cells": [
  {
   "cell_type": "markdown",
   "metadata": {
    "collapsed": true
   },
   "source": [
    "# Jon Honda's Project\n",
    "#### [11/14/2017] | [Jon Honda] | [Sprint 1]\n",
    "#### Description\n",
    "Sprint 1 will help me gain familiarity with HTML tags used in web news stories and  tools available for converting HTML tagged data into various data formats. \n",
    "\n",
    "## Skill Backlog User Story\n",
    "As a financial analysis data engineer, I need to understand the structure and format of web-based financial information and news stories, so that I can extract it and use it to identify interesting trends. \n",
    "\n",
    "## Project Proposal\n",
    "I will explore how various web sites encode news articles using HTML tags. I will then explore various python libraries available to scrape these tags. I will then attempt to write a python script that writes the scraped information into various data formats (JSON/CSV/XML).\n",
    "\n",
    "## Key Questions\n",
    "- How do web sites tag news articles?\n",
    "- How do we create a python program?\n",
    "- What libraries are available for web scraping news articles?\n",
    "- How do we install python libraries?\n",
    "\n",
    "\n",
    "## Key Findings\n",
    "- A running list of things that I'm learning and don't want to forget\n",
    "\n",
    "## Gameplan\n",
    "Here is my overall approach \n",
    "1. Find out how to manually read HTML tagged news articles\n",
    "2. Get python Hello World program to work.\n",
    "3. Install a web scraping python library (newspaper).\n",
    "4. Write script to scrape web news article.\n",
    "5. Write script to write scraped data into JSON, XML, and CSV file formats.\n",
    "\n",
    "---\n",
    "\n",
    "## Day 1 Work\n",
    "\n",
    "This is what I tried to do on Day 1. Here's some Code\n",
    "\n",
    "## Day 2 Work\n",
    "\n",
    "This is what I tried to do on Day 2. Here's some more code\n",
    "\n",
    "## Peer Feedback on Day 3\n",
    "\n",
    "After talking it over with a peer, I received the following feedback and decided to make these changes\n",
    "\n",
    "## Here are some overall notes on the skills I learned\n",
    "And perhaps some stream of consciousness notes about what I did, and other questions I might have"
   ]
  },
  {
   "cell_type": "code",
   "execution_count": null,
   "metadata": {
    "collapsed": true
   },
   "outputs": [],
   "source": []
  }
 ],
 "metadata": {
  "kernelspec": {
   "display_name": "Python 3",
   "language": "python",
   "name": "python3"
  },
  "language_info": {
   "codemirror_mode": {
    "name": "ipython",
    "version": 3
   },
   "file_extension": ".py",
   "mimetype": "text/x-python",
   "name": "python",
   "nbconvert_exporter": "python",
   "pygments_lexer": "ipython3",
   "version": "3.6.3"
  }
 },
 "nbformat": 4,
 "nbformat_minor": 2
}
