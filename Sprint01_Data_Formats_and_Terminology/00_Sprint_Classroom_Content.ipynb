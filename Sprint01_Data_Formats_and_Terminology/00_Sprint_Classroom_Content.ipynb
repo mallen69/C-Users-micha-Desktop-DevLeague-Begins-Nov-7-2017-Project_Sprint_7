{
 "cells": [
  {
   "cell_type": "markdown",
   "metadata": {},
   "source": [
    "# Data Formats and Terminology\n",
    "\n",
    "## Key Concepts and Definitions\n",
    "- Column\n",
    "- Row\n",
    "- Field\n",
    "- Table\n",
    "- Cell\n",
    "- Variable\n",
    "- Observation\n",
    "- Binary File\n",
    "- ASCII File\n",
    "- CSV Format\n",
    "- JSON Format\n",
    "- XML Format\n",
    "- API\n",
    "\n",
    "## Key Questions\n",
    "- Where does data come from?\n",
    "- What is the relationship between rows and columns? Fields, cells, tables?\n",
    "- What is hierarchical data?\n",
    "- How do we store data in files?\n",
    "- What is the relationship between APIs and file formats?\n",
    "- Can data be redundant? Do we want that?\n",
    "- Why is data typically 2 dimensional?\n",
    "- When is two-dimensional data insufficient?\n",
    "- What is relational data? Multidimensional data?\n",
    "- What applications can I use to open data\n",
    "- What formats can I use to save data?\n",
    "\n",
    "## Project Ideas\n",
    "\n",
    "## Data Formats\n",
    "\n",
    "#### Table\n",
    "|ObservationNum|Field|Field2|Field3|\n",
    "|--|--|--|--|\n",
    "|Observation 1|Cell|Cell|Cell|\n",
    "|Observation 2|Cell|Cell|Cell|\n",
    "|Observation 3|Cell|Cell|Cell|\n",
    "|Observation 4|Cell|Cell|Cell|\n",
    "|Observation 5|Cell|Cell|Cell|\n",
    "\n",
    "#### CSV"
   ]
  },
  {
   "cell_type": "raw",
   "metadata": {
    "collapsed": true
   },
   "source": [
    "ObservationNum, Field, Field2, Field3\n",
    "Observation 1, Cell, Cell, Cell\n",
    "Observation 2, Cell, Cell, Cell\n",
    "Observation 3, Cell, Cell, Cell\n",
    "Observation 4, Cell, Cell, Cell\n",
    "Observation 5, Cell, Cell, Cell"
   ]
  },
  {
   "cell_type": "markdown",
   "metadata": {},
   "source": [
    "#### JSON"
   ]
  },
  {
   "cell_type": "code",
   "execution_count": null,
   "metadata": {
    "collapsed": true
   },
   "outputs": [],
   "source": [
    "{ \"Observations\":[\n",
    "    {\"ObservationNum\": \"Observation 1\", \"Field\": \"Cell\", \"Field2\": \"Cell\", \"Field3\": \"Cell\"},\n",
    "    {\"ObservationNum\": \"Observation 2\", \"Field\": \"Cell\", \"Field2\": \"Cell\", \"Field3\": \"Cell\"}\n",
    "    {\"ObservationNum\": \"Observation 3\", \"Field\": \"Cell\", \"Field2\": \"Cell\", \"Field3\": \"Cell\"}\n",
    "    {\"ObservationNum\": \"Observation 4\", \"Field\": \"Cell\", \"Field2\": \"Cell\", \"Field3\": \"Cell\"}\n",
    "    {\"ObservationNum\": \"Observation 5\", \"Field\": \"Cell\", \"Field2\": \"Cell\", \"Field3\": \"Cell\"}\n",
    "]}"
   ]
  },
  {
   "cell_type": "markdown",
   "metadata": {},
   "source": [
    "#### XML"
   ]
  },
  {
   "cell_type": "code",
   "execution_count": null,
   "metadata": {
    "collapsed": true
   },
   "outputs": [],
   "source": [
    "<Observations>\n",
    "    <Observation>\n",
    "        <ObservationNum>Observation 1</ObservationNum>\n",
    "        <Field>Cell</Field>\n",
    "        <Field2>Cell</Field2> \n",
    "        <Field3>Cell</Field3>\n",
    "    </Observation>\n",
    "    <Observation>\n",
    "        <ObservationNum>Observation 2</ObservationNum>\n",
    "        <Field>Cell</Field>\n",
    "        <Field2>Cell</Field2>\n",
    "        <Field3>Cell</Field3>\n",
    "    </Observation>\n",
    "    <Observation>\n",
    "        <ObservationNum>Observation 3</ObservationNum>\n",
    "        <Field>Cell</Field>\n",
    "        <Field2>Cell</Field2>\n",
    "        <Field3>Cell</Field3>\n",
    "    </Observation>\n",
    "    <Observation>\n",
    "        <ObservationNum>Observation 4</ObservationNum>\n",
    "        <Field>Cell</Field>\n",
    "        <Field2>Cell</Field2>\n",
    "        <Field3>Cell</Field3>\n",
    "    </Observation>\n",
    "    <Observation>\n",
    "        <ObservationNum>Observation 5</ObservationNum>\n",
    "        <Field>Cell</Field>\n",
    "        <Field2>Cell</Field2>\n",
    "        <Field3>Cell</Field3>\n",
    "    </Observation>\n",
    "</Observations>"
   ]
  }
 ],
 "metadata": {
  "kernelspec": {
   "display_name": "Python 3",
   "language": "python",
   "name": "python3"
  },
  "language_info": {
   "codemirror_mode": {
    "name": "ipython",
    "version": 3
   },
   "file_extension": ".py",
   "mimetype": "text/x-python",
   "name": "python",
   "nbconvert_exporter": "python",
   "pygments_lexer": "ipython3",
   "version": "3.6.1"
  }
 },
 "nbformat": 4,
 "nbformat_minor": 2
}
