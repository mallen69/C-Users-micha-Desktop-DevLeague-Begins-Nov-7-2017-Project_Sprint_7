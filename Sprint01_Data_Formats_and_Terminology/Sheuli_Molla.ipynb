{
 "cells": [
  {
   "cell_type": "markdown",
   "metadata": {
    "collapsed": true
   },
   "source": [
    "# Project 1\n",
    "#### [11/7/17] | [Sheuli Molla] | [Sprint 1]\n",
    "#### The beginning.\n",
    "Origin. Start. Inception\n",
    "\n",
    "## Skill Backlog User Story\n",
    "As a Data Scientist, I need to understand the basic terminology and structure of data so I can apply statistical analyses.\n",
    "\n",
    "## Project Proposal\n",
    "I will learn something. \n",
    "\n",
    "## Key Questions\n",
    "-How does this work?\n",
    "\n",
    "## Key Findings\n",
    "- Absolute beginner \n",
    "\n",
    "## Gameplan\n",
    "Here is my overall approach \n",
    "1. Step 1 Show up\n",
    "2. Step 2 code\n",
    "3. Step 3 take names\n",
    "4. Step 4 repeat\n",
    "\n",
    "---\n",
    "\n",
    "## Day 1 Work\n",
    "\n",
    "On day 1, I attampted to be aware of what I was doing and survive. \n",
    "\n",
    "## Day 2 Work\n",
    "\n",
    "See day 1. \n",
    "\n",
    "## Peer Feedback on Day 3\n",
    "\n",
    "Who's feeding whom?\n",
    "\n",
    "## Here are some overall notes on the skills I learned\n",
    "Humility"
   ]
  },
  {
   "cell_type": "code",
   "execution_count": null,
   "metadata": {
    "collapsed": true
   },
   "outputs": [],
   "source": []
  }
 ],
 "metadata": {
  "kernelspec": {
   "display_name": "Python 3",
   "language": "python",
   "name": "python3"
  },
  "language_info": {
   "codemirror_mode": {
    "name": "ipython",
    "version": 3
   },
   "file_extension": ".py",
   "mimetype": "text/x-python",
   "name": "python",
   "nbconvert_exporter": "python",
   "pygments_lexer": "ipython3",
   "version": "3.6.3"
  }
 },
 "nbformat": 4,
 "nbformat_minor": 2
}
