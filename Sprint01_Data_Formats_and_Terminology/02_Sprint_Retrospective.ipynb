{
 "cells": [
  {
   "cell_type": "markdown",
   "metadata": {},
   "source": [
    "# Sprint Retrospective - Data Formats and Terminology\n",
    "\n",
    "**11/19/2017**\n",
    "\n",
    "Dear Big Data Cohort #1,\n",
    "\n",
    "### Preface\n",
    "I’ve been trying to be more aware of the Hawaiian language as its used around me. Over the last week I’ve heard three phrases that were new to me that resonated with the underlying philosophies of the class. I’d like to share them to continue to build the framework of our classroom and learning environment.\n",
    "\n",
    "- *Malama i kekahi i kekahi*: Take care of each other.\n",
    "- *Ma ka hana ka ʻike*: In working one learns\n",
    "- *A’ohe hana nui ke alu ia*: No task is too big when done together by all.\n",
    "\n",
    "\n",
    "### Sprint Retrospective\n",
    "I think Justin nailed the essence of what this class is designed to do when he said (paraphrasing), *“sometimes it’s just about knowing how to ask google a good question”*\n",
    "\n",
    "A well crafted question captures scope, motivation, plan of attack, and application all at the same time. And while confusion breeds questions easily, formulating a productive question, is anything but easy. But questions connect us to the massive wealth of information and abilities available to us — on the internet, but also embedded in our communities. Questions are our API to our knowledge legacy as a civilization, as a species.\n",
    "\n",
    "The extent to which this classroom is succeeding or failing is, in my opinion, measured in its success or failure to support your ability to formulate and answer the questions that underlie your skill-building and professional goals. What are the questions that drive the problems you’re trying to solve or the value you’re trying to create? Did this sprint get you closer to knowing how to answer those questions?\n",
    "\n",
    "I said it before, and I want to re-iterate, the projects you delivered over just 24 hours of classroom time, exceeded my expectations for what was possible for a classroom of self-directed smart people with little to no programming experience. Which, to me, says that the process is working — albeit with considerably more anxiety than any of us thinks is desirable. Or necessary.\n",
    "\n",
    "So the questions that are driving me and the adjustments we make to the next sprint are\n",
    "- *How can we achieve equivalent production with less stress?*\n",
    "- *How can we direct people’s efforts, questions, and projects to maximize the production of job-applicable skills and knowledge?*\n",
    "- *How can we maximize every minute of the time spent in the classroom environment?*\n",
    "- *How can we use the class?*\n",
    "- *How can we empower people to feel like they are gradually becoming more equipped to answer their own questions?*\n",
    "- *How can we continue to map the knowledge space so people can navigate it?*\n",
    "\n",
    "In the adjustments I’ll outline below, I have attempted to integrate the feedback from our last sprint retrospective discussion as well as the individual impressions I have gathered from working with each of you. However I expect that I will continue to need your input and would like to request your continuing help. The motivation behind this letter is to make my thought process as transparent as possible so that you might correct it, build on it, steer it in another direction for the benefit of your professional outcomes and those of the rest of the cohort. After reading through the proposed adjustments, I invite your reflections and thoughts in similarly open and structured letters below to continue and deepen this conversation.\n",
    "\n",
    "### Scrapping Trello\n",
    "Trello, we hardly knew ye… I think the calls for streamlining the documentation and deliverables for the class make sense and they point to abandoning trello as it is not directly tied to a deliverable. We will need a way to keep track of our overall skill roadmaps and blueprints, as well as keep track of blockers and questions, which leads to the next two adjustments\n",
    "\n",
    "### #STUCK / #QUESTION Hashtags on Slack\n",
    "Both for use on slack and for the coaching staff to monitor and address. #STUCK will be something we try to address ASAP and track our performance on. We’ll post the #STUCK Stream on screen during class. So that coaches are available to work with #STUCK requests, right away we will attempt to shorten or at least manage the time we spend with individual students (but will continue to be available for general mentoring if no one else is #STUCK. I’d also encourage you to help each other get #UNSTUCK, as a lot of learning happens in getting #UNSTUCK\n",
    "\n",
    "QUESTIONs we’ll track at a higher level and attach to each sprint. In principle, either the projects (and documentation) themselves in combination with the classroom content should address all questions. If not, we’ll need to discuss whether they are relevant or should be carried onto the next sprint.\n",
    "\n",
    "### “Roadmap” iPython Notebooks\n",
    "I’ll be adding in a set of iPython Notebooks to transfer all of the skill stories you put into Trello. I’ll try to move these over for you to save you the extra work, but I will ask you to edit them. We will be adding a few things, namely a description of your professional vision for yourself after the class. The roadmap will contain your project, your skill story, your learning objectives all in one place so you can constantly be reviewing whether your projects support your skill and learning objectives and whether your skill and learning objectives support your big picture goals.\n",
    "\n",
    "Speaking of Roadmaps, I would also like to be more deliberate about checking proposed projects against the topics of FUTURE sprints. I should be better about this, but I can use your help. If we expect to cover something later, it may not make sense to pursue a project that does that prematurely before we have time to develop the skills that the future sprint will build upon. There may be a reason to jump ahead, but I just want to make sure that we’re aware of the sequence.\n",
    "\n",
    "### Simplifying Documentation Structure\n",
    "I thought Hunter’s comment about using the documentation as journaling made the most sense from the standpoint of streamlining the process. I think we will want to use the documentation to track what we are learning and thinking as we do it, and then organize it more coherently into the final project repo / README. The 3 necessary components of project documentation, that I would like to enforce being current at the top at all times\n",
    "1.) A descriptive title of the project\n",
    "2.) A description of the project and how it is helping you learn or develop a skill\n",
    "3.) A running list of what you are learning.\n",
    "Below that can just be headers of individual paths of inquiry or investigation you are working on.\n",
    "\n",
    "### Buddy System\n",
    "I also really like the suggestion for making more use of pairs / buddy system earlier in the process. I think starting with the concept mapping, we should establish some work being done in pairs. Tori’s idea to link the previous sprint concepts to the current one is something I would recommend here as well. I think having a designated feedback partner to ask questions to before escalating to a coach would be a productive pattern. We should aim for documentation commits at each mid-class break and at the end of every class with checkins with either the whole group or at least your partners with every commit. We’ll rotate partners to maximize exposure to each other’s unique skills.\n",
    "\n",
    "### Daily Slack Review Standup\n",
    "For better tracking and to make sure everyone is up to date on slack, we’ll do our daily standup based on what’s in slack. So if you have an blocker, question, or issue you want to discuss, definitely get it into slack.\n",
    "\n",
    "### Pitch Process\n",
    "Speaking of standups, after our first pitch session, there were a few modifications I wanted to make. I want to keep them short, 30 seconds or less. I also prefer alternating between hearing one person and another between pitches, so I think a “pitch circle” might be the best configuration. Finally, when we review the pitches to select projects, we should do that relative to the individual road map. So I propose a side-by-side comparison of the individual’s skill roadmap and all of the proposed projects to pick one that works for them.\n",
    "\n",
    "### Evolving the Skill Stories\n",
    "I see some limitations in the way we frame skill stories that are probably contributing to some uncertainty in how to best use them. I’m thinking about how to blend in a few more concepts, without making them overly complicated. A few options (could combine them even) are\n",
    "As a FUTURE __(desired job)__ I need to learn __(skill/concept)__ So that I can __(future job task)__\n",
    "Where the skills / concepts are things you put on your resume\n",
    "Future job tasks are things you may demonstrate with projects or future projects\n",
    "Additionally some stories like the following would capture the skills or interests you bring into the project that you can leverage.\n",
    "As a CURRENT __(current job)__ I need to solve __(current job task)__ problem which I can apply my current project to.\n",
    "\n",
    "### Guest Speakers / Subject Matter Experts\n",
    "It sounds like including them on Days 1 and/or 2 of the sprint was the general consensus for when they would be most impactful. I think it will make the most sense to start introducing these individuals into the mix with exploratory data analysis or basic data manipulation, so the sprint after next.\n",
    "\n",
    "### Application Tutorials and Basics\n",
    "I thought a lot about this one and the idea of outlining tutorials for using the programs we will be using in the class. The way I’m leaning now is continuing to resist this. Here’s my thinking on it. One of the primary purposes of the class as designed, is how to learn **how to learn** technology the way that you will most commonly be confronted with needing to do so: outside of the traditional classroom environment. Which isn’t to say you will not find those traditional experiences, in fact they’re easy to find everywhere, including online, often free — but I don’t think they will keep up with the pace of the technology you will need to learn in your future careers. What I want to emphasize is how to leverage your community for information, how to direct your questions, and how to piece together the fragments of information and tips and recommendations that come from all of that into actually **doing** stuff. Tutorials and resources exist for all of the stuff we will be working on. \n",
    "We can even work with you to find them. I would actually encourage you to create them as your potential projects! I don’t think us providing them will support the learning how to learn objective.\n",
    "\n",
    "To paraphrase Justin through Sheuli’s note on trello: “Most problems that we think we have, someone has probably already solved. We just don’t have the answer to the questions. Start iterating towards the right question.”\n",
    "\n",
    "And while we’re on this general topic, another thing I’ve thought a lot about post-sprint is a comment that several of you made about using technical skills that you didn’t really understand. The general idea being that you just followed a tutorial and copied what they said. In essence, someone else did it for you. \n",
    "\n",
    "I’m actually very much ok with this. I’m much more ok with other people (including the coaches) doing parts of your project “for you” as needed than I am prescribing skills to “learn” through a series of introductions or tutorials. Why? Because some of those skills are not relevant to what you’re trying to learn. If we can help you get to what you’re ultimately trying to learn by fast forwarding a bit, I think that’s what the coaches, and internet tutorials are here to do. \n",
    "\n",
    "On the other hand, if those things ARE what you’re trying to learn, we’ll try to resist giving you the easy answers and instead steering you to think about and inquire why things are arranged the way they are or how they would have to be arranged to work and make sense. In my experience, those types of thought exercises produce much better comprehension (even with respect to software tools and not just concepts) than tutorials we write would.\n",
    "\n",
    "I’m still open to changing my mind about the need for more explicit support on python / R for example, but if you’d bear with me for now, I’d like to hold out a bit longer and see what we can do without them. \n",
    "\n",
    "### More breaks between sprints\n",
    "Hunter suggested bringing up the idea of spreading out the class longer but taking a week off after each module (every two sprints). It would make the class last apprxomiately 50 weeks instead of 40. It wouldn't really kick in until after the holidays anyway, but I'm not opposed to it if it's something that makes it easier for everyone.\n",
    "\n",
    "### Learning Like Babies\n",
    "Sheuli’s comment on this point really hit home for me. A data blog I read recently made the point that he was teaching his young son (about bike riding) that falling is learning. And since that point, his son liked to say about every time he fell: “Don’t worry Dad, falling is learning!” Maybe “learning like babies” should be our new class motto.\n",
    "\n",
    "\n",
    "\n",
    "Ben…"
   ]
  },
  {
   "cell_type": "markdown",
   "metadata": {},
   "source": [
    "*Your Post Sprint Letter here!*"
   ]
  },
  {
   "cell_type": "markdown",
   "metadata": {},
   "source": [
    "*Your Post Sprint Letter here!*"
   ]
  },
  {
   "cell_type": "markdown",
   "metadata": {},
   "source": [
    "*Your Post Sprint Letter here!*"
   ]
  },
  {
   "cell_type": "markdown",
   "metadata": {},
   "source": [
    "*Your Post Sprint Letter here!*"
   ]
  }
 ],
 "metadata": {
  "kernelspec": {
   "display_name": "Python 3",
   "language": "python",
   "name": "python3"
  },
  "language_info": {
   "codemirror_mode": {
    "name": "ipython",
    "version": 3
   },
   "file_extension": ".py",
   "mimetype": "text/x-python",
   "name": "python",
   "nbconvert_exporter": "python",
   "pygments_lexer": "ipython3",
   "version": "3.6.1"
  }
 },
 "nbformat": 4,
 "nbformat_minor": 2
}
