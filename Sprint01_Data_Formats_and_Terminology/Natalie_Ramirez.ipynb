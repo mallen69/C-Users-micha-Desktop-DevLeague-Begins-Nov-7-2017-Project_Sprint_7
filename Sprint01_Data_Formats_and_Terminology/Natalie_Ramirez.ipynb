{
 "cells": [
  {
   "cell_type": "markdown",
   "metadata": {
    "collapsed": true
   },
   "source": [
    "# Project 1 (Aquiring Data and Data Formatting) \n",
    "#### 11/07/17 | Natalie | Sprint 1\n",
    "#### Description\n",
    "Locate and import data from CSV on local drive, import and convert to multiple file formats.\n",
    "\n",
    "## Skill Backlog User Story\n",
    "As a director of technology and innovation I need to understand the structure of data used to evaluate instructional program performance so that I can eventually compile data from students and third party sources to analyze and use to improve our programs.\n",
    "\n",
    "## Project Proposal\n",
    "The organization CIRR(Counsel on Integrity in Results Reporting) has just begun collecting data from select bootcamps in the nation. Results have been posted from January 2016 to December 2016 in PDF form for the public to view. My goal for this project is to create a program that reads in data from PDFs and structures them in a table/database. Through this project I hope to gain more knowledge about file formats and different python libraries used to convert and structure data.\n",
    "\n",
    "## Key Questions\n",
    "- What tools and plug ins to use that work best reading in data from PDFs\n",
    "- How to write Python scripts that read files from disk space.\n",
    "- How to export files from google drive.\n",
    "- How to parse data from imported data files.\n",
    "\n",
    "## Key Findings\n",
    "- Python to create automated scripts.\n",
    "- File formatting and data parsing.\n",
    "- Structure of reported standardized data.\n",
    "\n",
    "## Gameplan\n",
    "Here is my overall approach \n",
    "1. Determine structure of reported data and how they're collecting it. \n",
    "2. Clarify terminology used in reporting and meaning behind the data collected.\n",
    "2. Determine where to store files needed for analysis. The place needs to be secure and accessible. \n",
    "3. Determine what tools to use to extract data and put in table form.\n",
    "4. Test, review data for integrity ensure that it's pulling in accurate data matched to respective fields. \n",
    "5. Determine how much data DevLeague has to complie if we were ever to start reporting and what gaps we need to fill in. \n",
    "5. Stretch Goal: Visualize data in comparison by month and school.\n",
    "---\n",
    "\n",
    "## Day 1 Work\n",
    "\n",
    "I tried to use PDF Miner with Conda and import the PDF file, however it really didn't parse through data as I wanted it to. I ended up finding an online program that makes pdf into xlxs and I converted it to csv. Will be now using python to read the csv file and convert to json and xml. Then trying to convert those files back to csv.\n",
    "\n",
    "## Day 2 Work\n",
    "\n",
    "I ended up trying an easy online converter to convert the pdf to csv and downloaded the file. After taking a deeper look into the data itself, I determined that it was unstructured and inconsistent between schools. I had to consolidate all the schools data manually into one workbook and then convert that into csv. \n",
    "\n",
    "After consolidating all the data needed I finally started to build my scripts. The first script I built for json was returning the incorrect values for the keys.\n",
    "\n",
    "## Day 3 Work\n",
    "\n",
    "I finally got my script to work and got the key values to pair up with the field names. I started my script for xml and found that you needed to specify much more to get each record to display correctly.\n",
    "\n",
    "## Peer Feedback on Day 3\n",
    "\n",
    "After talking it over with a peer, I received the following feedback and decided to make these changes. \n",
    "- Make commments in my code to make it easy for others to understand.\n",
    "- Structure of my project neeeded to be cleaned up.\n",
    "\n",
    "## Here are some overall notes on the skills I learned\n",
    "And perhaps some stream of consciousness notes about what I did, and other questions I might have\n",
    "- I learned that PDFs are binary files and essentially image files which makes them difficult to parse.\n",
    "- A lot of fraud reporting is committed because if you scan in a PDF lightly or make copies of copies, PDF scanning software can miss data and certain characters. \n",
    "- How to use pyton to convert file formats.\n",
    " \n",
    "## Helpful links that helped me\n",
    "- [Data Formats](https://www.analyticsvidhya.com/blog/2017/03/read-commonly-used-formats-using-python/)\n",
    "\n",
    "\n",
    "\n",
    "\n",
    "\n"
   ]
  },
  {
   "cell_type": "code",
   "execution_count": null,
   "metadata": {
    "collapsed": true
   },
   "outputs": [],
   "source": []
  }
 ],
 "metadata": {
  "kernelspec": {
   "display_name": "Python 3",
   "language": "python",
   "name": "python3"
  },
  "language_info": {
   "codemirror_mode": {
    "name": "ipython",
    "version": 3
   },
   "file_extension": ".py",
   "mimetype": "text/x-python",
   "name": "python",
   "nbconvert_exporter": "python",
   "pygments_lexer": "ipython3",
   "version": "3.6.3"
  }
 },
 "nbformat": 4,
 "nbformat_minor": 2
}
