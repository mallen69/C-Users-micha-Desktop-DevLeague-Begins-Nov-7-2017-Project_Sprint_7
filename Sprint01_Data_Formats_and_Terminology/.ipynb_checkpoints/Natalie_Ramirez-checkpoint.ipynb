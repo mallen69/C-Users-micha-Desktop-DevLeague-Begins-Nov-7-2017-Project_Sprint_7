{
 "cells": [
  {
   "cell_type": "markdown",
   "metadata": {
    "collapsed": true
   },
   "source": [
    "# Project 1 (Aquiring Data and Data Formatting) \n",
    "#### 11/07/17 | Natalie | Sprint 1\n",
    "#### Description\n",
    "Locate and store data from PDFs stored on a google drive.\n",
    "\n",
    "## Skill Backlog User Story\n",
    "As a Data Engineer I need to be able to programmatically read, write, edit, and convert data files so that my tools can work with data sources.\n",
    "\n",
    "## Project Proposal\n",
    "The organization CIRR(Counsel on Integrity in Results Reporting) has just begun collecting data from select bootcamps in the nation. Results have been posted from January 2016 to December 2016 in PDF form for the public to view. My goal for this project is to create a program that reads in data from PDFs and structures them in a table/database. Since my company also has data stored in google docs, I'm going to take it a step further and automate the process of reading pdf files in a google drive and send them to a local disk and have my program read the file form that location. \n",
    "\n",
    "## Key Questions\n",
    "- What tools and plug ins to use that work best reading in data from PDFs\n",
    "- How to write Python scripts that read files from disk space.\n",
    "- How to export files from google drive.\n",
    "- How to parse data from imported data files.\n",
    "\n",
    "## Key Findings\n",
    "- New Language to develop automated program.\n",
    "- File formatting and data parsing.\n",
    "\n",
    "## Gameplan\n",
    "Here is my overall approach \n",
    "1. Determine where to store files needed for analysis. The place needs to be secure and accessible. \n",
    "2. Determine what tools to use to extract data and put in table form.\n",
    "3. Test, review data for integrity ensure that it's pulling in accurate data matched to respective fields. \n",
    "4. Stretch Goal: Visualize data in comparison by month and school.\n",
    "---\n",
    "\n",
    "## Day 1 Work\n",
    "\n",
    "This is what I tried to do on Day 1. Here's some Code\n",
    "\n",
    "## Day 2 Work\n",
    "\n",
    "This is what I tried to do on Day 2. Here's some more code\n",
    "\n",
    "## Peer Feedback on Day 3\n",
    "\n",
    "After talking it over with a peer, I received the following feedback and decided to make these changes\n",
    "\n",
    "## Here are some overall notes on the skills I learned\n",
    "And perhaps some stream of consciousness notes about what I did, and other questions I might have"
   ]
  },
  {
   "cell_type": "code",
   "execution_count": null,
   "metadata": {
    "collapsed": true
   },
   "outputs": [],
   "source": []
  }
 ],
 "metadata": {
  "kernelspec": {
   "display_name": "Python 3",
   "language": "python",
   "name": "python3"
  },
  "language_info": {
   "codemirror_mode": {
    "name": "ipython",
    "version": 3
   },
   "file_extension": ".py",
   "mimetype": "text/x-python",
   "name": "python",
   "nbconvert_exporter": "python",
   "pygments_lexer": "ipython3",
   "version": "3.6.1"
  }
 },
 "nbformat": 4,
 "nbformat_minor": 2
}
