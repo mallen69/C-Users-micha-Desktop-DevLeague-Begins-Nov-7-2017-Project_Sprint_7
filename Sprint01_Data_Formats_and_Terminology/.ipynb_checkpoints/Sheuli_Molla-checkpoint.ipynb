{
 "cells": [
  {
   "cell_type": "markdown",
   "metadata": {
    "collapsed": true
   },
   "source": [
    "##### SPRINT 1\n",
    "#### [11/15/17] | [Sheuli Molla] | [Sprint 1]\n",
    "#### Data Formatting \n",
    "\n",
    "\n",
    "## Skill Backlog User Story\n",
    "SPRINT 1 ( Statistical Modeler)- As a environmental assessment writer, I need to understand the basic structure of geospatial and water resource data so that I can develop tools that help me write EAs and EISs more efficiently.\n",
    "\n",
    "## Project Proposal\n",
    "I will learn how to: \n",
    "1. Create descriptions (metadata) about data sources\n",
    "2. Create a breakdown of terminology as it applies to the data sources\n",
    "3. Make a description of the data file formats\n",
    "4. Convert shape files into json and geojson\n",
    "5. Download necessary geospatial libraries\n",
    "\n",
    "## Key Questions\n",
    "Q1. What kind of data sets do I need to reference to write environmental assessments?\n",
    "Q2. What terms do I need to know to work with geospatial files?\n",
    "Q3. What kind of data file formats do I see for the data sets I use regularly?\n",
    "Q4. How do I convert shape files to json or geojson?\n",
    "Q5. What libraries are most useful for geospatial work?\n",
    "\n",
    "## Key Findings\n",
    "Q1F. I need data sets about different environmental and cultural aspects of geographies that can be expressed spatially. That is, I need shape files of different categories, such as: \n",
    "     a. Wetlands\n",
    "     b. coastal hazard areas\n",
    "     c. special managament areas\n",
    "     d. land use \n",
    "     \n",
    "     \n",
    "\n",
    "## Gameplan\n",
    "Here is my overall approach: \n",
    "1. Download geospatial data libraries in Anaconda\n",
    "2. Download some environmental databases. \n",
    "3. Figure out some functions in Geopandas to convert shape files to geojason files. \n",
    "4. Step 4 repeat\n",
    "\n",
    "---\n",
    "\n",
    "## Day 1 Work\n",
    "\n",
    "On day 1, I learned about the command line, and how to find directories and programs.  I found the path for Python in the Anaconda Prompt and edited my settings so that I could call Python from the command line prompt. \n",
    "\n",
    "## Day 2 Work\n",
    "\n",
    "On day 2, I downloaded geospatial libriaries such as Geopandas. I downloaded wetlands data and opened shape files in the command line environment using different commands from the geopandas website.  I was able to open and read shape files in the command line using Geopandas commands.  \n",
    "\n",
    "## Peer Feedback on Day 3\n",
    "\n",
    "On day 3, I went over my progress and trials with Justin.  Jusin peer reviewed my work and asked a lot of good questions about what I wanted to learn and accomplish.  We decided that I should study terminology for the work I am trying to do, and do my best to use it accurately in communications. \n",
    "\n",
    "## Here are some overall notes on the skills I learned\n",
    " INSTALLATION\n",
    "Anaconda Install-- Effecient way to download libraries which contain tools to work with datasets\n",
    "Anaconda Prompt-- Command line environment for Anaconda from which I can download libraries and programs\n",
    "\n",
    "## My Terms\n",
    "Geoseries-- A collection of Geospatial data aspects (A column of data in a Geodataframe)\n",
    "Geopandas -- A library of geospatial tools \n",
    "Geodataframe-- A tabular representation of data, organized into columns (of geoserieses) and rows\n",
    "\n"
   ]
  },
  {
   "cell_type": "code",
   "execution_count": null,
   "metadata": {
    "collapsed": true
   },
   "outputs": [],
   "source": []
  }
 ],
 "metadata": {
  "kernelspec": {
   "display_name": "Python 3",
   "language": "python",
   "name": "python3"
  },
  "language_info": {
   "codemirror_mode": {
    "name": "ipython",
    "version": 3
   },
   "file_extension": ".py",
   "mimetype": "text/x-python",
   "name": "python",
   "nbconvert_exporter": "python",
   "pygments_lexer": "ipython3",
   "version": "3.6.3"
  }
 },
 "nbformat": 4,
 "nbformat_minor": 2
}
