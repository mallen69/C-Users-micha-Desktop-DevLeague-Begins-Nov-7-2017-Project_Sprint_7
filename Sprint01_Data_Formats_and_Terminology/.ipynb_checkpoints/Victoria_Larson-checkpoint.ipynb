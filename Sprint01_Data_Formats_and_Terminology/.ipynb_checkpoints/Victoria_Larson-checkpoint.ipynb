{
 "cells": [
  {
   "cell_type": "markdown",
   "metadata": {
    "collapsed": true
   },
   "source": [
    "# Tori's First Project\n",
    "#### 11/7/2017 | Victoria Larson | Sprint 0\n",
    "#### Description\n",
    "1 to 2 sentence description. The first 5 Sections are mandatory. Free form after that, but there are a couple of suggested categories you can use. But really document however you feel the most comfortable.\n",
    "\n",
    "## Skill Backlog User Story\n",
    "As a [TKTKTK] I need [TKTKTK] So that [TKTKTK]\n",
    "\n",
    "## Project Proposal\n",
    "This is what I propose to do in this project and why I think it will be useful to me and my overall objective\n",
    "\n",
    "## Key Questions\n",
    "- Things I want to find out\n",
    "- Definitions I want to establish and clarify\n",
    "\n",
    "## Key Findings\n",
    "- A running list of things that I'm learning and don't want to forget\n",
    "\n",
    "## Gameplan\n",
    "Here is my overall approach \n",
    "1. Step 1\n",
    "2. Step 2\n",
    "3. Step 3\n",
    "4. Step 4\n",
    "\n",
    "---\n",
    "\n",
    "## Day 1 Work\n",
    "\n",
    "This is what I tried to do on Day 1. Here's some Code\n",
    "\n",
    "## Day 2 Work\n",
    "\n",
    "This is what I tried to do on Day 2. Here's some more code\n",
    "\n",
    "## Peer Feedback on Day 3\n",
    "\n",
    "After talking it over with a peer, I received the following feedback and decided to make these changes\n",
    "\n",
    "## Here are some overall notes on the skills I learned\n",
    "Day 1 - 11/7/2017 notes \n",
    "5 or 6 projects for the first sprint. \n",
    "5 projects that you imagine are helpdul for your sprints. \n",
    "Where does data come from? \n",
    "- what is data fundamentally?\n",
    "    - some sort of code \n",
    "    - the point of data is to enable analysis. \n",
    "- the things on our spreadsheets? how did it get there? \n",
    "- how are files stored? \n",
    "- Relational data. \n",
    "- Binary file \n",
    "    - zeros and ones thing \n",
    "    - on some level, every file is a binary file. \n",
    "- ASCII file\n",
    "    - text file\n",
    "PoliceOne study - police offers say that communities are safer when there are more guns. \n",
    "\n",
    "\n",
    "Project Pitches \n",
    "\n",
    "-  want to log data in my work day to see if it can help with my organization and more quickly assist my associates \n",
    "\n",
    "- __Use python to pull data for fmla documentation__. \n",
    "\n",
    "- was to use python to convert birthday data into month and day data so I can create birthday cards more effectively. \n",
    "\n",
    "- __I want to use R to convert birthday data into month and day data so I can create birthday cards more effectively__ \n",
    "\n",
    "- Collect data from my day to day life and create a colorful map - dear data\n",
    "\n",
    "- Convert data from xml to excel -  \n",
    "\n",
    "https://stackoverflow.com/questions/1108428/how-do-i-read-a-date-in-excel-format-in-python\n",
    "\n"
   ]
  },
  {
   "cell_type": "code",
   "execution_count": null,
   "metadata": {
    "collapsed": true
   },
   "outputs": [],
   "source": []
  },
  {
   "cell_type": "code",
   "execution_count": null,
   "metadata": {
    "collapsed": true
   },
   "outputs": [],
   "source": []
  }
 ],
 "metadata": {
  "kernelspec": {
   "display_name": "Python 3",
   "language": "python",
   "name": "python3"
  },
  "language_info": {
   "codemirror_mode": {
    "name": "ipython",
    "version": 3
   },
   "file_extension": ".py",
   "mimetype": "text/x-python",
   "name": "python",
   "nbconvert_exporter": "python",
   "pygments_lexer": "ipython3",
   "version": "3.6.1"
  }
 },
 "nbformat": 4,
 "nbformat_minor": 2
}
