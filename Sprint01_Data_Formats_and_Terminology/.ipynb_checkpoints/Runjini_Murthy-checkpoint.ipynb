{
 "cells": [
  {
   "cell_type": "markdown",
   "metadata": {
    "collapsed": true
   },
   "source": [
    "# Sprint 1 - Data Formats\n",
    "#### 11/8/17 | Runjini Murthy | Sprint 1\n",
    "#### Description\n",
    "This sprint is to introduce me to data formats beyond CSV.  It will allow me to explore XML and JSON, and how to convert between those file formats as well as CSV.\n",
    "\n",
    "## Skill Backlog User Story\n",
    "As a marketing analytics manager I need to be able to download data in multiple file formats and convert between them to understand the benefits of when to use a given file type.\n",
    "\n",
    "## Project Proposal\n",
    "Since my company's data is not only confidential but generally stored as CSV, I would like to increase my knowledge and use of public source data.  I will do this by downloading public data on public art and farmers' markets, which are lifestyle interests of value to our customer base.\n",
    "\n",
    "## Key Questions\n",
    "- How do I download files in different formats?\n",
    "- Which programs should I use?\n",
    "- Of the new programs I want to learn - R, Python - \n",
    "- The farmers' market data in XML looks like it opens in a tab on my web browser.  CSV files download as actual files I can open in Excel.  How do I save the XML data?\n",
    "- How do I obtain JSON data file formats?\n",
    "- What is the visual representation I amworking towards?\n",
    "\n",
    "## Key Findings\n",
    "- A running list of things that I'm learning and don't want to forget\n",
    "\n",
    "## Gameplan\n",
    "Here is my overall approach \n",
    "1. Research the public data sets to select all the amenities of interest.\n",
    "2. Determine what file formats they are available in.\n",
    "3. Review the basics/definitions of each file format (especially JSON).  Are there particular programs associated with each file type?\n",
    "4. Determine how to convert an XML file to CSV.\n",
    "5. Determine how to convert a JSON file to CSV.\n",
    "6. Determine how to convert a CSV file to XML.\n",
    "7. Determine how to convert a CSV file to JSON.\n",
    "8. Research the basics of R and Python to pick the program to use.\n",
    "9. Begin work in Excel, i.e. a familiar format.\n",
    "10. Sketch out what the end goal looks like.  Is it a table?\n",
    "\n",
    "\n",
    "---\n",
    "\n",
    "## Day 1 Work\n",
    "\n",
    "I tried to follow the instructions on Day One.  I missed the editing/pushing step.\n",
    "\n",
    "## Day 2 Work\n",
    "\n",
    "On Day 2, I forgot how I used Jupyter and lost all my original notes.  Dang!\n",
    "\n",
    "## Peer Feedback on Day 3\n",
    "\n",
    "\n",
    "\n",
    "## Here are some overall notes on the skills I learned\n",
    "1. I learned that you can edit through Jupyter locally without internet.\n",
    "2. I learned you hit Save and Checkpoint.\n",
    "3. I learned you need to commit to master through GitHub to see changes.\n",
    "4. I learned about syntax in markdown, where numbers will break out new lines, whereas just a simple line break in the markdown format results in one long string of text."
   ]
  },
  {
   "cell_type": "code",
   "execution_count": null,
   "metadata": {
    "collapsed": true
   },
   "outputs": [],
   "source": []
  }
 ],
 "metadata": {
  "kernelspec": {
   "display_name": "Python 3",
   "language": "python",
   "name": "python3"
  },
  "language_info": {
   "codemirror_mode": {
    "name": "ipython",
    "version": 3
   },
   "file_extension": ".py",
   "mimetype": "text/x-python",
   "name": "python",
   "nbconvert_exporter": "python",
   "pygments_lexer": "ipython3",
   "version": "3.6.3"
  }
 },
 "nbformat": 4,
 "nbformat_minor": 2
}
