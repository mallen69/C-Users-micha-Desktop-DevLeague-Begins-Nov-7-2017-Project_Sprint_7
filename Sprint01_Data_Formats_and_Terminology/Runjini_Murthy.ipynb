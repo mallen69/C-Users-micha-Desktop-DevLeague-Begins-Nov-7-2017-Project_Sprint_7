{
 "cells": [
  {
   "cell_type": "markdown",
   "metadata": {
    "collapsed": true
   },
   "source": [
    "# Sprint 1 - Data Formats\n",
    "#### 11/8/17 | Runjini Murthy | Sprint 1\n",
    "#### Description\n",
    "This sprint is to introduce me to data formats beyond CSV.  It will allow me to explore XML and JSON, and how to convert between those file formats as well as CSV.\n",
    "\n",
    "## Skill Backlog User Story\n",
    "As a marketing analytics manager, I need to understand data formats so that I can compile data sets from multiple sources to do things like establish benchmarks for marketing and sales KPIs.\n",
    "\n",
    "## Project Proposal\n",
    "Since my company's data is not only confidential but generally stored as CSV, I would like to increase my knowledge and use of public source data.  I will do this by downloading public data on public art and farmers' markets, which are lifestyle interests of value to our customer base.  \n",
    "\n",
    "## Key Questions\n",
    "- How do I download files in different formats?\n",
    "- Which programs should I use?\n",
    "- Of the new programs I want to learn - R, Python - which makes sense?\n",
    "- Where would I use Python?\n",
    "- The farmers' market data in XML looks like it opens in a tab on my web browser.  CSV files download as actual files I can open in Excel.  How do I save the XML data?\n",
    "- How do I obtain JSON data file formats?\n",
    "- What is the visual representation I am working towards?\n",
    "\n",
    "## Key Findings\n",
    "- A running list of things that I'm learning and don't want to forget\n",
    "\n",
    "## Gameplan\n",
    "Here is my overall approach:\n",
    "1. Research the public data sets to select a few sets of interest: farmers' markets and public art locations.\n",
    "2. Determine what file formats they are available in and describe them using our data vocabulary: field, observations, cell, etc.\n",
    "3. Compare the data as expressed as CSV/JSON/XML.\n",
    "4. Convert files between formats: CSV to XML, CSV to JSON, XML to CSV, XML to JSON, JSON to CSV, JSON to XML\n",
    "5. Review the basics/definitions of each file format (especially JSON).  Are there particular programs associated with each file type?\n",
    "6. Bonus: Look at data source and try to determine what systems produce these files.\n",
    "7. Bonus: Load data into Python and then export to JSON/XML for file comparisons.\n",
    "8. Research step: Review the basics of R and Python to pick the program to use.\n",
    "9. Sketch out what the end goal looks like.  Is it a table?\n",
    "\n",
    "---\n",
    "\n",
    "## Day 1 Work\n",
    "\n",
    "1. I tried to follow the instructions on Day One.  I missed the editing/pushing step.\n",
    "2. We need to determine 5-6 projects to pitch for the first sprint.\n",
    "\n",
    "## Day 2 Work\n",
    "\n",
    "1. Reviewed mind mapping\n",
    "2. Reviewed project pitches\n",
    "3. Parking data set: https://data.honolulu.gov/Transportation/Parking-2015/m2gw-xt7z\n",
    "\n",
    "## Peer Feedback on Day 3\n",
    "Nothing really to report here; still figuring out where I'm headed.\n",
    "\n",
    "\n",
    "## Here are some overall notes on the skills I learned\n",
    "1. I learned that you can edit through Jupyter locally without internet.\n",
    "2. I learned you hit Save and Checkpoint.\n",
    "3. I learned you need to commit to master through GitHub to see changes.\n",
    "4. I learned about syntax in markdown, where numbers will break out new lines, whereas just a simple line break in the markdown format results in one long string of text.\n",
    "5. Sources of data: surveys, automated triggers of actions, formulas/calculations of other data, metadata\n",
    "6. ASCII file = plain text file\n",
    "7. JSON and XML are also text files\n",
    "8. JSON = Javascript Object Notations.  Every observation has the field name and cell value.  It takes up more space/characters.\n",
    "9. XML: HTML is a subset of XML.  Has tags.  Creates nests and hierarchies; properties of parents.  Can export.\n",
    "10. R has readers for all these data formats.\n",
    "11. In this sprint, try opening files in each of these programs.  Also try converting file formats.\n",
    "12. API will give files in one of these formats to be ingested by your program.\n",
    "13. ACTION ITEM: Connect to API to experience this first-hand.\n",
    "14. Example of PoliceOne survey re: good guys with gun/gun laws.\n",
    "15. Ideas for sprint: Research how five news articles sourced their data.\n",
    "16. Relational data - SQL \n",
    "17. I made the mistake again of not understanding the terminal vs. running Python IN the terminal.\n",
    "18. I found the script to convert CSV to XML on this site: http://code.activestate.com/recipes/577423-convert-csv-to-xml/\n",
    "19. Good explainer of the differences in file formats, including explanation of hierarchies that you can include in XML: http://ezinearticles.com/?CSV-vs-XML-vs-JSON---Which-is-the-Best-Response-Data-Format?&id=4073117\n",
    "20. I learned that arrowing up in the command line will bring up your most recent entry.\n",
    "21. cd = change directory\n",
    "22. ls = list"
   ]
  },
  {
   "cell_type": "code",
   "execution_count": null,
   "metadata": {
    "collapsed": true
   },
   "outputs": [],
   "source": []
  }
 ],
 "metadata": {
  "kernelspec": {
   "display_name": "Python 3",
   "language": "python",
   "name": "python3"
  },
  "language_info": {
   "codemirror_mode": {
    "name": "ipython",
    "version": 3
   },
   "file_extension": ".py",
   "mimetype": "text/x-python",
   "name": "python",
   "nbconvert_exporter": "python",
   "pygments_lexer": "ipython3",
   "version": "3.6.3"
  }
 },
 "nbformat": 4,
 "nbformat_minor": 2
}
