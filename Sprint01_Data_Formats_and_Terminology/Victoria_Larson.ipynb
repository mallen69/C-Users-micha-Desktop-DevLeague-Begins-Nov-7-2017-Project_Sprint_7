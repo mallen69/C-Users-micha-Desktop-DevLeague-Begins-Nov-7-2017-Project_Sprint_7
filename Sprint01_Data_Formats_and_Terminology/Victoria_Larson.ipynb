{
 "cells": [
  {
   "cell_type": "markdown",
   "metadata": {
    "collapsed": true
   },
   "source": [
    "## Learning with XML, JSON, and CSV\n",
    "#### 11/14/2017 | Victoria Larson | Sprint 1\n",
    "#### Description\n",
    "- want to log data in my work day to see if it can help with my organization and more quickly assist my associates\n",
    "- Use python to pull data for fmla documentation.\n",
    "- __was to use python to convert birthday data into month and day data so I can create birthday cards more effectively.__\n",
    "- __I want to use R to convert birthday data into month and day data so I can create birthday cards more effectively__\n",
    "- Collect data from my day to day life and create a colorful map - dear data\n",
    "- Convert data from xml to excel \n",
    "\n",
    "## Skill Backlog User Story\n",
    "As an HR coordinator I need to convert birthday data into month and day data programmatically so I can create birthday cards more efficiently.\n",
    "\n",
    "## Project Proposal\n",
    "I want to use R and/or python to take birthday data and turn it into month and day data so I dont have to do it manually in excel. \n",
    "\n",
    "## Key Questions\n",
    "- Can I even use R and Python to do this? \n",
    "- Definitions I want to establish and clarify\n",
    "\n",
    "## Key Findings\n",
    "- A running list of things that I'm learning and don't want to forget\n",
    "\n",
    "## Gameplan\n",
    "Here is my overall approach \n",
    "1. Google my questions\n",
    "2. Step 2\n",
    "3. Step 3\n",
    "4. Step 4\n",
    "\n",
    "---\n",
    "\n",
    "## Day 1 Work\n",
    "This is me trying to upload a file to R. It took a while to do and i had to change it to .txt and to .csv \n",
    "it wasnt working because it had a É which R did not understand. Once i took that out it worked! I fear i wont know what problems there will be in the future. \n",
    "Also, this is the tutoria help i used from datacamp along with some help from Justin and Michael https://www.datacamp.com/community/tutorials/r-tutorial-read-excel-into-r#step1 "
   ]
  },
  {
   "cell_type": "code",
   "execution_count": 9,
   "metadata": {},
   "outputs": [
    {
     "ename": "SyntaxError",
     "evalue": "invalid syntax (<ipython-input-9-86033a0cd5c9>, line 1)",
     "output_type": "error",
     "traceback": [
      "\u001b[0;36m  File \u001b[0;32m\"<ipython-input-9-86033a0cd5c9>\"\u001b[0;36m, line \u001b[0;32m1\u001b[0m\n\u001b[0;31m    > getwd()\u001b[0m\n\u001b[0m    ^\u001b[0m\n\u001b[0;31mSyntaxError\u001b[0m\u001b[0;31m:\u001b[0m invalid syntax\n"
     ]
    }
   ],
   "source": [
    "> getwd()\n",
    "[1] \"/Users/victorialarson/Desktop/Dev League/Repos\"\n",
    "> read.csv(\"Birthdays_1.txt\")\n",
    "Error in make.names(col.names, unique = TRUE) : \n",
    "  invalid multibyte string 1\n",
    "> read.csv(\"Birthdays_2.csv\")\n",
    "Error in make.names(col.names, unique = TRUE) : \n",
    "  invalid multibyte string 2\n",
    "> getwd()\n",
    "[1] \"/Users/victorialarson/Desktop/Dev League/Repos\"\n",
    "> read.csv(\"Birthdays_2.csv\") \n",
    "- Running this made the first line in the project into a header because i didnt have a header. \n",
    "- I then used this piece of code to fix it and R made headers for me. #insert firework emoji here# \n",
    "> read.csv(\"Birthdays_2.csv\", header = FALSE)\n",
    "(V1, V2, V3) \n"
   ]
  },
  {
   "cell_type": "markdown",
   "metadata": {},
   "source": [
    "## Day 2 Work\n",
    "\n",
    "Coming at day 2 with a different approach. Might have to simplify my project a little bit.\n",
    "\n",
    "Started by saving files in XML, CSV. CSV opens looking exactly like a CSV file, XML will not open in excel - when I opened it in a text editor its alot of code. Next is looking into JSON."
   ]
  },
  {
   "cell_type": "markdown",
   "metadata": {},
   "source": [
    "We will start with how CSVs work: \n",
    "just started an atom window and wrote a few lines of names and dates separated my commas. simple enough...\n",
    "\n",
    "All xml files should begin with <?xmlversion=\"1.0\"?> which is declaring that is an xml file\n",
    "This website did a good job of comparing JSON and XML\n",
    "http://json.org/example.html"
   ]
  },
  {
   "cell_type": "markdown",
   "metadata": {},
   "source": [
    "##### My original CSV code: "
   ]
  },
  {
   "cell_type": "code",
   "execution_count": 10,
   "metadata": {},
   "outputs": [
    {
     "ename": "NameError",
     "evalue": "name 'FirstName' is not defined",
     "output_type": "error",
     "traceback": [
      "\u001b[0;31m---------------------------------------------------------------------------\u001b[0m",
      "\u001b[0;31mNameError\u001b[0m                                 Traceback (most recent call last)",
      "\u001b[0;32m<ipython-input-10-92ba8a27d67b>\u001b[0m in \u001b[0;36m<module>\u001b[0;34m()\u001b[0m\n\u001b[0;32m----> 1\u001b[0;31m \u001b[0mFirstName\u001b[0m\u001b[0;34m,\u001b[0m\u001b[0mLastName\u001b[0m\u001b[0;34m,\u001b[0m\u001b[0mBirthday\u001b[0m\u001b[0;34m\u001b[0m\u001b[0m\n\u001b[0m\u001b[1;32m      2\u001b[0m \u001b[0mTori\u001b[0m\u001b[0;34m,\u001b[0m\u001b[0mLarson\u001b[0m\u001b[0;34m,\u001b[0m\u001b[0;36m5\u001b[0m\u001b[0;34m/\u001b[0m\u001b[0;36m26\u001b[0m\u001b[0;34m/\u001b[0m\u001b[0;36m2017\u001b[0m\u001b[0;34m\u001b[0m\u001b[0m\n\u001b[1;32m      3\u001b[0m \u001b[0mBen\u001b[0m\u001b[0;34m,\u001b[0m\u001b[0mTrevino\u001b[0m\u001b[0;34m,\u001b[0m\u001b[0;36m4\u001b[0m\u001b[0;34m/\u001b[0m\u001b[0;36m14\u001b[0m\u001b[0;34m/\u001b[0m\u001b[0;36m2017\u001b[0m\u001b[0;34m\u001b[0m\u001b[0m\n\u001b[1;32m      4\u001b[0m \u001b[0mJustine\u001b[0m\u001b[0;34m,\u001b[0m\u001b[0mEspiritu\u001b[0m\u001b[0;34m,\u001b[0m\u001b[0;36m8\u001b[0m\u001b[0;34m/\u001b[0m\u001b[0;36m8\u001b[0m\u001b[0;34m/\u001b[0m\u001b[0;36m2017\u001b[0m\u001b[0;34m\u001b[0m\u001b[0m\n",
      "\u001b[0;31mNameError\u001b[0m: name 'FirstName' is not defined"
     ]
    }
   ],
   "source": [
    "FirstName,LastName,Birthday\n",
    "Tori,Larson,5/26/2017\n",
    "Ben,Trevino,4/14/2017\n",
    "Justine,Espiritu,8/8/2017"
   ]
  },
  {
   "cell_type": "markdown",
   "metadata": {},
   "source": [
    " I'm pretty sure I dont need to correct this because its fairly self explanatory."
   ]
  },
  {
   "cell_type": "markdown",
   "metadata": {},
   "source": [
    "##### My Original XML"
   ]
  },
  {
   "cell_type": "code",
   "execution_count": 11,
   "metadata": {},
   "outputs": [
    {
     "ename": "SyntaxError",
     "evalue": "invalid syntax (<ipython-input-11-cb58fbd70bb2>, line 1)",
     "output_type": "error",
     "traceback": [
      "\u001b[0;36m  File \u001b[0;32m\"<ipython-input-11-cb58fbd70bb2>\"\u001b[0;36m, line \u001b[0;32m1\u001b[0m\n\u001b[0;31m    <?xmlversion=\"1.0\" encoding=\"UTF-8\"?>\u001b[0m\n\u001b[0m    ^\u001b[0m\n\u001b[0;31mSyntaxError\u001b[0m\u001b[0;31m:\u001b[0m invalid syntax\n"
     ]
    }
   ],
   "source": [
    "<?xmlversion=\"1.0\" encoding=\"UTF-8\"?>\n",
    "    <Birthdays>\n",
    "    <Birthday>\n",
    "        <FirstName>Tori</Firstname> <LastName>Larson</LastName> <Birthday>05/26/2017</Birthday>\n",
    "    </Birthday>\n",
    "    <Birthday>\n",
    "      <FirstName>Ben</Firstname> <LastName>Trevino</LastName> <Birthday>04/14/2017</Birthday>\n",
    "  </Birthday>\n",
    "  <Birthday>\n",
    "    <FirstName>Justine</Firstname> <LastName>Espiritu</LastName> <Birthday>08/14/2017</Birthday>\n",
    "</Birthdays>"
   ]
  },
  {
   "cell_type": "markdown",
   "metadata": {},
   "source": [
    "##### The Valid XML Code: "
   ]
  },
  {
   "cell_type": "code",
   "execution_count": 12,
   "metadata": {},
   "outputs": [
    {
     "ename": "SyntaxError",
     "evalue": "invalid syntax (<ipython-input-12-8a557f923bd9>, line 1)",
     "output_type": "error",
     "traceback": [
      "\u001b[0;36m  File \u001b[0;32m\"<ipython-input-12-8a557f923bd9>\"\u001b[0;36m, line \u001b[0;32m1\u001b[0m\n\u001b[0;31m    <?xml version=\"1.0\" encoding= \"UTF-8\"?>\u001b[0m\n\u001b[0m    ^\u001b[0m\n\u001b[0;31mSyntaxError\u001b[0m\u001b[0;31m:\u001b[0m invalid syntax\n"
     ]
    }
   ],
   "source": [
    "<?xml version=\"1.0\" encoding= \"UTF-8\"?>\n",
    "<Birthdays>\n",
    "  <FirstName>Tori</FirstName>\n",
    "  <LastName>Larson</LastName>\n",
    "  <Birthday>05/26/2017</Birthday>\n",
    "  <FirstName>Ben</FirstName>\n",
    "  <LastName>Trevino</LastName> \n",
    "  <Birthday>04/14/2017</Birthday>\n",
    "  <FirstName>Justine</FirstName>\n",
    "  <LastName>Espiritu</LastName>\n",
    "  <Birthday>07/28/2017</Birthday>\n",
    "   </Birthdays>"
   ]
  },
  {
   "cell_type": "markdown",
   "metadata": {},
   "source": [
    "Turns out I was making the code way to complicated - But as I was typing that I realized I wasnt doing it correct. so lets try again. \n",
    "\n",
    "##### O.K... The Real Valid Code"
   ]
  },
  {
   "cell_type": "code",
   "execution_count": 13,
   "metadata": {},
   "outputs": [
    {
     "ename": "SyntaxError",
     "evalue": "invalid syntax (<ipython-input-13-7b51f3c68534>, line 1)",
     "output_type": "error",
     "traceback": [
      "\u001b[0;36m  File \u001b[0;32m\"<ipython-input-13-7b51f3c68534>\"\u001b[0;36m, line \u001b[0;32m1\u001b[0m\n\u001b[0;31m    <?xml version=\"1.0\" encoding= \"UTF-8\"?>\u001b[0m\n\u001b[0m    ^\u001b[0m\n\u001b[0;31mSyntaxError\u001b[0m\u001b[0;31m:\u001b[0m invalid syntax\n"
     ]
    }
   ],
   "source": [
    " <?xml version=\"1.0\" encoding= \"UTF-8\"?>\n",
    "<Birthdays>\n",
    "<row>\n",
    "  <cell><FirstName>Tori</FirstName></cell>\n",
    "  <cell><LastName>Larson</LastName></cell>\n",
    "  <cell><Birthday>05/26/2017</Birthday></cell>\n",
    "</row>\n",
    "<row>\n",
    "  <cell><FirstName>Ben</FirstName></cell>\n",
    "  <cell><LastName>Trevino</LastName></cell>\n",
    "  <cell><Birthday>04/14/2017</Birthday></cell>\n",
    "</row>\n",
    "<row>\n",
    "  <cell><FirstName>Justine</FirstName></cell>\n",
    "  <cell><LastName>Espiritu</LastName></cell>\n",
    "  <cell><Birthday>08/14/2017</Birthday></cell>\n",
    "</row>\n",
    "</Birthdays>"
   ]
  },
  {
   "cell_type": "markdown",
   "metadata": {},
   "source": [
    "red = attribute (or inside the tag with the =)\n",
    "\n",
    "Picture - https://www.w3schools.com/xml/xml_tree.asp (tree)\n",
    "\n",
    "Another great validator \n",
    "https://www.w3schools.com/xml/xml_validator.asp\n",
    "https://codebeautify.org/xmlviewer - tree maker\n"
   ]
  },
  {
   "cell_type": "markdown",
   "metadata": {},
   "source": [
    "##### My Original JSON code: "
   ]
  },
  {
   "cell_type": "code",
   "execution_count": 14,
   "metadata": {},
   "outputs": [
    {
     "ename": "SyntaxError",
     "evalue": "invalid syntax (<ipython-input-14-ed305b426bc6>, line 3)",
     "output_type": "error",
     "traceback": [
      "\u001b[0;36m  File \u001b[0;32m\"<ipython-input-14-ed305b426bc6>\"\u001b[0;36m, line \u001b[0;32m3\u001b[0m\n\u001b[0;31m    {\"Tori\",\"Larson\",\"05/26/2017\"},\u001b[0m\n\u001b[0m    ^\u001b[0m\n\u001b[0;31mSyntaxError\u001b[0m\u001b[0;31m:\u001b[0m invalid syntax\n"
     ]
    }
   ],
   "source": [
    "{\"Birthdays\":[\n",
    "  {\"FirstName\", \"LastName\", \"Birthday\"\n",
    "  {\"Tori\",\"Larson\",\"05/26/2017\"},\n",
    "  {\"Ben\", \"Trevino\",\"04/14/2017\"},\n",
    "  {\"Justine\",\"Espiritu\",\"07/28/2017\"}\n",
    "]}\n"
   ]
  },
  {
   "cell_type": "markdown",
   "metadata": {},
   "source": [
    "I had originally thought that if the header corespoded with the quoted variables below that it would work. But with a JSON file you need to asign the variable to the word in each string.\n"
   ]
  },
  {
   "cell_type": "markdown",
   "metadata": {
    "collapsed": true
   },
   "source": [
    "#### The Valid JSON code:"
   ]
  },
  {
   "cell_type": "code",
   "execution_count": 15,
   "metadata": {},
   "outputs": [
    {
     "data": {
      "text/plain": [
       "{'Birthdays': [{'Birthday': '05/26/2017',\n",
       "   'FirstName': 'Tori',\n",
       "   'LastName': 'Larson'},\n",
       "  {'Birthday': '04/14/2017', 'FirstName': 'Ben', 'LastName': 'Trevino'},\n",
       "  {'Birthday': '07/28/2017', 'FirstName': 'Justine', 'LastName': 'Espiritu'}]}"
      ]
     },
     "execution_count": 15,
     "metadata": {},
     "output_type": "execute_result"
    }
   ],
   "source": [
    "{\"Birthdays\":[\n",
    "  {\"FirstName\": \"Tori\", \"LastName\": \"Larson\", \"Birthday\":\"05/26/2017\"},\n",
    "  {\"FirstName\": \"Ben\", \"LastName\": \"Trevino\", \"Birthday\": \"04/14/2017\"},\n",
    "  {\"FirstName\": \"Justine\", \"LastName\": \"Espiritu\", \"Birthday\": \"07/28/2017\"}\n",
    "]}"
   ]
  },
  {
   "cell_type": "markdown",
   "metadata": {},
   "source": [
    "This website was extremely helpful with validating my JSON code.\n",
    "https://jsonlint.com/\n",
    "\n",
    "This website was great for showing me a JSON tree!\n",
    "http://jsonviewer.stack.hu/"
   ]
  },
  {
   "cell_type": "markdown",
   "metadata": {
    "collapsed": true
   },
   "source": [
    "## Peer Feedback on Day 3\n",
    "\n",
    "Going to make trees that show how my various projects work. \n",
    "\n",
    "\n",
    "\n",
    "## Here are some overall notes on the skills I learned\n",
    "Day 1 - 11/7/2017 notes \n",
    "5 or 6 projects for the first sprint. \n",
    "5 projects that you imagine are helpdul for your sprints. \n",
    "Where does data come from? \n",
    "- what is data fundamentally?\n",
    "    - some sort of code \n",
    "    - the point of data is to enable analysis. \n",
    "- the things on our spreadsheets? how did it get there? \n",
    "- how are files stored? \n",
    "- Relational data. \n",
    "- Binary file \n",
    "    - zeros and ones thing \n",
    "    - on some level, every file is a binary file. \n",
    "- ASCII file\n",
    "    - text file\n",
    "PoliceOne study - police offers say that communities are safer when there are more guns. \n",
    "\n",
    "\n",
    "\n",
    "https://stackoverflow.com/questions/1108428/how-do-i-read-a-date-in-excel-format-in-python\n"
   ]
  },
  {
   "cell_type": "code",
   "execution_count": null,
   "metadata": {
    "collapsed": true
   },
   "outputs": [],
   "source": []
  },
  {
   "cell_type": "code",
   "execution_count": null,
   "metadata": {
    "collapsed": true
   },
   "outputs": [],
   "source": []
  }
 ],
 "metadata": {
  "kernelspec": {
   "display_name": "Python 3",
   "language": "python",
   "name": "python3"
  },
  "language_info": {
   "codemirror_mode": {
    "name": "ipython",
    "version": 3
   },
   "file_extension": ".py",
   "mimetype": "text/x-python",
   "name": "python",
   "nbconvert_exporter": "python",
   "pygments_lexer": "ipython3",
   "version": "3.6.1"
  }
 },
 "nbformat": 4,
 "nbformat_minor": 2
}
