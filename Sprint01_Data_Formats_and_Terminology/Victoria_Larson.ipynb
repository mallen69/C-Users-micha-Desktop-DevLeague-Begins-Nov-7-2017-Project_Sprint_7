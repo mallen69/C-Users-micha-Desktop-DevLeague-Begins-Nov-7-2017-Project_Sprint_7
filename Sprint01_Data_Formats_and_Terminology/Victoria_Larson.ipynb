{
 "cells": [
  {
   "cell_type": "markdown",
   "metadata": {
    "collapsed": true
   },
   "source": [
    "#### Birthday Card Project\n",
    "#### 11/14/2017 | Victoria Larson | Sprint 1\n",
    "#### Description\n",
    "- want to log data in my work day to see if it can help with my organization and more quickly assist my associates\n",
    "- Use python to pull data for fmla documentation.\n",
    "- __was to use python to convert birthday data into month and day data so I can create birthday cards more effectively.__\n",
    "- __I want to use R to convert birthday data into month and day data so I can create birthday cards more effectively__\n",
    "- Collect data from my day to day life and create a colorful map - dear data\n",
    "- Convert data from xml to excel \n",
    "\n",
    "## Skill Backlog User Story\n",
    "As an HR coordinator I need to convert birthday data into month and day data programmatically so I can create birthday cards more efficiently.\n",
    "\n",
    "## Project Proposal\n",
    "I want to use R and/or python to take birthday data and turn it into month and day data so I dont have to do it manually in excel. \n",
    "\n",
    "## Key Questions\n",
    "- Can I even use R and Python to do this? \n",
    "- Definitions I want to establish and clarify\n",
    "\n",
    "## Key Findings\n",
    "- A running list of things that I'm learning and don't want to forget\n",
    "\n",
    "## Gameplan\n",
    "Here is my overall approach \n",
    "1. Google my questions\n",
    "2. Step 2\n",
    "3. Step 3\n",
    "4. Step 4\n",
    "\n",
    "---\n",
    "\n",
    "## Day 1 Work\n",
    "This is me trying to upload a file to R. It took a while to do and i had to change it to .txt and to .csv \n",
    "it wasnt working because it had a É which R did not understand. Once i took that out it worked! I fear i wont know what problems there will be in the future. \n",
    "Also, this is the tutoria help i used from datacamp along with some help from Justin and Michael https://www.datacamp.com/community/tutorials/r-tutorial-read-excel-into-r#step1\n",
    "\n",
    "> getwd()\n",
    "[1] \"/Users/victorialarson/Desktop/Dev League/Repos\"\n",
    "> read.csv(\"Birthdays_1.txt\")\n",
    "Error in make.names(col.names, unique = TRUE) : \n",
    "  invalid multibyte string 1\n",
    "> read.csv(\"Birthdays_2.csv\")\n",
    "Error in make.names(col.names, unique = TRUE) : \n",
    "  invalid multibyte string 2\n",
    "> getwd()\n",
    "[1] \"/Users/victorialarson/Desktop/Dev League/Repos\"\n",
    "> read.csv(\"Birthdays_2.csv\") \n",
    "- Running this made the first line in the project into a header because i didnt have a header. \n",
    "- I then used this piece of code to fix it and R made headers for me. #insert firework emoji here# \n",
    "> read.csv(\"Birthdays_2.csv\", header = FALSE)\n",
    "(V1, V2, V3) \n",
    "\n",
    "\n",
    "\n",
    "\n",
    "## Day 2 Work\n",
    "\n",
    "This is what I tried to do on Day 2. Here's some more code\n",
    "\n",
    "## Peer Feedback on Day 3\n",
    "\n",
    "After talking it over with a peer, I received the following feedback and decided to make these changes\n",
    "\n",
    "## Here are some overall notes on the skills I learned\n",
    "Day 1 - 11/7/2017 notes \n",
    "5 or 6 projects for the first sprint. \n",
    "5 projects that you imagine are helpdul for your sprints. \n",
    "Where does data come from? \n",
    "- what is data fundamentally?\n",
    "    - some sort of code \n",
    "    - the point of data is to enable analysis. \n",
    "- the things on our spreadsheets? how did it get there? \n",
    "- how are files stored? \n",
    "- Relational data. \n",
    "- Binary file \n",
    "    - zeros and ones thing \n",
    "    - on some level, every file is a binary file. \n",
    "- ASCII file\n",
    "    - text file\n",
    "PoliceOne study - police offers say that communities are safer when there are more guns. \n",
    "\n",
    "\n",
    "\n",
    "https://stackoverflow.com/questions/1108428/how-do-i-read-a-date-in-excel-format-in-python\n",
    "\n"
   ]
  },
  {
   "cell_type": "code",
   "execution_count": null,
   "metadata": {
    "collapsed": true
   },
   "outputs": [],
   "source": []
  },
  {
   "cell_type": "code",
   "execution_count": null,
   "metadata": {
    "collapsed": true
   },
   "outputs": [],
   "source": []
  }
 ],
 "metadata": {
  "kernelspec": {
   "display_name": "Python 3",
   "language": "python",
   "name": "python3"
  },
  "language_info": {
   "codemirror_mode": {
    "name": "ipython",
    "version": 3
   },
   "file_extension": ".py",
   "mimetype": "text/x-python",
   "name": "python",
   "nbconvert_exporter": "python",
   "pygments_lexer": "ipython3",
   "version": "3.6.1"
  }
 },
 "nbformat": 4,
 "nbformat_minor": 2
}
