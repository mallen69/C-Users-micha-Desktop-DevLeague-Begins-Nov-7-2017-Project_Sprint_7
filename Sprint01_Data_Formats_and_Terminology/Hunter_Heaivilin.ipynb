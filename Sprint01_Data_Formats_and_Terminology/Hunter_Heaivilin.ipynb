{
 "cells": [
  {
   "cell_type": "markdown",
   "metadata": {
    "collapsed": true
   },
   "source": [
    "# Programmatically Reading, Writing, Editing, and Converting Data Files\n",
    "#### 11/7/2017 | Hunter Heaivilin | Sprint 1\n",
    "#### Description\n",
    "Learning how to programmatically read, write, edit, and convert data files so that I can convert back and forth between data formats.\n",
    "\n",
    "## Skill Backlog User Story\n",
    "As a modeler, I need to programmatically read, write, edit, and convert data files so that I can convert back and forth between data formats and make the data interact.\n",
    "\n",
    "## Developing Project Proposals\n",
    "\n",
    "#### Data Formats I Work With\n",
    "- Shapefiles\n",
    "- GRID files\n",
    "- Python Scripts\n",
    "- Databases on websites without APIs (e.g., [The Agroforestree Database](http://www.worldagroforestry.org/output/agroforestree-database), [Hawaii Agriculture & Food Products Database](https://hawaiiagrproducts.hawaii.gov/s/), [FAO's EcoCrop Database](http://ecocrop.fao.org/ecocrop/srv/en/home))\n",
    "- Data buried in websites without APIs\n",
    "- Data with APIs (e.g., [USDA Soil Data Access API](https://www.programmableweb.com/api/usda-soil-data-access), [USDA National Agricultural Statistics Service](https://www.nass.usda.gov/developer/index.php), [etc](https://catalog.data.gov/organization/4ae51f6c-467a-4f9d-b40a-2c52e83c326a?groups=ecosystems0617&harvest_source_title=USDA+JSON))\n",
    "- Data buried in pdfs (e.g., [Traditional Tree Profiles](http://agroforestry.org/free-publications/traditional-tree-profiles))\n",
    "- CSV files (e.g., outputs of [Farm Link Hawaii](http://farmlinkhawaii.com/) sales and users)\n",
    "\n",
    "\n",
    "#### Potential Projects\n",
    "1. Convert geospatial data to other formats [GIS with Python, Shapely, and Fiona](https://macwright.org/2012/10/31/gis-with-python-shapely-fiona.html) \n",
    "2. Look at the different ways to interact with geospatial files in a gui vs. r vs python.\n",
    "3. Run spatial analysis to cross-tabulate species suitability areas for multiple crops by island through different means (e.g., ArcGIS vs Python vs R); and create a streamlined process to do similar analysis in the future (e.g, ArcGIS ModelBuilder or script)\n",
    "4. Geocode [2017 Dedicated Agricultural Parcels list](https://www.realpropertyhonolulu.com/media/1465/ag.pdf) from site address (or TMK if can find good data) to csv with lat long (via geocodio or similar) and map with Python using Shaply and Fiona.\n",
    "5. Perform similar but using [Organic Integrity Database API](https://organic.ams.usda.gov/integrity/Developer/APIHelp.aspx) to map certified organic farms in the state.\n",
    "6. Convert some ~~shapefile~~ GIS file formats (potentially [local rainfall](http://rainfall.geography.hawaii.edu/downloads.html), which is in GRID format not a shapefile) into csv with lat long points using Python or R.\n",
    "\n",
    "## Selected Project\n",
    "Run spatial analysis to cross-tabulate species suitability areas for multiple crops by island through different means (e.g., ArcGIS vs Python vs R); and create a streamlined process to do similar analysis in the future (e.g, ArcGIS ModelBuilder or script).\n",
    "- Ben suggests finding another kind of data to incorporate or do conversion into additional new data types\n",
    "- Need to spit out a table of areas by island\n",
    "\n",
    "## Key Questions\n",
    "- Need to understand the basics of the structure of ~~a shapefile~~ [GIS file formats](https://en.wikipedia.org/wiki/GIS_file_formats), limitations, loading libraries\n",
    "- Look at conversion tools for various formats (e.g., raster/polyon, JSON, csv, etc) and explore how they work and what, if anything, is lost. \n",
    "- Document starting file structure and how it changes through the process.\n",
    "- Understand how to convert shapefiles into csv that can be read by other tools\n",
    "- Understand how to connect to APIs and convert data into mapped outputs\n",
    "- Identify multiple proceses to perform and automate spatial analysis tasks outside of GIS gui \n",
    "\n",
    "\n",
    "## Key Findings\n",
    "- Libraries\n",
    "    - [Intro to Geospatial Data using Python](https://github.com/SocialDataSci/Geospatial_Data_with_Python/blob/master/Intro%20to%20Geospatial%20Data%20with%20Python.ipynb)\n",
    "    - [Python Geocoder](https://github.com/DenisCarriere/geocoder)\n",
    "    - [Essential Python Geospatial Libraries](https://github.com/SpatialPython/spatial_python/blob/master/packages.md)\n",
    "\n",
    "### Shapefile Basics\n",
    "\n",
    "#### [ESRI Shapefile Technical Description](https://www.esri.com/library/whitepapers/pdfs/shapefile.pdf)\n",
    "\n",
    ">**The shapefile (.shp) is a spatial data format that \"stores nontopological geometry and attribute information for the spatial features in a data set.** The geometry for a feature is stored as a shape comprising a set of vector coordinates. Because shapefiles do not have the processing overhead of a topological data structure, they have advantages over other data sources such as faster drawing speed and edit ability. **Shapefiles handle single features that overlap or that are noncontiguous.** They also typically require less disk space and are easier to read and write. **Shapefiles can support point, line, and area features.** Area features are represented as closed loop, double-digitized polygons. Attributes are held in a dBASE® format file.\"\n",
    "\n",
    "\n",
    "#### An ESRI shapefile consists of: #####\n",
    "- A **main file** (suffix .shp). The main file is a direct access, variable-record-length file in which each record describes a shape with a list of its vertices.  \n",
    "- An **index file** (suffix .shx.). In the index file, each record contains the offset of the corresponding main file record from the beginning of the main file. \n",
    "- A **dBASE table** (suffix .dbf.). The dBASE table contains feature attributes with one record per feature. The one-to-one relationship between geometry and attributes is based on record number. Attribute records in the dBASE file must be in the same order as records in the >main file. \n",
    "- **The main file, the index file, and the dBASE file have the same prefix.** For example, counties.shp, counties.shx, and counties.dbf. The prefix must start with an alphanumeric character (a–Z, 0–9), followed by zero or up to seven characters (a–Z, 0–9, _, -). \n",
    "\n",
    "\n",
    "\n",
    "\n",
    "## Gameplan\n",
    "Here is my overall approach \n",
    "1. Step 1: Convert shapefile to various formats: GeoJSON, csv\n",
    "2. Step 2: Perform geoprocesses in ArcGIS, Python, and R\n",
    "3. Step 3: \n",
    "4. Step 4: \n",
    "\n",
    "**Possible deliverables**\n",
    "- description of .shp files\n",
    "- conversion of shp files to geojson, and illustration / comparison of two file formats\n",
    "- conversion of geojson to xml\n",
    "- conversion of .shp data tables to xml/json/csv\n",
    "\n",
    "---\n",
    "\n",
    "## Day 1 Work\n",
    "\n",
    "\n",
    "\n",
    "\n",
    "- description of .shp files\n",
    "    - See above\n",
    "- conversion of shp files to geojson, and \n",
    "- illustration / comparison of two file formats\n",
    "    - GeoJSON is a a JSON file with geospatial components\n",
    "    - JSON (JavaScript Object Notation)\n",
    "        - *date values are supported by Shapefiles, but not in JSON*\n",
    "    - Shapefiles are a package of files, the primary of which are stored in binary\n",
    "    - JSON files on the other hand are human-readable (ASCII)\n",
    "- conversion of geojson to xml\n",
    "- conversion of .shp data tables to xml/json/csv\n",
    "\n",
    "\n",
    "\n",
    "\n",
    "### What I Wanted to Happen\n",
    "\n",
    "Convert shapefile into GeoJSON\n",
    "\n",
    "This is what I tried to do on Day 1. Here's some Code\n",
    "\n",
    "Read up on GeoJSON file format [here](https://macwright.org/2015/03/23/geojson-second-bite.html)\n",
    "\n",
    "### What Actually Happened\n",
    "\n",
    "\n",
    "\n",
    "\n",
    "**Setting up a virtual environment in conda**\n",
    "\n",
    "Followed [\"Create virtual environments for python with conda\"](https://uoa-eresearch.github.io/eresearch-cookbook/recipe/2014/11/20/conda/) to create a virtual env in terminal. In an attempt to make the [\"Reading Shapefiles from a URL into GeoPandas\"](https://github.com/agaidus/census_data_extraction/blob/master/Reading_Zipped_Shapefiles.ipynb).\n",
    "\n",
    "## Day 2 Work\n",
    "\n",
    "This is what I tried to do on Day 2. Here's some more code\n",
    "\n",
    "## Peer Feedback on Day 3\n",
    "\n",
    "After talking it over with a peer, I received the following feedback and decided to make these changes\n",
    "\n",
    "## Here are some overall notes on the skills I learned\n",
    "And perhaps some stream of consciousness notes about what I did, and other questions I might have"
   ]
  },
  {
   "cell_type": "markdown",
   "metadata": {},
   "source": [
    "[\"Mapshaper.org\"](http://mapshaper.org/) was able to quickly convert my shapefile to a json file. "
   ]
  },
  {
   "cell_type": "code",
   "execution_count": 24,
   "metadata": {
    "scrolled": true
   },
   "outputs": [
    {
     "data": {
      "text/plain": [
       "'hh_01_files/shapefilesblockgroups.shp'"
      ]
     },
     "execution_count": 24,
     "metadata": {},
     "output_type": "execute_result"
    }
   ],
   "source": [
    "filehome + \"/blockgroups.shp\""
   ]
  }
 ],
 "metadata": {
  "kernelspec": {
   "display_name": "Python 3",
   "language": "python",
   "name": "python3"
  },
  "language_info": {
   "codemirror_mode": {
    "name": "ipython",
    "version": 3
   },
   "file_extension": ".py",
   "mimetype": "text/x-python",
   "name": "python",
   "nbconvert_exporter": "python",
   "pygments_lexer": "ipython3",
   "version": "3.6.1"
  }
 },
 "nbformat": 4,
 "nbformat_minor": 2
}
