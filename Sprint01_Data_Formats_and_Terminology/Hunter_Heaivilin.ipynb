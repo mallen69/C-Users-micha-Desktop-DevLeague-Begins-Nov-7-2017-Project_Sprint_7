{
 "cells": [
  {
   "cell_type": "markdown",
   "metadata": {
    "collapsed": true
   },
   "source": [
    "# Programmatically Reading, Writing, Editing, and Converting Data Files\n",
    "#### 11/7/2017 | Hunter Heaivilin | Sprint 1\n",
    "#### Description\n",
    "Learning how to programmatically read, write, edit, and convert data files so that I can convert back and forth between data formats.\n",
    "\n",
    "## Skill Backlog User Story\n",
    "As a modeler, I need to programmatically read, write, edit, and convert data files so that I can convert back and forth between data formats and make the data interact.\n",
    "\n",
    "## Developing Project Proposals\n",
    "\n",
    "#### Data Formats I Work With\n",
    "- Shapefiles\n",
    "- GRID files\n",
    "- Python Scripts\n",
    "- Databases on websites without APIs (e.g., [The Agroforestree Database](http://www.worldagroforestry.org/output/agroforestree-database), [Hawaii Agriculture & Food Products Database](https://hawaiiagrproducts.hawaii.gov/s/), [FAO's EcoCrop Database](http://ecocrop.fao.org/ecocrop/srv/en/home))\n",
    "- Data buried in websites without APIs\n",
    "- Data with APIs (e.g., [USDA Soil Data Access API](https://www.programmableweb.com/api/usda-soil-data-access), [USDA National Agricultural Statistics Service](https://www.nass.usda.gov/developer/index.php), [etc](https://catalog.data.gov/organization/4ae51f6c-467a-4f9d-b40a-2c52e83c326a?groups=ecosystems0617&harvest_source_title=USDA+JSON))\n",
    "- Data buried in pdfs (e.g., [Traditional Tree Profiles](http://agroforestry.org/free-publications/traditional-tree-profiles))\n",
    "- CSV files (e.g., outputs of [Farm Link Hawaii](http://farmlinkhawaii.com/) sales and users)\n",
    "\n",
    "\n",
    "#### Potential Projects\n",
    "1. Convert geospatial data to other formats [GIS with Python, Shapely, and Fiona](https://macwright.org/2012/10/31/gis-with-python-shapely-fiona.html) \n",
    "2. Look at the different ways to interact with geospatial files in a gui vs. r vs python.\n",
    "3. Run spatial analysis to cross-tabulate species suitability areas for multiple crops by island through different means (e.g., ArcGIS vs Python vs R); and create a streamlined process to do similar analysis in the future (e.g, ArcGIS ModelBuilder or script)\n",
    "4. Geocode [2017 Dedicated Agricultural Parcels list](https://www.realpropertyhonolulu.com/media/1465/ag.pdf) from site address (or TMK if can find good data) to csv with lat long (via geocodio or similar) and map with Python using Shaply and Fiona.\n",
    "5. Perform similar but using [Organic Integrity Database API](https://organic.ams.usda.gov/integrity/Developer/APIHelp.aspx) to map certified organic farms in the state.\n",
    "6. Convert some shapeful (potentially [local rainfall](http://rainfall.geography.hawaii.edu/downloads.html) into csv with lat long points using Python or R.\n",
    "\n",
    "## Key Questions\n",
    "- Things I want to find out\n",
    "- Definitions I want to establish and clarify\n",
    "- Understand how to convert shapefiles into csv that can be read by other tools\n",
    "- Understand how to connect to APIs and convert data into mapped outputs\n",
    "- Identify multiple pro\n",
    "\n",
    "## Key Findings\n",
    "- A running list of things that I'm learning and don't want to forget\n",
    "\n",
    "## Gameplan\n",
    "Here is my overall approach \n",
    "1. Step 1\n",
    "2. Step 2\n",
    "3. Step 3\n",
    "4. Step 4\n",
    "\n",
    "---\n",
    "\n",
    "## Day 1 Work\n",
    "\n",
    "This is what I tried to do on Day 1. Here's some Code\n",
    "\n",
    "## Day 2 Work\n",
    "\n",
    "This is what I tried to do on Day 2. Here's some more code\n",
    "\n",
    "## Peer Feedback on Day 3\n",
    "\n",
    "After talking it over with a peer, I received the following feedback and decided to make these changes\n",
    "\n",
    "## Here are some overall notes on the skills I learned\n",
    "And perhaps some stream of consciousness notes about what I did, and other questions I might have"
   ]
  },
  {
   "cell_type": "markdown",
   "metadata": {
    "collapsed": true
   },
   "source": []
  }
 ],
 "metadata": {
  "kernelspec": {
   "display_name": "Python 3",
   "language": "python",
   "name": "python3"
  },
  "language_info": {
   "codemirror_mode": {
    "name": "ipython",
    "version": 3
   },
   "file_extension": ".py",
   "mimetype": "text/x-python",
   "name": "python",
   "nbconvert_exporter": "python",
   "pygments_lexer": "ipython3",
   "version": "3.6.3"
  }
 },
 "nbformat": 4,
 "nbformat_minor": 2
}
