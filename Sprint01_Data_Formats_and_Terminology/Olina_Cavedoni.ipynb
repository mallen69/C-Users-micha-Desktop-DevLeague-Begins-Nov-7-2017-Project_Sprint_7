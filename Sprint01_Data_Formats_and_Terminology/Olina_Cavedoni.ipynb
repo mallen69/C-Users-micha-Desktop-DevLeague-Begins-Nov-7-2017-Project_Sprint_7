{
 "cells": [
  {
   "cell_type": "code",
   "execution_count": null,
   "metadata": {
    "collapsed": true
   },
   "outputs": [],
   "source": [
    "# Sprint 1 Fantasy Football: Player Data Compilation\n",
    "#### 11/07/2017 | Olina Cavedoni | Sprint 1\n",
    "#### Description\n",
    "1 to 2 sentence description. The first 5 Sections are mandatory. Free form after that, but there are a couple of suggested categories you can use. But really document however you feel the most comfortable.\n",
    "\n",
    "## Skill Backlog User Story\n",
    "As a Fantasy Football team owner, I need to compile relevant data that helps predict weekly player performance into one place so that I can create a predictive statistical model that helps me win.\n",
    "\n",
    "## Project Proposal\n",
    "The goal of this project is to locate and compile data that is relevant to fantasy football player performance. This will be useful for future sprints in that I plan to eventually create a predictive model that can forecast player performance, as well as my personal life in that it may assist in making more informed choices for which players to start or sit each week. \n",
    "\n",
    "## Key Questions\n",
    "Things I want to find out:\n",
    "- What data is relevant to player performance?\n",
    "- How is this data stored/formatted/accessed?\n",
    "- What is the best system for compiling this information in one place? \n",
    "\n",
    "Definitions I want to establish and clarify:\n",
    "- Not sure what I don't know yet\n",
    "\n",
    "## Key Findings\n",
    "- A running list of things that I'm learning and don't want to forget\n",
    "\n",
    "## Gameplan\n",
    "Here is my overall approach \n",
    "1. Step 1: Search for variables that affect player performance\n",
    "2. Step 2: Gather links and sources \n",
    "3. Step 3: Compile all links and sources\n",
    "4. Step 4: Make the data manipulatable \n",
    "\n",
    "---\n",
    "\n",
    "## Day 1 Work\n",
    "\n",
    "So today I struggled a lot. I discovered that I have no clue where to start when looking for variables affect player performance. Justin suggested I shift my focus to scraping player data off of a website as a first week project. I quickly acquiesed, and now have a new focus.  \n",
    "\n",
    "## Day 2 Work\n",
    "\n",
    "This is what I tried to do on Day 2. Here's some more code\n",
    "\n",
    "## Peer Feedback on Day 3\n",
    "\n",
    "After talking it over with a peer, I received the following feedback and decided to make these changes\n",
    "\n",
    "## Here are some overall notes on the skills I learned\n",
    "And perhaps some stream of consciousness notes about what I did, and other questions I might have"
   ]
  },
  {
   "cell_type": "code",
   "execution_count": null,
   "metadata": {
    "collapsed": true
   },
   "outputs": [],
   "source": []
  }
 ],
 "metadata": {
  "kernelspec": {
   "display_name": "Python 3",
   "language": "python",
   "name": "python3"
  },
  "language_info": {
   "codemirror_mode": {
    "name": "ipython",
    "version": 3
   },
   "file_extension": ".py",
   "mimetype": "text/x-python",
   "name": "python",
   "nbconvert_exporter": "python",
   "pygments_lexer": "ipython3",
   "version": "3.6.3"
  }
 },
 "nbformat": 4,
 "nbformat_minor": 2
}
