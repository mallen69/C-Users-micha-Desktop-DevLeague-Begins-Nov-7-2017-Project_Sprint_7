{
 "cells": [
  {
   "cell_type": "markdown",
   "metadata": {
    "collapsed": true
   },
   "source": [
    "# Michael Allen Project 1\n",
    "#### [11/09/2017] | [Michael Allen] | [Sprint 1]\n",
    "#### Description Title: End of Sprint Survey, Biases, and Data Formats\n",
    "\n",
    "####  Project Description:To create a Version 1.0 \"End of Sprint Survey\" in order for data simulation purposes only.  To look at the Data in both CSV and R file formats.  To document survey participant and survey designer biases which may come into play when a participant fills out a given survey.\n",
    "\n",
    "  \n",
    "   "
   ]
  },
  {
   "cell_type": "markdown",
   "metadata": {
    "collapsed": true
   },
   "source": [
    "## Game Plan\n",
    "Here is my overall Game Plan\n",
    "\n",
    "1. Create Version 1.0 \"End of Sprint Survey\" in Survey Monkey\n",
    "2. Investigate and document potential bias for survey data\n",
    "3. Analyze output in Survey Monkey\n",
    "4. Export to Excel\n",
    "5. Convert Excel Categorical Data to Numerical Data\n",
    "6. Convert Excel to R\n",
    "7. Look at Survey data in CSV, illustrate and annotate with concepts\n",
    "8. Look at Survey data in R illustrate and annotate\n",
    "9. Create CSV Mind mapping concepts\n",
    "10. Create R Mind mapping concepts\n"
   ]
  },
  {
   "cell_type": "markdown",
   "metadata": {},
   "source": [
    "## Skill Backlog User Story\n",
    "\n",
    "#### Project Proposal Sprint 1 - As a Technology Teacher: I need to understand the basic terminology and structure of data so that I can apply statistical analyses. I also need to understand the story of where the data came from so I know how it is relevant to my action or recommendation.\n",
    "\n",
    "An overall User Story: As a [Instructor] I need [Understand the basics of Big Data] so that [I can show and convey it to others]. \n",
    "\n",
    "I propose to first document potential bias from particants on filling out a survey as well as the researcher design biases for the survey tool.  This is useful to understand the story of where the data came from so I know how it is relevant to my action or recommendations.  Secondly to create a quick \"End of Sprint Survey\" in Survey Monday, and then where I will first simulate completing multiple surveys. Survey Monkey has immediate analysis (though I do not know in what format this is in.  I believe I can then export to Excel.  Where then I will look into how to convert it to \"R\" in order to learn this program in subsequent Sprints for equal or better analysis then what Excel offers.  \n",
    "\n",
    "#### Five Pitches for the 11/08/2017 Session for Sprint Number 1\n",
    "*1. In Survey Monkey, create a quick Version 1.0 \"End of Sprint Survey\" so that all of us in the BDA Cohort can evaluate and give feedback to Ben and DevLeague for how Sprint 1 and all the subsequent Sprints went.  Sprint 1 will be to look at the how the data went from conception to an output in Survey Monkey (what kind of data is this) or Excel (maybe at this time). Perhaps another program (\"R\") in a future Sprint.*\n",
    "\n",
    "2. Take existing \"End of Course Survey\" data which is in Excel and begin to look at it in \"R\".\n",
    "\n",
    "3. Currently I have a home for sale in Ko Olina and have been sent an email link with a statistic stating as of today 10,158 people have seen my ad.  What does this really mean?  Where is the data coming from?\n",
    "\n",
    "4. A z-score (aka, a standard score) indicates how many standard deviations an element is from the mean. A z-score can be calculated from the following formula. z = (X - μ) / σ where z is the z-score, X is the value of the element, μ is the population mean, and σ is the standard deviation.  Where does this data come from?  What might be a good program for analyzing it?\n",
    "\n",
    "5. What data do Real Estate Agents on Oahu utilize in order to determine where to spend advertising dollars for thier listings?\n",
    "\n",
    "### Peer/Instructor Feedback on Day 2\n",
    "\n",
    "To investigate the story of where the data came from in the first place. What potential bias exists when a participant fills out a survey.  Where are they coming from in the first place.  Who are they? And what is the ultimate goal of the designer of the survey?  Evaluate the program, the Instructor, the Institition, Marketing, Profit/Loss, \n",
    "\n",
    "#### Key Questions\n",
    "What is the story of where the data came from?  Who filled it out?  Why are they there in the first place.  Forced.  Initiated.  What does the completed Survey Data look like in CSV and R file Formats.\n",
    "\n",
    "### Key Findings\n",
    "\n",
    "SurveyMonkey requires a subcription to have more than ten questions.\n",
    "SurveyMonkey requires a subscriptioin to utlize the Export function.\n",
    "Excel Data is not Converted to R, Simply open the Excel data as a text file first (CSV) and save it.  And then read the CSV file from the R program.\n",
    "\n"
   ]
  },
  {
   "cell_type": "markdown",
   "metadata": {
    "collapsed": true
   },
   "source": [
    "### Game Plan 1\n",
    "Create Version 1.0 \"End of Sprint Survey in Survey Monkey\"\n",
    "Images of Survey Below\n",
    "\n",
    "\n",
    "Created a Ten Question Survey in Survey Monkey (Any more than 10 Questions requires a paid subscription)and uploaded the PDF file \"Survey Questions to Generate Data in Survey Monkey\" will be uploaded to GitHub Projects\n",
    "\n",
    "\n",
    "Survey Monkey Link for the canned survey\n",
    "https://www.surveymonkey.com/r/JKZJGNW\n",
    "\n",
    "Survey Monkey Link for more appropriate Survey though only 10 questions\n",
    "https://www.surveymonkey.com/r/36B9SNC\n",
    "\n",
    "Then after manually filling out 21 surveys, through survey monkey I can see thier analysis, but not allowed to export to Excel or any other program without a paid subscription either.\n",
    "\n",
    "Created a third survey using another account:\n",
    "https://www.surveymonkey.com/r/H5TQNZ7\n",
    "\n"
   ]
  },
  {
   "cell_type": "markdown",
   "metadata": {},
   "source": [
    "![](Question_1_thru_4.jpg)"
   ]
  },
  {
   "cell_type": "markdown",
   "metadata": {},
   "source": [
    "![](Question_5.jpg)"
   ]
  },
  {
   "cell_type": "markdown",
   "metadata": {},
   "source": [
    "![](Question_6_thru_8.jpg)"
   ]
  },
  {
   "cell_type": "markdown",
   "metadata": {},
   "source": [
    "![](Question_9_thru_10.jpg)"
   ]
  },
  {
   "cell_type": "markdown",
   "metadata": {
    "collapsed": true
   },
   "source": [
    "\n",
    "### Game Plan 2\n",
    "Investigate and document potential bias for survey data\n",
    "\n",
    "Documented potential bias from the particants and the designer of the survey:\n",
    "\n",
    "1. Knowledgeable enough to be attending\n",
    "2. Experience\n",
    "3. Gender\n",
    "4. Age\n",
    "5. In a rush to complete survey (not built-in time to fill it out)\n",
    "6. Had a bad morning at home/hotel that day.\n",
    "7. Bad traffic day\n",
    "8. Not focused during the course\n",
    "9. Did not do required work throughout the course\n",
    "10. Relationship issues at home/work\n",
    "11. Past / present working/personal relationship with Instructor\n",
    "12. Motivation\n",
    "13. Forced to attend\n",
    "14. Job depends on success of course understanding and completion\n",
    "\n",
    "\n",
    "http://stattrek.com/statistics/dictionary.aspx?definition=Response%20bias\n",
    "\n",
    "*Response bias refers to the bias that results from problems in the measurement process. Some examples of response bias are given below.*\n",
    "\n",
    "*Leading questions. The wording of the question may be loaded in some way to unduly favor one response over another. For example, a satisfaction survey may ask the respondent to indicate where she is satisfied, dissatisfied, or very dissatified. By giving the respondent one response option to express satisfaction and two response options to express dissatisfaction, this survey question is biased toward getting a dissatisfied response.*\n",
    "\n",
    "*Social desirability. Most people like to present themselves in a favorable light, so they will be reluctant to admit to unsavory attitudes or illegal activities in a survey, particularly if survey results are not confidential. Instead, their responses may be biased toward what they believe is socially desirable.*\n",
    "\n",
    "\n",
    "\n",
    "https://measuringu.com/survey-biases/\n",
    "\n",
    "*1. Social Desirability & Conformity*\n",
    "\n",
    "*Don’t you agree that recycling is an important initiative for companies to embrace?*\n",
    "\n",
    "*Approximately how much time do you spend reading to your children each night?*\n",
    "\n",
    "*On average, how much time do you spend planning meals for your family?*\n",
    "\n",
    "*If it’s socially acceptable (recycling, reading to kids, or caring for your family), respondents are much more likely to endorse and exaggerate. In additional to socially desirable, a number of studies show people will conform to group norms[pdf] both offline and online.*\n",
    "\n",
    "*In fact, it’s hard to convince respondents to go against what’s acceptable even when things are clearly bizarre[pdf]. This means respondents will have a propensity to provide the socially acceptable response over the true response.*\n",
    "\n",
    "*2. Yea Saying and Acquiescing*\n",
    "\n",
    "*Do you want your coffee machine to have different profiles?*\n",
    "\n",
    "*Do you use the mail merge feature of Word?*\n",
    "\n",
    "*Respondents can tend to be agreeable (acquiesce) and respond usually positively to just about any question you ask them in a survey. One of the best way to minimize this “yea” saying is to minimize simple yes-no answers and instead have respondents select from alternatives or use some type of force choice or ranking.*\n",
    "\n",
    "*Note: While a common solution to minimize acquiescent bias is to reverse the tone of items in rating scales, we’ve found, along with other research, that reversing the item wording can actually cause more harm than good in rating scales.*\n",
    "\n",
    "*3. Order Effects*\n",
    "\n",
    "*The order you ask questions matters. Mentioning products, brands, or events can affect how people rate their familiarity and attitudes on subsequent questions. This can be especially harmful in branding and awareness surveys as the mere exposure of a brand name first can influence later questions and findings.  Response options also matter. A respondent might remember a choice that appeared in an earlier question and be more likely to select the response on later questions.  You can often manage many order effects through properly sequenced questions and randomization.*\n",
    "\n",
    "*Even rather benign questions (like asking people their marital status) may prime respondents with negative thoughts as participants recall bad past experiences (like a divorce or death in the family). Moving more sensitive demographic questions and anything that could potentially elicit negative thoughts to the end of a survey when possible may help.*\n",
    "\n",
    "*6.  Sponsorship*\n",
    "\n",
    "*When respondents know where the survey is coming from (the sponsor), it will likely influence responses. If you know the questions about your online social media experience are coming from Facebook, your thoughts and feelings about Facebook will likely impact responses.*\n",
    "\n",
    "*This can be especially the case for more ethereal measures like brand attitude and awareness that can be affected from the mere reminder of a brand in the email invitation or name and logo on the welcome page. One of the best ways to minimize sponsorship bias is to obfuscate the sponsor as much as possible and/ or use a third-party research firm (shameless self-promotion).*\n",
    "\n",
    "*7. Stereotype*\n",
    "\n",
    "*Asking about gender, race, technical ability, education, or other socio-economic topics may reinforce stereotypes in the mind of the respondents and may even lead them to act in more stereotypical ways. For example, reminding people that stereotypes exist around those who are more technically averse (age), math ability (gender), or intelligence (education level) may affect later responses as the stereotype primes respondents through the questions.*\n",
    "\n",
    "*Bias Doesn’t Necessarily Mean Garbage*\n",
    "\n",
    "*Just because a survey has bias doesn’t mean the results are meaningless. It does mean you should be able to understand how each may impact your results.*\n",
    "\n",
    "*While there’s not a magic cure for finding and removing all biases, being aware of them helps limit their negative impact.*\n",
    "\n",
    "\n",
    "\n",
    "http://fluidsurveys.com/university/avoiding-survey-bias/\n",
    "\n",
    "*Question Wording*\n",
    "\n",
    "*Survey bias can be subtle or blatantly obvious in a question’s wording, and can take many forms. It is the survey designer’s job to remain impartial and avoid writing questions that lead or confuse the respondent. This is usually easier said than done as writers generally create biased questions due to their own lack of knowledge in a subject or ignorance of other people’s perspective on that subject.*\n",
    "\n",
    "*To help squash this bias, it is essential to remain neutral in all questions no matter how extreme the topic. It also helps to conduct secondary research to ensure you have a full understanding of the topic in study. Furthermore, a constructive peer review by an expert in the same field of the survey topic will allow you to learn of any problems with your questions that make them confusing or erroneous for the subject of study and its target population.\n",
    "Beyond this, there are several rules that survey creators should always abide by when writing survey questions. Learn them all and reduce your survey bias by reviewing ‘Get the Most Out of Your Survey: Tips for Writing Effective Questions.*\n",
    "\n",
    "Question Type and Design*\n",
    "\n",
    "*This type of survey bias includes the selection of different forms of questions (rating scales, ranking, open-ended versus closed-ended) and the options of answers provided to the respondent. The selections made in question types can have significant impact on the responses received. This is also the case for the options researchers provide for participants to choose from.*\n",
    "\n",
    "*To avoid running into this type of bias, it is crucial for the researcher to understand the strengths and weaknesses of each question type they will be using. This way the question and its options will not only be chosen correctly but can be tailored in order to provide only the most useful data. For more information on how to use different question types check out FluidSurveys’s video tutorials.*\n",
    "\n",
    "*Survey Structure*\n",
    "\n",
    "*One of the most overlooked forms of survey bias comes from poorly designed survey structures. Survey structure usually pertains to the order in which the survey questions are revealed to the respondent, but can also refer to the number of questions per page, the survey logic, the survey length, and the introduction and conclusion. Each of these portions of survey structure can contribute to survey bias and drop outs.*\n",
    "\n",
    "*As with the other forms of survey bias, the best way to avoid making errors with your survey structure is through studying how modifying each aspect of your survey will affect your respondents’ reactions to each question. For example, putting the most threatening or personal seeming questions at the end of your survey will decrease your number of drop outs. Acknowledging information like this will allow you to construct the best possible surveys.*\n",
    "\n",
    "\n",
    "\n",
    "https://blog.cruxresearch.com/2013/08/27/the-top-5-errors-and-biases-in-survey-research/\n",
    "\n",
    "*1.  Researcher Bias.*\n",
    "\n",
    "*The most important error that creeps into surveys about isn’t statistical at all and is not measurable. The viewpoint of the researcher has a way of creeping into question design and analysis. Some times this is purposeful, and other times it is more subtle. All research designers are human, and have points-of-view. Even the most practiced and professional researchers can have subtle biases in the way they word questions or interpret results. How we frame questions and report results is always affected by our experiences and viewpoints – which can be a good thing, but can also affect the purity of the study.*\n",
    "\n",
    "\n",
    "\n",
    "\n"
   ]
  },
  {
   "cell_type": "markdown",
   "metadata": {},
   "source": [
    "### Game Plan 3\n",
    "Analyze output in Survey Monkey:\n",
    "One of the analysis questions below"
   ]
  },
  {
   "cell_type": "markdown",
   "metadata": {},
   "source": [
    "![](Survey_Monkey_Analysis.jpg)"
   ]
  },
  {
   "cell_type": "markdown",
   "metadata": {},
   "source": [
    "### Game Plan 4\n",
    "Export to Excel\n",
    "Image below"
   ]
  },
  {
   "cell_type": "markdown",
   "metadata": {},
   "source": [
    "![](Exported_Excel.jpg)"
   ]
  },
  {
   "cell_type": "markdown",
   "metadata": {},
   "source": [
    "### Game Plan 5 \n",
    "Convert Excel Categorical Data to Numerical Data:\n",
    "Then went back to the Excel Survey Monkey Data that I had exported and replaced:\n",
    "Strongly Agree with \"40\",\n",
    "Agree with \"30\", \n",
    "Disagree with \"20\"\n",
    "Strongly Disagree with \"10\".  \n",
    "These I will be calling the Mean Perceived Learning Scores (MPLS) in future weeks.)"
   ]
  },
  {
   "cell_type": "markdown",
   "metadata": {},
   "source": [
    "![](Categorical_to_Numerical.jpg)"
   ]
  },
  {
   "cell_type": "markdown",
   "metadata": {},
   "source": [
    "### Game Plan 6\n",
    "Convert Excel Categorical Data to Numerical Data\n",
    "\n",
    "In reality: simply a read command within R\n",
    "read.csv(\"Simulated Survey Data II/CSV/Mock Survey Data.csv\")"
   ]
  },
  {
   "cell_type": "markdown",
   "metadata": {},
   "source": [
    "### Game Plan 7\n",
    "Survey data in CSV illustrated and annotated with concepts\n",
    "Below are the images showing that.\n"
   ]
  },
  {
   "cell_type": "markdown",
   "metadata": {},
   "source": [
    "![](CSV_Data_illustrated.jpg)"
   ]
  },
  {
   "cell_type": "markdown",
   "metadata": {
    "collapsed": true
   },
   "source": [
    "### Game Plan 8\n",
    "Survey data in R illustrated and annotated with concepts\n",
    "Below is the image showing that.\n",
    "\n",
    "Notes on starting to work with R.\n",
    "\n",
    "previously needed to setwd()\n",
    "\n",
    "getwd()\n",
    "[1] \"C:/Users/micha/Desktop/DevLeague Begins Nov 7 2017\"\n",
    "read.csv(\"Dev League Slack Analytics Nov 05 2017.xls\")\n",
    "\n",
    "getwd()\n",
    "[1] \"C:/Users/micha/Documents\"\n",
    "setwd(\"C:/Users/micha/Desktop/DevLeague Begins Nov 7 2017/\")\n",
    " getwd()\n",
    "[1] \"C:/Users/micha/Desktop/DevLeague Begins Nov 7 2017\"\n",
    "\n",
    "To declare a variable:\n",
    "\n",
    " surveys = read.csv(\"Simulated Survey Data II/CSV/Mock Survey Data.csv\") - it works...!!!\n",
    "\n",
    "surveys  (then the variable \"surveys\" will have the data from \"Mock Survey Data\"\n",
    "\n",
    "\n"
   ]
  },
  {
   "cell_type": "markdown",
   "metadata": {},
   "source": [
    "![](Page1_R_Data_illustrated.jpg)"
   ]
  },
  {
   "cell_type": "markdown",
   "metadata": {},
   "source": [
    "![](Page2_R_Data_illustrated.jpg)"
   ]
  },
  {
   "cell_type": "markdown",
   "metadata": {},
   "source": [
    "![](Page3_R_Data_illustrated.jpg)"
   ]
  },
  {
   "cell_type": "markdown",
   "metadata": {},
   "source": [
    "![](Page4_R_Data_illustrated.jpg)"
   ]
  },
  {
   "cell_type": "markdown",
   "metadata": {
    "collapsed": true
   },
   "source": [
    "### Game Plan 9\n",
    "CSV Mind mapping concepts\n",
    "Below is the image"
   ]
  },
  {
   "cell_type": "markdown",
   "metadata": {},
   "source": [
    "![](Page1_CSV_Mind_Mapping_Data.jpg)"
   ]
  },
  {
   "cell_type": "markdown",
   "metadata": {},
   "source": [
    "![](Page2_CSV_Mind_Mapping_Data.jpg)"
   ]
  },
  {
   "cell_type": "markdown",
   "metadata": {},
   "source": [
    "### Game Plan 10 \n",
    "R Mind mapping concepts\n",
    "Below is the image"
   ]
  },
  {
   "cell_type": "markdown",
   "metadata": {},
   "source": [
    "![](Page1_R_Mind_Mapping_Data.jpg)"
   ]
  },
  {
   "cell_type": "markdown",
   "metadata": {},
   "source": [
    "![](Page2.0_R_Mind_Mapping_Data.jpg)"
   ]
  },
  {
   "cell_type": "markdown",
   "metadata": {},
   "source": [
    "![](Page3_R_Mind_Mapping_Data.jpg)"
   ]
  },
  {
   "cell_type": "markdown",
   "metadata": {},
   "source": [
    "![](Page4_R_Mind_Mapping_Data.jpg)"
   ]
  },
  {
   "cell_type": "markdown",
   "metadata": {},
   "source": [
    "###  Learning Summary\n",
    "\n",
    "During Sprint #1 I first began to learn about using our support programs, Slack, Juptyer Notebook, GitHub, and Trello.(Tori and John - Thanks for the GitHub help) Definitely struggled with the various GitHub Concepts/Application but feeling better now.\n",
    "\n",
    "Then for the actual project, I learned about various biases which may come into play for survey design and by the paritipants that complete the survey. I learned in order to have more than ten questions on SurveyMonkey and/or having the ability to Export the data requires a paid subscription to SurveyMonkey. I learned that you actually don't convert Excel data to R, simply read the file from the R program. You can first convert (open/save as) the XLS to a .txt file.\n",
    "\n",
    "\n",
    "There is a special way to save a image file into this program (Jupyter). You first have to use an exclamation mark, then Open and closed square bracket, the open parenthesis with the name of the actual image, with the jpg extension, then closed bracket. (I sent a note to my email for this. The image needs to be in the proper directory and BE SURE the CELL/FILE says MARKDOWN.\n"
   ]
  },
  {
   "cell_type": "markdown",
   "metadata": {},
   "source": [
    "## Sprint 2:\n",
    "\n",
    "Story Board:\n",
    "*Sprint 2 - As a Technology Teacher: I need to understand basic R scripting*\n",
    "\n",
    "R Scripting:\n",
    "\n",
    "https://cran.r-project.org/doc/contrib/Lemon-kickstart/kr_scrpt.html\n",
    "\n",
    "So what is an R script?\n",
    "An R script is simply a text file containing (almost) the same commands that you would enter on the command line of R. (almost) refers to the fact that if you are using sink() to send the output to a file, you will have to enclose some commands in print() to get the same output as on the command line. To run a script, let's say one with the name:\n",
    "/home/jim/psych/adoldrug/partyuse1.R\n",
    "you may either use:\n",
    "source(\"/home/jim/psych/adoldrug/partyuse1.R\")\n",
    "on the command line of R OR\n",
    "R CMD BATCH /home/jim/psych/adoldrug/partyuse1.R\n",
    "Let's pause to note a little historical bifurcation that has caused almost as much strife as the question of exactly what the <Delete> key should do. The convention that the slash (/) character is used as a separator in the notation for a filesystem path is not universal. PC-DOS, for example, used the backslash (\\). Like Fords vs Chevrolets, French vs English, and whether you crack the egg at the big or small end, it doesn't really matter a rat's behind which one you use as long as it works. To make it work in R, however, where the *NIX convention of using the backslash as an escape character is respected, you will have to double backslashes in paths for them to be read properly. Thus if the filename above was:\n",
    "C:\\JIM\\PSYCH\\ADOLDRUG\\PARTYUSE1.R\n",
    "I would have to refer to it as:\n",
    "C:\\\\JIM\\\\PSYCH\\\\ADOLDRUG\\\\PARTYUSE1.R\n",
    "in an R script. \n",
    "Using the script to determine where things happen\n",
    "Managing the various objects used in R can be challenging. As mentioned in Starting Up, using the directory structure to sort these objects into sensible categories can be a big help. Instead of starting the R session in a particular directory, you may wish to keep a directory of R scripts and allow these to change the working directory to suit whatever task they perform.\n",
    "First, choose your directory. This will be the place where all of your R scripts will be stored. You can either change to this directory before starting R or use the method described in Starting Up. Let's examine the beginning and end of a typical script written for this purpose:\n",
    "\n",
    "# store the current directory\n",
    "initial.dir<-getwd()\n",
    "# change to the new directory\n",
    "setwd(\"/home/jim/psych/risk/adol\")\n",
    "# load the necessary libraries\n",
    "library(nlme)\n",
    "# set the output file\n",
    "sink(\"adolrisk03.out\")\n",
    "# load the dataset\n",
    "...\n",
    "# close the output file\n",
    "sink()\n",
    "# unload the libraries\n",
    "detach(\"package:nlme\")\n",
    "# change back to the original directory\n",
    "setwd(initial.dir)\n",
    "First notice that the script stores the initial directory and changes to the directory where the data is, and where output will be generated. The libraries necessary for the analysis are then loaded. Finally, the output of the script is directed to a text file, producing a record of the analysis. Then comes the action. After the analysis has been completed, the output file is closed, the libraries are unloaded, and the directory is changed back to where the scripts reside. At this point, you may want to start another script or shut down R.\n",
    "\n",
    "Annotating the output file\n",
    "R's output can often be terse. Annotating it will make it much easier for someone unfamiliar with R or statistical analysis to understand.\n",
    "\n",
    "cat(\"\\nMean risk-taking scores for all groups\\n\\n\")\n",
    "brkdn(risk~group,adolrisk03.df)\n",
    "Here cat() is used to label a breakdown of means, leaving a blank line above and two below the label. Spacing the output with meaningful labels improves the appearance and comprehensibility. \n",
    "\n",
    "\n",
    "\n"
   ]
  },
  {
   "cell_type": "markdown",
   "metadata": {},
   "source": [
    "## My R commands that I sent to myself\n",
    "read.csv(\"Simulated Survey Data II/CSV/Mock Survey Data.csv\",header = TRUE,skip = 1)\n",
    "\n",
    "\n",
    "updated_survey = read.csv(\"Simulated Survey Data II/CSV/Mock Survey Data.csv\",header = TRUE,skip = 1)\n",
    "\n",
    "\n",
    "updated_survey\n",
    "\n",
    "\n",
    "colnames<-`(update_survey[1],\"Course\")\n",
    "\n",
    "Per Justin: on slack\n",
    "\n",
    "colnames(updated_survey) <- c(\"column_header1\", \"column_header2\", \"column_header3, ...\")\n",
    "\n",
    "colnames(update_survey) <- c(\"column_header1\", \"column_header2\", \"column_header3\")\n",
    "\n",
    "colnames(updated_survey) <- c(\"Course\", \"Instructor\", \"Experience\", \"Instructors Lecture\", \"Reponse to Questions\", \"Pace\", \"Length\",\"Support Portals\", \"Sprints\", \"Classroom\")\n",
    "\n",
    "updated_survey\n",
    "\n"
   ]
  },
  {
   "cell_type": "code",
   "execution_count": null,
   "metadata": {
    "collapsed": true
   },
   "outputs": [],
   "source": []
  }
 ],
 "metadata": {
  "kernelspec": {
   "display_name": "Python 3",
   "language": "python",
   "name": "python3"
  },
  "language_info": {
   "codemirror_mode": {
    "name": "ipython",
    "version": 3
   },
   "file_extension": ".py",
   "mimetype": "text/x-python",
   "name": "python",
   "nbconvert_exporter": "python",
   "pygments_lexer": "ipython3",
   "version": "3.6.1"
  }
 },
 "nbformat": 4,
 "nbformat_minor": 2
}
