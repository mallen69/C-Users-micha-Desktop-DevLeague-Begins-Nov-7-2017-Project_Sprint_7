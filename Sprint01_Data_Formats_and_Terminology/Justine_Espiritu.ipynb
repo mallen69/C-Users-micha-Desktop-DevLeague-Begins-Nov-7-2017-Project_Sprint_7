{
 "cells": [
  {
   "cell_type": "markdown",
   "metadata": {
    "collapsed": true
   },
   "source": [
    "# Justine Espiritu\n",
    "#### [11/08/2017] | [Justine] | [Sprint 1]\n",
    "#### Description\n",
<<<<<<< HEAD
    "Determine the lines of communication between customer touch points, servers, and web applications; determine what membership and ride data PBSC applications store and/or report out or can report out to Secure Bike Share; and determine a priority list of reports that can possibly be pulled on a regular basis\n",
    "\n",
    "## Skill Backlog User Story\n",
    "Sprint 1 - As a program evaluator I need to understand the story of where the data came from so I know how it is relevant to my analysis or recommendation\n",
    "\n",
    "## Project Proposal\n",
    "This is what I propose to do in this project and why I think it will be useful to me and my overall objective: \n",
    "\n",
    "Data generated from the Biki bikeshare system goes through a number of partners before it is accessible to Bikeshare Hawaii. I am learning that with each partner there is a degree of difficiulty to retrieve the data from them. Shooga (website) and Odesa (app) collect payment data but are not very responsive and don't currently share reports with us. PBSC has access to all the data, but don't pull reports on everything possible, and there is a backlog of requests and updates we are waiting on that take priority over reports for the purpose of data collection. Secure shares some reports they pull, but they potentially want to keep raw data relating to finaces/sales undisclosed to Bikeshare Hawaii. My goal for this project is to understand the lines of communication between customer touch points/purchases and the servers so I know which partners or communications I need to tap into for certain data requests. I also also want to determine what data is currently made accessible to Secure Bike Share through the web apps (Console and Comet) that they can pull a report on, and which ones they need to request a report, and determine a priority list of what reports i'd like pulled on a regular basis that I need to add to the request que.\n",
    "\n",
    "\n",
    "## Key Questions\n",
    "\n",
    "What servers and data does each partner/contractor store and/or have access to\n",
    "What is BSH and Secure Bike Share's priority list for data collection, and what does the PBSC que look like right now \n",
    "How can I stay in the loop of current reports pulled, and how can I request what I'm interested in\n",
    "What formats will the data come in, and how can I impress Secure by using something other than excel to analyze\n",
    "Will Secure Bike Share hire a recent college graduate to do do analytics and will she be way better than me\n",
    "\n",
    "- Definitions I want to establish and clarify\n",
=======
 Determine the lines of communication between customer touch points, servers, and web applications; determine what membership and ride data PBSC applications store and/or report out or can report out to Secure Bike Share; and determine a priority list of reports that can possibly be pulled on a regular basis
    "## Skill Backlog User Story\n",
Sprint 1 - As a program evaluator I need to understand the story of where the data came from so I know how it is relevant to my analysis or recommendation
    "## Project Proposal\n",
Data generated from the Biki bikeshare system goes through a number of partners before it is accessible to Bikeshare Hawaii. I am learning that with each partner there is a degree of difficiulty to retrieve the data from them. Shooga (website) and Odesa (app) collect payment data but are not very responsive and don't currently share reports with us. PBSC has access to all the data, but don't pull reports on everything possible, and there is a backlog of requests and updates we are waiting on that take priority over reports for the purpose of data collection. Secure shares some reports they pull, but they potentially want to keep raw data relating to finaces/sales undisclosed to Bikeshare Hawaii. My goal for this project is to understand the lines of communication between customer touch points/purchases and the servers so I know which partners or communications I need to tap into for certain data requests. I also also want to determine what data is currently made accessible to Secure Bike Share through the web apps (Console and Comet) that they can pull a report on, and which ones they need to request a report, and determine a priority list of what reports i'd like pulled on a regular basis that I need to add to the request que.
    "## Key Questions\n",
What servers and data does each partner/contractor store and/or have access to
What is BSH and Secure Bike Share's priority list for data collection, and what does the PBSC que look like right now 
How can I stay in the loop of current reports pulled, and how can I request what I'm interested in
What formats will the data come in, and how can I impress Secure by using something other than excel to analyze
Will Secure Bike Share hire a recent college graduate to do do analytics and will she be way better than me

>>>>>>> eaff6ca667a336ceedbee0f531918a5e711d20ec
    "\n",
    "## Key Findings\n",
    "- A running list of things that I'm learning and don't want to forget\n",
    "\n",
    "## Gameplan\n",
<<<<<<< HEAD
    "Here is my overall approach \n",
    "\n",
    "\n",
    "1. Step 1- Confirm data architecture/flow of data with Secure Bike Share\n",
    "\n",
    "2. Step 2- Check status of reports/ data storage with app and website activity with Kelsey/web and app contacts\n",
    "\n",
    "3. Step 3- Review BSH/Secure Bike Share data analyst wish list\n",
    "\n",
    "4. Step 4- Learn what priorities were presented to PBSC and what the que looks like\n",
    "\n",
    "5. Step 5- Create my own wish list of data reports\n",
    "\n",
    "6. Step 6- Put my request into the wish list que\n",
    "\n",
    "7. Step 7- Upload some data into something other than excel\n",
    "\n",
    "---\n",
    "\n",
    "## Day 1 Work\n",
    "\n",
    "On Day 1, I asked Secure Bike Share for the data. Right now, they do not collect a report or track where members sign up, it is just inferred based on the membership type. The only path we \"know\" is that the $20 plan is from the kiosk. MOnthly plans and Free Spirit Pass can be app or website. Single Ride can be a kiosk or the app. The app uses the website, so the server does not distinguish between the app and the website.\n",
    "\n",
    "In class, Ben and I mapped out communication lines between purchase pathways and servers to determine what communication logs we can extract from Secure and PBSC and I crafted how I could effectively request the data sources I need.\n",
    "\n",
=======
  1. Step 1- Confirm data architecture/flow of data with Secure Bike Share

2. Step 2- Check status of reports/ data storage with app and website activity with Kelsey/web and app contacts

3. Step 3- Review BSH/Secure Bike Share data analyst wish list

4. Step 4- Learn what priorities were presented to PBSC and what the que looks like

5. Step 5- Create my own wish list of data reports

6. Step 6- Put my request into the wish list que

7. Step 7- Upload some data into something other than excel
    "## Day 1 Work\n",
On Day 1, I asked Secure Bike Share for the data. Right now, they do not collect a report or track where members sign up, it is just inferred based on the membership type. The only path we "know" is that the $20 plan is from the kiosk. MOnthly plans and Free Spirit Pass can be app or website. Single Ride can be a kiosk or the app. The app uses the website, so the server does not distinguish between the app and the website.

In class, Ben and I mapped out communication lines between purchase pathways and servers to determine what communication logs we can extract from Secure and PBSC and I crafted how I could effectively request the data sources I need.
>>>>>>> eaff6ca667a336ceedbee0f531918a5e711d20ec
    "## Day 2 Work\n",
    "\n",
    "This is what I tried to do on Day 2. Here's some more code\n",
    "\n",
    "## Peer Feedback on Day 3\n",
    "\n",
    "After talking it over with a peer, I received the following feedback and decided to make these changes\n",
    "\n",
    "## Here are some overall notes on the skills I learned\n",
    "And perhaps some stream of consciousness notes about what I did, and other questions I might have"
   ]
  },
  {
   "cell_type": "code",
   "execution_count": null,
   "metadata": {
    "collapsed": true
   },
   "outputs": [],
   "source": []
  }
 ],
 "metadata": {
  "kernelspec": {
   "display_name": "Python 3",
   "language": "python",
   "name": "python3"
  },
  "language_info": {
   "codemirror_mode": {
    "name": "ipython",
    "version": 3
   },
   "file_extension": ".py",
   "mimetype": "text/x-python",
   "name": "python",
   "nbconvert_exporter": "python",
   "pygments_lexer": "ipython3",
   "version": "3.6.3"
  }
 },
 "nbformat": 4,
 "nbformat_minor": 2
}
