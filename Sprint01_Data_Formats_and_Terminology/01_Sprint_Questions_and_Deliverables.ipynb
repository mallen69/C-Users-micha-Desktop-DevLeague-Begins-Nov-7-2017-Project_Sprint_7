{
 "cells": [
  {
   "cell_type": "markdown",
   "metadata": {},
   "source": [
    "# Sprint 1: Data Formats and Terminology\n",
    "\n",
    "|Author|Project Title|overview|repo|documentation|\n",
    "|---|---|---|---|---|\n",
    "|Hunter Heavilin|Getting to Know Shapefiles and GeoJSON|[slides](https://github.com/devleague/BigDataAnalyst_ProjectDocumentation/blob/master/Sprint01_Data_Formats_and_Terminology/01_Sprint_Presentations/Hunter_Heaivilin_Sprint_01_Review.pdf)|[repo]()|[docs]()|\n",
    "|Jon Honda|Reading Web News Sources|[slides](https://github.com/devleague/BigDataAnalyst_ProjectDocumentation/blob/master/Sprint01_Data_Formats_and_Terminology/01_Sprint_Presentations/Jon_Honda_Sprint_01_Review.pdf)|[repo]()|[docs]()|\n",
    "|Justine Espiritu|Biki Data Flow|[slides](https://github.com/devleague/BigDataAnalyst_ProjectDocumentation/blob/master/Sprint01_Data_Formats_and_Terminology/01_Sprint_Presentations/Justine_Espiritu_Sprint_01_Review.pdf)|[repo]()|[docs]()|\n",
    "|Michael Allen|End of Sprint Survey, Biases, and Data Formats|[slides](hhttps://github.com/devleague/BigDataAnalyst_ProjectDocumentation/blob/master/Sprint01_Data_Formats_and_Terminology/01_Sprint_Presentations/Michael_Allen_Sprint_01_Review.pdf)|[repo]()|[docs]()|\n",
    "|Olina Cavedoni|Webscraping NFL Depth Chart Using RStudio(rvest)|[slides](https://github.com/devleague/BigDataAnalyst_ProjectDocumentation/blob/master/Sprint01_Data_Formats_and_Terminology/01_Sprint_Presentations/Olina_Cavedone_Sprint_01_Review.pdf)|[repo]()|[docs]()|\n",
    "|Runjini Murthy|Data File Formats & Conversion for N00bs|[slides](https://github.com/devleague/BigDataAnalyst_ProjectDocumentation/blob/master/Sprint01_Data_Formats_and_Terminology/01_Sprint_Presentations/Runjini_Murthy_Sprint_01_Review.pdf)|[repo]()|[docs]()|\n",
    "|Sheuli Molla|Data Formats and Terminology|[slides](https://github.com/devleague/BigDataAnalyst_ProjectDocumentation/blob/master/Sprint01_Data_Formats_and_Terminology/01_Sprint_Presentations/Sheuli_Molla_Sprint_01_Review.pdf)|[repo]()|[docs]()|\n",
    "|Tori Larson|Basics of CSV, JSON & XML|[slides](https://github.com/devleague/BigDataAnalyst_ProjectDocumentation/blob/master/Sprint01_Data_Formats_and_Terminology/01_Sprint_Presentations/Tori_Larson_Sprint_01_Review.pdf)|[repo]()|[docs]()|\n"
   ]
  },
  {
   "cell_type": "code",
   "execution_count": null,
   "metadata": {
    "collapsed": true
   },
   "outputs": [],
   "source": []
  }
 ],
 "metadata": {
  "kernelspec": {
   "display_name": "Python 3",
   "language": "python",
   "name": "python3"
  },
  "language_info": {
   "codemirror_mode": {
    "name": "ipython",
    "version": 3
   },
   "file_extension": ".py",
   "mimetype": "text/x-python",
   "name": "python",
   "nbconvert_exporter": "python",
   "pygments_lexer": "ipython3",
   "version": "3.6.1"
  }
 },
 "nbformat": 4,
 "nbformat_minor": 2
}
