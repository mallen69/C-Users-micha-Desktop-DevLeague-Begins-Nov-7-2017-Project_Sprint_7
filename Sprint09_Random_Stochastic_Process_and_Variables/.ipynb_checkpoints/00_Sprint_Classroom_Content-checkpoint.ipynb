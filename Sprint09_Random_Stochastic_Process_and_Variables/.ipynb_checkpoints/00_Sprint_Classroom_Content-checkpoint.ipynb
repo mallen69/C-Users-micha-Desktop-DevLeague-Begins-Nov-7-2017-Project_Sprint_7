{
 "cells": [
  {
   "cell_type": "markdown",
   "metadata": {},
   "source": [
    "# Random Stochastic Processes and Variables\n",
    "\n",
    "## Key Concepts and Definitions\n",
    "- Stochastic Process\n",
    "- Deterministic Process\n",
    "- Randomness\n",
    "- Order\n",
    "- Entropy\n",
    "- Markov Chain\n",
    "- Monte Carlo\n",
    "- MCMC\n",
    "- Bayes Rule\n",
    "- Prior Distribution\n",
    "- Posterior Distribution\n",
    "- Frequentist vs Bayesian\n",
    "- Conditional Probability\n",
    "\n",
    "## Key Questions\n",
    "\n",
    "1. What is randomness?\n",
    "\n",
    "2. What is order?\n",
    "\n",
    "3. What is a Random Process?\n",
    "\n",
    "4. What is a probability?\n",
    "    -number between 0 and 1 (including both) that represents a degree of belief in a fact or prediction\n",
    "    -0 and 1 represent the extreme states of belief in some event or some prediction\n",
    "    -0 is the belief that the fact/prediction/event is false\n",
    "    -1 is the belief that the fact/prediction/event is true\n",
    "\n",
    "5. Why is probability bounded by 0 and 1?\n",
    "    -Can you have negative probabilities? What would that mean?\n",
    "    -Can you have probabilities greater than 1? What would that mean?\n",
    "    -Does this question have any meaning?\n",
    "\n",
    "6. What is conditional probability?\n",
    "    -The probability of some event/state given some condition/circumstance\n",
    "    -What is the probability of big waves on the North Shore in July? \n",
    "    -What's the condition? \n",
    "    -Let's say you are driving on the H1 at 730 on Monday morning and there is no traffic. What is the probability that UH is not in session?\n",
    "    What is the condition?\n",
    "\n",
    "7. What is conjoint Probability?\n",
    "    -What is the probability that two events are both true?\n",
    "    \n",
    "\n",
    "\n",
    "## Project Ideas"
   ]
  },
  {
   "cell_type": "markdown",
   "metadata": {},
   "source": []
  },
  {
   "cell_type": "markdown",
   "metadata": {},
   "source": [
    "# What is randomness?"
   ]
  },
  {
   "cell_type": "code",
   "execution_count": 11,
   "metadata": {
    "scrolled": true
   },
   "outputs": [
    {
     "data": {
      "text/html": [
       "<iframe width=\"560\" height=\"315\" src=\"https://www.youtube.com/embed/FAdxd2Iv-UA?rel=0&amp;controls=0&amp;showinfo=0\" frameborder=\"0\" allowfullscreen></iframe>"
      ],
      "text/plain": [
       "<IPython.core.display.HTML object>"
      ]
     },
     "execution_count": 11,
     "metadata": {},
     "output_type": "execute_result"
    }
   ],
   "source": [
    "from IPython.display import HTML\n",
    "HTML('<iframe width=\"560\" height=\"315\" src=\"https://www.youtube.com/embed/FAdxd2Iv-UA?rel=0&amp;controls=0&amp;showinfo=0\" frameborder=\"0\" allowfullscreen></iframe>')\n"
   ]
  },
  {
   "cell_type": "markdown",
   "metadata": {},
   "source": [
    "# What is a Markov Process"
   ]
  },
  {
   "cell_type": "code",
   "execution_count": 16,
   "metadata": {},
   "outputs": [],
   "source": [
    "#http://setosa.io/blog/2014/07/26/markov-chains/index.html"
   ]
  },
  {
   "cell_type": "code",
   "execution_count": null,
   "metadata": {
    "collapsed": true
   },
   "outputs": [],
   "source": []
  },
  {
   "cell_type": "code",
   "execution_count": null,
   "metadata": {
    "collapsed": true
   },
   "outputs": [],
   "source": []
  },
  {
   "cell_type": "code",
   "execution_count": null,
   "metadata": {
    "collapsed": true
   },
   "outputs": [],
   "source": []
  }
 ],
 "metadata": {
  "kernelspec": {
   "display_name": "Python 3",
   "language": "python",
   "name": "python3"
  },
  "language_info": {
   "codemirror_mode": {
    "name": "ipython",
    "version": 3
   },
   "file_extension": ".py",
   "mimetype": "text/x-python",
   "name": "python",
   "nbconvert_exporter": "python",
   "pygments_lexer": "ipython3",
   "version": "3.6.2"
  }
 },
 "nbformat": 4,
 "nbformat_minor": 2
}
