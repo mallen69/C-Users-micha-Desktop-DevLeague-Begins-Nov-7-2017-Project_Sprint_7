{
 "cells": [
  {
   "cell_type": "markdown",
   "metadata": {},
   "source": [
    "# Sprint Title\n",
    "\n",
    "## Key Concepts and Definitions\n",
    "\n",
    "## Key Questions\n",
    "\n",
    "## Project Ideas\n",
    "\n",
    "From Justin on Both Sprints for Probability Theory\n",
    "\n",
    "- Define the following concepts:\n",
    "        - Data generating process\n",
    "        - Cumulative distribution function\n",
    "        - Probability density function vs. probability mass functions\n",
    "        - Variance\n",
    "        - Median\n",
    "        - Mean\n",
    "        - Standard deviation\n",
    "        - Skewness \n",
    "- What does it mean to say something is normally distributed?\n",
    "- What other distributions are there? \n",
    "- Plot chi-square,gamma,uniform, bimodal, exponential, student’s t, log normal poisson and normal distributions\n",
    "- Identify a data-generating process for each of these distributions\n",
    "- Can you pull data for processes with varying distributions and analyze the summary statistics?\n",
    "- What questions interest you the most? What types of distributions do you think they are?\n",
    "- Scipy, pandas, numpy, seaborn, matplotlib\n"
   ]
  },
  {
   "cell_type": "code",
   "execution_count": null,
   "metadata": {
    "collapsed": true
   },
   "outputs": [],
   "source": []
  }
 ],
 "metadata": {
  "kernelspec": {
   "display_name": "Python 3",
   "language": "python",
   "name": "python3"
  },
  "language_info": {
   "codemirror_mode": {
    "name": "ipython",
    "version": 3
   },
   "file_extension": ".py",
   "mimetype": "text/x-python",
   "name": "python",
   "nbconvert_exporter": "python",
   "pygments_lexer": "ipython3",
   "version": "3.6.1"
  }
 },
 "nbformat": 4,
 "nbformat_minor": 2
}
