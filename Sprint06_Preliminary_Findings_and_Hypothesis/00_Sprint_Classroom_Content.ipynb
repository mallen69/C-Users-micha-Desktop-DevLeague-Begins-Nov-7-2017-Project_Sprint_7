{
 "cells": [
  {
   "cell_type": "markdown",
   "metadata": {},
   "source": [
    "# Sprint Title\n",
    "\n",
    "## Key Concepts and Definitions\n",
    "\n",
    "## Key Questions\n",
    "\n",
    "## Project Ideas"
   ]
  },
  {
   "cell_type": "code",
   "execution_count": null,
   "metadata": {
    "collapsed": true
   },
   "outputs": [],
   "source": [
    "Python Chart Library\n",
    "https://python-graph-gallery.com/\n",
    "    \n",
    "http://visualizationuniverse.com/charts/?sortBy=volume&sortDir=desc\n",
    "http://datavizproject.com/\n",
    "    \n",
    "(http://ggplot2.tidyverse.org/). For Python, there is a library which uses the same approach to visualization (http://ggplot.yhathq.com/), but I have also heard great things about Seaborn (http://seaborn.pydata.org). There's also a cool project providing a data interchange format between R and Python (https://github.com/wesm/feather)."
   ]
  }
 ],
 "metadata": {
  "kernelspec": {
   "display_name": "Python 3",
   "language": "python",
   "name": "python3"
  },
  "language_info": {
   "codemirror_mode": {
    "name": "ipython",
    "version": 3
   },
   "file_extension": ".py",
   "mimetype": "text/x-python",
   "name": "python",
   "nbconvert_exporter": "python",
   "pygments_lexer": "ipython3",
   "version": "3.6.1"
  }
 },
 "nbformat": 4,
 "nbformat_minor": 2
}
