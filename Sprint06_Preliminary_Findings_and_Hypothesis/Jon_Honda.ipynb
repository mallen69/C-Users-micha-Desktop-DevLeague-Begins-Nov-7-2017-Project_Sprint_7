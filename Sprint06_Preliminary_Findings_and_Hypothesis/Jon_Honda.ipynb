{
 "cells": [
  {
   "cell_type": "raw",
   "metadata": {
    "collapsed": true
   },
   "source": [
    "# Preliminary Findings and Hypotheses Sprint Journal for Jon Honda"
   ]
  },
  {
   "cell_type": "markdown",
   "metadata": {},
   "source": [
    "## Part 1 (Week 1): Pair EDA and Concept Demonstration\n",
    "\n",
    "### 1. Exploratory Data Analysis Concepts to use or test on this project\n",
    "During week 1, I will explore each of the following EDA concepts topically. I will identify items that I know well, items that I know somewhat well, and items that I don't know at all. I will use this exploration to further identify a subset of these concepts to deeply explore during week 2."
   ]
  },
  {
   "cell_type": "markdown",
   "metadata": {},
   "source": [
    "#### Here are the concepts i will explore (defined as an R vector):"
   ]
  },
  {
   "cell_type": "code",
   "execution_count": 84,
   "metadata": {
    "collapsed": true
   },
   "outputs": [],
   "source": [
    "EDA_Concepts <- c(\n",
    "    'sample',\n",
    "    'statistic',\n",
    "    'population',\n",
    "    'parameter',\n",
    "    'central tendency',\n",
    "    'variation',\n",
    "     'univariate',\n",
    "     'multivariate',\n",
    "     'distribution',\n",
    "     'categorical variable',\n",
    "     'continuous / quantitative variable',\n",
    "     'variance',\n",
    "     'standard deviation',\n",
    "     'interquartile range',\n",
    "     'skewness',\n",
    "     'kurtosis',\n",
    "     'histogram',\n",
    "     'stem and leaf',\n",
    "     'box plot',\n",
    "     'outlier',\n",
    "     'cross tabulation',\n",
    "     'anova',\n",
    "     'correlation',\n",
    "     'covariance'\n",
    ")"
   ]
  },
  {
   "cell_type": "markdown",
   "metadata": {},
   "source": [
    "#### Before doing my breadth first analysis, here is how I feel about each concept on a 1 to 5 scale; "
   ]
  },
  {
   "cell_type": "code",
   "execution_count": 85,
   "metadata": {},
   "outputs": [
    {
     "data": {
      "text/html": [
       "<table>\n",
       "<thead><tr><th scope=col>EDA_Concepts</th><th scope=col>PreBreadth_Knowledge</th></tr></thead>\n",
       "<tbody>\n",
       "\t<tr><td>sample                            </td><td>5                                 </td></tr>\n",
       "\t<tr><td>statistic                         </td><td>5                                 </td></tr>\n",
       "\t<tr><td>population                        </td><td>5                                 </td></tr>\n",
       "\t<tr><td>parameter                         </td><td>5                                 </td></tr>\n",
       "\t<tr><td>central tendency                  </td><td>5                                 </td></tr>\n",
       "\t<tr><td>variation                         </td><td>4                                 </td></tr>\n",
       "\t<tr><td>univariate                        </td><td>5                                 </td></tr>\n",
       "\t<tr><td>multivariate                      </td><td>3                                 </td></tr>\n",
       "\t<tr><td>distribution                      </td><td>4                                 </td></tr>\n",
       "\t<tr><td>categorical variable              </td><td>2                                 </td></tr>\n",
       "\t<tr><td>continuous / quantitative variable</td><td>5                                 </td></tr>\n",
       "\t<tr><td>variance                          </td><td>5                                 </td></tr>\n",
       "\t<tr><td>standard deviation                </td><td>5                                 </td></tr>\n",
       "\t<tr><td>interquartile range               </td><td>3                                 </td></tr>\n",
       "\t<tr><td>skewness                          </td><td>2                                 </td></tr>\n",
       "\t<tr><td>kurtosis                          </td><td>1                                 </td></tr>\n",
       "\t<tr><td>histogram                         </td><td>5                                 </td></tr>\n",
       "\t<tr><td>stem and leaf                     </td><td>1                                 </td></tr>\n",
       "\t<tr><td>box plot                          </td><td>2                                 </td></tr>\n",
       "\t<tr><td>outlier                           </td><td>5                                 </td></tr>\n",
       "\t<tr><td>cross tabulation                  </td><td>1                                 </td></tr>\n",
       "\t<tr><td>anova                             </td><td>2                                 </td></tr>\n",
       "\t<tr><td>correlation                       </td><td>3                                 </td></tr>\n",
       "\t<tr><td>covariance                        </td><td>5                                 </td></tr>\n",
       "</tbody>\n",
       "</table>\n"
      ],
      "text/latex": [
       "\\begin{tabular}{r|ll}\n",
       " EDA\\_Concepts & PreBreadth\\_Knowledge\\\\\n",
       "\\hline\n",
       "\t sample                             & 5                                 \\\\\n",
       "\t statistic                          & 5                                 \\\\\n",
       "\t population                         & 5                                 \\\\\n",
       "\t parameter                          & 5                                 \\\\\n",
       "\t central tendency                   & 5                                 \\\\\n",
       "\t variation                          & 4                                 \\\\\n",
       "\t univariate                         & 5                                 \\\\\n",
       "\t multivariate                       & 3                                 \\\\\n",
       "\t distribution                       & 4                                 \\\\\n",
       "\t categorical variable               & 2                                 \\\\\n",
       "\t continuous / quantitative variable & 5                                 \\\\\n",
       "\t variance                           & 5                                 \\\\\n",
       "\t standard deviation                 & 5                                 \\\\\n",
       "\t interquartile range                & 3                                 \\\\\n",
       "\t skewness                           & 2                                 \\\\\n",
       "\t kurtosis                           & 1                                 \\\\\n",
       "\t histogram                          & 5                                 \\\\\n",
       "\t stem and leaf                      & 1                                 \\\\\n",
       "\t box plot                           & 2                                 \\\\\n",
       "\t outlier                            & 5                                 \\\\\n",
       "\t cross tabulation                   & 1                                 \\\\\n",
       "\t anova                              & 2                                 \\\\\n",
       "\t correlation                        & 3                                 \\\\\n",
       "\t covariance                         & 5                                 \\\\\n",
       "\\end{tabular}\n"
      ],
      "text/markdown": [
       "\n",
       "EDA_Concepts | PreBreadth_Knowledge | \n",
       "|---|---|---|---|---|---|---|---|---|---|---|---|---|---|---|---|---|---|---|---|---|---|---|---|\n",
       "| sample                             | 5                                  | \n",
       "| statistic                          | 5                                  | \n",
       "| population                         | 5                                  | \n",
       "| parameter                          | 5                                  | \n",
       "| central tendency                   | 5                                  | \n",
       "| variation                          | 4                                  | \n",
       "| univariate                         | 5                                  | \n",
       "| multivariate                       | 3                                  | \n",
       "| distribution                       | 4                                  | \n",
       "| categorical variable               | 2                                  | \n",
       "| continuous / quantitative variable | 5                                  | \n",
       "| variance                           | 5                                  | \n",
       "| standard deviation                 | 5                                  | \n",
       "| interquartile range                | 3                                  | \n",
       "| skewness                           | 2                                  | \n",
       "| kurtosis                           | 1                                  | \n",
       "| histogram                          | 5                                  | \n",
       "| stem and leaf                      | 1                                  | \n",
       "| box plot                           | 2                                  | \n",
       "| outlier                            | 5                                  | \n",
       "| cross tabulation                   | 1                                  | \n",
       "| anova                              | 2                                  | \n",
       "| correlation                        | 3                                  | \n",
       "| covariance                         | 5                                  | \n",
       "\n",
       "\n"
      ],
      "text/plain": [
       "   EDA_Concepts                       PreBreadth_Knowledge\n",
       "1  sample                             5                   \n",
       "2  statistic                          5                   \n",
       "3  population                         5                   \n",
       "4  parameter                          5                   \n",
       "5  central tendency                   5                   \n",
       "6  variation                          4                   \n",
       "7  univariate                         5                   \n",
       "8  multivariate                       3                   \n",
       "9  distribution                       4                   \n",
       "10 categorical variable               2                   \n",
       "11 continuous / quantitative variable 5                   \n",
       "12 variance                           5                   \n",
       "13 standard deviation                 5                   \n",
       "14 interquartile range                3                   \n",
       "15 skewness                           2                   \n",
       "16 kurtosis                           1                   \n",
       "17 histogram                          5                   \n",
       "18 stem and leaf                      1                   \n",
       "19 box plot                           2                   \n",
       "20 outlier                            5                   \n",
       "21 cross tabulation                   1                   \n",
       "22 anova                              2                   \n",
       "23 correlation                        3                   \n",
       "24 covariance                         5                   "
      ]
     },
     "metadata": {},
     "output_type": "display_data"
    }
   ],
   "source": [
    "PreBreadth_Knowledge <- rep(1, length(EDA_Concepts)) #initialize the vector\n",
    "\n",
    "#now let's assign values:\n",
    "PreBreadth_Knowledge[match(c('sample'),EDA_Concepts)] = 5\n",
    "PreBreadth_Knowledge[match(c('statistic'),EDA_Concepts)] = 5\n",
    "PreBreadth_Knowledge[match(c('population'),EDA_Concepts)] = 5\n",
    "PreBreadth_Knowledge[match(c('parameter'),EDA_Concepts)] = 5\n",
    "PreBreadth_Knowledge[match(c('central tendency'),EDA_Concepts)] = 5\n",
    "PreBreadth_Knowledge[match(c('variation'),EDA_Concepts)] = 4\n",
    "PreBreadth_Knowledge[match(c('univariate'),EDA_Concepts)] = 5\n",
    "PreBreadth_Knowledge[match(c('multivariate'),EDA_Concepts)] = 3\n",
    "PreBreadth_Knowledge[match(c('distribution'),EDA_Concepts)] = 4 \n",
    "PreBreadth_Knowledge[match(c('categorical variable'),EDA_Concepts)] = 2\n",
    "PreBreadth_Knowledge[match(c('continuous / quantitative variable'),EDA_Concepts)] = 5\n",
    "PreBreadth_Knowledge[match(c('variance'),EDA_Concepts)] = 5\n",
    "PreBreadth_Knowledge[match(c('standard deviation'),EDA_Concepts)] = 5\n",
    "PreBreadth_Knowledge[match(c('interquartile range'),EDA_Concepts)] = 3\n",
    "PreBreadth_Knowledge[match(c('skewness'),EDA_Concepts)] = 2\n",
    "PreBreadth_Knowledge[match(c('kurtosis'),EDA_Concepts)] = 1\n",
    "PreBreadth_Knowledge[match(c('histogram'),EDA_Concepts)] = 5\n",
    "PreBreadth_Knowledge[match(c('stem and leaf'),EDA_Concepts)] = 1\n",
    "PreBreadth_Knowledge[match(c('box plot'),EDA_Concepts)] = 2\n",
    "PreBreadth_Knowledge[match(c('outlier'),EDA_Concepts)] = 5\n",
    "PreBreadth_Knowledge[match(c('cross tabulation'),EDA_Concepts)] = 1\n",
    "PreBreadth_Knowledge[match(c('anova'),EDA_Concepts)] = 2\n",
    "PreBreadth_Knowledge[match(c('correlation'),EDA_Concepts)] = 3\n",
    "PreBreadth_Knowledge[match(c('covariance'),EDA_Concepts)] = 5\n",
    "\n",
    "data.frame(EDA_Concepts,PreBreadth_Knowledge) #display my knowledge\n"
   ]
  },
  {
   "cell_type": "code",
   "execution_count": null,
   "metadata": {
    "collapsed": true
   },
   "outputs": [],
   "source": []
  },
  {
   "cell_type": "markdown",
   "metadata": {},
   "source": [
    "### 2. Professionally Relevant Datasets\n",
    "I have an interest in financial analysis and company valuations. I will work with Quandl data sets:\n",
    "\n",
    "1. WIKI dataset (closing stock prices).  I'll select 1 company\n",
    "2. Federal reserve data set: quarterly GDP (FRED/GDP)\n",
    "3. Yale Dept of Economics: S&P 500 data (YALE/SPCOMP)\n",
    "\n",
    "### 3. EDA Steps for your partner to explore your dataset(s)\n",
    "The first part of this sprint project will be to trade datasets with a partner. The idea for the exercise is to think about what you think might be interesting about a dataset and create an EDA plan to explore it. Except the first pass will be for your partner to carry out your EDA plan and report back to you with preliminary findings.\n",
    "\n",
    "Create a new Jupyter notebook (python or R) that loads your dataset and includes cells for the steps you want your partner to take and empty cells for the code to complete them as well as empty cells where preliminary findings should go.\n",
    "\n",
    "### 4. Carrying out your Partner's EDA Steps\n",
    "Complete the EDA process notebook your partner created\n",
    "\n",
    "### 5. Applying your EDA Concepts (step 1) to your partner's dataset. \n",
    "Use your partner's dataset as a basis to explore the concepts for this week\n",
    "\n",
    "## Part 2 (Week 2): EDA of your Dataset\n",
    "Walk through a polished Exploratory Data Analysis exercise in your personal repo. This can include the steps that you laid out originally, any new steps and new ideas you have, or any new techniques you developed from the concepts in (5.) above. \n",
    "\n",
    "Your final deliverable repo should include a \n",
    "- 1.) readme and a script file OR\n",
    "- 2.) a notebook \n",
    "\n",
    "that illustrates your analysis and leads to preliminary findings and hypotheses about the dataset for future investigation or more thorough analysis."
   ]
  },
  {
   "cell_type": "markdown",
   "metadata": {},
   "source": [
    "# Key Concepts"
   ]
  },
  {
   "cell_type": "markdown",
   "metadata": {},
   "source": [
    "I'm using Quandl data sets. I need to load them in:"
   ]
  },
  {
   "cell_type": "code",
   "execution_count": 37,
   "metadata": {},
   "outputs": [
    {
     "data": {
      "text/html": [
       "<dl class=dl-horizontal>\n",
       "\t<dt>S&amp;P Composite</dt>\n",
       "\t\t<dd>254.245178470255</dd>\n",
       "\t<dt>Dividend</dt>\n",
       "\t\t<dd>5.56162982029478</dd>\n",
       "\t<dt>Earnings</dt>\n",
       "\t\t<dd>12.6462109392391</dd>\n",
       "\t<dt>CPI</dt>\n",
       "\t\t<dd>57.3998912137683</dd>\n",
       "\t<dt>Long Interest Rate</dt>\n",
       "\t\t<dd>4.57360402494331</dd>\n",
       "\t<dt>Real Price</dt>\n",
       "\t\t<dd>497.814906128486</dd>\n",
       "\t<dt>Real Dividend</dt>\n",
       "\t\t<dd>14.8958656406487</dd>\n",
       "\t<dt>Real Earnings</dt>\n",
       "\t\t<dd>29.3165705319258</dd>\n",
       "\t<dt>Cyclically Adjusted PE Ratio</dt>\n",
       "\t\t<dd>16.8246203581052</dd>\n",
       "</dl>\n"
      ],
      "text/latex": [
       "\\begin{description*}\n",
       "\\item[S\\textbackslash{}\\&P Composite] 254.245178470255\n",
       "\\item[Dividend] 5.56162982029478\n",
       "\\item[Earnings] 12.6462109392391\n",
       "\\item[CPI] 57.3998912137683\n",
       "\\item[Long Interest Rate] 4.57360402494331\n",
       "\\item[Real Price] 497.814906128486\n",
       "\\item[Real Dividend] 14.8958656406487\n",
       "\\item[Real Earnings] 29.3165705319258\n",
       "\\item[Cyclically Adjusted PE Ratio] 16.8246203581052\n",
       "\\end{description*}\n"
      ],
      "text/markdown": [
       "S&amp;amp;P Composite\n",
       ":   254.245178470255Dividend\n",
       ":   5.56162982029478Earnings\n",
       ":   12.6462109392391CPI\n",
       ":   57.3998912137683Long Interest Rate\n",
       ":   4.57360402494331Real Price\n",
       ":   497.814906128486Real Dividend\n",
       ":   14.8958656406487Real Earnings\n",
       ":   29.3165705319258Cyclically Adjusted PE Ratio\n",
       ":   16.8246203581052\n",
       "\n"
      ],
      "text/plain": [
       "               S&P Composite                     Dividend \n",
       "                  254.245178                     5.561630 \n",
       "                    Earnings                          CPI \n",
       "                   12.646211                    57.399891 \n",
       "          Long Interest Rate                   Real Price \n",
       "                    4.573604                   497.814906 \n",
       "               Real Dividend                Real Earnings \n",
       "                   14.895866                    29.316571 \n",
       "Cyclically Adjusted PE Ratio \n",
       "                   16.824620 "
      ]
     },
     "metadata": {},
     "output_type": "display_data"
    }
   ],
   "source": [
    "library(Quandl)\n",
    "\n",
    "\n",
    "Quandl.api_key(\"L8zt1AhNiQi4gufsXy4g\")\n",
    "Qdata <- Quandl(\"YALE/SPCOMP\")\n",
    "\n",
    "# library(dplyr)\n",
    "# make_names<-function(name)\n",
    "#   {\n",
    "#     name <- as.character(name)\n",
    "#     if(contains(\"-\", vars = name))\n",
    "#        sub(\"-\", \"_\", name)\n",
    "#   }\n",
    "\n",
    "#tidy the data:\n",
    "tidy.Qdata <- make.names(names(Qdata), unique=TRUE)\n",
    "Qdata<-Qdata[sapply(data, is.numeric)]  "
   ]
  },
  {
   "cell_type": "markdown",
   "metadata": {},
   "source": [
    "## Concept 1: Variation  \n",
    "https://stats.stackexchange.com/questions/88348/is-variation-the-same-as-variance  \n",
    "Variation, unlike variance, is not the name of some specific quantity (however, Coefficient of variation is). It is a generic term, like variability. It is just amount of variability which can be measured by various quantities (most popular of them being variance)."
   ]
  },
  {
   "cell_type": "markdown",
   "metadata": {},
   "source": [
    "## Concept 2: Variance  \n",
    "Variance is one way to measure variation.\n",
    "from http://www.icoachmath.com/math_dictionary/variance.html  \n",
    "Variance is a statistical measure that tells us how measured data vary from the average value of the set of data.\n",
    "In other words, variance is the mean of the squares of the deviations from the arithmetic mean of a data set.\n",
    "\n",
    "### *Explanation of this concept relative to your data set here *\n",
    "for my dataset, variation tells us how much each column's data varies from the average.\n",
    "### For more investigation:  BUT what does this actually mean? What is it telling you about the data?\n",
    "e.g. for Dividend, if the mean is 5, and variance is 89.9 does this mean my data varies a lot?"
   ]
  },
  {
   "cell_type": "code",
   "execution_count": 46,
   "metadata": {},
   "outputs": [
    {
     "name": "stdout",
     "output_type": "stream",
     "text": [
      "[1] \"This is the variation for each column:\"\n"
     ]
    },
    {
     "data": {
      "text/html": [
       "<dl class=dl-horizontal>\n",
       "\t<dt>S&amp;P Composite</dt>\n",
       "\t\t<dd>254693.922903327</dd>\n",
       "\t<dt>Dividend</dt>\n",
       "\t\t<dd>89.935921276549</dd>\n",
       "\t<dt>Earnings</dt>\n",
       "\t\t<dd>554.214155583566</dd>\n",
       "\t<dt>CPI</dt>\n",
       "\t\t<dd>4960.02632208433</dd>\n",
       "\t<dt>Long Interest Rate</dt>\n",
       "\t\t<dd>5.24705059907057</dd>\n",
       "\t<dt>Real Price</dt>\n",
       "\t\t<dd>280921.377398032</dd>\n",
       "\t<dt>Real Dividend</dt>\n",
       "\t\t<dd>68.0193512177077</dd>\n",
       "\t<dt>Real Earnings</dt>\n",
       "\t\t<dd>545.434737397908</dd>\n",
       "\t<dt>Cyclically Adjusted PE Ratio</dt>\n",
       "\t\t<dd>45.0517836498593</dd>\n",
       "</dl>\n"
      ],
      "text/latex": [
       "\\begin{description*}\n",
       "\\item[S\\textbackslash{}\\&P Composite] 254693.922903327\n",
       "\\item[Dividend] 89.935921276549\n",
       "\\item[Earnings] 554.214155583566\n",
       "\\item[CPI] 4960.02632208433\n",
       "\\item[Long Interest Rate] 5.24705059907057\n",
       "\\item[Real Price] 280921.377398032\n",
       "\\item[Real Dividend] 68.0193512177077\n",
       "\\item[Real Earnings] 545.434737397908\n",
       "\\item[Cyclically Adjusted PE Ratio] 45.0517836498593\n",
       "\\end{description*}\n"
      ],
      "text/markdown": [
       "S&amp;amp;P Composite\n",
       ":   254693.922903327Dividend\n",
       ":   89.935921276549Earnings\n",
       ":   554.214155583566CPI\n",
       ":   4960.02632208433Long Interest Rate\n",
       ":   5.24705059907057Real Price\n",
       ":   280921.377398032Real Dividend\n",
       ":   68.0193512177077Real Earnings\n",
       ":   545.434737397908Cyclically Adjusted PE Ratio\n",
       ":   45.0517836498593\n",
       "\n"
      ],
      "text/plain": [
       "               S&P Composite                     Dividend \n",
       "                2.546939e+05                 8.993592e+01 \n",
       "                    Earnings                          CPI \n",
       "                5.542142e+02                 4.960026e+03 \n",
       "          Long Interest Rate                   Real Price \n",
       "                5.247051e+00                 2.809214e+05 \n",
       "               Real Dividend                Real Earnings \n",
       "                6.801935e+01                 5.454347e+02 \n",
       "Cyclically Adjusted PE Ratio \n",
       "                4.505178e+01 "
      ]
     },
     "metadata": {},
     "output_type": "display_data"
    },
    {
     "name": "stdout",
     "output_type": "stream",
     "text": [
      "[1] \"This is the mean for each column\"\n"
     ]
    },
    {
     "data": {
      "text/html": [
       "<dl class=dl-horizontal>\n",
       "\t<dt>S&amp;P Composite</dt>\n",
       "\t\t<dd>254.245178470255</dd>\n",
       "\t<dt>Dividend</dt>\n",
       "\t\t<dd>5.56162982029478</dd>\n",
       "\t<dt>Earnings</dt>\n",
       "\t\t<dd>12.6462109392391</dd>\n",
       "\t<dt>CPI</dt>\n",
       "\t\t<dd>57.3998912137683</dd>\n",
       "\t<dt>Long Interest Rate</dt>\n",
       "\t\t<dd>4.57360402494331</dd>\n",
       "\t<dt>Real Price</dt>\n",
       "\t\t<dd>497.814906128486</dd>\n",
       "\t<dt>Real Dividend</dt>\n",
       "\t\t<dd>14.8958656406487</dd>\n",
       "\t<dt>Real Earnings</dt>\n",
       "\t\t<dd>29.3165705319258</dd>\n",
       "\t<dt>Cyclically Adjusted PE Ratio</dt>\n",
       "\t\t<dd>16.8246203581052</dd>\n",
       "</dl>\n"
      ],
      "text/latex": [
       "\\begin{description*}\n",
       "\\item[S\\textbackslash{}\\&P Composite] 254.245178470255\n",
       "\\item[Dividend] 5.56162982029478\n",
       "\\item[Earnings] 12.6462109392391\n",
       "\\item[CPI] 57.3998912137683\n",
       "\\item[Long Interest Rate] 4.57360402494331\n",
       "\\item[Real Price] 497.814906128486\n",
       "\\item[Real Dividend] 14.8958656406487\n",
       "\\item[Real Earnings] 29.3165705319258\n",
       "\\item[Cyclically Adjusted PE Ratio] 16.8246203581052\n",
       "\\end{description*}\n"
      ],
      "text/markdown": [
       "S&amp;amp;P Composite\n",
       ":   254.245178470255Dividend\n",
       ":   5.56162982029478Earnings\n",
       ":   12.6462109392391CPI\n",
       ":   57.3998912137683Long Interest Rate\n",
       ":   4.57360402494331Real Price\n",
       ":   497.814906128486Real Dividend\n",
       ":   14.8958656406487Real Earnings\n",
       ":   29.3165705319258Cyclically Adjusted PE Ratio\n",
       ":   16.8246203581052\n",
       "\n"
      ],
      "text/plain": [
       "               S&P Composite                     Dividend \n",
       "                  254.245178                     5.561630 \n",
       "                    Earnings                          CPI \n",
       "                   12.646211                    57.399891 \n",
       "          Long Interest Rate                   Real Price \n",
       "                    4.573604                   497.814906 \n",
       "               Real Dividend                Real Earnings \n",
       "                   14.895866                    29.316571 \n",
       "Cyclically Adjusted PE Ratio \n",
       "                   16.824620 "
      ]
     },
     "metadata": {},
     "output_type": "display_data"
    }
   ],
   "source": [
    "## Code to Illustrate the concept goes here\n",
    "# http://www.r-tutor.com/elementary-statistics/numerical-measures/variance\n",
    "print ('This is the variation for each column:')\n",
    "apply(Qdata, 2, var, na.rm = T) #<-- this code says: apply the var function to each column of dataframe, respect NAs\n",
    "print ('This is the mean for each column')\n",
    "apply(Qdata, 2, mean, na.rm = T)"
   ]
  },
  {
   "cell_type": "markdown",
   "metadata": {},
   "source": [
    "## Concept 3: Multivariate  \n",
    "from https://en.wikipedia.org/wiki/Multivariate_statistics  \n",
    "Multivariate statistics is a subdivision of statistics encompassing the simultaneous observation and analysis of more than one outcome variable. \n",
    "### *Explanation of this concept relative to your data set here *\n",
    "for my dataset, multivariate analysis and observations would tell me how different columns relate. For example, what is the relationship between CPI and Earnings?\n",
    "### For more investigation:  nah....I think i get it."
   ]
  },
  {
   "cell_type": "code",
   "execution_count": null,
   "metadata": {
    "collapsed": true
   },
   "outputs": [],
   "source": []
  },
  {
   "cell_type": "markdown",
   "metadata": {},
   "source": [
    "## Concept 4: Distribution\n",
    "after reading: http://www.dummies.com/education/math/statistics/what-the-distribution-tells-you-about-a-statistical-data-set/  \n",
    "distribution describes how the data in each column is \"Shaped\". By shape we mean, how far is the mean from the max and min; and how spaced apart is the data between the max, min, and mean. \n",
    "\n",
    "We have developed different standard distributions that describe different types of conditions. \n",
    "Here is a link to a site that describes distributions more: http://people.stern.nyu.edu/adamodar/New_Home_Page/StatFile/statdistns.htm  \n",
    "\n",
    "### *Explanation of this concept relative to your data set here *\n",
    "for my dataset, data column distribution allows me to see how spaced apart data is. For example, for dividends, we can see how spread apart dividend data is relative to the maximum, minimum, and average dividend values.\n",
    "\n",
    "### For more investigation:  would be inteseting to see distributions as a graphic"
   ]
  },
  {
   "cell_type": "code",
   "execution_count": null,
   "metadata": {
    "collapsed": true
   },
   "outputs": [],
   "source": []
  },
  {
   "cell_type": "markdown",
   "metadata": {},
   "source": [
    "## Concept 5: categorical variable \n",
    "- http://stattrek.com/statistics/dictionary.aspx?definition=categorical_variable  \n",
    "Categorical variables take on values that are names or labels. The color of a ball (e.g., red, green, blue) or the breed of a dog (e.g., collie, shepherd, terrier) would be examples of categorical variables. \n",
    "\n",
    "- https://stats.idre.ucla.edu/other/mult-pkg/whatstat/what-is-the-difference-between-categorical-ordinal-and-interval-variables/\n",
    "A categorical variable (sometimes called a nominal variable) is one that has two or more categories, but there is no intrinsic ordering to the categories.  For example, gender is a categorical variable having two categories (male and female) and there is no intrinsic ordering to the categories.  Hair color is also a categorical variable having a number of categories (blonde, brown, brunette, red, etc.) and again, there is no agreed way to order these from highest to lowest.  A purely categorical variable is one that simply allows you to assign categories but you cannot clearly order the variables.  \n",
    "\n",
    "- http://www.statisticshowto.com/nominal-variable/\n",
    "A nominal variable is another name for a categorical variable. Nominal variables have two or more categories without having any kind of natural order. they are variables with no numeric value, such as occupation or political party affiliation. Another way of thinking about nominal variables is that they are named (nominal is from Latin nominalis, meaning pertaining to names).  \n",
    "Nominal variables:  \n",
    " - Cannot be quantified. In other words, you can’t perform arithmetic operations on them, like addition or subtraction, or logical operations like “equal to” or “greater than” on them.   \n",
    " - Cannot be assigned any order. \n",
    "\n",
    "### *Explanation of this concept relative to your data set here *\n",
    "since all the data in my dataset is numeric, there are no categorical variables.\n",
    "\n",
    "### For more investigation:  if the values can't be assigned value, or order, then it seems like you can't do grouping/aggregatizing. If you can't group, then how can you do any sort of statistics?"
   ]
  },
  {
   "cell_type": "code",
   "execution_count": null,
   "metadata": {
    "collapsed": true
   },
   "outputs": [],
   "source": []
  },
  {
   "cell_type": "markdown",
   "metadata": {},
   "source": [
    "## Concept 6: Continuous/Quantitiative Variable\n",
    "http://stattrek.com/statistics/dictionary.aspx?definition=Continuous_variable  \n",
    "If a variable can take on any value between its minimum value and its maximum value, it is called a continuous variable; otherwise, it is called a discrete variable. \n",
    "### *Explanation of this concept relative to your data set here *\n",
    "for my dataset, all the data columns are continuous because they can take on any value.\n",
    "### For more investigation:  nah....I think i get it."
   ]
  },
  {
   "cell_type": "code",
   "execution_count": null,
   "metadata": {
    "collapsed": true
   },
   "outputs": [],
   "source": []
  },
  {
   "cell_type": "markdown",
   "metadata": {},
   "source": [
    "## Concept 7: Standard Deviation\n",
    "https://en.wikipedia.org/wiki/Standard_deviation  \n",
    "In statistics, the standard deviation (SD, also represented by the Greek letter sigma σ or the Latin letter s) is a measure that is used to quantify the amount of variation or dispersion of a set of data values.[1] A low standard deviation indicates that the data points tend to be close to the mean (also called the expected value) of the set, while a high standard deviation indicates that the data points are spread out over a wider range of values\n",
    "\n",
    "### *Explanation of this concept relative to your data set here *\n",
    "for my dataset, standard deviation will tell me how dispersed each column's data is. If SD is low, then data is tightly grouped around the mean. If SD is high, then data is more spread out.\n",
    "\n",
    "### For more investigation:  nah....I think i get it."
   ]
  },
  {
   "cell_type": "code",
   "execution_count": 48,
   "metadata": {},
   "outputs": [
    {
     "name": "stdout",
     "output_type": "stream",
     "text": [
      "[1] \"This is the sd for each column\"\n"
     ]
    },
    {
     "data": {
      "text/html": [
       "<dl class=dl-horizontal>\n",
       "\t<dt>S&amp;P Composite</dt>\n",
       "\t\t<dd>504.6720944369</dd>\n",
       "\t<dt>Dividend</dt>\n",
       "\t\t<dd>9.48345513389234</dd>\n",
       "\t<dt>Earnings</dt>\n",
       "\t\t<dd>23.5417534517624</dd>\n",
       "\t<dt>CPI</dt>\n",
       "\t\t<dd>70.4274543206293</dd>\n",
       "\t<dt>Long Interest Rate</dt>\n",
       "\t\t<dd>2.29064414501043</dd>\n",
       "\t<dt>Real Price</dt>\n",
       "\t\t<dd>530.020166972948</dd>\n",
       "\t<dt>Real Dividend</dt>\n",
       "\t\t<dd>8.24738450769138</dd>\n",
       "\t<dt>Real Earnings</dt>\n",
       "\t\t<dd>23.3545442558383</dd>\n",
       "\t<dt>Cyclically Adjusted PE Ratio</dt>\n",
       "\t\t<dd>6.71206254811882</dd>\n",
       "</dl>\n"
      ],
      "text/latex": [
       "\\begin{description*}\n",
       "\\item[S\\textbackslash{}\\&P Composite] 504.6720944369\n",
       "\\item[Dividend] 9.48345513389234\n",
       "\\item[Earnings] 23.5417534517624\n",
       "\\item[CPI] 70.4274543206293\n",
       "\\item[Long Interest Rate] 2.29064414501043\n",
       "\\item[Real Price] 530.020166972948\n",
       "\\item[Real Dividend] 8.24738450769138\n",
       "\\item[Real Earnings] 23.3545442558383\n",
       "\\item[Cyclically Adjusted PE Ratio] 6.71206254811882\n",
       "\\end{description*}\n"
      ],
      "text/markdown": [
       "S&amp;amp;P Composite\n",
       ":   504.6720944369Dividend\n",
       ":   9.48345513389234Earnings\n",
       ":   23.5417534517624CPI\n",
       ":   70.4274543206293Long Interest Rate\n",
       ":   2.29064414501043Real Price\n",
       ":   530.020166972948Real Dividend\n",
       ":   8.24738450769138Real Earnings\n",
       ":   23.3545442558383Cyclically Adjusted PE Ratio\n",
       ":   6.71206254811882\n",
       "\n"
      ],
      "text/plain": [
       "               S&P Composite                     Dividend \n",
       "                  504.672094                     9.483455 \n",
       "                    Earnings                          CPI \n",
       "                   23.541753                    70.427454 \n",
       "          Long Interest Rate                   Real Price \n",
       "                    2.290644                   530.020167 \n",
       "               Real Dividend                Real Earnings \n",
       "                    8.247385                    23.354544 \n",
       "Cyclically Adjusted PE Ratio \n",
       "                    6.712063 "
      ]
     },
     "metadata": {},
     "output_type": "display_data"
    },
    {
     "name": "stdout",
     "output_type": "stream",
     "text": [
      "[1] \"This is the mean for each column\"\n"
     ]
    },
    {
     "data": {
      "text/html": [
       "<dl class=dl-horizontal>\n",
       "\t<dt>S&amp;P Composite</dt>\n",
       "\t\t<dd>254.245178470255</dd>\n",
       "\t<dt>Dividend</dt>\n",
       "\t\t<dd>5.56162982029478</dd>\n",
       "\t<dt>Earnings</dt>\n",
       "\t\t<dd>12.6462109392391</dd>\n",
       "\t<dt>CPI</dt>\n",
       "\t\t<dd>57.3998912137683</dd>\n",
       "\t<dt>Long Interest Rate</dt>\n",
       "\t\t<dd>4.57360402494331</dd>\n",
       "\t<dt>Real Price</dt>\n",
       "\t\t<dd>497.814906128486</dd>\n",
       "\t<dt>Real Dividend</dt>\n",
       "\t\t<dd>14.8958656406487</dd>\n",
       "\t<dt>Real Earnings</dt>\n",
       "\t\t<dd>29.3165705319258</dd>\n",
       "\t<dt>Cyclically Adjusted PE Ratio</dt>\n",
       "\t\t<dd>16.8246203581052</dd>\n",
       "</dl>\n"
      ],
      "text/latex": [
       "\\begin{description*}\n",
       "\\item[S\\textbackslash{}\\&P Composite] 254.245178470255\n",
       "\\item[Dividend] 5.56162982029478\n",
       "\\item[Earnings] 12.6462109392391\n",
       "\\item[CPI] 57.3998912137683\n",
       "\\item[Long Interest Rate] 4.57360402494331\n",
       "\\item[Real Price] 497.814906128486\n",
       "\\item[Real Dividend] 14.8958656406487\n",
       "\\item[Real Earnings] 29.3165705319258\n",
       "\\item[Cyclically Adjusted PE Ratio] 16.8246203581052\n",
       "\\end{description*}\n"
      ],
      "text/markdown": [
       "S&amp;amp;P Composite\n",
       ":   254.245178470255Dividend\n",
       ":   5.56162982029478Earnings\n",
       ":   12.6462109392391CPI\n",
       ":   57.3998912137683Long Interest Rate\n",
       ":   4.57360402494331Real Price\n",
       ":   497.814906128486Real Dividend\n",
       ":   14.8958656406487Real Earnings\n",
       ":   29.3165705319258Cyclically Adjusted PE Ratio\n",
       ":   16.8246203581052\n",
       "\n"
      ],
      "text/plain": [
       "               S&P Composite                     Dividend \n",
       "                  254.245178                     5.561630 \n",
       "                    Earnings                          CPI \n",
       "                   12.646211                    57.399891 \n",
       "          Long Interest Rate                   Real Price \n",
       "                    4.573604                   497.814906 \n",
       "               Real Dividend                Real Earnings \n",
       "                   14.895866                    29.316571 \n",
       "Cyclically Adjusted PE Ratio \n",
       "                   16.824620 "
      ]
     },
     "metadata": {},
     "output_type": "display_data"
    }
   ],
   "source": [
    "print ('This is the sd for each column')\n",
    "apply(Qdata, 2, sd, na.rm = T)\n",
    "print ('This is the mean for each column')\n",
    "apply(Qdata, 2, mean, na.rm = T)"
   ]
  },
  {
   "cell_type": "markdown",
   "metadata": {},
   "source": [
    "## Concept 8: interquartile range\n",
    "To understand interquartile range, we first must understand quartiles:\n",
    "https://www.mathsisfun.com/data/quartiles.html\n",
    "  Quartiles are the values that divide a list of numbers into quarters:\n",
    "   - Put the list of numbers in order\n",
    "   - Then cut the list into four equal parts\n",
    "   - The Quartiles are at the \"cuts\" -  \n",
    "   \n",
    "  The \"Interquartile Range\" is from Q1 to Q3\n",
    "\n",
    "https://en.wikipedia.org/wiki/Interquartile_range  \n",
    "In descriptive statistics, the interquartile range (IQR), also called the midspread or middle 50%, or technically H-spread, is a measure of statistical dispersion, being equal to the difference between 75th and 25th percentiles, or between upper and lower quartiles,[1][2] IQR = Q3 −  Q1. In other words, the IQR is the first quartile subtracted from the third quartile; these quartiles can be clearly seen on a box plot on the data. It is a trimmed estimator, defined as the 25% trimmed range, and is the most significant basic robust measure of scale.\n",
    "\n",
    "### *Explanation of this concept relative to your data set here *\n",
    "for my dataset, quartile ranges gives me another way to express distribution. We place a column's data into 4 bins such that each bin has an equivalent number of samples. We then look at the highest sample value in each bin. That value is the bin's quartile value.  \n",
    "\n",
    "The interquartile value would tell me where the middle 50% of the data set's population's values are located at. \n",
    "\n",
    "### For more investigation:  how does interquartile range relate to mean and standard deviation?"
   ]
  },
  {
   "cell_type": "code",
   "execution_count": 52,
   "metadata": {},
   "outputs": [
    {
     "name": "stdout",
     "output_type": "stream",
     "text": [
      "[1] \"This is the interquartile range for each column\"\n"
     ]
    },
    {
     "data": {
      "text/html": [
       "<dl class=dl-horizontal>\n",
       "\t<dt>S&amp;P Composite</dt>\n",
       "\t\t<dd>112.07</dd>\n",
       "\t<dt>Dividend</dt>\n",
       "\t\t<dd>5.8791675</dd>\n",
       "\t<dt>Earnings</dt>\n",
       "\t\t<dd>12.9834</dd>\n",
       "\t<dt>CPI</dt>\n",
       "\t\t<dd>79</dd>\n",
       "\t<dt>Long Interest Rate</dt>\n",
       "\t\t<dd>1.93749999999998</dd>\n",
       "\t<dt>Real Price</dt>\n",
       "\t\t<dd>432.24054099963</dd>\n",
       "\t<dt>Real Dividend</dt>\n",
       "\t\t<dd>10.5206102507118</dd>\n",
       "\t<dt>Real Earnings</dt>\n",
       "\t\t<dd>26.281253800849</dd>\n",
       "\t<dt>Cyclically Adjusted PE Ratio</dt>\n",
       "\t\t<dd>8.653215142007</dd>\n",
       "</dl>\n"
      ],
      "text/latex": [
       "\\begin{description*}\n",
       "\\item[S\\textbackslash{}\\&P Composite] 112.07\n",
       "\\item[Dividend] 5.8791675\n",
       "\\item[Earnings] 12.9834\n",
       "\\item[CPI] 79\n",
       "\\item[Long Interest Rate] 1.93749999999998\n",
       "\\item[Real Price] 432.24054099963\n",
       "\\item[Real Dividend] 10.5206102507118\n",
       "\\item[Real Earnings] 26.281253800849\n",
       "\\item[Cyclically Adjusted PE Ratio] 8.653215142007\n",
       "\\end{description*}\n"
      ],
      "text/markdown": [
       "S&amp;amp;P Composite\n",
       ":   112.07Dividend\n",
       ":   5.8791675Earnings\n",
       ":   12.9834CPI\n",
       ":   79Long Interest Rate\n",
       ":   1.93749999999998Real Price\n",
       ":   432.24054099963Real Dividend\n",
       ":   10.5206102507118Real Earnings\n",
       ":   26.281253800849Cyclically Adjusted PE Ratio\n",
       ":   8.653215142007\n",
       "\n"
      ],
      "text/plain": [
       "               S&P Composite                     Dividend \n",
       "                  112.070000                     5.879167 \n",
       "                    Earnings                          CPI \n",
       "                   12.983400                    79.000000 \n",
       "          Long Interest Rate                   Real Price \n",
       "                    1.937500                   432.240541 \n",
       "               Real Dividend                Real Earnings \n",
       "                   10.520610                    26.281254 \n",
       "Cyclically Adjusted PE Ratio \n",
       "                    8.653215 "
      ]
     },
     "metadata": {},
     "output_type": "display_data"
    },
    {
     "name": "stdout",
     "output_type": "stream",
     "text": [
      "[1] \"These are the quartiles for each column\"\n"
     ]
    },
    {
     "data": {
      "text/html": [
       "<table>\n",
       "<thead><tr><th></th><th scope=col>S&amp;P Composite</th><th scope=col>Dividend</th><th scope=col>Earnings</th><th scope=col>CPI</th><th scope=col>Long Interest Rate</th><th scope=col>Real Price</th><th scope=col>Real Dividend</th><th scope=col>Real Earnings</th><th scope=col>Cyclically Adjusted PE Ratio</th></tr></thead>\n",
       "<tbody>\n",
       "\t<tr><th scope=row>0%</th><td>   2.73   </td><td> 0.1800000</td><td>  0.1600  </td><td>  6.279613</td><td> 1.500000 </td><td>  66.71144</td><td> 4.915806 </td><td>  4.131268</td><td> 4.784241 </td></tr>\n",
       "\t<tr><th scope=row>25%</th><td>   7.73   </td><td> 0.4100000</td><td>  0.5433  </td><td> 10.100000</td><td> 3.294167 </td><td> 167.58164</td><td> 8.403576 </td><td> 12.467610</td><td>11.789518 </td></tr>\n",
       "\t<tr><th scope=row>50%</th><td>  16.19   </td><td> 0.8233165</td><td>  1.3130  </td><td> 18.100000</td><td> 3.860000 </td><td> 249.12214</td><td>12.544767 </td><td> 20.154593</td><td>16.163999 </td></tr>\n",
       "\t<tr><th scope=row>75%</th><td> 119.80   </td><td> 6.2891675</td><td> 13.5267  </td><td> 89.100000</td><td> 5.231667 </td><td> 599.82218</td><td>18.924186 </td><td> 38.748864</td><td>20.442733 </td></tr>\n",
       "\t<tr><th scope=row>100%</th><td>2776.42   </td><td>48.9300000</td><td>107.0800  </td><td>246.819000</td><td>15.320000 </td><td>2776.42000</td><td>48.915610 </td><td>109.708403</td><td>44.197940 </td></tr>\n",
       "</tbody>\n",
       "</table>\n"
      ],
      "text/latex": [
       "\\begin{tabular}{r|lllllllll}\n",
       "  & S\\&P Composite & Dividend & Earnings & CPI & Long Interest Rate & Real Price & Real Dividend & Real Earnings & Cyclically Adjusted PE Ratio\\\\\n",
       "\\hline\n",
       "\t0\\% &    2.73    &  0.1800000 &   0.1600   &   6.279613 &  1.500000  &   66.71144 &  4.915806  &   4.131268 &  4.784241 \\\\\n",
       "\t25\\% &    7.73    &  0.4100000 &   0.5433   &  10.100000 &  3.294167  &  167.58164 &  8.403576  &  12.467610 & 11.789518 \\\\\n",
       "\t50\\% &   16.19    &  0.8233165 &   1.3130   &  18.100000 &  3.860000  &  249.12214 & 12.544767  &  20.154593 & 16.163999 \\\\\n",
       "\t75\\% &  119.80    &  6.2891675 &  13.5267   &  89.100000 &  5.231667  &  599.82218 & 18.924186  &  38.748864 & 20.442733 \\\\\n",
       "\t100\\% & 2776.42    & 48.9300000 & 107.0800   & 246.819000 & 15.320000  & 2776.42000 & 48.915610  & 109.708403 & 44.197940 \\\\\n",
       "\\end{tabular}\n"
      ],
      "text/markdown": [
       "\n",
       "| <!--/--> | S&P Composite | Dividend | Earnings | CPI | Long Interest Rate | Real Price | Real Dividend | Real Earnings | Cyclically Adjusted PE Ratio | \n",
       "|---|---|---|---|---|\n",
       "| 0% |    2.73    |  0.1800000 |   0.1600   |   6.279613 |  1.500000  |   66.71144 |  4.915806  |   4.131268 |  4.784241  | \n",
       "| 25% |    7.73    |  0.4100000 |   0.5433   |  10.100000 |  3.294167  |  167.58164 |  8.403576  |  12.467610 | 11.789518  | \n",
       "| 50% |   16.19    |  0.8233165 |   1.3130   |  18.100000 |  3.860000  |  249.12214 | 12.544767  |  20.154593 | 16.163999  | \n",
       "| 75% |  119.80    |  6.2891675 |  13.5267   |  89.100000 |  5.231667  |  599.82218 | 18.924186  |  38.748864 | 20.442733  | \n",
       "| 100% | 2776.42    | 48.9300000 | 107.0800   | 246.819000 | 15.320000  | 2776.42000 | 48.915610  | 109.708403 | 44.197940  | \n",
       "\n",
       "\n"
      ],
      "text/plain": [
       "     S&P Composite Dividend   Earnings CPI        Long Interest Rate Real Price\n",
       "0%      2.73        0.1800000   0.1600   6.279613  1.500000            66.71144\n",
       "25%     7.73        0.4100000   0.5433  10.100000  3.294167           167.58164\n",
       "50%    16.19        0.8233165   1.3130  18.100000  3.860000           249.12214\n",
       "75%   119.80        6.2891675  13.5267  89.100000  5.231667           599.82218\n",
       "100% 2776.42       48.9300000 107.0800 246.819000 15.320000          2776.42000\n",
       "     Real Dividend Real Earnings Cyclically Adjusted PE Ratio\n",
       "0%    4.915806       4.131268     4.784241                   \n",
       "25%   8.403576      12.467610    11.789518                   \n",
       "50%  12.544767      20.154593    16.163999                   \n",
       "75%  18.924186      38.748864    20.442733                   \n",
       "100% 48.915610     109.708403    44.197940                   "
      ]
     },
     "metadata": {},
     "output_type": "display_data"
    }
   ],
   "source": [
    "print ('This is the interquartile range for each column')\n",
    "apply(Qdata, 2, IQR, na.rm = T)\n",
    "print ('These are the quartiles for each column')\n",
    "apply(Qdata, 2, quantile, na.rm = T)"
   ]
  },
  {
   "cell_type": "markdown",
   "metadata": {},
   "source": [
    "## Concept 9: Skewness\n",
    "https://en.wikipedia.org/wiki/Skewness    \n",
    "In probability theory and statistics, skewness is a measure of the asymmetry of the probability distribution of a real-valued random variable about its mean. The skewness value can be positive or negative, or undefined.\n",
    "\n",
    "https://www.investopedia.com/terms/s/skewness.asp  \n",
    "Skewness is measured by the use of Pearson’s first coefficient of skewness. This measure subtracts the median from the mode and then divides the difference by the standard deviation. Peterson's second law is also sometimes used, where the mode is subtracted from the median, multiplied by three and then divided by the standard deviation.\n",
    "\n",
    "https://en.wikipedia.org/wiki/Skewness  \n",
    "There are various ways to measure skewness.  \n",
    "\n",
    "### *Explanation of this concept relative to your data set here *\n",
    "for my dataset, skewness would tell me how far the \"centroid\" of my data is relative to the mean. More from https://www.investopedia.com/terms/s/skewness.asp  \n",
    "Skewness in Business and Finance\n",
    "Skewness is extremely important to finance and investing. Most sets of data, including stock prices and asset returns, have either positive or negative skew, rather than following the balanced normal distribution, which has a skewness of zero. By understanding which way data is skewed, an investor can better estimate whether a given future data point will be more or less than the mean.\n",
    "Most advanced economic analysis models study data for skewness and incorporate this into their calculations. Skewness risk is the risk that a model assumes a normal distribution of data, when in fact data is skewed to the left or right of the mean.\n",
    "\n",
    "### For more investigation:  I am able to get skewness values for each column. It would be good to see how this matches up with the distribution on a plot."
   ]
  },
  {
   "cell_type": "code",
   "execution_count": 56,
   "metadata": {},
   "outputs": [
    {
     "name": "stdout",
     "output_type": "stream",
     "text": [
      "[1] \"This is the skewness for each column\"\n"
     ]
    },
    {
     "data": {
      "text/html": [
       "<dl class=dl-horizontal>\n",
       "\t<dt>S&amp;P Composite</dt>\n",
       "\t\t<dd>2.37103730593315</dd>\n",
       "\t<dt>Dividend</dt>\n",
       "\t\t<dd>2.38922119051748</dd>\n",
       "\t<dt>Earnings</dt>\n",
       "\t\t<dd>2.40755577622771</dd>\n",
       "\t<dt>CPI</dt>\n",
       "\t\t<dd>1.40168673826666</dd>\n",
       "\t<dt>Long Interest Rate</dt>\n",
       "\t\t<dd>1.83458542221777</dd>\n",
       "\t<dt>Real Price</dt>\n",
       "\t\t<dd>1.86913704980816</dd>\n",
       "\t<dt>Real Dividend</dt>\n",
       "\t\t<dd>1.47677500224007</dd>\n",
       "\t<dt>Real Earnings</dt>\n",
       "\t\t<dd>1.59961629987071</dd>\n",
       "\t<dt>Cyclically Adjusted PE Ratio</dt>\n",
       "\t\t<dd>1.05004713954196</dd>\n",
       "</dl>\n"
      ],
      "text/latex": [
       "\\begin{description*}\n",
       "\\item[S\\textbackslash{}\\&P Composite] 2.37103730593315\n",
       "\\item[Dividend] 2.38922119051748\n",
       "\\item[Earnings] 2.40755577622771\n",
       "\\item[CPI] 1.40168673826666\n",
       "\\item[Long Interest Rate] 1.83458542221777\n",
       "\\item[Real Price] 1.86913704980816\n",
       "\\item[Real Dividend] 1.47677500224007\n",
       "\\item[Real Earnings] 1.59961629987071\n",
       "\\item[Cyclically Adjusted PE Ratio] 1.05004713954196\n",
       "\\end{description*}\n"
      ],
      "text/markdown": [
       "S&amp;amp;P Composite\n",
       ":   2.37103730593315Dividend\n",
       ":   2.38922119051748Earnings\n",
       ":   2.40755577622771CPI\n",
       ":   1.40168673826666Long Interest Rate\n",
       ":   1.83458542221777Real Price\n",
       ":   1.86913704980816Real Dividend\n",
       ":   1.47677500224007Real Earnings\n",
       ":   1.59961629987071Cyclically Adjusted PE Ratio\n",
       ":   1.05004713954196\n",
       "\n"
      ],
      "text/plain": [
       "               S&P Composite                     Dividend \n",
       "                    2.371037                     2.389221 \n",
       "                    Earnings                          CPI \n",
       "                    2.407556                     1.401687 \n",
       "          Long Interest Rate                   Real Price \n",
       "                    1.834585                     1.869137 \n",
       "               Real Dividend                Real Earnings \n",
       "                    1.476775                     1.599616 \n",
       "Cyclically Adjusted PE Ratio \n",
       "                    1.050047 "
      ]
     },
     "metadata": {},
     "output_type": "display_data"
    }
   ],
   "source": [
    "print ('This is the skewness for each column')\n",
    "#we need the moments package:\n",
    "library(moments)\n",
    "apply(Qdata, 2, skewness, na.rm = T)"
   ]
  },
  {
   "cell_type": "markdown",
   "metadata": {},
   "source": [
    "## Concept 10: Kurtosis\n",
    "https://en.wikipedia.org/wiki/Kurtosis   \n",
    "In probability theory and statistics, kurtosis (from Greek: κυρτός, kyrtos or kurtos, meaning \"curved, arching\") is a measure of the \"tailedness\" of the probability distribution of a real-valued random variable. In a similar way to the concept of skewness, kurtosis is a descriptor of the shape of a probability distribution and, just as for skewness, there are different ways of quantifying it for a theoretical distribution and corresponding ways of estimating it from a sample from a population. Depending on the particular measure of kurtosis that is used, there are various interpretations of kurtosis, and of how particular measures should be interpreted.\n",
    "\n",
    "https://www.investopedia.com/terms/k/kurtosis.asp?ad=dirN&qo=investopediaSiteSearch&qsrc=0&o=40186\n",
    "Put simply, kurtosis is a measure of the combined weight of a distribution's tails relative to the rest of the distribution. When a set of data is graphically depicted, it usually has a standard normal distribution, like a bell curve, with a central peak and thin tails. However, when kurtosis is present, the tails of the distribution are different than they would be under a normal bell-curved distribution.\n",
    "Kurtosis is sometimes confused with a measure of the peakedness of a distribution. However, kurtosis is a measure that describes the shape of a distribution's tails in relation to its overall shape. A data set that shows kurtosis sometimes also displays skewness, or a lack of symmetry. However, kurtosis can be evenly distributed so that both its tails are equal. \n",
    "\n",
    "### *Explanation of this concept relative to your data set here *\n",
    "for my dataset, kurtosis would tell me how quickly the data in each column falls away from the mean.\n",
    "\n",
    "### For more investigation: It would be interesting to compare kurtosis values to distribution plots to see what different kurtosis values mean."
   ]
  },
  {
   "cell_type": "code",
   "execution_count": 58,
   "metadata": {},
   "outputs": [
    {
     "name": "stdout",
     "output_type": "stream",
     "text": [
      "[1] \"This is the kurtosis for each column\"\n"
     ]
    },
    {
     "data": {
      "text/html": [
       "<dl class=dl-horizontal>\n",
       "\t<dt>S&amp;P Composite</dt>\n",
       "\t\t<dd>8.00289097876307</dd>\n",
       "\t<dt>Dividend</dt>\n",
       "\t\t<dd>8.64929596922901</dd>\n",
       "\t<dt>Earnings</dt>\n",
       "\t\t<dd>7.9905790016439</dd>\n",
       "\t<dt>CPI</dt>\n",
       "\t\t<dd>3.52667504476222</dd>\n",
       "\t<dt>Long Interest Rate</dt>\n",
       "\t\t<dd>6.7954282842449</dd>\n",
       "\t<dt>Real Price</dt>\n",
       "\t\t<dd>5.69211416769057</dd>\n",
       "\t<dt>Real Dividend</dt>\n",
       "\t\t<dd>5.71109564322903</dd>\n",
       "\t<dt>Real Earnings</dt>\n",
       "\t\t<dd>5.08900162497692</dd>\n",
       "\t<dt>Cyclically Adjusted PE Ratio</dt>\n",
       "\t\t<dd>4.91659171919222</dd>\n",
       "</dl>\n"
      ],
      "text/latex": [
       "\\begin{description*}\n",
       "\\item[S\\textbackslash{}\\&P Composite] 8.00289097876307\n",
       "\\item[Dividend] 8.64929596922901\n",
       "\\item[Earnings] 7.9905790016439\n",
       "\\item[CPI] 3.52667504476222\n",
       "\\item[Long Interest Rate] 6.7954282842449\n",
       "\\item[Real Price] 5.69211416769057\n",
       "\\item[Real Dividend] 5.71109564322903\n",
       "\\item[Real Earnings] 5.08900162497692\n",
       "\\item[Cyclically Adjusted PE Ratio] 4.91659171919222\n",
       "\\end{description*}\n"
      ],
      "text/markdown": [
       "S&amp;amp;P Composite\n",
       ":   8.00289097876307Dividend\n",
       ":   8.64929596922901Earnings\n",
       ":   7.9905790016439CPI\n",
       ":   3.52667504476222Long Interest Rate\n",
       ":   6.7954282842449Real Price\n",
       ":   5.69211416769057Real Dividend\n",
       ":   5.71109564322903Real Earnings\n",
       ":   5.08900162497692Cyclically Adjusted PE Ratio\n",
       ":   4.91659171919222\n",
       "\n"
      ],
      "text/plain": [
       "               S&P Composite                     Dividend \n",
       "                    8.002891                     8.649296 \n",
       "                    Earnings                          CPI \n",
       "                    7.990579                     3.526675 \n",
       "          Long Interest Rate                   Real Price \n",
       "                    6.795428                     5.692114 \n",
       "               Real Dividend                Real Earnings \n",
       "                    5.711096                     5.089002 \n",
       "Cyclically Adjusted PE Ratio \n",
       "                    4.916592 "
      ]
     },
     "metadata": {},
     "output_type": "display_data"
    }
   ],
   "source": [
    "print ('This is the kurtosis for each column')\n",
    "#we need the moments package (i think?):\n",
    "library(moments)\n",
    "apply(Qdata, 2, kurtosis, na.rm = T)"
   ]
  },
  {
   "cell_type": "markdown",
   "metadata": {},
   "source": [
    "## Concept 11: Histogram\n",
    "https://www.mathsisfun.com/data/histograms.html  \n",
    "Histogram: a graphical display of data using bars of different heights.  \n",
    "\n",
    "https://statistics.laerd.com/statistical-guides/understanding-histograms.php  \n",
    "What is a histogram?\n",
    "A histogram is a plot that lets you discover, and show, the underlying frequency distribution (shape) of a set of continuous data. This allows the inspection of the data for its underlying distribution (e.g., normal distribution), outliers, skewness, etc.\n",
    "\n",
    "In R: https://stat.ethz.ch/R-manual/R-devel/library/graphics/html/hist.html  \n",
    "\n",
    "### *Explanation of this concept relative to your data set here *\n",
    "for my dataset, histograms would graphically show the shape of my data. I could use this to do a lot of the distribution related graphical comparisons I noted above.\n",
    "\n",
    "### For more investigation:  nah....I think i get it."
   ]
  },
  {
   "cell_type": "code",
   "execution_count": 103,
   "metadata": {},
   "outputs": [
    {
     "name": "stderr",
     "output_type": "stream",
     "text": [
      "`stat_bin()` using `bins = 30`. Pick better value with `binwidth`.\n"
     ]
    },
    {
     "data": {},
     "metadata": {},
     "output_type": "display_data"
    },
    {
     "data": {
      "image/png": "[encoded data removed]",
      "text/plain": [
       "plot without title"
      ]
     },
     "metadata": {},
     "output_type": "display_data"
    }
   ],
   "source": [
    "library(purrr)\n",
    "library(tidyr)\n",
    "library(ggplot2)\n",
    "\n",
    "# Qdata %>%\n",
    "#   keep(is.numeric) %>% \n",
    "#   gather() \n",
    "\n",
    "Qdata %>%\n",
    "  keep(is.numeric) %>% \n",
    "  gather() %>% \n",
    "  ggplot(aes(value)) +\n",
    "    facet_wrap(~ key, scales = \"free\") +\n",
    "    geom_histogram(na.rm = TRUE)"
   ]
  },
  {
   "cell_type": "markdown",
   "metadata": {},
   "source": [
    "## Concept 12: Stem and Leafs\n",
    "https://tutorteddy.com/statistics/statistics-stem-and-leaf-display.php\n",
    "Stem and Leaf plot or display is basically used for organizing a given statistical dataset. The Stem is the greatest common place value of the statistical data whereas the leaf indicates the next greatest common place value of that data. Such display is good for small or moderate amount of data.\n",
    "\n",
    "\n",
    "Example 1: The following table is the marks obtained by 25 students in economics.\n",
    "\n",
    "51 43 69 85 36 20 80 50 56 38\n",
    "\n",
    "78 71 65 60 48 42 25 47 53 45\n",
    "\n",
    "66 77 39 44 54\n",
    "\n",
    "\n",
    "To make the construction easier we first arrange the data in ascending order as follows:\n",
    "\n",
    "20 25 36 38 39 42 43 44 45 47\n",
    "\n",
    "48 50 51 53 54 56 60 65 66 69\n",
    "\n",
    "71 77 78 80 85\n",
    "\n",
    "We see that the above data lies between 20 to 85. So the stem has a range from 2 to 8. A vertical list of stem is first written for plotting. Assignment is done to the stem list by correctly pairing the unit digit (leaf) with the stem. In this way stem and leaf display is created.\n",
    "\n",
    "\n",
    "### *Explanation of this concept relative to your data set here *\n",
    "for my dataset, I don't think this will be helpful because of the dataset size.\n",
    "\n",
    "### For more investigation:  nah....I think i get it."
   ]
  },
  {
   "cell_type": "code",
   "execution_count": 105,
   "metadata": {},
   "outputs": [
    {
     "name": "stdout",
     "output_type": "stream",
     "text": [
      "[1] \"This is the kurtosis for each column\"\n",
      "\n",
      "  The decimal point is 2 digit(s) to the right of the |\n",
      "\n",
      "   0 | 00000000000000000000000000000000000000000000000000000000000000000000+1298\n",
      "   2 | 01123444444555555666667777788889999990011122223333334444555556667888\n",
      "   4 | 1111112222244445555555556666666677777891246688\n",
      "   6 | 011455566770446679\n",
      "   8 | 013455577888900001133344445667999\n",
      "  10 | 112223444577888888999900111111222223333344445566777888999999\n",
      "  12 | 00000012223344445556667888889999000012222223333334444556678889999999\n",
      "  14 | 0012222334444566667788901112457\n",
      "  16 | 2477928\n",
      "  18 | 12266902445679\n",
      "  20 | 2234455788888990145667\n",
      "  22 | 58367\n",
      "  24 | 0356969\n",
      "  26 | 68\n",
      "\n",
      "\n",
      "  The decimal point is at the |\n",
      "\n",
      "   0 | 22222222222222222222222222222222222222222222222222222222222222222222+1000\n",
      "   2 | 00000000000000001111111111222222223333334444455555666666777778888899+110\n",
      "   4 | 01112234455667788899900011122233455667788899\n",
      "   6 | 0011122233444556667778888899999999990000111222333444556677778889999\n",
      "   8 | 0001112223333345566778899001234566889\n",
      "  10 | 01244578911234677889\n",
      "  12 | 011111122222233333333444444455555555666778889990122222344567789\n",
      "  14 | 012234577890011122334456667777777777888899999\n",
      "  16 | 0000001111122222222233333445555555666677777777891468\n",
      "  18 | 02468023347\n",
      "  20 | 02579135799\n",
      "  22 | 0001122244456678900224447799\n",
      "  24 | 013456699012356679\n",
      "  26 | 012447770023456779\n",
      "  28 | 00133445677788926\n",
      "  30 | 17358\n",
      "  32 | 15936\n",
      "  34 | 0468048\n",
      "  36 | 26048\n",
      "  38 | 158149\n",
      "  40 | 48147\n",
      "  42 | 035814679\n",
      "  44 | 1357803579\n",
      "  46 | 2479259\n",
      "  48 | 2479\n",
      "\n",
      "\n",
      "  The decimal point is 1 digit(s) to the right of the |\n",
      "\n",
      "   0 | 00000000000000000000000000000000000000000000000000000000000000000000+1193\n",
      "   1 | 00000000000111111111111111222222223333333333333444444444444444455555+85\n",
      "   2 | 00000000001111111111122222222222223333333444444555555555555556667777\n",
      "   3 | 00011122333444444444555555556666777888888888899999999\n",
      "   4 | 000000000000111112233455567788899\n",
      "   5 | 0000111111222233344456777888899\n",
      "   6 | 0001122334455667899\n",
      "   7 | 0001223344446677999\n",
      "   8 | 00111222333344455666777777777777777777888888889999\n",
      "   9 | 0111223334556668889\n",
      "  10 | 0000111222233444555667\n",
      "\n",
      "\n",
      "  The decimal point is 1 digit(s) to the right of the |\n",
      "\n",
      "   0 | 66666666666666777777777777777777777777777777777777777777777777777777+282\n",
      "   1 | 00000000000000000000000000000000000000000000000000000000000000000000+454\n",
      "   2 | 00000000001111122222222333333444444444444444444444444444444555555666+95\n",
      "   3 | 00000000000000000000000000000000000111111111111111111111111111222222+47\n",
      "   4 | 000000011111111112222222233334444556667788999\n",
      "   5 | 0112223333444555666667777888899\n",
      "   6 | 000111122233345566777889\n",
      "   7 | 012234556789\n",
      "   8 | 01233345667899\n",
      "   9 | 0122334445556788888888899\n",
      "  10 | 00011112233344555556667788889999999\n",
      "  11 | 0000000112233444555566778899\n",
      "  12 | 000112234445566678999\n",
      "  13 | 0023444555566677788899\n",
      "  14 | 000111222334444455666677788899\n",
      "  15 | 0000112233334444566777788999\n",
      "  16 | 000001111222223333344444556667788889\n",
      "  17 | 01122334444566777788888889\n",
      "  18 | 000011111234444445555567899\n",
      "  19 | 00001112345556788999\n",
      "  20 | 02222233334457888889\n",
      "  21 | 0001122233445566666677778888888999999\n",
      "  22 | 001356666667778999\n",
      "  23 | 00000011233333444444455566677777778888888888999\n",
      "  24 | 011111123445555667777\n",
      "\n",
      "\n",
      "  The decimal point is at the |\n",
      "\n",
      "   1 | 5566667777888888899999\n",
      "   2 | 00000000000000001111111111122222222222222222222222222222222223333333+239\n",
      "   3 | 00000000000000011111111111111111111111111111111111111111112222222222+506\n",
      "   4 | 00000000000000000000000000000000000000000000000011111111111111111111+269\n",
      "   5 | 00000000000000000000011111111111111122222222222222333333333333333333+67\n",
      "   6 | 00000000000011111111112222222222333333333344444455555555566666666667+10\n",
      "   7 | 00001111111111222222223333333333333444444444444555555555555556666777+13\n",
      "   8 | 000000000001111111112222233344444444555556666777788888899999\n",
      "   9 | 00000011111112222333344588\n",
      "  10 | 222333344445556778999\n",
      "  11 | 144455555677788899\n",
      "  12 | 23345667788\n",
      "  13 | 1124445667799\n",
      "  14 | 0133469\n",
      "  15 | 23\n",
      "\n",
      "\n",
      "  The decimal point is 2 digit(s) to the right of the |\n",
      "\n",
      "   0 | 77778888888888889999999999999999999999999999999999999999999000000000+560\n",
      "   2 | 00000000000000000000000000000000000000000000011111111111111111111111+398\n",
      "   4 | 00000000000000111111111111111112222222222222222223333333444444444444+120\n",
      "   6 | 00000000111111112222222333333333333444444444444455555555556666666666+91\n",
      "   8 | 002578003346889\n",
      "  10 | 112223344455679033455688999\n",
      "  12 | 222223334444467778889012233455566789\n",
      "  14 | 00111222233444444445555666677777788999999011112222223333344444455667\n",
      "  16 | 0000112444666778899012222333455566678999\n",
      "  18 | 0223778990111234456667888\n",
      "  20 | 0111234444688899900012233444666778899\n",
      "  22 | 001291689\n",
      "  24 | 1577959\n",
      "  26 | 68\n",
      "\n",
      "\n",
      "  The decimal point is at the |\n",
      "\n",
      "   4 | 9901111111112222222222233333333333444444445555666777777778888899\n",
      "   6 | 00111222233333444445555566666666666666777777777777777777777777788888+231\n",
      "   8 | 00000000011111111111111111122222222222222222222233333333334444444444+176\n",
      "  10 | 00000000000000111111111112222222222333333333333444444444444555555666+120\n",
      "  12 | 00000000000001111111111222222222223334444444444555566666677777888899+60\n",
      "  14 | 00001112222333344444455555556666677777777888888899999000000111122222+11\n",
      "  16 | 00000011111111222222233333333333344445566666777788889999011111111222+89\n",
      "  18 | 00000000000111111122222222222222223333333333444444444444455555555566+37\n",
      "  20 | 00111112222333345556666777889990011112222222222222223333333333333333+77\n",
      "  22 | 00000000011111111111112223333344556889990011222222333444455667777789\n",
      "  24 | 00011122333334444444444444567888999001122335566778889\n",
      "  26 | 01225666779913448899\n",
      "  28 | 01133567991233468\n",
      "  30 | 0114456677990235679\n",
      "  32 | 1112234555667777913588\n",
      "  34 | 048159\n",
      "  36 | 2580368\n",
      "  38 | 137059\n",
      "  40 | 384\n",
      "  42 | 14689147\n",
      "  44 | 048234444579\n",
      "  46 | 01467790359\n",
      "  48 | 01469\n",
      "\n",
      "\n",
      "  The decimal point is 1 digit(s) to the right of the |\n",
      "\n",
      "   0 | 45555666666666777777777777777777777778888888888888888888888888888888+159\n",
      "   1 | 00000000000000000000000000000000000000000000000000000000000000000000+548\n",
      "   2 | 00000000000000000000000011111111111111112222222222222222222222233333+135\n",
      "   3 | 00000000000000000000000000111111111111111111122222222222222222222222+192\n",
      "   4 | 00000000000000000000000000000000001111111111111111111111111111111122+87\n",
      "   5 | 0000000111223444444455555566666666777777777888889999\n",
      "   6 | 0000001111112222222222234556666678889\n",
      "   7 | 001111233333344444455555666667788899\n",
      "   8 | 011222345677888999999\n",
      "   9 | 00000000000111222233333333333344444555555555555667777888889\n",
      "  10 | 0000000001222344555666666677778899\n",
      "  11 | 0\n",
      "\n",
      "\n",
      "  The decimal point is at the |\n",
      "\n",
      "   4 | 800111222223334455666888\n",
      "   6 | 011112233334444555555666667788888001222333344445566666788888999\n",
      "   8 | 00000011111223333444444555555556677777777888888899999999990000000011+58\n",
      "  10 | 00000000111111222222222233333444444444555555555666666666777777777778+123\n",
      "  12 | 00000000000001111122222222333333333344444444444444555555556667777778+97\n",
      "  14 | 00000000011111112222333333334444444444445555666666667777777778888888+117\n",
      "  16 | 00000000001111111122222222222223333333344444444444555555555555555666+146\n",
      "  18 | 00000000111111111111111112222222222223333333344444444444555555556666+95\n",
      "  20 | 00111112222222233333344444444444555555555555666666677778889999999999+58\n",
      "  22 | 00000000111112222233333334444444444456666667778899999900001111111222+19\n",
      "  24 | 0012334566667788899999900112222344444566667777777777888899999\n",
      "  26 | 0000111122233344445555555666777778889999900111233344566677777799\n",
      "  28 | 11367890011337999\n",
      "  30 | 00233593445\n",
      "  32 | 2233366789901568\n",
      "  34 | 1748\n",
      "  36 | 3800334\n",
      "  38 | 3884\n",
      "  40 | 4663499\n",
      "  42 | 0226788922588\n",
      "  44 | 2\n",
      "\n"
     ]
    },
    {
     "data": {
      "text/plain": [
       "NULL"
      ]
     },
     "metadata": {},
     "output_type": "display_data"
    }
   ],
   "source": [
    "print ('This is the stem and leaf for each column')\n",
    "apply(Qdata, 2, stem)"
   ]
  },
  {
   "cell_type": "markdown",
   "metadata": {},
   "source": [
    "## Concept 13: Box Plot\n",
    "http://stattrek.com/statistics/charts/boxplot.aspx\n",
    "A boxplot splits the data set into quartiles. The body of the boxplot consists of a \"box\" (hence, the name), which goes from the first quartile (Q1) to the third quartile (Q3).\n",
    "Within the box, a vertical line is drawn at the Q2, the median of the data set. Two horizontal lines, called whiskers, extend from the front and back of the box. The front whisker goes from Q1 to the smallest non-outlier in the data set, and the back whisker goes from Q3 to the largest non-outlier.  \n",
    "\n",
    "### *Explanation of this concept relative to your data set here *\n",
    "for my dataset, box plots would be a good way to graphically illustrate the quartiles and potentially also see the interquartile for each column.\n",
    "\n",
    "### For more investigation:  Hmmmmm....description above is univariate analysis. But ggplot requires 2 inputs. 1 input ends up being box width. What's going on here?!"
   ]
  },
  {
   "cell_type": "markdown",
   "metadata": {},
   "source": [
    "## Concept 13:  Cross Tabulation\n",
    "https://en.wikipedia.org/wiki/Contingency_table\n",
    "In statistics, a contingency table (also known as a cross tabulation or crosstab) is a type of table in a matrix format that displays the (multivariate) frequency distribution of the variables. They are heavily used in survey research, business intelligence, engineering and scientific research. They provide a basic picture of the interrelation between two variables and can help find interactions between them. The term contingency table was first used by Karl Pearson in \"On the Theory of Contingency and Its Relation to Association and Normal Correlation\",[1] part of the Drapers' Company Research Memoirs Biometric Series I published in 1904.\n",
    "\n",
    "### *Explanation of this concept relative to your data set here *\n",
    "for my dataset, cross tabulation can be a useful initial bivariate analysis (next step after univariate analysis in my EDA process). This would allow me to identify potentially correlated variables.\n",
    "\n",
    "### For more investigation:  well, code doesn't complete its run. suspect its b/c of large dataset size"
   ]
  },
  {
   "cell_type": "code",
   "execution_count": null,
   "metadata": {},
   "outputs": [],
   "source": [
    "library(gmodels)\n",
    "# library(descr)\n",
    "print ('hey')\n",
    "a<-CrossTable(Qdata$Dividend, Qdata$Earnings)\n",
    "print (a)\n",
    "print ('hi')"
   ]
  },
  {
   "cell_type": "markdown",
   "metadata": {},
   "source": [
    "## Concept 14:  ANOVA\n",
    "https://www.investopedia.com/terms/a/anova.asp\n",
    "What is 'Analysis Of Variance - ANOVA'\n",
    "Analysis of variance (ANOVA) is an analysis tool used in statistics that splits the aggregate variability found inside a data set into two parts: systematic factors and random factors. The systematic factors have a statistical influence on the given data set, but the random factors do not. Analysts use the analysis of the variance test to determine the result that independent variables have on the dependent variable amid a regression study.\n",
    "\n",
    "\n",
    "Read more: Analysis Of Variance (ANOVA) https://www.investopedia.com/terms/a/anova.asp#ixzz56axatnFq \n",
    "Follow us: Investopedia on Facebook\n",
    "\n",
    "Example: http://cba.ualr.edu/smartstat/topics/anova/example.pdf  \n",
    "\n",
    "Another source that seems promising: http://sphweb.bumc.bu.edu/otlt/MPH-Modules/BS/BS704_HypothesisTesting-ANOVA/BS704_HypothesisTesting-Anova_print.html  \n",
    "\n",
    "### *Explanation of this concept relative to your data set here *\n",
    "\n",
    "### For more investigation:  huh?!"
   ]
  },
  {
   "cell_type": "code",
   "execution_count": null,
   "metadata": {
    "collapsed": true
   },
   "outputs": [],
   "source": []
  },
  {
   "cell_type": "markdown",
   "metadata": {
    "collapsed": true
   },
   "source": [
    "#### After doing my breadth first analysis, here is how I feel about each concept on a 1 to 5 scale; "
   ]
  },
  {
   "cell_type": "code",
   "execution_count": null,
   "metadata": {
    "collapsed": true
   },
   "outputs": [],
   "source": [
    "PostBreadth_Knowledge <- rep(1, length(EDA_Concepts)) #initialize the vector\n",
    "\n",
    "#now let's assign values:\n",
    "PostBreadth_Knowledge[match(c('sample'),EDA_Concepts)] = 5\n",
    "PostBreadth_Knowledge[match(c('statistic'),EDA_Concepts)] = 4\n",
    "PostBreadth_Knowledge[match(c('population'),EDA_Concepts)] = 5\n",
    "PostBreadth_Knowledge[match(c('parameter'),EDA_Concepts)] = 5\n",
    "PostBreadth_Knowledge[match(c('central tendency'),EDA_Concepts)] = 4 \n",
    "PostBreadth_Knowledge[match(c('variation'),EDA_Concepts)] = 5\n",
    "PostBreadth_Knowledge[match(c('univariate'),EDA_Concepts)] = 5\n",
    "PostBreadth_Knowledge[match(c('multivariate'),EDA_Concepts)] = 5 \n",
    "PostBreadth_Knowledge[match(c('distribution'),EDA_Concepts)] = 5\n",
    "PostBreadth_Knowledge[match(c('categorical variable'),EDA_Concepts)] = 3 \n",
    "PostBreadth_Knowledge[match(c('continuous / quantitative variable'),EDA_Concepts)] = 5\n",
    "PostBreadth_Knowledge[match(c('variance'),EDA_Concepts)] = 5\n",
    "PostBreadth_Knowledge[match(c('standard deviation'),EDA_Concepts)] = 5\n",
    "PostBreadth_Knowledge[match(c('interquartile range'),EDA_Concepts)] = 4\n",
    "PostBreadth_Knowledge[match(c('skewness'),EDA_Concepts)] = 4\n",
    "PostBreadth_Knowledge[match(c('kurtosis'),EDA_Concepts)] = 4\n",
    "PostBreadth_Knowledge[match(c('histogram'),EDA_Concepts)] = 5\n",
    "PostBreadth_Knowledge[match(c('stem and leaf'),EDA_Concepts)] = 5\n",
    "PostBreadth_Knowledge[match(c('box plot'),EDA_Concepts)] = 4\n",
    "PostBreadth_Knowledge[match(c('outlier'),EDA_Concepts)] = 5\n",
    "PostBreadth_Knowledge[match(c('cross tabulation'),EDA_Concepts)] = 4\n",
    "PostBreadth_Knowledge[match(c('anova'),EDA_Concepts)] = \n",
    "PostBreadth_Knowledge[match(c('correlation'),EDA_Concepts)] = \n",
    "PostBreadth_Knowledge[match(c('covariance'),EDA_Concepts)] = \n",
    "\n",
    "data.frame(EDA_Concepts,PostBreadth_Knowledge) #display my knowledge\n"
   ]
  },
  {
   "cell_type": "markdown",
   "metadata": {},
   "source": [
    "## Infinite Stream of Conciousness..."
   ]
  },
  {
   "cell_type": "code",
   "execution_count": null,
   "metadata": {
    "collapsed": true
   },
   "outputs": [],
   "source": [
    "#HEy! i'll be using R this week :)\n",
    "#my first R code: write a vector object and then print it:\n",
    "\n",
    "hondoomba = c(1,45,3,4,2)\n",
    "hondoomba \n"
   ]
  },
  {
   "cell_type": "code",
   "execution_count": 5,
   "metadata": {},
   "outputs": [
    {
     "name": "stderr",
     "output_type": "stream",
     "text": [
      "Loading required package: xts\n",
      "Warning message:\n",
      "\"package 'xts' was built under R version 3.4.3\"Loading required package: zoo\n",
      "Warning message:\n",
      "\"package 'zoo' was built under R version 3.4.3\"\n",
      "Attaching package: 'zoo'\n",
      "\n",
      "The following objects are masked from 'package:base':\n",
      "\n",
      "    as.Date, as.Date.numeric\n",
      "\n"
     ]
    }
   ],
   "source": [
    "#Quandl R documentation:\n",
    "# https://docs.quandl.com/docs/r-installation\n",
    "# https://docs.quandl.com/docs/r-time-series\n",
    "\n",
    "#here is how to use my quandl API key:\n",
    "library(Quandl)\n",
    "Quandl.api_key(\"L8zt1AhNiQi4gufsXy4g\")"
   ]
  },
  {
   "cell_type": "code",
   "execution_count": 6,
   "metadata": {
    "scrolled": true
   },
   "outputs": [
    {
     "data": {
      "text/html": [
       "<table>\n",
       "<thead><tr><th scope=col>Year</th><th scope=col>S&amp;P Composite</th><th scope=col>Dividend</th><th scope=col>Earnings</th><th scope=col>CPI</th><th scope=col>Long Interest Rate</th><th scope=col>Real Price</th><th scope=col>Real Dividend</th><th scope=col>Real Earnings</th><th scope=col>Cyclically Adjusted PE Ratio</th></tr></thead>\n",
       "<tbody>\n",
       "\t<tr><td>2018-01-31</td><td>2776.42   </td><td>      NA  </td><td>       NA </td><td>246.4515  </td><td>  NA      </td><td>2776.420  </td><td>      NA  </td><td>       NA </td><td>33.60275  </td></tr>\n",
       "\t<tr><td>2017-12-31</td><td>2664.34   </td><td>48.93000  </td><td>       NA </td><td>246.5240  </td><td>2.40      </td><td>2663.556  </td><td>48.91561  </td><td>       NA </td><td>32.25322  </td></tr>\n",
       "\t<tr><td>2017-11-30</td><td>2593.61   </td><td>48.67667  </td><td>       NA </td><td>246.6690  </td><td>2.35      </td><td>2591.323  </td><td>48.63375  </td><td>       NA </td><td>31.37894  </td></tr>\n",
       "\t<tr><td>2017-10-31</td><td>2557.00   </td><td>48.42333  </td><td>       NA </td><td>246.6630  </td><td>2.36      </td><td>2554.808  </td><td>48.38181  </td><td>       NA </td><td>30.92039  </td></tr>\n",
       "\t<tr><td>2017-09-30</td><td>2492.84   </td><td>48.17000  </td><td>107.08000 </td><td>246.8190  </td><td>2.20      </td><td>2489.128  </td><td>48.09828  </td><td>106.92056 </td><td>30.16811  </td></tr>\n",
       "\t<tr><td>2017-08-31</td><td>2456.22   </td><td>47.85333  </td><td>106.06000 </td><td>245.5190  </td><td>2.21      </td><td>2465.549  </td><td>48.03508  </td><td>106.46282 </td><td>29.91496  </td></tr>\n",
       "\t<tr><td>2017-07-31</td><td>2454.10   </td><td>47.53667  </td><td>105.04000 </td><td>244.7860  </td><td>2.32      </td><td>2470.797  </td><td>47.86010  </td><td>105.75468 </td><td>30.00222  </td></tr>\n",
       "\t<tr><td>2017-06-30</td><td>2433.99   </td><td>47.22000  </td><td>104.02000 </td><td>244.9550  </td><td>2.19      </td><td>2448.860  </td><td>47.50848  </td><td>104.65549 </td><td>29.74850  </td></tr>\n",
       "\t<tr><td>2017-05-31</td><td>2395.35   </td><td>46.94000  </td><td>102.77667 </td><td>244.7330  </td><td>2.30      </td><td>2412.170  </td><td>47.26961  </td><td>103.49836 </td><td>29.31334  </td></tr>\n",
       "\t<tr><td>2017-04-30</td><td>2359.31   </td><td>46.66000  </td><td>101.53333 </td><td>244.5240  </td><td>2.30      </td><td>2377.908  </td><td>47.02781  </td><td>102.33369 </td><td>28.90425  </td></tr>\n",
       "\t<tr><td>2017-03-31</td><td>2366.82   </td><td>46.38000  </td><td>100.29000 </td><td>243.8010  </td><td>2.48      </td><td>2392.551  </td><td>46.88422  </td><td>101.38031 </td><td>29.08692  </td></tr>\n",
       "\t<tr><td>2017-02-28</td><td>2329.91   </td><td>46.15333  </td><td> 98.37667 </td><td>243.6030  </td><td>2.42      </td><td>2357.154  </td><td>46.69301  </td><td> 99.52701 </td><td>28.65511  </td></tr>\n",
       "\t<tr><td>2017-01-31</td><td>2275.12   </td><td>45.92667  </td><td> 96.46333 </td><td>242.8390  </td><td>2.43      </td><td>2308.965  </td><td>46.60988  </td><td> 97.89833 </td><td>28.06357  </td></tr>\n",
       "\t<tr><td>2016-12-31</td><td>2246.63   </td><td>45.70000  </td><td> 94.55000 </td><td>241.4320  </td><td>2.49      </td><td>2293.339  </td><td>46.65013  </td><td> 96.51574 </td><td>27.86510  </td></tr>\n",
       "\t<tr><td>2016-11-30</td><td>2164.99   </td><td>45.47667  </td><td> 92.73000 </td><td>241.3530  </td><td>2.14      </td><td>2210.725  </td><td>46.43735  </td><td> 94.68889 </td><td>26.85095  </td></tr>\n",
       "\t<tr><td>2016-10-31</td><td>2143.02   </td><td>45.25333  </td><td> 90.91000 </td><td>241.7290  </td><td>1.76      </td><td>2184.887  </td><td>46.13742  </td><td> 92.68605 </td><td>26.52514  </td></tr>\n",
       "\t<tr><td>2016-09-30</td><td>2157.69   </td><td>45.03000  </td><td> 89.09000 </td><td>241.4280  </td><td>1.63      </td><td>2202.586  </td><td>45.96696  </td><td> 90.94374 </td><td>26.72787  </td></tr>\n",
       "\t<tr><td>2016-08-31</td><td>2170.95   </td><td>44.84000  </td><td> 88.36667 </td><td>240.8490  </td><td>1.56      </td><td>2221.449  </td><td>45.88304  </td><td> 90.42220 </td><td>26.94887  </td></tr>\n",
       "\t<tr><td>2016-07-31</td><td>2148.90   </td><td>44.65000  </td><td> 87.64333 </td><td>240.6280  </td><td>1.50      </td><td>2200.906  </td><td>45.73059  </td><td> 89.76441 </td><td>26.69400  </td></tr>\n",
       "\t<tr><td>2016-06-30</td><td>2083.89   </td><td>44.46000  </td><td> 86.92000 </td><td>241.0180  </td><td>1.64      </td><td>2130.869  </td><td>45.46230  </td><td> 88.87952 </td><td>25.84037  </td></tr>\n",
       "\t<tr><td>2016-05-31</td><td>2065.55   </td><td>44.26667  </td><td> 86.76000 </td><td>240.2290  </td><td>1.81      </td><td>2119.053  </td><td>45.41328  </td><td> 89.00729 </td><td>25.69471  </td></tr>\n",
       "\t<tr><td>2016-04-30</td><td>2075.54   </td><td>44.07333  </td><td> 86.60000 </td><td>239.2610  </td><td>1.81      </td><td>2137.916  </td><td>45.39787  </td><td> 89.20259 </td><td>25.92234  </td></tr>\n",
       "\t<tr><td>2016-03-31</td><td>2021.95   </td><td>43.88000  </td><td> 86.44000 </td><td>238.1320  </td><td>1.89      </td><td>2092.590  </td><td>45.41301  </td><td> 89.45991 </td><td>25.37230  </td></tr>\n",
       "\t<tr><td>2016-02-29</td><td>1904.42   </td><td>43.71667  </td><td> 86.47000 </td><td>237.1110  </td><td>1.78      </td><td>1979.441  </td><td>45.43879  </td><td> 89.87631 </td><td>24.00261  </td></tr>\n",
       "\t<tr><td>2016-01-31</td><td>1918.60   </td><td>43.55333  </td><td> 86.50000 </td><td>236.9160  </td><td>2.09      </td><td>1995.821  </td><td>45.30629  </td><td> 89.98149 </td><td>24.20617  </td></tr>\n",
       "\t<tr><td>2015-12-31</td><td>2054.08   </td><td>43.39000  </td><td> 86.53000 </td><td>236.5250  </td><td>2.24      </td><td>2140.286  </td><td>45.21099  </td><td> 90.16150 </td><td>25.96542  </td></tr>\n",
       "\t<tr><td>2015-11-30</td><td>2080.62   </td><td>43.09667  </td><td> 87.90667 </td><td>237.3360  </td><td>2.26      </td><td>2160.532  </td><td>44.75191  </td><td> 91.28295 </td><td>26.22585  </td></tr>\n",
       "\t<tr><td>2015-10-31</td><td>2024.81   </td><td>42.80333  </td><td> 89.28333 </td><td>237.8380  </td><td>2.07      </td><td>2098.140  </td><td>44.35349  </td><td> 92.51680 </td><td>25.49144  </td></tr>\n",
       "\t<tr><td>2015-09-30</td><td>1944.41   </td><td>42.51000  </td><td> 90.66000 </td><td>237.9450  </td><td>2.17      </td><td>2013.922  </td><td>44.02973  </td><td> 93.90108 </td><td>24.49675  </td></tr>\n",
       "\t<tr><td>2015-08-31</td><td>2039.87   </td><td>42.25333  </td><td> 92.07667 </td><td>238.3160  </td><td>2.17      </td><td>2109.506  </td><td>43.69575  </td><td> 95.21993 </td><td>25.69366  </td></tr>\n",
       "\t<tr><td>...</td><td>...</td><td>...</td><td>...</td><td>...</td><td>...</td><td>...</td><td>...</td><td>...</td><td>...</td></tr>\n",
       "\t<tr><td>1873-06-30</td><td>4.98      </td><td>0.3150    </td><td>0.4450    </td><td>12.55923  </td><td>5.534167  </td><td>97.72325  </td><td>6.181290  </td><td>8.732299  </td><td>NA        </td></tr>\n",
       "\t<tr><td>1873-05-31</td><td>5.05      </td><td>0.3125    </td><td>0.4425    </td><td>12.93981  </td><td>5.543333  </td><td>96.18228  </td><td>5.951874  </td><td>8.427853  </td><td>NA        </td></tr>\n",
       "\t<tr><td>1873-04-30</td><td>5.04      </td><td>0.3100    </td><td>0.4400    </td><td>13.22522  </td><td>5.552500  </td><td>93.92021  </td><td>5.776838  </td><td>8.199383  </td><td>NA        </td></tr>\n",
       "\t<tr><td>1873-03-31</td><td>5.11      </td><td>0.3075    </td><td>0.4375    </td><td>13.22522  </td><td>5.561667  </td><td>95.22466  </td><td>5.730251  </td><td>8.152796  </td><td>NA        </td></tr>\n",
       "\t<tr><td>1873-02-28</td><td>5.15      </td><td>0.3050    </td><td>0.4350    </td><td>13.22522  </td><td>5.570833  </td><td>95.97005  </td><td>5.683663  </td><td>8.106208  </td><td>NA        </td></tr>\n",
       "\t<tr><td>1873-01-31</td><td>5.11      </td><td>0.3025    </td><td>0.4325    </td><td>12.93981  </td><td>5.580000  </td><td>97.32504  </td><td>5.761414  </td><td>8.237393  </td><td>NA        </td></tr>\n",
       "\t<tr><td>1872-12-31</td><td>5.07      </td><td>0.3000    </td><td>0.4300    </td><td>12.93981  </td><td>5.561667  </td><td>96.56320  </td><td>5.713799  </td><td>8.189778  </td><td>NA        </td></tr>\n",
       "\t<tr><td>1872-11-30</td><td>4.95      </td><td>0.2967    </td><td>0.4275    </td><td>13.13014  </td><td>5.543333  </td><td>92.91106  </td><td>5.569032  </td><td>8.024137  </td><td>NA        </td></tr>\n",
       "\t<tr><td>1872-10-31</td><td>4.97      </td><td>0.2933    </td><td>0.4250    </td><td>12.74948  </td><td>5.525000  </td><td>96.07171  </td><td>5.669584  </td><td>8.215388  </td><td>NA        </td></tr>\n",
       "\t<tr><td>1872-09-30</td><td>4.95      </td><td>0.2900    </td><td>0.4225    </td><td>13.03497  </td><td>5.506667  </td><td>93.58938  </td><td>5.483014  </td><td>7.988184  </td><td>NA        </td></tr>\n",
       "\t<tr><td>1872-08-31</td><td>5.04      </td><td>0.2867    </td><td>0.4200    </td><td>12.93981  </td><td>5.488333  </td><td>95.99182  </td><td>5.460487  </td><td>7.999318  </td><td>NA        </td></tr>\n",
       "\t<tr><td>1872-07-31</td><td>5.10      </td><td>0.2833    </td><td>0.4175    </td><td>12.84464  </td><td>5.470000  </td><td>97.85424  </td><td>5.435707  </td><td>8.010617  </td><td>NA        </td></tr>\n",
       "\t<tr><td>1872-06-30</td><td>5.13      </td><td>0.2800    </td><td>0.4150    </td><td>13.03497  </td><td>5.451667  </td><td>96.99263  </td><td>5.293945  </td><td>7.846382  </td><td>NA        </td></tr>\n",
       "\t<tr><td>1872-05-31</td><td>5.18      </td><td>0.2767    </td><td>0.4125    </td><td>13.13014  </td><td>5.433333  </td><td>97.22814  </td><td>5.193634  </td><td>7.742588  </td><td>NA        </td></tr>\n",
       "\t<tr><td>1872-04-30</td><td>5.18      </td><td>0.2733    </td><td>0.4100    </td><td>13.13014  </td><td>5.415000  </td><td>97.22814  </td><td>5.129817  </td><td>7.695663  </td><td>NA        </td></tr>\n",
       "\t<tr><td>1872-03-31</td><td>5.04      </td><td>0.2700    </td><td>0.4075    </td><td>12.84464  </td><td>5.396667  </td><td>96.70302  </td><td>5.180519  </td><td>7.818746  </td><td>NA        </td></tr>\n",
       "\t<tr><td>1872-02-29</td><td>4.88      </td><td>0.2667    </td><td>0.4050    </td><td>12.65439  </td><td>5.378333  </td><td>95.04078  </td><td>5.194135  </td><td>7.887606  </td><td>NA        </td></tr>\n",
       "\t<tr><td>1872-01-31</td><td>4.86      </td><td>0.2633    </td><td>0.4025    </td><td>12.65439  </td><td>5.360000  </td><td>94.65127  </td><td>5.127918  </td><td>7.838917  </td><td>NA        </td></tr>\n",
       "\t<tr><td>1871-12-31</td><td>4.74      </td><td>0.2600    </td><td>0.4000    </td><td>12.65439  </td><td>5.356667  </td><td>92.31420  </td><td>5.063648  </td><td>7.790228  </td><td>NA        </td></tr>\n",
       "\t<tr><td>1871-11-30</td><td>4.64      </td><td>0.2600    </td><td>0.4000    </td><td>12.36890  </td><td>5.353333  </td><td>92.45247  </td><td>5.180526  </td><td>7.970040  </td><td>NA        </td></tr>\n",
       "\t<tr><td>1871-10-31</td><td>4.59      </td><td>0.2600    </td><td>0.4000    </td><td>12.36890  </td><td>5.350000  </td><td>91.45621  </td><td>5.180526  </td><td>7.970040  </td><td>NA        </td></tr>\n",
       "\t<tr><td>1871-09-30</td><td>4.84      </td><td>0.2600    </td><td>0.4000    </td><td>12.17865  </td><td>5.346667  </td><td>97.94399  </td><td>5.261454  </td><td>8.094545  </td><td>NA        </td></tr>\n",
       "\t<tr><td>1871-08-31</td><td>4.79      </td><td>0.2600    </td><td>0.4000    </td><td>11.89323  </td><td>5.343333  </td><td>99.25836  </td><td>5.387719  </td><td>8.288799  </td><td>NA        </td></tr>\n",
       "\t<tr><td>1871-07-31</td><td>4.73      </td><td>0.2600    </td><td>0.4000    </td><td>12.08348  </td><td>5.340000  </td><td>96.47184  </td><td>5.302892  </td><td>8.158295  </td><td>NA        </td></tr>\n",
       "\t<tr><td>1871-06-30</td><td>4.82      </td><td>0.2600    </td><td>0.4000    </td><td>12.08348  </td><td>5.336667  </td><td>98.30745  </td><td>5.302892  </td><td>8.158295  </td><td>NA        </td></tr>\n",
       "\t<tr><td>1871-05-31</td><td>4.86      </td><td>0.2600    </td><td>0.4000    </td><td>12.27381  </td><td>5.333333  </td><td>97.58617  </td><td>5.220659  </td><td>8.031784  </td><td>NA        </td></tr>\n",
       "\t<tr><td>1871-04-30</td><td>4.74      </td><td>0.2600    </td><td>0.4000    </td><td>12.55923  </td><td>5.330000  </td><td>93.01370  </td><td>5.102017  </td><td>7.849257  </td><td>NA        </td></tr>\n",
       "\t<tr><td>1871-03-31</td><td>4.61      </td><td>0.2600    </td><td>0.4000    </td><td>13.03497  </td><td>5.326667  </td><td>87.16102  </td><td>4.915806  </td><td>7.562778  </td><td>NA        </td></tr>\n",
       "\t<tr><td>1871-02-28</td><td>4.50      </td><td>0.2600    </td><td>0.4000    </td><td>12.84464  </td><td>5.323333  </td><td>86.34198  </td><td>4.988648  </td><td>7.674843  </td><td>NA        </td></tr>\n",
       "\t<tr><td>1871-01-31</td><td>4.44      </td><td>0.2600    </td><td>0.4000    </td><td>12.46406  </td><td>5.320000  </td><td>87.79198  </td><td>5.140972  </td><td>7.909188  </td><td>NA        </td></tr>\n",
       "</tbody>\n",
       "</table>\n"
      ],
      "text/latex": [
       "\\begin{tabular}{r|llllllllll}\n",
       " Year & S\\&P Composite & Dividend & Earnings & CPI & Long Interest Rate & Real Price & Real Dividend & Real Earnings & Cyclically Adjusted PE Ratio\\\\\n",
       "\\hline\n",
       "\t 2018-01-31 & 2776.42    &       NA   &        NA  & 246.4515   &   NA       & 2776.420   &       NA   &        NA  & 33.60275  \\\\\n",
       "\t 2017-12-31 & 2664.34    & 48.93000   &        NA  & 246.5240   & 2.40       & 2663.556   & 48.91561   &        NA  & 32.25322  \\\\\n",
       "\t 2017-11-30 & 2593.61    & 48.67667   &        NA  & 246.6690   & 2.35       & 2591.323   & 48.63375   &        NA  & 31.37894  \\\\\n",
       "\t 2017-10-31 & 2557.00    & 48.42333   &        NA  & 246.6630   & 2.36       & 2554.808   & 48.38181   &        NA  & 30.92039  \\\\\n",
       "\t 2017-09-30 & 2492.84    & 48.17000   & 107.08000  & 246.8190   & 2.20       & 2489.128   & 48.09828   & 106.92056  & 30.16811  \\\\\n",
       "\t 2017-08-31 & 2456.22    & 47.85333   & 106.06000  & 245.5190   & 2.21       & 2465.549   & 48.03508   & 106.46282  & 29.91496  \\\\\n",
       "\t 2017-07-31 & 2454.10    & 47.53667   & 105.04000  & 244.7860   & 2.32       & 2470.797   & 47.86010   & 105.75468  & 30.00222  \\\\\n",
       "\t 2017-06-30 & 2433.99    & 47.22000   & 104.02000  & 244.9550   & 2.19       & 2448.860   & 47.50848   & 104.65549  & 29.74850  \\\\\n",
       "\t 2017-05-31 & 2395.35    & 46.94000   & 102.77667  & 244.7330   & 2.30       & 2412.170   & 47.26961   & 103.49836  & 29.31334  \\\\\n",
       "\t 2017-04-30 & 2359.31    & 46.66000   & 101.53333  & 244.5240   & 2.30       & 2377.908   & 47.02781   & 102.33369  & 28.90425  \\\\\n",
       "\t 2017-03-31 & 2366.82    & 46.38000   & 100.29000  & 243.8010   & 2.48       & 2392.551   & 46.88422   & 101.38031  & 29.08692  \\\\\n",
       "\t 2017-02-28 & 2329.91    & 46.15333   &  98.37667  & 243.6030   & 2.42       & 2357.154   & 46.69301   &  99.52701  & 28.65511  \\\\\n",
       "\t 2017-01-31 & 2275.12    & 45.92667   &  96.46333  & 242.8390   & 2.43       & 2308.965   & 46.60988   &  97.89833  & 28.06357  \\\\\n",
       "\t 2016-12-31 & 2246.63    & 45.70000   &  94.55000  & 241.4320   & 2.49       & 2293.339   & 46.65013   &  96.51574  & 27.86510  \\\\\n",
       "\t 2016-11-30 & 2164.99    & 45.47667   &  92.73000  & 241.3530   & 2.14       & 2210.725   & 46.43735   &  94.68889  & 26.85095  \\\\\n",
       "\t 2016-10-31 & 2143.02    & 45.25333   &  90.91000  & 241.7290   & 1.76       & 2184.887   & 46.13742   &  92.68605  & 26.52514  \\\\\n",
       "\t 2016-09-30 & 2157.69    & 45.03000   &  89.09000  & 241.4280   & 1.63       & 2202.586   & 45.96696   &  90.94374  & 26.72787  \\\\\n",
       "\t 2016-08-31 & 2170.95    & 44.84000   &  88.36667  & 240.8490   & 1.56       & 2221.449   & 45.88304   &  90.42220  & 26.94887  \\\\\n",
       "\t 2016-07-31 & 2148.90    & 44.65000   &  87.64333  & 240.6280   & 1.50       & 2200.906   & 45.73059   &  89.76441  & 26.69400  \\\\\n",
       "\t 2016-06-30 & 2083.89    & 44.46000   &  86.92000  & 241.0180   & 1.64       & 2130.869   & 45.46230   &  88.87952  & 25.84037  \\\\\n",
       "\t 2016-05-31 & 2065.55    & 44.26667   &  86.76000  & 240.2290   & 1.81       & 2119.053   & 45.41328   &  89.00729  & 25.69471  \\\\\n",
       "\t 2016-04-30 & 2075.54    & 44.07333   &  86.60000  & 239.2610   & 1.81       & 2137.916   & 45.39787   &  89.20259  & 25.92234  \\\\\n",
       "\t 2016-03-31 & 2021.95    & 43.88000   &  86.44000  & 238.1320   & 1.89       & 2092.590   & 45.41301   &  89.45991  & 25.37230  \\\\\n",
       "\t 2016-02-29 & 1904.42    & 43.71667   &  86.47000  & 237.1110   & 1.78       & 1979.441   & 45.43879   &  89.87631  & 24.00261  \\\\\n",
       "\t 2016-01-31 & 1918.60    & 43.55333   &  86.50000  & 236.9160   & 2.09       & 1995.821   & 45.30629   &  89.98149  & 24.20617  \\\\\n",
       "\t 2015-12-31 & 2054.08    & 43.39000   &  86.53000  & 236.5250   & 2.24       & 2140.286   & 45.21099   &  90.16150  & 25.96542  \\\\\n",
       "\t 2015-11-30 & 2080.62    & 43.09667   &  87.90667  & 237.3360   & 2.26       & 2160.532   & 44.75191   &  91.28295  & 26.22585  \\\\\n",
       "\t 2015-10-31 & 2024.81    & 42.80333   &  89.28333  & 237.8380   & 2.07       & 2098.140   & 44.35349   &  92.51680  & 25.49144  \\\\\n",
       "\t 2015-09-30 & 1944.41    & 42.51000   &  90.66000  & 237.9450   & 2.17       & 2013.922   & 44.02973   &  93.90108  & 24.49675  \\\\\n",
       "\t 2015-08-31 & 2039.87    & 42.25333   &  92.07667  & 238.3160   & 2.17       & 2109.506   & 43.69575   &  95.21993  & 25.69366  \\\\\n",
       "\t ... & ... & ... & ... & ... & ... & ... & ... & ... & ...\\\\\n",
       "\t 1873-06-30 & 4.98       & 0.3150     & 0.4450     & 12.55923   & 5.534167   & 97.72325   & 6.181290   & 8.732299   & NA        \\\\\n",
       "\t 1873-05-31 & 5.05       & 0.3125     & 0.4425     & 12.93981   & 5.543333   & 96.18228   & 5.951874   & 8.427853   & NA        \\\\\n",
       "\t 1873-04-30 & 5.04       & 0.3100     & 0.4400     & 13.22522   & 5.552500   & 93.92021   & 5.776838   & 8.199383   & NA        \\\\\n",
       "\t 1873-03-31 & 5.11       & 0.3075     & 0.4375     & 13.22522   & 5.561667   & 95.22466   & 5.730251   & 8.152796   & NA        \\\\\n",
       "\t 1873-02-28 & 5.15       & 0.3050     & 0.4350     & 13.22522   & 5.570833   & 95.97005   & 5.683663   & 8.106208   & NA        \\\\\n",
       "\t 1873-01-31 & 5.11       & 0.3025     & 0.4325     & 12.93981   & 5.580000   & 97.32504   & 5.761414   & 8.237393   & NA        \\\\\n",
       "\t 1872-12-31 & 5.07       & 0.3000     & 0.4300     & 12.93981   & 5.561667   & 96.56320   & 5.713799   & 8.189778   & NA        \\\\\n",
       "\t 1872-11-30 & 4.95       & 0.2967     & 0.4275     & 13.13014   & 5.543333   & 92.91106   & 5.569032   & 8.024137   & NA        \\\\\n",
       "\t 1872-10-31 & 4.97       & 0.2933     & 0.4250     & 12.74948   & 5.525000   & 96.07171   & 5.669584   & 8.215388   & NA        \\\\\n",
       "\t 1872-09-30 & 4.95       & 0.2900     & 0.4225     & 13.03497   & 5.506667   & 93.58938   & 5.483014   & 7.988184   & NA        \\\\\n",
       "\t 1872-08-31 & 5.04       & 0.2867     & 0.4200     & 12.93981   & 5.488333   & 95.99182   & 5.460487   & 7.999318   & NA        \\\\\n",
       "\t 1872-07-31 & 5.10       & 0.2833     & 0.4175     & 12.84464   & 5.470000   & 97.85424   & 5.435707   & 8.010617   & NA        \\\\\n",
       "\t 1872-06-30 & 5.13       & 0.2800     & 0.4150     & 13.03497   & 5.451667   & 96.99263   & 5.293945   & 7.846382   & NA        \\\\\n",
       "\t 1872-05-31 & 5.18       & 0.2767     & 0.4125     & 13.13014   & 5.433333   & 97.22814   & 5.193634   & 7.742588   & NA        \\\\\n",
       "\t 1872-04-30 & 5.18       & 0.2733     & 0.4100     & 13.13014   & 5.415000   & 97.22814   & 5.129817   & 7.695663   & NA        \\\\\n",
       "\t 1872-03-31 & 5.04       & 0.2700     & 0.4075     & 12.84464   & 5.396667   & 96.70302   & 5.180519   & 7.818746   & NA        \\\\\n",
       "\t 1872-02-29 & 4.88       & 0.2667     & 0.4050     & 12.65439   & 5.378333   & 95.04078   & 5.194135   & 7.887606   & NA        \\\\\n",
       "\t 1872-01-31 & 4.86       & 0.2633     & 0.4025     & 12.65439   & 5.360000   & 94.65127   & 5.127918   & 7.838917   & NA        \\\\\n",
       "\t 1871-12-31 & 4.74       & 0.2600     & 0.4000     & 12.65439   & 5.356667   & 92.31420   & 5.063648   & 7.790228   & NA        \\\\\n",
       "\t 1871-11-30 & 4.64       & 0.2600     & 0.4000     & 12.36890   & 5.353333   & 92.45247   & 5.180526   & 7.970040   & NA        \\\\\n",
       "\t 1871-10-31 & 4.59       & 0.2600     & 0.4000     & 12.36890   & 5.350000   & 91.45621   & 5.180526   & 7.970040   & NA        \\\\\n",
       "\t 1871-09-30 & 4.84       & 0.2600     & 0.4000     & 12.17865   & 5.346667   & 97.94399   & 5.261454   & 8.094545   & NA        \\\\\n",
       "\t 1871-08-31 & 4.79       & 0.2600     & 0.4000     & 11.89323   & 5.343333   & 99.25836   & 5.387719   & 8.288799   & NA        \\\\\n",
       "\t 1871-07-31 & 4.73       & 0.2600     & 0.4000     & 12.08348   & 5.340000   & 96.47184   & 5.302892   & 8.158295   & NA        \\\\\n",
       "\t 1871-06-30 & 4.82       & 0.2600     & 0.4000     & 12.08348   & 5.336667   & 98.30745   & 5.302892   & 8.158295   & NA        \\\\\n",
       "\t 1871-05-31 & 4.86       & 0.2600     & 0.4000     & 12.27381   & 5.333333   & 97.58617   & 5.220659   & 8.031784   & NA        \\\\\n",
       "\t 1871-04-30 & 4.74       & 0.2600     & 0.4000     & 12.55923   & 5.330000   & 93.01370   & 5.102017   & 7.849257   & NA        \\\\\n",
       "\t 1871-03-31 & 4.61       & 0.2600     & 0.4000     & 13.03497   & 5.326667   & 87.16102   & 4.915806   & 7.562778   & NA        \\\\\n",
       "\t 1871-02-28 & 4.50       & 0.2600     & 0.4000     & 12.84464   & 5.323333   & 86.34198   & 4.988648   & 7.674843   & NA        \\\\\n",
       "\t 1871-01-31 & 4.44       & 0.2600     & 0.4000     & 12.46406   & 5.320000   & 87.79198   & 5.140972   & 7.909188   & NA        \\\\\n",
       "\\end{tabular}\n"
      ],
      "text/markdown": [
       "\n",
       "Year | S&P Composite | Dividend | Earnings | CPI | Long Interest Rate | Real Price | Real Dividend | Real Earnings | Cyclically Adjusted PE Ratio | \n",
       "|---|---|---|---|---|---|---|---|---|---|---|---|---|---|---|---|---|---|---|---|---|---|---|---|---|---|---|---|---|---|---|---|---|---|---|---|---|---|---|---|---|---|---|---|---|---|---|---|---|---|---|---|---|---|---|---|---|---|---|---|---|\n",
       "| 2018-01-31 | 2776.42    |       NA   |        NA  | 246.4515   |   NA       | 2776.420   |       NA   |        NA  | 33.60275   | \n",
       "| 2017-12-31 | 2664.34    | 48.93000   |        NA  | 246.5240   | 2.40       | 2663.556   | 48.91561   |        NA  | 32.25322   | \n",
       "| 2017-11-30 | 2593.61    | 48.67667   |        NA  | 246.6690   | 2.35       | 2591.323   | 48.63375   |        NA  | 31.37894   | \n",
       "| 2017-10-31 | 2557.00    | 48.42333   |        NA  | 246.6630   | 2.36       | 2554.808   | 48.38181   |        NA  | 30.92039   | \n",
       "| 2017-09-30 | 2492.84    | 48.17000   | 107.08000  | 246.8190   | 2.20       | 2489.128   | 48.09828   | 106.92056  | 30.16811   | \n",
       "| 2017-08-31 | 2456.22    | 47.85333   | 106.06000  | 245.5190   | 2.21       | 2465.549   | 48.03508   | 106.46282  | 29.91496   | \n",
       "| 2017-07-31 | 2454.10    | 47.53667   | 105.04000  | 244.7860   | 2.32       | 2470.797   | 47.86010   | 105.75468  | 30.00222   | \n",
       "| 2017-06-30 | 2433.99    | 47.22000   | 104.02000  | 244.9550   | 2.19       | 2448.860   | 47.50848   | 104.65549  | 29.74850   | \n",
       "| 2017-05-31 | 2395.35    | 46.94000   | 102.77667  | 244.7330   | 2.30       | 2412.170   | 47.26961   | 103.49836  | 29.31334   | \n",
       "| 2017-04-30 | 2359.31    | 46.66000   | 101.53333  | 244.5240   | 2.30       | 2377.908   | 47.02781   | 102.33369  | 28.90425   | \n",
       "| 2017-03-31 | 2366.82    | 46.38000   | 100.29000  | 243.8010   | 2.48       | 2392.551   | 46.88422   | 101.38031  | 29.08692   | \n",
       "| 2017-02-28 | 2329.91    | 46.15333   |  98.37667  | 243.6030   | 2.42       | 2357.154   | 46.69301   |  99.52701  | 28.65511   | \n",
       "| 2017-01-31 | 2275.12    | 45.92667   |  96.46333  | 242.8390   | 2.43       | 2308.965   | 46.60988   |  97.89833  | 28.06357   | \n",
       "| 2016-12-31 | 2246.63    | 45.70000   |  94.55000  | 241.4320   | 2.49       | 2293.339   | 46.65013   |  96.51574  | 27.86510   | \n",
       "| 2016-11-30 | 2164.99    | 45.47667   |  92.73000  | 241.3530   | 2.14       | 2210.725   | 46.43735   |  94.68889  | 26.85095   | \n",
       "| 2016-10-31 | 2143.02    | 45.25333   |  90.91000  | 241.7290   | 1.76       | 2184.887   | 46.13742   |  92.68605  | 26.52514   | \n",
       "| 2016-09-30 | 2157.69    | 45.03000   |  89.09000  | 241.4280   | 1.63       | 2202.586   | 45.96696   |  90.94374  | 26.72787   | \n",
       "| 2016-08-31 | 2170.95    | 44.84000   |  88.36667  | 240.8490   | 1.56       | 2221.449   | 45.88304   |  90.42220  | 26.94887   | \n",
       "| 2016-07-31 | 2148.90    | 44.65000   |  87.64333  | 240.6280   | 1.50       | 2200.906   | 45.73059   |  89.76441  | 26.69400   | \n",
       "| 2016-06-30 | 2083.89    | 44.46000   |  86.92000  | 241.0180   | 1.64       | 2130.869   | 45.46230   |  88.87952  | 25.84037   | \n",
       "| 2016-05-31 | 2065.55    | 44.26667   |  86.76000  | 240.2290   | 1.81       | 2119.053   | 45.41328   |  89.00729  | 25.69471   | \n",
       "| 2016-04-30 | 2075.54    | 44.07333   |  86.60000  | 239.2610   | 1.81       | 2137.916   | 45.39787   |  89.20259  | 25.92234   | \n",
       "| 2016-03-31 | 2021.95    | 43.88000   |  86.44000  | 238.1320   | 1.89       | 2092.590   | 45.41301   |  89.45991  | 25.37230   | \n",
       "| 2016-02-29 | 1904.42    | 43.71667   |  86.47000  | 237.1110   | 1.78       | 1979.441   | 45.43879   |  89.87631  | 24.00261   | \n",
       "| 2016-01-31 | 1918.60    | 43.55333   |  86.50000  | 236.9160   | 2.09       | 1995.821   | 45.30629   |  89.98149  | 24.20617   | \n",
       "| 2015-12-31 | 2054.08    | 43.39000   |  86.53000  | 236.5250   | 2.24       | 2140.286   | 45.21099   |  90.16150  | 25.96542   | \n",
       "| 2015-11-30 | 2080.62    | 43.09667   |  87.90667  | 237.3360   | 2.26       | 2160.532   | 44.75191   |  91.28295  | 26.22585   | \n",
       "| 2015-10-31 | 2024.81    | 42.80333   |  89.28333  | 237.8380   | 2.07       | 2098.140   | 44.35349   |  92.51680  | 25.49144   | \n",
       "| 2015-09-30 | 1944.41    | 42.51000   |  90.66000  | 237.9450   | 2.17       | 2013.922   | 44.02973   |  93.90108  | 24.49675   | \n",
       "| 2015-08-31 | 2039.87    | 42.25333   |  92.07667  | 238.3160   | 2.17       | 2109.506   | 43.69575   |  95.21993  | 25.69366   | \n",
       "| ... | ... | ... | ... | ... | ... | ... | ... | ... | ... | \n",
       "| 1873-06-30 | 4.98       | 0.3150     | 0.4450     | 12.55923   | 5.534167   | 97.72325   | 6.181290   | 8.732299   | NA         | \n",
       "| 1873-05-31 | 5.05       | 0.3125     | 0.4425     | 12.93981   | 5.543333   | 96.18228   | 5.951874   | 8.427853   | NA         | \n",
       "| 1873-04-30 | 5.04       | 0.3100     | 0.4400     | 13.22522   | 5.552500   | 93.92021   | 5.776838   | 8.199383   | NA         | \n",
       "| 1873-03-31 | 5.11       | 0.3075     | 0.4375     | 13.22522   | 5.561667   | 95.22466   | 5.730251   | 8.152796   | NA         | \n",
       "| 1873-02-28 | 5.15       | 0.3050     | 0.4350     | 13.22522   | 5.570833   | 95.97005   | 5.683663   | 8.106208   | NA         | \n",
       "| 1873-01-31 | 5.11       | 0.3025     | 0.4325     | 12.93981   | 5.580000   | 97.32504   | 5.761414   | 8.237393   | NA         | \n",
       "| 1872-12-31 | 5.07       | 0.3000     | 0.4300     | 12.93981   | 5.561667   | 96.56320   | 5.713799   | 8.189778   | NA         | \n",
       "| 1872-11-30 | 4.95       | 0.2967     | 0.4275     | 13.13014   | 5.543333   | 92.91106   | 5.569032   | 8.024137   | NA         | \n",
       "| 1872-10-31 | 4.97       | 0.2933     | 0.4250     | 12.74948   | 5.525000   | 96.07171   | 5.669584   | 8.215388   | NA         | \n",
       "| 1872-09-30 | 4.95       | 0.2900     | 0.4225     | 13.03497   | 5.506667   | 93.58938   | 5.483014   | 7.988184   | NA         | \n",
       "| 1872-08-31 | 5.04       | 0.2867     | 0.4200     | 12.93981   | 5.488333   | 95.99182   | 5.460487   | 7.999318   | NA         | \n",
       "| 1872-07-31 | 5.10       | 0.2833     | 0.4175     | 12.84464   | 5.470000   | 97.85424   | 5.435707   | 8.010617   | NA         | \n",
       "| 1872-06-30 | 5.13       | 0.2800     | 0.4150     | 13.03497   | 5.451667   | 96.99263   | 5.293945   | 7.846382   | NA         | \n",
       "| 1872-05-31 | 5.18       | 0.2767     | 0.4125     | 13.13014   | 5.433333   | 97.22814   | 5.193634   | 7.742588   | NA         | \n",
       "| 1872-04-30 | 5.18       | 0.2733     | 0.4100     | 13.13014   | 5.415000   | 97.22814   | 5.129817   | 7.695663   | NA         | \n",
       "| 1872-03-31 | 5.04       | 0.2700     | 0.4075     | 12.84464   | 5.396667   | 96.70302   | 5.180519   | 7.818746   | NA         | \n",
       "| 1872-02-29 | 4.88       | 0.2667     | 0.4050     | 12.65439   | 5.378333   | 95.04078   | 5.194135   | 7.887606   | NA         | \n",
       "| 1872-01-31 | 4.86       | 0.2633     | 0.4025     | 12.65439   | 5.360000   | 94.65127   | 5.127918   | 7.838917   | NA         | \n",
       "| 1871-12-31 | 4.74       | 0.2600     | 0.4000     | 12.65439   | 5.356667   | 92.31420   | 5.063648   | 7.790228   | NA         | \n",
       "| 1871-11-30 | 4.64       | 0.2600     | 0.4000     | 12.36890   | 5.353333   | 92.45247   | 5.180526   | 7.970040   | NA         | \n",
       "| 1871-10-31 | 4.59       | 0.2600     | 0.4000     | 12.36890   | 5.350000   | 91.45621   | 5.180526   | 7.970040   | NA         | \n",
       "| 1871-09-30 | 4.84       | 0.2600     | 0.4000     | 12.17865   | 5.346667   | 97.94399   | 5.261454   | 8.094545   | NA         | \n",
       "| 1871-08-31 | 4.79       | 0.2600     | 0.4000     | 11.89323   | 5.343333   | 99.25836   | 5.387719   | 8.288799   | NA         | \n",
       "| 1871-07-31 | 4.73       | 0.2600     | 0.4000     | 12.08348   | 5.340000   | 96.47184   | 5.302892   | 8.158295   | NA         | \n",
       "| 1871-06-30 | 4.82       | 0.2600     | 0.4000     | 12.08348   | 5.336667   | 98.30745   | 5.302892   | 8.158295   | NA         | \n",
       "| 1871-05-31 | 4.86       | 0.2600     | 0.4000     | 12.27381   | 5.333333   | 97.58617   | 5.220659   | 8.031784   | NA         | \n",
       "| 1871-04-30 | 4.74       | 0.2600     | 0.4000     | 12.55923   | 5.330000   | 93.01370   | 5.102017   | 7.849257   | NA         | \n",
       "| 1871-03-31 | 4.61       | 0.2600     | 0.4000     | 13.03497   | 5.326667   | 87.16102   | 4.915806   | 7.562778   | NA         | \n",
       "| 1871-02-28 | 4.50       | 0.2600     | 0.4000     | 12.84464   | 5.323333   | 86.34198   | 4.988648   | 7.674843   | NA         | \n",
       "| 1871-01-31 | 4.44       | 0.2600     | 0.4000     | 12.46406   | 5.320000   | 87.79198   | 5.140972   | 7.909188   | NA         | \n",
       "\n",
       "\n"
      ],
      "text/plain": [
       "     Year       S&P Composite Dividend Earnings  CPI      Long Interest Rate\n",
       "1    2018-01-31 2776.42             NA        NA 246.4515   NA              \n",
       "2    2017-12-31 2664.34       48.93000        NA 246.5240 2.40              \n",
       "3    2017-11-30 2593.61       48.67667        NA 246.6690 2.35              \n",
       "4    2017-10-31 2557.00       48.42333        NA 246.6630 2.36              \n",
       "5    2017-09-30 2492.84       48.17000 107.08000 246.8190 2.20              \n",
       "6    2017-08-31 2456.22       47.85333 106.06000 245.5190 2.21              \n",
       "7    2017-07-31 2454.10       47.53667 105.04000 244.7860 2.32              \n",
       "8    2017-06-30 2433.99       47.22000 104.02000 244.9550 2.19              \n",
       "9    2017-05-31 2395.35       46.94000 102.77667 244.7330 2.30              \n",
       "10   2017-04-30 2359.31       46.66000 101.53333 244.5240 2.30              \n",
       "11   2017-03-31 2366.82       46.38000 100.29000 243.8010 2.48              \n",
       "12   2017-02-28 2329.91       46.15333  98.37667 243.6030 2.42              \n",
       "13   2017-01-31 2275.12       45.92667  96.46333 242.8390 2.43              \n",
       "14   2016-12-31 2246.63       45.70000  94.55000 241.4320 2.49              \n",
       "15   2016-11-30 2164.99       45.47667  92.73000 241.3530 2.14              \n",
       "16   2016-10-31 2143.02       45.25333  90.91000 241.7290 1.76              \n",
       "17   2016-09-30 2157.69       45.03000  89.09000 241.4280 1.63              \n",
       "18   2016-08-31 2170.95       44.84000  88.36667 240.8490 1.56              \n",
       "19   2016-07-31 2148.90       44.65000  87.64333 240.6280 1.50              \n",
       "20   2016-06-30 2083.89       44.46000  86.92000 241.0180 1.64              \n",
       "21   2016-05-31 2065.55       44.26667  86.76000 240.2290 1.81              \n",
       "22   2016-04-30 2075.54       44.07333  86.60000 239.2610 1.81              \n",
       "23   2016-03-31 2021.95       43.88000  86.44000 238.1320 1.89              \n",
       "24   2016-02-29 1904.42       43.71667  86.47000 237.1110 1.78              \n",
       "25   2016-01-31 1918.60       43.55333  86.50000 236.9160 2.09              \n",
       "26   2015-12-31 2054.08       43.39000  86.53000 236.5250 2.24              \n",
       "27   2015-11-30 2080.62       43.09667  87.90667 237.3360 2.26              \n",
       "28   2015-10-31 2024.81       42.80333  89.28333 237.8380 2.07              \n",
       "29   2015-09-30 1944.41       42.51000  90.66000 237.9450 2.17              \n",
       "30   2015-08-31 2039.87       42.25333  92.07667 238.3160 2.17              \n",
       "...  ...        ...           ...      ...       ...      ...               \n",
       "1736 1873-06-30 4.98          0.3150   0.4450    12.55923 5.534167          \n",
       "1737 1873-05-31 5.05          0.3125   0.4425    12.93981 5.543333          \n",
       "1738 1873-04-30 5.04          0.3100   0.4400    13.22522 5.552500          \n",
       "1739 1873-03-31 5.11          0.3075   0.4375    13.22522 5.561667          \n",
       "1740 1873-02-28 5.15          0.3050   0.4350    13.22522 5.570833          \n",
       "1741 1873-01-31 5.11          0.3025   0.4325    12.93981 5.580000          \n",
       "1742 1872-12-31 5.07          0.3000   0.4300    12.93981 5.561667          \n",
       "1743 1872-11-30 4.95          0.2967   0.4275    13.13014 5.543333          \n",
       "1744 1872-10-31 4.97          0.2933   0.4250    12.74948 5.525000          \n",
       "1745 1872-09-30 4.95          0.2900   0.4225    13.03497 5.506667          \n",
       "1746 1872-08-31 5.04          0.2867   0.4200    12.93981 5.488333          \n",
       "1747 1872-07-31 5.10          0.2833   0.4175    12.84464 5.470000          \n",
       "1748 1872-06-30 5.13          0.2800   0.4150    13.03497 5.451667          \n",
       "1749 1872-05-31 5.18          0.2767   0.4125    13.13014 5.433333          \n",
       "1750 1872-04-30 5.18          0.2733   0.4100    13.13014 5.415000          \n",
       "1751 1872-03-31 5.04          0.2700   0.4075    12.84464 5.396667          \n",
       "1752 1872-02-29 4.88          0.2667   0.4050    12.65439 5.378333          \n",
       "1753 1872-01-31 4.86          0.2633   0.4025    12.65439 5.360000          \n",
       "1754 1871-12-31 4.74          0.2600   0.4000    12.65439 5.356667          \n",
       "1755 1871-11-30 4.64          0.2600   0.4000    12.36890 5.353333          \n",
       "1756 1871-10-31 4.59          0.2600   0.4000    12.36890 5.350000          \n",
       "1757 1871-09-30 4.84          0.2600   0.4000    12.17865 5.346667          \n",
       "1758 1871-08-31 4.79          0.2600   0.4000    11.89323 5.343333          \n",
       "1759 1871-07-31 4.73          0.2600   0.4000    12.08348 5.340000          \n",
       "1760 1871-06-30 4.82          0.2600   0.4000    12.08348 5.336667          \n",
       "1761 1871-05-31 4.86          0.2600   0.4000    12.27381 5.333333          \n",
       "1762 1871-04-30 4.74          0.2600   0.4000    12.55923 5.330000          \n",
       "1763 1871-03-31 4.61          0.2600   0.4000    13.03497 5.326667          \n",
       "1764 1871-02-28 4.50          0.2600   0.4000    12.84464 5.323333          \n",
       "1765 1871-01-31 4.44          0.2600   0.4000    12.46406 5.320000          \n",
       "     Real Price Real Dividend Real Earnings Cyclically Adjusted PE Ratio\n",
       "1    2776.420         NA             NA     33.60275                    \n",
       "2    2663.556   48.91561             NA     32.25322                    \n",
       "3    2591.323   48.63375             NA     31.37894                    \n",
       "4    2554.808   48.38181             NA     30.92039                    \n",
       "5    2489.128   48.09828      106.92056     30.16811                    \n",
       "6    2465.549   48.03508      106.46282     29.91496                    \n",
       "7    2470.797   47.86010      105.75468     30.00222                    \n",
       "8    2448.860   47.50848      104.65549     29.74850                    \n",
       "9    2412.170   47.26961      103.49836     29.31334                    \n",
       "10   2377.908   47.02781      102.33369     28.90425                    \n",
       "11   2392.551   46.88422      101.38031     29.08692                    \n",
       "12   2357.154   46.69301       99.52701     28.65511                    \n",
       "13   2308.965   46.60988       97.89833     28.06357                    \n",
       "14   2293.339   46.65013       96.51574     27.86510                    \n",
       "15   2210.725   46.43735       94.68889     26.85095                    \n",
       "16   2184.887   46.13742       92.68605     26.52514                    \n",
       "17   2202.586   45.96696       90.94374     26.72787                    \n",
       "18   2221.449   45.88304       90.42220     26.94887                    \n",
       "19   2200.906   45.73059       89.76441     26.69400                    \n",
       "20   2130.869   45.46230       88.87952     25.84037                    \n",
       "21   2119.053   45.41328       89.00729     25.69471                    \n",
       "22   2137.916   45.39787       89.20259     25.92234                    \n",
       "23   2092.590   45.41301       89.45991     25.37230                    \n",
       "24   1979.441   45.43879       89.87631     24.00261                    \n",
       "25   1995.821   45.30629       89.98149     24.20617                    \n",
       "26   2140.286   45.21099       90.16150     25.96542                    \n",
       "27   2160.532   44.75191       91.28295     26.22585                    \n",
       "28   2098.140   44.35349       92.51680     25.49144                    \n",
       "29   2013.922   44.02973       93.90108     24.49675                    \n",
       "30   2109.506   43.69575       95.21993     25.69366                    \n",
       "...  ...        ...           ...           ...                         \n",
       "1736 97.72325   6.181290      8.732299      NA                          \n",
       "1737 96.18228   5.951874      8.427853      NA                          \n",
       "1738 93.92021   5.776838      8.199383      NA                          \n",
       "1739 95.22466   5.730251      8.152796      NA                          \n",
       "1740 95.97005   5.683663      8.106208      NA                          \n",
       "1741 97.32504   5.761414      8.237393      NA                          \n",
       "1742 96.56320   5.713799      8.189778      NA                          \n",
       "1743 92.91106   5.569032      8.024137      NA                          \n",
       "1744 96.07171   5.669584      8.215388      NA                          \n",
       "1745 93.58938   5.483014      7.988184      NA                          \n",
       "1746 95.99182   5.460487      7.999318      NA                          \n",
       "1747 97.85424   5.435707      8.010617      NA                          \n",
       "1748 96.99263   5.293945      7.846382      NA                          \n",
       "1749 97.22814   5.193634      7.742588      NA                          \n",
       "1750 97.22814   5.129817      7.695663      NA                          \n",
       "1751 96.70302   5.180519      7.818746      NA                          \n",
       "1752 95.04078   5.194135      7.887606      NA                          \n",
       "1753 94.65127   5.127918      7.838917      NA                          \n",
       "1754 92.31420   5.063648      7.790228      NA                          \n",
       "1755 92.45247   5.180526      7.970040      NA                          \n",
       "1756 91.45621   5.180526      7.970040      NA                          \n",
       "1757 97.94399   5.261454      8.094545      NA                          \n",
       "1758 99.25836   5.387719      8.288799      NA                          \n",
       "1759 96.47184   5.302892      8.158295      NA                          \n",
       "1760 98.30745   5.302892      8.158295      NA                          \n",
       "1761 97.58617   5.220659      8.031784      NA                          \n",
       "1762 93.01370   5.102017      7.849257      NA                          \n",
       "1763 87.16102   4.915806      7.562778      NA                          \n",
       "1764 86.34198   4.988648      7.674843      NA                          \n",
       "1765 87.79198   5.140972      7.909188      NA                          "
      ]
     },
     "metadata": {},
     "output_type": "display_data"
    }
   ],
   "source": [
    "#now let's try downloading data and writing to a variable:\n",
    "data <- Quandl(\"YALE/SPCOMP\")\n",
    "data"
   ]
  },
  {
   "cell_type": "code",
   "execution_count": 8,
   "metadata": {},
   "outputs": [
    {
     "name": "stdout",
     "output_type": "stream",
     "text": [
      "'data.frame':\t3 obs. of  3 variables:\n",
      " $ employee : Factor w/ 3 levels \"John Doe\",\"Jolie Hope\",..: 1 3 2\n",
      " $ salary   : num  21000 23400 26800\n",
      " $ startdate: Date, format: \"2010-11-01\" \"2008-03-25\" ...\n"
     ]
    }
   ],
   "source": [
    "# working with R vectors and dataframe: http://www.dummies.com/programming/r/how-to-create-a-data-frame-from-scratch-in-r/\n",
    "# we make 3 vectors:\n",
    "employee <- c(\n",
    "    'John Doe',\n",
    "    'Peter Gynn',\n",
    "    'Jolie Hope'\n",
    "            )\n",
    "salary <- c(21000, 23400, 26800)\n",
    "startdate <- as.Date(c('2010-11-1','2008-3-25','2007-3-14'))\n",
    "\n",
    "#we combine into 1 dataframe called employ:\n",
    "employ.data <- data.frame(employee, salary, startdate)\n",
    "\n",
    "#we output contents of dataframe employ:\n",
    "str(employ.data)"
   ]
  },
  {
   "cell_type": "code",
   "execution_count": 19,
   "metadata": {},
   "outputs": [
    {
     "data": {
      "text/html": [
       "'character'"
      ],
      "text/latex": [
       "'character'"
      ],
      "text/markdown": [
       "'character'"
      ],
      "text/plain": [
       "[1] \"character\""
      ]
     },
     "metadata": {},
     "output_type": "display_data"
    },
    {
     "data": {
      "text/html": [
       "554.214155583566"
      ],
      "text/latex": [
       "554.214155583566"
      ],
      "text/markdown": [
       "554.214155583566"
      ],
      "text/plain": [
       "[1] 554.2142"
      ]
     },
     "metadata": {},
     "output_type": "display_data"
    },
    {
     "data": {
      "text/html": [
       "554.214155583566"
      ],
      "text/latex": [
       "554.214155583566"
      ],
      "text/markdown": [
       "554.214155583566"
      ],
      "text/plain": [
       "[1] 554.2142"
      ]
     },
     "metadata": {},
     "output_type": "display_data"
    },
    {
     "name": "stderr",
     "output_type": "stream",
     "text": [
      "Warning message in FUN(newX[, i], ...):\n",
      "\"NAs introduced by coercion\""
     ]
    },
    {
     "data": {
      "text/html": [
       "<dl class=dl-horizontal>\n",
       "\t<dt>Year</dt>\n",
       "\t\t<dd>&lt;NA&gt;</dd>\n",
       "\t<dt>S&amp;P Composite</dt>\n",
       "\t\t<dd>254693.922903327</dd>\n",
       "\t<dt>Dividend</dt>\n",
       "\t\t<dd>89.9359212763772</dd>\n",
       "\t<dt>Earnings</dt>\n",
       "\t\t<dd>554.214155574693</dd>\n",
       "\t<dt>CPI</dt>\n",
       "\t\t<dd>4960.02632326968</dd>\n",
       "\t<dt>Long Interest Rate</dt>\n",
       "\t\t<dd>5.24705059910747</dd>\n",
       "\t<dt>Real Price</dt>\n",
       "\t\t<dd>280921.377475903</dd>\n",
       "\t<dt>Real Dividend</dt>\n",
       "\t\t<dd>68.0193511689268</dd>\n",
       "\t<dt>Real Earnings</dt>\n",
       "\t\t<dd>545.434737453446</dd>\n",
       "\t<dt>Cyclically Adjusted PE Ratio</dt>\n",
       "\t\t<dd>45.0517836476518</dd>\n",
       "</dl>\n"
      ],
      "text/latex": [
       "\\begin{description*}\n",
       "\\item[Year] <NA>\n",
       "\\item[S\\textbackslash{}\\&P Composite] 254693.922903327\n",
       "\\item[Dividend] 89.9359212763772\n",
       "\\item[Earnings] 554.214155574693\n",
       "\\item[CPI] 4960.02632326968\n",
       "\\item[Long Interest Rate] 5.24705059910747\n",
       "\\item[Real Price] 280921.377475903\n",
       "\\item[Real Dividend] 68.0193511689268\n",
       "\\item[Real Earnings] 545.434737453446\n",
       "\\item[Cyclically Adjusted PE Ratio] 45.0517836476518\n",
       "\\end{description*}\n"
      ],
      "text/markdown": [
       "Year\n",
       ":   &lt;NA&gt;S&amp;amp;P Composite\n",
       ":   254693.922903327Dividend\n",
       ":   89.9359212763772Earnings\n",
       ":   554.214155574693CPI\n",
       ":   4960.02632326968Long Interest Rate\n",
       ":   5.24705059910747Real Price\n",
       ":   280921.377475903Real Dividend\n",
       ":   68.0193511689268Real Earnings\n",
       ":   545.434737453446Cyclically Adjusted PE Ratio\n",
       ":   45.0517836476518\n",
       "\n"
      ],
      "text/plain": [
       "                        Year                S&P Composite \n",
       "                          NA                 2.546939e+05 \n",
       "                    Dividend                     Earnings \n",
       "                8.993592e+01                 5.542142e+02 \n",
       "                         CPI           Long Interest Rate \n",
       "                4.960026e+03                 5.247051e+00 \n",
       "                  Real Price                Real Dividend \n",
       "                2.809214e+05                 6.801935e+01 \n",
       "               Real Earnings Cyclically Adjusted PE Ratio \n",
       "                5.454347e+02                 4.505178e+01 "
      ]
     },
     "metadata": {},
     "output_type": "display_data"
    }
   ],
   "source": [
    "#LET'S WORK WITH R STATISTICS.\n",
    "# HERE IS A BOOK: http://r4ds.had.co.nz/index.html\n",
    "\n",
    "#first we need to learn how to mask NA values:\n",
    "#https://stackoverflow.com/questions/2613420/handling-missing-incomplete-data-in-r-is-there-function-to-mask-but-not-remove\n",
    "#use the na.rm=T flag\n",
    "# v = mean( c(5, NA, 6, 12, NA, 87, 9, NA, 43, 67), na.rm=T)\n",
    "#       (5, 6, 12, 87, 9, 43, 67)\n",
    "typeof(colnames(data))\n",
    "\n",
    "\n",
    "\n"
   ]
  }
 ],
 "metadata": {
  "kernelspec": {
   "display_name": "R",
   "language": "R",
   "name": "ir"
  },
  "language_info": {
   "codemirror_mode": "r",
   "file_extension": ".r",
   "mimetype": "text/x-r-source",
   "name": "R",
   "pygments_lexer": "r",
   "version": "3.4.2"
  }
 },
 "nbformat": 4,
 "nbformat_minor": 2
}
