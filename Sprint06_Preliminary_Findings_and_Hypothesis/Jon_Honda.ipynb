{
 "cells": [
  {
   "cell_type": "raw",
   "metadata": {
    "collapsed": true
   },
   "source": [
    "# Preliminary Findings and Hypotheses Sprint Journal for Jon Honda"
   ]
  },
  {
   "cell_type": "markdown",
   "metadata": {},
   "source": [
    "## Part 1 (Week 1): Pair EDA and Concept Demonstration\n",
    "\n",
    "### 1. Exploratory Data Analysis Concepts to use or test on this project\n",
    "During week 1, I will explore each of the following EDA concepts topically. I will identify items that I know well, items that I know somewhat well, and items that I don't know at all. I will use this exploration to further identify a subset of these concepts to deeply explore during week 2."
   ]
  },
  {
   "cell_type": "markdown",
   "metadata": {},
   "source": [
    "#### Here are the concepts i will explore (defined as an R vector):"
   ]
  },
  {
   "cell_type": "code",
   "execution_count": 37,
   "metadata": {
    "collapsed": true
   },
   "outputs": [],
   "source": [
    "EDA_Concepts <- c(\n",
    "    'sample',\n",
    "    'statistic',\n",
    "    'population',\n",
    "    'parameter',\n",
    "    'central tendency',\n",
    "    'variation',\n",
    "     'univariate',\n",
    "     'multivariate',\n",
    "     'distribution',\n",
    "     'categorical variable',\n",
    "     'continuous / quantitative variable',\n",
    "     'variance',\n",
    "     'standard deviation',\n",
    "     'interquartile range',\n",
    "     'skewness',\n",
    "     'kurtosis',\n",
    "     'histogram',\n",
    "     'stem and leaf',\n",
    "     'box plot',\n",
    "     'outlier',\n",
    "     'cross tabulation',\n",
    "     'anova',\n",
    "     'correlation',\n",
    "     'covariance'\n",
    ")"
   ]
  },
  {
   "cell_type": "markdown",
   "metadata": {},
   "source": [
    "#### Before doing my breadth first analysis, here is how I feel about each concept on a 1 to 5 scale; "
   ]
  },
  {
   "cell_type": "code",
   "execution_count": 38,
   "metadata": {},
   "outputs": [
    {
     "data": {
      "text/html": [
       "<table>\n",
       "<thead><tr><th scope=col>EDA_Concepts</th><th scope=col>PreBreadth_Knowledge</th></tr></thead>\n",
       "<tbody>\n",
       "\t<tr><td>sample                            </td><td>5                                 </td></tr>\n",
       "\t<tr><td>statistic                         </td><td>5                                 </td></tr>\n",
       "\t<tr><td>population                        </td><td>5                                 </td></tr>\n",
       "\t<tr><td>parameter                         </td><td>5                                 </td></tr>\n",
       "\t<tr><td>central tendency                  </td><td>5                                 </td></tr>\n",
       "\t<tr><td>variation                         </td><td>4                                 </td></tr>\n",
       "\t<tr><td>univariate                        </td><td>5                                 </td></tr>\n",
       "\t<tr><td>multivariate                      </td><td>3                                 </td></tr>\n",
       "\t<tr><td>distribution                      </td><td>4                                 </td></tr>\n",
       "\t<tr><td>categorical variable              </td><td>2                                 </td></tr>\n",
       "\t<tr><td>continuous / quantitative variable</td><td>5                                 </td></tr>\n",
       "\t<tr><td>variance                          </td><td>5                                 </td></tr>\n",
       "\t<tr><td>standard deviation                </td><td>5                                 </td></tr>\n",
       "\t<tr><td>interquartile range               </td><td>3                                 </td></tr>\n",
       "\t<tr><td>skewness                          </td><td>2                                 </td></tr>\n",
       "\t<tr><td>kurtosis                          </td><td>1                                 </td></tr>\n",
       "\t<tr><td>histogram                         </td><td>5                                 </td></tr>\n",
       "\t<tr><td>stem and leaf                     </td><td>1                                 </td></tr>\n",
       "\t<tr><td>box plot                          </td><td>2                                 </td></tr>\n",
       "\t<tr><td>outlier                           </td><td>5                                 </td></tr>\n",
       "\t<tr><td>cross tabulation                  </td><td>1                                 </td></tr>\n",
       "\t<tr><td>anova                             </td><td>2                                 </td></tr>\n",
       "\t<tr><td>correlation                       </td><td>3                                 </td></tr>\n",
       "\t<tr><td>covariance                        </td><td>5                                 </td></tr>\n",
       "</tbody>\n",
       "</table>\n"
      ],
      "text/latex": [
       "\\begin{tabular}{r|ll}\n",
       " EDA\\_Concepts & PreBreadth\\_Knowledge\\\\\n",
       "\\hline\n",
       "\t sample                             & 5                                 \\\\\n",
       "\t statistic                          & 5                                 \\\\\n",
       "\t population                         & 5                                 \\\\\n",
       "\t parameter                          & 5                                 \\\\\n",
       "\t central tendency                   & 5                                 \\\\\n",
       "\t variation                          & 4                                 \\\\\n",
       "\t univariate                         & 5                                 \\\\\n",
       "\t multivariate                       & 3                                 \\\\\n",
       "\t distribution                       & 4                                 \\\\\n",
       "\t categorical variable               & 2                                 \\\\\n",
       "\t continuous / quantitative variable & 5                                 \\\\\n",
       "\t variance                           & 5                                 \\\\\n",
       "\t standard deviation                 & 5                                 \\\\\n",
       "\t interquartile range                & 3                                 \\\\\n",
       "\t skewness                           & 2                                 \\\\\n",
       "\t kurtosis                           & 1                                 \\\\\n",
       "\t histogram                          & 5                                 \\\\\n",
       "\t stem and leaf                      & 1                                 \\\\\n",
       "\t box plot                           & 2                                 \\\\\n",
       "\t outlier                            & 5                                 \\\\\n",
       "\t cross tabulation                   & 1                                 \\\\\n",
       "\t anova                              & 2                                 \\\\\n",
       "\t correlation                        & 3                                 \\\\\n",
       "\t covariance                         & 5                                 \\\\\n",
       "\\end{tabular}\n"
      ],
      "text/markdown": [
       "\n",
       "EDA_Concepts | PreBreadth_Knowledge | \n",
       "|---|---|---|---|---|---|---|---|---|---|---|---|---|---|---|---|---|---|---|---|---|---|---|---|\n",
       "| sample                             | 5                                  | \n",
       "| statistic                          | 5                                  | \n",
       "| population                         | 5                                  | \n",
       "| parameter                          | 5                                  | \n",
       "| central tendency                   | 5                                  | \n",
       "| variation                          | 4                                  | \n",
       "| univariate                         | 5                                  | \n",
       "| multivariate                       | 3                                  | \n",
       "| distribution                       | 4                                  | \n",
       "| categorical variable               | 2                                  | \n",
       "| continuous / quantitative variable | 5                                  | \n",
       "| variance                           | 5                                  | \n",
       "| standard deviation                 | 5                                  | \n",
       "| interquartile range                | 3                                  | \n",
       "| skewness                           | 2                                  | \n",
       "| kurtosis                           | 1                                  | \n",
       "| histogram                          | 5                                  | \n",
       "| stem and leaf                      | 1                                  | \n",
       "| box plot                           | 2                                  | \n",
       "| outlier                            | 5                                  | \n",
       "| cross tabulation                   | 1                                  | \n",
       "| anova                              | 2                                  | \n",
       "| correlation                        | 3                                  | \n",
       "| covariance                         | 5                                  | \n",
       "\n",
       "\n"
      ],
      "text/plain": [
       "   EDA_Concepts                       PreBreadth_Knowledge\n",
       "1  sample                             5                   \n",
       "2  statistic                          5                   \n",
       "3  population                         5                   \n",
       "4  parameter                          5                   \n",
       "5  central tendency                   5                   \n",
       "6  variation                          4                   \n",
       "7  univariate                         5                   \n",
       "8  multivariate                       3                   \n",
       "9  distribution                       4                   \n",
       "10 categorical variable               2                   \n",
       "11 continuous / quantitative variable 5                   \n",
       "12 variance                           5                   \n",
       "13 standard deviation                 5                   \n",
       "14 interquartile range                3                   \n",
       "15 skewness                           2                   \n",
       "16 kurtosis                           1                   \n",
       "17 histogram                          5                   \n",
       "18 stem and leaf                      1                   \n",
       "19 box plot                           2                   \n",
       "20 outlier                            5                   \n",
       "21 cross tabulation                   1                   \n",
       "22 anova                              2                   \n",
       "23 correlation                        3                   \n",
       "24 covariance                         5                   "
      ]
     },
     "metadata": {},
     "output_type": "display_data"
    }
   ],
   "source": [
    "PreBreadth_Knowledge <- rep(1, length(EDA_Concepts)) #initialize the vector\n",
    "\n",
    "#now let's assign values:\n",
    "PreBreadth_Knowledge[match(c('sample'),EDA_Concepts)] = 5\n",
    "PreBreadth_Knowledge[match(c('statistic'),EDA_Concepts)] = 5\n",
    "PreBreadth_Knowledge[match(c('population'),EDA_Concepts)] = 5\n",
    "PreBreadth_Knowledge[match(c('parameter'),EDA_Concepts)] = 5\n",
    "PreBreadth_Knowledge[match(c('central tendency'),EDA_Concepts)] = 5\n",
    "PreBreadth_Knowledge[match(c('variation'),EDA_Concepts)] = 4\n",
    "PreBreadth_Knowledge[match(c('univariate'),EDA_Concepts)] = 5\n",
    "PreBreadth_Knowledge[match(c('multivariate'),EDA_Concepts)] = 3\n",
    "PreBreadth_Knowledge[match(c('distribution'),EDA_Concepts)] = 4 \n",
    "PreBreadth_Knowledge[match(c('categorical variable'),EDA_Concepts)] = 2\n",
    "PreBreadth_Knowledge[match(c('continuous / quantitative variable'),EDA_Concepts)] = 5\n",
    "PreBreadth_Knowledge[match(c('variance'),EDA_Concepts)] = 5\n",
    "PreBreadth_Knowledge[match(c('standard deviation'),EDA_Concepts)] = 5\n",
    "PreBreadth_Knowledge[match(c('interquartile range'),EDA_Concepts)] = 3\n",
    "PreBreadth_Knowledge[match(c('skewness'),EDA_Concepts)] = 2\n",
    "PreBreadth_Knowledge[match(c('kurtosis'),EDA_Concepts)] = 1\n",
    "PreBreadth_Knowledge[match(c('histogram'),EDA_Concepts)] = 5\n",
    "PreBreadth_Knowledge[match(c('stem and leaf'),EDA_Concepts)] = 1\n",
    "PreBreadth_Knowledge[match(c('box plot'),EDA_Concepts)] = 2\n",
    "PreBreadth_Knowledge[match(c('outlier'),EDA_Concepts)] = 5\n",
    "PreBreadth_Knowledge[match(c('cross tabulation'),EDA_Concepts)] = 1\n",
    "PreBreadth_Knowledge[match(c('anova'),EDA_Concepts)] = 2\n",
    "PreBreadth_Knowledge[match(c('correlation'),EDA_Concepts)] = 5\n",
    "PreBreadth_Knowledge[match(c('covariance'),EDA_Concepts)] = 3\n",
    "\n",
    "data.frame(EDA_Concepts,PreBreadth_Knowledge) #display my knowledge\n"
   ]
  },
  {
   "cell_type": "code",
   "execution_count": null,
   "metadata": {
    "collapsed": true
   },
   "outputs": [],
   "source": []
  },
  {
   "cell_type": "markdown",
   "metadata": {},
   "source": [
    "### 2. Professionally Relevant Datasets\n",
    "I have an interest in financial analysis and company valuations. I will work with Quandl data sets:\n",
    "\n",
    "1. WIKI dataset (closing stock prices).  I'll select 1 company\n",
    "2. Federal reserve data set: quarterly GDP (FRED/GDP)\n",
    "3. Yale Dept of Economics: S&P 500 data (YALE/SPCOMP)\n",
    "\n",
    "### 3. EDA Steps for your partner to explore your dataset(s)\n",
    "The first part of this sprint project will be to trade datasets with a partner. The idea for the exercise is to think about what you think might be interesting about a dataset and create an EDA plan to explore it. Except the first pass will be for your partner to carry out your EDA plan and report back to you with preliminary findings.\n",
    "\n",
    "Create a new Jupyter notebook (python or R) that loads your dataset and includes cells for the steps you want your partner to take and empty cells for the code to complete them as well as empty cells where preliminary findings should go.\n",
    "\n",
    "### 4. Carrying out your Partner's EDA Steps\n",
    "Complete the EDA process notebook your partner created\n",
    "\n",
    "### 5. Applying your EDA Concepts (step 1) to your partner's dataset. \n",
    "Use your partner's dataset as a basis to explore the concepts for this week\n",
    "\n",
    "## Part 2 (Week 2): EDA of your Dataset\n",
    "Walk through a polished Exploratory Data Analysis exercise in your personal repo. This can include the steps that you laid out originally, any new steps and new ideas you have, or any new techniques you developed from the concepts in (5.) above. \n",
    "\n",
    "Your final deliverable repo should include a \n",
    "- 1.) readme and a script file OR\n",
    "- 2.) a notebook \n",
    "\n",
    "that illustrates your analysis and leads to preliminary findings and hypotheses about the dataset for future investigation or more thorough analysis."
   ]
  },
  {
   "cell_type": "markdown",
   "metadata": {},
   "source": [
    "# Key Concepts"
   ]
  },
  {
   "cell_type": "markdown",
   "metadata": {},
   "source": [
    "I'm using Quandl data sets. I need to load them in:"
   ]
  },
  {
   "cell_type": "code",
   "execution_count": 39,
   "metadata": {
    "collapsed": true,
    "scrolled": false
   },
   "outputs": [],
   "source": [
    "library(Quandl)\n",
    "\n",
    "\n",
    "Quandl.api_key(\"L8zt1AhNiQi4gufsXy4g\")\n",
    "Qdata <- Quandl(\"YALE/SPCOMP\")\n",
    "# library(dplyr)\n",
    "# make_names<-function(name)\n",
    "#   {\n",
    "#     name <- as.character(name)\n",
    "#     if(contains(\"-\", vars = name))\n",
    "#        sub(\"-\", \"_\", name)\n",
    "#   }\n",
    "\n",
    "#tidy the data:\n",
    "tidy.Qdata <- make.names(names(Qdata), unique=TRUE)\n",
    "Qdata<-Qdata[sapply(Qdata, is.numeric)]  #only include numeric data in dataframe"
   ]
  },
  {
   "cell_type": "markdown",
   "metadata": {},
   "source": [
    "## Concept 1: Variation  \n",
    "https://stats.stackexchange.com/questions/88348/is-variation-the-same-as-variance  \n",
    "Variation, unlike variance, is not the name of some specific quantity (however, Coefficient of variation is). It is a generic term, like variability. It is just amount of variability which can be measured by various quantities (most popular of them being variance)."
   ]
  },
  {
   "cell_type": "markdown",
   "metadata": {},
   "source": [
    "## Concept 2: Variance  \n",
    "Variance is one way to measure variation.\n",
    "from http://www.icoachmath.com/math_dictionary/variance.html  \n",
    "Variance is a statistical measure that tells us how measured data vary from the average value of the set of data.\n",
    "In other words, variance is the mean of the squares of the deviations from the arithmetic mean of a data set.\n",
    "\n",
    "### *Explanation of this concept relative to your data set here *\n",
    "for my dataset, variation tells us how much each column's data varies from the average.\n",
    "### For more investigation:  BUT what does this actually mean? What is it telling you about the data?\n",
    "e.g. for Dividend, if the mean is 5, and variance is 89.9 does this mean my data varies a lot?"
   ]
  },
  {
   "cell_type": "code",
   "execution_count": 40,
   "metadata": {},
   "outputs": [
    {
     "name": "stdout",
     "output_type": "stream",
     "text": [
      "[1] \"This is the variation for each column:\"\n"
     ]
    },
    {
     "data": {
      "text/html": [
       "<dl class=dl-horizontal>\n",
       "\t<dt>S&amp;P Composite</dt>\n",
       "\t\t<dd>258149.370633753</dd>\n",
       "\t<dt>Dividend</dt>\n",
       "\t\t<dd>89.935921276549</dd>\n",
       "\t<dt>Earnings</dt>\n",
       "\t\t<dd>554.214155583566</dd>\n",
       "\t<dt>CPI</dt>\n",
       "\t\t<dd>4977.44646326315</dd>\n",
       "\t<dt>Long Interest Rate</dt>\n",
       "\t\t<dd>5.24517481974798</dd>\n",
       "\t<dt>Real Price</dt>\n",
       "\t\t<dd>283617.674938671</dd>\n",
       "\t<dt>Real Dividend</dt>\n",
       "\t\t<dd>67.9993430607733</dd>\n",
       "\t<dt>Real Earnings</dt>\n",
       "\t\t<dd>545.274295646729</dd>\n",
       "\t<dt>Cyclically Adjusted PE Ratio</dt>\n",
       "\t\t<dd>45.1947947582873</dd>\n",
       "</dl>\n"
      ],
      "text/latex": [
       "\\begin{description*}\n",
       "\\item[S\\textbackslash{}\\&P Composite] 258149.370633753\n",
       "\\item[Dividend] 89.935921276549\n",
       "\\item[Earnings] 554.214155583566\n",
       "\\item[CPI] 4977.44646326315\n",
       "\\item[Long Interest Rate] 5.24517481974798\n",
       "\\item[Real Price] 283617.674938671\n",
       "\\item[Real Dividend] 67.9993430607733\n",
       "\\item[Real Earnings] 545.274295646729\n",
       "\\item[Cyclically Adjusted PE Ratio] 45.1947947582873\n",
       "\\end{description*}\n"
      ],
      "text/markdown": [
       "S&amp;amp;P Composite\n",
       ":   258149.370633753Dividend\n",
       ":   89.935921276549Earnings\n",
       ":   554.214155583566CPI\n",
       ":   4977.44646326315Long Interest Rate\n",
       ":   5.24517481974798Real Price\n",
       ":   283617.674938671Real Dividend\n",
       ":   67.9993430607733Real Earnings\n",
       ":   545.274295646729Cyclically Adjusted PE Ratio\n",
       ":   45.1947947582873\n",
       "\n"
      ],
      "text/plain": [
       "               S&P Composite                     Dividend \n",
       "                2.581494e+05                 8.993592e+01 \n",
       "                    Earnings                          CPI \n",
       "                5.542142e+02                 4.977446e+03 \n",
       "          Long Interest Rate                   Real Price \n",
       "                5.245175e+00                 2.836177e+05 \n",
       "               Real Dividend                Real Earnings \n",
       "                6.799934e+01                 5.452743e+02 \n",
       "Cyclically Adjusted PE Ratio \n",
       "                4.519479e+01 "
      ]
     },
     "metadata": {},
     "output_type": "display_data"
    },
    {
     "name": "stdout",
     "output_type": "stream",
     "text": [
      "[1] \"This is the mean for each column\"\n"
     ]
    },
    {
     "data": {
      "text/html": [
       "<dl class=dl-horizontal>\n",
       "\t<dt>S&amp;P Composite</dt>\n",
       "\t\t<dd>255.672848244621</dd>\n",
       "\t<dt>Dividend</dt>\n",
       "\t\t<dd>5.56162982029478</dd>\n",
       "\t<dt>Earnings</dt>\n",
       "\t\t<dd>12.6462109392391</dd>\n",
       "\t<dt>CPI</dt>\n",
       "\t\t<dd>57.5069214282565</dd>\n",
       "\t<dt>Long Interest Rate</dt>\n",
       "\t\t<dd>4.57145951302378</dd>\n",
       "\t<dt>Real Price</dt>\n",
       "\t\t<dd>499.031472066405</dd>\n",
       "\t<dt>Real Dividend</dt>\n",
       "\t\t<dd>14.8936746410829</dd>\n",
       "\t<dt>Real Earnings</dt>\n",
       "\t\t<dd>29.3122584231264</dd>\n",
       "\t<dt>Cyclically Adjusted PE Ratio</dt>\n",
       "\t\t<dd>16.8347938204382</dd>\n",
       "</dl>\n"
      ],
      "text/latex": [
       "\\begin{description*}\n",
       "\\item[S\\textbackslash{}\\&P Composite] 255.672848244621\n",
       "\\item[Dividend] 5.56162982029478\n",
       "\\item[Earnings] 12.6462109392391\n",
       "\\item[CPI] 57.5069214282565\n",
       "\\item[Long Interest Rate] 4.57145951302378\n",
       "\\item[Real Price] 499.031472066405\n",
       "\\item[Real Dividend] 14.8936746410829\n",
       "\\item[Real Earnings] 29.3122584231264\n",
       "\\item[Cyclically Adjusted PE Ratio] 16.8347938204382\n",
       "\\end{description*}\n"
      ],
      "text/markdown": [
       "S&amp;amp;P Composite\n",
       ":   255.672848244621Dividend\n",
       ":   5.56162982029478Earnings\n",
       ":   12.6462109392391CPI\n",
       ":   57.5069214282565Long Interest Rate\n",
       ":   4.57145951302378Real Price\n",
       ":   499.031472066405Real Dividend\n",
       ":   14.8936746410829Real Earnings\n",
       ":   29.3122584231264Cyclically Adjusted PE Ratio\n",
       ":   16.8347938204382\n",
       "\n"
      ],
      "text/plain": [
       "               S&P Composite                     Dividend \n",
       "                   255.67285                      5.56163 \n",
       "                    Earnings                          CPI \n",
       "                    12.64621                     57.50692 \n",
       "          Long Interest Rate                   Real Price \n",
       "                     4.57146                    499.03147 \n",
       "               Real Dividend                Real Earnings \n",
       "                    14.89367                     29.31226 \n",
       "Cyclically Adjusted PE Ratio \n",
       "                    16.83479 "
      ]
     },
     "metadata": {},
     "output_type": "display_data"
    }
   ],
   "source": [
    "## Code to Illustrate the concept goes here\n",
    "# http://www.r-tutor.com/elementary-statistics/numerical-measures/variance\n",
    "print ('This is the variation for each column:')\n",
    "apply(Qdata, 2, var, na.rm = T) #<-- this code says: apply the var function to each column of dataframe, respect NAs\n",
    "print ('This is the mean for each column')\n",
    "apply(Qdata, 2, mean, na.rm = T)"
   ]
  },
  {
   "cell_type": "markdown",
   "metadata": {},
   "source": [
    "## Concept 3: Multivariate  \n",
    "from https://en.wikipedia.org/wiki/Multivariate_statistics  \n",
    "Multivariate statistics is a subdivision of statistics encompassing the simultaneous observation and analysis of more than one outcome variable. \n",
    "### *Explanation of this concept relative to your data set here *\n",
    "for my dataset, multivariate analysis and observations would tell me how different columns relate. For example, what is the relationship between CPI and Earnings?\n",
    "### For more investigation:  nah....I think i get it."
   ]
  },
  {
   "cell_type": "code",
   "execution_count": null,
   "metadata": {
    "collapsed": true
   },
   "outputs": [],
   "source": []
  },
  {
   "cell_type": "markdown",
   "metadata": {},
   "source": [
    "## Concept 4: Distribution\n",
    "after reading: http://www.dummies.com/education/math/statistics/what-the-distribution-tells-you-about-a-statistical-data-set/  \n",
    "distribution describes how the data in each column is \"Shaped\". By shape we mean, how far is the mean from the max and min; and how spaced apart is the data between the max, min, and mean. \n",
    "\n",
    "We have developed different standard distributions that describe different types of conditions. \n",
    "Here is a link to a site that describes distributions more: http://people.stern.nyu.edu/adamodar/New_Home_Page/StatFile/statdistns.htm  \n",
    "\n",
    "### *Explanation of this concept relative to your data set here *\n",
    "for my dataset, data column distribution allows me to see how spaced apart data is. For example, for dividends, we can see how spread apart dividend data is relative to the maximum, minimum, and average dividend values.\n",
    "\n",
    "### For more investigation:  would be inteseting to see distributions as a graphic"
   ]
  },
  {
   "cell_type": "code",
   "execution_count": null,
   "metadata": {
    "collapsed": true
   },
   "outputs": [],
   "source": []
  },
  {
   "cell_type": "markdown",
   "metadata": {},
   "source": [
    "## Concept 5: categorical variable \n",
    "- http://stattrek.com/statistics/dictionary.aspx?definition=categorical_variable  \n",
    "Categorical variables take on values that are names or labels. The color of a ball (e.g., red, green, blue) or the breed of a dog (e.g., collie, shepherd, terrier) would be examples of categorical variables. \n",
    "\n",
    "- https://stats.idre.ucla.edu/other/mult-pkg/whatstat/what-is-the-difference-between-categorical-ordinal-and-interval-variables/\n",
    "A categorical variable (sometimes called a nominal variable) is one that has two or more categories, but there is no intrinsic ordering to the categories.  For example, gender is a categorical variable having two categories (male and female) and there is no intrinsic ordering to the categories.  Hair color is also a categorical variable having a number of categories (blonde, brown, brunette, red, etc.) and again, there is no agreed way to order these from highest to lowest.  A purely categorical variable is one that simply allows you to assign categories but you cannot clearly order the variables.  \n",
    "\n",
    "- http://www.statisticshowto.com/nominal-variable/\n",
    "A nominal variable is another name for a categorical variable. Nominal variables have two or more categories without having any kind of natural order. they are variables with no numeric value, such as occupation or political party affiliation. Another way of thinking about nominal variables is that they are named (nominal is from Latin nominalis, meaning pertaining to names).  \n",
    "Nominal variables:  \n",
    " - Cannot be quantified. In other words, you can’t perform arithmetic operations on them, like addition or subtraction, or logical operations like “equal to” or “greater than” on them.  \n",
    " - Cannot be assigned any order. \n",
    "\n",
    "What the above means is that you cannot apply distributions and similar techniques to categorical variable data\n",
    "\n",
    "### *Explanation of this concept relative to your data set here *\n",
    "since all the data in my dataset is numeric, there are no categorical variables.\n",
    "\n",
    "### For more investigation:  n/a"
   ]
  },
  {
   "cell_type": "code",
   "execution_count": null,
   "metadata": {
    "collapsed": true
   },
   "outputs": [],
   "source": []
  },
  {
   "cell_type": "markdown",
   "metadata": {},
   "source": [
    "## Concept 6: Continuous/Quantitiative Variable\n",
    "http://stattrek.com/statistics/dictionary.aspx?definition=Continuous_variable  \n",
    "If a variable can take on any value between its minimum value and its maximum value, it is called a continuous variable; otherwise, it is called a discrete variable. \n",
    "### *Explanation of this concept relative to your data set here *\n",
    "for my dataset, all the data columns are continuous because they can take on any value.\n",
    "### For more investigation:  nah....I think i get it."
   ]
  },
  {
   "cell_type": "code",
   "execution_count": null,
   "metadata": {
    "collapsed": true
   },
   "outputs": [],
   "source": []
  },
  {
   "cell_type": "markdown",
   "metadata": {},
   "source": [
    "## Concept 7: Standard Deviation\n",
    "https://en.wikipedia.org/wiki/Standard_deviation  \n",
    "In statistics, the standard deviation (SD, also represented by the Greek letter sigma σ or the Latin letter s) is a measure that is used to quantify the amount of variation or dispersion of a set of data values.[1] A low standard deviation indicates that the data points tend to be close to the mean (also called the expected value) of the set, while a high standard deviation indicates that the data points are spread out over a wider range of values\n",
    "\n",
    "### *Explanation of this concept relative to your data set here *\n",
    "for my dataset, standard deviation will tell me how dispersed each column's data is. If SD is low, then data is tightly grouped around the mean. If SD is high, then data is more spread out.\n",
    "\n",
    "### For more investigation:  nah....I think i get it."
   ]
  },
  {
   "cell_type": "code",
   "execution_count": 41,
   "metadata": {},
   "outputs": [
    {
     "name": "stdout",
     "output_type": "stream",
     "text": [
      "[1] \"This is the sd for each column\"\n"
     ]
    },
    {
     "data": {
      "text/html": [
       "<dl class=dl-horizontal>\n",
       "\t<dt>S&amp;P Composite</dt>\n",
       "\t\t<dd>508.084019266255</dd>\n",
       "\t<dt>Dividend</dt>\n",
       "\t\t<dd>9.48345513389234</dd>\n",
       "\t<dt>Earnings</dt>\n",
       "\t\t<dd>23.5417534517624</dd>\n",
       "\t<dt>CPI</dt>\n",
       "\t\t<dd>70.5510202850614</dd>\n",
       "\t<dt>Long Interest Rate</dt>\n",
       "\t\t<dd>2.29023466477738</dd>\n",
       "\t<dt>Real Price</dt>\n",
       "\t\t<dd>532.557672875597</dd>\n",
       "\t<dt>Real Dividend</dt>\n",
       "\t\t<dd>8.24617141834763</dd>\n",
       "\t<dt>Real Earnings</dt>\n",
       "\t\t<dd>23.351109088151</dd>\n",
       "\t<dt>Cyclically Adjusted PE Ratio</dt>\n",
       "\t\t<dd>6.72270739793778</dd>\n",
       "</dl>\n"
      ],
      "text/latex": [
       "\\begin{description*}\n",
       "\\item[S\\textbackslash{}\\&P Composite] 508.084019266255\n",
       "\\item[Dividend] 9.48345513389234\n",
       "\\item[Earnings] 23.5417534517624\n",
       "\\item[CPI] 70.5510202850614\n",
       "\\item[Long Interest Rate] 2.29023466477738\n",
       "\\item[Real Price] 532.557672875597\n",
       "\\item[Real Dividend] 8.24617141834763\n",
       "\\item[Real Earnings] 23.351109088151\n",
       "\\item[Cyclically Adjusted PE Ratio] 6.72270739793778\n",
       "\\end{description*}\n"
      ],
      "text/markdown": [
       "S&amp;amp;P Composite\n",
       ":   508.084019266255Dividend\n",
       ":   9.48345513389234Earnings\n",
       ":   23.5417534517624CPI\n",
       ":   70.5510202850614Long Interest Rate\n",
       ":   2.29023466477738Real Price\n",
       ":   532.557672875597Real Dividend\n",
       ":   8.24617141834763Real Earnings\n",
       ":   23.351109088151Cyclically Adjusted PE Ratio\n",
       ":   6.72270739793778\n",
       "\n"
      ],
      "text/plain": [
       "               S&P Composite                     Dividend \n",
       "                  508.084019                     9.483455 \n",
       "                    Earnings                          CPI \n",
       "                   23.541753                    70.551020 \n",
       "          Long Interest Rate                   Real Price \n",
       "                    2.290235                   532.557673 \n",
       "               Real Dividend                Real Earnings \n",
       "                    8.246171                    23.351109 \n",
       "Cyclically Adjusted PE Ratio \n",
       "                    6.722707 "
      ]
     },
     "metadata": {},
     "output_type": "display_data"
    },
    {
     "name": "stdout",
     "output_type": "stream",
     "text": [
      "[1] \"This is the mean for each column\"\n"
     ]
    },
    {
     "data": {
      "text/html": [
       "<dl class=dl-horizontal>\n",
       "\t<dt>S&amp;P Composite</dt>\n",
       "\t\t<dd>255.672848244621</dd>\n",
       "\t<dt>Dividend</dt>\n",
       "\t\t<dd>5.56162982029478</dd>\n",
       "\t<dt>Earnings</dt>\n",
       "\t\t<dd>12.6462109392391</dd>\n",
       "\t<dt>CPI</dt>\n",
       "\t\t<dd>57.5069214282565</dd>\n",
       "\t<dt>Long Interest Rate</dt>\n",
       "\t\t<dd>4.57145951302378</dd>\n",
       "\t<dt>Real Price</dt>\n",
       "\t\t<dd>499.031472066405</dd>\n",
       "\t<dt>Real Dividend</dt>\n",
       "\t\t<dd>14.8936746410829</dd>\n",
       "\t<dt>Real Earnings</dt>\n",
       "\t\t<dd>29.3122584231264</dd>\n",
       "\t<dt>Cyclically Adjusted PE Ratio</dt>\n",
       "\t\t<dd>16.8347938204382</dd>\n",
       "</dl>\n"
      ],
      "text/latex": [
       "\\begin{description*}\n",
       "\\item[S\\textbackslash{}\\&P Composite] 255.672848244621\n",
       "\\item[Dividend] 5.56162982029478\n",
       "\\item[Earnings] 12.6462109392391\n",
       "\\item[CPI] 57.5069214282565\n",
       "\\item[Long Interest Rate] 4.57145951302378\n",
       "\\item[Real Price] 499.031472066405\n",
       "\\item[Real Dividend] 14.8936746410829\n",
       "\\item[Real Earnings] 29.3122584231264\n",
       "\\item[Cyclically Adjusted PE Ratio] 16.8347938204382\n",
       "\\end{description*}\n"
      ],
      "text/markdown": [
       "S&amp;amp;P Composite\n",
       ":   255.672848244621Dividend\n",
       ":   5.56162982029478Earnings\n",
       ":   12.6462109392391CPI\n",
       ":   57.5069214282565Long Interest Rate\n",
       ":   4.57145951302378Real Price\n",
       ":   499.031472066405Real Dividend\n",
       ":   14.8936746410829Real Earnings\n",
       ":   29.3122584231264Cyclically Adjusted PE Ratio\n",
       ":   16.8347938204382\n",
       "\n"
      ],
      "text/plain": [
       "               S&P Composite                     Dividend \n",
       "                   255.67285                      5.56163 \n",
       "                    Earnings                          CPI \n",
       "                    12.64621                     57.50692 \n",
       "          Long Interest Rate                   Real Price \n",
       "                     4.57146                    499.03147 \n",
       "               Real Dividend                Real Earnings \n",
       "                    14.89367                     29.31226 \n",
       "Cyclically Adjusted PE Ratio \n",
       "                    16.83479 "
      ]
     },
     "metadata": {},
     "output_type": "display_data"
    }
   ],
   "source": [
    "print ('This is the sd for each column')\n",
    "apply(Qdata, 2, sd, na.rm = T)\n",
    "print ('This is the mean for each column')\n",
    "apply(Qdata, 2, mean, na.rm = T)"
   ]
  },
  {
   "cell_type": "markdown",
   "metadata": {},
   "source": [
    "## Concept 8: interquartile range\n",
    "To understand interquartile range, we first must understand quartiles:\n",
    "https://www.mathsisfun.com/data/quartiles.html\n",
    "  Quartiles are the values that divide a list of numbers into quarters:\n",
    "   - Put the list of numbers in order\n",
    "   - Then cut the list into four equal parts\n",
    "   - The Quartiles are at the \"cuts\" -  \n",
    "   \n",
    "  The \"Interquartile Range\" is from Q1 to Q3\n",
    "\n",
    "https://en.wikipedia.org/wiki/Interquartile_range  \n",
    "In descriptive statistics, the interquartile range (IQR), also called the midspread or middle 50%, or technically H-spread, is a measure of statistical dispersion, being equal to the difference between 75th and 25th percentiles, or between upper and lower quartiles,[1][2] IQR = Q3 −  Q1. In other words, the IQR is the first quartile subtracted from the third quartile; these quartiles can be clearly seen on a box plot on the data. It is a trimmed estimator, defined as the 25% trimmed range, and is the most significant basic robust measure of scale.\n",
    "\n",
    "### *Explanation of this concept relative to your data set here *\n",
    "for my dataset, quartile ranges gives me another way to express distribution. We place a column's data into 4 bins such that each bin has an equivalent number of samples. We then look at the highest sample value in each bin. That value is the bin's quartile value.  \n",
    "\n",
    "The interquartile value would tell me where the middle 50% of the data set's population's values are located at. \n",
    "\n",
    "### For more investigation:  how does interquartile range relate to mean and standard deviation?"
   ]
  },
  {
   "cell_type": "code",
   "execution_count": 42,
   "metadata": {},
   "outputs": [
    {
     "name": "stdout",
     "output_type": "stream",
     "text": [
      "[1] \"This is the interquartile range for each column\"\n"
     ]
    },
    {
     "data": {
      "text/html": [
       "<dl class=dl-horizontal>\n",
       "\t<dt>S&amp;P Composite</dt>\n",
       "\t\t<dd>112.0675</dd>\n",
       "\t<dt>Dividend</dt>\n",
       "\t\t<dd>5.8791675</dd>\n",
       "\t<dt>Earnings</dt>\n",
       "\t\t<dd>12.9834</dd>\n",
       "\t<dt>CPI</dt>\n",
       "\t\t<dd>79.525</dd>\n",
       "\t<dt>Long Interest Rate</dt>\n",
       "\t\t<dd>1.93645833333332</dd>\n",
       "\t<dt>Real Price</dt>\n",
       "\t\t<dd>432.58959678216</dd>\n",
       "\t<dt>Real Dividend</dt>\n",
       "\t\t<dd>10.519062797677</dd>\n",
       "\t<dt>Real Earnings</dt>\n",
       "\t\t<dd>26.27738815</dd>\n",
       "\t<dt>Cyclically Adjusted PE Ratio</dt>\n",
       "\t\t<dd>8.65720864727825</dd>\n",
       "</dl>\n"
      ],
      "text/latex": [
       "\\begin{description*}\n",
       "\\item[S\\textbackslash{}\\&P Composite] 112.0675\n",
       "\\item[Dividend] 5.8791675\n",
       "\\item[Earnings] 12.9834\n",
       "\\item[CPI] 79.525\n",
       "\\item[Long Interest Rate] 1.93645833333332\n",
       "\\item[Real Price] 432.58959678216\n",
       "\\item[Real Dividend] 10.519062797677\n",
       "\\item[Real Earnings] 26.27738815\n",
       "\\item[Cyclically Adjusted PE Ratio] 8.65720864727825\n",
       "\\end{description*}\n"
      ],
      "text/markdown": [
       "S&amp;amp;P Composite\n",
       ":   112.0675Dividend\n",
       ":   5.8791675Earnings\n",
       ":   12.9834CPI\n",
       ":   79.525Long Interest Rate\n",
       ":   1.93645833333332Real Price\n",
       ":   432.58959678216Real Dividend\n",
       ":   10.519062797677Real Earnings\n",
       ":   26.27738815Cyclically Adjusted PE Ratio\n",
       ":   8.65720864727825\n",
       "\n"
      ],
      "text/plain": [
       "               S&P Composite                     Dividend \n",
       "                  112.067500                     5.879167 \n",
       "                    Earnings                          CPI \n",
       "                   12.983400                    79.525000 \n",
       "          Long Interest Rate                   Real Price \n",
       "                    1.936458                   432.589597 \n",
       "               Real Dividend                Real Earnings \n",
       "                   10.519063                    26.277388 \n",
       "Cyclically Adjusted PE Ratio \n",
       "                    8.657209 "
      ]
     },
     "metadata": {},
     "output_type": "display_data"
    },
    {
     "name": "stdout",
     "output_type": "stream",
     "text": [
      "[1] \"These are the quartiles for each column\"\n"
     ]
    },
    {
     "data": {
      "text/html": [
       "<table>\n",
       "<thead><tr><th></th><th scope=col>S&amp;P Composite</th><th scope=col>Dividend</th><th scope=col>Earnings</th><th scope=col>CPI</th><th scope=col>Long Interest Rate</th><th scope=col>Real Price</th><th scope=col>Real Dividend</th><th scope=col>Real Earnings</th><th scope=col>Cyclically Adjusted PE Ratio</th></tr></thead>\n",
       "<tbody>\n",
       "\t<tr><th scope=row>0%</th><td>   2.7300 </td><td> 0.1800000</td><td>  0.1600  </td><td>  6.279613</td><td> 1.500000 </td><td>  66.70163</td><td> 4.915083 </td><td>  4.13066 </td><td> 4.784241 </td></tr>\n",
       "\t<tr><th scope=row>25%</th><td>   7.7325 </td><td> 0.4100000</td><td>  0.5433  </td><td> 10.100000</td><td> 3.291042 </td><td> 167.59529</td><td> 8.402340 </td><td> 12.46578 </td><td>11.789930 </td></tr>\n",
       "\t<tr><th scope=row>50%</th><td>  16.2200 </td><td> 0.8233165</td><td>  1.3130  </td><td> 18.150000</td><td> 3.860000 </td><td> 249.33550</td><td>12.542922 </td><td> 20.15163 </td><td>16.166167 </td></tr>\n",
       "\t<tr><th scope=row>75%</th><td> 119.8000 </td><td> 6.2891675</td><td> 13.5267  </td><td> 89.625000</td><td> 5.227500 </td><td> 600.18488</td><td>18.921402 </td><td> 38.74316 </td><td>20.447138 </td></tr>\n",
       "\t<tr><th scope=row>100%</th><td>2789.8000 </td><td>48.9300000</td><td>107.0800  </td><td>246.819000</td><td>15.320000 </td><td>2789.38965</td><td>48.908415 </td><td>109.69227 </td><td>44.197940 </td></tr>\n",
       "</tbody>\n",
       "</table>\n"
      ],
      "text/latex": [
       "\\begin{tabular}{r|lllllllll}\n",
       "  & S\\&P Composite & Dividend & Earnings & CPI & Long Interest Rate & Real Price & Real Dividend & Real Earnings & Cyclically Adjusted PE Ratio\\\\\n",
       "\\hline\n",
       "\t0\\% &    2.7300  &  0.1800000 &   0.1600   &   6.279613 &  1.500000  &   66.70163 &  4.915083  &   4.13066  &  4.784241 \\\\\n",
       "\t25\\% &    7.7325  &  0.4100000 &   0.5433   &  10.100000 &  3.291042  &  167.59529 &  8.402340  &  12.46578  & 11.789930 \\\\\n",
       "\t50\\% &   16.2200  &  0.8233165 &   1.3130   &  18.150000 &  3.860000  &  249.33550 & 12.542922  &  20.15163  & 16.166167 \\\\\n",
       "\t75\\% &  119.8000  &  6.2891675 &  13.5267   &  89.625000 &  5.227500  &  600.18488 & 18.921402  &  38.74316  & 20.447138 \\\\\n",
       "\t100\\% & 2789.8000  & 48.9300000 & 107.0800   & 246.819000 & 15.320000  & 2789.38965 & 48.908415  & 109.69227  & 44.197940 \\\\\n",
       "\\end{tabular}\n"
      ],
      "text/markdown": [
       "\n",
       "| <!--/--> | S&P Composite | Dividend | Earnings | CPI | Long Interest Rate | Real Price | Real Dividend | Real Earnings | Cyclically Adjusted PE Ratio | \n",
       "|---|---|---|---|---|\n",
       "| 0% |    2.7300  |  0.1800000 |   0.1600   |   6.279613 |  1.500000  |   66.70163 |  4.915083  |   4.13066  |  4.784241  | \n",
       "| 25% |    7.7325  |  0.4100000 |   0.5433   |  10.100000 |  3.291042  |  167.59529 |  8.402340  |  12.46578  | 11.789930  | \n",
       "| 50% |   16.2200  |  0.8233165 |   1.3130   |  18.150000 |  3.860000  |  249.33550 | 12.542922  |  20.15163  | 16.166167  | \n",
       "| 75% |  119.8000  |  6.2891675 |  13.5267   |  89.625000 |  5.227500  |  600.18488 | 18.921402  |  38.74316  | 20.447138  | \n",
       "| 100% | 2789.8000  | 48.9300000 | 107.0800   | 246.819000 | 15.320000  | 2789.38965 | 48.908415  | 109.69227  | 44.197940  | \n",
       "\n",
       "\n"
      ],
      "text/plain": [
       "     S&P Composite Dividend   Earnings CPI        Long Interest Rate Real Price\n",
       "0%      2.7300      0.1800000   0.1600   6.279613  1.500000            66.70163\n",
       "25%     7.7325      0.4100000   0.5433  10.100000  3.291042           167.59529\n",
       "50%    16.2200      0.8233165   1.3130  18.150000  3.860000           249.33550\n",
       "75%   119.8000      6.2891675  13.5267  89.625000  5.227500           600.18488\n",
       "100% 2789.8000     48.9300000 107.0800 246.819000 15.320000          2789.38965\n",
       "     Real Dividend Real Earnings Cyclically Adjusted PE Ratio\n",
       "0%    4.915083       4.13066      4.784241                   \n",
       "25%   8.402340      12.46578     11.789930                   \n",
       "50%  12.542922      20.15163     16.166167                   \n",
       "75%  18.921402      38.74316     20.447138                   \n",
       "100% 48.908415     109.69227     44.197940                   "
      ]
     },
     "metadata": {},
     "output_type": "display_data"
    }
   ],
   "source": [
    "print ('This is the interquartile range for each column')\n",
    "apply(Qdata, 2, IQR, na.rm = T)\n",
    "print ('These are the quartiles for each column')\n",
    "apply(Qdata, 2, quantile, na.rm = T)"
   ]
  },
  {
   "cell_type": "markdown",
   "metadata": {},
   "source": [
    "## Concept 9: Skewness\n",
    "https://en.wikipedia.org/wiki/Skewness    \n",
    "In probability theory and statistics, skewness is a measure of the asymmetry of the probability distribution of a real-valued random variable about its mean. The skewness value can be positive or negative, or undefined.\n",
    "\n",
    "https://www.investopedia.com/terms/s/skewness.asp  \n",
    "Skewness is measured by the use of Pearson’s first coefficient of skewness. This measure subtracts the median from the mode and then divides the difference by the standard deviation. Peterson's second law is also sometimes used, where the mode is subtracted from the median, multiplied by three and then divided by the standard deviation.\n",
    "\n",
    "https://en.wikipedia.org/wiki/Skewness  \n",
    "There are various ways to measure skewness.  \n",
    "\n",
    "### *Explanation of this concept relative to your data set here *\n",
    "for my dataset, skewness would tell me how far the \"centroid\" of my data is relative to the mean. More from https://www.investopedia.com/terms/s/skewness.asp  \n",
    "Skewness in Business and Finance\n",
    "Skewness is extremely important to finance and investing. Most sets of data, including stock prices and asset returns, have either positive or negative skew, rather than following the balanced normal distribution, which has a skewness of zero. By understanding which way data is skewed, an investor can better estimate whether a given future data point will be more or less than the mean.\n",
    "Most advanced economic analysis models study data for skewness and incorporate this into their calculations. Skewness risk is the risk that a model assumes a normal distribution of data, when in fact data is skewed to the left or right of the mean.\n",
    "\n",
    "### For more investigation:  I am able to get skewness values for each column. It would be good to see how this matches up with the distribution on a plot."
   ]
  },
  {
   "cell_type": "code",
   "execution_count": 43,
   "metadata": {},
   "outputs": [
    {
     "name": "stdout",
     "output_type": "stream",
     "text": [
      "[1] \"This is the skewness for each column\"\n"
     ]
    },
    {
     "data": {
      "text/html": [
       "<dl class=dl-horizontal>\n",
       "\t<dt>S&amp;P Composite</dt>\n",
       "\t\t<dd>2.38310550969556</dd>\n",
       "\t<dt>Dividend</dt>\n",
       "\t\t<dd>2.38922119051748</dd>\n",
       "\t<dt>Earnings</dt>\n",
       "\t\t<dd>2.40755577622771</dd>\n",
       "\t<dt>CPI</dt>\n",
       "\t\t<dd>1.39989034599746</dd>\n",
       "\t<dt>Long Interest Rate</dt>\n",
       "\t\t<dd>1.8356529629096</dd>\n",
       "\t<dt>Real Price</dt>\n",
       "\t\t<dd>1.87777238658056</dd>\n",
       "\t<dt>Real Dividend</dt>\n",
       "\t\t<dd>1.47677500224007</dd>\n",
       "\t<dt>Real Earnings</dt>\n",
       "\t\t<dd>1.59961629987071</dd>\n",
       "\t<dt>Cyclically Adjusted PE Ratio</dt>\n",
       "\t\t<dd>1.04929448314274</dd>\n",
       "</dl>\n"
      ],
      "text/latex": [
       "\\begin{description*}\n",
       "\\item[S\\textbackslash{}\\&P Composite] 2.38310550969556\n",
       "\\item[Dividend] 2.38922119051748\n",
       "\\item[Earnings] 2.40755577622771\n",
       "\\item[CPI] 1.39989034599746\n",
       "\\item[Long Interest Rate] 1.8356529629096\n",
       "\\item[Real Price] 1.87777238658056\n",
       "\\item[Real Dividend] 1.47677500224007\n",
       "\\item[Real Earnings] 1.59961629987071\n",
       "\\item[Cyclically Adjusted PE Ratio] 1.04929448314274\n",
       "\\end{description*}\n"
      ],
      "text/markdown": [
       "S&amp;amp;P Composite\n",
       ":   2.38310550969556Dividend\n",
       ":   2.38922119051748Earnings\n",
       ":   2.40755577622771CPI\n",
       ":   1.39989034599746Long Interest Rate\n",
       ":   1.8356529629096Real Price\n",
       ":   1.87777238658056Real Dividend\n",
       ":   1.47677500224007Real Earnings\n",
       ":   1.59961629987071Cyclically Adjusted PE Ratio\n",
       ":   1.04929448314274\n",
       "\n"
      ],
      "text/plain": [
       "               S&P Composite                     Dividend \n",
       "                    2.383106                     2.389221 \n",
       "                    Earnings                          CPI \n",
       "                    2.407556                     1.399890 \n",
       "          Long Interest Rate                   Real Price \n",
       "                    1.835653                     1.877772 \n",
       "               Real Dividend                Real Earnings \n",
       "                    1.476775                     1.599616 \n",
       "Cyclically Adjusted PE Ratio \n",
       "                    1.049294 "
      ]
     },
     "metadata": {},
     "output_type": "display_data"
    }
   ],
   "source": [
    "print ('This is the skewness for each column')\n",
    "#we need the moments package:\n",
    "library(moments)\n",
    "apply(Qdata, 2, skewness, na.rm = T)"
   ]
  },
  {
   "cell_type": "markdown",
   "metadata": {},
   "source": [
    "## Concept 10: Kurtosis\n",
    "https://en.wikipedia.org/wiki/Kurtosis   \n",
    "In probability theory and statistics, kurtosis (from Greek: κυρτός, kyrtos or kurtos, meaning \"curved, arching\") is a measure of the \"tailedness\" of the probability distribution of a real-valued random variable. In a similar way to the concept of skewness, kurtosis is a descriptor of the shape of a probability distribution and, just as for skewness, there are different ways of quantifying it for a theoretical distribution and corresponding ways of estimating it from a sample from a population. Depending on the particular measure of kurtosis that is used, there are various interpretations of kurtosis, and of how particular measures should be interpreted.\n",
    "\n",
    "https://www.investopedia.com/terms/k/kurtosis.asp?ad=dirN&qo=investopediaSiteSearch&qsrc=0&o=40186\n",
    "Put simply, kurtosis is a measure of the combined weight of a distribution's tails relative to the rest of the distribution. When a set of data is graphically depicted, it usually has a standard normal distribution, like a bell curve, with a central peak and thin tails. However, when kurtosis is present, the tails of the distribution are different than they would be under a normal bell-curved distribution.\n",
    "Kurtosis is sometimes confused with a measure of the peakedness of a distribution. However, kurtosis is a measure that describes the shape of a distribution's tails in relation to its overall shape. A data set that shows kurtosis sometimes also displays skewness, or a lack of symmetry. However, kurtosis can be evenly distributed so that both its tails are equal. \n",
    "\n",
    "### *Explanation of this concept relative to your data set here *\n",
    "for my dataset, kurtosis would tell me how quickly the data in each column falls away from the mean.\n",
    "\n",
    "### For more investigation: It would be interesting to compare kurtosis values to distribution plots to see what different kurtosis values mean."
   ]
  },
  {
   "cell_type": "code",
   "execution_count": 44,
   "metadata": {},
   "outputs": [
    {
     "name": "stdout",
     "output_type": "stream",
     "text": [
      "[1] \"This is the kurtosis for each column\"\n"
     ]
    },
    {
     "data": {
      "text/html": [
       "<dl class=dl-horizontal>\n",
       "\t<dt>S&amp;P Composite</dt>\n",
       "\t\t<dd>8.10269019015471</dd>\n",
       "\t<dt>Dividend</dt>\n",
       "\t\t<dd>8.64929596922901</dd>\n",
       "\t<dt>Earnings</dt>\n",
       "\t\t<dd>7.9905790016439</dd>\n",
       "\t<dt>CPI</dt>\n",
       "\t\t<dd>3.52074273905002</dd>\n",
       "\t<dt>Long Interest Rate</dt>\n",
       "\t\t<dd>6.79999028094012</dd>\n",
       "\t<dt>Real Price</dt>\n",
       "\t\t<dd>5.74950421691319</dd>\n",
       "\t<dt>Real Dividend</dt>\n",
       "\t\t<dd>5.71109564322904</dd>\n",
       "\t<dt>Real Earnings</dt>\n",
       "\t\t<dd>5.08900162497694</dd>\n",
       "\t<dt>Cyclically Adjusted PE Ratio</dt>\n",
       "\t\t<dd>4.89963434137814</dd>\n",
       "</dl>\n"
      ],
      "text/latex": [
       "\\begin{description*}\n",
       "\\item[S\\textbackslash{}\\&P Composite] 8.10269019015471\n",
       "\\item[Dividend] 8.64929596922901\n",
       "\\item[Earnings] 7.9905790016439\n",
       "\\item[CPI] 3.52074273905002\n",
       "\\item[Long Interest Rate] 6.79999028094012\n",
       "\\item[Real Price] 5.74950421691319\n",
       "\\item[Real Dividend] 5.71109564322904\n",
       "\\item[Real Earnings] 5.08900162497694\n",
       "\\item[Cyclically Adjusted PE Ratio] 4.89963434137814\n",
       "\\end{description*}\n"
      ],
      "text/markdown": [
       "S&amp;amp;P Composite\n",
       ":   8.10269019015471Dividend\n",
       ":   8.64929596922901Earnings\n",
       ":   7.9905790016439CPI\n",
       ":   3.52074273905002Long Interest Rate\n",
       ":   6.79999028094012Real Price\n",
       ":   5.74950421691319Real Dividend\n",
       ":   5.71109564322904Real Earnings\n",
       ":   5.08900162497694Cyclically Adjusted PE Ratio\n",
       ":   4.89963434137814\n",
       "\n"
      ],
      "text/plain": [
       "               S&P Composite                     Dividend \n",
       "                    8.102690                     8.649296 \n",
       "                    Earnings                          CPI \n",
       "                    7.990579                     3.520743 \n",
       "          Long Interest Rate                   Real Price \n",
       "                    6.799990                     5.749504 \n",
       "               Real Dividend                Real Earnings \n",
       "                    5.711096                     5.089002 \n",
       "Cyclically Adjusted PE Ratio \n",
       "                    4.899634 "
      ]
     },
     "metadata": {},
     "output_type": "display_data"
    }
   ],
   "source": [
    "print ('This is the kurtosis for each column')\n",
    "#we need the moments package (i think?):\n",
    "library(moments)\n",
    "apply(Qdata, 2, kurtosis, na.rm = T)"
   ]
  },
  {
   "cell_type": "markdown",
   "metadata": {},
   "source": [
    "## Concept 11: Histogram\n",
    "https://www.mathsisfun.com/data/histograms.html  \n",
    "Histogram: a graphical display of data using bars of different heights.  \n",
    "\n",
    "https://statistics.laerd.com/statistical-guides/understanding-histograms.php  \n",
    "What is a histogram?\n",
    "A histogram is a plot that lets you discover, and show, the underlying frequency distribution (shape) of a set of continuous data. This allows the inspection of the data for its underlying distribution (e.g., normal distribution), outliers, skewness, etc.\n",
    "\n",
    "In R: https://stat.ethz.ch/R-manual/R-devel/library/graphics/html/hist.html  \n",
    "\n",
    "### *Explanation of this concept relative to your data set here *\n",
    "for my dataset, histograms would graphically show the shape of my data. I could use this to do a lot of the distribution related graphical comparisons I noted above.\n",
    "\n",
    "### For more investigation:  nah....I think i get it."
   ]
  },
  {
   "cell_type": "code",
   "execution_count": 45,
   "metadata": {},
   "outputs": [
    {
     "name": "stderr",
     "output_type": "stream",
     "text": [
      "`stat_bin()` using `bins = 30`. Pick better value with `binwidth`.\n"
     ]
    },
    {
     "data": {},
     "metadata": {},
     "output_type": "display_data"
    },
    {
     "data": {
      "image/png": "[encoded data removed]",
      "text/plain": [
       "plot without title"
      ]
     },
     "metadata": {},
     "output_type": "display_data"
    }
   ],
   "source": [
    "library(purrr)\n",
    "library(tidyr)\n",
    "library(ggplot2)\n",
    "\n",
    "# Qdata %>%\n",
    "#   keep(is.numeric) %>% \n",
    "#   gather() \n",
    "\n",
    "Qdata %>%\n",
    "  keep(is.numeric) %>% \n",
    "  gather() %>% \n",
    "  ggplot(aes(value)) +\n",
    "    facet_wrap(~ key, scales = \"free\") +\n",
    "    geom_histogram(na.rm = TRUE)"
   ]
  },
  {
   "cell_type": "markdown",
   "metadata": {},
   "source": [
    "## Concept 12: Stem and Leafs\n",
    "https://tutorteddy.com/statistics/statistics-stem-and-leaf-display.php\n",
    "Stem and Leaf plot or display is basically used for organizing a given statistical dataset. The Stem is the greatest common place value of the statistical data whereas the leaf indicates the next greatest common place value of that data. Such display is good for small or moderate amount of data.\n",
    "\n",
    "\n",
    "Example 1: The following table is the marks obtained by 25 students in economics.\n",
    "\n",
    "51 43 69 85 36 20 80 50 56 38\n",
    "\n",
    "78 71 65 60 48 42 25 47 53 45\n",
    "\n",
    "66 77 39 44 54\n",
    "\n",
    "\n",
    "To make the construction easier we first arrange the data in ascending order as follows:\n",
    "\n",
    "20 25 36 38 39 42 43 44 45 47\n",
    "\n",
    "48 50 51 53 54 56 60 65 66 69\n",
    "\n",
    "71 77 78 80 85\n",
    "\n",
    "We see that the above data lies between 20 to 85. So the stem has a range from 2 to 8. A vertical list of stem is first written for plotting. Assignment is done to the stem list by correctly pairing the unit digit (leaf) with the stem. In this way stem and leaf display is created.\n",
    "\n",
    "\n",
    "### *Explanation of this concept relative to your data set here *\n",
    "for my dataset, I don't think this will be helpful because of the dataset size.\n",
    "\n",
    "### For more investigation:  nah....I think i get it."
   ]
  },
  {
   "cell_type": "code",
   "execution_count": 46,
   "metadata": {},
   "outputs": [
    {
     "name": "stdout",
     "output_type": "stream",
     "text": [
      "[1] \"This is the stem and leaf for each column\"\n",
      "\n",
      "  The decimal point is 2 digit(s) to the right of the |\n",
      "\n",
      "   0 | 00000000000000000000000000000000000000000000000000000000000000000000+1298\n",
      "   2 | 01123444444555555666667777788889999990011122223333334444555556667888\n",
      "   4 | 1111112222244445555555556666666677777891246688\n",
      "   6 | 011455566770446679\n",
      "   8 | 013455577888900001133344445667999\n",
      "  10 | 112223444577888888999900111111222223333344445566777888999999\n",
      "  12 | 00000012223344445556667888889999000012222223333334444556678889999999\n",
      "  14 | 0012222334444566667788901112457\n",
      "  16 | 2477928\n",
      "  18 | 12266902445679\n",
      "  20 | 2234455788888990145667\n",
      "  22 | 58367\n",
      "  24 | 0356969\n",
      "  26 | 669\n",
      "\n",
      "\n",
      "  The decimal point is at the |\n",
      "\n",
      "   0 | 22222222222222222222222222222222222222222222222222222222222222222222+1000\n",
      "   2 | 00000000000000001111111111222222223333334444455555666666777778888899+110\n",
      "   4 | 01112234455667788899900011122233455667788899\n",
      "   6 | 0011122233444556667778888899999999990000111222333444556677778889999\n",
      "   8 | 0001112223333345566778899001234566889\n",
      "  10 | 01244578911234677889\n",
      "  12 | 011111122222233333333444444455555555666778889990122222344567789\n",
      "  14 | 012234577890011122334456667777777777888899999\n",
      "  16 | 0000001111122222222233333445555555666677777777891468\n",
      "  18 | 02468023347\n",
      "  20 | 02579135799\n",
      "  22 | 0001122244456678900224447799\n",
      "  24 | 013456699012356679\n",
      "  26 | 012447770023456779\n",
      "  28 | 00133445677788926\n",
      "  30 | 17358\n",
      "  32 | 15936\n",
      "  34 | 0468048\n",
      "  36 | 26048\n",
      "  38 | 158149\n",
      "  40 | 48147\n",
      "  42 | 035814679\n",
      "  44 | 1357803579\n",
      "  46 | 2479259\n",
      "  48 | 2479\n",
      "\n",
      "\n",
      "  The decimal point is 1 digit(s) to the right of the |\n",
      "\n",
      "   0 | 00000000000000000000000000000000000000000000000000000000000000000000+1193\n",
      "   1 | 00000000000111111111111111222222223333333333333444444444444444455555+85\n",
      "   2 | 00000000001111111111122222222222223333333444444555555555555556667777\n",
      "   3 | 00011122333444444444555555556666777888888888899999999\n",
      "   4 | 000000000000111112233455567788899\n",
      "   5 | 0000111111222233344456777888899\n",
      "   6 | 0001122334455667899\n",
      "   7 | 0001223344446677999\n",
      "   8 | 00111222333344455666777777777777777777888888889999\n",
      "   9 | 0111223334556668889\n",
      "  10 | 0000111222233444555667\n",
      "\n",
      "\n",
      "  The decimal point is 1 digit(s) to the right of the |\n",
      "\n",
      "   0 | 66666666666666777777777777777777777777777777777777777777777777777777+282\n",
      "   1 | 00000000000000000000000000000000000000000000000000000000000000000000+454\n",
      "   2 | 00000000001111122222222333333444444444444444444444444444444555555666+95\n",
      "   3 | 00000000000000000000000000000000000111111111111111111111111111222222+47\n",
      "   4 | 000000011111111112222222233334444556667788999\n",
      "   5 | 0112223333444555666667777888899\n",
      "   6 | 000111122233345566777889\n",
      "   7 | 012234556789\n",
      "   8 | 01233345667899\n",
      "   9 | 0122334445556788888888899\n",
      "  10 | 00011112233344555556667788889999999\n",
      "  11 | 0000000112233444555566778899\n",
      "  12 | 000112234445566678999\n",
      "  13 | 0023444555566677788899\n",
      "  14 | 000111222334444455666677788899\n",
      "  15 | 0000112233334444566777788999\n",
      "  16 | 000001111222223333344444556667788889\n",
      "  17 | 01122334444566777788888889\n",
      "  18 | 000011111234444445555567899\n",
      "  19 | 00001112345556788999\n",
      "  20 | 02222233334457888889\n",
      "  21 | 0001122233445566666677778888888999999\n",
      "  22 | 001356666667778999\n",
      "  23 | 00000011233333444444455566677777778888888888999\n",
      "  24 | 0111111234455556667777\n",
      "\n",
      "\n",
      "  The decimal point is at the |\n",
      "\n",
      "   1 | 5566667777888888899999\n",
      "   2 | 00000000000000001111111111122222222222222222222222222222222223333333+241\n",
      "   3 | 00000000000000011111111111111111111111111111111111111111112222222222+506\n",
      "   4 | 00000000000000000000000000000000000000000000000011111111111111111111+269\n",
      "   5 | 00000000000000000000011111111111111122222222222222333333333333333333+67\n",
      "   6 | 00000000000011111111112222222222333333333344444455555555566666666667+10\n",
      "   7 | 00001111111111222222223333333333333444444444444555555555555556666777+13\n",
      "   8 | 000000000001111111112222233344444444555556666777788888899999\n",
      "   9 | 00000011111112222333344588\n",
      "  10 | 222333344445556778999\n",
      "  11 | 144455555677788899\n",
      "  12 | 23345667788\n",
      "  13 | 1124445667799\n",
      "  14 | 0133469\n",
      "  15 | 23\n",
      "\n",
      "\n",
      "  The decimal point is 2 digit(s) to the right of the |\n",
      "\n",
      "   0 | 77778888888888889999999999999999999999999999999999999999999000000000+561\n",
      "   2 | 00000000000000000000000000000000000000000000111111111111111111111111+397\n",
      "   4 | 00000000000000111111111111111112222222222222222223333333444444444444+120\n",
      "   6 | 00000000111111112222222333333333333444444444444455555555556666666666+91\n",
      "   8 | 002578003346889\n",
      "  10 | 112223344455679033455688999\n",
      "  12 | 122222334444467777889012233455566789\n",
      "  14 | 00111222233444444444555666677777788899999011112222223333344444455667\n",
      "  16 | 0000112444666678899011222333445566678999\n",
      "  18 | 0123778890111234456667788\n",
      "  20 | 0111234444688899900012233444666778899\n",
      "  22 | 001291689\n",
      "  24 | 1577959\n",
      "  26 | 669\n",
      "\n",
      "\n",
      "  The decimal point is at the |\n",
      "\n",
      "   4 | 9901111111112222222222233333333333444444445555666777777778888899\n",
      "   6 | 00111222233333444445555566666666666666777777777777777777777777788888+231\n",
      "   8 | 00000000001111111111111111122222222222222222222233333333334444444444+177\n",
      "  10 | 00000000000001111111111122222222223333333333333444444444445555556666+119\n",
      "  12 | 00000000000000111111111222222222222334444444444555555556677777888899+60\n",
      "  14 | 00001112222333344444455555556666677777777888888889999000000111122222+11\n",
      "  16 | 00000011111111222222233333333333344445556666777788889999011111111222+90\n",
      "  18 | 00000000001111111222222222222222233333333334444444444444445555555566+36\n",
      "  20 | 00111112222333344556666777889990011112222222222222223333333333333333+77\n",
      "  22 | 00000000011111111111112223333344556889990011122222333444455666777789\n",
      "  24 | 00011122333334444444444444567888999001122335566778889\n",
      "  26 | 01225666779913348899\n",
      "  28 | 01133566991233467\n",
      "  30 | 0114456677990235679\n",
      "  32 | 1112234555667777913578\n",
      "  34 | 048158\n",
      "  36 | 2580368\n",
      "  38 | 136058\n",
      "  40 | 384\n",
      "  42 | 14689147\n",
      "  44 | 037234444579\n",
      "  46 | 01466790359\n",
      "  48 | 01469\n",
      "\n",
      "\n",
      "  The decimal point is 1 digit(s) to the right of the |\n",
      "\n",
      "   0 | 45555666666666777777777777777777777778888888888888888888888888888888+159\n",
      "   1 | 00000000000000000000000000000000000000000000000000000000000000000000+548\n",
      "   2 | 00000000000000000000000011111111111111112222222222222222222222233333+135\n",
      "   3 | 00000000000000000000000000111111111111111111122222222222222222222222+192\n",
      "   4 | 00000000000000000000000000000000000111111111111111111111111111111122+87\n",
      "   5 | 0000000111223444444455555566666666777777777888889999\n",
      "   6 | 0000001111112222222222234555666678889\n",
      "   7 | 001111233333344444455555666667788899\n",
      "   8 | 011222345677888999999\n",
      "   9 | 00000000000111222233333333333344444455555555555667777888889\n",
      "  10 | 0000000001222344555666666677778899\n",
      "  11 | 0\n",
      "\n",
      "\n",
      "  The decimal point is at the |\n",
      "\n",
      "   4 | 800111222223334455666888\n",
      "   6 | 011112233334444555555666667788888001222333344445566666788888999\n",
      "   8 | 00000011111223333444444555555556677777777888888899999999990000000011+58\n",
      "  10 | 00000000111111222222222233333444444444555555555666666666777777777778+123\n",
      "  12 | 00000000000001111122222222333333333344444444444444555555556667777778+97\n",
      "  14 | 00000000011111112222333333334444444444445555666666667777777778888888+117\n",
      "  16 | 00000000001111111122222222222223333333344444444444555555555555555666+146\n",
      "  18 | 00000000111111111111111112222222222223333333344444444444555555556666+95\n",
      "  20 | 00111112222222233333344444444444555555555555666666677778889999999999+58\n",
      "  22 | 00000000111112222233333334444444444456666667778899999900001111111222+19\n",
      "  24 | 0012334566667788899999900112222344444566667777777777888899999\n",
      "  26 | 0000111122233344445555555666777778889999900111233344566677777799\n",
      "  28 | 11367890011337999\n",
      "  30 | 00233593445\n",
      "  32 | 22333667899014588\n",
      "  34 | 1748\n",
      "  36 | 3800334\n",
      "  38 | 3884\n",
      "  40 | 4663499\n",
      "  42 | 0226788922588\n",
      "  44 | 2\n",
      "\n"
     ]
    },
    {
     "data": {
      "text/plain": [
       "NULL"
      ]
     },
     "metadata": {},
     "output_type": "display_data"
    }
   ],
   "source": [
    "print ('This is the stem and leaf for each column')\n",
    "apply(Qdata, 2, stem)"
   ]
  },
  {
   "cell_type": "markdown",
   "metadata": {},
   "source": [
    "## Concept 13: Box Plot\n",
    "http://stattrek.com/statistics/charts/boxplot.aspx\n",
    "A boxplot splits the data set into quartiles. The body of the boxplot consists of a \"box\" (hence, the name), which goes from the first quartile (Q1) to the third quartile (Q3).\n",
    "Within the box, a vertical line is drawn at the Q2, the median of the data set. Two horizontal lines, called whiskers, extend from the front and back of the box. The front whisker goes from Q1 to the smallest non-outlier in the data set, and the back whisker goes from Q3 to the largest non-outlier.  \n",
    "\n",
    "### *Explanation of this concept relative to your data set here *\n",
    "for my dataset, box plots would be a good way to graphically illustrate the quartiles and potentially also see the interquartile for each column.\n",
    "\n",
    "### For more investigation:  Hmmmmm....description above is univariate analysis. But ggplot requires 2 inputs. 1 input ends up being box width. What's going on here?!"
   ]
  },
  {
   "cell_type": "markdown",
   "metadata": {},
   "source": [
    "## Concept 13:  Cross Tabulation\n",
    "https://en.wikipedia.org/wiki/Contingency_table\n",
    "In statistics, a contingency table (also known as a cross tabulation or crosstab) is a type of table in a matrix format that displays the (multivariate) frequency distribution of the variables. They are heavily used in survey research, business intelligence, engineering and scientific research. They provide a basic picture of the interrelation between two variables and can help find interactions between them. The term contingency table was first used by Karl Pearson in \"On the Theory of Contingency and Its Relation to Association and Normal Correlation\",[1] part of the Drapers' Company Research Memoirs Biometric Series I published in 1904.\n",
    "\n",
    "### *Explanation of this concept relative to your data set here *\n",
    "for my dataset, cross tabulation can be a useful initial bivariate analysis (next step after univariate analysis in my EDA process). This would allow me to identify potentially correlated variables.\n",
    "\n",
    "### For more investigation:  well, code doesn't complete its run. suspect its b/c of large dataset size"
   ]
  },
  {
   "cell_type": "code",
   "execution_count": 47,
   "metadata": {},
   "outputs": [
    {
     "name": "stderr",
     "output_type": "stream",
     "text": [
      "Warning message:\n",
      "\"package 'gmodels' was built under R version 3.4.3\""
     ]
    },
    {
     "name": "stdout",
     "output_type": "stream",
     "text": [
      "[1] \"hey\"\n"
     ]
    },
    {
     "name": "stderr",
     "output_type": "stream",
     "text": [
      "IOPub data rate exceeded.\n",
      "The notebook server will temporarily stop sending output\n",
      "to the client in order to avoid crashing it.\n",
      "To change this limit, set the config variable\n",
      "`--NotebookApp.iopub_data_rate_limit`.\n"
     ]
    },
    {
     "name": "stdout",
     "output_type": "stream",
     "text": [
      "[1] \"hi\"\n"
     ]
    }
   ],
   "source": [
    "library(gmodels)\n",
    "# library(descr)\n",
    "print ('hey')\n",
    "a<-CrossTable(Qdata$Dividend, Qdata$Earnings)\n",
    "print (a)\n",
    "print ('hi')"
   ]
  },
  {
   "cell_type": "markdown",
   "metadata": {},
   "source": [
    "## Concept 14:  ANOVA\n",
    "https://www.investopedia.com/terms/a/anova.asp\n",
    "What is 'Analysis Of Variance - ANOVA'\n",
    "Analysis of variance (ANOVA) is an analysis tool used in statistics that splits the aggregate variability found inside a data set into two parts: systematic factors and random factors. The systematic factors have a statistical influence on the given data set, but the random factors do not. Analysts use the analysis of the variance test to determine the result that independent variables have on the dependent variable amid a regression study.\n",
    "\n",
    "\n",
    "Read more: Analysis Of Variance (ANOVA) https://www.investopedia.com/terms/a/anova.asp#ixzz56axatnFq \n",
    "Follow us: Investopedia on Facebook\n",
    "\n",
    "Example: http://cba.ualr.edu/smartstat/topics/anova/example.pdf  \n",
    "\n",
    "Another source that seems promising: http://sphweb.bumc.bu.edu/otlt/MPH-Modules/BS/BS704_HypothesisTesting-ANOVA/BS704_HypothesisTesting-Anova_print.html  \n",
    "\n",
    "### Central ANOVA concept:\n",
    "ANOVA is a tool that allows us to determine whether one variable is \"significantly\" different from another variable.\n",
    "Here we must be careful about how we define \"significant\". We define significant as whether the mean of the observed diferences we see between the two variables are due to some deeper underlying reason; or whether the differences are just noise that would go away if we expanded the sample size.\n",
    "\n",
    "P value is key here. A low P-value indicates that the difference between the 2 variables is significant. As a specific example, a P-value score = 0.05 tells us that the same result 95 times out of 100.   \n",
    "\n",
    "Given this central concept, we can use ANOVA in a lot of different ways. Here are some:\n",
    " - Identify whether differences we see between the two variables are due to some underlying deeper reason;\n",
    " - Identify whether we can reduce the number of variables in our analysis. If 2 variables show a low P-value, then we know they are somehow related and maybe we can thus reduce variable size.\n",
    "\n",
    "\n",
    "### *Explanation of this concept relative to your data set here *\n",
    "\n",
    "### For more investigation: need more assistance to figure out how to use anova"
   ]
  },
  {
   "cell_type": "code",
   "execution_count": 78,
   "metadata": {
    "scrolled": false
   },
   "outputs": [
    {
     "data": {
      "text/plain": [
       "                 Df Sum Sq Mean Sq F value Pr(>F)    \n",
       "Qdata$Dividend    1 892571  892571   18951 <2e-16 ***\n",
       "Residuals      1759  82845      47                   \n",
       "---\n",
       "Signif. codes:  0 '***' 0.001 '**' 0.01 '*' 0.05 '.' 0.1 ' ' 1\n",
       "5 observations deleted due to missingness"
      ]
     },
     "metadata": {},
     "output_type": "display_data"
    },
    {
     "data": {
      "text/plain": [
       "                 Df Sum Sq Mean Sq F value Pr(>F)\n",
       "Qdata$Dividend    1     10   9.848   1.878  0.171\n",
       "Residuals      1762   9241   5.244               \n",
       "2 observations deleted due to missingness"
      ]
     },
     "metadata": {},
     "output_type": "display_data"
    },
    {
     "data": {
      "text/plain": [
       "                Df Sum Sq Mean Sq F value Pr(>F)\n",
       "Qdata$Earning    1      3   3.231   0.616  0.433\n",
       "Residuals     1759   9233   5.249               \n",
       "5 observations deleted due to missingness"
      ]
     },
     "metadata": {},
     "output_type": "display_data"
    },
    {
     "data": {
      "image/png": "[encoded data removed]",
      "text/plain": [
       "plot without title"
      ]
     },
     "metadata": {},
     "output_type": "display_data"
    },
    {
     "data": {
      "image/png": "[encoded data removed]",
      "text/plain": [
       "plot without title"
      ]
     },
     "metadata": {},
     "output_type": "display_data"
    },
    {
     "data": {
      "image/png": "[encoded data removed]",
      "text/plain": [
       "plot without title"
      ]
     },
     "metadata": {},
     "output_type": "display_data"
    }
   ],
   "source": [
    "#aov is the 1 way anova command in R. 1st input is the dependent var. 2nd input is the independent var. 3rd input is the dataset\n",
    "myaov = aov(Qdata$Dividend~Qdata$Earnings*Qdata$\"Long Interest Rate\", data=Qdata)\n",
    "# myaov = aov(Qdata$Earnings~Qdata$Dividend)\n",
    "# summary(myaov)\n",
    "# myaov = aov(Qdata$\"Long Interest Rate\"~Qdata$Dividend)\n",
    "# summary(myaov)\n",
    "# myaov = aov(Qdata$\"Long Interest Rate\"~Qdata$Earning)\n",
    "# summary(myaov)\n",
    "plot(Qdata$Dividend, Qdata$Earnings)\n",
    "plot(Qdata$Dividend, Qdata$\"Long Interest Rate\")\n",
    "plot(Qdata$Earnings, Qdata$\"Long Interest Rate\")"
   ]
  },
  {
   "cell_type": "markdown",
   "metadata": {
    "collapsed": true
   },
   "source": [
    "#### After doing my breadth first analysis, here is how I feel about each concept on a 1 to 5 scale; "
   ]
  },
  {
   "cell_type": "markdown",
   "metadata": {},
   "source": [
    "## Concept 16:  Covariance\n",
    "http://www.r-tutor.com/elementary-statistics/numerical-measures/covariance  \n",
    "The covariance of two variables x and y in a data set measures how the two are linearly related. A positive covariance would indicate a positive linear relationship between the variables, and a negative covariance would indicate the opposite. \n",
    "\n",
    "https://en.wikipedia.org/wiki/Covariance  \n",
    "In probability theory and statistics, covariance is a measure of the joint variability of two random variables.[1] If the greater values of one variable mainly correspond with the greater values of the other variable, and the same holds for the lesser values, i.e., the variables tend to show similar behavior, the covariance is positive.[2] In the opposite case, when the greater values of one variable mainly correspond to the lesser values of the other, i.e., the variables tend to show opposite behavior, the covariance is negative. The sign of the covariance therefore shows the tendency in the linear relationship between the variables. The magnitude of the covariance is not easy to interpret because it is not normalized and hence depends on the magnitudes of the variables. The normalized version of the covariance, the correlation coefficient, however, shows by its magnitude the strength of the linear relation.\n",
    "\n",
    "\n",
    "### *Explanation of this concept relative to your data set here *\n",
    "Covariance could help me better identify if pairs increase or decrease linearly.\n",
    "\n",
    "### For more investigation: COV only indicates a positive or negative  linear relationship. How do we measure the strength of this relationship?"
   ]
  },
  {
   "cell_type": "code",
   "execution_count": 90,
   "metadata": {},
   "outputs": [
    {
     "data": {
      "text/html": [
       "209.948572128576"
      ],
      "text/latex": [
       "209.948572128576"
      ],
      "text/markdown": [
       "209.948572128576"
      ],
      "text/plain": [
       "[1] 209.9486"
      ]
     },
     "metadata": {},
     "output_type": "display_data"
    },
    {
     "data": {
      "text/html": [
       "209.948572128576"
      ],
      "text/latex": [
       "209.948572128576"
      ],
      "text/markdown": [
       "209.948572128576"
      ],
      "text/plain": [
       "[1] 209.9486"
      ]
     },
     "metadata": {},
     "output_type": "display_data"
    },
    {
     "data": {
      "text/html": [
       "209.948572128576"
      ],
      "text/latex": [
       "209.948572128576"
      ],
      "text/markdown": [
       "209.948572128576"
      ],
      "text/plain": [
       "[1] 209.9486"
      ]
     },
     "metadata": {},
     "output_type": "display_data"
    },
    {
     "data": {
      "text/html": [
       "0.956591134688761"
      ],
      "text/latex": [
       "0.956591134688761"
      ],
      "text/markdown": [
       "0.956591134688761"
      ],
      "text/plain": [
       "[1] 0.9565911"
      ]
     },
     "metadata": {},
     "output_type": "display_data"
    }
   ],
   "source": [
    "cov(Qdata$Earnings, Qdata$Dividend, use=\"complete.obs\")\n",
    "cov(Qdata$Earnings, Qdata$Dividend, use=\"na.or.complete\")\n",
    "cov(Qdata$Earnings, Qdata$Dividend, use=\"pairwise.complete.obs\")\n",
    "\n",
    "cor(Qdata$Earnings, Qdata$Dividend, use=\"pairwise.complete.obs\")"
   ]
  },
  {
   "cell_type": "code",
   "execution_count": 48,
   "metadata": {},
   "outputs": [
    {
     "name": "stderr",
     "output_type": "stream",
     "text": [
      "Warning message in PostBreadth_Knowledge[match(c(\"covariance\"), EDA_Concepts)] = data.frame(EDA_Concepts, :\n",
      "\"number of items to replace is not a multiple of replacement length\"Warning message in PostBreadth_Knowledge[match(c(\"correlation\"), EDA_Concepts)] = PostBreadth_Knowledge[match(c(\"covariance\"), :\n",
      "\"number of items to replace is not a multiple of replacement length\"Warning message in PostBreadth_Knowledge[match(c(\"anova\"), EDA_Concepts)] = PostBreadth_Knowledge[match(c(\"correlation\"), :\n",
      "\"number of items to replace is not a multiple of replacement length\""
     ]
    }
   ],
   "source": [
    "PostBreadth_Knowledge <- rep(1, length(EDA_Concepts)) #initialize the vector\n",
    "\n",
    "#now let's assign values:\n",
    "PostBreadth_Knowledge[match(c('sample'),EDA_Concepts)] = 5\n",
    "PostBreadth_Knowledge[match(c('statistic'),EDA_Concepts)] = 4\n",
    "PostBreadth_Knowledge[match(c('population'),EDA_Concepts)] = 5\n",
    "PostBreadth_Knowledge[match(c('parameter'),EDA_Concepts)] = 5\n",
    "PostBreadth_Knowledge[match(c('central tendency'),EDA_Concepts)] = 4 \n",
    "PostBreadth_Knowledge[match(c('variation'),EDA_Concepts)] = 5\n",
    "PostBreadth_Knowledge[match(c('univariate'),EDA_Concepts)] = 5\n",
    "PostBreadth_Knowledge[match(c('multivariate'),EDA_Concepts)] = 5 \n",
    "PostBreadth_Knowledge[match(c('distribution'),EDA_Concepts)] = 5\n",
    "PostBreadth_Knowledge[match(c('categorical variable'),EDA_Concepts)] = 3 \n",
    "PostBreadth_Knowledge[match(c('continuous / quantitative variable'),EDA_Concepts)] = 5\n",
    "PostBreadth_Knowledge[match(c('variance'),EDA_Concepts)] = 5\n",
    "PostBreadth_Knowledge[match(c('standard deviation'),EDA_Concepts)] = 5\n",
    "PostBreadth_Knowledge[match(c('interquartile range'),EDA_Concepts)] = 4\n",
    "PostBreadth_Knowledge[match(c('skewness'),EDA_Concepts)] = 4\n",
    "PostBreadth_Knowledge[match(c('kurtosis'),EDA_Concepts)] = 4\n",
    "PostBreadth_Knowledge[match(c('histogram'),EDA_Concepts)] = 5\n",
    "PostBreadth_Knowledge[match(c('stem and leaf'),EDA_Concepts)] = 5\n",
    "PostBreadth_Knowledge[match(c('box plot'),EDA_Concepts)] = 4\n",
    "PostBreadth_Knowledge[match(c('outlier'),EDA_Concepts)] = 5\n",
    "PostBreadth_Knowledge[match(c('cross tabulation'),EDA_Concepts)] = 4\n",
    "PostBreadth_Knowledge[match(c('anova'),EDA_Concepts)] = 4\n",
    "PostBreadth_Knowledge[match(c('correlation'),EDA_Concepts)] = 5\n",
    "PostBreadth_Knowledge[match(c('covariance'),EDA_Concepts)] = 5\n",
    "\n",
    "data.frame(EDA_Concepts,PostBreadth_Knowledge) #display my knowledge\n"
   ]
  },
  {
   "cell_type": "markdown",
   "metadata": {},
   "source": [
    "## Infinite Stream of Conciousness..."
   ]
  },
  {
   "cell_type": "code",
   "execution_count": 49,
   "metadata": {},
   "outputs": [
    {
     "data": {
      "text/html": [
       "<ol class=list-inline>\n",
       "\t<li>1</li>\n",
       "\t<li>45</li>\n",
       "\t<li>3</li>\n",
       "\t<li>4</li>\n",
       "\t<li>2</li>\n",
       "</ol>\n"
      ],
      "text/latex": [
       "\\begin{enumerate*}\n",
       "\\item 1\n",
       "\\item 45\n",
       "\\item 3\n",
       "\\item 4\n",
       "\\item 2\n",
       "\\end{enumerate*}\n"
      ],
      "text/markdown": [
       "1. 1\n",
       "2. 45\n",
       "3. 3\n",
       "4. 4\n",
       "5. 2\n",
       "\n",
       "\n"
      ],
      "text/plain": [
       "[1]  1 45  3  4  2"
      ]
     },
     "metadata": {},
     "output_type": "display_data"
    }
   ],
   "source": [
    "#HEy! i'll be using R this week :)\n",
    "#my first R code: write a vector object and then print it:\n",
    "\n",
    "hondoomba = c(1,45,3,4,2)\n",
    "hondoomba \n"
   ]
  },
  {
   "cell_type": "code",
   "execution_count": 50,
   "metadata": {
    "collapsed": true
   },
   "outputs": [],
   "source": [
    "#Quandl R documentation:\n",
    "# https://docs.quandl.com/docs/r-installation\n",
    "# https://docs.quandl.com/docs/r-time-series\n",
    "\n",
    "#here is how to use my quandl API key:\n",
    "library(Quandl)\n",
    "Quandl.api_key(\"L8zt1AhNiQi4gufsXy4g\")"
   ]
  },
  {
   "cell_type": "code",
   "execution_count": 51,
   "metadata": {
    "scrolled": true
   },
   "outputs": [
    {
     "data": {
      "text/html": [
       "<table>\n",
       "<thead><tr><th scope=col>Year</th><th scope=col>S&amp;P Composite</th><th scope=col>Dividend</th><th scope=col>Earnings</th><th scope=col>CPI</th><th scope=col>Long Interest Rate</th><th scope=col>Real Price</th><th scope=col>Real Dividend</th><th scope=col>Real Earnings</th><th scope=col>Cyclically Adjusted PE Ratio</th></tr></thead>\n",
       "<tbody>\n",
       "\t<tr><td>2018-02-28</td><td>2762.13   </td><td>      NA  </td><td>       NA </td><td>246.4152  </td><td>2.78      </td><td>2762.130  </td><td>      NA  </td><td>       NA </td><td>33.40820  </td></tr>\n",
       "\t<tr><td>2018-01-31</td><td>2789.80   </td><td>      NA  </td><td>       NA </td><td>246.4515  </td><td>2.58      </td><td>2789.390  </td><td>      NA  </td><td>       NA </td><td>33.76469  </td></tr>\n",
       "\t<tr><td>2017-12-31</td><td>2664.34   </td><td>48.93000  </td><td>       NA </td><td>246.5240  </td><td>2.40      </td><td>2663.165  </td><td>48.90842  </td><td>       NA </td><td>32.25322  </td></tr>\n",
       "\t<tr><td>2017-11-30</td><td>2593.61   </td><td>48.67667  </td><td>       NA </td><td>246.6690  </td><td>2.35      </td><td>2590.942  </td><td>48.62659  </td><td>       NA </td><td>31.37894  </td></tr>\n",
       "\t<tr><td>2017-10-31</td><td>2557.00   </td><td>48.42333  </td><td>       NA </td><td>246.6630  </td><td>2.36      </td><td>2554.432  </td><td>48.37470  </td><td>       NA </td><td>30.92039  </td></tr>\n",
       "\t<tr><td>2017-09-30</td><td>2492.84   </td><td>48.17000  </td><td>107.08000 </td><td>246.8190  </td><td>2.20      </td><td>2488.762  </td><td>48.09120  </td><td>106.90484 </td><td>30.16811  </td></tr>\n",
       "\t<tr><td>2017-08-31</td><td>2456.22   </td><td>47.85333  </td><td>106.06000 </td><td>245.5190  </td><td>2.21      </td><td>2465.186  </td><td>48.02802  </td><td>106.44716 </td><td>29.91496  </td></tr>\n",
       "\t<tr><td>2017-07-31</td><td>2454.10   </td><td>47.53667  </td><td>105.04000 </td><td>244.7860  </td><td>2.32      </td><td>2470.434  </td><td>47.85306  </td><td>105.73913 </td><td>30.00222  </td></tr>\n",
       "\t<tr><td>2017-06-30</td><td>2433.99   </td><td>47.22000  </td><td>104.02000 </td><td>244.9550  </td><td>2.19      </td><td>2448.500  </td><td>47.50149  </td><td>104.64009 </td><td>29.74850  </td></tr>\n",
       "\t<tr><td>2017-05-31</td><td>2395.35   </td><td>46.94000  </td><td>102.77667 </td><td>244.7330  </td><td>2.30      </td><td>2411.815  </td><td>47.26266  </td><td>103.48313 </td><td>29.31334  </td></tr>\n",
       "\t<tr><td>2017-04-30</td><td>2359.31   </td><td>46.66000  </td><td>101.53333 </td><td>244.5240  </td><td>2.30      </td><td>2377.558  </td><td>47.02089  </td><td>102.31863 </td><td>28.90425  </td></tr>\n",
       "\t<tr><td>2017-03-31</td><td>2366.82   </td><td>46.38000  </td><td>100.29000 </td><td>243.8010  </td><td>2.48      </td><td>2392.199  </td><td>46.87733  </td><td>101.36540 </td><td>29.08692  </td></tr>\n",
       "\t<tr><td>2017-02-28</td><td>2329.91   </td><td>46.15333  </td><td> 98.37667 </td><td>243.6030  </td><td>2.42      </td><td>2356.807  </td><td>46.68615  </td><td> 99.51237 </td><td>28.65511  </td></tr>\n",
       "\t<tr><td>2017-01-31</td><td>2275.12   </td><td>45.92667  </td><td> 96.46333 </td><td>242.8390  </td><td>2.43      </td><td>2308.625  </td><td>46.60302  </td><td> 97.88393 </td><td>28.06357  </td></tr>\n",
       "\t<tr><td>2016-12-31</td><td>2246.63   </td><td>45.70000  </td><td> 94.55000 </td><td>241.4320  </td><td>2.49      </td><td>2293.001  </td><td>46.64327  </td><td> 96.50155 </td><td>27.86510  </td></tr>\n",
       "\t<tr><td>2016-11-30</td><td>2164.99   </td><td>45.47667  </td><td> 92.73000 </td><td>241.3530  </td><td>2.14      </td><td>2210.400  </td><td>46.43052  </td><td> 94.67496 </td><td>26.85095  </td></tr>\n",
       "\t<tr><td>2016-10-31</td><td>2143.02   </td><td>45.25333  </td><td> 90.91000 </td><td>241.7290  </td><td>1.76      </td><td>2184.565  </td><td>46.13063  </td><td> 92.67242 </td><td>26.52514  </td></tr>\n",
       "\t<tr><td>2016-09-30</td><td>2157.69   </td><td>45.03000  </td><td> 89.09000 </td><td>241.4280  </td><td>1.63      </td><td>2202.262  </td><td>45.96020  </td><td> 90.93036 </td><td>26.72787  </td></tr>\n",
       "\t<tr><td>2016-08-31</td><td>2170.95   </td><td>44.84000  </td><td> 88.36667 </td><td>240.8490  </td><td>1.56      </td><td>2221.123  </td><td>45.87630  </td><td> 90.40890 </td><td>26.94887  </td></tr>\n",
       "\t<tr><td>2016-07-31</td><td>2148.90   </td><td>44.65000  </td><td> 87.64333 </td><td>240.6280  </td><td>1.50      </td><td>2200.582  </td><td>45.72386  </td><td> 89.75121 </td><td>26.69400  </td></tr>\n",
       "\t<tr><td>2016-06-30</td><td>2083.89   </td><td>44.46000  </td><td> 86.92000 </td><td>241.0180  </td><td>1.64      </td><td>2130.556  </td><td>45.45562  </td><td> 88.86645 </td><td>25.84037  </td></tr>\n",
       "\t<tr><td>2016-05-31</td><td>2065.55   </td><td>44.26667  </td><td> 86.76000 </td><td>240.2290  </td><td>1.81      </td><td>2118.741  </td><td>45.40660  </td><td> 88.99420 </td><td>25.69471  </td></tr>\n",
       "\t<tr><td>2016-04-30</td><td>2075.54   </td><td>44.07333  </td><td> 86.60000 </td><td>239.2610  </td><td>1.81      </td><td>2137.602  </td><td>45.39119  </td><td> 89.18947 </td><td>25.92234  </td></tr>\n",
       "\t<tr><td>2016-03-31</td><td>2021.95   </td><td>43.88000  </td><td> 86.44000 </td><td>238.1320  </td><td>1.89      </td><td>2092.282  </td><td>45.40633  </td><td> 89.44675 </td><td>25.37230  </td></tr>\n",
       "\t<tr><td>2016-02-29</td><td>1904.42   </td><td>43.71667  </td><td> 86.47000 </td><td>237.1110  </td><td>1.78      </td><td>1979.150  </td><td>45.43211  </td><td> 89.86309 </td><td>24.00261  </td></tr>\n",
       "\t<tr><td>2016-01-31</td><td>1918.60   </td><td>43.55333  </td><td> 86.50000 </td><td>236.9160  </td><td>2.09      </td><td>1995.527  </td><td>45.29962  </td><td> 89.96826 </td><td>24.20617  </td></tr>\n",
       "\t<tr><td>2015-12-31</td><td>2054.08   </td><td>43.39000  </td><td> 86.53000 </td><td>236.5250  </td><td>2.24      </td><td>2139.971  </td><td>45.20434  </td><td> 90.14824 </td><td>25.96542  </td></tr>\n",
       "\t<tr><td>2015-11-30</td><td>2080.62   </td><td>43.09667  </td><td> 87.90667 </td><td>237.3360  </td><td>2.26      </td><td>2160.214  </td><td>44.74532  </td><td> 91.26952 </td><td>26.22585  </td></tr>\n",
       "\t<tr><td>2015-10-31</td><td>2024.81   </td><td>42.80333  </td><td> 89.28333 </td><td>237.8380  </td><td>2.07      </td><td>2097.832  </td><td>44.34697  </td><td> 92.50320 </td><td>25.49144  </td></tr>\n",
       "\t<tr><td>2015-09-30</td><td>1944.41   </td><td>42.51000  </td><td> 90.66000 </td><td>237.9450  </td><td>2.17      </td><td>2013.626  </td><td>44.02325  </td><td> 93.88727 </td><td>24.49675  </td></tr>\n",
       "\t<tr><td>...</td><td>...</td><td>...</td><td>...</td><td>...</td><td>...</td><td>...</td><td>...</td><td>...</td><td>...</td></tr>\n",
       "\t<tr><td>1873-06-30</td><td>4.98      </td><td>0.3150    </td><td>0.4450    </td><td>12.55923  </td><td>5.534167  </td><td>97.70888  </td><td>6.180381  </td><td>8.731014  </td><td>NA        </td></tr>\n",
       "\t<tr><td>1873-05-31</td><td>5.05      </td><td>0.3125    </td><td>0.4425    </td><td>12.93981  </td><td>5.543333  </td><td>96.16813  </td><td>5.950998  </td><td>8.426613  </td><td>NA        </td></tr>\n",
       "\t<tr><td>1873-04-30</td><td>5.04      </td><td>0.3100    </td><td>0.4400    </td><td>13.22522  </td><td>5.552500  </td><td>93.90639  </td><td>5.775989  </td><td>8.198177  </td><td>NA        </td></tr>\n",
       "\t<tr><td>1873-03-31</td><td>5.11      </td><td>0.3075    </td><td>0.4375    </td><td>13.22522  </td><td>5.561667  </td><td>95.21065  </td><td>5.729408  </td><td>8.151597  </td><td>NA        </td></tr>\n",
       "\t<tr><td>1873-02-28</td><td>5.15      </td><td>0.3050    </td><td>0.4350    </td><td>13.22522  </td><td>5.570833  </td><td>95.95594  </td><td>5.682827  </td><td>8.105016  </td><td>NA        </td></tr>\n",
       "\t<tr><td>1873-01-31</td><td>5.11      </td><td>0.3025    </td><td>0.4325    </td><td>12.93981  </td><td>5.580000  </td><td>97.31072  </td><td>5.760566  </td><td>8.236181  </td><td>NA        </td></tr>\n",
       "\t<tr><td>1872-12-31</td><td>5.07      </td><td>0.3000    </td><td>0.4300    </td><td>12.93981  </td><td>5.561667  </td><td>96.54899  </td><td>5.712958  </td><td>8.188573  </td><td>NA        </td></tr>\n",
       "\t<tr><td>1872-11-30</td><td>4.95      </td><td>0.2967    </td><td>0.4275    </td><td>13.13014  </td><td>5.543333  </td><td>92.89739  </td><td>5.568213  </td><td>8.022956  </td><td>NA        </td></tr>\n",
       "\t<tr><td>1872-10-31</td><td>4.97      </td><td>0.2933    </td><td>0.4250    </td><td>12.74948  </td><td>5.525000  </td><td>96.05758  </td><td>5.668750  </td><td>8.214179  </td><td>NA        </td></tr>\n",
       "\t<tr><td>1872-09-30</td><td>4.95      </td><td>0.2900    </td><td>0.4225    </td><td>13.03497  </td><td>5.506667  </td><td>93.57561  </td><td>5.482208  </td><td>7.987009  </td><td>NA        </td></tr>\n",
       "\t<tr><td>1872-08-31</td><td>5.04      </td><td>0.2867    </td><td>0.4200    </td><td>12.93981  </td><td>5.488333  </td><td>95.97770  </td><td>5.459684  </td><td>7.998142  </td><td>NA        </td></tr>\n",
       "\t<tr><td>1872-07-31</td><td>5.10      </td><td>0.2833    </td><td>0.4175    </td><td>12.84464  </td><td>5.470000  </td><td>97.83985  </td><td>5.434908  </td><td>8.009439  </td><td>NA        </td></tr>\n",
       "\t<tr><td>1872-06-30</td><td>5.13      </td><td>0.2800    </td><td>0.4150    </td><td>13.03497  </td><td>5.451667  </td><td>96.97836  </td><td>5.293166  </td><td>7.845228  </td><td>NA        </td></tr>\n",
       "\t<tr><td>1872-05-31</td><td>5.18      </td><td>0.2767    </td><td>0.4125    </td><td>13.13014  </td><td>5.433333  </td><td>97.21384  </td><td>5.192870  </td><td>7.741449  </td><td>NA        </td></tr>\n",
       "\t<tr><td>1872-04-30</td><td>5.18      </td><td>0.2733    </td><td>0.4100    </td><td>13.13014  </td><td>5.415000  </td><td>97.21384  </td><td>5.129062  </td><td>7.694531  </td><td>NA        </td></tr>\n",
       "\t<tr><td>1872-03-31</td><td>5.04      </td><td>0.2700    </td><td>0.4075    </td><td>12.84464  </td><td>5.396667  </td><td>96.68879  </td><td>5.179757  </td><td>7.817596  </td><td>NA        </td></tr>\n",
       "\t<tr><td>1872-02-29</td><td>4.88      </td><td>0.2667    </td><td>0.4050    </td><td>12.65439  </td><td>5.378333  </td><td>95.02681  </td><td>5.193371  </td><td>7.886446  </td><td>NA        </td></tr>\n",
       "\t<tr><td>1872-01-31</td><td>4.86      </td><td>0.2633    </td><td>0.4025    </td><td>12.65439  </td><td>5.360000  </td><td>94.63735  </td><td>5.127163  </td><td>7.837764  </td><td>NA        </td></tr>\n",
       "\t<tr><td>1871-12-31</td><td>4.74      </td><td>0.2600    </td><td>0.4000    </td><td>12.65439  </td><td>5.356667  </td><td>92.30063  </td><td>5.062904  </td><td>7.789082  </td><td>NA        </td></tr>\n",
       "\t<tr><td>1871-11-30</td><td>4.64      </td><td>0.2600    </td><td>0.4000    </td><td>12.36890  </td><td>5.353333  </td><td>92.43887  </td><td>5.179764  </td><td>7.968868  </td><td>NA        </td></tr>\n",
       "\t<tr><td>1871-10-31</td><td>4.59      </td><td>0.2600    </td><td>0.4000    </td><td>12.36890  </td><td>5.350000  </td><td>91.44276  </td><td>5.179764  </td><td>7.968868  </td><td>NA        </td></tr>\n",
       "\t<tr><td>1871-09-30</td><td>4.84      </td><td>0.2600    </td><td>0.4000    </td><td>12.17865  </td><td>5.346667  </td><td>97.92959  </td><td>5.260680  </td><td>8.093354  </td><td>NA        </td></tr>\n",
       "\t<tr><td>1871-08-31</td><td>4.79      </td><td>0.2600    </td><td>0.4000    </td><td>11.89323  </td><td>5.343333  </td><td>99.24376  </td><td>5.386927  </td><td>8.287579  </td><td>NA        </td></tr>\n",
       "\t<tr><td>1871-07-31</td><td>4.73      </td><td>0.2600    </td><td>0.4000    </td><td>12.08348  </td><td>5.340000  </td><td>96.45765  </td><td>5.302112  </td><td>8.157095  </td><td>NA        </td></tr>\n",
       "\t<tr><td>1871-06-30</td><td>4.82      </td><td>0.2600    </td><td>0.4000    </td><td>12.08348  </td><td>5.336667  </td><td>98.29299  </td><td>5.302112  </td><td>8.157095  </td><td>NA        </td></tr>\n",
       "\t<tr><td>1871-05-31</td><td>4.86      </td><td>0.2600    </td><td>0.4000    </td><td>12.27381  </td><td>5.333333  </td><td>97.57182  </td><td>5.219892  </td><td>8.030602  </td><td>NA        </td></tr>\n",
       "\t<tr><td>1871-04-30</td><td>4.74      </td><td>0.2600    </td><td>0.4000    </td><td>12.55923  </td><td>5.330000  </td><td>93.00002  </td><td>5.101267  </td><td>7.848103  </td><td>NA        </td></tr>\n",
       "\t<tr><td>1871-03-31</td><td>4.61      </td><td>0.2600    </td><td>0.4000    </td><td>13.03497  </td><td>5.326667  </td><td>87.14820  </td><td>4.915083  </td><td>7.561666  </td><td>NA        </td></tr>\n",
       "\t<tr><td>1871-02-28</td><td>4.50      </td><td>0.2600    </td><td>0.4000    </td><td>12.84464  </td><td>5.323333  </td><td>86.32928  </td><td>4.987914  </td><td>7.673714  </td><td>NA        </td></tr>\n",
       "\t<tr><td>1871-01-31</td><td>4.44      </td><td>0.2600    </td><td>0.4000    </td><td>12.46406  </td><td>5.320000  </td><td>87.77907  </td><td>5.140216  </td><td>7.908024  </td><td>NA        </td></tr>\n",
       "</tbody>\n",
       "</table>\n"
      ],
      "text/latex": [
       "\\begin{tabular}{r|llllllllll}\n",
       " Year & S\\&P Composite & Dividend & Earnings & CPI & Long Interest Rate & Real Price & Real Dividend & Real Earnings & Cyclically Adjusted PE Ratio\\\\\n",
       "\\hline\n",
       "\t 2018-02-28 & 2762.13    &       NA   &        NA  & 246.4152   & 2.78       & 2762.130   &       NA   &        NA  & 33.40820  \\\\\n",
       "\t 2018-01-31 & 2789.80    &       NA   &        NA  & 246.4515   & 2.58       & 2789.390   &       NA   &        NA  & 33.76469  \\\\\n",
       "\t 2017-12-31 & 2664.34    & 48.93000   &        NA  & 246.5240   & 2.40       & 2663.165   & 48.90842   &        NA  & 32.25322  \\\\\n",
       "\t 2017-11-30 & 2593.61    & 48.67667   &        NA  & 246.6690   & 2.35       & 2590.942   & 48.62659   &        NA  & 31.37894  \\\\\n",
       "\t 2017-10-31 & 2557.00    & 48.42333   &        NA  & 246.6630   & 2.36       & 2554.432   & 48.37470   &        NA  & 30.92039  \\\\\n",
       "\t 2017-09-30 & 2492.84    & 48.17000   & 107.08000  & 246.8190   & 2.20       & 2488.762   & 48.09120   & 106.90484  & 30.16811  \\\\\n",
       "\t 2017-08-31 & 2456.22    & 47.85333   & 106.06000  & 245.5190   & 2.21       & 2465.186   & 48.02802   & 106.44716  & 29.91496  \\\\\n",
       "\t 2017-07-31 & 2454.10    & 47.53667   & 105.04000  & 244.7860   & 2.32       & 2470.434   & 47.85306   & 105.73913  & 30.00222  \\\\\n",
       "\t 2017-06-30 & 2433.99    & 47.22000   & 104.02000  & 244.9550   & 2.19       & 2448.500   & 47.50149   & 104.64009  & 29.74850  \\\\\n",
       "\t 2017-05-31 & 2395.35    & 46.94000   & 102.77667  & 244.7330   & 2.30       & 2411.815   & 47.26266   & 103.48313  & 29.31334  \\\\\n",
       "\t 2017-04-30 & 2359.31    & 46.66000   & 101.53333  & 244.5240   & 2.30       & 2377.558   & 47.02089   & 102.31863  & 28.90425  \\\\\n",
       "\t 2017-03-31 & 2366.82    & 46.38000   & 100.29000  & 243.8010   & 2.48       & 2392.199   & 46.87733   & 101.36540  & 29.08692  \\\\\n",
       "\t 2017-02-28 & 2329.91    & 46.15333   &  98.37667  & 243.6030   & 2.42       & 2356.807   & 46.68615   &  99.51237  & 28.65511  \\\\\n",
       "\t 2017-01-31 & 2275.12    & 45.92667   &  96.46333  & 242.8390   & 2.43       & 2308.625   & 46.60302   &  97.88393  & 28.06357  \\\\\n",
       "\t 2016-12-31 & 2246.63    & 45.70000   &  94.55000  & 241.4320   & 2.49       & 2293.001   & 46.64327   &  96.50155  & 27.86510  \\\\\n",
       "\t 2016-11-30 & 2164.99    & 45.47667   &  92.73000  & 241.3530   & 2.14       & 2210.400   & 46.43052   &  94.67496  & 26.85095  \\\\\n",
       "\t 2016-10-31 & 2143.02    & 45.25333   &  90.91000  & 241.7290   & 1.76       & 2184.565   & 46.13063   &  92.67242  & 26.52514  \\\\\n",
       "\t 2016-09-30 & 2157.69    & 45.03000   &  89.09000  & 241.4280   & 1.63       & 2202.262   & 45.96020   &  90.93036  & 26.72787  \\\\\n",
       "\t 2016-08-31 & 2170.95    & 44.84000   &  88.36667  & 240.8490   & 1.56       & 2221.123   & 45.87630   &  90.40890  & 26.94887  \\\\\n",
       "\t 2016-07-31 & 2148.90    & 44.65000   &  87.64333  & 240.6280   & 1.50       & 2200.582   & 45.72386   &  89.75121  & 26.69400  \\\\\n",
       "\t 2016-06-30 & 2083.89    & 44.46000   &  86.92000  & 241.0180   & 1.64       & 2130.556   & 45.45562   &  88.86645  & 25.84037  \\\\\n",
       "\t 2016-05-31 & 2065.55    & 44.26667   &  86.76000  & 240.2290   & 1.81       & 2118.741   & 45.40660   &  88.99420  & 25.69471  \\\\\n",
       "\t 2016-04-30 & 2075.54    & 44.07333   &  86.60000  & 239.2610   & 1.81       & 2137.602   & 45.39119   &  89.18947  & 25.92234  \\\\\n",
       "\t 2016-03-31 & 2021.95    & 43.88000   &  86.44000  & 238.1320   & 1.89       & 2092.282   & 45.40633   &  89.44675  & 25.37230  \\\\\n",
       "\t 2016-02-29 & 1904.42    & 43.71667   &  86.47000  & 237.1110   & 1.78       & 1979.150   & 45.43211   &  89.86309  & 24.00261  \\\\\n",
       "\t 2016-01-31 & 1918.60    & 43.55333   &  86.50000  & 236.9160   & 2.09       & 1995.527   & 45.29962   &  89.96826  & 24.20617  \\\\\n",
       "\t 2015-12-31 & 2054.08    & 43.39000   &  86.53000  & 236.5250   & 2.24       & 2139.971   & 45.20434   &  90.14824  & 25.96542  \\\\\n",
       "\t 2015-11-30 & 2080.62    & 43.09667   &  87.90667  & 237.3360   & 2.26       & 2160.214   & 44.74532   &  91.26952  & 26.22585  \\\\\n",
       "\t 2015-10-31 & 2024.81    & 42.80333   &  89.28333  & 237.8380   & 2.07       & 2097.832   & 44.34697   &  92.50320  & 25.49144  \\\\\n",
       "\t 2015-09-30 & 1944.41    & 42.51000   &  90.66000  & 237.9450   & 2.17       & 2013.626   & 44.02325   &  93.88727  & 24.49675  \\\\\n",
       "\t ... & ... & ... & ... & ... & ... & ... & ... & ... & ...\\\\\n",
       "\t 1873-06-30 & 4.98       & 0.3150     & 0.4450     & 12.55923   & 5.534167   & 97.70888   & 6.180381   & 8.731014   & NA        \\\\\n",
       "\t 1873-05-31 & 5.05       & 0.3125     & 0.4425     & 12.93981   & 5.543333   & 96.16813   & 5.950998   & 8.426613   & NA        \\\\\n",
       "\t 1873-04-30 & 5.04       & 0.3100     & 0.4400     & 13.22522   & 5.552500   & 93.90639   & 5.775989   & 8.198177   & NA        \\\\\n",
       "\t 1873-03-31 & 5.11       & 0.3075     & 0.4375     & 13.22522   & 5.561667   & 95.21065   & 5.729408   & 8.151597   & NA        \\\\\n",
       "\t 1873-02-28 & 5.15       & 0.3050     & 0.4350     & 13.22522   & 5.570833   & 95.95594   & 5.682827   & 8.105016   & NA        \\\\\n",
       "\t 1873-01-31 & 5.11       & 0.3025     & 0.4325     & 12.93981   & 5.580000   & 97.31072   & 5.760566   & 8.236181   & NA        \\\\\n",
       "\t 1872-12-31 & 5.07       & 0.3000     & 0.4300     & 12.93981   & 5.561667   & 96.54899   & 5.712958   & 8.188573   & NA        \\\\\n",
       "\t 1872-11-30 & 4.95       & 0.2967     & 0.4275     & 13.13014   & 5.543333   & 92.89739   & 5.568213   & 8.022956   & NA        \\\\\n",
       "\t 1872-10-31 & 4.97       & 0.2933     & 0.4250     & 12.74948   & 5.525000   & 96.05758   & 5.668750   & 8.214179   & NA        \\\\\n",
       "\t 1872-09-30 & 4.95       & 0.2900     & 0.4225     & 13.03497   & 5.506667   & 93.57561   & 5.482208   & 7.987009   & NA        \\\\\n",
       "\t 1872-08-31 & 5.04       & 0.2867     & 0.4200     & 12.93981   & 5.488333   & 95.97770   & 5.459684   & 7.998142   & NA        \\\\\n",
       "\t 1872-07-31 & 5.10       & 0.2833     & 0.4175     & 12.84464   & 5.470000   & 97.83985   & 5.434908   & 8.009439   & NA        \\\\\n",
       "\t 1872-06-30 & 5.13       & 0.2800     & 0.4150     & 13.03497   & 5.451667   & 96.97836   & 5.293166   & 7.845228   & NA        \\\\\n",
       "\t 1872-05-31 & 5.18       & 0.2767     & 0.4125     & 13.13014   & 5.433333   & 97.21384   & 5.192870   & 7.741449   & NA        \\\\\n",
       "\t 1872-04-30 & 5.18       & 0.2733     & 0.4100     & 13.13014   & 5.415000   & 97.21384   & 5.129062   & 7.694531   & NA        \\\\\n",
       "\t 1872-03-31 & 5.04       & 0.2700     & 0.4075     & 12.84464   & 5.396667   & 96.68879   & 5.179757   & 7.817596   & NA        \\\\\n",
       "\t 1872-02-29 & 4.88       & 0.2667     & 0.4050     & 12.65439   & 5.378333   & 95.02681   & 5.193371   & 7.886446   & NA        \\\\\n",
       "\t 1872-01-31 & 4.86       & 0.2633     & 0.4025     & 12.65439   & 5.360000   & 94.63735   & 5.127163   & 7.837764   & NA        \\\\\n",
       "\t 1871-12-31 & 4.74       & 0.2600     & 0.4000     & 12.65439   & 5.356667   & 92.30063   & 5.062904   & 7.789082   & NA        \\\\\n",
       "\t 1871-11-30 & 4.64       & 0.2600     & 0.4000     & 12.36890   & 5.353333   & 92.43887   & 5.179764   & 7.968868   & NA        \\\\\n",
       "\t 1871-10-31 & 4.59       & 0.2600     & 0.4000     & 12.36890   & 5.350000   & 91.44276   & 5.179764   & 7.968868   & NA        \\\\\n",
       "\t 1871-09-30 & 4.84       & 0.2600     & 0.4000     & 12.17865   & 5.346667   & 97.92959   & 5.260680   & 8.093354   & NA        \\\\\n",
       "\t 1871-08-31 & 4.79       & 0.2600     & 0.4000     & 11.89323   & 5.343333   & 99.24376   & 5.386927   & 8.287579   & NA        \\\\\n",
       "\t 1871-07-31 & 4.73       & 0.2600     & 0.4000     & 12.08348   & 5.340000   & 96.45765   & 5.302112   & 8.157095   & NA        \\\\\n",
       "\t 1871-06-30 & 4.82       & 0.2600     & 0.4000     & 12.08348   & 5.336667   & 98.29299   & 5.302112   & 8.157095   & NA        \\\\\n",
       "\t 1871-05-31 & 4.86       & 0.2600     & 0.4000     & 12.27381   & 5.333333   & 97.57182   & 5.219892   & 8.030602   & NA        \\\\\n",
       "\t 1871-04-30 & 4.74       & 0.2600     & 0.4000     & 12.55923   & 5.330000   & 93.00002   & 5.101267   & 7.848103   & NA        \\\\\n",
       "\t 1871-03-31 & 4.61       & 0.2600     & 0.4000     & 13.03497   & 5.326667   & 87.14820   & 4.915083   & 7.561666   & NA        \\\\\n",
       "\t 1871-02-28 & 4.50       & 0.2600     & 0.4000     & 12.84464   & 5.323333   & 86.32928   & 4.987914   & 7.673714   & NA        \\\\\n",
       "\t 1871-01-31 & 4.44       & 0.2600     & 0.4000     & 12.46406   & 5.320000   & 87.77907   & 5.140216   & 7.908024   & NA        \\\\\n",
       "\\end{tabular}\n"
      ],
      "text/markdown": [
       "\n",
       "Year | S&P Composite | Dividend | Earnings | CPI | Long Interest Rate | Real Price | Real Dividend | Real Earnings | Cyclically Adjusted PE Ratio | \n",
       "|---|---|---|---|---|---|---|---|---|---|---|---|---|---|---|---|---|---|---|---|---|---|---|---|---|---|---|---|---|---|---|---|---|---|---|---|---|---|---|---|---|---|---|---|---|---|---|---|---|---|---|---|---|---|---|---|---|---|---|---|---|\n",
       "| 2018-02-28 | 2762.13    |       NA   |        NA  | 246.4152   | 2.78       | 2762.130   |       NA   |        NA  | 33.40820   | \n",
       "| 2018-01-31 | 2789.80    |       NA   |        NA  | 246.4515   | 2.58       | 2789.390   |       NA   |        NA  | 33.76469   | \n",
       "| 2017-12-31 | 2664.34    | 48.93000   |        NA  | 246.5240   | 2.40       | 2663.165   | 48.90842   |        NA  | 32.25322   | \n",
       "| 2017-11-30 | 2593.61    | 48.67667   |        NA  | 246.6690   | 2.35       | 2590.942   | 48.62659   |        NA  | 31.37894   | \n",
       "| 2017-10-31 | 2557.00    | 48.42333   |        NA  | 246.6630   | 2.36       | 2554.432   | 48.37470   |        NA  | 30.92039   | \n",
       "| 2017-09-30 | 2492.84    | 48.17000   | 107.08000  | 246.8190   | 2.20       | 2488.762   | 48.09120   | 106.90484  | 30.16811   | \n",
       "| 2017-08-31 | 2456.22    | 47.85333   | 106.06000  | 245.5190   | 2.21       | 2465.186   | 48.02802   | 106.44716  | 29.91496   | \n",
       "| 2017-07-31 | 2454.10    | 47.53667   | 105.04000  | 244.7860   | 2.32       | 2470.434   | 47.85306   | 105.73913  | 30.00222   | \n",
       "| 2017-06-30 | 2433.99    | 47.22000   | 104.02000  | 244.9550   | 2.19       | 2448.500   | 47.50149   | 104.64009  | 29.74850   | \n",
       "| 2017-05-31 | 2395.35    | 46.94000   | 102.77667  | 244.7330   | 2.30       | 2411.815   | 47.26266   | 103.48313  | 29.31334   | \n",
       "| 2017-04-30 | 2359.31    | 46.66000   | 101.53333  | 244.5240   | 2.30       | 2377.558   | 47.02089   | 102.31863  | 28.90425   | \n",
       "| 2017-03-31 | 2366.82    | 46.38000   | 100.29000  | 243.8010   | 2.48       | 2392.199   | 46.87733   | 101.36540  | 29.08692   | \n",
       "| 2017-02-28 | 2329.91    | 46.15333   |  98.37667  | 243.6030   | 2.42       | 2356.807   | 46.68615   |  99.51237  | 28.65511   | \n",
       "| 2017-01-31 | 2275.12    | 45.92667   |  96.46333  | 242.8390   | 2.43       | 2308.625   | 46.60302   |  97.88393  | 28.06357   | \n",
       "| 2016-12-31 | 2246.63    | 45.70000   |  94.55000  | 241.4320   | 2.49       | 2293.001   | 46.64327   |  96.50155  | 27.86510   | \n",
       "| 2016-11-30 | 2164.99    | 45.47667   |  92.73000  | 241.3530   | 2.14       | 2210.400   | 46.43052   |  94.67496  | 26.85095   | \n",
       "| 2016-10-31 | 2143.02    | 45.25333   |  90.91000  | 241.7290   | 1.76       | 2184.565   | 46.13063   |  92.67242  | 26.52514   | \n",
       "| 2016-09-30 | 2157.69    | 45.03000   |  89.09000  | 241.4280   | 1.63       | 2202.262   | 45.96020   |  90.93036  | 26.72787   | \n",
       "| 2016-08-31 | 2170.95    | 44.84000   |  88.36667  | 240.8490   | 1.56       | 2221.123   | 45.87630   |  90.40890  | 26.94887   | \n",
       "| 2016-07-31 | 2148.90    | 44.65000   |  87.64333  | 240.6280   | 1.50       | 2200.582   | 45.72386   |  89.75121  | 26.69400   | \n",
       "| 2016-06-30 | 2083.89    | 44.46000   |  86.92000  | 241.0180   | 1.64       | 2130.556   | 45.45562   |  88.86645  | 25.84037   | \n",
       "| 2016-05-31 | 2065.55    | 44.26667   |  86.76000  | 240.2290   | 1.81       | 2118.741   | 45.40660   |  88.99420  | 25.69471   | \n",
       "| 2016-04-30 | 2075.54    | 44.07333   |  86.60000  | 239.2610   | 1.81       | 2137.602   | 45.39119   |  89.18947  | 25.92234   | \n",
       "| 2016-03-31 | 2021.95    | 43.88000   |  86.44000  | 238.1320   | 1.89       | 2092.282   | 45.40633   |  89.44675  | 25.37230   | \n",
       "| 2016-02-29 | 1904.42    | 43.71667   |  86.47000  | 237.1110   | 1.78       | 1979.150   | 45.43211   |  89.86309  | 24.00261   | \n",
       "| 2016-01-31 | 1918.60    | 43.55333   |  86.50000  | 236.9160   | 2.09       | 1995.527   | 45.29962   |  89.96826  | 24.20617   | \n",
       "| 2015-12-31 | 2054.08    | 43.39000   |  86.53000  | 236.5250   | 2.24       | 2139.971   | 45.20434   |  90.14824  | 25.96542   | \n",
       "| 2015-11-30 | 2080.62    | 43.09667   |  87.90667  | 237.3360   | 2.26       | 2160.214   | 44.74532   |  91.26952  | 26.22585   | \n",
       "| 2015-10-31 | 2024.81    | 42.80333   |  89.28333  | 237.8380   | 2.07       | 2097.832   | 44.34697   |  92.50320  | 25.49144   | \n",
       "| 2015-09-30 | 1944.41    | 42.51000   |  90.66000  | 237.9450   | 2.17       | 2013.626   | 44.02325   |  93.88727  | 24.49675   | \n",
       "| ... | ... | ... | ... | ... | ... | ... | ... | ... | ... | \n",
       "| 1873-06-30 | 4.98       | 0.3150     | 0.4450     | 12.55923   | 5.534167   | 97.70888   | 6.180381   | 8.731014   | NA         | \n",
       "| 1873-05-31 | 5.05       | 0.3125     | 0.4425     | 12.93981   | 5.543333   | 96.16813   | 5.950998   | 8.426613   | NA         | \n",
       "| 1873-04-30 | 5.04       | 0.3100     | 0.4400     | 13.22522   | 5.552500   | 93.90639   | 5.775989   | 8.198177   | NA         | \n",
       "| 1873-03-31 | 5.11       | 0.3075     | 0.4375     | 13.22522   | 5.561667   | 95.21065   | 5.729408   | 8.151597   | NA         | \n",
       "| 1873-02-28 | 5.15       | 0.3050     | 0.4350     | 13.22522   | 5.570833   | 95.95594   | 5.682827   | 8.105016   | NA         | \n",
       "| 1873-01-31 | 5.11       | 0.3025     | 0.4325     | 12.93981   | 5.580000   | 97.31072   | 5.760566   | 8.236181   | NA         | \n",
       "| 1872-12-31 | 5.07       | 0.3000     | 0.4300     | 12.93981   | 5.561667   | 96.54899   | 5.712958   | 8.188573   | NA         | \n",
       "| 1872-11-30 | 4.95       | 0.2967     | 0.4275     | 13.13014   | 5.543333   | 92.89739   | 5.568213   | 8.022956   | NA         | \n",
       "| 1872-10-31 | 4.97       | 0.2933     | 0.4250     | 12.74948   | 5.525000   | 96.05758   | 5.668750   | 8.214179   | NA         | \n",
       "| 1872-09-30 | 4.95       | 0.2900     | 0.4225     | 13.03497   | 5.506667   | 93.57561   | 5.482208   | 7.987009   | NA         | \n",
       "| 1872-08-31 | 5.04       | 0.2867     | 0.4200     | 12.93981   | 5.488333   | 95.97770   | 5.459684   | 7.998142   | NA         | \n",
       "| 1872-07-31 | 5.10       | 0.2833     | 0.4175     | 12.84464   | 5.470000   | 97.83985   | 5.434908   | 8.009439   | NA         | \n",
       "| 1872-06-30 | 5.13       | 0.2800     | 0.4150     | 13.03497   | 5.451667   | 96.97836   | 5.293166   | 7.845228   | NA         | \n",
       "| 1872-05-31 | 5.18       | 0.2767     | 0.4125     | 13.13014   | 5.433333   | 97.21384   | 5.192870   | 7.741449   | NA         | \n",
       "| 1872-04-30 | 5.18       | 0.2733     | 0.4100     | 13.13014   | 5.415000   | 97.21384   | 5.129062   | 7.694531   | NA         | \n",
       "| 1872-03-31 | 5.04       | 0.2700     | 0.4075     | 12.84464   | 5.396667   | 96.68879   | 5.179757   | 7.817596   | NA         | \n",
       "| 1872-02-29 | 4.88       | 0.2667     | 0.4050     | 12.65439   | 5.378333   | 95.02681   | 5.193371   | 7.886446   | NA         | \n",
       "| 1872-01-31 | 4.86       | 0.2633     | 0.4025     | 12.65439   | 5.360000   | 94.63735   | 5.127163   | 7.837764   | NA         | \n",
       "| 1871-12-31 | 4.74       | 0.2600     | 0.4000     | 12.65439   | 5.356667   | 92.30063   | 5.062904   | 7.789082   | NA         | \n",
       "| 1871-11-30 | 4.64       | 0.2600     | 0.4000     | 12.36890   | 5.353333   | 92.43887   | 5.179764   | 7.968868   | NA         | \n",
       "| 1871-10-31 | 4.59       | 0.2600     | 0.4000     | 12.36890   | 5.350000   | 91.44276   | 5.179764   | 7.968868   | NA         | \n",
       "| 1871-09-30 | 4.84       | 0.2600     | 0.4000     | 12.17865   | 5.346667   | 97.92959   | 5.260680   | 8.093354   | NA         | \n",
       "| 1871-08-31 | 4.79       | 0.2600     | 0.4000     | 11.89323   | 5.343333   | 99.24376   | 5.386927   | 8.287579   | NA         | \n",
       "| 1871-07-31 | 4.73       | 0.2600     | 0.4000     | 12.08348   | 5.340000   | 96.45765   | 5.302112   | 8.157095   | NA         | \n",
       "| 1871-06-30 | 4.82       | 0.2600     | 0.4000     | 12.08348   | 5.336667   | 98.29299   | 5.302112   | 8.157095   | NA         | \n",
       "| 1871-05-31 | 4.86       | 0.2600     | 0.4000     | 12.27381   | 5.333333   | 97.57182   | 5.219892   | 8.030602   | NA         | \n",
       "| 1871-04-30 | 4.74       | 0.2600     | 0.4000     | 12.55923   | 5.330000   | 93.00002   | 5.101267   | 7.848103   | NA         | \n",
       "| 1871-03-31 | 4.61       | 0.2600     | 0.4000     | 13.03497   | 5.326667   | 87.14820   | 4.915083   | 7.561666   | NA         | \n",
       "| 1871-02-28 | 4.50       | 0.2600     | 0.4000     | 12.84464   | 5.323333   | 86.32928   | 4.987914   | 7.673714   | NA         | \n",
       "| 1871-01-31 | 4.44       | 0.2600     | 0.4000     | 12.46406   | 5.320000   | 87.77907   | 5.140216   | 7.908024   | NA         | \n",
       "\n",
       "\n"
      ],
      "text/plain": [
       "     Year       S&P Composite Dividend Earnings  CPI      Long Interest Rate\n",
       "1    2018-02-28 2762.13             NA        NA 246.4152 2.78              \n",
       "2    2018-01-31 2789.80             NA        NA 246.4515 2.58              \n",
       "3    2017-12-31 2664.34       48.93000        NA 246.5240 2.40              \n",
       "4    2017-11-30 2593.61       48.67667        NA 246.6690 2.35              \n",
       "5    2017-10-31 2557.00       48.42333        NA 246.6630 2.36              \n",
       "6    2017-09-30 2492.84       48.17000 107.08000 246.8190 2.20              \n",
       "7    2017-08-31 2456.22       47.85333 106.06000 245.5190 2.21              \n",
       "8    2017-07-31 2454.10       47.53667 105.04000 244.7860 2.32              \n",
       "9    2017-06-30 2433.99       47.22000 104.02000 244.9550 2.19              \n",
       "10   2017-05-31 2395.35       46.94000 102.77667 244.7330 2.30              \n",
       "11   2017-04-30 2359.31       46.66000 101.53333 244.5240 2.30              \n",
       "12   2017-03-31 2366.82       46.38000 100.29000 243.8010 2.48              \n",
       "13   2017-02-28 2329.91       46.15333  98.37667 243.6030 2.42              \n",
       "14   2017-01-31 2275.12       45.92667  96.46333 242.8390 2.43              \n",
       "15   2016-12-31 2246.63       45.70000  94.55000 241.4320 2.49              \n",
       "16   2016-11-30 2164.99       45.47667  92.73000 241.3530 2.14              \n",
       "17   2016-10-31 2143.02       45.25333  90.91000 241.7290 1.76              \n",
       "18   2016-09-30 2157.69       45.03000  89.09000 241.4280 1.63              \n",
       "19   2016-08-31 2170.95       44.84000  88.36667 240.8490 1.56              \n",
       "20   2016-07-31 2148.90       44.65000  87.64333 240.6280 1.50              \n",
       "21   2016-06-30 2083.89       44.46000  86.92000 241.0180 1.64              \n",
       "22   2016-05-31 2065.55       44.26667  86.76000 240.2290 1.81              \n",
       "23   2016-04-30 2075.54       44.07333  86.60000 239.2610 1.81              \n",
       "24   2016-03-31 2021.95       43.88000  86.44000 238.1320 1.89              \n",
       "25   2016-02-29 1904.42       43.71667  86.47000 237.1110 1.78              \n",
       "26   2016-01-31 1918.60       43.55333  86.50000 236.9160 2.09              \n",
       "27   2015-12-31 2054.08       43.39000  86.53000 236.5250 2.24              \n",
       "28   2015-11-30 2080.62       43.09667  87.90667 237.3360 2.26              \n",
       "29   2015-10-31 2024.81       42.80333  89.28333 237.8380 2.07              \n",
       "30   2015-09-30 1944.41       42.51000  90.66000 237.9450 2.17              \n",
       "...  ...        ...           ...      ...       ...      ...               \n",
       "1737 1873-06-30 4.98          0.3150   0.4450    12.55923 5.534167          \n",
       "1738 1873-05-31 5.05          0.3125   0.4425    12.93981 5.543333          \n",
       "1739 1873-04-30 5.04          0.3100   0.4400    13.22522 5.552500          \n",
       "1740 1873-03-31 5.11          0.3075   0.4375    13.22522 5.561667          \n",
       "1741 1873-02-28 5.15          0.3050   0.4350    13.22522 5.570833          \n",
       "1742 1873-01-31 5.11          0.3025   0.4325    12.93981 5.580000          \n",
       "1743 1872-12-31 5.07          0.3000   0.4300    12.93981 5.561667          \n",
       "1744 1872-11-30 4.95          0.2967   0.4275    13.13014 5.543333          \n",
       "1745 1872-10-31 4.97          0.2933   0.4250    12.74948 5.525000          \n",
       "1746 1872-09-30 4.95          0.2900   0.4225    13.03497 5.506667          \n",
       "1747 1872-08-31 5.04          0.2867   0.4200    12.93981 5.488333          \n",
       "1748 1872-07-31 5.10          0.2833   0.4175    12.84464 5.470000          \n",
       "1749 1872-06-30 5.13          0.2800   0.4150    13.03497 5.451667          \n",
       "1750 1872-05-31 5.18          0.2767   0.4125    13.13014 5.433333          \n",
       "1751 1872-04-30 5.18          0.2733   0.4100    13.13014 5.415000          \n",
       "1752 1872-03-31 5.04          0.2700   0.4075    12.84464 5.396667          \n",
       "1753 1872-02-29 4.88          0.2667   0.4050    12.65439 5.378333          \n",
       "1754 1872-01-31 4.86          0.2633   0.4025    12.65439 5.360000          \n",
       "1755 1871-12-31 4.74          0.2600   0.4000    12.65439 5.356667          \n",
       "1756 1871-11-30 4.64          0.2600   0.4000    12.36890 5.353333          \n",
       "1757 1871-10-31 4.59          0.2600   0.4000    12.36890 5.350000          \n",
       "1758 1871-09-30 4.84          0.2600   0.4000    12.17865 5.346667          \n",
       "1759 1871-08-31 4.79          0.2600   0.4000    11.89323 5.343333          \n",
       "1760 1871-07-31 4.73          0.2600   0.4000    12.08348 5.340000          \n",
       "1761 1871-06-30 4.82          0.2600   0.4000    12.08348 5.336667          \n",
       "1762 1871-05-31 4.86          0.2600   0.4000    12.27381 5.333333          \n",
       "1763 1871-04-30 4.74          0.2600   0.4000    12.55923 5.330000          \n",
       "1764 1871-03-31 4.61          0.2600   0.4000    13.03497 5.326667          \n",
       "1765 1871-02-28 4.50          0.2600   0.4000    12.84464 5.323333          \n",
       "1766 1871-01-31 4.44          0.2600   0.4000    12.46406 5.320000          \n",
       "     Real Price Real Dividend Real Earnings Cyclically Adjusted PE Ratio\n",
       "1    2762.130         NA             NA     33.40820                    \n",
       "2    2789.390         NA             NA     33.76469                    \n",
       "3    2663.165   48.90842             NA     32.25322                    \n",
       "4    2590.942   48.62659             NA     31.37894                    \n",
       "5    2554.432   48.37470             NA     30.92039                    \n",
       "6    2488.762   48.09120      106.90484     30.16811                    \n",
       "7    2465.186   48.02802      106.44716     29.91496                    \n",
       "8    2470.434   47.85306      105.73913     30.00222                    \n",
       "9    2448.500   47.50149      104.64009     29.74850                    \n",
       "10   2411.815   47.26266      103.48313     29.31334                    \n",
       "11   2377.558   47.02089      102.31863     28.90425                    \n",
       "12   2392.199   46.87733      101.36540     29.08692                    \n",
       "13   2356.807   46.68615       99.51237     28.65511                    \n",
       "14   2308.625   46.60302       97.88393     28.06357                    \n",
       "15   2293.001   46.64327       96.50155     27.86510                    \n",
       "16   2210.400   46.43052       94.67496     26.85095                    \n",
       "17   2184.565   46.13063       92.67242     26.52514                    \n",
       "18   2202.262   45.96020       90.93036     26.72787                    \n",
       "19   2221.123   45.87630       90.40890     26.94887                    \n",
       "20   2200.582   45.72386       89.75121     26.69400                    \n",
       "21   2130.556   45.45562       88.86645     25.84037                    \n",
       "22   2118.741   45.40660       88.99420     25.69471                    \n",
       "23   2137.602   45.39119       89.18947     25.92234                    \n",
       "24   2092.282   45.40633       89.44675     25.37230                    \n",
       "25   1979.150   45.43211       89.86309     24.00261                    \n",
       "26   1995.527   45.29962       89.96826     24.20617                    \n",
       "27   2139.971   45.20434       90.14824     25.96542                    \n",
       "28   2160.214   44.74532       91.26952     26.22585                    \n",
       "29   2097.832   44.34697       92.50320     25.49144                    \n",
       "30   2013.626   44.02325       93.88727     24.49675                    \n",
       "...  ...        ...           ...           ...                         \n",
       "1737 97.70888   6.180381      8.731014      NA                          \n",
       "1738 96.16813   5.950998      8.426613      NA                          \n",
       "1739 93.90639   5.775989      8.198177      NA                          \n",
       "1740 95.21065   5.729408      8.151597      NA                          \n",
       "1741 95.95594   5.682827      8.105016      NA                          \n",
       "1742 97.31072   5.760566      8.236181      NA                          \n",
       "1743 96.54899   5.712958      8.188573      NA                          \n",
       "1744 92.89739   5.568213      8.022956      NA                          \n",
       "1745 96.05758   5.668750      8.214179      NA                          \n",
       "1746 93.57561   5.482208      7.987009      NA                          \n",
       "1747 95.97770   5.459684      7.998142      NA                          \n",
       "1748 97.83985   5.434908      8.009439      NA                          \n",
       "1749 96.97836   5.293166      7.845228      NA                          \n",
       "1750 97.21384   5.192870      7.741449      NA                          \n",
       "1751 97.21384   5.129062      7.694531      NA                          \n",
       "1752 96.68879   5.179757      7.817596      NA                          \n",
       "1753 95.02681   5.193371      7.886446      NA                          \n",
       "1754 94.63735   5.127163      7.837764      NA                          \n",
       "1755 92.30063   5.062904      7.789082      NA                          \n",
       "1756 92.43887   5.179764      7.968868      NA                          \n",
       "1757 91.44276   5.179764      7.968868      NA                          \n",
       "1758 97.92959   5.260680      8.093354      NA                          \n",
       "1759 99.24376   5.386927      8.287579      NA                          \n",
       "1760 96.45765   5.302112      8.157095      NA                          \n",
       "1761 98.29299   5.302112      8.157095      NA                          \n",
       "1762 97.57182   5.219892      8.030602      NA                          \n",
       "1763 93.00002   5.101267      7.848103      NA                          \n",
       "1764 87.14820   4.915083      7.561666      NA                          \n",
       "1765 86.32928   4.987914      7.673714      NA                          \n",
       "1766 87.77907   5.140216      7.908024      NA                          "
      ]
     },
     "metadata": {},
     "output_type": "display_data"
    }
   ],
   "source": [
    "#now let's try downloading data and writing to a variable:\n",
    "data <- Quandl(\"YALE/SPCOMP\")\n",
    "data"
   ]
  },
  {
   "cell_type": "code",
   "execution_count": 52,
   "metadata": {},
   "outputs": [
    {
     "name": "stdout",
     "output_type": "stream",
     "text": [
      "'data.frame':\t3 obs. of  3 variables:\n",
      " $ employee : Factor w/ 3 levels \"John Doe\",\"Jolie Hope\",..: 1 3 2\n",
      " $ salary   : num  21000 23400 26800\n",
      " $ startdate: Date, format: \"2010-11-01\" \"2008-03-25\" ...\n"
     ]
    }
   ],
   "source": [
    "# working with R vectors and dataframe: http://www.dummies.com/programming/r/how-to-create-a-data-frame-from-scratch-in-r/\n",
    "# we make 3 vectors:\n",
    "employee <- c(\n",
    "    'John Doe',\n",
    "    'Peter Gynn',\n",
    "    'Jolie Hope'\n",
    "            )\n",
    "salary <- c(21000, 23400, 26800)\n",
    "startdate <- as.Date(c('2010-11-1','2008-3-25','2007-3-14'))\n",
    "\n",
    "#we combine into 1 dataframe called employ:\n",
    "employ.data <- data.frame(employee, salary, startdate)\n",
    "\n",
    "#we output contents of dataframe employ:\n",
    "str(employ.data)"
   ]
  },
  {
   "cell_type": "code",
   "execution_count": 53,
   "metadata": {},
   "outputs": [
    {
     "data": {
      "text/html": [
       "'character'"
      ],
      "text/latex": [
       "'character'"
      ],
      "text/markdown": [
       "'character'"
      ],
      "text/plain": [
       "[1] \"character\""
      ]
     },
     "metadata": {},
     "output_type": "display_data"
    }
   ],
   "source": [
    "#LET'S WORK WITH R STATISTICS.\n",
    "# HERE IS A BOOK: http://r4ds.had.co.nz/index.html\n",
    "\n",
    "#first we need to learn how to mask NA values:\n",
    "#https://stackoverflow.com/questions/2613420/handling-missing-incomplete-data-in-r-is-there-function-to-mask-but-not-remove\n",
    "#use the na.rm=T flag\n",
    "# v = mean( c(5, NA, 6, 12, NA, 87, 9, NA, 43, 67), na.rm=T)\n",
    "#       (5, 6, 12, 87, 9, 43, 67)\n",
    "typeof(colnames(data))\n",
    "\n",
    "\n",
    "\n"
   ]
  }
 ],
 "metadata": {
  "kernelspec": {
   "display_name": "R",
   "language": "R",
   "name": "ir"
  },
  "language_info": {
   "codemirror_mode": "r",
   "file_extension": ".r",
   "mimetype": "text/x-r-source",
   "name": "R",
   "pygments_lexer": "r",
   "version": "3.4.2"
  }
 },
 "nbformat": 4,
 "nbformat_minor": 2
}
