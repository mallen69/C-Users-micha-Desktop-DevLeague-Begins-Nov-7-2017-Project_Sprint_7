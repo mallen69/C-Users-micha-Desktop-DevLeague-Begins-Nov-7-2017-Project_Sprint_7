{
 "cells": [
  {
   "cell_type": "raw",
   "metadata": {
    "collapsed": true
   },
   "source": [
    "# Preliminary Findings and Hypotheses Sprint Journal for Jon Honda"
   ]
  },
  {
   "cell_type": "markdown",
   "metadata": {},
   "source": [
    "## Part 1 (Week 1): Pair EDA and Concept Demonstration\n",
    "\n",
    "### 1. Exploratory Data Analysis Concepts to use or test on this project\n",
    "During week 1, I will explore each of the following EDA concepts topically. I will identify items that I know well, items that I know somewhat well, and items that I don't know at all. I will use this exploration to further identify a subset of these concepts to deeply explore during week 2."
   ]
  },
  {
   "cell_type": "markdown",
   "metadata": {},
   "source": [
    "#### Here are the concepts i will explore (defined as an R vector):"
   ]
  },
  {
   "cell_type": "code",
   "execution_count": 84,
   "metadata": {
    "collapsed": true
   },
   "outputs": [],
   "source": [
    "EDA_Concepts <- c(\n",
    "    'sample',\n",
    "    'statistic',\n",
    "    'population',\n",
    "    'parameter',\n",
    "    'central tendency',\n",
    "    'variation',\n",
    "     'univariate',\n",
    "     'multivariate',\n",
    "     'distribution',\n",
    "     'categorical variable',\n",
    "     'continuous / quantitative variable',\n",
    "     'variance',\n",
    "     'standard deviation',\n",
    "     'interquartile range',\n",
    "     'skewness',\n",
    "     'kurtosis',\n",
    "     'histogram',\n",
    "     'stem and leaf',\n",
    "     'box plot',\n",
    "     'outlier',\n",
    "     'cross tabulation',\n",
    "     'anova',\n",
    "     'correlation',\n",
    "     'covariance'\n",
    ")"
   ]
  },
  {
   "cell_type": "markdown",
   "metadata": {},
   "source": [
    "#### Before doing my breadth first analysis, here is how I feel about each concept on a 1 to 5 scale; "
   ]
  },
  {
   "cell_type": "code",
   "execution_count": 85,
   "metadata": {},
   "outputs": [
    {
     "data": {
      "text/html": [
       "<table>\n",
       "<thead><tr><th scope=col>EDA_Concepts</th><th scope=col>PreBreadth_Knowledge</th></tr></thead>\n",
       "<tbody>\n",
       "\t<tr><td>sample                            </td><td>5                                 </td></tr>\n",
       "\t<tr><td>statistic                         </td><td>5                                 </td></tr>\n",
       "\t<tr><td>population                        </td><td>5                                 </td></tr>\n",
       "\t<tr><td>parameter                         </td><td>5                                 </td></tr>\n",
       "\t<tr><td>central tendency                  </td><td>5                                 </td></tr>\n",
       "\t<tr><td>variation                         </td><td>4                                 </td></tr>\n",
       "\t<tr><td>univariate                        </td><td>5                                 </td></tr>\n",
       "\t<tr><td>multivariate                      </td><td>3                                 </td></tr>\n",
       "\t<tr><td>distribution                      </td><td>4                                 </td></tr>\n",
       "\t<tr><td>categorical variable              </td><td>2                                 </td></tr>\n",
       "\t<tr><td>continuous / quantitative variable</td><td>5                                 </td></tr>\n",
       "\t<tr><td>variance                          </td><td>5                                 </td></tr>\n",
       "\t<tr><td>standard deviation                </td><td>5                                 </td></tr>\n",
       "\t<tr><td>interquartile range               </td><td>3                                 </td></tr>\n",
       "\t<tr><td>skewness                          </td><td>2                                 </td></tr>\n",
       "\t<tr><td>kurtosis                          </td><td>1                                 </td></tr>\n",
       "\t<tr><td>histogram                         </td><td>5                                 </td></tr>\n",
       "\t<tr><td>stem and leaf                     </td><td>1                                 </td></tr>\n",
       "\t<tr><td>box plot                          </td><td>2                                 </td></tr>\n",
       "\t<tr><td>outlier                           </td><td>5                                 </td></tr>\n",
       "\t<tr><td>cross tabulation                  </td><td>1                                 </td></tr>\n",
       "\t<tr><td>anova                             </td><td>2                                 </td></tr>\n",
       "\t<tr><td>correlation                       </td><td>3                                 </td></tr>\n",
       "\t<tr><td>covariance                        </td><td>5                                 </td></tr>\n",
       "</tbody>\n",
       "</table>\n"
      ],
      "text/latex": [
       "\\begin{tabular}{r|ll}\n",
       " EDA\\_Concepts & PreBreadth\\_Knowledge\\\\\n",
       "\\hline\n",
       "\t sample                             & 5                                 \\\\\n",
       "\t statistic                          & 5                                 \\\\\n",
       "\t population                         & 5                                 \\\\\n",
       "\t parameter                          & 5                                 \\\\\n",
       "\t central tendency                   & 5                                 \\\\\n",
       "\t variation                          & 4                                 \\\\\n",
       "\t univariate                         & 5                                 \\\\\n",
       "\t multivariate                       & 3                                 \\\\\n",
       "\t distribution                       & 4                                 \\\\\n",
       "\t categorical variable               & 2                                 \\\\\n",
       "\t continuous / quantitative variable & 5                                 \\\\\n",
       "\t variance                           & 5                                 \\\\\n",
       "\t standard deviation                 & 5                                 \\\\\n",
       "\t interquartile range                & 3                                 \\\\\n",
       "\t skewness                           & 2                                 \\\\\n",
       "\t kurtosis                           & 1                                 \\\\\n",
       "\t histogram                          & 5                                 \\\\\n",
       "\t stem and leaf                      & 1                                 \\\\\n",
       "\t box plot                           & 2                                 \\\\\n",
       "\t outlier                            & 5                                 \\\\\n",
       "\t cross tabulation                   & 1                                 \\\\\n",
       "\t anova                              & 2                                 \\\\\n",
       "\t correlation                        & 3                                 \\\\\n",
       "\t covariance                         & 5                                 \\\\\n",
       "\\end{tabular}\n"
      ],
      "text/markdown": [
       "\n",
       "EDA_Concepts | PreBreadth_Knowledge | \n",
       "|---|---|---|---|---|---|---|---|---|---|---|---|---|---|---|---|---|---|---|---|---|---|---|---|\n",
       "| sample                             | 5                                  | \n",
       "| statistic                          | 5                                  | \n",
       "| population                         | 5                                  | \n",
       "| parameter                          | 5                                  | \n",
       "| central tendency                   | 5                                  | \n",
       "| variation                          | 4                                  | \n",
       "| univariate                         | 5                                  | \n",
       "| multivariate                       | 3                                  | \n",
       "| distribution                       | 4                                  | \n",
       "| categorical variable               | 2                                  | \n",
       "| continuous / quantitative variable | 5                                  | \n",
       "| variance                           | 5                                  | \n",
       "| standard deviation                 | 5                                  | \n",
       "| interquartile range                | 3                                  | \n",
       "| skewness                           | 2                                  | \n",
       "| kurtosis                           | 1                                  | \n",
       "| histogram                          | 5                                  | \n",
       "| stem and leaf                      | 1                                  | \n",
       "| box plot                           | 2                                  | \n",
       "| outlier                            | 5                                  | \n",
       "| cross tabulation                   | 1                                  | \n",
       "| anova                              | 2                                  | \n",
       "| correlation                        | 3                                  | \n",
       "| covariance                         | 5                                  | \n",
       "\n",
       "\n"
      ],
      "text/plain": [
       "   EDA_Concepts                       PreBreadth_Knowledge\n",
       "1  sample                             5                   \n",
       "2  statistic                          5                   \n",
       "3  population                         5                   \n",
       "4  parameter                          5                   \n",
       "5  central tendency                   5                   \n",
       "6  variation                          4                   \n",
       "7  univariate                         5                   \n",
       "8  multivariate                       3                   \n",
       "9  distribution                       4                   \n",
       "10 categorical variable               2                   \n",
       "11 continuous / quantitative variable 5                   \n",
       "12 variance                           5                   \n",
       "13 standard deviation                 5                   \n",
       "14 interquartile range                3                   \n",
       "15 skewness                           2                   \n",
       "16 kurtosis                           1                   \n",
       "17 histogram                          5                   \n",
       "18 stem and leaf                      1                   \n",
       "19 box plot                           2                   \n",
       "20 outlier                            5                   \n",
       "21 cross tabulation                   1                   \n",
       "22 anova                              2                   \n",
       "23 correlation                        3                   \n",
       "24 covariance                         5                   "
      ]
     },
     "metadata": {},
     "output_type": "display_data"
    }
   ],
   "source": [
    "PreBreadth_Knowledge <- rep(1, length(EDA_Concepts)) #initialize the vector\n",
    "\n",
    "#now let's assign values:\n",
    "PreBreadth_Knowledge[match(c('sample'),EDA_Concepts)] = 5\n",
    "PreBreadth_Knowledge[match(c('statistic'),EDA_Concepts)] = 5\n",
    "PreBreadth_Knowledge[match(c('population'),EDA_Concepts)] = 5\n",
    "PreBreadth_Knowledge[match(c('parameter'),EDA_Concepts)] = 5\n",
    "PreBreadth_Knowledge[match(c('central tendency'),EDA_Concepts)] = 5\n",
    "PreBreadth_Knowledge[match(c('variation'),EDA_Concepts)] = 4\n",
    "PreBreadth_Knowledge[match(c('univariate'),EDA_Concepts)] = 5\n",
    "PreBreadth_Knowledge[match(c('multivariate'),EDA_Concepts)] = 3\n",
    "PreBreadth_Knowledge[match(c('distribution'),EDA_Concepts)] = 4 \n",
    "PreBreadth_Knowledge[match(c('categorical variable'),EDA_Concepts)] = 2\n",
    "PreBreadth_Knowledge[match(c('continuous / quantitative variable'),EDA_Concepts)] = 5\n",
    "PreBreadth_Knowledge[match(c('variance'),EDA_Concepts)] = 5\n",
    "PreBreadth_Knowledge[match(c('standard deviation'),EDA_Concepts)] = 5\n",
    "PreBreadth_Knowledge[match(c('interquartile range'),EDA_Concepts)] = 3\n",
    "PreBreadth_Knowledge[match(c('skewness'),EDA_Concepts)] = 2\n",
    "PreBreadth_Knowledge[match(c('kurtosis'),EDA_Concepts)] = 1\n",
    "PreBreadth_Knowledge[match(c('histogram'),EDA_Concepts)] = 5\n",
    "PreBreadth_Knowledge[match(c('stem and leaf'),EDA_Concepts)] = 1\n",
    "PreBreadth_Knowledge[match(c('box plot'),EDA_Concepts)] = 2\n",
    "PreBreadth_Knowledge[match(c('outlier'),EDA_Concepts)] = 5\n",
    "PreBreadth_Knowledge[match(c('cross tabulation'),EDA_Concepts)] = 1\n",
    "PreBreadth_Knowledge[match(c('anova'),EDA_Concepts)] = 2\n",
    "PreBreadth_Knowledge[match(c('correlation'),EDA_Concepts)] = 3\n",
    "PreBreadth_Knowledge[match(c('covariance'),EDA_Concepts)] = 5\n",
    "\n",
    "data.frame(EDA_Concepts,PreBreadth_Knowledge) #display my knowledge\n"
   ]
  },
  {
   "cell_type": "code",
   "execution_count": null,
   "metadata": {
    "collapsed": true
   },
   "outputs": [],
   "source": []
  },
  {
   "cell_type": "markdown",
   "metadata": {},
   "source": [
    "### 2. Professionally Relevant Datasets\n",
    "I have an interest in financial analysis and company valuations. I will work with Quandl data sets:\n",
    "\n",
    "1. WIKI dataset (closing stock prices).  I'll select 1 company\n",
    "2. Federal reserve data set: quarterly GDP (FRED/GDP)\n",
    "3. Yale Dept of Economics: S&P 500 data (YALE/SPCOMP)\n",
    "\n",
    "### 3. EDA Steps for your partner to explore your dataset(s)\n",
    "The first part of this sprint project will be to trade datasets with a partner. The idea for the exercise is to think about what you think might be interesting about a dataset and create an EDA plan to explore it. Except the first pass will be for your partner to carry out your EDA plan and report back to you with preliminary findings.\n",
    "\n",
    "Create a new Jupyter notebook (python or R) that loads your dataset and includes cells for the steps you want your partner to take and empty cells for the code to complete them as well as empty cells where preliminary findings should go.\n",
    "\n",
    "### 4. Carrying out your Partner's EDA Steps\n",
    "Complete the EDA process notebook your partner created\n",
    "\n",
    "### 5. Applying your EDA Concepts (step 1) to your partner's dataset. \n",
    "Use your partner's dataset as a basis to explore the concepts for this week\n",
    "\n",
    "## Part 2 (Week 2): EDA of your Dataset\n",
    "Walk through a polished Exploratory Data Analysis exercise in your personal repo. This can include the steps that you laid out originally, any new steps and new ideas you have, or any new techniques you developed from the concepts in (5.) above. \n",
    "\n",
    "Your final deliverable repo should include a \n",
    "- 1.) readme and a script file OR\n",
    "- 2.) a notebook \n",
    "\n",
    "that illustrates your analysis and leads to preliminary findings and hypotheses about the dataset for future investigation or more thorough analysis."
   ]
  },
  {
   "cell_type": "markdown",
   "metadata": {},
   "source": [
    "# Key Concepts"
   ]
  },
  {
   "cell_type": "markdown",
   "metadata": {},
   "source": [
    "I'm using Quandl data sets. I need to load them in:"
   ]
  },
  {
   "cell_type": "code",
   "execution_count": 24,
   "metadata": {},
   "outputs": [
    {
     "data": {
      "text/html": [
       "<table>\n",
       "<thead><tr><th scope=col>Year</th><th scope=col>S&amp;P Composite</th><th scope=col>Dividend</th><th scope=col>Earnings</th><th scope=col>CPI</th><th scope=col>Long Interest Rate</th><th scope=col>Real Price</th><th scope=col>Real Dividend</th><th scope=col>Real Earnings</th><th scope=col>Cyclically Adjusted PE Ratio</th></tr></thead>\n",
       "<tbody>\n",
       "\t<tr><td>2018-01-31</td><td>2776.42   </td><td>      NA  </td><td>    NA    </td><td>246.4515  </td><td>  NA      </td><td>2776.420  </td><td>      NA  </td><td>      NA  </td><td>33.60275  </td></tr>\n",
       "\t<tr><td>2017-12-31</td><td>2664.34   </td><td>48.93000  </td><td>    NA    </td><td>246.5240  </td><td>2.40      </td><td>2663.556  </td><td>48.91561  </td><td>      NA  </td><td>32.25322  </td></tr>\n",
       "\t<tr><td>2017-11-30</td><td>2593.61   </td><td>48.67667  </td><td>    NA    </td><td>246.6690  </td><td>2.35      </td><td>2591.323  </td><td>48.63375  </td><td>      NA  </td><td>31.37894  </td></tr>\n",
       "\t<tr><td>2017-10-31</td><td>2557.00   </td><td>48.42333  </td><td>    NA    </td><td>246.6630  </td><td>2.36      </td><td>2554.808  </td><td>48.38181  </td><td>      NA  </td><td>30.92039  </td></tr>\n",
       "\t<tr><td>2017-09-30</td><td>2492.84   </td><td>48.17000  </td><td>107.08    </td><td>246.8190  </td><td>2.20      </td><td>2489.128  </td><td>48.09828  </td><td>106.9206  </td><td>30.16811  </td></tr>\n",
       "</tbody>\n",
       "</table>\n"
      ],
      "text/latex": [
       "\\begin{tabular}{r|llllllllll}\n",
       " Year & S\\&P Composite & Dividend & Earnings & CPI & Long Interest Rate & Real Price & Real Dividend & Real Earnings & Cyclically Adjusted PE Ratio\\\\\n",
       "\\hline\n",
       "\t 2018-01-31 & 2776.42    &       NA   &     NA     & 246.4515   &   NA       & 2776.420   &       NA   &       NA   & 33.60275  \\\\\n",
       "\t 2017-12-31 & 2664.34    & 48.93000   &     NA     & 246.5240   & 2.40       & 2663.556   & 48.91561   &       NA   & 32.25322  \\\\\n",
       "\t 2017-11-30 & 2593.61    & 48.67667   &     NA     & 246.6690   & 2.35       & 2591.323   & 48.63375   &       NA   & 31.37894  \\\\\n",
       "\t 2017-10-31 & 2557.00    & 48.42333   &     NA     & 246.6630   & 2.36       & 2554.808   & 48.38181   &       NA   & 30.92039  \\\\\n",
       "\t 2017-09-30 & 2492.84    & 48.17000   & 107.08     & 246.8190   & 2.20       & 2489.128   & 48.09828   & 106.9206   & 30.16811  \\\\\n",
       "\\end{tabular}\n"
      ],
      "text/markdown": [
       "\n",
       "Year | S&P Composite | Dividend | Earnings | CPI | Long Interest Rate | Real Price | Real Dividend | Real Earnings | Cyclically Adjusted PE Ratio | \n",
       "|---|---|---|---|---|\n",
       "| 2018-01-31 | 2776.42    |       NA   |     NA     | 246.4515   |   NA       | 2776.420   |       NA   |       NA   | 33.60275   | \n",
       "| 2017-12-31 | 2664.34    | 48.93000   |     NA     | 246.5240   | 2.40       | 2663.556   | 48.91561   |       NA   | 32.25322   | \n",
       "| 2017-11-30 | 2593.61    | 48.67667   |     NA     | 246.6690   | 2.35       | 2591.323   | 48.63375   |       NA   | 31.37894   | \n",
       "| 2017-10-31 | 2557.00    | 48.42333   |     NA     | 246.6630   | 2.36       | 2554.808   | 48.38181   |       NA   | 30.92039   | \n",
       "| 2017-09-30 | 2492.84    | 48.17000   | 107.08     | 246.8190   | 2.20       | 2489.128   | 48.09828   | 106.9206   | 30.16811   | \n",
       "\n",
       "\n"
      ],
      "text/plain": [
       "  Year       S&P Composite Dividend Earnings CPI      Long Interest Rate\n",
       "1 2018-01-31 2776.42             NA     NA   246.4515   NA              \n",
       "2 2017-12-31 2664.34       48.93000     NA   246.5240 2.40              \n",
       "3 2017-11-30 2593.61       48.67667     NA   246.6690 2.35              \n",
       "4 2017-10-31 2557.00       48.42333     NA   246.6630 2.36              \n",
       "5 2017-09-30 2492.84       48.17000 107.08   246.8190 2.20              \n",
       "  Real Price Real Dividend Real Earnings Cyclically Adjusted PE Ratio\n",
       "1 2776.420         NA            NA      33.60275                    \n",
       "2 2663.556   48.91561            NA      32.25322                    \n",
       "3 2591.323   48.63375            NA      31.37894                    \n",
       "4 2554.808   48.38181            NA      30.92039                    \n",
       "5 2489.128   48.09828      106.9206      30.16811                    "
      ]
     },
     "metadata": {},
     "output_type": "display_data"
    }
   ],
   "source": [
    "library(Quandl)\n",
    "\n",
    "\n",
    "Quandl.api_key(\"L8zt1AhNiQi4gufsXy4g\")\n",
    "Qdata <- Quandl(\"YALE/SPCOMP\")\n",
    "\n",
    "# library(dplyr)\n",
    "# make_names<-function(name)\n",
    "#   {\n",
    "#     name <- as.character(name)\n",
    "#     if(contains(\"-\", vars = name))\n",
    "#        sub(\"-\", \"_\", name)\n",
    "#   }\n",
    "\n",
    "#tidy the data:\n",
    "tidy.Qdata <- make.names(names(Qdata), unique=TRUE)\n",
    "# names(Qdata)[names(Qdata) == \" \"] <- \"_\"\n",
    "# names(Qdata)\n",
    "head(Qdata,5)"
   ]
  },
  {
   "cell_type": "markdown",
   "metadata": {},
   "source": [
    "## Concept 1: Variation  \n",
    "from http://www.icoachmath.com/math_dictionary/variance.html  \n",
    "Variance is a statistical measure that tells us how measured data vary from the average value of the set of data.\n",
    "In other words, variance is the mean of the squares of the deviations from the arithmetic mean of a data set.\n",
    "\n",
    "\n",
    "*Explanation of this concept relative to your data set here *"
   ]
  },
  {
   "cell_type": "code",
   "execution_count": null,
   "metadata": {
    "collapsed": true
   },
   "outputs": [],
   "source": [
    "## Code to Illustrate the concept goes here\n",
    "# http://www.r-tutor.com/elementary-statistics/numerical-measures/variance\n"
   ]
  },
  {
   "cell_type": "markdown",
   "metadata": {},
   "source": [
    "## Concept 2"
   ]
  },
  {
   "cell_type": "code",
   "execution_count": null,
   "metadata": {
    "collapsed": true
   },
   "outputs": [],
   "source": []
  },
  {
   "cell_type": "markdown",
   "metadata": {},
   "source": [
    "## Concept 3"
   ]
  },
  {
   "cell_type": "code",
   "execution_count": null,
   "metadata": {
    "collapsed": true
   },
   "outputs": [],
   "source": []
  },
  {
   "cell_type": "markdown",
   "metadata": {},
   "source": [
    "## Concept 4"
   ]
  },
  {
   "cell_type": "code",
   "execution_count": null,
   "metadata": {
    "collapsed": true
   },
   "outputs": [],
   "source": []
  },
  {
   "cell_type": "markdown",
   "metadata": {},
   "source": [
    "## Concept 5"
   ]
  },
  {
   "cell_type": "code",
   "execution_count": null,
   "metadata": {
    "collapsed": true
   },
   "outputs": [],
   "source": []
  },
  {
   "cell_type": "markdown",
   "metadata": {},
   "source": [
    "## Infinite Stream of Conciousness..."
   ]
  },
  {
   "cell_type": "code",
   "execution_count": null,
   "metadata": {
    "collapsed": true
   },
   "outputs": [],
   "source": [
    "#HEy! i'll be using R this week :)\n",
    "#my first R code: write a vector object and then print it:\n",
    "\n",
    "hondoomba = c(1,45,3,4,2)\n",
    "hondoomba \n"
   ]
  },
  {
   "cell_type": "code",
   "execution_count": 2,
   "metadata": {},
   "outputs": [
    {
     "name": "stderr",
     "output_type": "stream",
     "text": [
      "Loading required package: xts\n",
      "Warning message:\n",
      "\"package 'xts' was built under R version 3.4.3\"Loading required package: zoo\n",
      "Warning message:\n",
      "\"package 'zoo' was built under R version 3.4.3\"\n",
      "Attaching package: 'zoo'\n",
      "\n",
      "The following objects are masked from 'package:base':\n",
      "\n",
      "    as.Date, as.Date.numeric\n",
      "\n"
     ]
    }
   ],
   "source": [
    "#Quandl R documentation:\n",
    "# https://docs.quandl.com/docs/r-installation\n",
    "# https://docs.quandl.com/docs/r-time-series\n",
    "\n",
    "#here is how to use my quandl API key:\n",
    "# library(Quandl)\n",
    "# Quandl.api_key(\"L8zt1AhNiQi4gufsXy4g\")"
   ]
  },
  {
   "cell_type": "code",
   "execution_count": 3,
   "metadata": {
    "scrolled": true
   },
   "outputs": [
    {
     "data": {
      "text/html": [
       "<table>\n",
       "<thead><tr><th scope=col>Year</th><th scope=col>S&amp;P Composite</th><th scope=col>Dividend</th><th scope=col>Earnings</th><th scope=col>CPI</th><th scope=col>Long Interest Rate</th><th scope=col>Real Price</th><th scope=col>Real Dividend</th><th scope=col>Real Earnings</th><th scope=col>Cyclically Adjusted PE Ratio</th></tr></thead>\n",
       "<tbody>\n",
       "\t<tr><td>2018-01-31</td><td>2776.42   </td><td>      NA  </td><td>       NA </td><td>246.4515  </td><td>  NA      </td><td>2776.420  </td><td>      NA  </td><td>       NA </td><td>33.60275  </td></tr>\n",
       "\t<tr><td>2017-12-31</td><td>2664.34   </td><td>48.93000  </td><td>       NA </td><td>246.5240  </td><td>2.40      </td><td>2663.556  </td><td>48.91561  </td><td>       NA </td><td>32.25322  </td></tr>\n",
       "\t<tr><td>2017-11-30</td><td>2593.61   </td><td>48.67667  </td><td>       NA </td><td>246.6690  </td><td>2.35      </td><td>2591.323  </td><td>48.63375  </td><td>       NA </td><td>31.37894  </td></tr>\n",
       "\t<tr><td>2017-10-31</td><td>2557.00   </td><td>48.42333  </td><td>       NA </td><td>246.6630  </td><td>2.36      </td><td>2554.808  </td><td>48.38181  </td><td>       NA </td><td>30.92039  </td></tr>\n",
       "\t<tr><td>2017-09-30</td><td>2492.84   </td><td>48.17000  </td><td>107.08000 </td><td>246.8190  </td><td>2.20      </td><td>2489.128  </td><td>48.09828  </td><td>106.92056 </td><td>30.16811  </td></tr>\n",
       "\t<tr><td>2017-08-31</td><td>2456.22   </td><td>47.85333  </td><td>106.06000 </td><td>245.5190  </td><td>2.21      </td><td>2465.549  </td><td>48.03508  </td><td>106.46282 </td><td>29.91496  </td></tr>\n",
       "\t<tr><td>2017-07-31</td><td>2454.10   </td><td>47.53667  </td><td>105.04000 </td><td>244.7860  </td><td>2.32      </td><td>2470.797  </td><td>47.86010  </td><td>105.75468 </td><td>30.00222  </td></tr>\n",
       "\t<tr><td>2017-06-30</td><td>2433.99   </td><td>47.22000  </td><td>104.02000 </td><td>244.9550  </td><td>2.19      </td><td>2448.860  </td><td>47.50848  </td><td>104.65549 </td><td>29.74850  </td></tr>\n",
       "\t<tr><td>2017-05-31</td><td>2395.35   </td><td>46.94000  </td><td>102.77667 </td><td>244.7330  </td><td>2.30      </td><td>2412.170  </td><td>47.26961  </td><td>103.49836 </td><td>29.31334  </td></tr>\n",
       "\t<tr><td>2017-04-30</td><td>2359.31   </td><td>46.66000  </td><td>101.53333 </td><td>244.5240  </td><td>2.30      </td><td>2377.908  </td><td>47.02781  </td><td>102.33369 </td><td>28.90425  </td></tr>\n",
       "\t<tr><td>2017-03-31</td><td>2366.82   </td><td>46.38000  </td><td>100.29000 </td><td>243.8010  </td><td>2.48      </td><td>2392.551  </td><td>46.88422  </td><td>101.38031 </td><td>29.08692  </td></tr>\n",
       "\t<tr><td>2017-02-28</td><td>2329.91   </td><td>46.15333  </td><td> 98.37667 </td><td>243.6030  </td><td>2.42      </td><td>2357.154  </td><td>46.69301  </td><td> 99.52701 </td><td>28.65511  </td></tr>\n",
       "\t<tr><td>2017-01-31</td><td>2275.12   </td><td>45.92667  </td><td> 96.46333 </td><td>242.8390  </td><td>2.43      </td><td>2308.965  </td><td>46.60988  </td><td> 97.89833 </td><td>28.06357  </td></tr>\n",
       "\t<tr><td>2016-12-31</td><td>2246.63   </td><td>45.70000  </td><td> 94.55000 </td><td>241.4320  </td><td>2.49      </td><td>2293.339  </td><td>46.65013  </td><td> 96.51574 </td><td>27.86510  </td></tr>\n",
       "\t<tr><td>2016-11-30</td><td>2164.99   </td><td>45.47667  </td><td> 92.73000 </td><td>241.3530  </td><td>2.14      </td><td>2210.725  </td><td>46.43735  </td><td> 94.68889 </td><td>26.85095  </td></tr>\n",
       "\t<tr><td>2016-10-31</td><td>2143.02   </td><td>45.25333  </td><td> 90.91000 </td><td>241.7290  </td><td>1.76      </td><td>2184.887  </td><td>46.13742  </td><td> 92.68605 </td><td>26.52514  </td></tr>\n",
       "\t<tr><td>2016-09-30</td><td>2157.69   </td><td>45.03000  </td><td> 89.09000 </td><td>241.4280  </td><td>1.63      </td><td>2202.586  </td><td>45.96696  </td><td> 90.94374 </td><td>26.72787  </td></tr>\n",
       "\t<tr><td>2016-08-31</td><td>2170.95   </td><td>44.84000  </td><td> 88.36667 </td><td>240.8490  </td><td>1.56      </td><td>2221.449  </td><td>45.88304  </td><td> 90.42220 </td><td>26.94887  </td></tr>\n",
       "\t<tr><td>2016-07-31</td><td>2148.90   </td><td>44.65000  </td><td> 87.64333 </td><td>240.6280  </td><td>1.50      </td><td>2200.906  </td><td>45.73059  </td><td> 89.76441 </td><td>26.69400  </td></tr>\n",
       "\t<tr><td>2016-06-30</td><td>2083.89   </td><td>44.46000  </td><td> 86.92000 </td><td>241.0180  </td><td>1.64      </td><td>2130.869  </td><td>45.46230  </td><td> 88.87952 </td><td>25.84037  </td></tr>\n",
       "\t<tr><td>2016-05-31</td><td>2065.55   </td><td>44.26667  </td><td> 86.76000 </td><td>240.2290  </td><td>1.81      </td><td>2119.053  </td><td>45.41328  </td><td> 89.00729 </td><td>25.69471  </td></tr>\n",
       "\t<tr><td>2016-04-30</td><td>2075.54   </td><td>44.07333  </td><td> 86.60000 </td><td>239.2610  </td><td>1.81      </td><td>2137.916  </td><td>45.39787  </td><td> 89.20259 </td><td>25.92234  </td></tr>\n",
       "\t<tr><td>2016-03-31</td><td>2021.95   </td><td>43.88000  </td><td> 86.44000 </td><td>238.1320  </td><td>1.89      </td><td>2092.590  </td><td>45.41301  </td><td> 89.45991 </td><td>25.37230  </td></tr>\n",
       "\t<tr><td>2016-02-29</td><td>1904.42   </td><td>43.71667  </td><td> 86.47000 </td><td>237.1110  </td><td>1.78      </td><td>1979.441  </td><td>45.43879  </td><td> 89.87631 </td><td>24.00261  </td></tr>\n",
       "\t<tr><td>2016-01-31</td><td>1918.60   </td><td>43.55333  </td><td> 86.50000 </td><td>236.9160  </td><td>2.09      </td><td>1995.821  </td><td>45.30629  </td><td> 89.98149 </td><td>24.20617  </td></tr>\n",
       "\t<tr><td>2015-12-31</td><td>2054.08   </td><td>43.39000  </td><td> 86.53000 </td><td>236.5250  </td><td>2.24      </td><td>2140.286  </td><td>45.21099  </td><td> 90.16150 </td><td>25.96542  </td></tr>\n",
       "\t<tr><td>2015-11-30</td><td>2080.62   </td><td>43.09667  </td><td> 87.90667 </td><td>237.3360  </td><td>2.26      </td><td>2160.532  </td><td>44.75191  </td><td> 91.28295 </td><td>26.22585  </td></tr>\n",
       "\t<tr><td>2015-10-31</td><td>2024.81   </td><td>42.80333  </td><td> 89.28333 </td><td>237.8380  </td><td>2.07      </td><td>2098.140  </td><td>44.35349  </td><td> 92.51680 </td><td>25.49144  </td></tr>\n",
       "\t<tr><td>2015-09-30</td><td>1944.41   </td><td>42.51000  </td><td> 90.66000 </td><td>237.9450  </td><td>2.17      </td><td>2013.922  </td><td>44.02973  </td><td> 93.90108 </td><td>24.49675  </td></tr>\n",
       "\t<tr><td>2015-08-31</td><td>2039.87   </td><td>42.25333  </td><td> 92.07667 </td><td>238.3160  </td><td>2.17      </td><td>2109.506  </td><td>43.69575  </td><td> 95.21993 </td><td>25.69366  </td></tr>\n",
       "\t<tr><td>...</td><td>...</td><td>...</td><td>...</td><td>...</td><td>...</td><td>...</td><td>...</td><td>...</td><td>...</td></tr>\n",
       "\t<tr><td>1873-06-30</td><td>4.98      </td><td>0.3150    </td><td>0.4450    </td><td>12.55923  </td><td>5.534167  </td><td>97.72325  </td><td>6.181290  </td><td>8.732299  </td><td>NA        </td></tr>\n",
       "\t<tr><td>1873-05-31</td><td>5.05      </td><td>0.3125    </td><td>0.4425    </td><td>12.93981  </td><td>5.543333  </td><td>96.18228  </td><td>5.951874  </td><td>8.427853  </td><td>NA        </td></tr>\n",
       "\t<tr><td>1873-04-30</td><td>5.04      </td><td>0.3100    </td><td>0.4400    </td><td>13.22522  </td><td>5.552500  </td><td>93.92021  </td><td>5.776838  </td><td>8.199383  </td><td>NA        </td></tr>\n",
       "\t<tr><td>1873-03-31</td><td>5.11      </td><td>0.3075    </td><td>0.4375    </td><td>13.22522  </td><td>5.561667  </td><td>95.22466  </td><td>5.730251  </td><td>8.152796  </td><td>NA        </td></tr>\n",
       "\t<tr><td>1873-02-28</td><td>5.15      </td><td>0.3050    </td><td>0.4350    </td><td>13.22522  </td><td>5.570833  </td><td>95.97005  </td><td>5.683663  </td><td>8.106208  </td><td>NA        </td></tr>\n",
       "\t<tr><td>1873-01-31</td><td>5.11      </td><td>0.3025    </td><td>0.4325    </td><td>12.93981  </td><td>5.580000  </td><td>97.32504  </td><td>5.761414  </td><td>8.237393  </td><td>NA        </td></tr>\n",
       "\t<tr><td>1872-12-31</td><td>5.07      </td><td>0.3000    </td><td>0.4300    </td><td>12.93981  </td><td>5.561667  </td><td>96.56320  </td><td>5.713799  </td><td>8.189778  </td><td>NA        </td></tr>\n",
       "\t<tr><td>1872-11-30</td><td>4.95      </td><td>0.2967    </td><td>0.4275    </td><td>13.13014  </td><td>5.543333  </td><td>92.91106  </td><td>5.569032  </td><td>8.024137  </td><td>NA        </td></tr>\n",
       "\t<tr><td>1872-10-31</td><td>4.97      </td><td>0.2933    </td><td>0.4250    </td><td>12.74948  </td><td>5.525000  </td><td>96.07171  </td><td>5.669584  </td><td>8.215388  </td><td>NA        </td></tr>\n",
       "\t<tr><td>1872-09-30</td><td>4.95      </td><td>0.2900    </td><td>0.4225    </td><td>13.03497  </td><td>5.506667  </td><td>93.58938  </td><td>5.483014  </td><td>7.988184  </td><td>NA        </td></tr>\n",
       "\t<tr><td>1872-08-31</td><td>5.04      </td><td>0.2867    </td><td>0.4200    </td><td>12.93981  </td><td>5.488333  </td><td>95.99182  </td><td>5.460487  </td><td>7.999318  </td><td>NA        </td></tr>\n",
       "\t<tr><td>1872-07-31</td><td>5.10      </td><td>0.2833    </td><td>0.4175    </td><td>12.84464  </td><td>5.470000  </td><td>97.85424  </td><td>5.435707  </td><td>8.010617  </td><td>NA        </td></tr>\n",
       "\t<tr><td>1872-06-30</td><td>5.13      </td><td>0.2800    </td><td>0.4150    </td><td>13.03497  </td><td>5.451667  </td><td>96.99263  </td><td>5.293945  </td><td>7.846382  </td><td>NA        </td></tr>\n",
       "\t<tr><td>1872-05-31</td><td>5.18      </td><td>0.2767    </td><td>0.4125    </td><td>13.13014  </td><td>5.433333  </td><td>97.22814  </td><td>5.193634  </td><td>7.742588  </td><td>NA        </td></tr>\n",
       "\t<tr><td>1872-04-30</td><td>5.18      </td><td>0.2733    </td><td>0.4100    </td><td>13.13014  </td><td>5.415000  </td><td>97.22814  </td><td>5.129817  </td><td>7.695663  </td><td>NA        </td></tr>\n",
       "\t<tr><td>1872-03-31</td><td>5.04      </td><td>0.2700    </td><td>0.4075    </td><td>12.84464  </td><td>5.396667  </td><td>96.70302  </td><td>5.180519  </td><td>7.818746  </td><td>NA        </td></tr>\n",
       "\t<tr><td>1872-02-29</td><td>4.88      </td><td>0.2667    </td><td>0.4050    </td><td>12.65439  </td><td>5.378333  </td><td>95.04078  </td><td>5.194135  </td><td>7.887606  </td><td>NA        </td></tr>\n",
       "\t<tr><td>1872-01-31</td><td>4.86      </td><td>0.2633    </td><td>0.4025    </td><td>12.65439  </td><td>5.360000  </td><td>94.65127  </td><td>5.127918  </td><td>7.838917  </td><td>NA        </td></tr>\n",
       "\t<tr><td>1871-12-31</td><td>4.74      </td><td>0.2600    </td><td>0.4000    </td><td>12.65439  </td><td>5.356667  </td><td>92.31420  </td><td>5.063648  </td><td>7.790228  </td><td>NA        </td></tr>\n",
       "\t<tr><td>1871-11-30</td><td>4.64      </td><td>0.2600    </td><td>0.4000    </td><td>12.36890  </td><td>5.353333  </td><td>92.45247  </td><td>5.180526  </td><td>7.970040  </td><td>NA        </td></tr>\n",
       "\t<tr><td>1871-10-31</td><td>4.59      </td><td>0.2600    </td><td>0.4000    </td><td>12.36890  </td><td>5.350000  </td><td>91.45621  </td><td>5.180526  </td><td>7.970040  </td><td>NA        </td></tr>\n",
       "\t<tr><td>1871-09-30</td><td>4.84      </td><td>0.2600    </td><td>0.4000    </td><td>12.17865  </td><td>5.346667  </td><td>97.94399  </td><td>5.261454  </td><td>8.094545  </td><td>NA        </td></tr>\n",
       "\t<tr><td>1871-08-31</td><td>4.79      </td><td>0.2600    </td><td>0.4000    </td><td>11.89323  </td><td>5.343333  </td><td>99.25836  </td><td>5.387719  </td><td>8.288799  </td><td>NA        </td></tr>\n",
       "\t<tr><td>1871-07-31</td><td>4.73      </td><td>0.2600    </td><td>0.4000    </td><td>12.08348  </td><td>5.340000  </td><td>96.47184  </td><td>5.302892  </td><td>8.158295  </td><td>NA        </td></tr>\n",
       "\t<tr><td>1871-06-30</td><td>4.82      </td><td>0.2600    </td><td>0.4000    </td><td>12.08348  </td><td>5.336667  </td><td>98.30745  </td><td>5.302892  </td><td>8.158295  </td><td>NA        </td></tr>\n",
       "\t<tr><td>1871-05-31</td><td>4.86      </td><td>0.2600    </td><td>0.4000    </td><td>12.27381  </td><td>5.333333  </td><td>97.58617  </td><td>5.220659  </td><td>8.031784  </td><td>NA        </td></tr>\n",
       "\t<tr><td>1871-04-30</td><td>4.74      </td><td>0.2600    </td><td>0.4000    </td><td>12.55923  </td><td>5.330000  </td><td>93.01370  </td><td>5.102017  </td><td>7.849257  </td><td>NA        </td></tr>\n",
       "\t<tr><td>1871-03-31</td><td>4.61      </td><td>0.2600    </td><td>0.4000    </td><td>13.03497  </td><td>5.326667  </td><td>87.16102  </td><td>4.915806  </td><td>7.562778  </td><td>NA        </td></tr>\n",
       "\t<tr><td>1871-02-28</td><td>4.50      </td><td>0.2600    </td><td>0.4000    </td><td>12.84464  </td><td>5.323333  </td><td>86.34198  </td><td>4.988648  </td><td>7.674843  </td><td>NA        </td></tr>\n",
       "\t<tr><td>1871-01-31</td><td>4.44      </td><td>0.2600    </td><td>0.4000    </td><td>12.46406  </td><td>5.320000  </td><td>87.79198  </td><td>5.140972  </td><td>7.909188  </td><td>NA        </td></tr>\n",
       "</tbody>\n",
       "</table>\n"
      ],
      "text/latex": [
       "\\begin{tabular}{r|llllllllll}\n",
       " Year & S\\&P Composite & Dividend & Earnings & CPI & Long Interest Rate & Real Price & Real Dividend & Real Earnings & Cyclically Adjusted PE Ratio\\\\\n",
       "\\hline\n",
       "\t 2018-01-31 & 2776.42    &       NA   &        NA  & 246.4515   &   NA       & 2776.420   &       NA   &        NA  & 33.60275  \\\\\n",
       "\t 2017-12-31 & 2664.34    & 48.93000   &        NA  & 246.5240   & 2.40       & 2663.556   & 48.91561   &        NA  & 32.25322  \\\\\n",
       "\t 2017-11-30 & 2593.61    & 48.67667   &        NA  & 246.6690   & 2.35       & 2591.323   & 48.63375   &        NA  & 31.37894  \\\\\n",
       "\t 2017-10-31 & 2557.00    & 48.42333   &        NA  & 246.6630   & 2.36       & 2554.808   & 48.38181   &        NA  & 30.92039  \\\\\n",
       "\t 2017-09-30 & 2492.84    & 48.17000   & 107.08000  & 246.8190   & 2.20       & 2489.128   & 48.09828   & 106.92056  & 30.16811  \\\\\n",
       "\t 2017-08-31 & 2456.22    & 47.85333   & 106.06000  & 245.5190   & 2.21       & 2465.549   & 48.03508   & 106.46282  & 29.91496  \\\\\n",
       "\t 2017-07-31 & 2454.10    & 47.53667   & 105.04000  & 244.7860   & 2.32       & 2470.797   & 47.86010   & 105.75468  & 30.00222  \\\\\n",
       "\t 2017-06-30 & 2433.99    & 47.22000   & 104.02000  & 244.9550   & 2.19       & 2448.860   & 47.50848   & 104.65549  & 29.74850  \\\\\n",
       "\t 2017-05-31 & 2395.35    & 46.94000   & 102.77667  & 244.7330   & 2.30       & 2412.170   & 47.26961   & 103.49836  & 29.31334  \\\\\n",
       "\t 2017-04-30 & 2359.31    & 46.66000   & 101.53333  & 244.5240   & 2.30       & 2377.908   & 47.02781   & 102.33369  & 28.90425  \\\\\n",
       "\t 2017-03-31 & 2366.82    & 46.38000   & 100.29000  & 243.8010   & 2.48       & 2392.551   & 46.88422   & 101.38031  & 29.08692  \\\\\n",
       "\t 2017-02-28 & 2329.91    & 46.15333   &  98.37667  & 243.6030   & 2.42       & 2357.154   & 46.69301   &  99.52701  & 28.65511  \\\\\n",
       "\t 2017-01-31 & 2275.12    & 45.92667   &  96.46333  & 242.8390   & 2.43       & 2308.965   & 46.60988   &  97.89833  & 28.06357  \\\\\n",
       "\t 2016-12-31 & 2246.63    & 45.70000   &  94.55000  & 241.4320   & 2.49       & 2293.339   & 46.65013   &  96.51574  & 27.86510  \\\\\n",
       "\t 2016-11-30 & 2164.99    & 45.47667   &  92.73000  & 241.3530   & 2.14       & 2210.725   & 46.43735   &  94.68889  & 26.85095  \\\\\n",
       "\t 2016-10-31 & 2143.02    & 45.25333   &  90.91000  & 241.7290   & 1.76       & 2184.887   & 46.13742   &  92.68605  & 26.52514  \\\\\n",
       "\t 2016-09-30 & 2157.69    & 45.03000   &  89.09000  & 241.4280   & 1.63       & 2202.586   & 45.96696   &  90.94374  & 26.72787  \\\\\n",
       "\t 2016-08-31 & 2170.95    & 44.84000   &  88.36667  & 240.8490   & 1.56       & 2221.449   & 45.88304   &  90.42220  & 26.94887  \\\\\n",
       "\t 2016-07-31 & 2148.90    & 44.65000   &  87.64333  & 240.6280   & 1.50       & 2200.906   & 45.73059   &  89.76441  & 26.69400  \\\\\n",
       "\t 2016-06-30 & 2083.89    & 44.46000   &  86.92000  & 241.0180   & 1.64       & 2130.869   & 45.46230   &  88.87952  & 25.84037  \\\\\n",
       "\t 2016-05-31 & 2065.55    & 44.26667   &  86.76000  & 240.2290   & 1.81       & 2119.053   & 45.41328   &  89.00729  & 25.69471  \\\\\n",
       "\t 2016-04-30 & 2075.54    & 44.07333   &  86.60000  & 239.2610   & 1.81       & 2137.916   & 45.39787   &  89.20259  & 25.92234  \\\\\n",
       "\t 2016-03-31 & 2021.95    & 43.88000   &  86.44000  & 238.1320   & 1.89       & 2092.590   & 45.41301   &  89.45991  & 25.37230  \\\\\n",
       "\t 2016-02-29 & 1904.42    & 43.71667   &  86.47000  & 237.1110   & 1.78       & 1979.441   & 45.43879   &  89.87631  & 24.00261  \\\\\n",
       "\t 2016-01-31 & 1918.60    & 43.55333   &  86.50000  & 236.9160   & 2.09       & 1995.821   & 45.30629   &  89.98149  & 24.20617  \\\\\n",
       "\t 2015-12-31 & 2054.08    & 43.39000   &  86.53000  & 236.5250   & 2.24       & 2140.286   & 45.21099   &  90.16150  & 25.96542  \\\\\n",
       "\t 2015-11-30 & 2080.62    & 43.09667   &  87.90667  & 237.3360   & 2.26       & 2160.532   & 44.75191   &  91.28295  & 26.22585  \\\\\n",
       "\t 2015-10-31 & 2024.81    & 42.80333   &  89.28333  & 237.8380   & 2.07       & 2098.140   & 44.35349   &  92.51680  & 25.49144  \\\\\n",
       "\t 2015-09-30 & 1944.41    & 42.51000   &  90.66000  & 237.9450   & 2.17       & 2013.922   & 44.02973   &  93.90108  & 24.49675  \\\\\n",
       "\t 2015-08-31 & 2039.87    & 42.25333   &  92.07667  & 238.3160   & 2.17       & 2109.506   & 43.69575   &  95.21993  & 25.69366  \\\\\n",
       "\t ... & ... & ... & ... & ... & ... & ... & ... & ... & ...\\\\\n",
       "\t 1873-06-30 & 4.98       & 0.3150     & 0.4450     & 12.55923   & 5.534167   & 97.72325   & 6.181290   & 8.732299   & NA        \\\\\n",
       "\t 1873-05-31 & 5.05       & 0.3125     & 0.4425     & 12.93981   & 5.543333   & 96.18228   & 5.951874   & 8.427853   & NA        \\\\\n",
       "\t 1873-04-30 & 5.04       & 0.3100     & 0.4400     & 13.22522   & 5.552500   & 93.92021   & 5.776838   & 8.199383   & NA        \\\\\n",
       "\t 1873-03-31 & 5.11       & 0.3075     & 0.4375     & 13.22522   & 5.561667   & 95.22466   & 5.730251   & 8.152796   & NA        \\\\\n",
       "\t 1873-02-28 & 5.15       & 0.3050     & 0.4350     & 13.22522   & 5.570833   & 95.97005   & 5.683663   & 8.106208   & NA        \\\\\n",
       "\t 1873-01-31 & 5.11       & 0.3025     & 0.4325     & 12.93981   & 5.580000   & 97.32504   & 5.761414   & 8.237393   & NA        \\\\\n",
       "\t 1872-12-31 & 5.07       & 0.3000     & 0.4300     & 12.93981   & 5.561667   & 96.56320   & 5.713799   & 8.189778   & NA        \\\\\n",
       "\t 1872-11-30 & 4.95       & 0.2967     & 0.4275     & 13.13014   & 5.543333   & 92.91106   & 5.569032   & 8.024137   & NA        \\\\\n",
       "\t 1872-10-31 & 4.97       & 0.2933     & 0.4250     & 12.74948   & 5.525000   & 96.07171   & 5.669584   & 8.215388   & NA        \\\\\n",
       "\t 1872-09-30 & 4.95       & 0.2900     & 0.4225     & 13.03497   & 5.506667   & 93.58938   & 5.483014   & 7.988184   & NA        \\\\\n",
       "\t 1872-08-31 & 5.04       & 0.2867     & 0.4200     & 12.93981   & 5.488333   & 95.99182   & 5.460487   & 7.999318   & NA        \\\\\n",
       "\t 1872-07-31 & 5.10       & 0.2833     & 0.4175     & 12.84464   & 5.470000   & 97.85424   & 5.435707   & 8.010617   & NA        \\\\\n",
       "\t 1872-06-30 & 5.13       & 0.2800     & 0.4150     & 13.03497   & 5.451667   & 96.99263   & 5.293945   & 7.846382   & NA        \\\\\n",
       "\t 1872-05-31 & 5.18       & 0.2767     & 0.4125     & 13.13014   & 5.433333   & 97.22814   & 5.193634   & 7.742588   & NA        \\\\\n",
       "\t 1872-04-30 & 5.18       & 0.2733     & 0.4100     & 13.13014   & 5.415000   & 97.22814   & 5.129817   & 7.695663   & NA        \\\\\n",
       "\t 1872-03-31 & 5.04       & 0.2700     & 0.4075     & 12.84464   & 5.396667   & 96.70302   & 5.180519   & 7.818746   & NA        \\\\\n",
       "\t 1872-02-29 & 4.88       & 0.2667     & 0.4050     & 12.65439   & 5.378333   & 95.04078   & 5.194135   & 7.887606   & NA        \\\\\n",
       "\t 1872-01-31 & 4.86       & 0.2633     & 0.4025     & 12.65439   & 5.360000   & 94.65127   & 5.127918   & 7.838917   & NA        \\\\\n",
       "\t 1871-12-31 & 4.74       & 0.2600     & 0.4000     & 12.65439   & 5.356667   & 92.31420   & 5.063648   & 7.790228   & NA        \\\\\n",
       "\t 1871-11-30 & 4.64       & 0.2600     & 0.4000     & 12.36890   & 5.353333   & 92.45247   & 5.180526   & 7.970040   & NA        \\\\\n",
       "\t 1871-10-31 & 4.59       & 0.2600     & 0.4000     & 12.36890   & 5.350000   & 91.45621   & 5.180526   & 7.970040   & NA        \\\\\n",
       "\t 1871-09-30 & 4.84       & 0.2600     & 0.4000     & 12.17865   & 5.346667   & 97.94399   & 5.261454   & 8.094545   & NA        \\\\\n",
       "\t 1871-08-31 & 4.79       & 0.2600     & 0.4000     & 11.89323   & 5.343333   & 99.25836   & 5.387719   & 8.288799   & NA        \\\\\n",
       "\t 1871-07-31 & 4.73       & 0.2600     & 0.4000     & 12.08348   & 5.340000   & 96.47184   & 5.302892   & 8.158295   & NA        \\\\\n",
       "\t 1871-06-30 & 4.82       & 0.2600     & 0.4000     & 12.08348   & 5.336667   & 98.30745   & 5.302892   & 8.158295   & NA        \\\\\n",
       "\t 1871-05-31 & 4.86       & 0.2600     & 0.4000     & 12.27381   & 5.333333   & 97.58617   & 5.220659   & 8.031784   & NA        \\\\\n",
       "\t 1871-04-30 & 4.74       & 0.2600     & 0.4000     & 12.55923   & 5.330000   & 93.01370   & 5.102017   & 7.849257   & NA        \\\\\n",
       "\t 1871-03-31 & 4.61       & 0.2600     & 0.4000     & 13.03497   & 5.326667   & 87.16102   & 4.915806   & 7.562778   & NA        \\\\\n",
       "\t 1871-02-28 & 4.50       & 0.2600     & 0.4000     & 12.84464   & 5.323333   & 86.34198   & 4.988648   & 7.674843   & NA        \\\\\n",
       "\t 1871-01-31 & 4.44       & 0.2600     & 0.4000     & 12.46406   & 5.320000   & 87.79198   & 5.140972   & 7.909188   & NA        \\\\\n",
       "\\end{tabular}\n"
      ],
      "text/markdown": [
       "\n",
       "Year | S&P Composite | Dividend | Earnings | CPI | Long Interest Rate | Real Price | Real Dividend | Real Earnings | Cyclically Adjusted PE Ratio | \n",
       "|---|---|---|---|---|---|---|---|---|---|---|---|---|---|---|---|---|---|---|---|---|---|---|---|---|---|---|---|---|---|---|---|---|---|---|---|---|---|---|---|---|---|---|---|---|---|---|---|---|---|---|---|---|---|---|---|---|---|---|---|---|\n",
       "| 2018-01-31 | 2776.42    |       NA   |        NA  | 246.4515   |   NA       | 2776.420   |       NA   |        NA  | 33.60275   | \n",
       "| 2017-12-31 | 2664.34    | 48.93000   |        NA  | 246.5240   | 2.40       | 2663.556   | 48.91561   |        NA  | 32.25322   | \n",
       "| 2017-11-30 | 2593.61    | 48.67667   |        NA  | 246.6690   | 2.35       | 2591.323   | 48.63375   |        NA  | 31.37894   | \n",
       "| 2017-10-31 | 2557.00    | 48.42333   |        NA  | 246.6630   | 2.36       | 2554.808   | 48.38181   |        NA  | 30.92039   | \n",
       "| 2017-09-30 | 2492.84    | 48.17000   | 107.08000  | 246.8190   | 2.20       | 2489.128   | 48.09828   | 106.92056  | 30.16811   | \n",
       "| 2017-08-31 | 2456.22    | 47.85333   | 106.06000  | 245.5190   | 2.21       | 2465.549   | 48.03508   | 106.46282  | 29.91496   | \n",
       "| 2017-07-31 | 2454.10    | 47.53667   | 105.04000  | 244.7860   | 2.32       | 2470.797   | 47.86010   | 105.75468  | 30.00222   | \n",
       "| 2017-06-30 | 2433.99    | 47.22000   | 104.02000  | 244.9550   | 2.19       | 2448.860   | 47.50848   | 104.65549  | 29.74850   | \n",
       "| 2017-05-31 | 2395.35    | 46.94000   | 102.77667  | 244.7330   | 2.30       | 2412.170   | 47.26961   | 103.49836  | 29.31334   | \n",
       "| 2017-04-30 | 2359.31    | 46.66000   | 101.53333  | 244.5240   | 2.30       | 2377.908   | 47.02781   | 102.33369  | 28.90425   | \n",
       "| 2017-03-31 | 2366.82    | 46.38000   | 100.29000  | 243.8010   | 2.48       | 2392.551   | 46.88422   | 101.38031  | 29.08692   | \n",
       "| 2017-02-28 | 2329.91    | 46.15333   |  98.37667  | 243.6030   | 2.42       | 2357.154   | 46.69301   |  99.52701  | 28.65511   | \n",
       "| 2017-01-31 | 2275.12    | 45.92667   |  96.46333  | 242.8390   | 2.43       | 2308.965   | 46.60988   |  97.89833  | 28.06357   | \n",
       "| 2016-12-31 | 2246.63    | 45.70000   |  94.55000  | 241.4320   | 2.49       | 2293.339   | 46.65013   |  96.51574  | 27.86510   | \n",
       "| 2016-11-30 | 2164.99    | 45.47667   |  92.73000  | 241.3530   | 2.14       | 2210.725   | 46.43735   |  94.68889  | 26.85095   | \n",
       "| 2016-10-31 | 2143.02    | 45.25333   |  90.91000  | 241.7290   | 1.76       | 2184.887   | 46.13742   |  92.68605  | 26.52514   | \n",
       "| 2016-09-30 | 2157.69    | 45.03000   |  89.09000  | 241.4280   | 1.63       | 2202.586   | 45.96696   |  90.94374  | 26.72787   | \n",
       "| 2016-08-31 | 2170.95    | 44.84000   |  88.36667  | 240.8490   | 1.56       | 2221.449   | 45.88304   |  90.42220  | 26.94887   | \n",
       "| 2016-07-31 | 2148.90    | 44.65000   |  87.64333  | 240.6280   | 1.50       | 2200.906   | 45.73059   |  89.76441  | 26.69400   | \n",
       "| 2016-06-30 | 2083.89    | 44.46000   |  86.92000  | 241.0180   | 1.64       | 2130.869   | 45.46230   |  88.87952  | 25.84037   | \n",
       "| 2016-05-31 | 2065.55    | 44.26667   |  86.76000  | 240.2290   | 1.81       | 2119.053   | 45.41328   |  89.00729  | 25.69471   | \n",
       "| 2016-04-30 | 2075.54    | 44.07333   |  86.60000  | 239.2610   | 1.81       | 2137.916   | 45.39787   |  89.20259  | 25.92234   | \n",
       "| 2016-03-31 | 2021.95    | 43.88000   |  86.44000  | 238.1320   | 1.89       | 2092.590   | 45.41301   |  89.45991  | 25.37230   | \n",
       "| 2016-02-29 | 1904.42    | 43.71667   |  86.47000  | 237.1110   | 1.78       | 1979.441   | 45.43879   |  89.87631  | 24.00261   | \n",
       "| 2016-01-31 | 1918.60    | 43.55333   |  86.50000  | 236.9160   | 2.09       | 1995.821   | 45.30629   |  89.98149  | 24.20617   | \n",
       "| 2015-12-31 | 2054.08    | 43.39000   |  86.53000  | 236.5250   | 2.24       | 2140.286   | 45.21099   |  90.16150  | 25.96542   | \n",
       "| 2015-11-30 | 2080.62    | 43.09667   |  87.90667  | 237.3360   | 2.26       | 2160.532   | 44.75191   |  91.28295  | 26.22585   | \n",
       "| 2015-10-31 | 2024.81    | 42.80333   |  89.28333  | 237.8380   | 2.07       | 2098.140   | 44.35349   |  92.51680  | 25.49144   | \n",
       "| 2015-09-30 | 1944.41    | 42.51000   |  90.66000  | 237.9450   | 2.17       | 2013.922   | 44.02973   |  93.90108  | 24.49675   | \n",
       "| 2015-08-31 | 2039.87    | 42.25333   |  92.07667  | 238.3160   | 2.17       | 2109.506   | 43.69575   |  95.21993  | 25.69366   | \n",
       "| ... | ... | ... | ... | ... | ... | ... | ... | ... | ... | \n",
       "| 1873-06-30 | 4.98       | 0.3150     | 0.4450     | 12.55923   | 5.534167   | 97.72325   | 6.181290   | 8.732299   | NA         | \n",
       "| 1873-05-31 | 5.05       | 0.3125     | 0.4425     | 12.93981   | 5.543333   | 96.18228   | 5.951874   | 8.427853   | NA         | \n",
       "| 1873-04-30 | 5.04       | 0.3100     | 0.4400     | 13.22522   | 5.552500   | 93.92021   | 5.776838   | 8.199383   | NA         | \n",
       "| 1873-03-31 | 5.11       | 0.3075     | 0.4375     | 13.22522   | 5.561667   | 95.22466   | 5.730251   | 8.152796   | NA         | \n",
       "| 1873-02-28 | 5.15       | 0.3050     | 0.4350     | 13.22522   | 5.570833   | 95.97005   | 5.683663   | 8.106208   | NA         | \n",
       "| 1873-01-31 | 5.11       | 0.3025     | 0.4325     | 12.93981   | 5.580000   | 97.32504   | 5.761414   | 8.237393   | NA         | \n",
       "| 1872-12-31 | 5.07       | 0.3000     | 0.4300     | 12.93981   | 5.561667   | 96.56320   | 5.713799   | 8.189778   | NA         | \n",
       "| 1872-11-30 | 4.95       | 0.2967     | 0.4275     | 13.13014   | 5.543333   | 92.91106   | 5.569032   | 8.024137   | NA         | \n",
       "| 1872-10-31 | 4.97       | 0.2933     | 0.4250     | 12.74948   | 5.525000   | 96.07171   | 5.669584   | 8.215388   | NA         | \n",
       "| 1872-09-30 | 4.95       | 0.2900     | 0.4225     | 13.03497   | 5.506667   | 93.58938   | 5.483014   | 7.988184   | NA         | \n",
       "| 1872-08-31 | 5.04       | 0.2867     | 0.4200     | 12.93981   | 5.488333   | 95.99182   | 5.460487   | 7.999318   | NA         | \n",
       "| 1872-07-31 | 5.10       | 0.2833     | 0.4175     | 12.84464   | 5.470000   | 97.85424   | 5.435707   | 8.010617   | NA         | \n",
       "| 1872-06-30 | 5.13       | 0.2800     | 0.4150     | 13.03497   | 5.451667   | 96.99263   | 5.293945   | 7.846382   | NA         | \n",
       "| 1872-05-31 | 5.18       | 0.2767     | 0.4125     | 13.13014   | 5.433333   | 97.22814   | 5.193634   | 7.742588   | NA         | \n",
       "| 1872-04-30 | 5.18       | 0.2733     | 0.4100     | 13.13014   | 5.415000   | 97.22814   | 5.129817   | 7.695663   | NA         | \n",
       "| 1872-03-31 | 5.04       | 0.2700     | 0.4075     | 12.84464   | 5.396667   | 96.70302   | 5.180519   | 7.818746   | NA         | \n",
       "| 1872-02-29 | 4.88       | 0.2667     | 0.4050     | 12.65439   | 5.378333   | 95.04078   | 5.194135   | 7.887606   | NA         | \n",
       "| 1872-01-31 | 4.86       | 0.2633     | 0.4025     | 12.65439   | 5.360000   | 94.65127   | 5.127918   | 7.838917   | NA         | \n",
       "| 1871-12-31 | 4.74       | 0.2600     | 0.4000     | 12.65439   | 5.356667   | 92.31420   | 5.063648   | 7.790228   | NA         | \n",
       "| 1871-11-30 | 4.64       | 0.2600     | 0.4000     | 12.36890   | 5.353333   | 92.45247   | 5.180526   | 7.970040   | NA         | \n",
       "| 1871-10-31 | 4.59       | 0.2600     | 0.4000     | 12.36890   | 5.350000   | 91.45621   | 5.180526   | 7.970040   | NA         | \n",
       "| 1871-09-30 | 4.84       | 0.2600     | 0.4000     | 12.17865   | 5.346667   | 97.94399   | 5.261454   | 8.094545   | NA         | \n",
       "| 1871-08-31 | 4.79       | 0.2600     | 0.4000     | 11.89323   | 5.343333   | 99.25836   | 5.387719   | 8.288799   | NA         | \n",
       "| 1871-07-31 | 4.73       | 0.2600     | 0.4000     | 12.08348   | 5.340000   | 96.47184   | 5.302892   | 8.158295   | NA         | \n",
       "| 1871-06-30 | 4.82       | 0.2600     | 0.4000     | 12.08348   | 5.336667   | 98.30745   | 5.302892   | 8.158295   | NA         | \n",
       "| 1871-05-31 | 4.86       | 0.2600     | 0.4000     | 12.27381   | 5.333333   | 97.58617   | 5.220659   | 8.031784   | NA         | \n",
       "| 1871-04-30 | 4.74       | 0.2600     | 0.4000     | 12.55923   | 5.330000   | 93.01370   | 5.102017   | 7.849257   | NA         | \n",
       "| 1871-03-31 | 4.61       | 0.2600     | 0.4000     | 13.03497   | 5.326667   | 87.16102   | 4.915806   | 7.562778   | NA         | \n",
       "| 1871-02-28 | 4.50       | 0.2600     | 0.4000     | 12.84464   | 5.323333   | 86.34198   | 4.988648   | 7.674843   | NA         | \n",
       "| 1871-01-31 | 4.44       | 0.2600     | 0.4000     | 12.46406   | 5.320000   | 87.79198   | 5.140972   | 7.909188   | NA         | \n",
       "\n",
       "\n"
      ],
      "text/plain": [
       "     Year       S&P Composite Dividend Earnings  CPI      Long Interest Rate\n",
       "1    2018-01-31 2776.42             NA        NA 246.4515   NA              \n",
       "2    2017-12-31 2664.34       48.93000        NA 246.5240 2.40              \n",
       "3    2017-11-30 2593.61       48.67667        NA 246.6690 2.35              \n",
       "4    2017-10-31 2557.00       48.42333        NA 246.6630 2.36              \n",
       "5    2017-09-30 2492.84       48.17000 107.08000 246.8190 2.20              \n",
       "6    2017-08-31 2456.22       47.85333 106.06000 245.5190 2.21              \n",
       "7    2017-07-31 2454.10       47.53667 105.04000 244.7860 2.32              \n",
       "8    2017-06-30 2433.99       47.22000 104.02000 244.9550 2.19              \n",
       "9    2017-05-31 2395.35       46.94000 102.77667 244.7330 2.30              \n",
       "10   2017-04-30 2359.31       46.66000 101.53333 244.5240 2.30              \n",
       "11   2017-03-31 2366.82       46.38000 100.29000 243.8010 2.48              \n",
       "12   2017-02-28 2329.91       46.15333  98.37667 243.6030 2.42              \n",
       "13   2017-01-31 2275.12       45.92667  96.46333 242.8390 2.43              \n",
       "14   2016-12-31 2246.63       45.70000  94.55000 241.4320 2.49              \n",
       "15   2016-11-30 2164.99       45.47667  92.73000 241.3530 2.14              \n",
       "16   2016-10-31 2143.02       45.25333  90.91000 241.7290 1.76              \n",
       "17   2016-09-30 2157.69       45.03000  89.09000 241.4280 1.63              \n",
       "18   2016-08-31 2170.95       44.84000  88.36667 240.8490 1.56              \n",
       "19   2016-07-31 2148.90       44.65000  87.64333 240.6280 1.50              \n",
       "20   2016-06-30 2083.89       44.46000  86.92000 241.0180 1.64              \n",
       "21   2016-05-31 2065.55       44.26667  86.76000 240.2290 1.81              \n",
       "22   2016-04-30 2075.54       44.07333  86.60000 239.2610 1.81              \n",
       "23   2016-03-31 2021.95       43.88000  86.44000 238.1320 1.89              \n",
       "24   2016-02-29 1904.42       43.71667  86.47000 237.1110 1.78              \n",
       "25   2016-01-31 1918.60       43.55333  86.50000 236.9160 2.09              \n",
       "26   2015-12-31 2054.08       43.39000  86.53000 236.5250 2.24              \n",
       "27   2015-11-30 2080.62       43.09667  87.90667 237.3360 2.26              \n",
       "28   2015-10-31 2024.81       42.80333  89.28333 237.8380 2.07              \n",
       "29   2015-09-30 1944.41       42.51000  90.66000 237.9450 2.17              \n",
       "30   2015-08-31 2039.87       42.25333  92.07667 238.3160 2.17              \n",
       "...  ...        ...           ...      ...       ...      ...               \n",
       "1736 1873-06-30 4.98          0.3150   0.4450    12.55923 5.534167          \n",
       "1737 1873-05-31 5.05          0.3125   0.4425    12.93981 5.543333          \n",
       "1738 1873-04-30 5.04          0.3100   0.4400    13.22522 5.552500          \n",
       "1739 1873-03-31 5.11          0.3075   0.4375    13.22522 5.561667          \n",
       "1740 1873-02-28 5.15          0.3050   0.4350    13.22522 5.570833          \n",
       "1741 1873-01-31 5.11          0.3025   0.4325    12.93981 5.580000          \n",
       "1742 1872-12-31 5.07          0.3000   0.4300    12.93981 5.561667          \n",
       "1743 1872-11-30 4.95          0.2967   0.4275    13.13014 5.543333          \n",
       "1744 1872-10-31 4.97          0.2933   0.4250    12.74948 5.525000          \n",
       "1745 1872-09-30 4.95          0.2900   0.4225    13.03497 5.506667          \n",
       "1746 1872-08-31 5.04          0.2867   0.4200    12.93981 5.488333          \n",
       "1747 1872-07-31 5.10          0.2833   0.4175    12.84464 5.470000          \n",
       "1748 1872-06-30 5.13          0.2800   0.4150    13.03497 5.451667          \n",
       "1749 1872-05-31 5.18          0.2767   0.4125    13.13014 5.433333          \n",
       "1750 1872-04-30 5.18          0.2733   0.4100    13.13014 5.415000          \n",
       "1751 1872-03-31 5.04          0.2700   0.4075    12.84464 5.396667          \n",
       "1752 1872-02-29 4.88          0.2667   0.4050    12.65439 5.378333          \n",
       "1753 1872-01-31 4.86          0.2633   0.4025    12.65439 5.360000          \n",
       "1754 1871-12-31 4.74          0.2600   0.4000    12.65439 5.356667          \n",
       "1755 1871-11-30 4.64          0.2600   0.4000    12.36890 5.353333          \n",
       "1756 1871-10-31 4.59          0.2600   0.4000    12.36890 5.350000          \n",
       "1757 1871-09-30 4.84          0.2600   0.4000    12.17865 5.346667          \n",
       "1758 1871-08-31 4.79          0.2600   0.4000    11.89323 5.343333          \n",
       "1759 1871-07-31 4.73          0.2600   0.4000    12.08348 5.340000          \n",
       "1760 1871-06-30 4.82          0.2600   0.4000    12.08348 5.336667          \n",
       "1761 1871-05-31 4.86          0.2600   0.4000    12.27381 5.333333          \n",
       "1762 1871-04-30 4.74          0.2600   0.4000    12.55923 5.330000          \n",
       "1763 1871-03-31 4.61          0.2600   0.4000    13.03497 5.326667          \n",
       "1764 1871-02-28 4.50          0.2600   0.4000    12.84464 5.323333          \n",
       "1765 1871-01-31 4.44          0.2600   0.4000    12.46406 5.320000          \n",
       "     Real Price Real Dividend Real Earnings Cyclically Adjusted PE Ratio\n",
       "1    2776.420         NA             NA     33.60275                    \n",
       "2    2663.556   48.91561             NA     32.25322                    \n",
       "3    2591.323   48.63375             NA     31.37894                    \n",
       "4    2554.808   48.38181             NA     30.92039                    \n",
       "5    2489.128   48.09828      106.92056     30.16811                    \n",
       "6    2465.549   48.03508      106.46282     29.91496                    \n",
       "7    2470.797   47.86010      105.75468     30.00222                    \n",
       "8    2448.860   47.50848      104.65549     29.74850                    \n",
       "9    2412.170   47.26961      103.49836     29.31334                    \n",
       "10   2377.908   47.02781      102.33369     28.90425                    \n",
       "11   2392.551   46.88422      101.38031     29.08692                    \n",
       "12   2357.154   46.69301       99.52701     28.65511                    \n",
       "13   2308.965   46.60988       97.89833     28.06357                    \n",
       "14   2293.339   46.65013       96.51574     27.86510                    \n",
       "15   2210.725   46.43735       94.68889     26.85095                    \n",
       "16   2184.887   46.13742       92.68605     26.52514                    \n",
       "17   2202.586   45.96696       90.94374     26.72787                    \n",
       "18   2221.449   45.88304       90.42220     26.94887                    \n",
       "19   2200.906   45.73059       89.76441     26.69400                    \n",
       "20   2130.869   45.46230       88.87952     25.84037                    \n",
       "21   2119.053   45.41328       89.00729     25.69471                    \n",
       "22   2137.916   45.39787       89.20259     25.92234                    \n",
       "23   2092.590   45.41301       89.45991     25.37230                    \n",
       "24   1979.441   45.43879       89.87631     24.00261                    \n",
       "25   1995.821   45.30629       89.98149     24.20617                    \n",
       "26   2140.286   45.21099       90.16150     25.96542                    \n",
       "27   2160.532   44.75191       91.28295     26.22585                    \n",
       "28   2098.140   44.35349       92.51680     25.49144                    \n",
       "29   2013.922   44.02973       93.90108     24.49675                    \n",
       "30   2109.506   43.69575       95.21993     25.69366                    \n",
       "...  ...        ...           ...           ...                         \n",
       "1736 97.72325   6.181290      8.732299      NA                          \n",
       "1737 96.18228   5.951874      8.427853      NA                          \n",
       "1738 93.92021   5.776838      8.199383      NA                          \n",
       "1739 95.22466   5.730251      8.152796      NA                          \n",
       "1740 95.97005   5.683663      8.106208      NA                          \n",
       "1741 97.32504   5.761414      8.237393      NA                          \n",
       "1742 96.56320   5.713799      8.189778      NA                          \n",
       "1743 92.91106   5.569032      8.024137      NA                          \n",
       "1744 96.07171   5.669584      8.215388      NA                          \n",
       "1745 93.58938   5.483014      7.988184      NA                          \n",
       "1746 95.99182   5.460487      7.999318      NA                          \n",
       "1747 97.85424   5.435707      8.010617      NA                          \n",
       "1748 96.99263   5.293945      7.846382      NA                          \n",
       "1749 97.22814   5.193634      7.742588      NA                          \n",
       "1750 97.22814   5.129817      7.695663      NA                          \n",
       "1751 96.70302   5.180519      7.818746      NA                          \n",
       "1752 95.04078   5.194135      7.887606      NA                          \n",
       "1753 94.65127   5.127918      7.838917      NA                          \n",
       "1754 92.31420   5.063648      7.790228      NA                          \n",
       "1755 92.45247   5.180526      7.970040      NA                          \n",
       "1756 91.45621   5.180526      7.970040      NA                          \n",
       "1757 97.94399   5.261454      8.094545      NA                          \n",
       "1758 99.25836   5.387719      8.288799      NA                          \n",
       "1759 96.47184   5.302892      8.158295      NA                          \n",
       "1760 98.30745   5.302892      8.158295      NA                          \n",
       "1761 97.58617   5.220659      8.031784      NA                          \n",
       "1762 93.01370   5.102017      7.849257      NA                          \n",
       "1763 87.16102   4.915806      7.562778      NA                          \n",
       "1764 86.34198   4.988648      7.674843      NA                          \n",
       "1765 87.79198   5.140972      7.909188      NA                          "
      ]
     },
     "metadata": {},
     "output_type": "display_data"
    }
   ],
   "source": [
    "#now let's try downloading data and writing to a variable:\n",
    "data <- Quandl(\"YALE/SPCOMP\")\n",
    "data"
   ]
  },
  {
   "cell_type": "code",
   "execution_count": null,
   "metadata": {
    "collapsed": true
   },
   "outputs": [],
   "source": [
    "# working with R vectors and dataframe: http://www.dummies.com/programming/r/how-to-create-a-data-frame-from-scratch-in-r/\n",
    "# we make 3 vectors:\n",
    "employee <- c(\n",
    "    'John Doe',\n",
    "    'Peter Gynn',\n",
    "    'Jolie Hope'\n",
    "            )\n",
    "salary <- c(21000, 23400, 26800)\n",
    "startdate <- as.Date(c('2010-11-1','2008-3-25','2007-3-14'))\n",
    "\n",
    "#we combine into 1 dataframe called employ:\n",
    "employ.data <- data.frame(employee, salary, startdate)\n",
    "\n",
    "#we output contents of dataframe employ:\n",
    "str(employ.data)"
   ]
  },
  {
   "cell_type": "code",
   "execution_count": 7,
   "metadata": {},
   "outputs": [
    {
     "data": {
      "text/html": [
       "554.214155583566"
      ],
      "text/latex": [
       "554.214155583566"
      ],
      "text/markdown": [
       "554.214155583566"
      ],
      "text/plain": [
       "[1] 554.2142"
      ]
     },
     "metadata": {},
     "output_type": "display_data"
    }
   ],
   "source": [
    "#LET'S WORK WITH R STATISTICS.\n",
    "# HERE IS A BOOK: http://r4ds.had.co.nz/index.html\n",
    "\n",
    "#first we need to learn how to mask NA values:\n",
    "#https://stackoverflow.com/questions/2613420/handling-missing-incomplete-data-in-r-is-there-function-to-mask-but-not-remove\n",
    "#use the na.rm=T flag\n",
    "# v = mean( c(5, NA, 6, 12, NA, 87, 9, NA, 43, 67), na.rm=T)\n",
    "#       (5, 6, 12, 87, 9, 43, 67)\n",
    "\n",
    "var(data$Earnings, na.rm=T)"
   ]
  }
 ],
 "metadata": {
  "kernelspec": {
   "display_name": "R",
   "language": "R",
   "name": "ir"
  },
  "language_info": {
   "codemirror_mode": "r",
   "file_extension": ".r",
   "mimetype": "text/x-r-source",
   "name": "R",
   "pygments_lexer": "r",
   "version": "3.4.2"
  }
 },
 "nbformat": 4,
 "nbformat_minor": 2
}
