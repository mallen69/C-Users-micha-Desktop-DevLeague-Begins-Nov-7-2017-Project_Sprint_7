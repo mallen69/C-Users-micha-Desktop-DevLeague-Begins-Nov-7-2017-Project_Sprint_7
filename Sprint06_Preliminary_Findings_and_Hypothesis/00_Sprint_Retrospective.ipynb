{
 "cells": [
  {
   "cell_type": "markdown",
   "metadata": {},
   "source": [
    "# Sprint 6 - Preliminary Findings and Hypotheses"
   ]
  },
  {
   "cell_type": "markdown",
   "metadata": {},
   "source": [
    "I think this sprint saw several significant developments in the cohort.\n",
    "(1) large analytical strides were taken and the tools that could be used to analyze and inspect data started to sprout (2) I believe as a group we flexed our ability to absorb difficult technical challenges by building on top of skills we previously developed (3) We improved our ability to navigate the data analysis concept map by finally starting to get a tiny glimpse of how analytical ideas are built up from fundamental ones.\n",
    "\n",
    "At the same time, I think projects continued to be diverse, which was always the hope, but as our collective skill and experience is growing, I think we can get more value out of integrating and collaborating.\n",
    "\n",
    "At the last retrospective several good points were made about elements still lacking from the sprint structure\n",
    "- to get through the new concepts introduced, some kind of \"map\" or \"key\" is needed. We've been calling this the \"wikipedia\" explanation\n",
    "- to facilitate good discussion we need some kind of shared exercise to have to discuss\n",
    "- the sprint schedule is grinding...\n",
    "- we may want to try working in some different environments\n",
    "\n",
    "I haven't come up with solutions for all of these suggestions, but do have some adjustments to make based on reflecting on these comments. Several of these are adjustments to the sprint schedule, which will have similar overall structure with some new elements"
   ]
  },
  {
   "cell_type": "markdown",
   "metadata": {},
   "source": [
    "## Sprint Schedule\n",
    "\n",
    "#### Day 1 - Conceptapalooza\n",
    "- Where this fits into our analytical process\n",
    "- Some real world professional examples (the beating heart)\n",
    "- An exercise / demonstration, Q/A (the socratic starter)\n",
    "- Concept \"Draft\" and Sprint Concept Slack Channel - (The wikipedia intro)\n",
    "- Illustrated Concept Findings\n",
    "- Concept / Skill / Question Self Assessment\n",
    "\n",
    "#### Day 2 - Skill Story Development\n",
    "- Scheduled 1:1 consultations,\n",
    "- Updates to portfolio \n",
    "- Listen in on 1:1 sessions\n",
    "\n",
    "#### Day 3 - Project Prototyping\n",
    "- Team example scavenger hunt\n",
    "- technical prototyping\n",
    "- whiteboard project scoping \n",
    "\n",
    "#### Day 4 - Project Day\n",
    "- Guided assistance on projects\n",
    "- Work in progress updates\n",
    "\n",
    "#### Day 5 - Project Day\n",
    "- Work in Progress update\n",
    "- Guided assistance on projects\n",
    "- Repo push\n",
    "\n",
    "#### Day 6 - Sprint Review / Community Meetup\n",
    "- Project finalizing\n",
    "- 8PM presentations to large outside community\n",
    "- Guest presentations as applicable"
   ]
  },
  {
   "cell_type": "markdown",
   "metadata": {},
   "source": [
    "## The Beating Heart\n",
    "\n",
    "When the internet and libraries are full of examples of how things work, what creates value for someone who shows up in person? Tori's answer to this question was -- if you're studying biology, actually getting to see a beating heart. You can't get that on the internet. So what does that mean for our professional outcomes oriented data class? Having access to real professionals doing real projects. That is an obvious and clear need, although I haven't known the best place to insert it in our process, but after last week's guest presentation and last week's retrospective discussion, I think a demonstration of relevant projects on the front end (and look forward projects on the back end) of each sprint are both great to work in. And the front end projects (whether by the coaching team, or guest professionals) can serve as that beating heart."
   ]
  },
  {
   "cell_type": "markdown",
   "metadata": {},
   "source": [
    "## The Socratic Starter\n",
    "\n",
    "Jon and Hunter pointed out that I like to encourage discussions of the topics we're learning, but there's too often, too little to go on, too little context to discuss. There seems to be agreement that there's value in the discussion and debate, but they need some common context. Jon mentioned in Lab school that there was always an activity that preceded their socratic dialogs. Will try to come up with something like this -- whether it's a whiteboard exercise or a coding one -- to seed the discussions"
   ]
  },
  {
   "cell_type": "markdown",
   "metadata": {},
   "source": [
    "## Dividing and conquering concept definitions - through a \"draft\"\n",
    "Like a fantasy sports draft, but less disappointing and injury prone. But honestly, the wikipedia style introduction to topics is probably best done by searching for and picking out resources that work for you and then clarifying your understanding through questions to the cohort and coaching team. It's also useful to compare your understanding to what a peer comes up with. \n",
    "\n",
    "So the idea here is that after some observing some live specimens (real, localized professional projects) and engaging in a structured exercise, you'd have some connection points to contextualize the concepts for this sprint. And from those connections and that context, you can pick 5-10 topics that are most interesting to you, and do some preliminary research to understand where they fit\n",
    "\n",
    "As you find good links, they get thrown up on slack for later review and for everyone to see."
   ]
  },
  {
   "cell_type": "markdown",
   "metadata": {},
   "source": [
    "## Illustrated Clarification\n",
    "\n",
    "The final stage in this socratic discussion is actually getting your brain up on display, so everyone can understand what we think is going on. The coaching staff will illustrate your questions and provisional understanding to confirm your question and attempt to answer it. And the group will get to weigh in by visually following along. And at the end we'll have a visual map to anchor to."
   ]
  },
  {
   "cell_type": "markdown",
   "metadata": {},
   "source": [
    "## Concept / Skill / Question Self Assessment\n",
    "One of the things I want to constantly keep the cohort tied to is where we are at any given moment in the path toward our respective, ultimate goals for this class. It's a long haul, and a tangly world full of rabbit holes. How do we check in to ensure we're always on track for where we're trying to get to? How do we keep our eyes on the prize.\n",
    "\n",
    "Part of this suggests a need for a checklist style reminder of key tasks to remember. Part of this is information that I need from you about your evolving conceptual grasp, skill development and interest. To work on both of these issues, Tori and I developed a tool (inspired by Jon's last sprint and self assessment on concepts) that we can use to express goals and self assess.\n",
    "\n",
    "The major change involved here is how this will be used. Which is discussed in the next point"
   ]
  },
  {
   "cell_type": "markdown",
   "metadata": {},
   "source": [
    "## 1:1 (optionally public) Consultations\n",
    "\n",
    "I want to really put a lot of emphasis on project scoping. I think this is maybe the key leverage point in this whole process is picking a project that maximizes the learning opportunity, doesn't go down the road of too many distractions, fits into the bigger picture, and includes related skills and concepts.\n",
    "\n",
    "But to do this, I think requires individual attention and assessment that can't be done without setting aside dedicated time to doing it. \n",
    "\n",
    "At the same time, we don't want to take away too much time from the classroom environment and having to find / carve out new time in everyone's schedules to accommodate this. The compromise idea is to use the Day 2 class primarily for these consultations. WE would be going through the skills self assessments, potentially answering lingering questions, discussing big picture things. Some of that stuff might be useful to everyone. Some of it might be too specialized. So per people's interest, they could be open to attending and listening in in case there's something useful. Or that time could be spent updating portfolios in the classroom context (something we have needed, but not had time for) or using that time however else would best support learning.\n",
    "\n",
    "But the main thing is that for 45 minutes each member would get the undivided attention of a coach and the outcome would be an updated roadmap, and critically, a skill story (or stories) to tackle for the upcoming sprint and a good idea of the related skills, concepts, and questions to develop as part of that.\n",
    "\n",
    "These will be scheduled ahead of time so you can plan your time around it"
   ]
  },
  {
   "cell_type": "markdown",
   "metadata": {},
   "source": [
    "## Portfolio Updates\n",
    "\n",
    "Part of the outcome of this class is to have a portfolio to show to future employers or clients, or just to look back at yourselves. However, it never seems to make sense to use class time to tweak and make improvements to projects when the alternative is taking on new concepts and working on new projects. But polishing work is a necessary part of any practice, and I think the optional Day 2 time not spent in a 1:1 consultation or listening in on 1:1 consultation could be a great time to do that. You can be present for your own consultation, listen in on others, use the time to keep your portfolio fresh and get the input of your cohort, or just use the time however you see fit.\n",
    "\n",
    "If these are successful, we can also invite people to come in and comment on portfolios and work with you. And you can potentially create more teaching / learning opportunities"
   ]
  },
  {
   "cell_type": "markdown",
   "metadata": {},
   "source": [
    "## Team Example Project Scavenger Hunt\n",
    "\n",
    "The project pitch has undergone several revisions and evolutions, and per one of runjini's early observations, it's really important to have examples to go on. Benchmarks as well as models are a key part of leveraging the available knowledge base to build your own projects and skills. \n",
    "\n",
    "I think it's been hard to separate the act of working on your own project (just to start getting your bearings) from looking around for good examples. It's been equally hard to understand what other people are working on well enough to help them find useful examples.\n",
    "\n",
    "That said, I think there's tremendous value in being able to explain your skill story and desired project well enough that other people can help you. It also means that they'll be able to help you with things they come across in their own searches (even if working on different things, related things tend to come up).\n",
    "\n",
    "So an evolved approach we've come up with is to spend 10-15 minutes collectively as a group, finding example projects for someone to consider using as models or benchmarks, in a live reverse project pitch session. Here's how it would work\n",
    "\n",
    "- You go in front of the classroom and explain the skill story, skills, questions, etc you are trying to address in your project.\n",
    "- your cohort and coaches will ask clarifying questions about what you're trying to do, why it's relevant\n",
    "- with laptops open, people will do quick searches and send them to slack.\n",
    "- we'll discuss in real time, the project owner will say if it's what he's looking for and if not, what is.\n",
    "- after 10-15 minutes we'll do the process over for the next person\n",
    "\n",
    "By the end, hopefully at least 2-3 examples that you will include in your project proposal"
   ]
  },
  {
   "cell_type": "markdown",
   "metadata": {},
   "source": [
    "## Whiteboard Project Scoping\n",
    "\n",
    "Day two will include our normal technical prototyping. Based on the examples found and building on what you know, how far can you get. I think this technical prototyping has been working pretty well.\n",
    "\n",
    "The final goal, though is to come up with a project scope. I think this is another area where coaches and project proposers will need to consult in an individual capacity. One exercise that seemed to work pretty well and perhaps was less tedious and more flexible than typing up scope and milestones was the whiteboard scope development. And this can be done in pairs to think through it with a partner. Once the scope is discussed and signed off on by a coach, I think the projects will be well set up for the project work to get done!"
   ]
  },
  {
   "cell_type": "markdown",
   "metadata": {},
   "source": [
    "## Meetup / Pizza & Beer Sprint Review\n",
    "\n",
    "At this point, if all has been done correctly, a lot of the class will be pretty up to speed on your project. Work in progress udpates, group example finding, pair scoping, maybe pair walkthroughs. So that limits some of the information exchange value of the pair review. \n",
    "\n",
    "However, packaging your project into key insights and practicing communicating the entirely new thing you learned I think has tremendous value. So it is perhaps the case that the best audience for your bi-weekly sprint review presentations is wider than just the cohort. \n",
    "\n",
    "So accordingly, I think it would be to our benefit to structure the sprint review day as a more general meetup format, invite the broader community, and let you communicate what you're working on and why it was cool to you to a general audience. Perhaps inviting in other presenters outside the class to do the same thing. It can be anyone with a project can come in and do. Spend the first hour or two prepping a brief presentation, and the second sharing with the wider community. We can discuss in more detail, but I think there are some natural communities, data science meetup, machine learning meetup, AWS meetup, dev league, etc that we can reach out to and involve more community in what we're doing."
   ]
  },
  {
   "cell_type": "markdown",
   "metadata": {},
   "source": []
  },
  {
   "cell_type": "markdown",
   "metadata": {},
   "source": []
  }
 ],
 "metadata": {
  "kernelspec": {
   "display_name": "Python 3",
   "language": "python",
   "name": "python3"
  },
  "language_info": {
   "codemirror_mode": {
    "name": "ipython",
    "version": 3
   },
   "file_extension": ".py",
   "mimetype": "text/x-python",
   "name": "python",
   "nbconvert_exporter": "python",
   "pygments_lexer": "ipython3",
   "version": "3.6.1"
  }
 },
 "nbformat": 4,
 "nbformat_minor": 2
}
