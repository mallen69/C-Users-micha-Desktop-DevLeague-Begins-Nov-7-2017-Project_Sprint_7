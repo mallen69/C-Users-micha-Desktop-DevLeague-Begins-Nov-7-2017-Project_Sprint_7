{
 "cells": [
  {
   "cell_type": "markdown",
   "metadata": {},
   "source": [
    "# Sprint 6 - Preliminary Findings and Hypotheses"
   ]
  },
  {
   "cell_type": "markdown",
   "metadata": {},
   "source": [
    "I think this sprint saw several significant developments in the cohort.\n",
    "(1) large analytical strides were taken and the tools that could be used to analyze and inspect data started to sprout (2) I believe as a group we flexed our ability to absorb difficult technical challenges by building on top of skills we previously developed (3) We improved our ability to navigate the data analysis concept map by finally starting to get a tiny glimpse of how analytical ideas are built up from fundamental ones.\n",
    "\n",
    "At the same time, I think projects continued to be diverse, which was always the hope, but as our collective skill and experience is growing, I think we can get more value out of integrating and collaborating.\n",
    "\n",
    "At the last retrospective several good points were made about elements still lacking from the sprint structure\n",
    "- to get through the new concepts introduced, some kind of \"map\" or \"key\" is needed. We've been calling this the \"wikipedia\" explanation\n",
    "- to facilitate good discussion we need some kind of shared exercise to have to discuss\n",
    "- the sprint schedule is grinding...\n",
    "- we may want to try working in some different environments\n",
    "\n",
    "I haven't come up with solutions for all of these suggestions, but do have some adjustments to make based on reflecting on these comments. Several of these are adjustments to the sprint schedule, which will have similar overall structure with some new elements"
   ]
  },
  {
   "cell_type": "markdown",
   "metadata": {},
   "source": [
    "## Sprint Schedule\n",
    "\n",
    "#### Day 1 - Conceptapalooza\n",
    "- Where this fits into our analytical process\n",
    "- Some real world professional examples (the beating heart)\n",
    "- An exercise / demonstration, Q/A (the socratic starter)\n",
    "- Concept \"Draft\" and Sprint Concept Slack Channel - (The wikipedia intro)\n",
    "- Illustrated Concept Findings\n",
    "- Concept / Skill / Question Self Assessment\n",
    "\n",
    "#### Day 2 - Skill Story Development\n",
    "- Scheduled 1:1 consultations,\n",
    "- Updates to portfolio \n",
    "- Listen in on 1:1 sessions\n",
    "\n",
    "#### Day 3 - Project Prototyping\n",
    "- Team example scavenger hunt\n",
    "- technical prototyping\n",
    "- whiteboard project scoping \n",
    "\n",
    "#### Day 4 - Project Day\n",
    "- Guided assistance on projects\n",
    "- Work in progress updates\n",
    "\n",
    "#### Day 5 - Project Day\n",
    "- Work in Progress update\n",
    "- Guided assistance on projects\n",
    "- Repo push\n",
    "\n",
    "#### Day 6 - Sprint Review / Community Meetup\n",
    "- Project finalizing\n",
    "- 8PM presentations to large outside community\n",
    "- Guest presentations as applicable"
   ]
  },
  {
   "cell_type": "markdown",
   "metadata": {},
   "source": [
    "## The Beating Heart"
   ]
  },
  {
   "cell_type": "markdown",
   "metadata": {},
   "source": [
    "## The Socratic Starter"
   ]
  },
  {
   "cell_type": "markdown",
   "metadata": {},
   "source": [
    "## Concept Kickball"
   ]
  },
  {
   "cell_type": "markdown",
   "metadata": {},
   "source": [
    "## Illustrated Clarification"
   ]
  },
  {
   "cell_type": "markdown",
   "metadata": {},
   "source": [
    "## Concept / Skill / Question Self Assessment"
   ]
  },
  {
   "cell_type": "markdown",
   "metadata": {},
   "source": [
    "## 1:1 (optionally public) Consultations"
   ]
  },
  {
   "cell_type": "markdown",
   "metadata": {},
   "source": [
    "## Portfolio Updates"
   ]
  },
  {
   "cell_type": "markdown",
   "metadata": {},
   "source": [
    "## Team Example Project Scavenger Hunt"
   ]
  },
  {
   "cell_type": "markdown",
   "metadata": {},
   "source": [
    "## Whiteboard Project Scoping"
   ]
  },
  {
   "cell_type": "markdown",
   "metadata": {},
   "source": [
    "## Meetup / Pizza & Beer Sprint Review"
   ]
  },
  {
   "cell_type": "markdown",
   "metadata": {},
   "source": []
  },
  {
   "cell_type": "markdown",
   "metadata": {},
   "source": []
  }
 ],
 "metadata": {
  "kernelspec": {
   "display_name": "Python 3",
   "language": "python",
   "name": "python3"
  },
  "language_info": {
   "codemirror_mode": {
    "name": "ipython",
    "version": 3
   },
   "file_extension": ".py",
   "mimetype": "text/x-python",
   "name": "python",
   "nbconvert_exporter": "python",
   "pygments_lexer": "ipython3",
   "version": "3.6.1"
  }
 },
 "nbformat": 4,
 "nbformat_minor": 2
}
