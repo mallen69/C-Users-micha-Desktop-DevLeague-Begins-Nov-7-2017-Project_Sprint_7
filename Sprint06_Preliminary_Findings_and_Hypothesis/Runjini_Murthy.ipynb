{
 "cells": [
  {
   "cell_type": "markdown",
   "metadata": {
    "collapsed": true
   },
   "source": [
    "# Preliminary Findings and Hypotheses Sprint Journal for [Author]"
   ]
  },
  {
   "cell_type": "markdown",
   "metadata": {},
   "source": [
    "## Part 1 (Week 1): Pair EDA and Concept Demonstration\n",
    "\n",
    "### 1. Exploratory Data Analysis Concepts to use or test on this project\n",
    "concepts, definitions, why you are interested or think they will be useful. These are the concepts you will illustrate in the sections below. Recommend selecting 3-5, but choose as many as you think you can explore comprehensively.\n",
    "\n",
    "### 2. Professionally Relevant Datasets\n",
    "Find a dataset that would be useful for you to become more familiar with professionally. Can identify multiple (max 3 recommended):\n",
    "1. Facebook campaign data\n",
    "2. AdWords data\n",
    "3. Email marketing data\n",
    "4. Website traffic data\n",
    "\n",
    "### 3. EDA Steps for your partner to explore your dataset(s)\n",
    "The first part of this sprint project will be to trade datasets with a partner. The idea for the exercise is to think about what you think might be interesting about a dataset and create an EDA plan to explore it. Except the first pass will be for your partner to carry out your EDA plan and report back to you with preliminary findings.\n",
    "\n",
    "Create a new Jupyter notebook (python or R) that loads your dataset and includes cells for the steps you want your partner to take and empty cells for the code to complete them as well as empty cells where preliminary findings should go.\n",
    "\n",
    "### 4. Carrying out your Partner's EDA Steps\n",
    "Complete the EDA process notebook your partner created\n",
    "\n",
    "### 5. Applying your EDA Concepts (step 1) to your partner's dataset. \n",
    "Use your partner's dataset as a basis to explore the concepts for this week\n",
    "\n",
    "## Part 2 (Week 2): EDA of your Dataset\n",
    "Walk through a polished Exploratory Data Analysis exercise in your personal repo. This can include the steps that you laid out originally, any new steps and new ideas you have, or any new techniques you developed from the concepts in (5.) above. \n",
    "\n",
    "Your final deliverable repo should include a \n",
    "- 1.) readme and a script file OR\n",
    "- 2.) a notebook \n",
    "\n",
    "that illustrates your analysis and leads to preliminary findings and hypotheses about the dataset for future investigation or more thorough analysis."
   ]
  },
  {
   "cell_type": "code",
   "execution_count": 7,
   "metadata": {},
   "outputs": [
    {
     "name": "stderr",
     "output_type": "stream",
     "text": [
      "Skipping install of 'flipTime' from a github remote, the SHA1 (2888936a) has not changed since last install.\n",
      "  Use `force = TRUE` to force installation\n",
      "Parsed with column specification:\n",
      "cols(\n",
      "  reporting_start = col_character(),\n",
      "  reporting_end = col_character(),\n",
      "  campaign_name = col_character(),\n",
      "  delivery = col_character(),\n",
      "  results = col_integer(),\n",
      "  result_indicator = col_character(),\n",
      "  reach = col_integer(),\n",
      "  impressions = col_integer(),\n",
      "  cost_per_result = col_double(),\n",
      "  amount_spent = col_double(),\n",
      "  end_date = col_character(),\n",
      "  frequency = col_double(),\n",
      "  link_clicks = col_integer(),\n",
      "  button_clicks = col_integer(),\n",
      "  comments = col_integer(),\n",
      "  reactions = col_integer(),\n",
      "  shares = col_integer(),\n",
      "  engagement = col_integer()\n",
      ")\n"
     ]
    },
    {
     "data": {
      "text/html": [
       "<table>\n",
       "<thead><tr><th scope=col>reporting_start</th><th scope=col>reporting_end</th><th scope=col>campaign_name</th><th scope=col>delivery</th><th scope=col>results</th><th scope=col>result_indicator</th><th scope=col>reach</th><th scope=col>impressions</th><th scope=col>cost_per_result</th><th scope=col>amount_spent</th><th scope=col>end_date</th><th scope=col>frequency</th><th scope=col>link_clicks</th><th scope=col>button_clicks</th><th scope=col>comments</th><th scope=col>reactions</th><th scope=col>shares</th><th scope=col>engagement</th></tr></thead>\n",
       "<tbody>\n",
       "\t<tr><td>2018-02-04                                                  </td><td>2018-02-04                                                  </td><td>20171215-20180103 Lead Gen Turnkey                          </td><td>completed                                                   </td><td>NA                                                          </td><td>NA                                                          </td><td>0                                                           </td><td>0                                                           </td><td>NA                                                          </td><td>0                                                           </td><td>2018-01-07                                                  </td><td>0                                                           </td><td>NA                                                          </td><td>0                                                           </td><td>NA                                                          </td><td>NA                                                          </td><td>NA                                                          </td><td>NA                                                          </td></tr>\n",
       "\t<tr><td>2018-02-04                                                  </td><td>2018-02-04                                                  </td><td>20171221-20171231 'A'ali'i Blog Retargeting                 </td><td>completed                                                   </td><td>NA                                                          </td><td>NA                                                          </td><td>0                                                           </td><td>0                                                           </td><td>NA                                                          </td><td>0                                                           </td><td>2017-12-31                                                  </td><td>0                                                           </td><td>NA                                                          </td><td>0                                                           </td><td>NA                                                          </td><td>NA                                                          </td><td>NA                                                          </td><td>NA                                                          </td></tr>\n",
       "\t<tr><td>2018-02-04                                                  </td><td>2018-02-04                                                  </td><td>20180109-20180111 Lead Gen Turnkey                          </td><td>completed                                                   </td><td>NA                                                          </td><td>NA                                                          </td><td>0                                                           </td><td>0                                                           </td><td>NA                                                          </td><td>0                                                           </td><td>2018-01-11                                                  </td><td>0                                                           </td><td>NA                                                          </td><td>0                                                           </td><td>NA                                                          </td><td>NA                                                          </td><td>NA                                                          </td><td>NA                                                          </td></tr>\n",
       "\t<tr><td>2018-02-04                                                  </td><td>2018-02-04                                                  </td><td>Post: \"Names have power. Learn more about the origins of...\"</td><td>inactive                                                    </td><td>NA                                                          </td><td>NA                                                          </td><td>0                                                           </td><td>0                                                           </td><td>NA                                                          </td><td>0                                                           </td><td>2018-01-15                                                  </td><td>0                                                           </td><td>NA                                                          </td><td>0                                                           </td><td>NA                                                          </td><td>NA                                                          </td><td>NA                                                          </td><td>NA                                                          </td></tr>\n",
       "\t<tr><td>2018-02-04                                                  </td><td>2018-02-04                                                  </td><td>Post: \"Shaken, not stirred: Bar Leather Apron provides...\"  </td><td>completed                                                   </td><td>NA                                                          </td><td>NA                                                          </td><td>0                                                           </td><td>0                                                           </td><td>NA                                                          </td><td>0                                                           </td><td>2018-01-08                                                  </td><td>0                                                           </td><td>NA                                                          </td><td>0                                                           </td><td>NA                                                          </td><td>NA                                                          </td><td>NA                                                          </td><td>NA                                                          </td></tr>\n",
       "\t<tr><td>2018-02-04                                                  </td><td>2018-02-04                                                  </td><td>Post: \"Catch a movie, take a free yoga class or meet up...\" </td><td>completed                                                   </td><td>NA                                                          </td><td>NA                                                          </td><td>0                                                           </td><td>0                                                           </td><td>NA                                                          </td><td>0                                                           </td><td>2017-12-31                                                  </td><td>0                                                           </td><td>NA                                                          </td><td>0                                                           </td><td>NA                                                          </td><td>NA                                                          </td><td>NA                                                          </td><td>NA                                                          </td></tr>\n",
       "</tbody>\n",
       "</table>\n"
      ],
      "text/latex": [
       "\\begin{tabular}{r|llllllllllllllllll}\n",
       " reporting\\_start & reporting\\_end & campaign\\_name & delivery & results & result\\_indicator & reach & impressions & cost\\_per\\_result & amount\\_spent & end\\_date & frequency & link\\_clicks & button\\_clicks & comments & reactions & shares & engagement\\\\\n",
       "\\hline\n",
       "\t 2018-02-04                                                   & 2018-02-04                                                   & 20171215-20180103 Lead Gen Turnkey                           & completed                                                    & NA                                                           & NA                                                           & 0                                                            & 0                                                            & NA                                                           & 0                                                            & 2018-01-07                                                   & 0                                                            & NA                                                           & 0                                                            & NA                                                           & NA                                                           & NA                                                           & NA                                                          \\\\\n",
       "\t 2018-02-04                                                   & 2018-02-04                                                   & 20171221-20171231 'A'ali'i Blog Retargeting                  & completed                                                    & NA                                                           & NA                                                           & 0                                                            & 0                                                            & NA                                                           & 0                                                            & 2017-12-31                                                   & 0                                                            & NA                                                           & 0                                                            & NA                                                           & NA                                                           & NA                                                           & NA                                                          \\\\\n",
       "\t 2018-02-04                                                   & 2018-02-04                                                   & 20180109-20180111 Lead Gen Turnkey                           & completed                                                    & NA                                                           & NA                                                           & 0                                                            & 0                                                            & NA                                                           & 0                                                            & 2018-01-11                                                   & 0                                                            & NA                                                           & 0                                                            & NA                                                           & NA                                                           & NA                                                           & NA                                                          \\\\\n",
       "\t 2018-02-04                                                   & 2018-02-04                                                   & Post: \"Names have power. Learn more about the origins of...\" & inactive                                                     & NA                                                           & NA                                                           & 0                                                            & 0                                                            & NA                                                           & 0                                                            & 2018-01-15                                                   & 0                                                            & NA                                                           & 0                                                            & NA                                                           & NA                                                           & NA                                                           & NA                                                          \\\\\n",
       "\t 2018-02-04                                                   & 2018-02-04                                                   & Post: \"Shaken, not stirred: Bar Leather Apron provides...\"   & completed                                                    & NA                                                           & NA                                                           & 0                                                            & 0                                                            & NA                                                           & 0                                                            & 2018-01-08                                                   & 0                                                            & NA                                                           & 0                                                            & NA                                                           & NA                                                           & NA                                                           & NA                                                          \\\\\n",
       "\t 2018-02-04                                                   & 2018-02-04                                                   & Post: \"Catch a movie, take a free yoga class or meet up...\"  & completed                                                    & NA                                                           & NA                                                           & 0                                                            & 0                                                            & NA                                                           & 0                                                            & 2017-12-31                                                   & 0                                                            & NA                                                           & 0                                                            & NA                                                           & NA                                                           & NA                                                           & NA                                                          \\\\\n",
       "\\end{tabular}\n"
      ],
      "text/markdown": [
       "\n",
       "reporting_start | reporting_end | campaign_name | delivery | results | result_indicator | reach | impressions | cost_per_result | amount_spent | end_date | frequency | link_clicks | button_clicks | comments | reactions | shares | engagement | \n",
       "|---|---|---|---|---|---|\n",
       "| 2018-02-04                                                   | 2018-02-04                                                   | 20171215-20180103 Lead Gen Turnkey                           | completed                                                    | NA                                                           | NA                                                           | 0                                                            | 0                                                            | NA                                                           | 0                                                            | 2018-01-07                                                   | 0                                                            | NA                                                           | 0                                                            | NA                                                           | NA                                                           | NA                                                           | NA                                                           | \n",
       "| 2018-02-04                                                   | 2018-02-04                                                   | 20171221-20171231 'A'ali'i Blog Retargeting                  | completed                                                    | NA                                                           | NA                                                           | 0                                                            | 0                                                            | NA                                                           | 0                                                            | 2017-12-31                                                   | 0                                                            | NA                                                           | 0                                                            | NA                                                           | NA                                                           | NA                                                           | NA                                                           | \n",
       "| 2018-02-04                                                   | 2018-02-04                                                   | 20180109-20180111 Lead Gen Turnkey                           | completed                                                    | NA                                                           | NA                                                           | 0                                                            | 0                                                            | NA                                                           | 0                                                            | 2018-01-11                                                   | 0                                                            | NA                                                           | 0                                                            | NA                                                           | NA                                                           | NA                                                           | NA                                                           | \n",
       "| 2018-02-04                                                   | 2018-02-04                                                   | Post: \"Names have power. Learn more about the origins of...\" | inactive                                                     | NA                                                           | NA                                                           | 0                                                            | 0                                                            | NA                                                           | 0                                                            | 2018-01-15                                                   | 0                                                            | NA                                                           | 0                                                            | NA                                                           | NA                                                           | NA                                                           | NA                                                           | \n",
       "| 2018-02-04                                                   | 2018-02-04                                                   | Post: \"Shaken, not stirred: Bar Leather Apron provides...\"   | completed                                                    | NA                                                           | NA                                                           | 0                                                            | 0                                                            | NA                                                           | 0                                                            | 2018-01-08                                                   | 0                                                            | NA                                                           | 0                                                            | NA                                                           | NA                                                           | NA                                                           | NA                                                           | \n",
       "| 2018-02-04                                                   | 2018-02-04                                                   | Post: \"Catch a movie, take a free yoga class or meet up...\"  | completed                                                    | NA                                                           | NA                                                           | 0                                                            | 0                                                            | NA                                                           | 0                                                            | 2017-12-31                                                   | 0                                                            | NA                                                           | 0                                                            | NA                                                           | NA                                                           | NA                                                           | NA                                                           | \n",
       "\n",
       "\n"
      ],
      "text/plain": [
       "  reporting_start reporting_end\n",
       "1 2018-02-04      2018-02-04   \n",
       "2 2018-02-04      2018-02-04   \n",
       "3 2018-02-04      2018-02-04   \n",
       "4 2018-02-04      2018-02-04   \n",
       "5 2018-02-04      2018-02-04   \n",
       "6 2018-02-04      2018-02-04   \n",
       "  campaign_name                                                delivery \n",
       "1 20171215-20180103 Lead Gen Turnkey                           completed\n",
       "2 20171221-20171231 'A'ali'i Blog Retargeting                  completed\n",
       "3 20180109-20180111 Lead Gen Turnkey                           completed\n",
       "4 Post: \"Names have power. Learn more about the origins of...\" inactive \n",
       "5 Post: \"Shaken, not stirred: Bar Leather Apron provides...\"   completed\n",
       "6 Post: \"Catch a movie, take a free yoga class or meet up...\"  completed\n",
       "  results result_indicator reach impressions cost_per_result amount_spent\n",
       "1 NA      NA               0     0           NA              0           \n",
       "2 NA      NA               0     0           NA              0           \n",
       "3 NA      NA               0     0           NA              0           \n",
       "4 NA      NA               0     0           NA              0           \n",
       "5 NA      NA               0     0           NA              0           \n",
       "6 NA      NA               0     0           NA              0           \n",
       "  end_date   frequency link_clicks button_clicks comments reactions shares\n",
       "1 2018-01-07 0         NA          0             NA       NA        NA    \n",
       "2 2017-12-31 0         NA          0             NA       NA        NA    \n",
       "3 2018-01-11 0         NA          0             NA       NA        NA    \n",
       "4 2018-01-15 0         NA          0             NA       NA        NA    \n",
       "5 2018-01-08 0         NA          0             NA       NA        NA    \n",
       "6 2017-12-31 0         NA          0             NA       NA        NA    \n",
       "  engagement\n",
       "1 NA        \n",
       "2 NA        \n",
       "3 NA        \n",
       "4 NA        \n",
       "5 NA        \n",
       "6 NA        "
      ]
     },
     "metadata": {},
     "output_type": "display_data"
    }
   ],
   "source": [
    "# Load up necessary packages\n",
    "library(readr)\n",
    "require(devtools)\n",
    "install_github(\"Displayr/flipTime\")\n",
    "library(flipTime)\n",
    "\n",
    "# Import data file\n",
    "aalii_facebook <- read_csv(\"Aalii-Campaigns-Dec-15-2017-Feb-4-2018.csv\")\n",
    "\n",
    "# Clean up data set\n",
    "aalii_facebook$reporting_start <- AsDate(aalii_facebook$reporting_start)\n",
    "aalii_facebook$reporting_end <- AsDate(aalii_facebook$reporting_end)\n",
    "aalii_facebook$end_date <- AsDate(aalii_facebook$end_date)\n",
    "head(aalii_facebook)"
   ]
  },
  {
   "cell_type": "code",
   "execution_count": null,
   "metadata": {
    "collapsed": true
   },
   "outputs": [],
   "source": [
    "# The Basics\n",
    "# How many variables/columns?\n",
    "length(aalii_facebook)\n",
    "\n",
    "# What are the unique Facebook campaigns in the data set?\n",
    "unique(aalii_facebook$campaign_name)\n",
    "\n",
    "# How much money was spent in total over the course of this data set?\n",
    "sum(aalii_facebook$amount_spent)\n",
    "# 16601.66\n",
    "\n",
    "# What was the max amount of money spent?\n",
    "max(aalii_facebook$amount_spent)\n",
    "# 644.75\n",
    "\n",
    "# What was the minimum amount spent?\n",
    " min(aalii_facebook$amount_spent)\n",
    "# 0\n",
    " \n",
    "# What was the maximum reach recorded?\n",
    "max(aalii_facebook$reach)\n",
    "# 21263\n",
    "\n",
    "# What was the minimum reach recorded?\n",
    "min(aalii_facebook$reach)\n",
    "# 0"
   ]
  },
  {
   "cell_type": "code",
   "execution_count": null,
   "metadata": {
    "collapsed": true
   },
   "outputs": [],
   "source": [
    "# Practice plots\n",
    "ggplot(aalii_facebook, aes(reach, engagement)) + geom_point()\n",
    "\n",
    "ggplot(aalii_facebook, aes(amount_spent, engagement)) + geom_point()\n",
    "\n",
    "ggplot(aalii_facebook) + geom_bar(aes(x=reporting_start,y=engagement),stat=\"summary\", fun.y = \"sum\",fill=I(\"grey50\"))\n",
    "\n",
    "# Trying to repurpose this graph: http://ggplot.yhathq.com/\n",
    "ggplot(aalii_facebook, aes(x='amount_spent', y='clicks', color='campaign_name')) +\n",
    "  geom_point() +\n",
    "  scale_color_brewer(type='diverging', palette=3) +\n",
    "  xlab(\"Reach\") + ylab(\"Clicks\") + ggtitle(\"Facebook_Campaigns\")"
   ]
  },
  {
   "cell_type": "markdown",
   "metadata": {},
   "source": [
    "# Key Concepts"
   ]
  },
  {
   "cell_type": "markdown",
   "metadata": {},
   "source": [
    "## Covariance (Concept 1)\n",
    "*Explanation of this concept relative to your data set here *"
   ]
  },
  {
   "cell_type": "code",
   "execution_count": 1,
   "metadata": {
    "collapsed": true
   },
   "outputs": [],
   "source": [
    "## Code to Illustrate the concept goes here"
   ]
  },
  {
   "cell_type": "markdown",
   "metadata": {},
   "source": [
    "## Concept 2"
   ]
  },
  {
   "cell_type": "code",
   "execution_count": null,
   "metadata": {
    "collapsed": true
   },
   "outputs": [],
   "source": []
  },
  {
   "cell_type": "markdown",
   "metadata": {},
   "source": [
    "## Concept 3"
   ]
  },
  {
   "cell_type": "code",
   "execution_count": null,
   "metadata": {
    "collapsed": true
   },
   "outputs": [],
   "source": []
  },
  {
   "cell_type": "markdown",
   "metadata": {},
   "source": [
    "## Concept 4"
   ]
  },
  {
   "cell_type": "code",
   "execution_count": null,
   "metadata": {
    "collapsed": true
   },
   "outputs": [],
   "source": []
  },
  {
   "cell_type": "markdown",
   "metadata": {},
   "source": [
    "## Concept 5"
   ]
  },
  {
   "cell_type": "code",
   "execution_count": null,
   "metadata": {
    "collapsed": true
   },
   "outputs": [],
   "source": []
  }
 ],
 "metadata": {
  "kernelspec": {
   "display_name": "R",
   "language": "R",
   "name": "ir"
  },
  "language_info": {
   "codemirror_mode": "r",
   "file_extension": ".r",
   "mimetype": "text/x-r-source",
   "name": "R",
   "pygments_lexer": "r",
   "version": "3.4.2"
  }
 },
 "nbformat": 4,
 "nbformat_minor": 2
}
