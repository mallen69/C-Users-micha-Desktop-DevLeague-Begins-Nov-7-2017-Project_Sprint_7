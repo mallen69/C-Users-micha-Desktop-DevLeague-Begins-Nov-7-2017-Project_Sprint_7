{
 "cells": [
  {
   "cell_type": "markdown",
   "metadata": {
    "collapsed": true
   },
   "source": [
    "# Preliminary Findings and Hypotheses Sprint Journal for Michael Allen"
   ]
  },
  {
   "cell_type": "markdown",
   "metadata": {},
   "source": [
    "## Part 1 (Week 1): Pair EDA and Concept Demonstration\n",
    "\n",
    "### 1. Exploratory Data Analysis Concepts to use or test on this project\n",
    "concepts, definitions, why you are interested or think they will be useful. These are the concepts you will illustrate in the sections below. Recommend selecting 3-5, but choose as many as you think you can explore comprehensively.\n",
    "\n",
    "\n",
    "*Find a dataset that would be useful for you to become more familiar with professionally. Can identify multiple (max 3 recommended)*\n",
    "\n",
    "### 3. EDA Steps for your partner to explore your dataset(s)\n",
    "The first part of this sprint project will be to trade datasets with a partner. The idea for the exercise is to think about what you think might be interesting about a dataset and create an EDA plan to explore it. Except the first pass will be for your partner to carry out your EDA plan and report back to you with preliminary findings.\n",
    "\n",
    "Create a new Jupyter notebook (python or R) that loads your dataset and includes cells for the steps you want your partner to take and empty cells for the code to complete them as well as empty cells where preliminary findings should go.\n",
    "\n",
    "### 4. Carrying out your Partner's EDA Steps\n",
    "Complete the EDA process notebook your partner created\n",
    "\n",
    "### 5. Applying your EDA Concepts (step 1) to your partner's dataset. \n",
    "Use your partner's dataset as a basis to explore the concepts for this week\n",
    "\n",
    "## Part 2 (Week 2): EDA of your Dataset\n",
    "Walk through a polished Exploratory Data Analysis exercise in your personal repo. This can include the steps that you laid out originally, any new steps and new ideas you have, or any new techniques you developed from the concepts in (5.) above. \n",
    "\n",
    "Your final deliverable repo should include a \n",
    "- 1.) readme and a script file OR\n",
    "- 2.) a notebook \n",
    "\n",
    "that illustrates your analysis and leads to preliminary findings and hypotheses about the dataset for future investigation or more thorough analysis."
   ]
  },
  {
   "cell_type": "markdown",
   "metadata": {},
   "source": [
    "# Key Concepts"
   ]
  },
  {
   "cell_type": "markdown",
   "metadata": {},
   "source": [
    "*Kurtosis:  Skewness essentially measures the relative size of the two tails. Kurtosis is a measure of the combined sizes of the two tails. It measures the amount of probability in the tails. The value is often compared to the kurtosis of the normal distribution, which is equal to 3.* \n"
   ]
  },
  {
   "cell_type": "markdown",
   "metadata": {
    "collapsed": true
   },
   "source": [
    "*#calculate the kurtosis of the Column for February 2016 (X2016.02)*  \n",
    "*kurtosis(housing$X2016.02)*  \n",
    "*[1] 14.46921*  \n",
    "\n",
    "*Also calculated the Skewness of the Column for February 2016 (X2016.02)*  \n",
    "*skewness(housing$X2016.02)*  \n",
    "*[1] 3.192917*\n",
    "\n",
    "\n",
    "\n",
    "\n"
   ]
  },
  {
   "cell_type": "markdown",
   "metadata": {},
   "source": [
    "*Cross tabulation: Cross tabulation is a statistical tool that is used to analyze categorical data. Categorical data is data or variables that are separated into different categories that are mutually exclusive from one another. An example of categorical data is eye color.* "
   ]
  },
  {
   "cell_type": "code",
   "execution_count": null,
   "metadata": {
    "collapsed": true
   },
   "outputs": [],
   "source": []
  },
  {
   "cell_type": "markdown",
   "metadata": {},
   "source": [
    "*Covariance:  Covariance is a measure of how much two random variables vary together. It's similar to variance, but where variance tells you how a single variable varies, co variance tells you how two variables vary together*  \n",
    "\n",
    " "
   ]
  },
  {
   "cell_type": "markdown",
   "metadata": {
    "collapsed": true
   },
   "source": []
  },
  {
   "cell_type": "markdown",
   "metadata": {},
   "source": [
    "*Continuous / quantitative variable:  Quantitative variables can be classified as discrete or continuous. ... Continuous variables are numeric variables that have an infinite number of values between any two values. A continuous variable can be numeric or date/time. For example, the length of a part or the date and time a payment is received.*\n",
    "\n",
    "For my datasets, both the housing and the webscraping from City Living Calculater, all variables are quantitivate variables.  "
   ]
  },
  {
   "cell_type": "code",
   "execution_count": null,
   "metadata": {
    "collapsed": true
   },
   "outputs": [],
   "source": []
  },
  {
   "cell_type": "markdown",
   "metadata": {},
   "source": [
    "*Multivariate: Multivariate statistics is a subdivision of statistics encompassing the simultaneous observation and analysis of more than one outcome variable. The application of multivariate statistics is multivariate analysis.*"
   ]
  },
  {
   "cell_type": "code",
   "execution_count": null,
   "metadata": {
    "collapsed": true
   },
   "outputs": [],
   "source": []
  },
  {
   "cell_type": "markdown",
   "metadata": {},
   "source": [
    " ### Below is two alternate concepts as well.\n",
    "\n",
    "*Categorical variable: In statistics, a categorical variable is a variable that can take on one of a limited, and usually fixed, number of possible values, assigning each individual or other unit of observation to a particular group or nominal category on the basis of some qualitative property.*  \n",
    "\n",
    "*Variation: In statistics, dispersion (also called variability, scatter, or spread) is the extent to which a distribution is stretched or squeezed. Common examples of measures of statistical dispersion are the variance, standard deviation, and interquartile range.*  \n"
   ]
  },
  {
   "cell_type": "markdown",
   "metadata": {},
   "source": [
    "### References\n",
    "*Links to useful sites/documentation which helped me throughout this Sprint*  \n",
    "\n",
    "https://stackoverflow.com/questions/39916565/plot-a-clear-graph-to-show-the-skewness-and-kurtosis  \n",
    "\n",
    "https://www.analyticsvidhya.com/blog/2017/03/beginners-guide-on-web-scraping-in-r-using-rvest-with-hands-on-knowledge/  \n",
    "\n",
    "https://stackoverflow.com/questions/17598020/converting-character-to-numeric-without-na-coercion-in-r *(though still struggling with trying to get this to work...)*  And eventually gave up per Ben.*  \n",
    "*This link was the way to convert*  \n",
    "https://www.rdocumentation.org/packages/readr/versions/1.1.1/topics/parse_number  \n",
    "\n"
   ]
  },
  {
   "cell_type": "markdown",
   "metadata": {
    "collapsed": true
   },
   "source": [
    "### Tuesday/Wednesday Game plan for Webscraping\n",
    "*Since the Webscraping project was not started until Thursday of last week, only a small part can be accomplished this week (with assistance please). *\n",
    "\n",
    "1.  To be able to scrape \"as a whole\" all 50 states for the three tables showing Wages, Expenses, and Occupation in the Living Wage Calculator and begin to cross reference it to the Zillow Housing Dataset.\n",
    "\n",
    "\n"
   ]
  },
  {
   "cell_type": "code",
   "execution_count": null,
   "metadata": {
    "collapsed": true
   },
   "outputs": [],
   "source": []
  }
 ],
 "metadata": {
  "kernelspec": {
   "display_name": "Python 3",
   "language": "python",
   "name": "python3"
  },
  "language_info": {
   "codemirror_mode": {
    "name": "ipython",
    "version": 3
   },
   "file_extension": ".py",
   "mimetype": "text/x-python",
   "name": "python",
   "nbconvert_exporter": "python",
   "pygments_lexer": "ipython3",
   "version": "3.6.3"
  }
 },
 "nbformat": 4,
 "nbformat_minor": 2
}
