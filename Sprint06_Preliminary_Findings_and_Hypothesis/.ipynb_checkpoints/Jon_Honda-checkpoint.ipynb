{
 "cells": [
  {
   "cell_type": "raw",
   "metadata": {
    "collapsed": true
   },
   "source": [
    "# Preliminary Findings and Hypotheses Sprint Journal for Jon Honda"
   ]
  },
  {
   "cell_type": "markdown",
   "metadata": {},
   "source": [
    "## Part 1 (Week 1): Pair EDA and Concept Demonstration\n",
    "\n",
    "### 1. Exploratory Data Analysis Concepts to use or test on this project\n",
    "During week 1, I will explore each of the following EDA concepts topically. I will identify items that I know well, items that I know somewhat well, and items that I don't know at all. I will use this exploration to further identify a subset of these concepts to deeply explore during week 2."
   ]
  },
  {
   "cell_type": "markdown",
   "metadata": {},
   "source": [
    "#### Here are the concepts i will explore (defined as an R vector):"
   ]
  },
  {
   "cell_type": "code",
   "execution_count": 84,
   "metadata": {},
   "outputs": [],
   "source": [
    "EDA_Concepts <- c(\n",
    "    'sample',\n",
    "    'statistic',\n",
    "    'population',\n",
    "    'parameter',\n",
    "    'central tendency',\n",
    "    'variation',\n",
    "     'univariate',\n",
    "     'multivariate',\n",
    "     'distribution',\n",
    "     'categorical variable',\n",
    "     'continuous / quantitative variable',\n",
    "     'variance',\n",
    "     'standard deviation',\n",
    "     'interquartile range',\n",
    "     'skewness',\n",
    "     'kurtosis',\n",
    "     'histogram',\n",
    "     'stem and leaf',\n",
    "     'box plot',\n",
    "     'outlier',\n",
    "     'cross tabulation',\n",
    "     'anova',\n",
    "     'correlation',\n",
    "     'covariance'\n",
    ")"
   ]
  },
  {
   "cell_type": "markdown",
   "metadata": {},
   "source": [
    "#### Before doing my breadth first analysis, here is how I feel about each concept on a 1 to 5 scale; "
   ]
  },
  {
   "cell_type": "code",
   "execution_count": 85,
   "metadata": {},
   "outputs": [
    {
     "data": {
      "text/html": [
       "<table>\n",
       "<thead><tr><th scope=col>EDA_Concepts</th><th scope=col>PreBreadth_Knowledge</th></tr></thead>\n",
       "<tbody>\n",
       "\t<tr><td>sample                            </td><td>5                                 </td></tr>\n",
       "\t<tr><td>statistic                         </td><td>5                                 </td></tr>\n",
       "\t<tr><td>population                        </td><td>5                                 </td></tr>\n",
       "\t<tr><td>parameter                         </td><td>5                                 </td></tr>\n",
       "\t<tr><td>central tendency                  </td><td>5                                 </td></tr>\n",
       "\t<tr><td>variation                         </td><td>4                                 </td></tr>\n",
       "\t<tr><td>univariate                        </td><td>5                                 </td></tr>\n",
       "\t<tr><td>multivariate                      </td><td>3                                 </td></tr>\n",
       "\t<tr><td>distribution                      </td><td>4                                 </td></tr>\n",
       "\t<tr><td>categorical variable              </td><td>2                                 </td></tr>\n",
       "\t<tr><td>continuous / quantitative variable</td><td>5                                 </td></tr>\n",
       "\t<tr><td>variance                          </td><td>5                                 </td></tr>\n",
       "\t<tr><td>standard deviation                </td><td>5                                 </td></tr>\n",
       "\t<tr><td>interquartile range               </td><td>3                                 </td></tr>\n",
       "\t<tr><td>skewness                          </td><td>2                                 </td></tr>\n",
       "\t<tr><td>kurtosis                          </td><td>1                                 </td></tr>\n",
       "\t<tr><td>histogram                         </td><td>5                                 </td></tr>\n",
       "\t<tr><td>stem and leaf                     </td><td>1                                 </td></tr>\n",
       "\t<tr><td>box plot                          </td><td>2                                 </td></tr>\n",
       "\t<tr><td>outlier                           </td><td>5                                 </td></tr>\n",
       "\t<tr><td>cross tabulation                  </td><td>1                                 </td></tr>\n",
       "\t<tr><td>anova                             </td><td>2                                 </td></tr>\n",
       "\t<tr><td>correlation                       </td><td>3                                 </td></tr>\n",
       "\t<tr><td>covariance                        </td><td>5                                 </td></tr>\n",
       "</tbody>\n",
       "</table>\n"
      ],
      "text/latex": [
       "\\begin{tabular}{r|ll}\n",
       " EDA\\_Concepts & PreBreadth\\_Knowledge\\\\\n",
       "\\hline\n",
       "\t sample                             & 5                                 \\\\\n",
       "\t statistic                          & 5                                 \\\\\n",
       "\t population                         & 5                                 \\\\\n",
       "\t parameter                          & 5                                 \\\\\n",
       "\t central tendency                   & 5                                 \\\\\n",
       "\t variation                          & 4                                 \\\\\n",
       "\t univariate                         & 5                                 \\\\\n",
       "\t multivariate                       & 3                                 \\\\\n",
       "\t distribution                       & 4                                 \\\\\n",
       "\t categorical variable               & 2                                 \\\\\n",
       "\t continuous / quantitative variable & 5                                 \\\\\n",
       "\t variance                           & 5                                 \\\\\n",
       "\t standard deviation                 & 5                                 \\\\\n",
       "\t interquartile range                & 3                                 \\\\\n",
       "\t skewness                           & 2                                 \\\\\n",
       "\t kurtosis                           & 1                                 \\\\\n",
       "\t histogram                          & 5                                 \\\\\n",
       "\t stem and leaf                      & 1                                 \\\\\n",
       "\t box plot                           & 2                                 \\\\\n",
       "\t outlier                            & 5                                 \\\\\n",
       "\t cross tabulation                   & 1                                 \\\\\n",
       "\t anova                              & 2                                 \\\\\n",
       "\t correlation                        & 3                                 \\\\\n",
       "\t covariance                         & 5                                 \\\\\n",
       "\\end{tabular}\n"
      ],
      "text/markdown": [
       "\n",
       "EDA_Concepts | PreBreadth_Knowledge | \n",
       "|---|---|---|---|---|---|---|---|---|---|---|---|---|---|---|---|---|---|---|---|---|---|---|---|\n",
       "| sample                             | 5                                  | \n",
       "| statistic                          | 5                                  | \n",
       "| population                         | 5                                  | \n",
       "| parameter                          | 5                                  | \n",
       "| central tendency                   | 5                                  | \n",
       "| variation                          | 4                                  | \n",
       "| univariate                         | 5                                  | \n",
       "| multivariate                       | 3                                  | \n",
       "| distribution                       | 4                                  | \n",
       "| categorical variable               | 2                                  | \n",
       "| continuous / quantitative variable | 5                                  | \n",
       "| variance                           | 5                                  | \n",
       "| standard deviation                 | 5                                  | \n",
       "| interquartile range                | 3                                  | \n",
       "| skewness                           | 2                                  | \n",
       "| kurtosis                           | 1                                  | \n",
       "| histogram                          | 5                                  | \n",
       "| stem and leaf                      | 1                                  | \n",
       "| box plot                           | 2                                  | \n",
       "| outlier                            | 5                                  | \n",
       "| cross tabulation                   | 1                                  | \n",
       "| anova                              | 2                                  | \n",
       "| correlation                        | 3                                  | \n",
       "| covariance                         | 5                                  | \n",
       "\n",
       "\n"
      ],
      "text/plain": [
       "   EDA_Concepts                       PreBreadth_Knowledge\n",
       "1  sample                             5                   \n",
       "2  statistic                          5                   \n",
       "3  population                         5                   \n",
       "4  parameter                          5                   \n",
       "5  central tendency                   5                   \n",
       "6  variation                          4                   \n",
       "7  univariate                         5                   \n",
       "8  multivariate                       3                   \n",
       "9  distribution                       4                   \n",
       "10 categorical variable               2                   \n",
       "11 continuous / quantitative variable 5                   \n",
       "12 variance                           5                   \n",
       "13 standard deviation                 5                   \n",
       "14 interquartile range                3                   \n",
       "15 skewness                           2                   \n",
       "16 kurtosis                           1                   \n",
       "17 histogram                          5                   \n",
       "18 stem and leaf                      1                   \n",
       "19 box plot                           2                   \n",
       "20 outlier                            5                   \n",
       "21 cross tabulation                   1                   \n",
       "22 anova                              2                   \n",
       "23 correlation                        3                   \n",
       "24 covariance                         5                   "
      ]
     },
     "metadata": {},
     "output_type": "display_data"
    }
   ],
   "source": [
    "PreBreadth_Knowledge <- rep(1, length(EDA_Concepts))\n",
    "\n",
    "#now let's assign values:\n",
    "PreBreadth_Knowledge[match(c('sample'),EDA_Concepts)] = 5\n",
    "PreBreadth_Knowledge[match(c('statistic'),EDA_Concepts)] = 5\n",
    "PreBreadth_Knowledge[match(c('population'),EDA_Concepts)] = 5\n",
    "PreBreadth_Knowledge[match(c('parameter'),EDA_Concepts)] = 5\n",
    "PreBreadth_Knowledge[match(c('central tendency'),EDA_Concepts)] = 5\n",
    "PreBreadth_Knowledge[match(c('variation'),EDA_Concepts)] = 4\n",
    "PreBreadth_Knowledge[match(c('univariate'),EDA_Concepts)] = 5\n",
    "PreBreadth_Knowledge[match(c('multivariate'),EDA_Concepts)] = 3\n",
    "PreBreadth_Knowledge[match(c('distribution'),EDA_Concepts)] = 4 \n",
    "PreBreadth_Knowledge[match(c('categorical variable'),EDA_Concepts)] = 2\n",
    "PreBreadth_Knowledge[match(c('continuous / quantitative variable'),EDA_Concepts)] = 5\n",
    "PreBreadth_Knowledge[match(c('variance'),EDA_Concepts)] = 5\n",
    "PreBreadth_Knowledge[match(c('standard deviation'),EDA_Concepts)] = 5\n",
    "PreBreadth_Knowledge[match(c('interquartile range'),EDA_Concepts)] = 3\n",
    "PreBreadth_Knowledge[match(c('skewness'),EDA_Concepts)] = 2\n",
    "PreBreadth_Knowledge[match(c('kurtosis'),EDA_Concepts)] = 1\n",
    "PreBreadth_Knowledge[match(c('histogram'),EDA_Concepts)] = 5\n",
    "PreBreadth_Knowledge[match(c('stem and leaf'),EDA_Concepts)] = 1\n",
    "PreBreadth_Knowledge[match(c('box plot'),EDA_Concepts)] = 2\n",
    "PreBreadth_Knowledge[match(c('outlier'),EDA_Concepts)] = 5\n",
    "PreBreadth_Knowledge[match(c('cross tabulation'),EDA_Concepts)] = 1\n",
    "PreBreadth_Knowledge[match(c('anova'),EDA_Concepts)] = 2\n",
    "PreBreadth_Knowledge[match(c('correlation'),EDA_Concepts)] = 3\n",
    "PreBreadth_Knowledge[match(c('covariance'),EDA_Concepts)] = 5\n",
    "\n",
    "data.frame(EDA_Concepts,PreBreadth_Knowledge)\n"
   ]
  },
  {
   "cell_type": "code",
   "execution_count": null,
   "metadata": {
    "collapsed": true
   },
   "outputs": [],
   "source": []
  },
  {
   "cell_type": "markdown",
   "metadata": {},
   "source": [
    "### 2. Professionally Relevant Datasets\n",
    "I have an interest in financial analysis and company valuations. I will work with Quandl data sets:\n",
    "\n",
    "1. WIKI dataset (closing stock prices).  I'll select 1 company\n",
    "2. Federal reserve data set: quarterly GDP (FRED/GDP)\n",
    "3. Yale Dept of Economics: S&P 500 data (YALE/SPCOMP)\n",
    "\n",
    "### 3. EDA Steps for your partner to explore your dataset(s)\n",
    "The first part of this sprint project will be to trade datasets with a partner. The idea for the exercise is to think about what you think might be interesting about a dataset and create an EDA plan to explore it. Except the first pass will be for your partner to carry out your EDA plan and report back to you with preliminary findings.\n",
    "\n",
    "Create a new Jupyter notebook (python or R) that loads your dataset and includes cells for the steps you want your partner to take and empty cells for the code to complete them as well as empty cells where preliminary findings should go.\n",
    "\n",
    "### 4. Carrying out your Partner's EDA Steps\n",
    "Complete the EDA process notebook your partner created\n",
    "\n",
    "### 5. Applying your EDA Concepts (step 1) to your partner's dataset. \n",
    "Use your partner's dataset as a basis to explore the concepts for this week\n",
    "\n",
    "## Part 2 (Week 2): EDA of your Dataset\n",
    "Walk through a polished Exploratory Data Analysis exercise in your personal repo. This can include the steps that you laid out originally, any new steps and new ideas you have, or any new techniques you developed from the concepts in (5.) above. \n",
    "\n",
    "Your final deliverable repo should include a \n",
    "- 1.) readme and a script file OR\n",
    "- 2.) a notebook \n",
    "\n",
    "that illustrates your analysis and leads to preliminary findings and hypotheses about the dataset for future investigation or more thorough analysis."
   ]
  },
  {
   "cell_type": "markdown",
   "metadata": {},
   "source": [
    "# Key Concepts"
   ]
  },
  {
   "cell_type": "markdown",
   "metadata": {},
   "source": [
    "## Covariance (Concept 1)\n",
    "*Explanation of this concept relative to your data set here *"
   ]
  },
  {
   "cell_type": "code",
   "execution_count": null,
   "metadata": {
    "collapsed": true
   },
   "outputs": [],
   "source": [
    "## Code to Illustrate the concept goes here"
   ]
  },
  {
   "cell_type": "markdown",
   "metadata": {},
   "source": [
    "## Concept 2"
   ]
  },
  {
   "cell_type": "code",
   "execution_count": null,
   "metadata": {
    "collapsed": true
   },
   "outputs": [],
   "source": []
  },
  {
   "cell_type": "markdown",
   "metadata": {},
   "source": [
    "## Concept 3"
   ]
  },
  {
   "cell_type": "code",
   "execution_count": null,
   "metadata": {
    "collapsed": true
   },
   "outputs": [],
   "source": []
  },
  {
   "cell_type": "markdown",
   "metadata": {},
   "source": [
    "## Concept 4"
   ]
  },
  {
   "cell_type": "code",
   "execution_count": null,
   "metadata": {
    "collapsed": true
   },
   "outputs": [],
   "source": []
  },
  {
   "cell_type": "markdown",
   "metadata": {},
   "source": [
    "## Concept 5"
   ]
  },
  {
   "cell_type": "code",
   "execution_count": null,
   "metadata": {
    "collapsed": true
   },
   "outputs": [],
   "source": []
  },
  {
   "cell_type": "markdown",
   "metadata": {},
   "source": [
    "## Infinite Stream of Conciousness..."
   ]
  },
  {
   "cell_type": "code",
   "execution_count": null,
   "metadata": {
    "collapsed": true
   },
   "outputs": [],
   "source": [
    "#HEy! i'll be using R this week :)\n",
    "#my first R code: write a vector object and then print it:\n",
    "\n",
    "hondoomba = c(1,45,3,4,2)\n",
    "hondoomba \n"
   ]
  },
  {
   "cell_type": "code",
   "execution_count": null,
   "metadata": {
    "collapsed": true
   },
   "outputs": [],
   "source": [
    "#Quandl R documentation:\n",
    "# https://docs.quandl.com/docs/r-installation\n",
    "# https://docs.quandl.com/docs/r-time-series\n",
    "\n",
    "#here is how to use my quandl API key:\n",
    "library(Quandl)\n",
    "Quandl.api_key(\"L8zt1AhNiQi4gufsXy4g\")"
   ]
  },
  {
   "cell_type": "code",
   "execution_count": null,
   "metadata": {
    "collapsed": true
   },
   "outputs": [],
   "source": [
    "# #now let's try downloading data and writing to a variable:\n",
    "# data <- Quandl(\"YALE/SPCOMP\")\n",
    "# data"
   ]
  },
  {
   "cell_type": "code",
   "execution_count": null,
   "metadata": {
    "collapsed": true
   },
   "outputs": [],
   "source": [
    "# working with R vectors and dataframe: http://www.dummies.com/programming/r/how-to-create-a-data-frame-from-scratch-in-r/\n",
    "# we make 3 vectors:\n",
    "employee <- c(\n",
    "    'John Doe',\n",
    "    'Peter Gynn',\n",
    "    'Jolie Hope'\n",
    "            )\n",
    "salary <- c(21000, 23400, 26800)\n",
    "startdate <- as.Date(c('2010-11-1','2008-3-25','2007-3-14'))\n",
    "\n",
    "#we combine into 1 dataframe called employ:\n",
    "employ.data <- data.frame(employee, salary, startdate)\n",
    "\n",
    "#we output contents of dataframe employ:\n",
    "str(employ.data)"
   ]
  },
  {
   "cell_type": "code",
   "execution_count": null,
   "metadata": {
    "collapsed": true
   },
   "outputs": [],
   "source": [
    "#HOW I FEEL ABOUT THE DATA CONCEPTS BEFORE MY BREADTH SEARCH:\n",
    "# RATE AS CONFIDENTLY KNOWING IT 1-5 RANGE. 1 IS KNOW NOTHING, 5 KNOW A WHOLE LOT OF LOT.\n",
    " - sample: 5\n",
    " - statistic: 5\n",
    " - population: 5\n",
    " - parameter: 5\n",
    " - central tendency: 5\n",
    " - variation: 4\n",
    " - univariate: 5\n",
    " - multivariate: 3\n",
    " - distribution: 4\n",
    " - categorical variable: 2\n",
    " - continuous / quantitative variable: 5\n",
    " - variance: 4\n",
    " - standard deviation: 4\n",
    " - interquartile range: 3\n",
    " - skewness: 2\n",
    " - kurtosis: 1\n",
    " - histogram: 4\n",
    " - stem and leaf: 1\n",
    " - box plot: 2\n",
    " - outlier: 5\n",
    " - cross tabulation: 1\n",
    " - anova: 2\n",
    " - correlation: 3\n",
    " - covariance: 3\n"
   ]
  }
 ],
 "metadata": {
  "kernelspec": {
   "display_name": "R",
   "language": "R",
   "name": "ir"
  },
  "language_info": {
   "codemirror_mode": "r",
   "file_extension": ".r",
   "mimetype": "text/x-r-source",
   "name": "R",
   "pygments_lexer": "r",
   "version": "3.4.2"
  }
 },
 "nbformat": 4,
 "nbformat_minor": 2
}
