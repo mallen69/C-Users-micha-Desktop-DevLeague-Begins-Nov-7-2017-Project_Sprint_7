{
 "cells": [
  {
   "cell_type": "markdown",
   "metadata": {},
   "source": [
    "# Sprint 4: Data Manipulation Libraries Retrospective\n",
    "\n",
    "### The Opt-In Model\n",
    "\n",
    "The biggest thing to come out of this sprint was a recognition that some projects and work did not fit particularly well into a standardized group exercise. The group exercises and sprint schedule will still be designed to maximize learning from the collective, but each individual in the cohort will have the opportunity to opt into an exercise.\n",
    "\n",
    "### Better feedback on project deliverables\n",
    "As projects mature, there's an increasing need to receive feedback on projects and documentation. Requested reviews of documentation, project deliverables, and code reviews all work well. Individual review-requests are a good way to acheive this. If a request goes out on slack, other people can take a look. Tagged people can always take a look, and instrucitonal teal should always review when requested.\n",
    "\n",
    "### Project scope that ties back to overall course objectives\n",
    "I think we want to continue to look at projects in the context of the overall objective and not just the conceptual understanding for a given topic. Something that should go into the journal and documentation or whiteboard reflection is: Here's what I think the topic is, and here's how it contributes to my longip term objective.\n",
    "\n",
    "### Wednesday Doc Day\n",
    "Perhaps this is where review requests can go. Another productive idea would be to ask a different question of documentation and projects in the review request. Is this clear to an outsider? Does it contribute to a collective resource? Will this help me remember? Did it clarify or confirm what I thought I knew?\n",
    "\n",
    "### Pair Programming and Seeing the language not experienced\n",
    "As another reinforcing exercise and a way to experience a different language, work with a partner on a pair programming exercise so you know what it is like to try to clarify your thoughts as well as so your partner knows how to use the other language. Could be a potential way to produce toolkit notebooks below\n",
    "\n",
    "### Toolkit notebooks\n",
    "One way to simplify what goes into individual notebooks (but potentially make the overall system more complex) would be to break out code snippets into individual notebooks that illustrate techniques that can be used in scripts. This could be a part of sprint review day or doc day depending. Snippet requests based on technical highlights"
   ]
  },
  {
   "cell_type": "code",
   "execution_count": null,
   "metadata": {
    "collapsed": true
   },
   "outputs": [],
   "source": []
  }
 ],
 "metadata": {
  "kernelspec": {
   "display_name": "Python 3",
   "language": "python",
   "name": "python3"
  },
  "language_info": {
   "codemirror_mode": {
    "name": "ipython",
    "version": 3
   },
   "file_extension": ".py",
   "mimetype": "text/x-python",
   "name": "python",
   "nbconvert_exporter": "python",
   "pygments_lexer": "ipython3",
   "version": "3.6.1"
  }
 },
 "nbformat": 4,
 "nbformat_minor": 2
}
