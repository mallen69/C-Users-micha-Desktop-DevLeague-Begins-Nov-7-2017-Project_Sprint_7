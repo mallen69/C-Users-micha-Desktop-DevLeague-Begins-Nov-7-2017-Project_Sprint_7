{
 "cells": [
  {
   "cell_type": "markdown",
   "metadata": {
    "collapsed": true
   },
   "source": [
    "# Data Libraries and Tools: \n",
    "#### [1/9/18] | [Sheuli Molla] | [Sprint 4]\n",
    "#### Data Libraries and Tools\n",
    "1 to 2 sentence description. The first 5 Sections are mandatory. Free form after that, but there are a couple of suggested categories you can use. But really document however you feel the most comfortable.\n",
    "\n",
    "## Skill Backlog User Story\n",
    "\n",
    "\n",
    "Suggesting Skill stories for project partner: \n",
    "\n",
    "HH is trying to map crop suitability data spatially.  I suggest he works in Python, combines data about soil from USGS  and rainfall from NOAA (or another repuatble source) then sees whether his crops of interest are suitable or not for various areas in hawaii based on soil type and rainfall needs. To do this he may have to research different algorithms to overlay the data and compare it for his needs. \n",
    "\n",
    "\n",
    "\n",
    "\n",
    "\n",
    "## Project Proposal\n",
    "For my project, I would like to try out several functions  in geopandas, including map, PIP and within. \n",
    "I have not yet been able to get these ot work in a dataset, so I think it is a good place to start. \n",
    "\n",
    "## Key Questions\n",
    "- What functions within Geopandas are necessary to see spatial overlap\n",
    "- How can I test this?\n",
    "\n",
    "## Key Findings\n",
    "- A running list of things that I'm learning and don't want to forget\n",
    "\n",
    "## Gameplan\n",
    "Here is my overall approach \n",
    "1. Step 1\n",
    "2. Step 2\n",
    "3. Step 3\n",
    "4. Step 4\n",
    "\n",
    "\n",
    "Using a dataset that you care about, use each function in a Pandas to see what it does and how it works\n",
    "Create a collection of examples of projects on github that use each of the functions you're interested in.\n",
    "Try to implement functions from the libraries manually and compare the results\n",
    "Review and modify the tidyverse code from the Machine learning group\n",
    "---\n",
    "\n",
    "## Day 1 Work\n",
    "\n",
    "This is what I tried to do on Day 1. Here's some Code\n",
    "\n",
    "## Day 2 Work\n",
    "\n",
    "This is what I tried to do on Day 2. Here's some more code\n",
    "\n",
    "## Peer Feedback on Day 3\n",
    "\n",
    "After talking it over with a peer, I received the following feedback and decided to make these changes\n",
    "\n",
    "## Here are some overall notes on the skills I learned\n",
    "And perhaps some stream of consciousness notes about what I did, and other questions I might have"
   ]
  },
  {
   "cell_type": "code",
   "execution_count": null,
   "metadata": {
    "collapsed": true
   },
   "outputs": [],
   "source": []
  }
 ],
 "metadata": {
  "kernelspec": {
   "display_name": "Python 3",
   "language": "python",
   "name": "python3"
  },
  "language_info": {
   "codemirror_mode": {
    "name": "ipython",
    "version": 3
   },
   "file_extension": ".py",
   "mimetype": "text/x-python",
   "name": "python",
   "nbconvert_exporter": "python",
   "pygments_lexer": "ipython3",
   "version": "3.6.3"
  }
 },
 "nbformat": 4,
 "nbformat_minor": 2
}
