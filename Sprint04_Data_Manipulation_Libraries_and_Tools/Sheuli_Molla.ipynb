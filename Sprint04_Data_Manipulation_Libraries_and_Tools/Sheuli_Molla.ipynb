{
 "cells": [
  {
   "cell_type": "markdown",
   "metadata": {
    "collapsed": true
   },
   "source": [
    "# Data Libraries and Tools: \n",
    "\n",
    "#### [1/9/18] | [Sheuli Molla] | [Sprint 4]\n",
    "#### Data Libraries and Tools\n",
    "\n",
    "Experimenting with Geopandas and Shapely libraries to overlay geospatial obejects\n",
    "(Point within polygon and polygon intersections)\n",
    "\n",
    "## Skill Backlog User Story\n",
    "\n",
    "I need to be able to figure out if any arbitrary point or polygon is contained within other polygons as a first step.  The eventual application for this is determining whether a given project area is within any environmentally sensitive areas. \n",
    "\n",
    "\n",
    "\n",
    "## Project Proposal\n",
    "For my project, I would like to try out several functions  in geopandas, including map, PIP and within and overlay. \n",
    "I have not yet been able to get these ot work in a dataset, so I think it is a good place to start. \n",
    "\n",
    "## Key Questions\n",
    "- What functions within Geopandas are necessary to see spatial overlap  between a certain point and a polygon?\n",
    "- What functions within Geopandas are necessary to see spatial overlap  among two or more polygons?\n",
    "\n",
    "Future applications...\n",
    "1. WETLAND\n",
    "2. GEOHAZARD\n",
    "3. SPECIAL MANAGEMENT AREA\n",
    "4. WILDERNESS\n",
    "5. TSUNAMI ZONE\n",
    "6. ARCHAEOLOGICAL RESOURCES\n",
    "7. FLOOD HAZARD AREA\n",
    "8. EROSION PRONE AREA\n",
    "- Write a loop that iterates throught the 8 data sets\n",
    "  Apparently this is way too much, so I'll start here: \n",
    "  \n",
    "-Figure out how to find a point and a polygon in a shape file\n",
    "- compare point and polygon within data sets \n",
    "- select the field for polygons \n",
    "- what to do if and if not in polygon\n",
    "- how to save the result\n",
    "- how to implement this from a coding perspective \n",
    "\n",
    "from shapely.geometry import Point, Polygon\n",
    "\n",
    "# Create Point objects\n",
    "p1 = Point(24.952242, 60.1696017)\n",
    "p2 = Point(24.976567, 60.1612500)\n",
    "\n",
    "# Create a Polygon\n",
    "coords = [(24.950899, 60.169158), (24.953492, 60.169158), (24.953510, 60.170104), (24.950958, 60.169990)]\n",
    "poly = Polygon(coords)\n",
    "\n",
    "\n",
    "- How can I test this?\n",
    "\n",
    "## Key Findings\n",
    "- A representative point is guarunteed to be within a polygon.  Geopandas can give you a representative point for any polygon. \n",
    "\n",
    "## Gameplan\n",
    "Here is my overall approach \n",
    "1. Figure out point in polygon\n",
    "2. Figure out polygon on polygon overlay\n",
    "3. Work out how to iterate through a data set and store the data. \n",
    "\n",
    "\n",
    "Using a dataset that you care about, use each function in a Pandas to see what it does and how it works\n",
    "Create a collection of examples of projects on github that use each of the functions you're interested in.\n",
    "Try to implement functions from the libraries manually and compare the results\n",
    "Review and modify the tidyverse code from the Machine learning group\n",
    "---\n",
    "\n",
    "\n",
    "## Here are some overall notes on the skills I learned\n",
    "\n",
    "There are many ways to show overlap in polygons, but 3 important ways are: \n",
    "1. intersect --shows only overlap areas(this is what i need for environmental areas)\n",
    "2. union -- shows where objects are joined\n",
    "3. difference -- shows where objects do not overlap. \n"
   ]
  },
  {
   "cell_type": "code",
   "execution_count": null,
   "metadata": {
    "collapsed": true
   },
   "outputs": [],
   "source": []
  },
  {
   "cell_type": "code",
   "execution_count": null,
   "metadata": {
    "collapsed": true
   },
   "outputs": [],
   "source": []
  }
 ],
 "metadata": {
  "kernelspec": {
   "display_name": "Python 3",
   "language": "python",
   "name": "python3"
  },
  "language_info": {
   "codemirror_mode": {
    "name": "ipython",
    "version": 3
   },
   "file_extension": ".py",
   "mimetype": "text/x-python",
   "name": "python",
   "nbconvert_exporter": "python",
   "pygments_lexer": "ipython3",
   "version": "3.6.3"
  }
 },
 "nbformat": 4,
 "nbformat_minor": 2
}
