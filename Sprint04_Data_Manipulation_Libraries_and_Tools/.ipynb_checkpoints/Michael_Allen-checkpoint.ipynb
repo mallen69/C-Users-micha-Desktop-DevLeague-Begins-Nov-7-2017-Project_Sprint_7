{
 "cells": [
  {
   "cell_type": "markdown",
   "metadata": {
    "collapsed": true
   },
   "source": [
    "# Sprint #4 Summary Statistics & Barplot in R by Michael Allen"
   ]
  },
  {
   "cell_type": "markdown",
   "metadata": {
    "collapsed": true
   },
   "source": [
    "---\n",
    "## DAY 1: Tuesday (Week 1)\n",
    "### What I Expect to Learn\n",
    "* I hope to learn and understand how to write basic scripting in R so that I can save repeatable task of cleaning & tidying of data, changing categorical data to numerical data with appropriate numerical values, and then perform summary statistics including calculating the mean and standard deviation.  I hope to be able to use this code/concepts as I move further along in this program and also outside of this program in the future.*\n",
    "\n",
    "### Project References\n",
    "- *https://thepracticalr.wordpress.com/2016/11/11/make-a-bar-plot-with-ggplot/*\n",
    "- *https://stackoverflow.com/questions/7144118/how-to-save-a-plot-as-image-on-the-disk\n",
    "- *https://www.statmethods.net/stats/descriptives.html*  \n",
    "- *https://www.r-bloggers.com/difference-between-na-and-nan-in-r/*  \n",
    "- *https://stat.ethz.ch/pipermail/r-help/2007-January/123805.html*  \n",
    "- *https://stackoverflow.com/questions/34146635/r-barplot-put-numbers-on-top-of-bar*  \n",
    "- *https://stackoverflow.com/questions/23050928/error-in-plot-new-figure-margins-too-large-scatter-plot*  \n",
    "\n",
    "\n",
    "\n",
    "\n",
    "\n",
    "### Project Pitch\n",
    "- *To continue writing a script in R that has already cleaned (somewhat) the Survey Monkey End of Course Survey, but now to change categorical data to numerical data and give specific number values for the categorical answers, and then perform Mean and Standard Deviation calculations on the relevant questions (Columns), and write the data back to a CSV file. And then after doing that, attempt to find libraries/functions which could utimately clean/speed up the coding with less commands*\n",
    "- *This project will continue my overall learning goals for this program*"
   ]
  },
  {
   "cell_type": "markdown",
   "metadata": {},
   "source": [
    "--- \n",
    "## DAY 2: Wednesday (Week 1)\n",
    "### Pitch Feedback \n",
    "*From my pitch and suggestions by Olina in the pair discussion on Tuesday, I will be looking into the library ggplot or ggplot2  *\n",
    "\n",
    "### Prototype Notes\n",
    "*Try try again.  Trying to learn how to show a bar graph - no luck yet on my own data, but trying to understand and dicpher an example one from the web.  After a couple of days of fighting/working with ggplot, I have utilized the library barplot* \n",
    "\n",
    "\n",
    "### Proposed Plan: Key Milestones by Day\n",
    "\n",
    "##### Day 2 (Wed Week 1):\n",
    "- Project proposal was developed and pushed to the Repo.\n",
    "- Pushed documentation to the Repo and updated Roadmap \n",
    "\n",
    "##### Day 3 (Thu Week 1):\n",
    "\n",
    "- *Got the first crude bar graph under barplot to appear.  Need work to fine tune.\n",
    "- Push current documentation to Repo\n",
    "\n",
    "##### Day 4 (Tue Week 2): \n",
    "- *The code is in place to perform mean calculations and standard deviation calc  \n",
    "calculations on a per column (question basis) for the \"End of Course Survey\" Data*\n",
    "- *The coding basics of the bar graph under barplot are in place to represent the results  \n",
    "of the mean and standard deviation calculations*\n",
    "- *I once had the two barplots outputting to a PDF, but somewhere along the line I broke it.  Trying to fix.  Once the R program runs, two PDF files are produced, each representing the bar graph of the  summary statistics (Mean) and (Standard Deviation*\n",
    "- Push docs / repo\n",
    "\n",
    "##### Day 5 (Wed Week 2):\n",
    "- Project highlights\n",
    "- Identify question or cohort knowledge gap for sprint review\n",
    "- Develop Topic Project + Presentation\n",
    "- Push Repo / docs / Presentation\n",
    "\n",
    "### Project Definition and README.MD Discussion \n",
    "*This is a discussion of how this project will fit into my overall roadmap. I will update my roadmap with the following project definition*\n",
    "\n",
    "*I will focus my project Repo's README.MD on the same topic, but with this additional detail.*\n"
   ]
  },
  {
   "cell_type": "markdown",
   "metadata": {},
   "source": [
    "---\n",
    "## DAY 4: Tuesday (Week 2)\n",
    "\n",
    "#### Work in Progress Feedback \n",
    "*Worked with Justin to go over feedback from what we discussed over the weekend, and we had one helpful addition to my bar graph *\n",
    "\n",
    "#### Work towards milestone 1\n",
    "*Somewhere along the line my bargraphs have broke... - trying to fix them.  Though no luck by the end of the evening *\n",
    "\n"
   ]
  },
  {
   "cell_type": "markdown",
   "metadata": {},
   "source": [
    "--- \n",
    "\n",
    "## DAY 5: Wednesday (Week 2)\n",
    "\n",
    "### Project Highlights: The things I am most excited about in my project\n",
    "Me\n",
    "- \n",
    "- \n",
    "- \n",
    "\n",
    "Peer Identified\n",
    "\n",
    "- \n",
    "- \n",
    "- \n",
    "\n",
    "### Peer Repo Feedback \n",
    "\n",
    "*Here are the changes I am making to my repo structure for additional clarity* \n",
    "- \n",
    "- \n",
    "- \n",
    "\n"
   ]
  },
  {
   "cell_type": "markdown",
   "metadata": {},
   "source": [
    "## Day 6: Thursday (Week 2)\n",
    "--- \n",
    "\n",
    "#### Things I didn't get to\n",
    "*Here are some ideas that I didn't get to implement, but wanted to. I will be adding these to my roadmap table entry for this sprint as well."
   ]
  },
  {
   "cell_type": "code",
   "execution_count": null,
   "metadata": {
    "collapsed": true
   },
   "outputs": [],
   "source": []
  }
 ],
 "metadata": {
  "kernelspec": {
   "display_name": "Python 3",
   "language": "python",
   "name": "python3"
  },
  "language_info": {
   "codemirror_mode": {
    "name": "ipython",
    "version": 3
   },
   "file_extension": ".py",
   "mimetype": "text/x-python",
   "name": "python",
   "nbconvert_exporter": "python",
   "pygments_lexer": "ipython3",
   "version": "3.6.3"
  }
 },
 "nbformat": 4,
 "nbformat_minor": 2
}
