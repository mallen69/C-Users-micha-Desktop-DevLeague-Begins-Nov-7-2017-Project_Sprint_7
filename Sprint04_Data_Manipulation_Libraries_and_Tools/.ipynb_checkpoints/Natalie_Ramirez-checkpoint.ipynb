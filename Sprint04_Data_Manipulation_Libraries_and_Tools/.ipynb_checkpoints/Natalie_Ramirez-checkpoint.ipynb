{
 "cells": [
  {
   "cell_type": "markdown",
   "metadata": {
    "collapsed": true
   },
   "source": [
    "# Basic Data Manipulation Sprint Journal for Natalie Ramirez"
   ]
  },
  {
   "cell_type": "markdown",
   "metadata": {
    "collapsed": true
   },
   "source": [
    "---\n",
    "## DAY 1: Tuesday (Week 1)\n",
    "### What I Expect to Learn\n",
    "* Replace with a summary of what you hope to accomplish with this project and how it fits into your overall roadmap. This includes key questions such as things you want to find out and definitions you want to establish and clarify.\n",
    "I expect to learn faster ways of cleansing data using tools and also determine different ways of updating databases using different libraries.\n",
    "\n",
    "### Project References\n",
    "- http://dataconomy.com/2015/03/14-best-python-pandas-features/\n",
    "- https://stackoverflow.com/questions/28699903/how-can-i-link-a-google-spreadsheet-to-postgresql\n",
    "- https://medium.com/ibotta-engine/scaling-from-manual-to-automated-reporting-using-pandas-google-scripts-and-google-sheets-a8a9c9b3ff94\n",
    "\n",
    "### Project Pitch\n",
    "- Connect an enrollment form created in google forms to postgresql database using google scripts and pandas in python used to update student data."
   ]
  },
  {
   "cell_type": "markdown",
   "metadata": {},
   "source": [
    "--- \n",
    "## DAY 2: Wednesday (Week 1)\n",
    "### Pitch Feedback \n",
    "- Try using Orator ORM\n",
    "- Use time to complete Data Model for centralized data store\n",
    "\n",
    "### Prototype Notes\n",
    "- Connecting google sheets to postgres using python is not that hard.\n",
    "- Had to do some manipulation in google scripts.\n",
    "- Extracting the data is giving me bugs.\n",
    "\n",
    "### Pair Show & Tell Comments\n",
    "*Comments from prototype discussion*\n",
    "\n",
    "*These comments lead into plan development. Key considerations for me and my partner:  Do I have a plan? Is my plan feasible?*\n",
    "\n",
    "### Proposed Plan: Key Milestones by Day\n",
    "\n",
    "##### Day 2 (Wed Week 1):\n",
    "- Develop Project Proposal\n",
    "- Push Docs / Repo / Roadmap Update\n",
    "- Create google enrollment form\n",
    "- Create script to connect google form to Postgres."
   ]
  },
  {
   "cell_type": "code",
   "execution_count": null,
   "metadata": {},
   "outputs": [],
   "source": [
    "import pandas, pyscopg, gspread\n",
    "\n",
    "#input database credentials\n",
    "user = raw_input(“username:”)\n",
    "password = raw_input(“password:”)\n",
    "\n",
    "#connect to db\n",
    "try:\n",
    "con = psycopg2.connect(database=’yourdatabase’, user=user, password=password, host=’yourhost’, port=’yourport’)\n",
    "cur = con.cursor()\n",
    "\n",
    "#run query and read to dataframe\n",
    "query_results = pandas.read_sql_query(“””SELECT * FROM table“””, con)\n",
    "\n",
    "#if there's an error, print out what the error is\n",
    "except psycopg2.DatabaseError, e:\n",
    "print ‘Error %s’ % e\n",
    "sys.exit(1)\n",
    "\n",
    "#close the database connection\n",
    "finally:\n",
    "if con:\n",
    "    con.close()\n",
    "\n",
    "#print out the first five rows of the query to verify that results match what’s expected\n",
    "print query_results.head()"
   ]
  },
  {
   "cell_type": "code",
   "execution_count": null,
   "metadata": {},
   "outputs": [],
   "source": [
    "#initiate and execute gspread connection to connect to google sheets\n",
    "scope = [‘https://spreadsheets.google.com/feeds']\n",
    "         \n",
    "#input correct name of json file - you will get this when you set up your gspread module\n",
    "credentials = ServiceAccountCredentials.from_json_keyfile_name(‘enrollmentjsonfile.json’, scope)\n",
    "         \n",
    "#authenticate the connection\n",
    "gc = gspread.authorize(credentials)\n",
    "         \n",
    "#open the google sheet \n",
    "wks = gc.open(“enrollment_form”).sheet1"
   ]
  },
  {
   "cell_type": "code",
   "execution_count": null,
   "metadata": {
    "collapsed": true
   },
   "outputs": [],
   "source": [
    "# columns names\n",
    "columns = query_results.columns.values.tolist()\n",
    "\n",
    "# selection of the range that will be updated\n",
    "cell_list = wks.range(‘A1:F1’)\n",
    "\n",
    "# modifying the values in the range\n",
    "for cell in cell_list:\n",
    "    val = columns[cell.col-1]\n",
    "if type(val) is str:\n",
    "    val = val.decode(‘utf-8’)\n",
    "    cell.value = val\n",
    "\n",
    "# update column headers in batch to google sheet\n",
    "wks.update_cells(cell_list)\n",
    "\n",
    "# number of lines and columns\n",
    "num_lines, num_columns = query_results.shape\n",
    "\n",
    "# Select a cell range for results\n",
    "cell_list = wks.range(‘A2:’+numberToLetters(num_columns)+str(num_lines+1))\n",
    "\n",
    "# Update values\n",
    "for cell in cell_list:\n",
    "    val = query_results.iloc[cell.row-2,cell.col-1]\n",
    "    \n",
    "if type(val) is str:\n",
    "    val = val.decode(‘utf-8’)\n",
    "elif isinstance(val, (int, long, float, complex)):\n",
    "    \n",
    "    # note that we round all numbers\n",
    "    val = int(round(val))\n",
    "    cell.value = val\n",
    "\n",
    "    # Send results to update sheet in batch mode\n",
    "    wks.update_cells(cell_list)"
   ]
  },
  {
   "cell_type": "markdown",
   "metadata": {},
   "source": [
    "##### Day 3 (Thu Week 1):\n",
    "- Use pandas library to update data by record id in postgres.\n",
    "- Test to see if it works.\n",
    "- Push docs / repo\n",
    "\n",
    "##### Day 4 (Tue Week 2): \n",
    "- *milestone X+1*\n",
    "- *milestone X+2*\n",
    "- *milestone X+3*\n",
    "- Push docs / repo\n",
    "\n",
    "##### Day 5 (Wed Week 2):\n",
    "- Project highlights\n",
    "- Identify question or cohort knowledge gap for sprint review\n",
    "- Develop Topic Project + Presentation\n",
    "- Push Repo / docs / Presentation\n",
    "\n",
    "### Project Definition and README.MD Discussion \n",
    "*This is a discussion of how this project will fit into my overall roadmap. I will update my roadmap with the following project definition*\n",
    "\n",
    "*I will focus my project Repo's README.MD on the same topic, but with this additional detail.*\n"
   ]
  },
  {
   "cell_type": "markdown",
   "metadata": {},
   "source": [
    "--- \n",
    "## DAY 3: Thursday (Week 1)\n",
    "\n",
    "#### Setup for Repo and Documentation Push\n",
    "*Setup and testing I did to make sure my repo and documentation were ready to push at the end of the day*\n",
    "\n",
    "#### Repo File Strategy Discussion\n",
    "*How I will present my repo files for clarity and demonstration*\n",
    "\n",
    "#### Work towards milestone 1\n",
    "*Work I did towards Milestone *\n",
    "\n",
    "#### Work towards milestone 2\n",
    "*Work I did towards Milestone *\n",
    "\n",
    "#### Work towards milestone 3\n",
    "*Work I did towards Milestone *\n",
    "\n",
    "\n"
   ]
  },
  {
   "cell_type": "markdown",
   "metadata": {},
   "source": [
    "---\n",
    "## DAY 4: Tuesday (Week 2)\n",
    "\n",
    "#### Work in Progress Feedback \n",
    "*Feedback and ideas from my work in progress presentation *\n",
    "\n",
    "#### Work towards milestone 1\n",
    "*Work I did towards Milestone *\n",
    "\n",
    "#### Work towards milestone 2\n",
    "*Work I did towards Milestone *\n",
    "\n",
    "#### Work towards milestone 3\n",
    "*Work I did towards Milestone *\n"
   ]
  },
  {
   "cell_type": "markdown",
   "metadata": {},
   "source": [
    "--- \n",
    "\n",
    "## DAY 5: Wednesday (Week 2)\n",
    "\n",
    "### Project Highlights: The things I am most excited about in my project\n",
    "Me\n",
    "- \n",
    "- \n",
    "- \n",
    "\n",
    "Peer Identified\n",
    "\n",
    "- \n",
    "- \n",
    "- \n",
    "\n",
    "### Peer Repo Feedback \n",
    "\n",
    "*Here are the changes I am making to my repo structure for additional clarity* \n",
    "- \n",
    "- \n",
    "- \n",
    "\n"
   ]
  },
  {
   "cell_type": "markdown",
   "metadata": {},
   "source": [
    "## Day 6: Thursday (Week 2)\n",
    "--- \n",
    "\n",
    "#### Things I didn't get to\n",
    "*Here are some ideas that I didn't get to implement, but wanted to. I will be adding these to my roadmap table entry for this sprint as well."
   ]
  },
  {
   "cell_type": "code",
   "execution_count": null,
   "metadata": {
    "collapsed": true
   },
   "outputs": [],
   "source": []
  }
 ],
 "metadata": {
  "kernelspec": {
   "display_name": "Python 3",
   "language": "python",
   "name": "python3"
  },
  "language_info": {
   "codemirror_mode": {
    "name": "ipython",
    "version": 3
   },
   "file_extension": ".py",
   "mimetype": "text/x-python",
   "name": "python",
   "nbconvert_exporter": "python",
   "pygments_lexer": "ipython3",
   "version": "3.6.3"
  }
 },
 "nbformat": 4,
 "nbformat_minor": 2
}
