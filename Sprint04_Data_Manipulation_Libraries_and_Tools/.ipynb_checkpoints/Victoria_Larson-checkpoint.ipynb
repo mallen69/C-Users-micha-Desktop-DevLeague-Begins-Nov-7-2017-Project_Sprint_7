{
 "cells": [
  {
   "cell_type": "markdown",
   "metadata": {
    "collapsed": true
   },
   "source": [
<<<<<<< HEAD
    "# Sprint 4: Data Manipulations LIbraries and Tools\n",
    "# Sprint Journal for TORI LARSON"
   ]
  },
  {
   "cell_type": "markdown",
   "metadata": {
    "collapsed": true
   },
   "source": [
    "---\n",
    "## DAY 1: Tuesday (Week 1)\n",
    "### What I Expect to Learn\n",
    "* Replace with a summary of what you hope to accomplish with this project and how it fits into your overall roadmap. This includes key questions such as things you want to find out and definitions you want to establish and clarify.\n",
    "\n",
=======
    "# [R Libraries] Sprint Journal for [Tori Larson]\n",
    "\n",
    "---\n",
    "## DAY 1: Tuesday (Week 1)\n",
    "### What I Expect to Learn\n",
    "* In this sprint I hope to become more familiar with libraries that relate to R. I would like to go back to using the birthday data concept with the first sprint and work with it again. My problem with the birthday data is privacy. Jon and I decided that I would import a bunch of different random birthdays and then write a code to autopopulate the names so that I could use the days without breaching privacy. Once that is done then I will go ahead and start using the libraries with that data. I need to explore different libraries from this [link](https://www.computerworld.com/article/2921176/business-intelligence/great-r-packages-for-data-import-wrangling-visualization.html). Hopefully I will be able to do all of these things in the 24 hours but we will see!\n",
    "#### woo hoo!\n",
    "\n",
    "### Looking into the different links on the above website.\n",
    "\n",
    "#####  Rvest - I could actually use this one to help me scrape names from the web to autofill names in order to make my life easier. That might be kind of cool. \n",
    "##### Lubridate(check) - says it deals with date arithmitec might be complex but might be cool to use. if i can figure it out. \n",
    "##### editR & officeR(check) - very intrigued by both of these. editR looks like it makes and interactive markdown for R and officeR makes it easy to add R generate analysis to a word document or presentation. \n",
    "##### Rcolorbrewer(check) - Create a color palette? Sound interesting for either now or another time. \n",
    "##### googlevis - useful when using google charts?\n",
    "##### janitor - clean up your r code? seems like something that might be useful in the future. \n",
    "##### pdftools(check) - for analyzing pdf documents.\n",
    "\n",
    "\n",
    "\n",
    "   \n",
>>>>>>> upstream/master
    "### Project References\n",
    "- *replace with Link to project and description of why it's of interest to you*\n",
    "- *replace with Link to project and description of why it's of interest to you*\n",
    "- *replace with Link to project and description of why it's of interest to you*\n",
    "\n",
    "### Project Pitch\n",
    "- *Replace with project idea*\n",
<<<<<<< HEAD
    "- *Replace with description of how project relates to sprint content*"
=======
    "- *Replace with description of how project relates to sprint content*\n",
    "\n",
    "As a hotel employee i need to work with libraries in R so I can more easily access information and understand more about my comp set. \n",
    "As an HR coordinator i need \n",
    "\n",
    "as a begginning data analyst i need to explore r libraries so i can create more efficiency and ease in my work. \n",
    "\n",
    "mookaroo"
>>>>>>> upstream/master
   ]
  },
  {
   "cell_type": "markdown",
   "metadata": {},
   "source": [
    "--- \n",
    "## DAY 2: Wednesday (Week 1)\n",
    "### Pitch Feedback \n",
<<<<<<< HEAD
    "*These are comments I received or ideas I had from people's feedback to my pitch *\n",
    "\n",
    "### Prototype Notes\n",
    "*Results from prototype experiments, snippets of code, things I tried * \n",
=======
    "Pitched 2 projects\n",
    "1. Take Bday data, fill in two rows and then use a scraping tool to autofill the final column so I can learn about webscraping. \n",
    "- Runjini suggested i just use an ID number instead of a name to to creat ease.\n",
    "- Nataline suggested Mockaroo to acquire names. \n",
    "\n",
    "2. the second pitch is working with the comp set information. The comp set is in a pdf which has me really interesting because it might be kind of fun to use a library to get data off of a pdf document. \n",
    "\n",
    "3. I also found some of the libraries that john sent me really interesting! \n",
    "\n",
    "#### Feedback from Ben \n",
    "- Get all libraries that I want installed \n",
    "- Use HART data in case I need something to work with!\n",
    "- Do a line from each library to kind of see what it is about \n",
    "- Here is a list of the libraries I downloaded using CRAN (in case I forget) \n",
    "    - PDFtools\n",
    "    - Rcolorbrewer\n",
    "    - Lubridate\n",
    "    - OfficeR\n",
    "    \n",
    "\n",
    "### Prototype Notes\n",
    "Going to start with Rcolorbrewer\n",
    "- Notes: \n",
    "    -  [Useful website](https://moderndata.plot.ly/create-colorful-graphs-in-r-with-rcolorbrewer-and-plotly/)\n",
    "        - turns out this website is out of date but I might be able to use it later on. \n",
    "    - [Usefule Website 2](https://plot.ly/r/getting-started/)\n",
    "- I created a username and password on Plot.ly. Then I connected that to my local computer by using the following command. Here is my R script: "
   ]
  },
  {
   "cell_type": "markdown",
   "metadata": {},
   "source": [
    "library(RColorBrewer)\n",
    "library(plotly)\n",
    "\n",
    "Sys.setenv(\"plotly_username\"=\"larsontori94\")\n",
    "Sys.setenv(\"plotly_api_key\"=\"kdbsthisisafakeapibutidgafksfg\")"
   ]
  },
  {
   "cell_type": "markdown",
   "metadata": {},
   "source": [
    "Then I made this! "
   ]
  },
  {
   "cell_type": "markdown",
   "metadata": {},
   "source": [
    "p <- plot_ly(midwest, x = ~percollege, color = ~state, type = \"box\")"
   ]
  },
  {
   "cell_type": "code",
   "execution_count": null,
   "metadata": {
    "collapsed": true
   },
   "outputs": [],
   "source": [
    "Which printed this!"
   ]
  },
  {
   "cell_type": "markdown",
   "metadata": {},
   "source": [
    "## INSERT PICTURE1 HERE"
   ]
  },
  {
   "cell_type": "markdown",
   "metadata": {},
   "source": [
    "MORE TO COME!"
   ]
  },
  {
   "cell_type": "markdown",
   "metadata": {},
   "source": [
    "#### Next I shall work on PDFtools"
   ]
  },
  {
   "cell_type": "markdown",
   "metadata": {},
   "source": []
  },
  {
   "cell_type": "markdown",
   "metadata": {},
   "source": []
  },
  {
   "cell_type": "markdown",
   "metadata": {},
   "source": [
    "\n",
>>>>>>> upstream/master
    "\n",
    "### Pair Show & Tell Comments\n",
    "*Comments from prototype discussion*\n",
    "\n",
    "*These comments lead into plan development. Key considerations for me and my partner:  Do I have a plan? Is my plan feasible?*\n",
    "\n",
    "### Proposed Plan: Key Milestones by Day\n",
    "\n",
    "##### Day 2 (Wed Week 1):\n",
    "- Develop Project Proposal\n",
    "- Push Docs / Repo / Roadmap Update\n",
    "\n",
    "##### Day 3 (Thu Week 1):\n",
<<<<<<< HEAD
    "- *milestone 1*\n",
    "- *milestone 2*\n",
    "- *milestone X...*\n",
    "- Push docs / repo\n",
    "\n",
    "##### Day 4 (Tue Week 2): \n",
    "- *milestone X+1*\n",
    "- *milestone X+2*\n",
=======
    "- *Work as hard as I can on PDFtools for the first 2 hours*\n",
    "- *If it doesnt work - let it go*\n",
    "- *think about what I could use if my plan fails*\n",
    "- *if PDFtools doesnt work then grab data and immediately start with Rcolorbrewer*\n",
    "- *spend the next two hours to work on tutorials in rcolor brewer*\n",
    "- Push docs / repo\n",
    "\n",
    "##### Day 4 (Tue Week 2): \n",
    "- *work on more rcolorbrewer*\n",
    "- *upload more information to rcolorbrewer?*\n",
>>>>>>> upstream/master
    "- *milestone X+3*\n",
    "- Push docs / repo\n",
    "\n",
    "##### Day 5 (Wed Week 2):\n",
    "- Project highlights\n",
    "- Identify question or cohort knowledge gap for sprint review\n",
    "- Develop Topic Project + Presentation\n",
    "- Push Repo / docs / Presentation\n",
    "\n",
    "### Project Definition and README.MD Discussion \n",
    "*This is a discussion of how this project will fit into my overall roadmap. I will update my roadmap with the following project definition*\n",
    "\n",
    "*I will focus my project Repo's README.MD on the same topic, but with this additional detail.*\n"
   ]
  },
  {
   "cell_type": "markdown",
   "metadata": {},
   "source": [
    "--- \n",
    "## DAY 3: Thursday (Week 1)\n",
    "\n",
    "#### Setup for Repo and Documentation Push\n",
    "*Setup and testing I did to make sure my repo and documentation were ready to push at the end of the day*\n",
    "\n",
    "#### Repo File Strategy Discussion\n",
    "*How I will present my repo files for clarity and demonstration*\n",
    "\n",
    "#### Work towards milestone 1\n",
<<<<<<< HEAD
    "*Work I did towards Milestone *\n",
=======
    "*Working with PDFtools for the first 2 hours*\n",
    "- Things are going very well!\n",
    "- I have found a few very good tutorials and between then I would say im maing progress\n",
    "    - [Here is one of the tutorials](https://www.r-bloggers.com/announcing-pdftools-1-0/)\n",
    "    - [Another great tutorial](https://dss.iq.harvard.edu/blog/extracting-content-pdf-files)\n",
    "- So its 9:30 and I lied. I spend more time looking at the PDF data. I CAN'T BE STOPPED! Now I am actually moving on to \n",
>>>>>>> upstream/master
    "\n",
    "#### Work towards milestone 2\n",
    "*Work I did towards Milestone *\n",
    "\n",
    "#### Work towards milestone 3\n",
    "*Work I did towards Milestone *\n",
    "\n",
<<<<<<< HEAD
    "\n"
=======
    "\n",
    "- *Work as hard as I can on PDFtools for the first 2 hours*\n",
    "- *If it doesnt work - let it go*\n",
    "- *think about what I could use if my plan fails*\n",
    "- *if PDFtools doesnt work then grab data and immediately start with Rcolorbrewer*\n",
    "- *spend the next two hours to work on tutorials in rcolor brewer*\n",
    "- Push docs / repo"
>>>>>>> upstream/master
   ]
  },
  {
   "cell_type": "markdown",
   "metadata": {},
   "source": [
    "---\n",
    "## DAY 4: Tuesday (Week 2)\n",
    "\n",
    "#### Work in Progress Feedback \n",
    "*Feedback and ideas from my work in progress presentation *\n",
    "\n",
    "#### Work towards milestone 1\n",
    "*Work I did towards Milestone *\n",
    "\n",
    "#### Work towards milestone 2\n",
    "*Work I did towards Milestone *\n",
    "\n",
    "#### Work towards milestone 3\n",
    "*Work I did towards Milestone *\n"
   ]
  },
  {
   "cell_type": "markdown",
   "metadata": {},
   "source": [
    "--- \n",
    "\n",
    "## DAY 5: Wednesday (Week 2)\n",
    "\n",
    "### Project Highlights: The things I am most excited about in my project\n",
    "Me\n",
    "- \n",
    "- \n",
    "- \n",
    "\n",
    "Peer Identified\n",
    "\n",
    "- \n",
    "- \n",
    "- \n",
    "\n",
    "### Peer Repo Feedback \n",
    "\n",
    "*Here are the changes I am making to my repo structure for additional clarity* \n",
    "- \n",
    "- \n",
    "- \n",
    "\n"
   ]
  },
  {
   "cell_type": "markdown",
   "metadata": {},
   "source": [
    "## Day 6: Thursday (Week 2)\n",
    "--- \n",
    "\n",
    "#### Things I didn't get to\n",
    "*Here are some ideas that I didn't get to implement, but wanted to. I will be adding these to my roadmap table entry for this sprint as well."
   ]
  },
  {
   "cell_type": "code",
   "execution_count": null,
   "metadata": {
    "collapsed": true
   },
   "outputs": [],
   "source": []
  }
 ],
 "metadata": {
  "kernelspec": {
   "display_name": "Python 3",
   "language": "python",
   "name": "python3"
  },
  "language_info": {
   "codemirror_mode": {
    "name": "ipython",
    "version": 3
   },
   "file_extension": ".py",
   "mimetype": "text/x-python",
   "name": "python",
   "nbconvert_exporter": "python",
   "pygments_lexer": "ipython3",
<<<<<<< HEAD
   "version": "3.6.3"
=======
   "version": "3.6.1"
>>>>>>> upstream/master
  }
 },
 "nbformat": 4,
 "nbformat_minor": 2
}
