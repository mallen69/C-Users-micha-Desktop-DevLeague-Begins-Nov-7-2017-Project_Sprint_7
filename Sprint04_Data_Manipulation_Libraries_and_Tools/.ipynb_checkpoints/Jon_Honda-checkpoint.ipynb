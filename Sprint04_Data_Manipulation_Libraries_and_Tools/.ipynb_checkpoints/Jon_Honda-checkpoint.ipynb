{
 "cells": [
  {
   "cell_type": "markdown",
   "metadata": {
    "collapsed": true
   },
   "source": [
    "# Data Manipulation Libraries & Tools\n",
    "# Sprint Journal for Jon Honda"
   ]
  },
  {
   "cell_type": "markdown",
   "metadata": {
    "collapsed": true
   },
   "source": [
    "---\n",
    "## DAY 1: Tuesday (Week 1)\n",
    "### What I Expect to Learn\n",
    "* Identify libaries that may help me refactor my special project coding.\n",
    "* How to more efficiently research and evaluate applicability, effectiveness, quality of libraries to use in projects.\n",
    "* How does one come to a decision between code refactoring to implement library, versus using existing code as is, versus looking for a better solution using \"native\"/non-library code?\n",
    "\n",
    "### Project References\n",
    "- *https://orator-orm.com/* an \"object oriented\" approach to SQL coding.\n",
    "    https://github.com/sdispater/orator\n",
    "    https://www.fullstackpython.com/object-relational-mappers-orms.html\n",
    "- *replace with Link to project and description of why it's of interest to you*\n",
    "- *https://docs.scipy.org/doc/scipy/reference/generated/scipy.optimize.basinhopping.html* a simulated annealing like solution\n",
    "   https://www.hindawi.com/journals/aai/2012/674832/ is a paper describing the algorithm\n",
    "\n",
    "### Project Pitch\n",
    "- *Identifiy libraries to assist in refactoring special project coding*\n",
    "- *This project relates to data manipulation libraries as because of specic refactoring i envision will need to be done:*\n",
    "  - Working with SQL w/in your solution is tedious, prone to errors, makes for difficult to read code.  Is there a more elegant solution?\n",
    "  - Working with operations on tables, matrix-like operations. Are there libraries to assist?\n",
    "  - Finding minimual solution front will require a simulated annealing like solution. Are there libraries to assist, so I don't need to write the algorithm myself? "
   ]
  },
  {
   "cell_type": "markdown",
   "metadata": {},
   "source": [
    "--- \n",
    "## DAY 2: Wednesday (Week 1)\n",
    "### Pitch Feedback \n",
    "*After hearing my pitch, Ben suggested I look at ORM solutions to help me reduce complexity surrounding SQL-handling code*\n",
    "*After hearing my pitch, Justin suggested I look into Basin Hopping algorithm, which is implimented as a SciPy libary.* "
   ]
  },
  {
   "cell_type": "markdown",
   "metadata": {},
   "source": [
    "### Prototype Notes\n",
    "*Results from prototype experiments, snippets of code, things I tried * \n",
    "Researching ORMs - i've discovered there's a lot of them out there. Orator-ORM is just one of them. It seems that for Python, a lot of folks like SQLAlchemy. There is a lot more documentation and information available for SQLAlchemy. SQLAlchemy's page says its used by lots of companies:\n",
    "http://www.sqlalchemy.org/organizations.html\n",
    "- hulu\n",
    "- cars.com\n",
    "- yelp\n",
    "\n",
    "\n",
    "\n",
    "Maybe I should switch to it.\n",
    "- *http://www.sqlalchemy.org/*\n",
    "- *http://www.rmunn.com/sqlalchemy-tutorial/tutorial.html*\n"
   ]
  },
  {
   "cell_type": "markdown",
   "metadata": {},
   "source": [
    "### Pair Show & Tell Comments\n",
    "*Comments from prototype discussion*\n",
    "\n",
    "*These comments lead into plan development. Key considerations for me and my partner:  Do I have a plan? Is my plan feasible?*\n",
    "\n",
    "### Proposed Plan: Key Milestones by Day\n",
    "\n",
    "##### Day 2 (Wed Week 1):\n",
    "- Develop Project Proposal\n",
    "- Push Docs / Repo / Roadmap Update\n",
    "\n",
    "##### Day 3 (Thu Week 1):\n",
    "- *milestone 1*\n",
    "- *milestone 2*\n",
    "- *milestone X...*\n",
    "- Push docs / repo\n",
    "\n",
    "##### Day 4 (Tue Week 2): \n",
    "- *milestone X+1*\n",
    "- *milestone X+2*\n",
    "- *milestone X+3*\n",
    "- Push docs / repo\n",
    "\n",
    "##### Day 5 (Wed Week 2):\n",
    "- Project highlights\n",
    "- Identify question or cohort knowledge gap for sprint review\n",
    "- Develop Topic Project + Presentation\n",
    "- Push Repo / docs / Presentation\n",
    "\n",
    "### Project Definition and README.MD Discussion \n",
    "*This is a discussion of how this project will fit into my overall roadmap. I will update my roadmap with the following project definition*\n",
    "\n",
    "*I will focus my project Repo's README.MD on the same topic, but with this additional detail.*"
   ]
  },
  {
   "cell_type": "markdown",
   "metadata": {},
   "source": [
    "--- \n",
    "## DAY 3: Thursday (Week 1)\n",
    "\n",
    "#### Setup for Repo and Documentation Push\n",
    "*Setup and testing I did to make sure my repo and documentation were ready to push at the end of the day*\n",
    "\n",
    "#### Repo File Strategy Discussion\n",
    "*How I will present my repo files for clarity and demonstration*\n",
    "\n",
    "#### Work towards milestone 1\n",
    "*Work I did towards Milestone *\n",
    "\n",
    "#### Work towards milestone 2\n",
    "*Work I did towards Milestone *\n",
    "\n",
    "#### Work towards milestone 3\n",
    "*Work I did towards Milestone *\n",
    "\n",
    "\n"
   ]
  },
  {
   "cell_type": "markdown",
   "metadata": {},
   "source": [
    "---\n",
    "## DAY 4: Tuesday (Week 2)\n",
    "\n",
    "#### Work in Progress Feedback \n",
    "*Feedback and ideas from my work in progress presentation *\n",
    "\n",
    "#### Work towards milestone 1\n",
    "*Work I did towards Milestone *\n",
    "\n",
    "#### Work towards milestone 2\n",
    "*Work I did towards Milestone *\n",
    "\n",
    "#### Work towards milestone 3\n",
    "*Work I did towards Milestone *\n"
   ]
  },
  {
   "cell_type": "markdown",
   "metadata": {},
   "source": [
    "--- \n",
    "\n",
    "## DAY 5: Wednesday (Week 2)\n",
    "\n",
    "### Project Highlights: The things I am most excited about in my project\n",
    "Me\n",
    "- \n",
    "- \n",
    "- \n",
    "\n",
    "Peer Identified\n",
    "\n",
    "- \n",
    "- \n",
    "- \n",
    "\n",
    "### Peer Repo Feedback \n",
    "\n",
    "*Here are the changes I am making to my repo structure for additional clarity* \n",
    "- \n",
    "- \n",
    "- \n",
    "\n"
   ]
  },
  {
   "cell_type": "markdown",
   "metadata": {},
   "source": [
    "## Day 6: Thursday (Week 2)\n",
    "--- \n",
    "\n",
    "#### Things I didn't get to\n",
    "*Here are some ideas that I didn't get to implement, but wanted to. I will be adding these to my roadmap table entry for this sprint as well."
   ]
  },
  {
   "cell_type": "code",
   "execution_count": null,
   "metadata": {
    "collapsed": true
   },
   "outputs": [],
   "source": []
  },
  {
   "cell_type": "code",
   "execution_count": 11,
   "metadata": {},
   "outputs": [
    {
     "name": "stdout",
     "output_type": "stream",
     "text": [
      "2018-01-11 20:37:13,763 INFO sqlalchemy.engine.base.Engine SELECT CAST('test plain returns' AS VARCHAR(60)) AS anon_1\n",
      "2018-01-11 20:37:13,769 INFO sqlalchemy.engine.base.Engine ()\n",
      "2018-01-11 20:37:13,774 INFO sqlalchemy.engine.base.Engine SELECT CAST('test unicode returns' AS VARCHAR(60)) AS anon_1\n",
      "2018-01-11 20:37:13,779 INFO sqlalchemy.engine.base.Engine ()\n",
      "2018-01-11 20:37:13,783 INFO sqlalchemy.engine.base.Engine PRAGMA table_info(\"users\")\n",
      "2018-01-11 20:37:13,789 INFO sqlalchemy.engine.base.Engine ()\n",
      "2018-01-11 20:37:13,798 INFO sqlalchemy.engine.base.Engine \n",
      "CREATE TABLE users (\n",
      "\tid INTEGER NOT NULL, \n",
      "\tname VARCHAR(50), \n",
      "\tfullname VARCHAR(50), \n",
      "\tpassword VARCHAR(12), \n",
      "\tPRIMARY KEY (id)\n",
      ")\n",
      "\n",
      "\n",
      "2018-01-11 20:37:13,812 INFO sqlalchemy.engine.base.Engine ()\n",
      "2018-01-11 20:37:13,820 INFO sqlalchemy.engine.base.Engine COMMIT\n",
      "2018-01-11 20:37:13,828 INFO sqlalchemy.engine.base.Engine BEGIN (implicit)\n",
      "2018-01-11 20:37:13,864 INFO sqlalchemy.engine.base.Engine INSERT INTO users (name, fullname, password) VALUES (?, ?, ?)\n",
      "2018-01-11 20:37:13,872 INFO sqlalchemy.engine.base.Engine ('ed', 'Ed Jones', 'edspassword')\n",
      "2018-01-11 20:37:13,877 INFO sqlalchemy.engine.base.Engine INSERT INTO users (name, fullname, password) VALUES (?, ?, ?)\n",
      "2018-01-11 20:37:13,901 INFO sqlalchemy.engine.base.Engine ('wendy', 'Wendy Williams', 'foobar')\n",
      "2018-01-11 20:37:13,910 INFO sqlalchemy.engine.base.Engine INSERT INTO users (name, fullname, password) VALUES (?, ?, ?)\n",
      "2018-01-11 20:37:13,921 INFO sqlalchemy.engine.base.Engine ('mary', 'Mary Contrary', 'xxg527')\n",
      "2018-01-11 20:37:13,924 INFO sqlalchemy.engine.base.Engine INSERT INTO users (name, fullname, password) VALUES (?, ?, ?)\n",
      "2018-01-11 20:37:13,927 INFO sqlalchemy.engine.base.Engine ('fred', 'Fred Flinstone', 'blah')\n",
      "2018-01-11 20:37:13,931 INFO sqlalchemy.engine.base.Engine COMMIT\n",
      "2018-01-11 20:37:13,937 INFO sqlalchemy.engine.base.Engine BEGIN (implicit)\n",
      "2018-01-11 20:37:13,944 INFO sqlalchemy.engine.base.Engine SELECT users.id AS users_id, users.name AS users_name, users.fullname AS users_fullname, users.password AS users_password \n",
      "FROM users ORDER BY users.id\n",
      "2018-01-11 20:37:13,954 INFO sqlalchemy.engine.base.Engine ()\n",
      "ed Ed Jones\n",
      "wendy Wendy Williams\n",
      "mary Mary Contrary\n",
      "fred Fred Flinstone\n"
     ]
    }
   ],
   "source": [
    "#Here is an infinite stream of conciousness:\n",
    "\n",
    "#run thru sqlalchemy.org's tutorial: http://docs.sqlalchemy.org/en/latest/orm/tutorial.html\n",
    "#connect to SQLite DB w/ SQLAlchemy ORM:\n",
    "from sqlalchemy import create_engine\n",
    "engine = create_engine('sqlite:///:memory:', echo = True)\n",
    "\n",
    "\n",
    "#NOW DEFINE DB SCHEMA (THIS DOESN'T WRITE SCHEMA TO DB, JUST TO SQLALCHEMY CLASSES AND OBJECTS)\n",
    "#define an SQLAlchemy base class to maintain catalog of classes and tables relative to this base\n",
    "from sqlalchemy.ext.declarative import declarative_base\n",
    "Base = declarative_base()\n",
    "\n",
    "#use the base class to define mapped classes in terms of it:\n",
    "#as an initial example, define a table called 'users' by defining a class called 'User'\n",
    "from sqlalchemy import Column, Integer, String\n",
    "from sqlalchemy import Sequence\n",
    "Column(Integer, Sequence('user_id_seq'), primary_key=True)\n",
    "\n",
    "class User(Base):\n",
    "    __tablename__ = 'users'\n",
    "    id = Column(Integer, Sequence('user_id_seq'), primary_key=True)\n",
    "    name = Column(String(50))\n",
    "    fullname = Column(String(50))\n",
    "    password = Column(String(12))\n",
    "\n",
    "    def __repr__(self):\n",
    "        return \"<User(name='%s', fullname='%s', password='%s')>\" % (\n",
    "                                self.name, self.fullname, self.password)\n",
    "\n",
    "#NOW WRITE SCHEMA TO DB (THIS WRITES TO SQLITE DB):\n",
    "Base.metadata.create_all(engine) #build DB schema from Base objects\n",
    "\n",
    "#NOW WRITE DATA TO DB. YOU NEED A SESSION OBJECT TO DO SO:\n",
    "from sqlalchemy.orm import sessionmaker\n",
    "Session = sessionmaker(bind=engine) #define Session class, which is a factory for making session objects (poor naming choice, in my opinion - why the do it this way??!)\n",
    "session = Session() #make a session\n",
    "ed_user = User(name='ed', fullname='Ed Jones', password='edspassword') #make a record\n",
    "session.add(ed_user) # add  record held in object to the DB - but only as a temp. item (it's not yet comitted)\n",
    "session.add_all([\n",
    "    User(name='wendy', fullname='Wendy Williams', password='foobar'),\n",
    "    User(name='mary', fullname='Mary Contrary', password='xxg527'),\n",
    "    User(name='fred', fullname='Fred Flinstone', password='blah')])\n",
    "session.commit() #commit all pending transactions to DB\n",
    "\n",
    "\n",
    "#NOW DO SOME QUERYING:\n",
    "for instance in session.query(User).order_by(User.id): #session.query() <--a SQLAlchemy Query object!\n",
    "    print(instance.name, instance.fullname)\n",
    "\n",
    "    "
   ]
  },
  {
   "cell_type": "code",
   "execution_count": null,
   "metadata": {
    "collapsed": true
   },
   "outputs": [],
   "source": [
    "from sqlalchemy import create_engine\n",
    "engine = create_engine('sqlite:///:memory:', echo = True)\n",
    "from sqlalchemy.orm import sessionmaker\n",
    "Session = sessionmaker(bind=engine) #define Session class, which is a factory for making session objects (poor naming choice, in my opinion - why the do it this way??!)\n",
    "session = Session() #make a session\n",
    "\n"
   ]
  }
 ],
 "metadata": {
  "kernelspec": {
   "display_name": "Python 3",
   "language": "python",
   "name": "python3"
  },
  "language_info": {
   "codemirror_mode": {
    "name": "ipython",
    "version": 3
   },
   "file_extension": ".py",
   "mimetype": "text/x-python",
   "name": "python",
   "nbconvert_exporter": "python",
   "pygments_lexer": "ipython3",
   "version": "3.6.3"
  }
 },
 "nbformat": 4,
 "nbformat_minor": 2
}
