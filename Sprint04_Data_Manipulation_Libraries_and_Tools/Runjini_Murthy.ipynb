{
 "cells": [
  {
   "cell_type": "markdown",
   "metadata": {
    "collapsed": true
   },
   "source": [
    "# Sprint 4: Sprint Journal for Runjini Murthy"
   ]
  },
  {
   "cell_type": "markdown",
   "metadata": {
    "collapsed": true
   },
   "source": [
    "---\n",
    "## DAY 1: Tuesday (Week 1)\n",
    "### What I Expect to Learn\n",
    "* I expect to begin my foundational understanding of libraries and perform my first real sprint where I understand how it works.  I imported a pandas library in a previous sprint during a research phase, but did not delve into the details.  I wish to learn at least 5-10 functions/use cases for the library.\n",
    "\n",
    "### Project References\n",
    "#### Training/Research Links\n",
    "- http://dataconomy.com/2015/03/14-best-python-pandas-features/: This seems quite helpful in describing key functionality in Pandas and how it applies.\n",
    "- http://manishamde.github.io/blog/2013/03/07/pandas-and-python-top-10/\n",
    "- http://pythonforengineers.com/introduction-to-pandas/: Intro to pandas\n",
    "- http://pythonforengineers.com/machine-learning-for-complete-beginners/: Saving this link for later for machine learning.  Seems like a good tutorial here.\n",
    "- https://www.analyticsvidhya.com/blog/2014/07/facebook-analyst/\n",
    "- https://www.r-bloggers.com/analyze-facebook-with-r/\n",
    "- https://research.fb.com/prophet-forecasting-at-scale/ \n",
    "- https://github.com/facebook/prophet \n",
    "- https://bigdataenthusiast.wordpress.com/2016/03/19/mining-facebook-data-using-r-facebook-api/\n",
    "- https://www.datacamp.com/community/tutorials/r-packages-guide\n",
    "\n",
    "#### Sample Projects\n",
    "- https://blog.kissmetrics.com/how-airbnb-uses-data-science/ - AirBnb product/marketing case study\n",
    "- http://inseaddataanalytics.github.io/INSEADAnalytics/BoatsSegmentationCaseSlides.pdf \n",
    "- http://www.skampakis.com/data-science-marketing-tool-online-ads/ - Online ads\n",
    "- https://www.r-bloggers.com/data-analysis-for-marketing-research-with-r-language-1/ - Sample R project\n",
    "\n",
    "\n",
    "### Project Pitch\n",
    "- Analyze marketing data set using pandas.\n",
    "- Per the suggestion of Nat, I will either use a marketing data set from a current project at work, or find something similar from Kaggle.  Then, I will use go through a trial process of reviewing each function in Pandas to see what it does and how it works.\n",
    "- Skill Story: As a budding marketing data analyst, I need to understand how to utilize libraries/packages so that I have alternative methods to perform social media campaign analysis other than Excel.  \n",
    "\n",
    "\n",
    "### Other Notes\n",
    "- Pandas is a dependent library on numpy.\n",
    "- Learned that by inputting a file name into the .gitignore file, you can prevent those files from being pushed to your repo.  \n",
    "- The .gitignore file is edited in Atom or another text editor.\n",
    "- The .gitignore file is hidden, so you can't navigate to it.  I did a save and replace on a whim in Atom and it seems to have worked."
   ]
  },
  {
   "cell_type": "markdown",
   "metadata": {},
   "source": [
    "--- \n",
    "## DAY 2: Wednesday (Week 1)\n",
    "### Pitch Feedback \n",
    "*These are comments I received or ideas I had from people's feedback to my pitch *\n",
    "\n",
    "### Prototype Notes\n",
    "1. Needed a bit of a refresher for work in R.  Reviewed functions like min, max, subset, and storing files to an easier value to work with.\n",
    "2. Learned that not only do you have to install a package, you have to get it in an executable mode with the function \"library.\"\n",
    "``install.packages(“Rfacebook”)\n",
    "library(\"Rfacebook\") ``\n",
    "\n",
    "3. Had to go through the process of getting token access through the Facebook developer page. \n",
    "``myoauth <- fbOAuth(app_id\"Facebook-ID\", app-secret\"Facebook-secret\")``\n",
    "\n",
    "4. Saved the token for easy access. \n",
    "\n",
    "save(myouath, file=\"myoauth\")\n",
    "\n",
    "load(\"myoauth\")\n",
    "\n",
    "me <- getUsers(\"me\", token = myoauth)\n",
    "\n",
    "me$name\n",
    "\n",
    "Runj Ward \n",
    " \n",
    "5. Learned how to access public page data with the getPad function.  You need to determine the ID of the public page from this website: https://findmyfbid.com/.  The Ward Village ID is 310668279073583.\n",
    "\n",
    "### Pair Show & Tell Comments\n",
    "*Comments from prototype discussion*\n",
    "\n",
    "*These comments lead into plan development. Key considerations for me and my partner:  Do I have a plan? Is my plan feasible?*\n",
    "\n",
    "### Additional Links\n",
    "1. https://stackoverflow.com/questions/24719489/failure-to-get-fboauth-in-rfacebook - Instructions for how to set up the localhost URL within the Facebook developer area.\n",
    "2. Instructions for Rfacebook package: https://bigdataenthusiast.wordpress.com/2016/03/19/mining-facebook-data-using-r-facebook-api/\n",
    "3. Instructions on why fboauth didn't work - need to install packages and then run it as a library: https://stackoverflow.com/questions/27682059/rfacebook-could-not-find-function-fboauth\n",
    "\n",
    "### Proposed Plan: Key Milestones by Day\n",
    "\n",
    "##### Day 2 (Wed Week 1):\n",
    "- Develop Project Proposal\n",
    "- Push Docs / Repo / Roadmap Update\n",
    "\n",
    "##### Day 3 (Thu Week 1):\n",
    "- *milestone 1*\n",
    "- *milestone 2*\n",
    "- *milestone X...*\n",
    "- Push docs / repo\n",
    "\n",
    "##### Day 4 (Tue Week 2): \n",
    "- *milestone X+1*\n",
    "- *milestone X+2*\n",
    "- *milestone X+3*\n",
    "- Push docs / repo\n",
    "\n",
    "##### Day 5 (Wed Week 2):\n",
    "- Project highlights\n",
    "- Identify question or cohort knowledge gap for sprint review\n",
    "- Develop Topic Project + Presentation\n",
    "- Push Repo / docs / Presentation\n",
    "\n",
    "### Project Definition and README.MD Discussion \n",
    "*This is a discussion of how this project will fit into my overall roadmap. I will update my roadmap with the following project definition*\n",
    "\n",
    "*I will focus my project Repo's README.MD on the same topic, but with this additional detail.*\n"
   ]
  },
  {
   "cell_type": "markdown",
   "metadata": {},
   "source": [
    "--- \n",
    "## DAY 3: Thursday (Week 1)\n",
    "\n",
    "#### Setup for Repo and Documentation Push\n",
    "*Setup and testing I did to make sure my repo and documentation were ready to push at the end of the day*\n",
    "\n",
    "#### Repo File Strategy Discussion\n",
    "*How I will present my repo files for clarity and demonstration*\n",
    "\n",
    "#### Work towards milestone 1\n",
    "*Work I did towards Milestone *\n",
    "\n",
    "#### Work towards milestone 2\n",
    "*Work I did towards Milestone *\n",
    "\n",
    "#### Work towards milestone 3\n",
    "*Work I did towards Milestone *\n",
    "\n",
    "\n"
   ]
  },
  {
   "cell_type": "markdown",
   "metadata": {},
   "source": [
    "---\n",
    "## DAY 4: Tuesday (Week 2)\n",
    "\n",
    "#### Work in Progress Feedback \n",
    "*Feedback and ideas from my work in progress presentation *\n",
    "\n",
    "#### Work towards milestone 1\n",
    "*Work I did towards Milestone *\n",
    "\n",
    "#### Work towards milestone 2\n",
    "*Work I did towards Milestone *\n",
    "\n",
    "#### Work towards milestone 3\n",
    "*Work I did towards Milestone *\n"
   ]
  },
  {
   "cell_type": "markdown",
   "metadata": {},
   "source": [
    "--- \n",
    "\n",
    "## DAY 5: Wednesday (Week 2)\n",
    "\n",
    "### Project Highlights: The things I am most excited about in my project\n",
    "Me\n",
    "- \n",
    "- \n",
    "- \n",
    "\n",
    "Peer Identified\n",
    "\n",
    "- \n",
    "- \n",
    "- \n",
    "\n",
    "### Peer Repo Feedback \n",
    "\n",
    "*Here are the changes I am making to my repo structure for additional clarity* \n",
    "- \n",
    "- \n",
    "- \n",
    "\n"
   ]
  },
  {
   "cell_type": "markdown",
   "metadata": {},
   "source": [
    "## Day 6: Thursday (Week 2)\n",
    "--- \n",
    "\n",
    "#### Things I didn't get to\n",
    "*Here are some ideas that I didn't get to implement, but wanted to. I will be adding these to my roadmap table entry for this sprint as well."
   ]
  },
  {
   "cell_type": "code",
   "execution_count": null,
   "metadata": {
    "collapsed": true
   },
   "outputs": [],
   "source": []
  }
 ],
 "metadata": {
  "kernelspec": {
   "display_name": "Python 3",
   "language": "python",
   "name": "python3"
  },
  "language_info": {
   "codemirror_mode": {
    "name": "ipython",
    "version": 3
   },
   "file_extension": ".py",
   "mimetype": "text/x-python",
   "name": "python",
   "nbconvert_exporter": "python",
   "pygments_lexer": "ipython3",
   "version": "3.6.3"
  }
 },
 "nbformat": 4,
 "nbformat_minor": 2
}
