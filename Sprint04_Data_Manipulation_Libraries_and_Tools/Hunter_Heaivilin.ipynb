{
 "cells": [
  {
   "cell_type": "markdown",
   "metadata": {
    "collapsed": true
   },
   "source": [
    "# Project Name\n",
    "#### [1/9/2018] | [Hunter Heaivilin] | [Sprint 4: Data Manipulation Libraries and Tools]\n",
    "#### Description\n",
    "Performing a suitability analysis of a given crop at a given time is useful, but being able to compare between various crops and various times affords far greater opporutnities for impactful insight.\n",
    "\n",
    "In order to speed processing times this project will begin transfering GIS raster files into other formats to streamline time serires analyses and enable parallel processing of multiple crops. \n",
    "\n",
    "## Skill Backlog User Story\n",
    "As a spatial analyst, I need to perform functions across time series so that change can be assessed. \n",
    "\n",
    "## Potenital Projects\n",
    "- Review CIAT's [DAPA Climate repo](https://github.com/CIAT-DAPA/dapa-climate-change)\n",
    "- Get [Climphor](https://github.com/AndySouth/climcropr) to run in R! \n",
    "- Begin converting HI-CROP into pyhton/R\n",
    "\n",
    "\n",
    "## Project Proposal\n",
    "I will convert my existing raster files into a matrix or table of one kind or another. Ideally I will be able to easily translate the existing python scripts and ArcGIS ModelBuilder models that perform analysis from within ArcGIS into Python or R. \n",
    "\n",
    "## Key Questions\n",
    "- How to perform geospatial type processess in Python/R without a Geospatial GUI\n",
    "- Converting geospatial files (in particular rasters) to other formats in order to perform various anaylses.\n",
    "- Figure out what [pandas](https://pandas.pydata.org/) and [xarray](http://xarray.pydata.org/en/stable/) are up to, how they differ, and which to use when. \n",
    "\n",
    "#### Work towards milestone 2\n",
    "*Work I did towards Milestone *\n",
    "\n",
    "#### Work towards milestone 3\n",
    "*Work I did towards Milestone *\n",
    "\n",
    "\n"
   ]
  },
  {
   "cell_type": "markdown",
   "metadata": {},
   "source": [
    "---\n",
    "## DAY 4: Tuesday (Week 2)\n",
    "\n",
    "#### Work in Progress Feedback \n",
    "*Feedback and ideas from my work in progress presentation *\n",
    "\n",
    "#### Work towards milestone 1\n",
    "*Work I did towards Milestone *\n",
    "\n",
    "#### Work towards milestone 2\n",
    "*Work I did towards Milestone *\n",
    "\n",
    "#### Work towards milestone 3\n",
    "*Work I did towards Milestone *\n"
   ]
  },
  {
   "cell_type": "markdown",
   "metadata": {},
   "source": [
    "--- \n",
    "\n",
    "## DAY 5: Wednesday (Week 2)\n",
    "\n",
    "### Project Highlights: The things I am most excited about in my project\n",
    "Me\n",
    "- \n",
    "- \n",
    "- \n",
    "\n",
    "Peer Identified\n",
    "\n",
    "- \n",
    "- \n",
    "- \n",
    "\n",
    "### Peer Repo Feedback \n",
    "\n",
    "*Here are the changes I am making to my repo structure for additional clarity* \n",
    "- \n",
    "- \n",
    "- \n",
    "\n"
   ]
  },
  {
   "cell_type": "markdown",
   "metadata": {},
   "source": [
    "## Day 6: Thursday (Week 2)\n",
    "--- \n",
    "\n",
    "#### Things I didn't get to\n",
    "*Here are some ideas that I didn't get to implement, but wanted to. I will be adding these to my roadmap table entry for this sprint as well."
   ]
  },
  {
   "cell_type": "markdown",
   "metadata": {
    "collapsed": true
   },
   "source": [
    "Skill Story\tProject:\n",
    "\n",
    "As a statistical modeler, I need to produce basic visual plots and summary statistics of the central tendencies and range of my data set so that I can develop an intuition for and a familiarity with my data set\n",
    "\n",
    "As a environmental assessment writer, I need to understand the basic structure of geospatial and water resource data so that I can develop tools that help me write EAs and EISs more efficiently.\n",
    "\n",
    "As a spatial analyst, I need to "
   ]
  }
 ],
 "metadata": {
  "kernelspec": {
   "display_name": "Python 3",
   "language": "python",
   "name": "python3"
  },
  "language_info": {
   "codemirror_mode": {
    "name": "ipython",
    "version": 3
   },
   "file_extension": ".py",
   "mimetype": "text/x-python",
   "name": "python",
   "nbconvert_exporter": "python",
   "pygments_lexer": "ipython3",
   "version": "3.6.3"
  }
 },
 "nbformat": 4,
 "nbformat_minor": 2
}
