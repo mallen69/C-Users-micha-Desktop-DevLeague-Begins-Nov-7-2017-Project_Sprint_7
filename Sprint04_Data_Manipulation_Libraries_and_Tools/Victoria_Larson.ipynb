{
 "cells": [
  {
   "cell_type": "markdown",
   "metadata": {
    "collapsed": true
   },
   "source": [
    "# R Libraries Sprint Journal for Tori Larson\n",
    "\n",
    "---\n",
    "## DAY 1: Tuesday (Week 1)\n",
    "### What I Expect to Learn\n",
    "* In this sprint I hope to become more familiar with libraries that relate to R. I would like to go back to using the birthday data concept with the first sprint and work with it again. My problem with the birthday data is privacy. Jon and I decided that I would import a bunch of different random birthdays and then write a code to autopopulate the names so that I could use the days without breaching privacy. Once that is done then I will go ahead and start using the libraries with that data. I need to explore different libraries from this [link](https://www.computerworld.com/article/2921176/business-intelligence/great-r-packages-for-data-import-wrangling-visualization.html). Hopefully I will be able to do all of these things in the 24 hours but we will see!\n",
    "#### woo hoo!\n",
    "\n",
    "### Looking into the different links on the above website.\n",
    "\n",
    "#####  Rvest - I could actually use this one to help me scrape names from the web to autofill names in order to make my life easier. That might be kind of cool. \n",
    "##### Lubridate(check) - says it deals with date arithmitec might be complex but might be cool to use. if i can figure it out. \n",
    "##### editR & officeR(check) - very intrigued by both of these. editR looks like it makes and interactive markdown for R and officeR makes it easy to add R generate analysis to a word document or presentation. \n",
    "##### Rcolorbrewer(check) - Create a color palette? Sound interesting for either now or another time. \n",
    "##### googlevis - useful when using google charts?\n",
    "##### janitor - clean up your r code? seems like something that might be useful in the future. \n",
    "##### pdftools(check) - for analyzing pdf documents.\n",
    "\n",
    "   \n",
    "### Project References\n",
    "[Regular Expressions](https://www.regular-expressions.info/floatingpoint.html)\n",
    "[]()\n",
    "[]()\n",
    "\n",
    "### Project Pitch\n",
    "\n",
    "As a hotel employee i need to work with libraries in R so I can more easily access information and understand more about my comp set. \n",
    "\n",
    "As a begginning data analyst i need to explore r libraries so i can create more efficiency and ease in my work. \n",
    "\n",
    "As an emerging data analyst I need to be able to work with information in pdf documents in R so I can evaluate information more easily. "
   ]
  },
  {
   "cell_type": "markdown",
   "metadata": {},
   "source": [
    "--- \n",
    "## DAY 2: Wednesday (Week 1)\n",
    "### Pitch Feedback \n",
    "Pitched 2 projects\n",
    "1. Take Bday data, fill in two rows and then use a scraping tool to autofill the final column so I can learn about webscraping. \n",
    "- Runjini suggested i just use an ID number instead of a name to to creat ease.\n",
    "- Nataline suggested Mockaroo to acquire names. \n",
    "\n",
    "2. the second pitch is working with the comp set information. The comp set is in a pdf which has me really interesting because it might be kind of fun to use a library to get data off of a pdf document. \n",
    "\n",
    "3. I also found some of the libraries that Jon sent me really interesting! \n",
    "\n",
    "#### Feedback from Ben \n",
    "- Get all libraries that I want installed \n",
    "- Use HART data in case I need something to work with!\n",
    "- Do a line from each library to kind of see what it is about \n",
    "- Here is a list of the libraries I downloaded using CRAN (in case I forget) \n",
    "    - PDFtools\n",
    "    - Rcolorbrewer\n",
    "    - Lubridate\n",
    "    - OfficeR\n",
    "    \n",
    "\n",
    "### Prototype Notes\n",
    "Going to start with Rcolorbrewer\n",
    "- Notes: \n",
    "    -  [Useful website](https://moderndata.plot.ly/create-colorful-graphs-in-r-with-rcolorbrewer-and-plotly/)\n",
    "        - turns out this website is out of date but I might be able to use it later on. \n",
    "    - [Usefule Website 2](https://plot.ly/r/getting-started/)\n",
    "- I created a username and password on Plot.ly. Then I connected that to my local computer by using the following command. Here is my R script: "
   ]
  },
  {
   "cell_type": "markdown",
   "metadata": {},
   "source": [
    "> library(RColorBrewer)\n",
    "\n",
    "> library(plotly)\n",
    "\n",
    "> Sys.setenv(\"plotly_username\"=\"larsontori94\")\n",
    "\n",
    "> Sys.setenv(\"plotly_api_key\"=\"kdbsthisisafakeapibutidgafksfg\")"
   ]
  },
  {
   "cell_type": "markdown",
   "metadata": {},
   "source": [
    "Then I made this! "
   ]
  },
  {
   "cell_type": "markdown",
   "metadata": {},
   "source": [
    "p <- plot_ly(midwest, x = ~percollege, color = ~state, type = \"box\")"
   ]
  },
  {
   "cell_type": "markdown",
   "metadata": {
    "collapsed": true
   },
   "source": [
    "Which printed this!"
   ]
  },
  {
   "cell_type": "markdown",
   "metadata": {},
   "source": [
    "## INSERT PICTURE1 HERE"
   ]
  },
  {
   "cell_type": "markdown",
   "metadata": {},
   "source": [
    "MORE TO COME!"
   ]
  },
  {
   "cell_type": "markdown",
   "metadata": {},
   "source": [
    "---\n",
    "### Proposed Plan: Key Milestones by Day\n",
    "\n",
    "##### Day 2 (Wed Week 1):\n",
    "- Develop Project Proposal\n",
    "- Push Docs / Repo / Roadmap Update\n",
    "\n",
    "##### Day 3 (Thu Week 1):\n",
    "- *Work as hard as I can on PDFtools for the first 2 hours*\n",
    "- *If it doesnt work - let it go*\n",
    "- *think about what I could use if my plan fails*\n",
    "- *if PDFtools doesnt work then grab data and immediately start with Rcolorbrewer*\n",
    "- *spend the next two hours to work on tutorials in rcolor brewer*\n",
    "- Push docs / repo\n",
    "\n",
    "##### Day 4 (Tue Week 2): \n",
    "- *work on more rcolorbrewer*\n",
    "- *upload more information to rcolorbrewer?*\n",
    "- *milestone X+3*\n",
    "- Push docs / repo\n",
    "\n",
    "##### Day 5 (Wed Week 2):\n",
    "- Project highlights\n",
    "- Identify question or cohort knowledge gap for sprint review\n",
    "- Develop Topic Project + Presentation\n",
    "- Push Repo / docs / Presentation\n",
    "\n",
    "### Project Definition and README.MD Discussion \n",
    "This project fits into my overall roadmap because I am not only learning how to use a library but also an import library in my opinion. I deal with a lot of PDFs so it is useful to use this library so I am able to extract information from it and deal with the graphs inside. "
   ]
  },
  {
   "cell_type": "markdown",
   "metadata": {},
   "source": [
    "--- \n",
    "## DAY 3: Thursday (Week 1)\n",
    "\n",
    "\n",
    "#### Work towards milestone 1\n",
    "*Working with PDFtools for the first 2 hours*\n",
    "- Things are going very well!\n",
    "- I have found a few very good tutorials and between then I would say im maing progress\n",
    "    - [Here is one of the tutorials](https://www.r-bloggers.com/announcing-pdftools-1-0/)\n",
    "    - [Another great tutorial](https://dss.iq.harvard.edu/blog/extracting-content-pdf-files)\n",
    "- So its 9:30 and I lied. I spend more time looking at the PDF data. I CAN'T BE STOPPED! Now I am actually moving on to Rcolorbrewer for some fun with making things pretty. \n",
    "\n",
    "#### Work towards milestone 2\n",
    "I started a tutorial in datacamp dealing with Rcolorbrewer. I still dont really understand why I would use the information I got out of the tutorial, but it will probably be useful in the future."
   ]
  },
  {
   "cell_type": "markdown",
   "metadata": {},
   "source": [
    "---\n",
    "## DAY 4: Tuesday (Week 2)\n",
    "\n",
    "I worked on the project a little more over the weekend. It was pretty difficult and I dont really understand whats going on quite yet but I am hoping we make some pretty good progress today. I also just found something called Tabulizer, which is supposed to take PDF tables and import into R and organize them for you - which is so upsetting because I've been spending so much time on this and I could have just done it with this library.\n",
    "\n",
    "Below is all of the code I did today - it was hard and exhausting. But good things ended up happening. "
   ]
  },
  {
   "cell_type": "markdown",
   "metadata": {},
   "source": [
    "### Listed below is the Final code that I did. It is in no way a reflection of how many things i tried."
   ]
  },
  {
   "cell_type": "code",
   "execution_count": 14,
   "metadata": {},
   "outputs": [
    {
     "ename": "NameError",
     "evalue": "name 'library' is not defined",
     "output_type": "error",
     "traceback": [
      "\u001b[0;31m---------------------------------------------------------------------------\u001b[0m",
      "\u001b[0;31mNameError\u001b[0m                                 Traceback (most recent call last)",
      "\u001b[0;32m<ipython-input-14-03c0095a17fa>\u001b[0m in \u001b[0;36m<module>\u001b[0;34m()\u001b[0m\n\u001b[1;32m      1\u001b[0m \u001b[0;31m# Using Libray pdftools\u001b[0m\u001b[0;34m\u001b[0m\u001b[0;34m\u001b[0m\u001b[0m\n\u001b[0;32m----> 2\u001b[0;31m \u001b[0mlibrary\u001b[0m\u001b[0;34m(\u001b[0m\u001b[0mpdftools\u001b[0m\u001b[0;34m)\u001b[0m\u001b[0;34m\u001b[0m\u001b[0m\n\u001b[0m",
      "\u001b[0;31mNameError\u001b[0m: name 'library' is not defined"
     ]
    }
   ],
   "source": [
    "# Using Libray pdftools\n",
    "library(pdftools)"
   ]
  },
  {
   "cell_type": "markdown",
   "metadata": {},
   "source": [
    "##### assigning a varibale\n",
    "Hotelpdf <- pdf_text(\"HotelReview12.31.17.pdf\")"
   ]
  },
  {
   "cell_type": "markdown",
   "metadata": {},
   "source": [
    "##### extract text vector\n",
    "pdfpages <- pdf_text(\"HotelReview12.31.17.pdf\")"
   ]
  },
  {
   "cell_type": "markdown",
   "metadata": {},
   "source": [
    "##### String split with \"\\n\" - creates new lines\n",
    "pagebreaks = strsplit(pdfpages, \"\\n\")"
   ]
  },
  {
   "cell_type": "markdown",
   "metadata": {},
   "source": [
    "##### Want to focus on page 3 of the vector in the list.\n",
    "pdfpage3 <- pagebreaks[[3]]"
   ]
  },
  {
   "cell_type": "markdown",
   "metadata": {},
   "source": [
    "##### Deleting lines with no data\n",
    "datapage = pdfpage3[-(1:10)]"
   ]
  },
  {
   "cell_type": "markdown",
   "metadata": {},
   "source": [
    "##### This is the only way I knew how to delete lines this sparatically spaced\n",
    "datapage = datapage[-(1:5)]\n",
    "datapage = datapage[-(2)]\n",
    "datapage = datapage[-(9)]\n",
    "datapage = datapage[-(15)]\n",
    "datapage = datapage[-(21)]\n",
    "datapage = datapage[-(46:48)]"
   ]
  },
  {
   "cell_type": "markdown",
   "metadata": {},
   "source": [
    "##### Extracted all of the floats from the vectors\n",
    "datapage = str_extract_all(datapage,\"[+-]?([0-9]*[.])?[0-9]+\")"
   ]
  },
  {
   "cell_type": "markdown",
   "metadata": {},
   "source": [
    "##### Unlisted datapage to turn all of the separate strings into one big strings\n",
    "datapagetest = unlist(datapage)"
   ]
  },
  {
   "cell_type": "markdown",
   "metadata": {},
   "source": [
    "##### using cbind.data.frame to create colums from the data - making it 18 columns\n",
    "Hoteldata = cbind.data.frame(split(datapagetest, rep(1:18, times=length(datapagetest)/18)), stringsAsFactors=F)"
   ]
  },
  {
   "cell_type": "markdown",
   "metadata": {},
   "source": [
    "##### Adding column names\n",
    "names(Hoteldata) = c(\"CurrentWeek_2017_Occ\", \"CurrentWeek_2016_Occ\", \"CurrentWeek_2017_ADR\", \"CurrentWeek_2016_ADR\", \n",
    "              \"CurrentWeek_2017_RevPar\",\"CurrentWeek_2016_RevPar\",\"CurrentWeek_PercentChange_Occ\",\"CurrentWeek_PercentChange_ADR\",\"CurrentWeek_PercentChange_Revpar\",\n",
    "                     \"28days_2017_Occ\",\"28days_2016_Occ\",\"28days_2017_ADR\",\"28days_2016_ADR\",\"28days_2017_RevPar\",\"28days_2016_RevPar\",\n",
    "                     \"28days_PercentChange_Occ\",\"28days_PercentChange_ADR\",\"28days_PercentChange_Revpar\")"
   ]
  },
  {
   "cell_type": "markdown",
   "metadata": {},
   "source": [
    "##### Adding column names\n",
    "names(Hoteldata) = c(\"CurrentWeek_2017_Occ\", \"CurrentWeek_2016_Occ\", \"CurrentWeek_2017_ADR\", \"CurrentWeek_2016_ADR\", \n",
    "                     \"CurrentWeek_2017_RevPar\",\"CurrentWeek_2016_RevPar\",\"CurrentWeek_PercentChange_Occ\",\"CurrentWeek_PercentChange_ADR\",\"CurrentWeek_PercentChange_Revpar\",\n",
    "                     \"28days_2017_Occ\",\"28days_2016_Occ\",\"28days_2017_ADR\",\"28days_2016_ADR\",\"28days_2017_RevPar\",\"28days_2016_RevPar\",\n",
    "                     \"28days_PercentChange_Occ\",\"28days_PercentChange_ADR\",\"28days_PercentChange_Revpar\")"
   ]
  },
  {
   "cell_type": "markdown",
   "metadata": {},
   "source": [
    "##### Creating row names\n",
    "row.names(Hoteldata) = hotelnames"
   ]
  },
  {
   "cell_type": "markdown",
   "metadata": {},
   "source": [
    "##### Viewing my masterpiece\n",
    "View(Hoteldata)"
   ]
  },
  {
   "cell_type": "markdown",
   "metadata": {},
   "source": [
    "---\n",
    "#### Things that I learned during this journey:"
   ]
  },
  {
   "cell_type": "markdown",
   "metadata": {},
   "source": [
    "\"\\n\" = new line - I saw this a lot when I imported the PDF into R. It showed all of the places that there was a new line in the vector instead of actually creating a new line. "
   ]
  },
  {
   "cell_type": "markdown",
   "metadata": {},
   "source": [
    "\"strsplit\" = string split - this splits a single string in a vector into multiple strings in a vector. An example of this sort of thing (and tying this back to \"\\n\") would be: \n",
    "- t = \"the quick brown fox jumps \\n over the lazy dog\" \n",
    "- code: strstring(t, \"\\n\")\n",
    "- print(t)\n",
    "\n",
    "> \"the quick brown fox jumps\"\n",
    "\n",
    "> \"over the lazy dog\""
   ]
  },
  {
   "cell_type": "markdown",
   "metadata": {},
   "source": [
    "Using strsplit makes a list and you can store multiple vectors in a list. \n",
    "- when using something that has been strsplit - [[double brackets]] -  signify the page and [single brackets] signify the line "
   ]
  },
  {
   "cell_type": "markdown",
   "metadata": {},
   "source": [
    "---\n",
    "Another thing worth noting is this expression: (\"[+-]?([0-9]*[.])?[0-9]+\") which defines a floating point number and gets rid of the rest of the information. "
   ]
  },
  {
   "cell_type": "code",
   "execution_count": null,
   "metadata": {
    "collapsed": true
   },
   "outputs": [],
   "source": []
  },
  {
   "cell_type": "code",
   "execution_count": null,
   "metadata": {},
   "outputs": [],
   "source": []
  },
  {
   "cell_type": "code",
   "execution_count": null,
   "metadata": {
    "collapsed": true
   },
   "outputs": [],
   "source": []
  },
  {
   "cell_type": "code",
   "execution_count": null,
   "metadata": {
    "collapsed": true
   },
   "outputs": [],
   "source": []
  },
  {
   "cell_type": "markdown",
   "metadata": {},
   "source": [
    "--- \n",
    "\n",
    "## DAY 5: Wednesday (Week 2)\n",
    "\n",
    "### Project Highlights: The things I am most excited about in my project\n"
   ]
  },
  {
   "cell_type": "markdown",
   "metadata": {},
   "source": [
    "## Day 6: Thursday (Week 2)\n",
    "--- \n",
    "\n",
    "#### Things I didn't get to\n",
    "I would really have liked to get into rcolorbrewer more. I think the data that I pulled will be really cool with it.\n",
    "I would also have like to dive into tabulizer and see what it does for me. however, it doesnt look like its as easy to import as there is no CRAN for it. But I will look into it more later. "
   ]
  },
  {
   "cell_type": "code",
   "execution_count": null,
   "metadata": {
    "collapsed": true
   },
   "outputs": [],
   "source": []
  }
 ],
 "metadata": {
  "kernelspec": {
   "display_name": "Python 3",
   "language": "python",
   "name": "python3"
  },
  "language_info": {
   "codemirror_mode": {
    "name": "ipython",
    "version": 3
   },
   "file_extension": ".py",
   "mimetype": "text/x-python",
   "name": "python",
   "nbconvert_exporter": "python",
   "pygments_lexer": "ipython3",
   "version": "3.6.1"
  }
 },
 "nbformat": 4,
 "nbformat_minor": 2
}
