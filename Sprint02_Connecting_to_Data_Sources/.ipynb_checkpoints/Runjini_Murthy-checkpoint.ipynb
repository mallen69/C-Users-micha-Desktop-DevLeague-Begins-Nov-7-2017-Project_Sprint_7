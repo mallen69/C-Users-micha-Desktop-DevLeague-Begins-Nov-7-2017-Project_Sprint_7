{
 "cells": [
  {
   "cell_type": "markdown",
   "metadata": {
    "collapsed": true
   },
   "source": [
    "# Project Name\n",
    "#### [Date] | [Author] | [Sprint]\n",
    "#### Description\n",
    "1 to 2 sentence description. The first 5 Sections are mandatory. Free form after that, but there are a couple of suggested categories you can use. But really document however you feel the most comfortable.\n",
    "\n",
    "## Skill Backlog User Story\n",
    "As a [TKTKTK] I need [TKTKTK] So that [TKTKTK]\n",
    "\n",
    "## Project Proposal\n",
    "This is what I propose to do in this project and why I think it will be useful to me and my overall objective\n",
    "\n",
    "## Key Questions\n",
    "- Things I want to find out\n",
    "- Definitions I want to establish and clarify\n",
    "\n",
    "## Key Findings\n",
    "- SQL = standard query language\n",
    "- Relational database example with books, authors, genres (i.e. Harry Potter and Stephen King)\n",
    "- SQLite works well in applications not needing human expert support: TVs, game consoles, internet of things\n",
    "\n",
    "## Gameplan\n",
    "Here is my overall approach \n",
    "1. Determine how to get SQL/SQLite on my computer.\n",
    "2. Determine if I'm working with a CSV database or need to parse from a website.\n",
    "3. Research libraries I might need.\n",
    "4. Map out data model for project.\n",
    "5. Determine data types for each attribute in data model.\n",
    "\n",
    "\n",
    "---\n",
    "\n",
    "## Day 1 Work\n",
    "\n",
    "Project ideas\n",
    "1. SQLite database from a spreadsheet: load an existing database into SQL (one line of SQL code that is hard)\n",
    "2. Querying from a CSV using command line.\n",
    "3. Experimenting with joins\n",
    "4. Connecting to a SQL database from R\n",
    "\n",
    "Pitch ideas\n",
    "1. Create SQLite database to demonstrate the three tables: award show data, movie data, financial data.\n",
    "2. Connect to SQLite database (as built in step 1) using R.\n",
    "3. Join award show and movie databases using SQL.\n",
    "4. Scrape data from oscars.com to build SQLite database.\n",
    "5. Completely unrelated project, but mine text data from Facebook using API\n",
    "\n",
    "\n",
    "## Day 2 Work\n",
    "\n",
    "Resources/Links\n",
    "https://www.analyticsvidhya.com/blog/2017/03/beginners-guide-on-web-scraping-in-r-using-rvest-with-hands-on-knowledge/\n",
    "http://jtleek.com/modules/01_DataScientistToolbox/02_09_installingRPackages/#1\n",
    "https://www.analyticsvidhya.com/learning-paths-data-science-business-analytics-business-intelligence-big-data/learning-path-r-data-science/\n",
    "\n",
    "\n",
    "Future notes\n",
    "1. Using web scraping to gather data from Amazon customer reviews\n",
    "\n",
    "\n",
    "## Peer Feedback on Day 3\n",
    "\n",
    "After talking it over with a peer, I received the following feedback and decided to make these changes\n",
    "\n",
    "## Here are some overall notes on the skills I learned\n",
    "And perhaps some stream of consciousness notes about what I did, and other questions I might have"
   ]
  },
  {
   "cell_type": "markdown",
   "metadata": {
    "collapsed": true
   },
   "source": [
    "# "
   ]
  }
 ],
 "metadata": {
  "kernelspec": {
   "display_name": "Python 3",
   "language": "python",
   "name": "python3"
  },
  "language_info": {
   "codemirror_mode": {
    "name": "ipython",
    "version": 3
   },
   "file_extension": ".py",
   "mimetype": "text/x-python",
   "name": "python",
   "nbconvert_exporter": "python",
   "pygments_lexer": "ipython3",
   "version": "3.6.3"
  }
 },
 "nbformat": 4,
 "nbformat_minor": 2
}
