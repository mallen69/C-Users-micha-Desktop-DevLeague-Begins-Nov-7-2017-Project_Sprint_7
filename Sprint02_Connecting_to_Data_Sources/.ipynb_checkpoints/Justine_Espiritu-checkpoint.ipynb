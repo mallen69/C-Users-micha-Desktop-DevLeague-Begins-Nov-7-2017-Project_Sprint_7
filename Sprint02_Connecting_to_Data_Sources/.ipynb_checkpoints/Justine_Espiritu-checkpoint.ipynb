{
 "cells": [
  {
   "cell_type": "markdown",
   "metadata": {
    "collapsed": true
   },
   "source": [
    "# Sprint 2\n",
    "#### November 28 2017 | Justine | Sprint 2\n",
    "#### Description\n",
    "1 to 2 sentence description. The first 5 Sections are mandatory. Free form after that, but there are a couple of suggested categories you can use. But really document however you feel the most comfortable.\n",
    "\n",
    "## Skill Backlog User Story\n",
    "As a [TKTKTK] I need [TKTKTK] So that [TKTKTK]\n",
    "\n",
    "## Project Proposal\n",
    "\n",
    "Creating a SQLlite database from a spreadsheet\n",
    "\n",
    "## Key Questions\n",
    "- Things I want to find out\n",
    "- Definitions I want to establish and clarify\n",
    "\n",
    "## Key Findings\n",
    "- A running list of things that I'm learning and don't want to forget\n",
    "\n",
    "## Gameplan\n",
    "Here is my overall approach \n",
    "1. Step 1\n",
    "2. Step 2\n",
    "3. Step 3\n",
    "4. Step 4\n",
    "\n",
    "---\n",
    "\n",
    "## Day 1 Work\n",
    "\n",
    "Today we're developing project pitches. I want to do the most basic, simpliest one. I'm not sure which other ones require the command line, and I don't have a working one.\n",
    "\n",
    "Project Pitch Idea 1: Learn the basics of SQL and SQLite. I want to do this so I understand what advantages it has over excel, which is what I normally use.\n",
    "\n",
    "Project Pitch Idea 2: Creating a SQLite database from my ridership data spreadsheet. I want to do this because it codes observations and may be able to allow me to look at the data and get all the info I want in a quicker snapshot because I can filter out certain fields and only see the relevent data\n",
    "\n",
    "Project Pitch Idea 3: I want to upload multiple system 1st year ridership data into SQL in order to compare and give Biki a benchmark\n",
    "\n",
    "Project Pitch Idea 4: Load 6 different revenue data sets into sql to inspect\n",
    "\n",
    "Project Pitch Idea 5: parsing or scraping, figure out what it is relative to other bikeshare data i can use\n",
    "\n",
    "https://www.sqlite.org/whentouse.html\n",
    "\n",
    "Data analysis\n",
    "\n",
    "People who understand SQL can employ the sqlite3 command-line shell (or various third-party SQLite access programs) to analyze large datasets. Raw data can be imported from CSV files, then that data can be sliced and diced to generate a myriad of summary reports. More complex analysis can be done using simple scripts written in Tcl or Python (both of which come with SQLite built-in) or in R or other languages using readily available adaptors. Possible uses include website log analysis, sports statistics analysis, compilation of programming metrics, and analysis of experimental results. Many bioinformatics researchers use SQLite in this way.\n",
    "\n",
    "The same thing can be done with an enterprise client/server database, of course. The advantage of SQLite is that it is easier to install and use and the resulting database is a single file that can be written to a USB memory stick or emailed to a colleague.\n",
    "\n",
    "http://www.sqlitetutorial.net/\n",
    "\n",
    "tutorials\n",
    "\n",
    "Sprint 2: Connecting to Data Sources\n",
    "\n",
    "Skill Story\tProject\n",
    "\n",
    "As a business analyst, I need to understand command line-based applications, basic scripting, databases, web resources, APIs, and data warehouses so that I can compile and organize Biki data effeciently and source other bikeshare system data, and compare effectively.\n",
    "\n",
    "\n",
    "\n",
    "## Day 2 Work\n",
    "\n",
    "This is what I tried to do on Day 2. Here's some more code\n",
    "\n",
    "## Peer Feedback on Day 3\n",
    "\n",
    "After talking it over with a peer, I received the following feedback and decided to make these changes\n",
    "\n",
    "## Here are some overall notes on the skills I learned\n",
    "And perhaps some stream of consciousness notes about what I did, and other questions I might have"
   ]
  },
  {
   "cell_type": "code",
   "execution_count": null,
   "metadata": {
    "collapsed": true
   },
   "outputs": [],
   "source": []
  }
 ],
 "metadata": {
  "kernelspec": {
   "display_name": "Python 3",
   "language": "python",
   "name": "python3"
  },
  "language_info": {
   "codemirror_mode": {
    "name": "ipython",
    "version": 3
   },
   "file_extension": ".py",
   "mimetype": "text/x-python",
   "name": "python",
   "nbconvert_exporter": "python",
   "pygments_lexer": "ipython3",
   "version": "3.6.3"
  }
 },
 "nbformat": 4,
 "nbformat_minor": 2
}
