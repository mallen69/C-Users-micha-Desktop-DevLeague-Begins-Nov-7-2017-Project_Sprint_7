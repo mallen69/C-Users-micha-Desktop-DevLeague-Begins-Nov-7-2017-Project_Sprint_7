{
 "cells": [
  {
   "cell_type": "markdown",
   "metadata": {
    "collapsed": true
   },
   "source": [
    "# Explore Data File Types\n",
    "#### [December] | [Sheuli] | [Sprint 2]\n",
    "#### Description\n",
    "I worked on researching data file types such as .shp and .json\n",
    "\n",
    "## Skill Backlog User Story\n",
    "As an environmental scientist, I need to be comprotable working with geospatial data. \n",
    "\n",
    "## Project Proposal\n",
    "I propose to find some geospatial data and figure ou what file formats it is stored in. \n",
    "\n",
    "## Key Questions\n",
    "- What kind of geospatial data is available for Hawaii?\n",
    "- What file types is the data stored in?\n",
    "## Key Findings\n",
    "- There is data about soil, water wetlands and many other environmental things available online. \n",
    "- Most of the data I need to work with is in shape files\n",
    "\n",
    "## Gameplan\n",
    "Here is my overall approach \n",
    "1. FIgure out what data to look for\n",
    "2.Download data\n",
    "3. Figure out file formats\n",
    "4. COmpare file formats\n",
    "\n",
    "---\n",
    "\n",
    "## Day 1 Work\n",
    "\n",
    "Researched data\n",
    "\n",
    "## Day 2 Wor\n",
    "Figured out file formats \n",
    "\n",
    "## Peer Feedback on Day 3\n",
    "\n",
    "\n",
    "\n",
    "## Here are some overall notes on the skills I learned\n",
    "  shp files store geospatial informaton "
   ]
  },
  {
   "cell_type": "code",
   "execution_count": null,
   "metadata": {
    "collapsed": true
   },
   "outputs": [],
   "source": []
  }
 ],
 "metadata": {
  "kernelspec": {
   "display_name": "Python 3",
   "language": "python",
   "name": "python3"
  },
  "language_info": {
   "codemirror_mode": {
    "name": "ipython",
    "version": 3
   },
   "file_extension": ".py",
   "mimetype": "text/x-python",
   "name": "python",
   "nbconvert_exporter": "python",
   "pygments_lexer": "ipython3",
   "version": "3.6.3"
  }
 },
 "nbformat": 4,
 "nbformat_minor": 2
}
