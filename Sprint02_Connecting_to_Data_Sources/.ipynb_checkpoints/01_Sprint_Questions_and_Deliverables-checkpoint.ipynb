{
 "cells": [
  {
   "cell_type": "markdown",
   "metadata": {},
   "source": [
    "# Sprint 2: Connecting to Data Sources"
   ]
  },
  {
   "cell_type": "markdown",
   "metadata": {},
   "source": [
    "## Final Deliverables\n",
    "|Author|Project Title|overview|repo|docs|\n",
    "|---|---|---|---|---|\n",
    "|Hunter Heavilin|TBD|[slides](https://github.com/devleague/BigDataAnalyst_ProjectDocumentation/blob/master/Sprint01_Data_Formats_and_Terminology/01_Sprint_Presentations/Hunter_Heaivilin_Sprint_01_Review.pdf)|[repo](https://github.com/supersistence/Getting-to-Know-Shapefiles-and-GeoJSON)|[docs](https://github.com/devleague/BigDataAnalyst_ProjectDocumentation/blob/master/Sprint01_Data_Formats_and_Terminology/Hunter_Heaivilin.ipynb)|\n",
    "|Jon Honda|TBD|[slides](https://github.com/devleague/BigDataAnalyst_ProjectDocumentation/blob/master/Sprint01_Data_Formats_and_Terminology/01_Sprint_Presentations/Jon_Honda_Sprint_01_Review.pdf)|[repo](https://github.com/hondajyh/DevLeagueProjects)|[docs](https://github.com/devleague/BigDataAnalyst_ProjectDocumentation/blob/master/Sprint01_Data_Formats_and_Terminology/Jon_Honda.ipynb)|\n",
    "|Justine Espiritu|TBD|[slides](https://github.com/devleague/BigDataAnalyst_ProjectDocumentation/blob/master/Sprint01_Data_Formats_and_Terminology/01_Sprint_Presentations/Justine_Espiritu_Sprint_01_Review.pdf)|[repo](https://github.com/j-espiritu/Justine_Project_1)|[docs](https://github.com/devleague/BigDataAnalyst_ProjectDocumentation/blob/master/Sprint01_Data_Formats_and_Terminology/Justine_Espiritu.ipynb)|\n",
    "|Michael Allen|TBD|[slides](https://github.com/devleague/BigDataAnalyst_ProjectDocumentation/blob/master/Sprint01_Data_Formats_and_Terminology/01_Sprint_Presentations/Michael_Allen_Sprint_01_Review.pdf)|[repo](https://github.com/mallen69/Project_Sprint_1)|[docs](https://github.com/devleague/BigDataAnalyst_ProjectDocumentation/blob/master/Sprint01_Data_Formats_and_Terminology/Michael_Allen.ipynb)|\n",
    "|Natalie Ramirez|TBD|slides|[repo](https://github.com/nat-nat33/data-file-converter)|[docs](https://github.com/devleague/BigDataAnalyst_ProjectDocumentation/blob/master/Sprint01_Data_Formats_and_Terminology/Natalie_Ramirez.ipynb)|\n",
    "|Olina Cavedoni|Webscraping NFL Depth Chart Using RStudio(rvest)|[slides](https://github.com/devleague/BigDataAnalyst_ProjectDocumentation/blob/master/Sprint01_Data_Formats_and_Terminology/01_Sprint_Presentations/Olina_Cavedone_Sprint_01_Review.pdf)|[repo](https://github.com/ocavedoni/Sprint1_WebScraping)|[docs](https://github.com/devleague/BigDataAnalyst_ProjectDocumentation/blob/master/Sprint01_Data_Formats_and_Terminology/Olina_Cavedoni.ipynb)|\n",
    "|Runjini Murthy|TBD|[slides](https://github.com/devleague/BigDataAnalyst_ProjectDocumentation/blob/master/Sprint01_Data_Formats_and_Terminology/01_Sprint_Presentations/Runjini_Murthy_Sprint_01_Review.pdf)|[repo](https://github.com/runjini/Runjini_Project_1)|[docs](https://github.com/devleague/BigDataAnalyst_ProjectDocumentation/blob/master/Sprint01_Data_Formats_and_Terminology/Runjini_Murthy.ipynb)|\n",
    "|Sheuli Molla|Data Formats and Terminology|[slides](https://github.com/devleague/BigDataAnalyst_ProjectDocumentation/blob/master/Sprint01_Data_Formats_and_Terminology/01_Sprint_Presentations/Sheuli_Molla_Sprint_01_Review.pdf)|[repo](https://github.com/sheulimolla/SPRINT-1)|[docs](https://github.com/devleague/BigDataAnalyst_ProjectDocumentation/blob/master/Sprint01_Data_Formats_and_Terminology/Sheuli_Molla.ipynb)|\n",
    "|Tori Larson|Basics of CSV, JSON & XML|[slides](https://github.com/devleague/BigDataAnalyst_ProjectDocumentation/blob/master/Sprint01_Data_Formats_and_Terminology/01_Sprint_Presentations/Tori_Larson_Sprint_01_Review.pdf)|[repo](https://github.com/ToriLarson/ToriLarson_Sprint1)|[docs](https://github.com/devleague/BigDataAnalyst_ProjectDocumentation/blob/master/Sprint01_Data_Formats_and_Terminology/Victoria_Larson.ipynb)|\n"
   ]
  },
  {
   "cell_type": "markdown",
   "metadata": {},
   "source": [
    "## Questions\n",
    "\n",
    "### If we have it in one format, should we be able to change it to any of the other formats?\n",
    "- [Resource 1](): *Name of Cohort Member* Summary of Comment or Response\n",
    "- [Resource 2](): *Name of Cohort Member* Summary of Comment or Response\n",
    "- [Resource 2](): *Name of Cohort Member* Summary of Comment or Response\n",
    "\n",
    "### What is 'relational data'?\n",
    "- [Resource 1](): *Name of Cohort Member* Summary of Comment or Response\n",
    "- [Resource 2](): *Name of Cohort Member* Summary of Comment or Response\n",
    "- [Resource 2](): *Name of Cohort Member* Summary of Comment or Response\n",
    "\n",
    "### What is 'assembly'?\n",
    "- [Resource 1](): *Name of Cohort Member* Summary of Comment or Response\n",
    "- [Resource 2](): *Name of Cohort Member* Summary of Comment or Response\n",
    "- [Resource 2](): *Name of Cohort Member* Summary of Comment or Response\n",
    "\n",
    "### Is there a data equivalent to a literature review? Where you figure out what kind of data you need and is it part of this umbrella?\n",
    "- [Resource 1](): *Name of Cohort Member* Summary of Comment or Response\n",
    "- [Resource 2](): *Name of Cohort Member* Summary of Comment or Response\n",
    "- [Resource 2](): *Name of Cohort Member* Summary of Comment or Response\n",
    "\n",
    "### JSON Data is a bigger file than CSV. In what situations is JSON \"more efficient\"?\n",
    "- [Resource 1](): *Name of Cohort Member* Summary of Comment or Response\n",
    "- [Resource 2](): *Name of Cohort Member* Summary of Comment or Response\n",
    "- [Resource 2](): *Name of Cohort Member* Summary of Comment or Response\n",
    "\n",
    "### JSON and XML data have fields for every single entry. If all of your data is \"good\", why do you need all of that extra information, vs a CSV. And wouldn't that cause errors?\n",
    "- [Resource 1](): *Name of Cohort Member* Summary of Comment or Response\n",
    "- [Resource 2](): *Name of Cohort Member* Summary of Comment or Response\n",
    "- [Resource 2](): *Name of Cohort Member* Summary of Comment or Response\n",
    "\n",
    "### How can we define big versus small data? By data quantity? By its complexity? Something else?\n",
    "- [Resource 1](): *Name of Cohort Member* Summary of Comment or Response\n",
    "- [Resource 2](): *Name of Cohort Member* Summary of Comment or Response\n",
    "- [Resource 2](): *Name of Cohort Member* Summary of Comment or Response\n",
    "\n",
    "### Why do we need to have the line at the top of the xml file? What does that mean?\n",
    "- [Resource 1](): *Name of Cohort Member* Summary of Comment or Response\n",
    "- [Resource 2](): *Name of Cohort Member* Summary of Comment or Response\n",
    "- [Resource 2](): *Name of Cohort Member* Summary of Comment or Response\n",
    "\n",
    "### How did you know to print out a line in python? How did you get there?\n",
    "- [Resource 1](): *Name of Cohort Member* Summary of Comment or Response\n",
    "- [Resource 2](): *Name of Cohort Member* Summary of Comment or Response\n",
    "- [Resource 2](): *Name of Cohort Member* Summary of Comment or Response\n",
    "\n",
    "### What does RVEST do and what does it mean to scrape?\n",
    "- [Resource 1](): *Name of Cohort Member* Summary of Comment or Response\n",
    "- [Resource 2](): *Name of Cohort Member* Summary of Comment or Response\n",
    "- [Resource 2](): *Name of Cohort Member* Summary of Comment or Response\n",
    "\n",
    "### What does it mean that the data is structured? Structured data over the web?\n",
    "- [Resource 1](): *Name of Cohort Member* Summary of Comment or Response\n",
    "- [Resource 2](): *Name of Cohort Member* Summary of Comment or Response\n",
    "- [Resource 2](): *Name of Cohort Member* Summary of Comment or Response\n",
    "\n",
    "### How did you create the data from the survey?\n",
    "- [Resource 1](): *Name of Cohort Member* Summary of Comment or Response\n",
    "- [Resource 2](): *Name of Cohort Member* Summary of Comment or Response\n",
    "- [Resource 2](): *Name of Cohort Member* Summary of Comment or Response"
   ]
  },
  {
   "cell_type": "code",
   "execution_count": null,
   "metadata": {
    "collapsed": true
   },
   "outputs": [],
   "source": []
  }
 ],
 "metadata": {
  "kernelspec": {
   "display_name": "Python 3",
   "language": "python",
   "name": "python3"
  },
  "language_info": {
   "codemirror_mode": {
    "name": "ipython",
    "version": 3
   },
   "file_extension": ".py",
   "mimetype": "text/x-python",
   "name": "python",
   "nbconvert_exporter": "python",
   "pygments_lexer": "ipython3",
   "version": "3.6.1"
  }
 },
 "nbformat": 4,
 "nbformat_minor": 2
}
