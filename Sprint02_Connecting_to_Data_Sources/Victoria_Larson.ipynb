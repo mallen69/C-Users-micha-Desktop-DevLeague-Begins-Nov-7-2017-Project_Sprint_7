{
 "cells": [
  {
   "cell_type": "markdown",
   "metadata": {
    "collapsed": true
   },
   "source": [
    "# Tori's Parking Space Project\n",
    "#### 11/28/2017 - 12/7/2017 | Victoria Larson | Sprint 2\n",
    "#### SQLite...\n",
    "\n",
    "\n",
    "1 to 2 sentence description. The first 5 Sections are mandatory. Free form after that, but there are a couple of suggested categories you can use. But really document however you feel the most comfortable.\n",
    "\n",
    "## Skill Backlog User Story\n",
    "As a researcher, I need to understand SQL so that I can work with larger amounts of data more efficiently.\n",
    "\n",
    "## Project Proposal\n",
    "\n",
    "1. Figure out what the mail merge is talking about when referring to SQL and do something with that.\n",
    "2. **Create a SQLlite database from a spreadsheet** <- WINNER!!!\n",
    "3. Learn the basics of SQL and SQLlite.\n",
    "4. use web scraping tools so that I can automatically generate reports and save time. (Scrapy)?\n",
    "5. SQLlite to R - which means becoming more familiar with both SQL and R.\n",
    "\n",
    "#### Project Pitch \n",
    "For sprint 2 I would like to take public parking space data from: https://data.honolulu.gov/Transportation/City-Public-Parking-Stalls/cma8-twyj \n",
    "and upload it into SQLite. I dont really know how to work in SQlite yet so the other part of my project would be to learn the basics of SQLite and what the possibilties are when using it.\n",
    "\n",
    "\n",
    "\n",
    "## Key Questions\n",
    "- What does it mean to be file based vs server based? \n",
    "- What does it mean to be a strong da\n",
    "- Definitions I want to establish and clarify\n",
    "\n",
    "## Key Findings\n",
    "- A running list of things that I'm learning and don't want to forget\n",
    "\n",
    "\n",
    "\n",
    "## Gameplan\n",
    "Here is my overall approach \n",
    "1. Work with Justine since we have similar projects\n",
    "2. Google... a lot \n",
    "\n",
    "---\n",
    "\n",
    "## Day 1 Work\n",
    "\n",
    "Worked a little with datacamp today \n",
    "Two terms I have learned so far are:\n",
    "SELCT \n",
    "FROM \n",
    "it is important to put a ; at the end of the word so the word can be distinguished. - I also learned that ; is what ends the phrase - or something to that extent. \n",
    "\n",
    "I figured out how to upload data through the terminal. Here is what I typed into the terminal\n",
    "\n",
    "- sqlite> .mode csv\n",
    "- sqlite> .import /Users/victorialarson/Desktop/Dev\\ League/Repos/Sprint2/City_Public_Parking_Stalls.csv \n",
    "- Error: cannot open \"/Users/victorialarson/Desktop/Dev\\\"\n",
    "- sqlite> .import - - - - - -/Users/victorialarson/Desktop/City_Public_Parking_Stalls.csv city_parking (i learned that once you define the path you put a \"space\" and then what you want the file to be named. \n",
    "- sqlite> .schema\n",
    "\n",
    "This was the output (the table is now named city_parking): \n",
    "\n",
    "CREATE TABLE city_parking(\n",
    "  \"LOCATION\" TEXT,\n",
    "  \"Quantity\" TEXT,\n",
    "  \"METER NUMBERS\" TEXT,\n",
    "  \"RATE/HR\" TEXT,\n",
    "  \"TIMELIMIT\" TEXT,\n",
    "  \"TYPE\" TEXT\n",
    ");\n",
    "\n",
    "I played around with some SELECT and FROM functions\n",
    "\n",
    "EX: \n",
    "sqlite> SELECT LOCATION\n",
    "   ...> FROM city_parking;\n",
    "   \n",
    "Which printed: \n",
    "\n",
    "\"Aala Place\"\n",
    "\"Aala St.\"\n",
    "\"Alakea St.\"\n",
    "\"Alapai St.\"\n",
    "\"Aloha Drive\"\n",
    "\"Auahi St.\"\n",
    "Beachwalk\n",
    "\"Bethel St.\"\n",
    "\"Bishop St.\"\n",
    "\"Fort St.\"\n",
    "\n",
    "\n",
    "Moving on to more data camp work \n",
    "\n",
    "I learned about the DISTINCT keyword - which is when you want to filter out the duplicate values. \n",
    "\n",
    "\n",
    "\n",
    "## Day 2 Work\n",
    "\n",
    "We started today by creating a new database from scratch. we are also creating a table and then added our information from our tables into it. We eventually want to try to connect our tables. \n",
    "\n",
    "this website helped us make the database https://wiki.sqlitestudio.pl/index.php/User_Manual\n",
    "\n",
    "here is another helpful website \n",
    "https://stackoverflow.com/questions/36390869/how-do-i-add-data-to-a-table-in-sqlite-studio-error-occuring\n",
    "\n",
    "We found that adding in the data and then changing the data type maybe does not work. What we are going to do now is re import the data with correct and incorrect data. ie - a number(or integer) as a text and vise versa to see if it will be respected or not when we run it.\n",
    "\n",
    "Even if you delcare the information as a text it will still print it as a number or vise versa.\n",
    "\n",
    "We decided this is the least of our problems and that we are going to move on to more trying matters. \n",
    "\n",
    "We re-inputted the excel data. And now we are going to play with Queries!\n",
    "\n",
    "I found this website really helpful.\n",
    "https://digitalfellows.commons.gc.cuny.edu/2016/04/08/fun-times-with-sqlite-or-a-beginners-tutorial-to-data-management-and-databases-with-sql/\n",
    "\n",
    "I tried running a query. my code was: "
   ]
  },
  {
   "cell_type": "markdown",
   "metadata": {},
   "source": [
    "![](_victorialarson/pic2.jpeg)"
   ]
  },
  {
   "cell_type": "markdown",
   "metadata": {},
   "source": [
    "Finally figured out a way to set conditons by using the AND and OR functions - example below: "
   ]
  },
  {
   "cell_type": "markdown",
   "metadata": {
    "collapsed": true
   },
   "source": [
    "![](_victorialarson/pic3.jpeg)"
   ]
  },
  {
   "cell_type": "markdown",
   "metadata": {},
   "source": [
    "I found this to be another helpful link!\n",
    "https://github.com/treehouse/cheatsheets/blob/master/sql_basics/cheatsheet.md\n",
    "\n",
    "Since yesterday we had the question \"why does SQLite not error when the assigned data type is wrong\" i.e. 1 can be stored as a text and it will still add it instead of giving an error and it wont error. \n",
    "\n",
    "We tried changing the data type for quantity from numeric to text to see if it would error. "
   ]
  },
  {
   "cell_type": "markdown",
   "metadata": {},
   "source": [
    "![](_victorialarson/pic2)"
   ]
  },
  {
   "cell_type": "code",
   "execution_count": null,
   "metadata": {
    "collapsed": true
   },
   "outputs": [],
   "source": [
    "#### Results"
   ]
  },
  {
   "cell_type": "markdown",
   "metadata": {},
   "source": [
    "![](_victorialarson/pic1)"
   ]
  },
  {
   "cell_type": "code",
   "execution_count": null,
   "metadata": {
    "collapsed": true
   },
   "outputs": [],
   "source": [
    "## Peer Feedback on Day 3\n",
    "\n",
    "If you save a file and then pull it up in the command line will it show the data types as you set them in sqlite?"
   ]
  }
 ],
 "metadata": {
  "kernelspec": {
   "display_name": "Python 3",
   "language": "python",
   "name": "python3"
  },
  "language_info": {
   "codemirror_mode": {
    "name": "ipython",
    "version": 3
   },
   "file_extension": ".py",
   "mimetype": "text/x-python",
   "name": "python",
   "nbconvert_exporter": "python",
   "pygments_lexer": "ipython3",
   "version": "3.6.1"
  }
 },
 "nbformat": 4,
 "nbformat_minor": 2
}
