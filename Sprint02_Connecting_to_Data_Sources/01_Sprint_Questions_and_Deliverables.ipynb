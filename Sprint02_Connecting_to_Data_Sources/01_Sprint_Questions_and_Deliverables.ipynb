{
 "cells": [
  {
   "cell_type": "markdown",
   "metadata": {},
   "source": [
    "# Sprint 1: Data Formats and Terminology"
   ]
  },
  {
   "cell_type": "markdown",
   "metadata": {},
   "source": [
    "## Final Deliverables\n",
    "|Author|Project Title|overview|repo|docs|\n",
    "|---|---|---|---|---|\n",
    "|Hunter Heavilin|TBD|slides|docs|repo|\n",
    "|Jon Honda|TBD|slides|docs|repo|\n",
    "|Justine Espiritu|TBD|slides|docs|repo|\n",
    "|Michael Allen|TBD|slides|docs|repo|\n",
    "|Natalie Ramirez|TBD|slides|docs|repo|\n",
    "|Olina Cavedoni|TBD|slides|docs|repo|\n",
    "|Runjini Murthy|TBD|slides|docs|repo|\n",
    "|Sheuli Molla|TBD|slides|docs|repo|\n",
    "|Tori Larson|TBD|slides|docs|repo|"
   ]
  },
  {
   "cell_type": "markdown",
   "metadata": {},
   "source": [
    "## Pitches\n",
    "\n",
    "#### Data Model Formulation\n",
    "- Golden Globes / Trying to gauge bump from nomination, Award, Film, Financial (SQLite)\n",
    "- SQL / Tableau S&P 500 Sector, industry, reference companies\n",
    "- Build out a data model/relational database for Devleague student data. (all the way down to website)\n",
    "- Create a DataModel for the agricultural decision making App / Tool\n",
    "- How to build an optimal data model from scratch, vs existing data model\n",
    "\n",
    "\n",
    "#### SQL/SQlite/PostGres\n",
    "- Golden Globes / Trying to gauge bump from nomination, Award, Film, Financial (SQLite)\n",
    "- SQL / Tableau S&P 500 Sector, industry, reference companies\n",
    "- Learn the basics of SQL / SQLite, understand advantages over Excel\n",
    "- SQLite Database from Biki ridership data\n",
    "- Based on Devleague Model - pulls data from hubspot api into postgres\n",
    "- Joining the Awards show databases (query... what does it mean to join)\n",
    "- Learn the basics of SQL / SQLite (are they the same thing)\n",
    "- Upload multiple systems (other city) first year ridership data to compare to biki. You have to look at the number of stations. Benchmark\n",
    "- Move soil data into SQL and figure out what SQL is\n",
    "- Load 6 different revenue datasets into SQL to inspect\n",
    "- Asana - pulling in old data and merging (Devleague)\n",
    "\n",
    "\n",
    "#### Scraping\n",
    "- Retry webscraping and try to take S&P 500 financial data off of website R/Python\n",
    "- Python/R to grab data from a file and construct URL strings\n",
    "- Award Show - Scraping data from Oscars.com / boxoffice.com\n",
    "- Scrape Data off of the site / put it into SQL, make keys and IDs, move into tableau and make pretty charts in tableau\n",
    "- Use webscraping tools to automatically generate reports, script to collect data for a given associate/employee\n",
    "- Connecting SQLite and R - Parking Data\n",
    "- Parsing or Scraping, figure out what this is and is it relevant to other bikeshare data I can use.\n",
    "\n",
    "#### Bringing Data into Python and R\n",
    "- Award Shows - Connecting one SQLite database to R\n",
    "- Python to pull files off of website and parsing pdf to new file format.\n",
    "- Connecting SQLite and R - Parking Data\n",
    "- Python/R to grab data from a file and construct URL strings\n",
    "- Python/R adding data from website and appending to existing data collection\n",
    "- Take existing end-of-course survey, begin to look at in R.\n",
    "- Google Forms, Script to read in R\n",
    "\n",
    "#### Api Connection / Web Connection\n",
    "- Mail Merge (Word) - SQL (VM?)\n",
    "- Google Forms, Script to read in R\n",
    "- Query City and County Budget Information (API or Spreadsheets), transform into CSV / Database (Flat vs Hierarchical). Command line for CSV, Command line at SQL (Selects, Joins)\n",
    "- City Data / Parking Spots, SQLite database from spreadsheet\n",
    "- Venmo public feed / API to pull the feed, how many times a day to people transact - can you see networks\n",
    "- Mac Pages document uploaded to Google Drive, Tableau to extract data from google drive. (set up for analytics in next sprint)\n",
    "- Quandl API to get closing metal prices and closing day mining stock prices and loading into SQL. Querying for a single day - (How do they vary together)\n",
    "- Mine the text comments on Facebook to measure positive and negative sentiment\n",
    "- SEC Edgar Service, Data is given in XRBL, financial data format. Python Libraries to get XRBL data and write to a database.\n",
    "- Quandl API to look at closing stock price data and load into a database. \n",
    "\n",
    "#### Future Topics\n",
    "- R Track calculates the mean for end-of-sprint survey questions, CSV file / Working Data - Get it into Tableau to present it\n",
    "- Macro to clean the end of survey data - look at the MACRO and cleaning in Excel\n",
    "- Tableau / Python, take all of the companies make graphs of their financial statement data\n",
    "- Write a script in R that cleans any field that is not filled out\n",
    "\n"
   ]
  },
  {
   "cell_type": "markdown",
   "metadata": {},
   "source": [
    "## Questions\n",
    "\n",
    "### What is a file-based database vs a server-based database?\n",
    "- [Resource 1](): *Name of Cohort Member* Summary of Comment or Response\n",
    "- [Resource 2](): *Name of Cohort Member* Summary of Comment or Response\n",
    "- [Resource 2](): *Name of Cohort Member* Summary of Comment or Response\n",
    "\n"
   ]
  },
  {
   "cell_type": "code",
   "execution_count": null,
   "metadata": {
    "collapsed": true
   },
   "outputs": [],
   "source": []
  }
 ],
 "metadata": {
  "kernelspec": {
   "display_name": "Python 3",
   "language": "python",
   "name": "python3"
  },
  "language_info": {
   "codemirror_mode": {
    "name": "ipython",
    "version": 3
   },
   "file_extension": ".py",
   "mimetype": "text/x-python",
   "name": "python",
   "nbconvert_exporter": "python",
   "pygments_lexer": "ipython3",
   "version": "3.6.1"
  }
 },
 "nbformat": 4,
 "nbformat_minor": 2
}
