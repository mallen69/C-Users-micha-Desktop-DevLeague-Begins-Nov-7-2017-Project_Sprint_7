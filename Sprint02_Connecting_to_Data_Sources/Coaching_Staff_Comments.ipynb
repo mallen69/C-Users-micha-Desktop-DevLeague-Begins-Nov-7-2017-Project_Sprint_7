{
 "cells": [
  {
   "cell_type": "markdown",
   "metadata": {
    "collapsed": true
   },
   "source": [
    "# Sprint #2 Connecting To Data Sources\n",
    "## Coach Comments on Cohort Projects\n",
    "\n",
    "### General Comments\n",
    "Would like the documentation formats to be just\n",
    "- Title: \n",
    "- Description:\n",
    "- What I learned:\n",
    "\n",
    "** Journal **\n",
    "- Day 1:\n",
    "- Day 2:\n",
    "- Day 3:\n",
    "- Day 4:\n",
    "- Day 5:\n",
    "\n",
    "- *Key Findings, Gameplan, etc are optional*\n",
    "\n"
   ]
  },
  {
   "cell_type": "markdown",
   "metadata": {
    "collapsed": true
   },
   "source": [
    "### Hunter Heaivilin - [project documentation](Hunter_Heaivilin.ipynb)\n",
    "Ben - 12/4/17: I didn't see the scraping stuff you were working on in your project documentation, but I think you were getting pretty far along into a good example. You did a good job hacking and trying out different things, but I think you would get a LOT of mileage out of a quick foray into learning about CSS selectors at a more fundamental level\n",
    "\n",
    "https://www.w3schools.com/cssref/css_selectors.asp\n",
    "\n",
    "I basically only ever use the first 6 (or the ones defined in CSS v1). That tends to get you where you need to go.\n",
    "\n",
    "As far as your completed project, based on your roadmap, I think we should find a way to tie it to an actual deliverable for work or research. It might have to be small, but let's try to scope out a useful project out of what you have so far."
   ]
  },
  {
   "cell_type": "markdown",
   "metadata": {
    "collapsed": true
   },
   "source": [
    "### Jon Honda - [project documentation](Jon_Honda.ipynb)\n",
    "\n",
    "Ben - 12/4/17: I didn't see an update in your sprint docs, but your project description was pretty well fleshed out in your road map. SQLite data commands and connecting to the QUANDL API will be a good exercise. I'm guessing the data model you'll need to set up will be a little challenge so good project there. \n",
    "\n",
    "If you can get this set up I think it's just a matter of presenting your process and breaking down the pieces of the readme to illustrate what you know about APIs and SQL."
   ]
  },
  {
   "cell_type": "markdown",
   "metadata": {
    "collapsed": true
   },
   "source": [
    "### Justine Espiritu - [project documentation](Justine_Espiritu.ipynb)\n",
    "Ben - 12/4/17: I didn't see an update in your sprint docs, but it looked like you and Tori made good progress loading data into your spreadsheets using SQLite and SQLite studio. The 2nd pitch from your documentation looks right on track with where you're at:\n",
    "\n",
    "Project Pitch Idea 2: Creating a SQLite database from my ridership data spreadsheet. I want to do this because it codes observations and may be able to allow me to look at the data and get all the info I want in a quicker snapshot because I can filter out certain fields and only see the relevent data\n",
    "\n",
    "From here, I recommend developing a few queries to explore the data you have loaded. I also recommend trying to get the data types of the fields to reflect the data. Then perhaps doing an export of a query you use to sort or filter the data."
   ]
  },
  {
   "cell_type": "markdown",
   "metadata": {
    "collapsed": true
   },
   "source": [
    "### Michael Allen - [project documentation](Michael_Allen.ipynb)\n",
    "Ben - 12/4/17: I'm having trouble following what you have posted in your documentation. It sounds like you're doing something interesting with google sheets, but most of what I'm finding is console output and not seeing the working code. I recommend cleaning up your documentation so it's easier for you to follow what you're doing. If you want to talk about about what's useful to save and what's not, we can go through that as well. But as a general rule, if no one else can read it, it's probably not that useful.\n",
    "\n",
    "What I gathered is that you're developing an R script to connect to Google Docs. I see some R code mixed in there with the rest of the comments. I liked the description you wrote up about R Scripts. Another interesting topic for you in the context of this project would be to understand / write up how R stores data when it is read in. This could be both the results of your connection to google spreadsheets or the outcome of your load from the last sprint when you connected to a CSV file\n",
    "\n",
    "In the big picture, I think you're gravitating towards understanding R which I think is probably a good fit for the survey work and understanding you're already bringing in. There's a good [R book](https://github.com/devleague/BigDataAnalyst_Library/blob/master/books/rinanutshell.pdf) in the Class library that I linked to previously. I recommend going through that and all of the datacamp R Libraries to get familiar with various approaches, explanations and skills in your out of class time."
   ]
  },
  {
   "cell_type": "markdown",
   "metadata": {
    "collapsed": true
   },
   "source": [
    "### Natalie Ramirez - [project documentation](Natalie_Ramirez.ipynb)\n",
    "Ben - 12/4/17: Nice job getting the API connection started and posting your python code. If the code is being run as written, the issue with the blank response could be a matter of using your personal API_KEY and USRID values.\n",
    "\n",
    "Once you are working in postgres, what's your thought on what format the data will take? Are you waiting to see what you get back from all three API responses? Perhaps your final product could be the database schema for your data sources, even if you don't get to the step of loading them. The connection you set up is a great example. "
   ]
  },
  {
   "cell_type": "markdown",
   "metadata": {
    "collapsed": true
   },
   "source": [
    "### Olina Cavedoni - [project documentation](Olina_Cavedoni.ipynb)\n",
    "Ben - 12/4/17: Since you're having computer issues, I think there are two things you can work on to move your project and high level goals forward\n",
    "\n",
    "1.) Work with Justin to develop a remote workflow and do some of your SQL development remotely. This is a good task to do at the command line primarily. Especially if using mysql. Can make your data models that you would want to store your data in\n",
    "\n",
    "2.) You mentioned client work in your road map. A lot of client work will be project scoping. If you're interested in visualization of company data in particular, you could work on a project scope exercise to propose some client work (perhaps to your colleagues at MKThink? Or clients of your pretty charts) about why they would find them useful"
   ]
  },
  {
   "cell_type": "markdown",
   "metadata": {
    "collapsed": true
   },
   "source": [
    "### Runjini Murthy - [project documentation](Runjini_Murthy.ipynb)\n",
    "Ben - 12/4/17: Great title, I would suggest subtitling with the task for this sprint - perhaps, \"Building and loading a film ROI data model in SQLite\"\n",
    "\n",
    "Your Day one work could include some of the queries and SQLite commands you used to import data into CSV as well as build tables, both of those were interesting bits of progress.\n",
    "\n",
    "Given your project title, I would also propose adding some background on the overall goal. for example, if the objective is to calculate ROI, the ROI formula and data you need might be something you want to describe in the data you are seeking: https://www.investopedia.com/terms/r/returnoninvestment.asp\n",
    "\n",
    "[ Gain from Investment (Global / Domestic Box Office Take) - Cost of Investment (Film Budget) ] / Cost of Investment ( Film Budget)\n",
    "\n",
    "You could describe the final table you would need to create in order to calculate ROI.\n",
    "\n",
    "Then You could list the data you find that are available and how you would join those tables. At that point if the data are not available, I would suggest synthesizing it (making it up based on best available data and guesses. "
   ]
  },
  {
   "cell_type": "markdown",
   "metadata": {
    "collapsed": true
   },
   "source": [
    "### Sheuli Molla - [project documentation](Sheuli_Molla.ipynb)\n",
    "Ben - 12/4/17: No commits to review"
   ]
  },
  {
   "cell_type": "markdown",
   "metadata": {},
   "source": [
    "### Tori Larson - [project documentation](Victoria_Larson.ipynb)\n",
    "Ben - 12/4/17: No commits to review"
   ]
  },
  {
   "cell_type": "code",
   "execution_count": 1,
   "metadata": {},
   "outputs": [
    {
     "name": "stdout",
     "output_type": "stream",
     "text": [
      "IPython will make a temporary file named: /var/folders/nz/cfftrr3978gc1cmmr3_zlsjh0000gn/T/ipython_edit_3wxpzhy8/ipython_edit_h77zbra3.py\n"
     ]
    }
   ],
   "source": [
    "edit"
   ]
  },
  {
   "cell_type": "code",
   "execution_count": null,
   "metadata": {
    "collapsed": true
   },
   "outputs": [],
   "source": []
  }
 ],
 "metadata": {
  "kernelspec": {
   "display_name": "Python 3",
   "language": "python",
   "name": "python3"
  },
  "language_info": {
   "codemirror_mode": {
    "name": "ipython",
    "version": 3
   },
   "file_extension": ".py",
   "mimetype": "text/x-python",
   "name": "python",
   "nbconvert_exporter": "python",
   "pygments_lexer": "ipython3",
   "version": "3.6.1"
  }
 },
 "nbformat": 4,
 "nbformat_minor": 2
}
