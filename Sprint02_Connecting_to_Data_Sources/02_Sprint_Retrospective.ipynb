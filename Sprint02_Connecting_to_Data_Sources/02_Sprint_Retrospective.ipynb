{
 "cells": [
  {
   "cell_type": "markdown",
   "metadata": {},
   "source": [
    "# Sprint Retrospective - Connecting to Data Sources"
   ]
  },
  {
   "cell_type": "markdown",
   "metadata": {},
   "source": [
    "Dear BDA Cohort,\n",
    "\n",
    "I am, again, really impressed with the advance in technical skills you are demonstrating over the course of this bootcamp. We've just completed our first module on Data formats, and I believe that you have, as a cohort developed a good survey of all of the issues you will encounter related to the topic and a collection of projects and boilerplate work that you can build on in future sprints.\n",
    "\n",
    "Our last sprint as well as our last sprint retrospective lead to some updates to the sprint process that I think will allow us to use the classroom time more efficiently, and better keep us on track toward our respective ultimate goals as practitioners in this field. \n",
    "\n",
    "Thanks to all of your suggestions and a lot of help from Tori Larson, I've updated the sprint schedule\n",
    "https://github.com/devleague/BigDataAnalyst_Library/blob/master/Init_and_setup/Sprint%20Board_Updated_2ft_x_3ft.pdf\n",
    "\n",
    "and the Sprint Documentation Template\n",
    "https://github.com/devleague/BigDataAnalyst_ProjectDocumentation/blob/master/Sprint03_Data_Operation/Hunter_Heaivilin.ipynb\n",
    "\n",
    "to structure a more formal process. Here's a quick rundown of a few of the changes\n",
    "\n",
    "### Getting to project work faster. \n",
    "\n",
    "A \"flailing\" prototyping period starts in the first hour of the first day with an accelerated process of getting to initial pitches. \n",
    "\n",
    "### Replacing multiple pitch generation with structured research time\n",
    "\n",
    "developing a customized list of examples to draw work or inspiration from on the first day\n",
    "\n",
    "### More structured pair activities.\n",
    "\n",
    "Explicit pair work on the first, second, and fifth days of the sprint to spread out the benefit of pair feedback and communication across more time and more stages of project development\n",
    "\n",
    "### Maintaining useful technical demonstrations from the class\n",
    "\n",
    "Several people expressed that the work in progress demonstrations were useful, and useful early in the process. Final presentations expressed a competing desire to address big picture conceptual issues and more practical technical learning and technique. These are explicitly separated to allow some time on both, as they are both equally important to skill development\n",
    "\n",
    "### More targeted and better defined presentations \n",
    "\n",
    "Project Pitches, Work in Progress Updates, Project Highlights, and Sprint Review, provide multiple opportunities to communicate your work to a bigger group than just your pair, but are targeted to specific tasks to reduce redundancy. \n",
    "\n",
    "### Spreading out delivery expectations\n",
    "\n",
    "Rather than all deliverables be packaged together at the end, they are now structured to be made periodically throughout the sprint, to allow \"project development\" time to track more naturally to the focus of each stage of the sprint.\n",
    "\n",
    "The first two days will focus on the delivery of a plan. The second two days, the delivery of a technical project, and the third two days on delivering learning resources and integration. **Essentially a small conference.**\n",
    "\n",
    "### Capturing all of the things that couldn't be finished in project\n",
    "\n",
    "One common frustration appears to be not having enough time to execute all of the ideas that one can think of during the project. As we develop skills, some of those ideas will also get easier at later stages in the sprint as well as possibly be project ideas for later topics. Capturing these ideas in both roadmaps and project deliverables will start to give us an outlet for these unrealized projects\n",
    "\n",
    "### Continuous Improvement of End-of-Course Deliverables\n",
    "As we discussed in class, we are essentially developing 3 things over the course of this class.\n",
    "1.) A resume (i.e. portfolio)\n",
    "2.) A textbook (i.e. a shared resource with what we have collectively learned - our information legacy)\n",
    "3.) A facilitation tool (i.e. a set of profiles that lays out your goals, progress, and interests, so that cohort members and coaching staff have information on how to best intervene).\n",
    "\n",
    "As we tweak the format of these deliverables, hopefully their quality and thus their usefulness improves. We've changed the location and structure of the roadmaps, the structure of documentation, and are working to refine the location and structure of sprint review presentations. \n",
    "\n",
    "I'd still like to find more time to discuss roadmaps, and a few other things.\n",
    "\n",
    "### onward!\n",
    "\n",
    "Thanks for your continued input and for all of your hard work. I'll keep working to deliver the most out of every hour we spend together in class. Let me know if there are any other improvements you can think of.\n"
   ]
  },
  {
   "cell_type": "code",
   "execution_count": null,
   "metadata": {
    "collapsed": true
   },
   "outputs": [],
   "source": []
  }
 ],
 "metadata": {
  "kernelspec": {
   "display_name": "Python 3",
   "language": "python",
   "name": "python3"
  },
  "language_info": {
   "codemirror_mode": {
    "name": "ipython",
    "version": 3
   },
   "file_extension": ".py",
   "mimetype": "text/x-python",
   "name": "python",
   "nbconvert_exporter": "python",
   "pygments_lexer": "ipython3",
   "version": "3.6.1"
  }
 },
 "nbformat": 4,
 "nbformat_minor": 2
}
