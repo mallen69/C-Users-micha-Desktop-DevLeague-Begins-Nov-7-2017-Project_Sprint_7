{
 "cells": [
  {
   "cell_type": "markdown",
   "metadata": {
    "collapsed": true
   },
   "source": [
    "# Connecting Multiple Data Sources to SQL DB\n",
    "#### 11/29/17 | Natalie | Sprint 2\n",
    "#### Description\n",
    "This project connects multiple data sources with DevLeague student information for DevLeague and pulls data into one SQL database.\n",
    "\n",
    "## Skill Backlog User Story\n",
    "As a the Director of Technology I need to identify errors and inconsistencies in the data so that I can develop solutions to address them, and possibly their source.\n",
    "\n",
    "## Project Proposal\n",
    "Retrieve all existing student data from multiple data sources and place them in one central database using a Python script and PostgreSQL. Data is currently stored in Hubspot, Asana, and a google drive.\n",
    "\n",
    "\n",
    "## Key Questions\n",
    "- How to access the three sources of data using python and tableau\n",
    "\n",
    "## Key Findings\n",
    "- How to write a python script from command line, since I'm only taking data in at this step, I don't need to create a full application. A script should work fine.\n",
    "\n",
    "## Gameplan\n",
    "Here is my overall approach \n",
    "1. Determine what python libraries I can use to pull in data from Hubspot's api.\n",
    "2. Determine how to execute command line scripts in python.\n",
    "3. Create a python script to grab data from hubspots api.\n",
    "3. Determine how to create a postgres db in python.\n",
    "4. Determine how to read in api data and store in sql bd.\n",
    "\n",
    "---\n",
    "\n",
    "## Day 1 Work\n",
    "\n",
    "Initially, I tried to create a python application, however I realized that since I'm only taking data in, I don't need a huge framework or application to do so. I can just create a script that will pull data from an api and store it to a database. My first step will just be to work with one data source and just try to get data in. I will then work on creating the db. "
   ]
  },
  {
   "cell_type": "code",
   "execution_count": 45,
   "metadata": {},
   "outputs": [
    {
     "name": "stdout",
     "output_type": "stream",
     "text": [
      "b'{\"contacts\":[],\"has-more\":false,\"vid-offset\":0}'\n",
      "[]\n"
     ]
    }
   ],
   "source": [
    "import urllib.request, json\n",
    "\n",
    "# Store api key value into variable\n",
    "APIKEY_VALUE = \"my api key\"\n",
    "\n",
    "# concat query string with api key\n",
    "APIKEY = \"?hapikey=\" + APIKEY_VALUE\n",
    "\n",
    "#user id\n",
    "usrid = \"&userID=000000\"\n",
    "\n",
    "# hs api end point stored to a variable\n",
    "HS_API_URL = \"http://api.hubapi.com\"\n",
    "\n",
    "def get_total_number_of_contacts():\n",
    "    # First, we build the correct url\n",
    "    xurl = \"/contacts/v1/lists/all/contacts/all\"\n",
    "    url = HS_API_URL + xurl + APIKEY + usrid\n",
    "    # Now we use urllib to open the url and read it\n",
    "    response = urllib.request.urlopen(url).read()\n",
    "    print(response)\n",
    "    # Transform the response, a JSON object, into a Python dictionary object\n",
    "    statistics = json.loads(response)\n",
    "    # Finally, return the number of contacts\n",
    "    return statistics[\"contacts\"]\n",
    "\n",
    "print (get_total_number_of_contacts())"
   ]
  },
  {
   "cell_type": "markdown",
   "metadata": {
    "collapsed": true
   },
   "source": [
    "## Day 2 Work\n",
    "My api script to Hubspot works, however it gives me back an empty dataset with zero records in it."
   ]
  },
  {
   "cell_type": "markdown",
   "metadata": {},
   "source": [
    "## Peer Feedback on Day 3\n",
    "\n",
    "After talking it over with a peer, I received the following feedback and decided to make these changes"
   ]
  },
  {
   "cell_type": "markdown",
   "metadata": {},
   "source": [
    "## Here are some overall notes on the skills I learned\n",
    "And perhaps some stream of consciousness notes about what I did, and other questions I might have"
   ]
  },
  {
   "cell_type": "code",
   "execution_count": null,
   "metadata": {
    "collapsed": true
   },
   "outputs": [],
   "source": []
  }
 ],
 "metadata": {
  "kernelspec": {
   "display_name": "Python 3",
   "language": "python",
   "name": "python3"
  },
  "language_info": {
   "codemirror_mode": {
    "name": "ipython",
    "version": 3
   },
   "file_extension": ".py",
   "mimetype": "text/x-python",
   "name": "python",
   "nbconvert_exporter": "python",
   "pygments_lexer": "ipython3",
   "version": "3.6.1"
  }
 },
 "nbformat": 4,
 "nbformat_minor": 2
}
