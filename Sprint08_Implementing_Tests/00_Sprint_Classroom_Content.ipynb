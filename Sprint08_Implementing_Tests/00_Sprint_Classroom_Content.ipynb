{
 "cells": [
  {
   "cell_type": "markdown",
   "metadata": {},
   "source": [
    "# 8. Estimates, Hypothesis Tests and Experiments\n",
    "*Module: Experimental Design (Sprint 2 of 2)*\n",
    "\n",
    "*Experiments and the scientific method are at the heart of how we “know” what we know when it comes to data analysis. But how does it translate to the different situations we encounter in practice and what are some common pitfalls to be aware of?*"
   ]
  },
  {
   "attachments": {},
   "cell_type": "markdown",
   "metadata": {},
   "source": [
    "|Data Journalist| Data Engineer | Statistical Modeler| Business Analyst |\n",
    "|:----------------:|:----:|:------------------:|:----:|\n",
    "|I need to understand how **causation is established** in scientific studies so that I can interpret studies and focus my analyses|I need to be able to **implement experiment-driven algorithms** such as (A/B testing and Epsilon Greedy) so that I can provide a testing capability|I need to understand how to **isolate factors and design appropriate experiments** so that I can answer a wide range of research questions|I need to identify opportunities to test and **optimize with techniques such as A/B Testing and Epsilong Greedy** so that my organization can continuously improve|\n",
    "|I need to understand **how population characteristics are inferred** from their samples so I can draw accurate conclusions about third party research as well as my own analysis|I need to understand the computing and analytical performance **tradeoffs between different levels of sampling** so that I can optimize for different objectives|I need to understand the **kinds of statistical hypotheses I can make as well as the tests they apply to** so that I can answer a variety of research questions|I need to understand how to **construct a testable hypothesis** about the populations represented by my business data so that I can drive strategic decisions about novel scenarios|"
   ]
  },
  {
   "cell_type": "markdown",
   "metadata": {},
   "source": [
    "## Analytical Process Big Picture\n",
    "![Curriculum Summary](../curriculum_summary.png)"
   ]
  },
  {
   "cell_type": "markdown",
   "metadata": {},
   "source": [
    "## Tests are powerful in any kind of learning\n",
    "- How do have we used tests so far, intentionally or not?\n",
    "- How does that apply to analysis of data?\n",
    "- Do tests and experimental design matter if we are only analyzing pre-collected data?\n"
   ]
  },
  {
   "attachments": {},
   "cell_type": "markdown",
   "metadata": {},
   "source": [
    "\n",
    "## Key Questions\n",
    "- How do we estimate characteristics of the real world using data\n",
    "- How do we express the uncertainty in our estimates?\n",
    "- What are the different ways our estimate can be wrong?\n",
    "- How do we choose our estimates?\n",
    "- What kinds of models can we create from data?\n",
    "- How do we create models from the results of our experiments?\n",
    "\n",
    "## Key Concepts and Definitions\n",
    "- effect size\n",
    "- percentile\n",
    "- quantile\n",
    "- model\n",
    "- analytic distribution\n",
    "- empirical distribution\n",
    "- standard normal distribution\n",
    "\n",
    "- confidence interval\n",
    "- standard error\n",
    "- p-value\n",
    "- null hypothesis\n",
    "- alternative hypothesis\n",
    "\n",
    "- estimation\n",
    "- estimator\n",
    "- mean squared error\n",
    "- maximum likelood estimator\n",
    "\n",
    "- false positive, false negative\n",
    "- type1 / type 2 error\n",
    "- internal / external validity\n",
    "- threats to validity\n",
    "- experimental designs\n",
    "- quasi-experimental designs\n",
    "- natural experiment\n",
    "\n",
    "\n",
    "## Themes of this Sprint\n",
    "- Estimates\n",
    "- Uncertainty\n",
    "- Hypothesis Tests\n",
    "- Validity\n",
    "- Tests / Experiments / Knowledge\n",
    "- Causality and Relationships\n",
    "- Sources of Error\n",
    "\n"
   ]
  },
  {
   "cell_type": "markdown",
   "metadata": {},
   "source": [
    "# Experimental Design Video Resources and Courses\n",
    "\n",
    "https://www.coursera.org/learn/real-life-data-science/lecture/Getan/experimental-design-and-observational-analysis\n",
    "\n",
    "https://www.coursera.org/learn/data-scientists-tools/lecture/NUYrv/experimental-design\n",
    "\n",
    "https://www.youtube.com/watch?v=vSXOJnGNtM4\n",
    "\n",
    "https://www.coursera.org/learn/real-life-data-science/lecture/LU8XW/a-b-testing\n",
    "\n",
    "https://www.udacity.com/course/ab-testing--ud257"
   ]
  },
  {
   "cell_type": "markdown",
   "metadata": {},
   "source": [
    "## Related / Correlation / Causation\n",
    ">If variables X and Y (e.g., the number of televisions (X) in various countries and the infant mortality rate (Y) of those countries) are found to be associated, then there are three basic possibilities. \n",
    "- First X could be causing Y (televisions lead to more health awareness, which leads to better prenatal care) \n",
    "- or Y could be causing X (high infant mortality leads to attraction of funds from richer countries, which leads to more televisions) \n",
    "- or unknown factor Z could be causing both X and Y (higher wealth in a country leads to more televisions and more prenatal care clinics). \n",
    "\n",
    ">It is worth memorizing these three cases, because they should always be considered when association is found in an observational study as opposed to a randomized experiment. (It is also possible that X and Y are related in more complicated ways including in large networks of variables with feedback loops.)\n",
    "\n",
    ">Causation (“X causes Y”) can be logically claimed if X and Y are associated, and X precedes Y, and no plausible alternative explanations can be found, par- ticularly those of the form “X just happens to vary along with some real cause of changes in Y” (called confounding)."
   ]
  },
  {
   "cell_type": "markdown",
   "metadata": {},
   "source": [
    "## Experimental Design\n",
    "http://www.statisticshowto.com/experimental-design/\n",
    "    \n",
    "> Experimental design is a way to carefully plan experiments in advance so that your results are both objective and valid. The terms “Experimental Design” and “Design of Experiments” are used interchangeably and mean the same thing. However, the medical and social sciences tend to use the term “Experimental Design” while engineering, industrial and computer sciences favor the term “Design of experiments.”"
   ]
  },
  {
   "cell_type": "markdown",
   "metadata": {},
   "source": [
    "## Confirmatoratory vs Exploratory Research \n",
    "https://en.wikipedia.org/wiki/Research_design\n",
    "\n",
    ">Confirmatory research tests a priori hypotheses — outcome predictions that are made before the measurement phase begins. Such a priori hypotheses are usually derived from a theory or the results of previous studies. The advantage of confirmatory research is that the result is more meaningful, in the sense that it is much harder to claim that a certain result is generalizable beyond the data set. The reason for this is that in confirmatory research, one ideally strives to reduce the probability of falsely reporting a coincidental result as meaningful. This probability is known as α-level or the probability of a type I error.\n",
    "\n",
    ">Exploratory research on the other hand seeks to generate a posteriori hypotheses by examining a data-set and looking for potential relations between variables. It is also possible to have an idea about a relation between variables but to lack knowledge of the direction and strength of the relation. If the researcher does not have any specific hypotheses beforehand, the study is exploratory with respect to the variables in question (although it might be confirmatory for others). The advantage of exploratory research is that it is easier to make new discoveries due to the less stringent methodological restrictions. Here, the researcher does not want to miss a potentially interesting relation and therefore aims to minimize the probability of rejecting a real effect or relation; this probability is sometimes referred to as β and the associated error is of type II. In other words, if the researcher simply wants to see whether some measured variables could be related, he would want to increase the chances of finding a significant result by lowering the threshold of what is deemed to be significant.\n",
    "\n",
    ">Sometimes, a researcher may conduct exploratory research but report it as if it had been confirmatory ('Hypothesizing After the Results are Known', HARKing—see Hypotheses suggested by the data); this is a questionable research practice bordering on fraud."
   ]
  },
  {
   "cell_type": "markdown",
   "metadata": {},
   "source": []
  },
  {
   "cell_type": "markdown",
   "metadata": {},
   "source": []
  },
  {
   "cell_type": "markdown",
   "metadata": {},
   "source": [
    "\n",
    "## Experimental Design and Modeling relationships\n",
    "\n",
    ">Most formal (confirmatory) statistical analyses are based on models. Statis- tical models are ideal, mathematical representations of observable characteristics. Models are best divided into two components. **The structural component of the model (or structural model) specifies the relationships between explana- tory variables and the mean (or other key feature) of the outcome variables**. The **“random” or “error” component of the model (or error model) characterizes the deviations of the individual observations from the mean**. (Here, “error” does not indicate “mistake”.) The two model components are also called **“signal” and “noise”** respectively. \n",
    "\n",
    ">Statisticians realize that no mathematical models are perfect representations of the real world, but some are close enough to reality to be useful. A full description of a model should include all assumptions being made because statistical inference is impossible without assumptions, and sufficient deviation of reality from the assumptions will invalidate any statistical inferences.\n",
    "\n",
    ">A slightly different point of view says that models describe how the distribution of the outcome varies with changes in the explanatory variables.\n",
    "\n",
    " \n",
    "> **Statistical models have both a structural component and a random component which describe means and the pattern of deviation from the mean, respectively.**\n",
    "\n",
    "\n",
    "## Construct Validity\n",
    "> Construct validity is a characteristic of devised measurements that describes how well the measurement can stand in for the scientific concepts or “constructs” that are the real targets of scientific learning and inference."
   ]
  },
  {
   "cell_type": "markdown",
   "metadata": {},
   "source": []
  },
  {
   "cell_type": "markdown",
   "metadata": {},
   "source": []
  },
  {
   "cell_type": "markdown",
   "metadata": {},
   "source": []
  },
  {
   "cell_type": "markdown",
   "metadata": {},
   "source": []
  },
  {
   "cell_type": "markdown",
   "metadata": {
    "collapsed": true
   },
   "source": []
  },
  {
   "cell_type": "markdown",
   "metadata": {},
   "source": [
    "# Internal Validity (concept for Next Sprint)\n",
    "http://www.indiana.edu/~educy520/sec5982/week_9/520in_ex_validity.pdf\n",
    "\n",
    ">Why is Internal Validity Important?\n",
    "We often conduct research in order to determine\n",
    "cause-and-effect relationships.\n",
    "■ Can we conclude that changes in the independent\n",
    "variable caused the observed changes in the\n",
    "dependent variable?\n",
    "■ Is the evidence for such a conclusion good or poor?\n",
    "■ If a study shows a high degree of internal validity then\n",
    "we can conclude we have strong evidence of\n",
    "causality.\n",
    "■ If a study has low internal validity, then we must\n",
    "conclude we have little or no evidence of causality.\n",
    "\n",
    "\n",
    "# Necessary Conditions for Causality\n",
    ">Three conditions that are necessary to claim that\n",
    "variable A causes changes in variable B:\n",
    "• Relationship condition: Variable A and variable B\n",
    "must be related.\n",
    "• Temporal Antecedence condition: Proper time order\n",
    "must be established.\n",
    "• Lack of Alternative Explanation Condition:\n",
    "Relationship between variable A and variable B\n",
    "must not be attributable to a confounding,\n",
    "extraneous variable.\n",
    "\n",
    "\n",
    ">Threats to internal validity compromise our confidence\n",
    "in saying that a relationship exists between the\n",
    "independent and dependent variables.\n",
    "\n",
    ">Threats to external validity compromise our\n",
    "confidence in stating whether the study’s results are\n",
    "applicable to other groups."
   ]
  },
  {
   "cell_type": "markdown",
   "metadata": {},
   "source": []
  },
  {
   "cell_type": "code",
   "execution_count": null,
   "metadata": {
    "collapsed": true
   },
   "outputs": [],
   "source": []
  },
  {
   "cell_type": "code",
   "execution_count": null,
   "metadata": {
    "collapsed": true
   },
   "outputs": [],
   "source": []
  },
  {
   "cell_type": "code",
   "execution_count": null,
   "metadata": {
    "collapsed": true
   },
   "outputs": [],
   "source": []
  }
 ],
 "metadata": {
  "kernelspec": {
   "display_name": "Python 3",
   "language": "python",
   "name": "python3"
  },
  "language_info": {
   "codemirror_mode": {
    "name": "ipython",
    "version": 3
   },
   "file_extension": ".py",
   "mimetype": "text/x-python",
   "name": "python",
   "nbconvert_exporter": "python",
   "pygments_lexer": "ipython3",
   "version": "3.6.1"
  }
 },
 "nbformat": 4,
 "nbformat_minor": 2
}
