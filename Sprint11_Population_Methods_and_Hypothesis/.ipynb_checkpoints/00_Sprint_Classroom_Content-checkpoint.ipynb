{
 "cells": [
  {
   "cell_type": "markdown",
   "metadata": {},
   "source": [
    "# Sprint Title\n",
    "\n",
    "## Key Concepts and Definitions\n",
    "\n",
    "## Key Questions\n",
    "\n",
    "## Project Ideas\n",
    "\n",
    "From Justin on Both Inferential Statistics Sprints\n",
    "Some background on Bayes, Port-Royal Logic,  early probability theory, Kolomogorov, frequentism. All of these techniques emerged through a series of trial and error over the past few centuries. \n",
    "\n",
    "- Some visualizations from this: http://setosa.io/ What are these visualizations communicating?\n",
    "- Population estimated via sample?\n",
    "- Central Limit Theorem and sampling error\n",
    "- Frequency vs. ‘Belief’\n",
    "- What is a statistical test?\n",
    "- What are we testing?\n",
    "- Z’s, p’s and t’s\n",
    "- Confidence intervals’\n",
    "- Conditional probabilities\n",
    "- Simulate a coin-flipping experiment and demonstrate conditional probability\n",
    "- Linear regressions and linearity assumptions\n",
    "        - Generate dummy data\n",
    "        - Plot relationship between x and y: Is there a linear relationship between x and y?\n",
    "        - Plot distribution of x: Is the covariate normally distributed?\n",
    "        - Plot the correlation matrix: What are correlation coefficients?\n",
    "        - Plot the residuals: are our errors heteroskedastic? \n",
    "- How can we deal with data that may be non-linear?\n",
    "- Let’s see if we can establish a relationship between education/training and income.\n",
    "- Gather  statistics on education and income from BLS\n",
    "- What can we say about this data? \n"
   ]
  },
  {
   "cell_type": "code",
   "execution_count": null,
   "metadata": {
    "collapsed": true
   },
   "outputs": [],
   "source": [
    "https://hackernoon.com/quick-intro-to-statistics-power-your-stories-with-data-a3a35785692b"
   ]
  }
 ],
 "metadata": {
  "kernelspec": {
   "display_name": "Python 3",
   "language": "python",
   "name": "python3"
  },
  "language_info": {
   "codemirror_mode": {
    "name": "ipython",
    "version": 3
   },
   "file_extension": ".py",
   "mimetype": "text/x-python",
   "name": "python",
   "nbconvert_exporter": "python",
   "pygments_lexer": "ipython3",
   "version": "3.6.1"
  }
 },
 "nbformat": 4,
 "nbformat_minor": 2
}
