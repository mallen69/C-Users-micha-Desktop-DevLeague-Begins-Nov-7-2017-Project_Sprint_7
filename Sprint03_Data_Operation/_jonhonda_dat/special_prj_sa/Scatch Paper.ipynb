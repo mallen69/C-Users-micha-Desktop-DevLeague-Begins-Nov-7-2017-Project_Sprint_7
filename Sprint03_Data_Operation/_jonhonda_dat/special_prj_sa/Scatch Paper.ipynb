{
 "cells": [
  {
   "cell_type": "markdown",
   "metadata": {},
   "source": [
    "# My Scratch Paper!\n",
    "A place to try stuff out, make some notes on code snippets and recipes..."
   ]
  },
  {
   "cell_type": "code",
   "execution_count": null,
   "metadata": {
    "collapsed": true
   },
   "outputs": [],
   "source": [
    "# http://pythonhow.com/accessing-dataframe-columns-rows-and-cells/\n",
    "import pandas as pd #import in pandas library\n",
    "print ('#get csv data and read into pandas')\n",
    "df1=pd.read_csv(\"http://pythonhow.com/wp-content/uploads/2016/01/Income_data.csv\")\n",
    "print (df1)\n",
    "print ('#write new dataframe w/ index set to the \"State\" column in the csv')\n",
    "df2=df1.set_index(\"State\").copy()\n",
    "print (df2)\n",
    "print ('#extract a portion of the dataframe: States = Alaska to Arkansas; and Dates 2005:2007')\n",
    "print (df2.loc[\"Alaska\":\"Arkansas\",\"2005\":\"2007\"])\n",
    "\n",
    "print ('Get only certain States, using a list of states:')\n",
    "getStates = ['Alaska', 'Arizona']\n",
    "print (df2.loc[getStates])\n",
    "\n",
    "print ('#slice a column:')\n",
    "df2.loc[: , \"2005\"]\n",
    "print ('get a cell:')\n",
    "df2.loc['Alaska','2005']\n",
    "print ('#get max of 2005 data')\n",
    "print (df2.loc[:,'2005'].max())\n",
    "print ('take 2005 column and put into list')\n",
    "LS = df2['2005'].tolist() #this is a series. we use the .tolist() to convert from series to list\n",
    "print (type(LS))\n"
   ]
  },
  {
   "cell_type": "code",
   "execution_count": null,
   "metadata": {
    "collapsed": true
   },
   "outputs": [],
   "source": [
    "df = pd.DataFrame({'col1' : [1.0] * 5, \n",
    "                   'col2' : [2.0] * 5, \n",
    "                   'col3' : [3.0] * 5 }, index = range(1,6),)\n",
    "display(df)\n",
    "df2 = pd.DataFrame({'col1' : [10.0] * 5, \n",
    "                    'col2' : [100.0] * 5, \n",
    "                    'col3' : [1000.0] * 5 }, index = range(1,6),)\n",
    "display(df2)\n",
    "df.mul(df2, 0) # element by element multiplication no problems"
   ]
  },
  {
   "cell_type": "code",
   "execution_count": null,
   "metadata": {
    "collapsed": true
   },
   "outputs": [],
   "source": [
    "import datetime\n",
    "\n",
    "# xmin = datetime.datetime.strptime('1/1/2018', \"%m/%d/%Y\").date()\n",
    "# xmax = datetime.datetime.strptime('5/6/2018', \"%m/%d/%Y\").date()\n",
    "\n",
    "# xmin <= datetime.date(2018,1,5) <= xmax\n",
    "\n",
    "#     Wet Season is from: January 1 through April 30 and November 1 through December 31\n",
    "#     Dry Season is from: May 1 through October 31\n",
    "\n",
    "SampleDate = datetime.date(2018,11,1)\n",
    "\n",
    "#Wet Season 1:\n",
    "if datetime.date(SampleDate.year, 1,1) <= SampleDate <= datetime.date(SampleDate.year, 4,30):\n",
    "    print ('ws 1')\n",
    "elif datetime.date(SampleDate.year, 5,1) <= SampleDate <= datetime.date(SampleDate.year, 10,31):\n",
    "    print ('dry')\n",
    "else:\n",
    "    print ('ws 2')\n",
    "    \n",
    "    \n",
    "import numpy as np    \n",
    "# np.max([float('nan'),0])\n",
    "np.max([0,float('nan')])\n",
    "\n",
    "if math.isnan(10)"
   ]
  },
  {
   "cell_type": "code",
   "execution_count": null,
   "metadata": {
    "collapsed": true
   },
   "outputs": [],
   "source": [
    "#import the pandas library\n",
    "import pandas as pd\n",
    "\n",
    "ipl_data = {'Team': ['Riders', 'Riders', 'Devils', 'Devils', 'Kings',\n",
    "         'kings', 'Kings', 'Kings', 'Riders', 'Royals', 'Royals', 'Riders'],\n",
    "         'Rank': [1, 2, 2, 3, 3,4 ,1 ,1,2 , 4,1,2],\n",
    "         'Year': [2014,2015,2014,2015,2014,2015,2016,2017,2016,2014,2015,2017],\n",
    "         'Points':[876,789,863,673,741,812,756,788,694,701,804,690]}\n",
    "df = pd.DataFrame(ipl_data)\n",
    "\n",
    "# display (df)\n",
    "\n",
    "# display (df.groupby('Team').groups)\n",
    "\n",
    "\n",
    "# import numpy as np\n",
    "\n",
    "df.reset_index\n",
    "display(df)\n",
    "grouped = df.groupby('Year')\n",
    "print (grouped['Points'].agg(np.max))\n",
    "print (grouped['Points'])\n"
   ]
  },
  {
   "cell_type": "code",
   "execution_count": null,
   "metadata": {
    "collapsed": true
   },
   "outputs": [],
   "source": [
    "df = pd.DataFrame({'col1': [1, 2], 'col2': [0.1, 0.2]},\n",
    "                      index=['a'#import the pandas library\n",
    "import pandas as pd\n",
    "\n",
    "ipl_data = {'Team': ['Riders', 'Riders', 'Devils', 'Devils', 'Kings',\n",
    "         'kings', 'Kings', 'Kings', 'Riders', 'Royals', 'Royals', 'Riders'],\n",
    "         'Rank': [1, 2, 2, 3, 3,4 ,1 ,1,2 , 4,1,2],\n",
    "         'Year': [2014,2015,2014,2015,2014,2015,2016,2017,2016,2014,2015,2017],\n",
    "         'Points':[876,789,863,673,741,812,756,788,694,701,804,690]}\n",
    "df = pd.DataFrame(ipl_data)\n",
    "\n",
    "# display (df)\n",
    "\n",
    "# display (df.groupby('Team').groups)\n",
    "\n",
    "\n",
    "# import numpy as np\n",
    "\n",
    "df.reset_index\n",
    "display(df)\n",
    "grouped = df.groupby('Year')\n",
    "print (grouped['Points'].agg(np.max))\n",
    "print (grouped['Points'])\n",
    ", 'b'])\n",
    "for idx in df.index:\n",
    "    print (idx)\n",
    "    print (df.loc[idx]['col2'])"
   ]
  },
  {
   "cell_type": "code",
   "execution_count": null,
   "metadata": {
    "collapsed": true
   },
   "outputs": [],
   "source": [
    "import pandas as pd\n",
    "import numpy as np\n",
    "data = {'name': ['Jason', 'Molly', 'Tina', 'Jake', 'Amy'], \n",
    "        'year': [2012, 2012, 2013, 2014, 2014], \n",
    "        'reports': [4, 24, 31, 2, 3],\n",
    "        'coverage': [25, 94, 57, 62, 70]}\n",
    "df = pd.DataFrame(data, index = ['Cochice', 'Pima', 'Santa Cruz', 'Maricopa', 'Yuma'])\n",
    "display(df)\n",
    "\n",
    "dfx = df.copy()\n",
    "\n",
    "capitalizer = lambda x: x.upper()\n",
    "\n",
    "dfx['name'] = dfx['name'].apply(capitalizer)\n",
    "display(df)\n",
    "display(dfx)\n",
    "\n",
    "data.name.unique"
   ]
  },
  {
   "cell_type": "code",
   "execution_count": null,
   "metadata": {
    "collapsed": true
   },
   "outputs": [],
   "source": [
    "#setting column values:\n",
    "data = {'name': ['Jason', 'Molly', 'Tina', 'Jake', 'Amy'], \n",
    "        'year': [2012, 2012, 2013, 2014, 2014], \n",
    "        'reports': [4, 24, 31, 2, 3],\n",
    "        'coverage': [25, 94, 57, 62, 70]}\n",
    "df = pd.DataFrame(data, index = ['Cochice', 'Pima', 'Santa Cruz', 'Maricopa', 'Yuma'])\n",
    "display(df)\n",
    "#set just jason:\n",
    "df.loc[df['name']=='Jason', ['coverage', 'reports']] = [26,3]\n",
    "# display(df)\n",
    "#set a list of names:\n",
    "df.loc[df['name'].isin(['Jason', 'Tina']), ['coverage', 'reports']] = [26,3]\n",
    "display(df)\n",
    "\n",
    "\n",
    "\n"
   ]
  },
  {
   "cell_type": "code",
   "execution_count": null,
   "metadata": {
    "collapsed": true
   },
   "outputs": [],
   "source": [
    "def div0( a, b ):\n",
    "    \"\"\" ignore / 0, div0( [-1, 0, 1], 0 ) -> [0, 0, 0] \"\"\"\n",
    "    with np.errstate(divide='ignore', invalid='ignore'):\n",
    "        c = np.true_divide( a, b )\n",
    "        c[ ~ np.isfinite( c )] = 0  # -inf inf NaN\n",
    "    return c\n",
    "\n",
    "div0( [-1, 0, 1], 0 )\n"
   ]
  },
  {
   "cell_type": "code",
   "execution_count": null,
   "metadata": {
    "collapsed": true
   },
   "outputs": [],
   "source": [
    "afile = open(\"testfile.txt\",\"a\") \n",
    "# file.write(\"Hello World\") \n",
    "# file.write(\"This is our new text file\") \n",
    "# file.write(\"and this is another line.\") \n",
    "# file.write(\"Why? Because we can.\") \n",
    "print (\"test\", file=afile)\n",
    "afile.close() "
   ]
  },
  {
   "cell_type": "code",
   "execution_count": null,
   "metadata": {
    "collapsed": true
   },
   "outputs": [],
   "source": [
    "# import pandas as pd\n",
    "# x = pd.DataFrame({0: [1,2,float('nan')], 1: [4,5,6], 2: [7,8,9] })\n",
    "# y = pd.Series([-1, float('nan'), -1])\n",
    "# print (y)\n",
    "# # display(x.apply(lambda col: y*col))\n",
    "\n",
    "# q = session.query(\n",
    "#       PRR.r_tss, PRR.r_turbidity, PRR.r_p, PRR.r_n, PRR.r_nn, PRR.r_an,\n",
    "#       PRR.r_og, PRR.r_cu, PRR.r_zn, PRR.r_fe, PRR.r_phmin, PRR.r_phmax\n",
    "# ).limit(1)\n",
    "# pd_rr = pd.read_sql(q.statement,session.bind).applymap(lambda el: 0 if el is None else el) #change nonetypes to 0 rem\n",
    "# display(pd_rr)\n",
    "# ls_c = ['c_' + Constituent for Constituent in pollLS] #make list of concentration headers \n",
    "# pd_c = pd_ExConcs.loc[pd_ExConcs['Facility_ID'] == 1, ls_c]\n",
    "# display(pd_c)\n",
    "\n",
    "# print (pd_rr['r_tss'][0])\n",
    "\n",
    "# # pd_ConcsRed = pd_ExConcs.loc[pd_ExConcs['Facility_ID'] ==155, ['Facility_ID', 'sample_date']]\n",
    "# # for Constituent in pollLS:\n",
    "# #     pd_ConcsRed['c_' + Constituent] = pd_c['c_' + Constituent] * pd_rr['r_' + Constituent][0]\n",
    "\n",
    "\n",
    "\n",
    "# display(pd_ConcsRed)"
   ]
  },
  {
   "cell_type": "code",
   "execution_count": null,
   "metadata": {
    "collapsed": true
   },
   "outputs": [],
   "source": [
    "#WHICH METHOD IS FASTER? APPLY OR LIST COMPREHENSION?\n",
    "num = 10000\n",
    "start_time = time.time()\n",
    "def fun1a(x):\n",
    "    return pd.DataFrame([{'fun1':x.loc['id']}])\n",
    "pd_maina = pd.DataFrame([{'id': i} for i in range(0,num)])\n",
    "pd_maina['fun1'] = pd_maina.apply(lambda x: fun1a(x), axis=1)\n",
    "print ('--- %s execution time in seconds ---' % (time.time() - start_time))\n",
    "# display(pd_maina)\n",
    "\n",
    "start_time = time.time()\n",
    "def fun1b(x):\n",
    "    return pd.DataFrame([{'fun1':x}])\n",
    "pd_mainb = pd.DataFrame([{'id': i} for i in range(0,num)])\n",
    "ls = [fun1b(x) for x in range(0,num)]\n",
    "pd_tmp = pd.concat(ls)\n",
    "pd_tmp.reset_index(drop=True, inplace=True)\n",
    "# display(pd_mainb)\n",
    "# display(pd_tmp)\n",
    "g = pd.concat([pd_mainb,pd_tmp], axis=1)\n",
    "print ('--- %s execution time in seconds ---' % (time.time() - start_time))\n",
    "# display(g)\n",
    "\n",
    "# display(pd_main)"
   ]
  },
  {
   "cell_type": "code",
   "execution_count": null,
   "metadata": {
    "collapsed": true
   },
   "outputs": [],
   "source": [
    "#nested list comprehension to concat dataframes:\n",
    "\n",
    "\n",
    "def fun(x):\n",
    "    return pd.DataFrame([{'1':x*1}]), pd.DataFrame([{'2':x*2}]), pd.DataFrame([{'3':x*3}])\n",
    "#this LC stores 3 dataframes per fun call into a single element of list LS\n",
    "ls = [fun(x) for x in range(0,10)]\n",
    "\n",
    "#this concats the stored dataframe lists into 3 separate dataframes, outputting each dataframe as we go\n",
    "for i in range(0,3):\n",
    "    col = [x[i] for x in ls]\n",
    "    dfcol = pd.concat(col)\n",
    "    display(dfcol)\n",
    "\n",
    "#this LC captures the dataframes into a list and then concatenates to a single dataframe\n",
    "lsall = [pd.concat([x[i] for i in range(0,3)], axis=1)  for x in ls]\n",
    "df = pd.concat(lsall)\n",
    "df"
   ]
  },
  {
   "cell_type": "code",
   "execution_count": null,
   "metadata": {
    "collapsed": true
   },
   "outputs": [],
   "source": [
    "def xx(g):\n",
    "    return g*1, 2, 4\n",
    "\n",
    "\n",
    "ls_pd = [\n",
    "            xx(i) for CBOLen in range (1,4) for i in range(0,CBOLen)\n",
    "        ]\n",
    "print (len(ls_pd))\n",
    "print (ls_pd)\n",
    "\n",
    "for CBOLen in range (1,4):\n",
    "    for i in range(0,CBOLen):\n",
    "        print (xx(i))\n",
    "        "
   ]
  },
  {
   "cell_type": "code",
   "execution_count": null,
   "metadata": {
    "collapsed": true
   },
   "outputs": [],
   "source": [
    "def fun(i):\n",
    "    return [{'a':1, 'b':2}]\n",
    "# ls = [{}]\n",
    "# ls = ls + fun()\n",
    "ls = [a for i in range(4) for a in fun(i) ]\n",
    "\n",
    "print (ls)"
   ]
  },
  {
   "cell_type": "code",
   "execution_count": null,
   "metadata": {
    "collapsed": true
   },
   "outputs": [],
   "source": [
    "#SHALLOW COPY PANDAS\n",
    "import pandas as pd\n",
    "\n",
    "\n",
    "\n",
    "ipl_data = {'Team': ['Riders', 'Riders', 'Devils', 'Devils', 'Kings',\n",
    "         'kings', 'Kings', 'Kings', 'Riders', 'Royals', 'Royals', 'Riders'],\n",
    "         'Rank': [1, 2, 2, 3, 3,4 ,1 ,1,2 , 4,1,2],\n",
    "         'Year': [2014,2015,2014,2015,2014,2015,2016,2017,2016,2014,2015,2017],\n",
    "         'Points':[876,789,863,673,741,812,756,788,694,701,804,690]}\n",
    "df = pd.DataFrame(ipl_data)\n",
    "# display (df)\n",
    "\n",
    "def fun(pd_me):\n",
    "    print ('df id in fun: ', id(pd_me))\n",
    "    pd_me = pd.concat([pd_me,pd_me]) #<--this causes a new item to be made\n",
    "    return pd_me\n",
    "\n",
    "print ('df id before fun pass ', id(df))\n",
    "df_new = fun(df)\n",
    "print ('df id after fun pass ', id(df_new))\n",
    "\n",
    "df_new['g'] = 0\n",
    "print (id(df_new))\n",
    "\n",
    "\n",
    "def fun2(aslice):\n",
    "    aslice['a'] = 100\n",
    "    return aslice\n",
    "    \n",
    "df.loc[:,['Year']] = fun2(df.loc[:,['Year']])\n",
    "display (df)"
   ]
  },
  {
   "cell_type": "code",
   "execution_count": null,
   "metadata": {
    "collapsed": true
   },
   "outputs": [],
   "source": [
    "#RENAME PANDAS COLUMNS\n",
    "ipl_data = {'gTeam': ['Riders', 'Riders', 'Devils', 'Devils', 'Kings',\n",
    "         'kings', 'Kings', 'Kings', 'Riders', 'Royals', 'Royals', 'Riders'],\n",
    "         'gRank': [1, 2, 2, 3, 3,4 ,1 ,1,2 , 4,1,2],\n",
    "         'gYear': [2014,2015,2014,2015,2014,2015,2016,2017,2016,2014,2015,2017],\n",
    "         'gPoints':[876,789,863,673,741,812,756,788,694,701,804,690]}\n",
    "df = pd.DataFrame(ipl_data)\n",
    "\n",
    "\n",
    "ls = list(df.columns)\n",
    "dict_repl = {col: col.replace('g','',1) for col in ls}\n",
    "df = df.rename(columns = dict_repl)\n",
    "print (dict_repl)\n",
    "print (df.shape[0])\n",
    "df\n"
   ]
  },
  {
   "cell_type": "code",
   "execution_count": null,
   "metadata": {
    "collapsed": true
   },
   "outputs": [],
   "source": [
    "df = pd.DataFrame({'rep':[0,1,1,1,2,3,2,3,4,5,1]})\n",
    "df['rep_f'] = df['rep']!=df['rep']\n",
    "display(df)\n",
    "df['rep_f'] = (df['rep']!=df['rep'].shift())\n",
    "df['rep_f'] = (df['rep']!=df['rep'].shift()).cumsum()-1\n",
    "df"
   ]
  },
  {
   "cell_type": "code",
   "execution_count": null,
   "metadata": {
    "collapsed": true
   },
   "outputs": [],
   "source": [
    "#accessing data differently using panels - it's how you do axis\n",
    "df= np.random.binomial(100, 0.95, (9,3))\n",
    "dm = np.random.binomial(100, 0.9, [9,3])\n",
    "dff = pd.DataFrame(df, columns = ['Physics', 'Math', 'Art'])\n",
    "dfm = pd.DataFrame(dm, columns = ['Physics', 'Math', 'Art'])\n",
    "score_panel = pd.Panel({'Girls': dff, 'Boys': dfm})\n",
    "display (dff)\n",
    "display (dfm)\n",
    "dff.apply(lambda row: row['Physics'] - row['Math'], axis=1)\n",
    "\n",
    "# display(score_panel)\n",
    "# score_panel.apply(lambda adf: adf.apply(lambda row: row['Physics'] - row['Math']))\n",
    "\n",
    "#using axis in apply, axis is the key: from the docs:   \n",
    "'''\n",
    "Function to apply to each combination of ‘other’ axes \n",
    "e.g. if axis = ‘items’, the combination of major_axis/minor_axis will each be passed as a Series; \n",
    "if axis = (‘items’, ‘major’), DataFrames of items & major axis will be passed\n",
    "\n",
    "'''    \n",
    "# score_panel.apply(lambda x: print(x), axis=[0,1]) #\n",
    "\n",
    "# score_panel.apply(lambda x: print(x), axis=[0,2]) #\n",
    "\n",
    "# score_panel.apply(lambda x: print(x), axis=[1,0]) #\n",
    "\n",
    "# score_panel.apply(lambda x: print(x), axis=[2,0]) #\n",
    "\n",
    "# score_panel.apply(lambda x: print(x), axis='items') #\n",
    "\n",
    "score_panel['Girls'].apply(lambda x: print(x), axis = 1)\n",
    "score_panel['Boys'].apply(lambda x: print(x), axis = 1)"
   ]
  },
  {
   "cell_type": "code",
   "execution_count": null,
   "metadata": {
    "collapsed": true
   },
   "outputs": [],
   "source": [
    "#replace values in a specific column based on condition\n",
    "df= np.random.binomial(100, 0.50, (9,3))\n",
    "dff = pd.DataFrame(df, columns = ['Physics', 'Math', 'Art'])\n",
    "display(dff)\n",
    "dff.loc[dff['Physics']<50, 'Physics'] = 0 #replace physics scores <50 w/ 0\n",
    "dff"
   ]
  },
  {
   "cell_type": "code",
   "execution_count": null,
   "metadata": {
    "collapsed": true
   },
   "outputs": [],
   "source": [
    "left = pd.DataFrame({'key': ['K0', 'K0', 'K2', 'K3'],\n",
    "'A': ['A0', 'A1', 'A2', 'A3'],\n",
    "'B': ['B0', 'B1', 'B2', 'B3']})\n",
    "\n",
    "\n",
    "right = pd.DataFrame({'key': ['K0', 'K0', 'K2', 'K3'],\n",
    "'C': ['C0', 'C1', 'C2', 'C3'],\n",
    "'D': ['D0', 'D1', 'D2', 'D3']})\n",
    "\n",
    "\n",
    "\n",
    "result = pd.merge(left, right, on='key')\n",
    "result"
   ]
  },
  {
   "cell_type": "code",
   "execution_count": null,
   "metadata": {
    "collapsed": true
   },
   "outputs": [],
   "source": [
    "def dictAppend(Append2Dict, DictVals):\n",
    "    if len(Append2Dict) == 0:\n",
    "        return DictVals\n",
    "    else:\n",
    "        for k,v in DictVals.items():\n",
    "            Append2Dict[k] = Append2Dict[k] + v\n",
    "        return Append2Dict\n",
    "\n",
    "d0 = {}\n",
    "d1 = {'a':[1,2,3], 'b': ['a','aa', 'aaa']}\n",
    "d0 = dictAppend(d0,d1)\n",
    "d0\n",
    "d1 = {'a':[4,5,6], 'b': ['xa','aax', 'axaa']}\n",
    "d0 = dictAppend(d0,d1)\n",
    "d0"
   ]
  },
  {
   "cell_type": "code",
   "execution_count": null,
   "metadata": {
    "collapsed": true
   },
   "outputs": [],
   "source": [
    "df_test = pd.DataFrame([\n",
    "    {'dir': '/Users/uname1', 'size': 994933},\n",
    "    {'dir': '/Users/uname2', 'size': 109338711},\n",
    "])\n",
    "\n",
    "import locale\n",
    "def sizes(s):    \n",
    "    return locale.format(\"%.1f\", s / 1024.0, grouping=True) + ' KB', \\\n",
    "        locale.format(\"%.1f\", s / 1024.0 ** 2, grouping=True) + ' MB', \\\n",
    "        locale.format(\"%.1f\", s / 1024.0 ** 3, grouping=True) + ' GB'\n",
    "df_test['size_kb'],  df_test['size_mb'], df_test['size_gb'] = zip(*df_test['size'].apply(sizes))\n",
    "display(df_test)\n",
    "df_test['size_kb'].tolist()"
   ]
  },
  {
   "cell_type": "code",
   "execution_count": 18,
   "metadata": {},
   "outputs": [
    {
     "data": {
      "text/plain": [
       "deque([0, 1, 2, 3, 4, 5, 6, 7, 8, 9])"
      ]
     },
     "metadata": {},
     "output_type": "display_data"
    },
    {
     "name": "stdout",
     "output_type": "stream",
     "text": [
      "deque([1, 2, 3, 4, 5, 10])\n"
     ]
    },
    {
     "data": {
      "text/plain": [
       "deque([2, 1])"
      ]
     },
     "metadata": {},
     "output_type": "display_data"
    },
    {
     "data": {
      "text/plain": [
       "deque([4, 2])"
      ]
     },
     "metadata": {},
     "output_type": "display_data"
    },
    {
     "data": {
      "text/plain": [
       "4"
      ]
     },
     "execution_count": 18,
     "metadata": {},
     "output_type": "execute_result"
    }
   ],
   "source": [
    "#using deque\n",
    "from collections import deque\n",
    "\n",
    "s = range(10)\n",
    "d = deque(s)\n",
    "display(d)\n",
    "d.pop #pop right side\n",
    "d.popleft\n",
    "\n",
    "d.extendleft([0])\n",
    "d.extend([6,7,8])\n",
    "\n",
    "d = deque(maxlen=6)\n",
    "d = deque([1,2,3,4,5])\n",
    "\n",
    "d.append(10) #append right side\n",
    "print (d)\n",
    "d.appendleft(-1)\n",
    "d\n",
    "\n",
    "d1 = deque(maxlen=2)\n",
    "d1.appendleft(1)\n",
    "d1.appendleft(2)\n",
    "display(d1)\n",
    "d1.appendleft(4)\n",
    "display(d1)\n",
    "d1[0]"
   ]
  },
  {
   "cell_type": "code",
   "execution_count": 15,
   "metadata": {},
   "outputs": [
    {
     "data": {
      "text/plain": [
       "0"
      ]
     },
     "execution_count": 15,
     "metadata": {},
     "output_type": "execute_result"
    }
   ],
   "source": [
    "15 % 2\n",
    "import random\n",
    "random.randint(0,1)\n"
   ]
  }
 ],
 "metadata": {
  "kernelspec": {
   "display_name": "Python 3",
   "language": "python",
   "name": "python3"
  },
  "language_info": {
   "codemirror_mode": {
    "name": "ipython",
    "version": 3
   },
   "file_extension": ".py",
   "mimetype": "text/x-python",
   "name": "python",
   "nbconvert_exporter": "python",
   "pygments_lexer": "ipython3",
   "version": "3.6.3"
  }
 },
 "nbformat": 4,
 "nbformat_minor": 2
}
