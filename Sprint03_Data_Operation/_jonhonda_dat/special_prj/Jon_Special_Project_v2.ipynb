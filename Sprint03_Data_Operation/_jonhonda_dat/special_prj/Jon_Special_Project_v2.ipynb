{
 "cells": [
  {
   "cell_type": "markdown",
   "metadata": {
    "collapsed": true
   },
   "source": [
    "'''\n",
    "OBJECTIVES:\n",
    "1. Build WRS system\n",
    "2. Build Structural BMP Solution evaluator\n",
    "3. Identify minimum BMP solution front for:\n",
    "   individual facilities\n",
    "   facilities w/in departments\n",
    "   facilities w/in city\n",
    "'''"
   ]
  },
  {
   "cell_type": "code",
   "execution_count": 1,
   "metadata": {},
   "outputs": [
    {
     "name": "stdout",
     "output_type": "stream",
     "text": [
      "\n",
      "Clearing old DB\n"
     ]
    }
   ],
   "source": [
    "'''\n",
    "Define basic SQLAlchemy items:\n",
    "    declarative base object\n",
    "    connection object\n",
    "    session object\n",
    "    DB tables\n",
    "'''\n",
    "#SQLAlchemy library items:\n",
    "from sqlalchemy import create_engine\n",
    "from sqlalchemy import Column, Integer, String\n",
    "from sqlalchemy import update, insert\n",
    "from sqlalchemy import ForeignKey\n",
    "from sqlalchemy.orm import relationship #http://docs.sqlalchemy.org/en/latest/orm/basic_relationships.html#relationship-patterns\n",
    "from sqlalchemy import inspect\n",
    "\n",
    "from SQLA_Base import Base #module containing declarative_base\n",
    "from SQLA_conn_man import session, engine #module handling db and connection creation \n",
    "\n",
    "#NOW DEFINE DB SCHEMA (THIS DOESN'T WRITE SCHEMA TO DB, JUST TO SQLALCHEMY CLASSES AND OBJECTS)\n",
    "#define an SQLAlchemy base class to maintain catalog of classes and tables relative to this base\n",
    "from SQLA_DB_expressions import Expressions\n",
    "from SQLA_DB_facility_chars import Facility_Chars\n",
    "from SQLA_DB_facility_monthly_rain import Facility_Monthly_Rain\n",
    "from SQLA_DB_facility_risks import Facility_Risks\n",
    "from SQLA_DB_facility_types import Facility_Types\n",
    "from SQLA_DB_feasibility_test_questions import Feasibility_Test_Questions\n",
    "from SQLA_DB_wrs_pollutant_risks import WRS_Pollutant_Risks\n",
    "Base.metadata.create_all(engine, checkfirst=True) #create tables\n",
    "\n",
    "import SQLA_main as SQLA_main #import main SQLAlchemy functions\n"
   ]
  },
  {
   "cell_type": "code",
   "execution_count": 2,
   "metadata": {
    "collapsed": true
   },
   "outputs": [],
   "source": [
    "'''\n",
    "Define other custom modules\n",
    "\n",
    "'''\n",
    "import expression as Expr"
   ]
  },
  {
   "cell_type": "code",
   "execution_count": 3,
   "metadata": {},
   "outputs": [
    {
     "name": "stdout",
     "output_type": "stream",
     "text": [
      "Reading csv for import to Feasibility Questions\n",
      "\n",
      "Reading csv record: Feas-1\n",
      "Adding to variable dictionary: OFFSITE_SD_Exist\n",
      "\n",
      "Reading csv record: Feas-2\n",
      "Adding to variable dictionary: GW_Risk\n",
      "\n",
      "Reading csv record: Feas-3\n",
      "Adding to variable dictionary: GW_Risk\n",
      "\n",
      "Reading csv record: Feas-4\n",
      "Adding to variable dictionary: Soil_Type\n",
      "\n",
      "Reading csv record: Feas-5\n",
      "Adding to variable dictionary: Soil_Type\n",
      "\n",
      "Reading csv record: Feas-6\n",
      "Adding to variable dictionary: Soil_Type\n",
      "\n",
      "Reading csv record: Feas-7\n",
      "Adding to variable dictionary: Count_CB\n",
      "\n",
      "Reading csv record: Feas-8\n",
      "Adding to variable dictionary: Runoff_Type\n",
      "\n",
      "Reading csv record: Feas-9\n",
      "Adding to variable dictionary: TFMR_Exist\n",
      "\n",
      "Reading csv record: Feas-10\n",
      "Adding to variable dictionary: DS_SS_Exist\n",
      "\n",
      "Reading csv record: Feas-11\n",
      "Adding to variable dictionary: Fac_Slope\n",
      "\n",
      "Reading csv record: Feas-12\n",
      "Adding to variable dictionary: Can_Add_SD\n",
      "\n",
      "Reading csv record: Feas-13\n",
      "Adding to variable dictionary: Pave_Area\n",
      "Adding to variable dictionary: BMP_Size(base_bmps~bmp_size_expression_id~bmp_name)\n",
      "\n",
      "Reading csv record: Feas-14\n",
      "Adding to variable dictionary: Unpave_Area\n",
      "Adding to variable dictionary: BMP_Size(base_bmps~bmp_size_expression_id~bmp_name)\n",
      "\n",
      "Reading csv record: Feas-15\n",
      "Adding to variable dictionary: Pave_Area\n",
      "Adding to variable dictionary: Det_Size(base_bmps~bmp_size_expression_id~bmp_name)\n",
      "\n",
      "Reading csv record: Feas-16\n",
      "Adding to variable dictionary: EM_Area\n",
      "\n",
      "Reading csv record: Feas-17\n",
      "Adding to variable dictionary: Dmg_Pave\n",
      "\n",
      "Reading csv record: Feas-18\n",
      "Adding to variable dictionary: Fac_Type\n",
      "\n",
      "Reading csv record: Feas-19\n",
      "Adding to variable dictionary: FP_100_Year\n",
      "\n",
      "Reading csv record: Feas-20\n",
      "Adding to variable dictionary: Runoff_Type\n",
      "\n",
      "Reading csv record: Feas-21\n",
      "Adding to variable dictionary: Ex_Struct_BMP\n"
     ]
    }
   ],
   "source": [
    "import importSpecial as importSpecial\n",
    "'''\n",
    "Dictionary of \"SQLAlchemy where clause lambda functions\" that tests record uniqueness.\n",
    "e.g. entries in the 'name' field of the people table must be unique.\n",
    "Therefore, we determine whether to insert/update a csv row into the people table based on\n",
    "whether the csv row's name field value exists in the people table.\n",
    "\n",
    "if table has no record uniqueness requirement, then enter: TableName:False\n",
    "'''\n",
    "unqTests = {\n",
    "    'people': lambda RowVal: Base.metadata.tables['people'].c['name'] == RowVal['name'],\n",
    "    'locations': False\n",
    "}\n",
    "\n",
    "# importCSV('testlab\\\\2_table_input.csv', unqTests)\n",
    "# #test some reords\n",
    "# for u, a in session.query(People, Locations).filter(People.id==Locations.people_id):\n",
    "#     print (u,a)\n",
    "    \n",
    "importSpecial.importFeasibilityQuestionsCSV('Input_Files\\\\feasibility_test_questions.csv') #import feasibillity questions, build feasibility expressions\n",
    "session.commit()"
   ]
  },
  {
   "cell_type": "code",
   "execution_count": null,
   "metadata": {
    "collapsed": true
   },
   "outputs": [],
   "source": []
  },
  {
   "cell_type": "code",
   "execution_count": null,
   "metadata": {
    "collapsed": true
   },
   "outputs": [],
   "source": [
    "\n"
   ]
  },
  {
   "cell_type": "code",
   "execution_count": null,
   "metadata": {
    "collapsed": true
   },
   "outputs": [],
   "source": []
  },
  {
   "cell_type": "code",
   "execution_count": null,
   "metadata": {
    "collapsed": true
   },
   "outputs": [],
   "source": [
    "session.close()\n",
    "engine.dispose()"
   ]
  },
  {
   "cell_type": "code",
   "execution_count": null,
   "metadata": {
    "collapsed": true
   },
   "outputs": [],
   "source": [
    "def f1(passedFunc):\n",
    "    print (passedFunc)\n",
    "def main():\n",
    "    z = 10\n",
    "    \n",
    "    f1((lambda x, y: x * y)(3,z))\n",
    "#     f1((lambda x: x **2)(3))\n",
    "\n",
    "main()\n",
    "    "
   ]
  }
 ],
 "metadata": {
  "kernelspec": {
   "display_name": "Python 3",
   "language": "python",
   "name": "python3"
  },
  "language_info": {
   "codemirror_mode": {
    "name": "ipython",
    "version": 3
   },
   "file_extension": ".py",
   "mimetype": "text/x-python",
   "name": "python",
   "nbconvert_exporter": "python",
   "pygments_lexer": "ipython3",
   "version": "3.6.3"
  }
 },
 "nbformat": 4,
 "nbformat_minor": 2
}
