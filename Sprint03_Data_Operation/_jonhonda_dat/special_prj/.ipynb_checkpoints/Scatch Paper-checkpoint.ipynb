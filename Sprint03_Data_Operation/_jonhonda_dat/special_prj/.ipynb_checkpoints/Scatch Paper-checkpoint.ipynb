{
 "cells": [
  {
   "cell_type": "markdown",
   "metadata": {},
   "source": [
    "# My Scratch Paper!\n",
    "A place to try stuff out, make some notes on code snippets and recipes..."
   ]
  },
  {
   "cell_type": "code",
   "execution_count": null,
   "metadata": {
    "collapsed": true
   },
   "outputs": [],
   "source": [
    "# http://pythonhow.com/accessing-dataframe-columns-rows-and-cells/\n",
    "import pandas as pd #import in pandas library\n",
    "print ('#get csv data and read into pandas')\n",
    "df1=pd.read_csv(\"http://pythonhow.com/wp-content/uploads/2016/01/Income_data.csv\")\n",
    "print (df1)\n",
    "print ('#write new dataframe w/ index set to the \"State\" column in the csv')\n",
    "df2=df1.set_index(\"State\").copy()\n",
    "print (df2)\n",
    "print ('#extract a portion of the dataframe: States = Alaska to Arkansas; and Dates 2005:2007')\n",
    "print (df2.loc[\"Alaska\":\"Arkansas\",\"2005\":\"2007\"])\n",
    "\n",
    "print ('Get only certain States, using a list of states:')\n",
    "getStates = ['Alaska', 'Arizona']\n",
    "print (df2.loc[getStates])\n",
    "\n",
    "print ('#slice a column:')\n",
    "df2.loc[: , \"2005\"]\n",
    "print ('get a cell:')\n",
    "df2.loc['Alaska','2005']\n",
    "print ('#get max of 2005 data')\n",
    "print (df2.loc[:,'2005'].max())\n",
    "print ('take 2005 column and put into list')\n",
    "LS = df2['2005'].tolist() #this is a series. we use the .tolist() to convert from series to list\n",
    "print (type(LS))\n"
   ]
  },
  {
   "cell_type": "code",
   "execution_count": null,
   "metadata": {
    "collapsed": true
   },
   "outputs": [],
   "source": [
    "df = pd.DataFrame({'col1' : [1.0] * 5, \n",
    "                   'col2' : [2.0] * 5, \n",
    "                   'col3' : [3.0] * 5 }, index = range(1,6),)\n",
    "display(df)\n",
    "df2 = pd.DataFrame({'col1' : [10.0] * 5, \n",
    "                    'col2' : [100.0] * 5, \n",
    "                    'col3' : [1000.0] * 5 }, index = range(1,6),)\n",
    "display(df2)\n",
    "df.mul(df2, 0) # element by element multiplication no problems"
   ]
  },
  {
   "cell_type": "code",
   "execution_count": null,
   "metadata": {
    "collapsed": true
   },
   "outputs": [],
   "source": [
    "import datetime\n",
    "\n",
    "# xmin = datetime.datetime.strptime('1/1/2018', \"%m/%d/%Y\").date()\n",
    "# xmax = datetime.datetime.strptime('5/6/2018', \"%m/%d/%Y\").date()\n",
    "\n",
    "# xmin <= datetime.date(2018,1,5) <= xmax\n",
    "\n",
    "#     Wet Season is from: January 1 through April 30 and November 1 through December 31\n",
    "#     Dry Season is from: May 1 through October 31\n",
    "\n",
    "SampleDate = datetime.date(2018,11,1)\n",
    "\n",
    "#Wet Season 1:\n",
    "if datetime.date(SampleDate.year, 1,1) <= SampleDate <= datetime.date(SampleDate.year, 4,30):\n",
    "    print ('ws 1')\n",
    "elif datetime.date(SampleDate.year, 5,1) <= SampleDate <= datetime.date(SampleDate.year, 10,31):\n",
    "    print ('dry')\n",
    "else:\n",
    "    print ('ws 2')\n",
    "    \n",
    "    \n",
    "import numpy as np    \n",
    "# np.max([float('nan'),0])\n",
    "np.max([0,float('nan')])\n",
    "\n",
    "if math.isnan(10)"
   ]
  },
  {
   "cell_type": "code",
   "execution_count": null,
   "metadata": {
    "collapsed": true
   },
   "outputs": [],
   "source": [
    "#import the pandas library\n",
    "import pandas as pd\n",
    "\n",
    "ipl_data = {'Team': ['Riders', 'Riders', 'Devils', 'Devils', 'Kings',\n",
    "         'kings', 'Kings', 'Kings', 'Riders', 'Royals', 'Royals', 'Riders'],\n",
    "         'Rank': [1, 2, 2, 3, 3,4 ,1 ,1,2 , 4,1,2],\n",
    "         'Year': [2014,2015,2014,2015,2014,2015,2016,2017,2016,2014,2015,2017],\n",
    "         'Points':[876,789,863,673,741,812,756,788,694,701,804,690]}\n",
    "df = pd.DataFrame(ipl_data)\n",
    "\n",
    "# display (df)\n",
    "\n",
    "# display (df.groupby('Team').groups)\n",
    "\n",
    "\n",
    "# import numpy as np\n",
    "\n",
    "df.reset_index\n",
    "display(df)\n",
    "grouped = df.groupby('Year')\n",
    "print (grouped['Points'].agg(np.max))\n",
    "print (grouped['Points'])\n"
   ]
  },
  {
   "cell_type": "code",
   "execution_count": 42,
   "metadata": {},
   "outputs": [
    {
     "name": "stdout",
     "output_type": "stream",
     "text": [
      "   Points  Rank    Team  Year\n",
      "2     863     2  Devils  2014\n",
      "3     673     3  Devils  2015\n",
      "   Points  Rank    Team  Year\n",
      "2     863     2  Devils  2014\n",
      "3     673     3  Devils  2015\n",
      "   Points  Rank   Team  Year\n",
      "4     741     3  Kings  2014\n",
      "6     756     1  Kings  2016\n",
      "7     788     1  Kings  2017\n",
      "    Points  Rank    Team  Year\n",
      "0      876     1  Riders  2014\n",
      "1      789     2  Riders  2015\n",
      "8      694     2  Riders  2016\n",
      "11     690     2  Riders  2017\n",
      "    Points  Rank    Team  Year\n",
      "9      701     4  Royals  2014\n",
      "10     804     1  Royals  2015\n",
      "   Points  Rank   Team  Year\n",
      "5     812     4  kings  2015\n",
      "*************************\n"
     ]
    },
    {
     "data": {
      "text/html": [
       "<div>\n",
       "<style>\n",
       "    .dataframe thead tr:only-child th {\n",
       "        text-align: right;\n",
       "    }\n",
       "\n",
       "    .dataframe thead th {\n",
       "        text-align: left;\n",
       "    }\n",
       "\n",
       "    .dataframe tbody tr th {\n",
       "        vertical-align: top;\n",
       "    }\n",
       "</style>\n",
       "<table border=\"1\" class=\"dataframe\">\n",
       "  <thead>\n",
       "    <tr style=\"text-align: right;\">\n",
       "      <th></th>\n",
       "      <th>Points</th>\n",
       "      <th>Rank</th>\n",
       "      <th>Team</th>\n",
       "      <th>Year</th>\n",
       "    </tr>\n",
       "  </thead>\n",
       "  <tbody>\n",
       "    <tr>\n",
       "      <th>0</th>\n",
       "      <td>2628</td>\n",
       "      <td>1</td>\n",
       "      <td>Riders</td>\n",
       "      <td>2014</td>\n",
       "    </tr>\n",
       "    <tr>\n",
       "      <th>1</th>\n",
       "      <td>2367</td>\n",
       "      <td>2</td>\n",
       "      <td>Riders</td>\n",
       "      <td>2015</td>\n",
       "    </tr>\n",
       "    <tr>\n",
       "      <th>2</th>\n",
       "      <td>2589</td>\n",
       "      <td>2</td>\n",
       "      <td>Devils</td>\n",
       "      <td>2014</td>\n",
       "    </tr>\n",
       "    <tr>\n",
       "      <th>3</th>\n",
       "      <td>2019</td>\n",
       "      <td>3</td>\n",
       "      <td>Devils</td>\n",
       "      <td>2015</td>\n",
       "    </tr>\n",
       "    <tr>\n",
       "      <th>4</th>\n",
       "      <td>2223</td>\n",
       "      <td>3</td>\n",
       "      <td>Kings</td>\n",
       "      <td>2014</td>\n",
       "    </tr>\n",
       "    <tr>\n",
       "      <th>5</th>\n",
       "      <td>2436</td>\n",
       "      <td>4</td>\n",
       "      <td>kings</td>\n",
       "      <td>2015</td>\n",
       "    </tr>\n",
       "    <tr>\n",
       "      <th>6</th>\n",
       "      <td>2268</td>\n",
       "      <td>1</td>\n",
       "      <td>Kings</td>\n",
       "      <td>2016</td>\n",
       "    </tr>\n",
       "    <tr>\n",
       "      <th>7</th>\n",
       "      <td>2364</td>\n",
       "      <td>1</td>\n",
       "      <td>Kings</td>\n",
       "      <td>2017</td>\n",
       "    </tr>\n",
       "    <tr>\n",
       "      <th>8</th>\n",
       "      <td>2082</td>\n",
       "      <td>2</td>\n",
       "      <td>Riders</td>\n",
       "      <td>2016</td>\n",
       "    </tr>\n",
       "    <tr>\n",
       "      <th>9</th>\n",
       "      <td>2103</td>\n",
       "      <td>4</td>\n",
       "      <td>Royals</td>\n",
       "      <td>2014</td>\n",
       "    </tr>\n",
       "    <tr>\n",
       "      <th>10</th>\n",
       "      <td>2412</td>\n",
       "      <td>1</td>\n",
       "      <td>Royals</td>\n",
       "      <td>2015</td>\n",
       "    </tr>\n",
       "    <tr>\n",
       "      <th>11</th>\n",
       "      <td>2070</td>\n",
       "      <td>2</td>\n",
       "      <td>Riders</td>\n",
       "      <td>2017</td>\n",
       "    </tr>\n",
       "  </tbody>\n",
       "</table>\n",
       "</div>"
      ],
      "text/plain": [
       "    Points  Rank    Team  Year\n",
       "0     2628     1  Riders  2014\n",
       "1     2367     2  Riders  2015\n",
       "2     2589     2  Devils  2014\n",
       "3     2019     3  Devils  2015\n",
       "4     2223     3   Kings  2014\n",
       "5     2436     4   kings  2015\n",
       "6     2268     1   Kings  2016\n",
       "7     2364     1   Kings  2017\n",
       "8     2082     2  Riders  2016\n",
       "9     2103     4  Royals  2014\n",
       "10    2412     1  Royals  2015\n",
       "11    2070     2  Riders  2017"
      ]
     },
     "execution_count": 42,
     "metadata": {},
     "output_type": "execute_result"
    }
   ],
   "source": [
    "import pandas as pd\n",
    "\n",
    "\n",
    "ipl_data = {'Team': ['Riders', 'Riders', 'Devils', 'Devils', 'Kings',\n",
    "         'kings', 'Kings', 'Kings', 'Riders', 'Royals', 'Royals', 'Riders'],\n",
    "         'Rank': [1, 2, 2, 3, 3,4 ,1 ,1,2 , 4,1,2],\n",
    "         'Year': [2014,2015,2014,2015,2014,2015,2016,2017,2016,2014,2015,2017],\n",
    "         'Points':[876,789,863,673,741,812,756,788,694,701,804,690]}\n",
    "df = pd.DataFrame(ipl_data)\n",
    "\n",
    "# display (df)\n",
    "\n",
    "df.groupby('Team').apply(lambda r: print(r))\n",
    "print ('*************************')\n",
    "def Funap(row, m):\n",
    "    row['Points'] = row['Points'] * m\n",
    "    return  row\n",
    "df = df.groupby('Team').apply(lambda r: Funap(r, 3))\n",
    "df\n"
   ]
  },
  {
   "cell_type": "code",
   "execution_count": null,
   "metadata": {
    "collapsed": true
   },
   "outputs": [],
   "source": [
    "import pandas as pd\n",
    "import numpy as np\n",
    "data = {'name': ['Jason', 'Molly', 'Tina', 'Jake', 'Amy'], \n",
    "        'year': [2012, 2012, 2013, 2014, 2014], \n",
    "        'reports': [4, 24, 31, 2, 3],\n",
    "        'coverage': [25, 94, 57, 62, 70]}\n",
    "df = pd.DataFrame(data, index = ['Cochice', 'Pima', 'Santa Cruz', 'Maricopa', 'Yuma'])\n",
    "display(df)\n",
    "\n",
    "dfx = df.copy()\n",
    "\n",
    "capitalizer = lambda x: x.upper()\n",
    "\n",
    "dfx['name'] = dfx['name'].apply(capitalizer)\n",
    "display(df)\n",
    "display(dfx)\n",
    "\n",
    "data.name.unique"
   ]
  },
  {
   "cell_type": "code",
   "execution_count": 43,
   "metadata": {},
   "outputs": [
    {
     "data": {
      "text/html": [
       "<div>\n",
       "<style>\n",
       "    .dataframe thead tr:only-child th {\n",
       "        text-align: right;\n",
       "    }\n",
       "\n",
       "    .dataframe thead th {\n",
       "        text-align: left;\n",
       "    }\n",
       "\n",
       "    .dataframe tbody tr th {\n",
       "        vertical-align: top;\n",
       "    }\n",
       "</style>\n",
       "<table border=\"1\" class=\"dataframe\">\n",
       "  <thead>\n",
       "    <tr style=\"text-align: right;\">\n",
       "      <th></th>\n",
       "      <th>coverage</th>\n",
       "      <th>name</th>\n",
       "      <th>reports</th>\n",
       "      <th>year</th>\n",
       "    </tr>\n",
       "  </thead>\n",
       "  <tbody>\n",
       "    <tr>\n",
       "      <th>Cochice</th>\n",
       "      <td>25</td>\n",
       "      <td>Jason</td>\n",
       "      <td>4</td>\n",
       "      <td>2012</td>\n",
       "    </tr>\n",
       "    <tr>\n",
       "      <th>Pima</th>\n",
       "      <td>94</td>\n",
       "      <td>Molly</td>\n",
       "      <td>24</td>\n",
       "      <td>2012</td>\n",
       "    </tr>\n",
       "    <tr>\n",
       "      <th>Santa Cruz</th>\n",
       "      <td>57</td>\n",
       "      <td>Tina</td>\n",
       "      <td>31</td>\n",
       "      <td>2013</td>\n",
       "    </tr>\n",
       "    <tr>\n",
       "      <th>Maricopa</th>\n",
       "      <td>62</td>\n",
       "      <td>Jake</td>\n",
       "      <td>2</td>\n",
       "      <td>2014</td>\n",
       "    </tr>\n",
       "    <tr>\n",
       "      <th>Yuma</th>\n",
       "      <td>70</td>\n",
       "      <td>Amy</td>\n",
       "      <td>3</td>\n",
       "      <td>2014</td>\n",
       "    </tr>\n",
       "  </tbody>\n",
       "</table>\n",
       "</div>"
      ],
      "text/plain": [
       "            coverage   name  reports  year\n",
       "Cochice           25  Jason        4  2012\n",
       "Pima              94  Molly       24  2012\n",
       "Santa Cruz        57   Tina       31  2013\n",
       "Maricopa          62   Jake        2  2014\n",
       "Yuma              70    Amy        3  2014"
      ]
     },
     "metadata": {},
     "output_type": "display_data"
    },
    {
     "data": {
      "text/html": [
       "<div>\n",
       "<style>\n",
       "    .dataframe thead tr:only-child th {\n",
       "        text-align: right;\n",
       "    }\n",
       "\n",
       "    .dataframe thead th {\n",
       "        text-align: left;\n",
       "    }\n",
       "\n",
       "    .dataframe tbody tr th {\n",
       "        vertical-align: top;\n",
       "    }\n",
       "</style>\n",
       "<table border=\"1\" class=\"dataframe\">\n",
       "  <thead>\n",
       "    <tr style=\"text-align: right;\">\n",
       "      <th></th>\n",
       "      <th>coverage</th>\n",
       "      <th>name</th>\n",
       "      <th>reports</th>\n",
       "      <th>year</th>\n",
       "    </tr>\n",
       "  </thead>\n",
       "  <tbody>\n",
       "    <tr>\n",
       "      <th>Cochice</th>\n",
       "      <td>26</td>\n",
       "      <td>Jason</td>\n",
       "      <td>3</td>\n",
       "      <td>2012</td>\n",
       "    </tr>\n",
       "    <tr>\n",
       "      <th>Pima</th>\n",
       "      <td>94</td>\n",
       "      <td>Molly</td>\n",
       "      <td>24</td>\n",
       "      <td>2012</td>\n",
       "    </tr>\n",
       "    <tr>\n",
       "      <th>Santa Cruz</th>\n",
       "      <td>26</td>\n",
       "      <td>Tina</td>\n",
       "      <td>3</td>\n",
       "      <td>2013</td>\n",
       "    </tr>\n",
       "    <tr>\n",
       "      <th>Maricopa</th>\n",
       "      <td>62</td>\n",
       "      <td>Jake</td>\n",
       "      <td>2</td>\n",
       "      <td>2014</td>\n",
       "    </tr>\n",
       "    <tr>\n",
       "      <th>Yuma</th>\n",
       "      <td>70</td>\n",
       "      <td>Amy</td>\n",
       "      <td>3</td>\n",
       "      <td>2014</td>\n",
       "    </tr>\n",
       "  </tbody>\n",
       "</table>\n",
       "</div>"
      ],
      "text/plain": [
       "            coverage   name  reports  year\n",
       "Cochice           26  Jason        3  2012\n",
       "Pima              94  Molly       24  2012\n",
       "Santa Cruz        26   Tina        3  2013\n",
       "Maricopa          62   Jake        2  2014\n",
       "Yuma              70    Amy        3  2014"
      ]
     },
     "metadata": {},
     "output_type": "display_data"
    }
   ],
   "source": [
    "#setting column values:\n",
    "data = {'name': ['Jason', 'Molly', 'Tina', 'Jake', 'Amy'], \n",
    "        'year': [2012, 2012, 2013, 2014, 2014], \n",
    "        'reports': [4, 24, 31, 2, 3],\n",
    "        'coverage': [25, 94, 57, 62, 70]}\n",
    "df = pd.DataFrame(data, index = ['Cochice', 'Pima', 'Santa Cruz', 'Maricopa', 'Yuma'])\n",
    "display(df)\n",
    "#set just jason:\n",
    "df.loc[df['name']=='Jason', ['coverage', 'reports']] = [26,3]\n",
    "# display(df)\n",
    "#set a list of names:\n",
    "df.loc[df['name'].isin(['Jason', 'Tina']), ['coverage', 'reports']] = [26,3]\n",
    "display(df)\n",
    "\n",
    "\n",
    "\n"
   ]
  },
  {
   "cell_type": "code",
   "execution_count": null,
   "metadata": {
    "collapsed": true
   },
   "outputs": [],
   "source": [
    "def div0( a, b ):\n",
    "    \"\"\" ignore / 0, div0( [-1, 0, 1], 0 ) -> [0, 0, 0] \"\"\"\n",
    "    with np.errstate(divide='ignore', invalid='ignore'):\n",
    "        c = np.true_divide( a, b )\n",
    "        c[ ~ np.isfinite( c )] = 0  # -inf inf NaN\n",
    "    return c\n",
    "\n",
    "div0( [-1, 0, 1], 0 )\n"
   ]
  },
  {
   "cell_type": "code",
   "execution_count": null,
   "metadata": {
    "collapsed": true
   },
   "outputs": [],
   "source": [
    "afile = open(\"testfile.txt\",\"a\") \n",
    "# file.write(\"Hello World\") \n",
    "# file.write(\"This is our new text file\") \n",
    "# file.write(\"and this is another line.\") \n",
    "# file.write(\"Why? Because we can.\") \n",
    "print (\"test\", file=afile)\n",
    "afile.close() "
   ]
  },
  {
   "cell_type": "code",
   "execution_count": null,
   "metadata": {
    "collapsed": true
   },
   "outputs": [],
   "source": [
    "# import pandas as pd\n",
    "# x = pd.DataFrame({0: [1,2,float('nan')], 1: [4,5,6], 2: [7,8,9] })\n",
    "# y = pd.Series([-1, float('nan'), -1])\n",
    "# print (y)\n",
    "# # display(x.apply(lambda col: y*col))\n",
    "\n",
    "# q = session.query(\n",
    "#       PRR.r_tss, PRR.r_turbidity, PRR.r_p, PRR.r_n, PRR.r_nn, PRR.r_an,\n",
    "#       PRR.r_og, PRR.r_cu, PRR.r_zn, PRR.r_fe, PRR.r_phmin, PRR.r_phmax\n",
    "# ).limit(1)\n",
    "# pd_rr = pd.read_sql(q.statement,session.bind).applymap(lambda el: 0 if el is None else el) #change nonetypes to 0 rem\n",
    "# display(pd_rr)\n",
    "# ls_c = ['c_' + Constituent for Constituent in pollLS] #make list of concentration headers \n",
    "# pd_c = pd_ExConcs.loc[pd_ExConcs['Facility_ID'] == 1, ls_c]\n",
    "# display(pd_c)\n",
    "\n",
    "# print (pd_rr['r_tss'][0])\n",
    "\n",
    "# # pd_ConcsRed = pd_ExConcs.loc[pd_ExConcs['Facility_ID'] ==155, ['Facility_ID', 'sample_date']]\n",
    "# # for Constituent in pollLS:\n",
    "# #     pd_ConcsRed['c_' + Constituent] = pd_c['c_' + Constituent] * pd_rr['r_' + Constituent][0]\n",
    "\n",
    "\n",
    "\n",
    "# display(pd_ConcsRed)"
   ]
  },
  {
   "cell_type": "code",
   "execution_count": null,
   "metadata": {
    "collapsed": true
   },
   "outputs": [],
   "source": [
    "#WHICH METHOD IS FASTER? APPLY OR LIST COMPREHENSION?\n",
    "num = 10000\n",
    "start_time = time.time()\n",
    "def fun1a(x):\n",
    "    return pd.DataFrame([{'fun1':x.loc['id']}])\n",
    "pd_maina = pd.DataFrame([{'id': i} for i in range(0,num)])\n",
    "pd_maina['fun1'] = pd_maina.apply(lambda x: fun1a(x), axis=1)\n",
    "print ('--- %s execution time in seconds ---' % (time.time() - start_time))\n",
    "# display(pd_maina)\n",
    "\n",
    "start_time = time.time()\n",
    "def fun1b(x):\n",
    "    return pd.DataFrame([{'fun1':x}])\n",
    "pd_mainb = pd.DataFrame([{'id': i} for i in range(0,num)])\n",
    "ls = [fun1b(x) for x in range(0,num)]\n",
    "pd_tmp = pd.concat(ls)\n",
    "pd_tmp.reset_index(drop=True, inplace=True)\n",
    "# display(pd_mainb)\n",
    "# display(pd_tmp)\n",
    "g = pd.concat([pd_mainb,pd_tmp], axis=1)\n",
    "print ('--- %s execution time in seconds ---' % (time.time() - start_time))\n",
    "# display(g)\n",
    "\n",
    "# display(pd_main)"
   ]
  },
  {
   "cell_type": "code",
   "execution_count": null,
   "metadata": {
    "collapsed": true
   },
   "outputs": [],
   "source": [
    "#nested list comprehension to concat dataframes:\n",
    "\n",
    "\n",
    "def fun(x):\n",
    "    return pd.DataFrame([{'1':x*1}]), pd.DataFrame([{'2':x*2}]), pd.DataFrame([{'3':x*3}])\n",
    "#this LC stores 3 dataframes per fun call into a single element of list LS\n",
    "ls = [fun(x) for x in range(0,10)]\n",
    "\n",
    "#this concats the stored dataframe lists into 3 separate dataframes, outputting each dataframe as we go\n",
    "for i in range(0,3):\n",
    "    col = [x[i] for x in ls]\n",
    "    dfcol = pd.concat(col)\n",
    "    display(dfcol)\n",
    "\n",
    "#this LC captures the dataframes into a list and then concatenates to a single dataframe\n",
    "lsall = [pd.concat([x[i] for i in range(0,3)], axis=1)  for x in ls]\n",
    "df = pd.concat(lsall)\n",
    "df"
   ]
  },
  {
   "cell_type": "code",
   "execution_count": null,
   "metadata": {
    "collapsed": true
   },
   "outputs": [],
   "source": [
    "def xx(g):\n",
    "    return g*1, 2, 4\n",
    "\n",
    "\n",
    "ls_pd = [\n",
    "            xx(i) for CBOLen in range (1,4) for i in range(0,CBOLen)\n",
    "        ]\n",
    "print (len(ls_pd))\n",
    "print (ls_pd)\n",
    "\n",
    "for CBOLen in range (1,4):\n",
    "    for i in range(0,CBOLen):\n",
    "        print (xx(i))\n",
    "        "
   ]
  },
  {
   "cell_type": "code",
   "execution_count": null,
   "metadata": {
    "collapsed": true
   },
   "outputs": [],
   "source": [
    "def fun(i):\n",
    "    return [{'a':1, 'b':2}]\n",
    "# ls = [{}]\n",
    "# ls = ls + fun()\n",
    "ls = [a for i in range(4) for a in fun(i) ]\n",
    "\n",
    "print (ls)"
   ]
  },
  {
   "cell_type": "code",
   "execution_count": null,
   "metadata": {
    "collapsed": true
   },
   "outputs": [],
   "source": [
    "#SHALLOW COPY PANDAS\n",
    "import pandas as pd\n",
    "\n",
    "\n",
    "\n",
    "ipl_data = {'Team': ['Riders', 'Riders', 'Devils', 'Devils', 'Kings',\n",
    "         'kings', 'Kings', 'Kings', 'Riders', 'Royals', 'Royals', 'Riders'],\n",
    "         'Rank': [1, 2, 2, 3, 3,4 ,1 ,1,2 , 4,1,2],\n",
    "         'Year': [2014,2015,2014,2015,2014,2015,2016,2017,2016,2014,2015,2017],\n",
    "         'Points':[876,789,863,673,741,812,756,788,694,701,804,690]}\n",
    "df = pd.DataFrame(ipl_data)\n",
    "# display (df)\n",
    "\n",
    "def fun(pd_me):\n",
    "    print ('df id in fun: ', id(pd_me))\n",
    "    pd_me = pd.concat([pd_me,pd_me]) #<--this causes a new item to be made\n",
    "    return pd_me\n",
    "\n",
    "print ('df id before fun pass ', id(df))\n",
    "df_new = fun(df)\n",
    "print ('df id after fun pass ', id(df_new))\n",
    "\n",
    "df_new['g'] = 0\n",
    "print (id(df_new))\n",
    "\n",
    "\n",
    "def fun2(aslice):\n",
    "    aslice['a'] = 100\n",
    "    return aslice\n",
    "    \n",
    "df.loc[:,['Year']] = fun2(df.loc[:,['Year']])\n",
    "display (df)"
   ]
  },
  {
   "cell_type": "code",
   "execution_count": null,
   "metadata": {
    "collapsed": true
   },
   "outputs": [],
   "source": [
    "#RENAME PANDAS COLUMNS\n",
    "ipl_data = {'gTeam': ['Riders', 'Riders', 'Devils', 'Devils', 'Kings',\n",
    "         'kings', 'Kings', 'Kings', 'Riders', 'Royals', 'Royals', 'Riders'],\n",
    "         'gRank': [1, 2, 2, 3, 3,4 ,1 ,1,2 , 4,1,2],\n",
    "         'gYear': [2014,2015,2014,2015,2014,2015,2016,2017,2016,2014,2015,2017],\n",
    "         'gPoints':[876,789,863,673,741,812,756,788,694,701,804,690]}\n",
    "df = pd.DataFrame(ipl_data)\n",
    "\n",
    "\n",
    "ls = list(df.columns)\n",
    "dict_repl = {col: col.replace('g','',1) for col in ls}\n",
    "df = df.rename(columns = dict_repl)\n",
    "print (dict_repl)\n",
    "print (df.shape[0])\n",
    "df\n"
   ]
  },
  {
   "cell_type": "code",
   "execution_count": null,
   "metadata": {
    "collapsed": true
   },
   "outputs": [],
   "source": [
    "df = pd.DataFrame({'rep':[0,1,1,1,2,3,2,3,4,5,1]})\n",
    "df['rep_f'] = df['rep']!=df['rep']\n",
    "display(df)\n",
    "df['rep_f'] = (df['rep']!=df['rep'].shift())\n",
    "df['rep_f'] = (df['rep']!=df['rep'].shift()).cumsum()-1\n",
    "df"
   ]
  },
  {
   "cell_type": "code",
   "execution_count": null,
   "metadata": {
    "collapsed": true
   },
   "outputs": [],
   "source": [
    "#accessing data differently using panels - it's how you do axis\n",
    "df= np.random.binomial(100, 0.95, (9,3))\n",
    "dm = np.random.binomial(100, 0.9, [9,3])\n",
    "dff = pd.DataFrame(df, columns = ['Physics', 'Math', 'Art'])\n",
    "dfm = pd.DataFrame(dm, columns = ['Physics', 'Math', 'Art'])\n",
    "score_panel = pd.Panel({'Girls': dff, 'Boys': dfm})\n",
    "display (dff)\n",
    "display (dfm)\n",
    "dff.apply(lambda row: row['Physics'] - row['Math'], axis=1)\n",
    "\n",
    "# display(score_panel)\n",
    "# score_panel.apply(lambda adf: adf.apply(lambda row: row['Physics'] - row['Math']))\n",
    "\n",
    "#using axis in apply, axis is the key: from the docs:   \n",
    "'''\n",
    "Function to apply to each combination of ‘other’ axes \n",
    "e.g. if axis = ‘items’, the combination of major_axis/minor_axis will each be passed as a Series; \n",
    "if axis = (‘items’, ‘major’), DataFrames of items & major axis will be passed\n",
    "\n",
    "'''    \n",
    "# score_panel.apply(lambda x: print(x), axis=[0,1]) #\n",
    "\n",
    "# score_panel.apply(lambda x: print(x), axis=[0,2]) #\n",
    "\n",
    "# score_panel.apply(lambda x: print(x), axis=[1,0]) #\n",
    "\n",
    "# score_panel.apply(lambda x: print(x), axis=[2,0]) #\n",
    "\n",
    "# score_panel.apply(lambda x: print(x), axis='items') #\n",
    "\n",
    "score_panel['Girls'].apply(lambda x: print(x), axis = 1)\n",
    "score_panel['Boys'].apply(lambda x: print(x), axis = 1)"
   ]
  },
  {
   "cell_type": "code",
   "execution_count": 29,
   "metadata": {},
   "outputs": [
    {
     "data": {
      "text/html": [
       "<div>\n",
       "<style>\n",
       "    .dataframe thead tr:only-child th {\n",
       "        text-align: right;\n",
       "    }\n",
       "\n",
       "    .dataframe thead th {\n",
       "        text-align: left;\n",
       "    }\n",
       "\n",
       "    .dataframe tbody tr th {\n",
       "        vertical-align: top;\n",
       "    }\n",
       "</style>\n",
       "<table border=\"1\" class=\"dataframe\">\n",
       "  <thead>\n",
       "    <tr style=\"text-align: right;\">\n",
       "      <th></th>\n",
       "      <th>Physics</th>\n",
       "      <th>Math</th>\n",
       "      <th>Art</th>\n",
       "    </tr>\n",
       "  </thead>\n",
       "  <tbody>\n",
       "    <tr>\n",
       "      <th>0</th>\n",
       "      <td>51</td>\n",
       "      <td>54</td>\n",
       "      <td>43</td>\n",
       "    </tr>\n",
       "    <tr>\n",
       "      <th>1</th>\n",
       "      <td>51</td>\n",
       "      <td>49</td>\n",
       "      <td>53</td>\n",
       "    </tr>\n",
       "    <tr>\n",
       "      <th>2</th>\n",
       "      <td>57</td>\n",
       "      <td>46</td>\n",
       "      <td>47</td>\n",
       "    </tr>\n",
       "    <tr>\n",
       "      <th>3</th>\n",
       "      <td>44</td>\n",
       "      <td>50</td>\n",
       "      <td>51</td>\n",
       "    </tr>\n",
       "    <tr>\n",
       "      <th>4</th>\n",
       "      <td>44</td>\n",
       "      <td>46</td>\n",
       "      <td>51</td>\n",
       "    </tr>\n",
       "    <tr>\n",
       "      <th>5</th>\n",
       "      <td>64</td>\n",
       "      <td>49</td>\n",
       "      <td>46</td>\n",
       "    </tr>\n",
       "    <tr>\n",
       "      <th>6</th>\n",
       "      <td>53</td>\n",
       "      <td>50</td>\n",
       "      <td>56</td>\n",
       "    </tr>\n",
       "    <tr>\n",
       "      <th>7</th>\n",
       "      <td>57</td>\n",
       "      <td>47</td>\n",
       "      <td>48</td>\n",
       "    </tr>\n",
       "    <tr>\n",
       "      <th>8</th>\n",
       "      <td>56</td>\n",
       "      <td>48</td>\n",
       "      <td>38</td>\n",
       "    </tr>\n",
       "  </tbody>\n",
       "</table>\n",
       "</div>"
      ],
      "text/plain": [
       "   Physics  Math  Art\n",
       "0       51    54   43\n",
       "1       51    49   53\n",
       "2       57    46   47\n",
       "3       44    50   51\n",
       "4       44    46   51\n",
       "5       64    49   46\n",
       "6       53    50   56\n",
       "7       57    47   48\n",
       "8       56    48   38"
      ]
     },
     "metadata": {},
     "output_type": "display_data"
    },
    {
     "data": {
      "text/html": [
       "<div>\n",
       "<style>\n",
       "    .dataframe thead tr:only-child th {\n",
       "        text-align: right;\n",
       "    }\n",
       "\n",
       "    .dataframe thead th {\n",
       "        text-align: left;\n",
       "    }\n",
       "\n",
       "    .dataframe tbody tr th {\n",
       "        vertical-align: top;\n",
       "    }\n",
       "</style>\n",
       "<table border=\"1\" class=\"dataframe\">\n",
       "  <thead>\n",
       "    <tr style=\"text-align: right;\">\n",
       "      <th></th>\n",
       "      <th>Physics</th>\n",
       "      <th>Math</th>\n",
       "      <th>Art</th>\n",
       "    </tr>\n",
       "  </thead>\n",
       "  <tbody>\n",
       "    <tr>\n",
       "      <th>0</th>\n",
       "      <td>51</td>\n",
       "      <td>54</td>\n",
       "      <td>43</td>\n",
       "    </tr>\n",
       "    <tr>\n",
       "      <th>1</th>\n",
       "      <td>51</td>\n",
       "      <td>49</td>\n",
       "      <td>53</td>\n",
       "    </tr>\n",
       "    <tr>\n",
       "      <th>2</th>\n",
       "      <td>57</td>\n",
       "      <td>46</td>\n",
       "      <td>47</td>\n",
       "    </tr>\n",
       "    <tr>\n",
       "      <th>3</th>\n",
       "      <td>0</td>\n",
       "      <td>50</td>\n",
       "      <td>51</td>\n",
       "    </tr>\n",
       "    <tr>\n",
       "      <th>4</th>\n",
       "      <td>0</td>\n",
       "      <td>46</td>\n",
       "      <td>51</td>\n",
       "    </tr>\n",
       "    <tr>\n",
       "      <th>5</th>\n",
       "      <td>64</td>\n",
       "      <td>49</td>\n",
       "      <td>46</td>\n",
       "    </tr>\n",
       "    <tr>\n",
       "      <th>6</th>\n",
       "      <td>53</td>\n",
       "      <td>50</td>\n",
       "      <td>56</td>\n",
       "    </tr>\n",
       "    <tr>\n",
       "      <th>7</th>\n",
       "      <td>57</td>\n",
       "      <td>47</td>\n",
       "      <td>48</td>\n",
       "    </tr>\n",
       "    <tr>\n",
       "      <th>8</th>\n",
       "      <td>56</td>\n",
       "      <td>48</td>\n",
       "      <td>38</td>\n",
       "    </tr>\n",
       "  </tbody>\n",
       "</table>\n",
       "</div>"
      ],
      "text/plain": [
       "   Physics  Math  Art\n",
       "0       51    54   43\n",
       "1       51    49   53\n",
       "2       57    46   47\n",
       "3        0    50   51\n",
       "4        0    46   51\n",
       "5       64    49   46\n",
       "6       53    50   56\n",
       "7       57    47   48\n",
       "8       56    48   38"
      ]
     },
     "execution_count": 29,
     "metadata": {},
     "output_type": "execute_result"
    }
   ],
   "source": [
    "#replace values in a specific column based on condition\n",
    "df= np.random.binomial(100, 0.50, (9,3))\n",
    "dff = pd.DataFrame(df, columns = ['Physics', 'Math', 'Art'])\n",
    "display(dff)\n",
    "dff.loc[dff['Physics']<50, 'Physics'] = 0 #replace physics scores <50 w/ 0\n",
    "dff"
   ]
  },
  {
   "cell_type": "code",
   "execution_count": null,
   "metadata": {
    "collapsed": true
   },
   "outputs": [],
   "source": [
    "left = pd.DataFrame({'key': ['K0', 'K0', 'K2', 'K3'],\n",
    "'A': ['A0', 'A1', 'A2', 'A3'],\n",
    "'B': ['B0', 'B1', 'B2', 'B3']})\n",
    "\n",
    "\n",
    "right = pd.DataFrame({'key': ['K0', 'K0', 'K2', 'K3'],\n",
    "'C': ['C0', 'C1', 'C2', 'C3'],\n",
    "'D': ['D0', 'D1', 'D2', 'D3']})\n",
    "\n",
    "\n",
    "\n",
    "result = pd.merge(left, right, on='key')\n",
    "result"
   ]
  },
  {
   "cell_type": "code",
   "execution_count": null,
   "metadata": {
    "collapsed": true
   },
   "outputs": [],
   "source": [
    "def dictAppend(Append2Dict, DictVals):\n",
    "    if len(Append2Dict) == 0:\n",
    "        return DictVals\n",
    "    else:\n",
    "        for k,v in DictVals.items():\n",
    "            Append2Dict[k] = Append2Dict[k] + v\n",
    "        return Append2Dict\n",
    "\n",
    "d0 = {}\n",
    "d1 = {'a':[1,2,3], 'b': ['a','aa', 'aaa']}\n",
    "d0 = dictAppend(d0,d1)\n",
    "d0\n",
    "d1 = {'a':[4,5,6], 'b': ['xa','aax', 'axaa']}\n",
    "d0 = dictAppend(d0,d1)\n",
    "d0"
   ]
  },
  {
   "cell_type": "code",
   "execution_count": null,
   "metadata": {
    "collapsed": true
   },
   "outputs": [],
   "source": [
    "df_test = pd.DataFrame([\n",
    "    {'dir': '/Users/uname1', 'size': 994933},\n",
    "    {'dir': '/Users/uname2', 'size': 109338711},\n",
    "])\n",
    "\n",
    "import locale\n",
    "def sizes(s):    \n",
    "    return locale.format(\"%.1f\", s / 1024.0, grouping=True) + ' KB', \\\n",
    "        locale.format(\"%.1f\", s / 1024.0 ** 2, grouping=True) + ' MB', \\\n",
    "        locale.format(\"%.1f\", s / 1024.0 ** 3, grouping=True) + ' GB'\n",
    "df_test['size_kb'],  df_test['size_mb'], df_test['size_gb'] = zip(*df_test['size'].apply(sizes))\n",
    "display(df_test)\n",
    "df_test['size_kb'].tolist()"
   ]
  },
  {
   "cell_type": "code",
   "execution_count": 17,
   "metadata": {},
   "outputs": [
    {
     "data": {
      "text/plain": [
       "deque([0, 1, 2, 3, 4, 5, 6, 7, 8, 9])"
      ]
     },
     "metadata": {},
     "output_type": "display_data"
    },
    {
     "name": "stdout",
     "output_type": "stream",
     "text": [
      "deque([1, 2, 3, 4, 5, 10])\n"
     ]
    },
    {
     "data": {
      "text/plain": [
       "deque([2, 1])"
      ]
     },
     "metadata": {},
     "output_type": "display_data"
    },
    {
     "data": {
      "text/plain": [
       "deque([4, 2])"
      ]
     },
     "metadata": {},
     "output_type": "display_data"
    },
    {
     "name": "stdout",
     "output_type": "stream",
     "text": [
      "2\n"
     ]
    },
    {
     "data": {
      "text/plain": [
       "4"
      ]
     },
     "execution_count": 17,
     "metadata": {},
     "output_type": "execute_result"
    }
   ],
   "source": [
    "#using deque\n",
    "from collections import deque\n",
    "\n",
    "s = range(10)\n",
    "d = deque(s)\n",
    "display(d)\n",
    "d.pop #pop right side\n",
    "d.popleft\n",
    "\n",
    "d.extendleft([0])\n",
    "d.extend([6,7,8])\n",
    "\n",
    "d = deque(maxlen=6)\n",
    "d = deque([1,2,3,4,5])\n",
    "\n",
    "d.append(10) #append right side\n",
    "print (d)\n",
    "d.appendleft(-1)\n",
    "d\n",
    "\n",
    "d1 = deque(maxlen=2)\n",
    "d1.appendleft(1)\n",
    "d1.appendleft(2)\n",
    "display(d1)\n",
    "d1.appendleft(4)\n",
    "display(d1)\n",
    "print (len(d1))\n",
    "d1[0]"
   ]
  },
  {
   "cell_type": "code",
   "execution_count": 16,
   "metadata": {},
   "outputs": [
    {
     "data": {
      "text/plain": [
       "0.43414423666920243"
      ]
     },
     "execution_count": 16,
     "metadata": {},
     "output_type": "execute_result"
    }
   ],
   "source": [
    "15 % 2\n",
    "import random\n",
    "random.randint(0,1)\n",
    "random.uniform(0, 1)"
   ]
  },
  {
   "cell_type": "code",
   "execution_count": 4,
   "metadata": {},
   "outputs": [
    {
     "data": {
      "text/plain": [
       "0.0"
      ]
     },
     "execution_count": 4,
     "metadata": {},
     "output_type": "execute_result"
    }
   ],
   "source": [
    "import math\n",
    "math.pow(2-2,2)"
   ]
  },
  {
   "cell_type": "code",
   "execution_count": 1,
   "metadata": {},
   "outputs": [
    {
     "name": "stdout",
     "output_type": "stream",
     "text": [
      "0\n"
     ]
    }
   ],
   "source": [
    "from collections import deque\n",
    "dict_hist = {'0.5': deque(maxlen=5)}\n",
    "# dict_hist['0.5'].appendleft(9)\n",
    "print (len(dict_hist['0.5']))\n",
    "# g = dict_hist['0.5'][0]\n"
   ]
  },
  {
   "cell_type": "code",
   "execution_count": 1,
   "metadata": {},
   "outputs": [
    {
     "name": "stdout",
     "output_type": "stream",
     "text": [
      "[10]\n",
      "10\n"
     ]
    }
   ],
   "source": [
    "import numpy as np\n",
    "ls=[]\n",
    "ls = ls + [10]\n",
    "print (ls)\n",
    "asum = 0\n",
    "for i in ls:\n",
    "    asum = asum + i\n",
    "print (asum)"
   ]
  },
  {
   "cell_type": "code",
   "execution_count": 28,
   "metadata": {},
   "outputs": [
    {
     "data": {
      "text/html": [
       "<div>\n",
       "<style>\n",
       "    .dataframe thead tr:only-child th {\n",
       "        text-align: right;\n",
       "    }\n",
       "\n",
       "    .dataframe thead th {\n",
       "        text-align: left;\n",
       "    }\n",
       "\n",
       "    .dataframe tbody tr th {\n",
       "        vertical-align: top;\n",
       "    }\n",
       "</style>\n",
       "<table border=\"1\" class=\"dataframe\">\n",
       "  <thead>\n",
       "    <tr style=\"text-align: right;\">\n",
       "      <th></th>\n",
       "      <th>walkno</th>\n",
       "      <th>idxFacBMPAssignment</th>\n",
       "      <th>tgtRR</th>\n",
       "      <th>actRR</th>\n",
       "      <th>objFunVal</th>\n",
       "      <th>best_walkno</th>\n",
       "      <th>best_objFunVal</th>\n",
       "      <th>exPEP_BaseRisk</th>\n",
       "      <th>RedPEP_BaseRisk</th>\n",
       "      <th>exTotal_BaseRisk</th>\n",
       "      <th>RedTotal_BaseRisk</th>\n",
       "      <th>CIP_Cost</th>\n",
       "      <th>CIP_NormCost</th>\n",
       "      <th>OM_Cost</th>\n",
       "    </tr>\n",
       "  </thead>\n",
       "  <tbody>\n",
       "  </tbody>\n",
       "</table>\n",
       "</div>"
      ],
      "text/plain": [
       "Empty DataFrame\n",
       "Columns: [walkno, idxFacBMPAssignment, tgtRR, actRR, objFunVal, best_walkno, best_objFunVal, exPEP_BaseRisk, RedPEP_BaseRisk, exTotal_BaseRisk, RedTotal_BaseRisk, CIP_Cost, CIP_NormCost, OM_Cost]\n",
       "Index: []"
      ]
     },
     "metadata": {},
     "output_type": "display_data"
    },
    {
     "data": {
      "text/html": [
       "<div>\n",
       "<style>\n",
       "    .dataframe thead tr:only-child th {\n",
       "        text-align: right;\n",
       "    }\n",
       "\n",
       "    .dataframe thead th {\n",
       "        text-align: left;\n",
       "    }\n",
       "\n",
       "    .dataframe tbody tr th {\n",
       "        vertical-align: top;\n",
       "    }\n",
       "</style>\n",
       "<table border=\"1\" class=\"dataframe\">\n",
       "  <thead>\n",
       "    <tr style=\"text-align: right;\">\n",
       "      <th></th>\n",
       "      <th>walkno</th>\n",
       "      <th>idxFacBMPAssignment</th>\n",
       "      <th>tgtRR</th>\n",
       "      <th>actRR</th>\n",
       "      <th>objFunVal</th>\n",
       "      <th>best_walkno</th>\n",
       "      <th>best_objFunVal</th>\n",
       "      <th>exPEP_BaseRisk</th>\n",
       "      <th>RedPEP_BaseRisk</th>\n",
       "      <th>exTotal_BaseRisk</th>\n",
       "      <th>RedTotal_BaseRisk</th>\n",
       "      <th>CIP_Cost</th>\n",
       "      <th>CIP_NormCost</th>\n",
       "      <th>OM_Cost</th>\n",
       "    </tr>\n",
       "  </thead>\n",
       "  <tbody>\n",
       "    <tr>\n",
       "      <th>0</th>\n",
       "      <td>NaN</td>\n",
       "      <td>NaN</td>\n",
       "      <td>NaN</td>\n",
       "      <td>NaN</td>\n",
       "      <td>1.000000e+12</td>\n",
       "      <td>0.0</td>\n",
       "      <td>1.000000e+12</td>\n",
       "      <td>NaN</td>\n",
       "      <td>NaN</td>\n",
       "      <td>NaN</td>\n",
       "      <td>NaN</td>\n",
       "      <td>NaN</td>\n",
       "      <td>NaN</td>\n",
       "      <td>NaN</td>\n",
       "    </tr>\n",
       "  </tbody>\n",
       "</table>\n",
       "</div>"
      ],
      "text/plain": [
       "   walkno  idxFacBMPAssignment  tgtRR  actRR     objFunVal  best_walkno  \\\n",
       "0     NaN                  NaN    NaN    NaN  1.000000e+12          0.0   \n",
       "\n",
       "   best_objFunVal  exPEP_BaseRisk  RedPEP_BaseRisk  exTotal_BaseRisk  \\\n",
       "0    1.000000e+12             NaN              NaN               NaN   \n",
       "\n",
       "   RedTotal_BaseRisk  CIP_Cost  CIP_NormCost  OM_Cost  \n",
       "0                NaN       NaN           NaN      NaN  "
      ]
     },
     "execution_count": 28,
     "metadata": {},
     "output_type": "execute_result"
    }
   ],
   "source": [
    "import pandas as pd\n",
    "dict_def = [{'walkno':np.nan,'idxFacBMPAssignment':np.nan,'tgtRR':np.nan, 'actRR':np.nan,\n",
    "             'objFunVal':1e+12, 'best_walkno': 0, 'best_objFunVal': 1e+12,\n",
    "             'exPEP_BaseRisk':np.nan, 'RedPEP_BaseRisk':np.nan, \n",
    "             'exTotal_BaseRisk':np.nan, 'RedTotal_BaseRisk':np.nan, \n",
    "                'CIP_Cost':np.nan,'CIP_NormCost': np.nan ,'OM_Cost':np.nan}]\n",
    "pd_tgtRR_tplt = pd.DataFrame(dict_def)\n",
    "pd_tgtRR_tplt = pd_tgtRR_tplt[['walkno','idxFacBMPAssignment', 'tgtRR', 'actRR',\n",
    "                               'objFunVal','best_walkno', 'best_objFunVal',\n",
    "                               'exPEP_BaseRisk', 'RedPEP_BaseRisk', 'exTotal_BaseRisk',\n",
    "                               'RedTotal_BaseRisk', 'CIP_Cost', 'CIP_NormCost', 'OM_Cost']]\n",
    "\n",
    "pd_main = pd_tgtRR_tplt.copy(deep=True)\n",
    "pd_main = pd_main.drop(pd_main.index[[0]])\n",
    "display(pd_main)\n",
    "pd_A1 = pd_tgtRR_tplt.copy(deep=True)\n",
    "\n",
    "pd_main.loc[len(pd_main)] = pd_A1.values.tolist()[0]\n",
    "pd_main"
   ]
  },
  {
   "cell_type": "code",
   "execution_count": null,
   "metadata": {
    "collapsed": true
   },
   "outputs": [],
   "source": []
  }
 ],
 "metadata": {
  "kernelspec": {
   "display_name": "Python 3",
   "language": "python",
   "name": "python3"
  },
  "language_info": {
   "codemirror_mode": {
    "name": "ipython",
    "version": 3
   },
   "file_extension": ".py",
   "mimetype": "text/x-python",
   "name": "python",
   "nbconvert_exporter": "python",
   "pygments_lexer": "ipython3",
   "version": "3.6.3"
  }
 },
 "nbformat": 4,
 "nbformat_minor": 2
}
