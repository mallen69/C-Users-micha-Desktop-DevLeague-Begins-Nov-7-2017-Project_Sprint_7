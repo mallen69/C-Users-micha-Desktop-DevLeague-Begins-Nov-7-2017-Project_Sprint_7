{
 "cells": [
  {
   "cell_type": "code",
   "execution_count": null,
   "metadata": {
    "collapsed": true
   },
   "outputs": [],
   "source": [
    "# Serial Data Slayer - killing inefficiencies with data serialization\n",
    "#### 12/11/17 | Jon Honda | Sprint #3\n",
    "#### Description\n",
    "I will explore how data serialization in python can be used to more efficiently store and retrieve database data from one data field instead of multiple fields. This should allow me to reduce the number of data tables and code needed to interact with data tables.\n",
    "\n",
    "## Skill Backlog User Story\n",
    "As a data engineer, I need to understand how to implement data serialization So that I can implement data solutions more efficiently. \n",
    "\n",
    "## Project Proposal\n",
    "I propose to implement pickling in python to serialize data about mathematical expressions stored in a database. Serialization should reduce the number of data tables and python code development since we can store multiple pieces of information about an expression in a serialized data field.\n",
    "\n",
    "## Key Questions\n",
    "- If someone asks me what data serialization is, what would I say?\n",
    "- What is pickling?\n",
    "- What are some specific efficiencies gained by using data serialization?\n",
    "- How is serialized data stored in a SQLite database?\n",
    "\n",
    "## Key Findings\n",
    "- A running list of things that I'm learning and don't want to forget\n",
    "\n",
    "## Gameplan\n",
    "Here is my overall approach \n",
    "1. Define a bunch of expressions, including variables, variable data types, if variable is itself another expression\n",
    "2. Sketch out how you would approach this problem w/o data serialization\n",
    "3. Explore pickling - how to use it, how to store nested data\n",
    "4. Is recursion still needed to make system work?\n",
    "5. Fog of uncertainty so thick....can't see what to do after this.\n",
    "\n",
    "---\n",
    "\n",
    "## Day 1 Work"
   ]
  },
  {
   "cell_type": "code",
   "execution_count": 2,
   "metadata": {},
   "outputs": [
    {
     "name": "stdout",
     "output_type": "stream",
     "text": [
      "0\n"
     ]
    }
   ],
   "source": [
    "#### I googled python pickle and got this: https://docs.python.org/3/library/pickle.html\n",
    "\n"
   ]
  },
  {
   "cell_type": "code",
   "execution_count": null,
   "metadata": {
    "collapsed": true
   },
   "outputs": [],
   "source": [
    "## Day 2 Work\n",
    "\n",
    "This is what I tried to do on Day 2. Here's some more code\n",
    "\n",
    "## Peer Feedback on Day 3\n",
    "\n",
    "After talking it over with a peer, I received the following feedback and decided to make these changes\n",
    "\n",
    "## Here are some overall notes on the skills I learned\n",
    "And perhaps some stream of consciousness notes about what I did, and other questions I might have"
   ]
  }
 ],
 "metadata": {
  "kernelspec": {
   "display_name": "Python 3",
   "language": "python",
   "name": "python3"
  },
  "language_info": {
   "codemirror_mode": {
    "name": "ipython",
    "version": 3
   },
   "file_extension": ".py",
   "mimetype": "text/x-python",
   "name": "python",
   "nbconvert_exporter": "python",
   "pygments_lexer": "ipython3",
   "version": "3.6.3"
  }
 },
 "nbformat": 4,
 "nbformat_minor": 2
}
