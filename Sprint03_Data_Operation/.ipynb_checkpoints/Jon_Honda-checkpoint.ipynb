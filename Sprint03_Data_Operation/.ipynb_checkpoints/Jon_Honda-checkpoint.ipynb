{
 "cells": [
  {
   "cell_type": "markdown",
   "metadata": {
    "collapsed": true
   },
   "source": [
    "# Data Manipulation Sprint Journal for Jon Honda"
   ]
  },
  {
   "cell_type": "markdown",
   "metadata": {
    "collapsed": true
   },
   "source": [
    "---\n",
    "## DAY 1: Tuesday (Week 1)\n",
    "### What I Expect to Learn\n",
    "* If someone asks me what data serialization is, what would I say?\n",
    "* What is pickling?\n",
    "* What are some specific efficiencies gained by using data serialization?\n",
    "* How is serialized data stored in a SQLite database?\n",
    "\n",
    "### Project References\n",
    "\n",
    "\n",
    "### Project Pitch\n",
    "* I will explore how data serialization in python can be used to more efficiently store and retrieve database data from one data field instead of multiple fields. This should allow me to reduce the number of data tables and code needed to interact with data tables\n",
    "\n",
    "* I propose to implement pickling in python to serialize data about mathematical expressions stored in a database. Serialization should reduce the number of data tables and python code development since we can store multiple pieces of information about an expression in a serialized data field.\n",
    "\n",
    "## Gameplan\n",
    "Here is my overall approach \n",
    "1. Define a bunch of expressions, including variables, variable data types, if variable is itself another expression\n",
    "2. Sketch out how you would approach this problem w/o data serialization\n",
    "3. Explore pickling - how to use it, how to store nested data\n",
    "4. Is recursion still needed to make system work?\n",
    "5. Fog of uncertainty so thick....can't see what to do after this.\n"
   ]
  },
  {
   "cell_type": "code",
   "execution_count": null,
   "metadata": {
    "collapsed": true
   },
   "outputs": [],
   "source": [
    "#### I googled python pickle and got this: https://docs.python.org/3/library/pickle.html\n",
    "\n",
    "## BIG WARNING:\n",
    "#### Warning The pickle module is not secure against erroneous or maliciously constructed data. Never unpickle data received from an untrusted or unauthenticated source.\n",
    "\n",
    "#### more info: What is a pickle?  \n",
    "#### “Pickling” is the process whereby a Python object hierarchy is converted into a byte stream, and “unpickling” is the inverse operation, whereby a byte stream (from a binary file or bytes-like object) is converted back into an object hierarchy. Pickling (and unpickling) is alternatively known as “serialization”, “marshalling,” [1] or “flattening”; however, to avoid confusion, the terms used here are “pickling” and “unpickling”."
   ]
  },
  {
   "cell_type": "code",
   "execution_count": null,
   "metadata": {
    "collapsed": true
   },
   "outputs": [],
   "source": [
    "#### im seeing sevaral search returns saying not to serialize data:\n",
    "#### 1. https://news.ycombinator.com/item?id=11814002\n",
    "#### 2. http://www.benfrederickson.com/dont-pickle-your-data/\n",
    "#### 3. https://stackoverflow.com/questions/198692/can-i-pickle-a-python-dictionary-into-a-sqlite3-text-field\n",
    "\n",
    "#### re 2, comments here: https://news.ycombinator.com/item?id=7226207\n",
    "#### mostly say that JSON alternative to pickling works in some cases, but not all. need to decide on case-by-case basis if pickling is a good alternative\n",
    "#### also says pickling is kind of a hack, quick and dirty, not good if you need to query on the serialized data"
   ]
  },
  {
   "cell_type": "code",
   "execution_count": 1,
   "metadata": {},
   "outputs": [
    {
     "name": "stdout",
     "output_type": "stream",
     "text": [
      "{'a': [1, 2.0, 3, (4+6j)], 'b': ('character string', b'byte string'), 'c': {False, None, True}}\n"
     ]
    }
   ],
   "source": [
    "#### how to store and retrieve pickled data from SQLite db:\n",
    "#### https://stackoverflow.com/questions/198692/can-i-pickle-a-python-dictionary-into-a-sqlite3-text-field\n",
    "# I needed to achieve the same thing too.\n",
    "\n",
    "# I turns out it caused me quite a headache before I finally figured out, thanks to this post, how to actually make it work in a binary format.\n",
    "\n",
    "# To insert/update:\n",
    "\n",
    "# pdata = cPickle.dumps(data, cPickle.HIGHEST_PROTOCOL)\n",
    "# curr.execute(\"insert into table (data) values (:data)\", sqlite3.Binary(pdata))\n",
    "# You must specify the second argument to dumps to force a binary pickling.\n",
    "# Also note the sqlite3.Binary to make it fit in the BLOB field.\n",
    "\n",
    "# To retrieve data:\n",
    "\n",
    "# curr.execute(\"select data from table limit 1\")\n",
    "# for row in curr:\n",
    "#   data = cPickle.loads(str(row['data']))\n",
    "# When retrieving a BLOB field, sqlite3 gets a 'buffer' python type, that needs to be strinyfied using str before being passed to the loads method.\n",
    "\n",
    "\n",
    "#### from the python documentation: https://docs.python.org/3/library/pickle.html\n",
    "#### Pickle the data: For the simplest code, use the dump() and load() functions.\n",
    "import pickle\n",
    "\n",
    "# An arbitrary collection of objects supported by pickle.\n",
    "data = {\n",
    "    'a': [1, 2.0, 3, 4+6j],\n",
    "    'b': (\"character string\", b\"byte string\"),\n",
    "    'c': {None, True, False}\n",
    "}\n",
    "\n",
    "with open('data.pickle', 'wb') as f: #### create a file to write binary data to\n",
    "    # Pickle the 'data' dictionary using the highest protocol available.\n",
    "    pickle.dump(data, f, pickle.HIGHEST_PROTOCOL) ####uses the latest pickling version\n",
    "\n",
    "    \n",
    "#### read pickled data:\n",
    "import pickle\n",
    "\n",
    "with open('data.pickle', 'rb') as f: #### read binary file data to memory\n",
    "    # The protocol version used is detected automatically, so we do not\n",
    "    # have to specify it.\n",
    "    data = pickle.load(f)\n",
    "print(data)\n"
   ]
  },
  {
   "cell_type": "markdown",
   "metadata": {},
   "source": [
    "--- \n",
    "## DAY 2: Wednesday (Week 1)\n",
    "### Pitch Feedback \n",
    "*These are comments I received or ideas I had from people's feedback to my pitch *\n",
    "\n",
    "### Prototype Notes\n",
    "*Results from prototype experiments, snippets of code, things I tried * \n",
    "\n",
    "### Pair Show & Tell Comments\n",
    "*Comments from prototype discussion*\n",
    "\n",
    "*These comments lead into plan development. Key considerations for me and my partner:  Do I have a plan? Is my plan feasible?*\n",
    "\n",
    "### Proposed Plan: Key Milestones by Day\n",
    "\n",
    "##### Day 2 (Wed Week 1):\n",
    "- Develop Project Proposal\n",
    "- Push Docs / Repo / Roadmap Update\n",
    "\n",
    "##### Day 3 (Thu Week 1):\n",
    "- *milestone 1*\n",
    "- *milestone 2*\n",
    "- *milestone X...*\n",
    "- Push docs / repo\n",
    "\n",
    "##### Day 4 (Tue Week 2): \n",
    "- *milestone X+1*\n",
    "- *milestone X+2*\n",
    "- *milestone X+3*\n",
    "- Push docs / repo\n",
    "\n",
    "##### Day 5 (Wed Week 2):\n",
    "- Project highlights\n",
    "- Identify question or cohort knowledge gap for sprint review\n",
    "- Develop Topic Project + Presentation\n",
    "- Push Repo / docs / Presentation\n",
    "\n",
    "### Project Definition and README.MD Discussion \n",
    "*This is a discussion of how this project will fit into my overall roadmap. I will update my roadmap with the following project definition*\n",
    "\n",
    "*I will focus my project Repo's README.MD on the same topic, but with this additional detail.*\n"
   ]
  },
  {
   "cell_type": "markdown",
   "metadata": {},
   "source": [
    "--- \n",
    "## DAY 3: Thursday (Week 1)\n",
    "\n",
    "#### Setup for Repo and Documentation Push\n",
    "*Setup and testing I did to make sure my repo and documentation were ready to push at the end of the day*\n",
    "\n",
    "#### Repo File Strategy Discussion\n",
    "*How I will present my repo files for clarity and demonstration*\n",
    "\n",
    "#### Work towards milestone 1\n",
    "*Work I did towards Milestone *\n",
    "\n",
    "#### Work towards milestone 2\n",
    "*Work I did towards Milestone *\n",
    "\n",
    "#### Work towards milestone 3\n",
    "*Work I did towards Milestone *\n",
    "\n",
    "\n"
   ]
  },
  {
   "cell_type": "markdown",
   "metadata": {},
   "source": [
    "---\n",
    "## DAY 4: Tuesday (Week 2)\n",
    "\n",
    "#### Work in Progress Feedback \n",
    "*Feedback and ideas from my work in progress presentation *\n",
    "\n",
    "#### Work towards milestone 1\n",
    "*Work I did towards Milestone *\n",
    "\n",
    "#### Work towards milestone 2\n",
    "*Work I did towards Milestone *\n",
    "\n",
    "#### Work towards milestone 3\n",
    "*Work I did towards Milestone *\n"
   ]
  },
  {
   "cell_type": "markdown",
   "metadata": {},
   "source": [
    "--- \n",
    "\n",
    "## DAY 5: Wednesday (Week 2)\n",
    "\n",
    "### Project Highlights: The things I am most excited about in my project\n",
    "Me\n",
    "- \n",
    "- \n",
    "- \n",
    "\n",
    "Peer Identified\n",
    "\n",
    "- \n",
    "- \n",
    "- \n",
    "\n",
    "### Peer Repo Feedback \n",
    "\n",
    "*Here are the changes I am making to my repo structure for additional clarity* \n",
    "- \n",
    "- \n",
    "- \n",
    "\n"
   ]
  },
  {
   "cell_type": "markdown",
   "metadata": {},
   "source": [
    "## Day 6: Thursday (Week 2)\n",
    "--- \n",
    "\n",
    "#### Things I didn't get to\n",
    "*Here are some ideas that I didn't get to implement, but wanted to. I will be adding these to my roadmap table entry for this sprint as well."
   ]
  },
  {
   "cell_type": "code",
   "execution_count": null,
   "metadata": {
    "collapsed": true
   },
   "outputs": [],
   "source": []
  }
 ],
 "metadata": {
  "kernelspec": {
   "display_name": "Python 3",
   "language": "python",
   "name": "python3"
  },
  "language_info": {
   "codemirror_mode": {
    "name": "ipython",
    "version": 3
   },
   "file_extension": ".py",
   "mimetype": "text/x-python",
   "name": "python",
   "nbconvert_exporter": "python",
   "pygments_lexer": "ipython3",
   "version": "3.6.3"
  }
 },
 "nbformat": 4,
 "nbformat_minor": 2
}
