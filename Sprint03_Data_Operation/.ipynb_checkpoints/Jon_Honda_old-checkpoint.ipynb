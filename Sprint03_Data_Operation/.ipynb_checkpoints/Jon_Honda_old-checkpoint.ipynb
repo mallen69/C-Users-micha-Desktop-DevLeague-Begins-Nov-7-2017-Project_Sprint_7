{
 "cells": [
  {
   "cell_type": "code",
   "execution_count": null,
   "metadata": {
    "collapsed": true
   },
   "outputs": [],
   "source": [
    "# Serial Data Slayer - killing inefficiencies with data serialization\n",
    "#### 12/11/17 | Jon Honda | Sprint #3\n",
    "#### Description\n",
    "\n",
    "## Skill Backlog User Story\n",
    "As a data engineer, I need to understand how to implement data serialization So that I can implement data solutions more efficiently. \n",
    "\n",
    "## Project Proposal\n",
    "I propose to implement pickling in python to serialize data about mathematical expressions stored in a database. Serialization should reduce the number of data tables and python code development since we can store multiple pieces of information about an expression in a serialized data field.\n",
    "\n",
    "## Key Questions\n",
    "- If someone asks me what data serialization is, what would I say?\n",
    "- What is pickling?\n",
    "- What are some specific efficiencies gained by using data serialization?\n",
    "- How is serialized data stored in a SQLite database?\n",
    "\n",
    "## Key Findings\n",
    "- A running list of things that I'm learning and don't want to forget\n",
    "\n",
    "## Gameplan\n",
    "Here is my overall approach \n",
    "1. Define a bunch of expressions, including variables, variable data types, if variable is itself another expression\n",
    "2. Sketch out how you would approach this problem w/o data serialization\n",
    "3. Explore pickling - how to use it, how to store nested data\n",
    "4. Is recursion still needed to make system work?\n",
    "5. Fog of uncertainty so thick....can't see what to do after this.\n",
    "\n",
    "---\n",
    "\n",
    "## Day 1 Work"
   ]
  },
  {
   "cell_type": "code",
   "execution_count": 3,
   "metadata": {
    "collapsed": true
   },
   "outputs": [],
   "source": [
    "#### I googled python pickle and got this: https://docs.python.org/3/library/pickle.html\n",
    "\n",
    "## BIG WARNING:\n",
    "#### Warning The pickle module is not secure against erroneous or maliciously constructed data. Never unpickle data received from an untrusted or unauthenticated source.\n",
    "\n",
    "#### more info: What is a pickle?  \n",
    "#### “Pickling” is the process whereby a Python object hierarchy is converted into a byte stream, and “unpickling” is the inverse operation, whereby a byte stream (from a binary file or bytes-like object) is converted back into an object hierarchy. Pickling (and unpickling) is alternatively known as “serialization”, “marshalling,” [1] or “flattening”; however, to avoid confusion, the terms used here are “pickling” and “unpickling”."
   ]
  },
  {
   "cell_type": "code",
   "execution_count": null,
   "metadata": {
    "collapsed": true
   },
   "outputs": [],
   "source": [
    "#### im seeing sevaral search returns saying not to serialize data:\n",
    "#### 1. https://news.ycombinator.com/item?id=11814002\n",
    "#### 2. http://www.benfrederickson.com/dont-pickle-your-data/\n",
    "#### 3. https://stackoverflow.com/questions/198692/can-i-pickle-a-python-dictionary-into-a-sqlite3-text-field\n",
    "\n",
    "#### re 2, comments here: https://news.ycombinator.com/item?id=7226207\n",
    "#### mostly say that JSON alternative to pickling works in some cases, but not all. need to decide on case-by-case basis if pickling is a good alternative\n",
    "#### also says pickling is kind of a hack, quick and dirty, not good if you need to query on the serialized data\n"
   ]
  },
  {
   "cell_type": "code",
   "execution_count": 7,
   "metadata": {},
   "outputs": [
    {
     "name": "stdout",
     "output_type": "stream",
     "text": [
      "{'a': [1, 2.0, 3, (4+6j)], 'b': ('character string', b'byte string'), 'c': {False, None, True}}\n"
     ]
    }
   ],
   "source": [
    "#### how to store and retrieve pickled data from SQLite db:\n",
    "#### https://stackoverflow.com/questions/198692/can-i-pickle-a-python-dictionary-into-a-sqlite3-text-field\n",
    "# I needed to achieve the same thing too.\n",
    "\n",
    "# I turns out it caused me quite a headache before I finally figured out, thanks to this post, how to actually make it work in a binary format.\n",
    "\n",
    "# To insert/update:\n",
    "\n",
    "# pdata = cPickle.dumps(data, cPickle.HIGHEST_PROTOCOL)\n",
    "# curr.execute(\"insert into table (data) values (:data)\", sqlite3.Binary(pdata))\n",
    "# You must specify the second argument to dumps to force a binary pickling.\n",
    "# Also note the sqlite3.Binary to make it fit in the BLOB field.\n",
    "\n",
    "# To retrieve data:\n",
    "\n",
    "# curr.execute(\"select data from table limit 1\")\n",
    "# for row in curr:\n",
    "#   data = cPickle.loads(str(row['data']))\n",
    "# When retrieving a BLOB field, sqlite3 gets a 'buffer' python type, that needs to be strinyfied using str before being passed to the loads method.\n",
    "\n",
    "\n",
    "#### from the python documentation: https://docs.python.org/3/library/pickle.html\n",
    "#### Pickle the data: For the simplest code, use the dump() and load() functions.\n",
    "import pickle\n",
    "\n",
    "# An arbitrary collection of objects supported by pickle.\n",
    "data = {\n",
    "    'a': [1, 2.0, 3, 4+6j],\n",
    "    'b': (\"character string\", b\"byte string\"),\n",
    "    'c': {None, True, False}\n",
    "}\n",
    "\n",
    "with open('data.pickle', 'wb') as f: #### create a file to write binary data to\n",
    "    # Pickle the 'data' dictionary using the highest protocol available.\n",
    "    pickle.dump(data, f, pickle.HIGHEST_PROTOCOL) ####uses the latest pickling version\n",
    "\n",
    "    \n",
    "#### read pickled data:\n",
    "import pickle\n",
    "\n",
    "with open('data.pickle', 'rb') as f: #### read binary file data to memory\n",
    "    # The protocol version used is detected automatically, so we do not\n",
    "    # have to specify it.\n",
    "    data = pickle.load(f)\n",
    "print(data)\n"
   ]
  },
  {
   "cell_type": "code",
   "execution_count": null,
   "metadata": {
    "collapsed": true
   },
   "outputs": [],
   "source": [
    "## Day 2 Work\n",
    "\n",
    "This is what I tried to do on Day 2. Here's some more code\n",
    "\n",
    "## Peer Feedback on Day 3\n",
    "\n",
    "After talking it over with a peer, I received the following feedback and decided to make these changes\n",
    "\n",
    "## Here are some overall notes on the skills I learned\n",
    "And perhaps some stream of consciousness notes about what I did, and other questions I might have"
   ]
  },
  {
   "cell_type": "code",
   "execution_count": null,
   "metadata": {
    "collapsed": true
   },
   "outputs": [],
   "source": []
  }
 ],
 "metadata": {
  "kernelspec": {
   "display_name": "Python 3",
   "language": "python",
   "name": "python3"
  },
  "language_info": {
   "codemirror_mode": {
    "name": "ipython",
    "version": 3
   },
   "file_extension": ".py",
   "mimetype": "text/x-python",
   "name": "python",
   "nbconvert_exporter": "python",
   "pygments_lexer": "ipython3",
   "version": "3.6.3"
  }
 },
 "nbformat": 4,
 "nbformat_minor": 2
}
