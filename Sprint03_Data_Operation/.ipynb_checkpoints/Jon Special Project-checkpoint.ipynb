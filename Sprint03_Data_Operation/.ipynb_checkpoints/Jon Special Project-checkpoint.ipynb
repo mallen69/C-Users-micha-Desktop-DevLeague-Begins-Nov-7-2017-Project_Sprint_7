{
 "cells": [
  {
   "cell_type": "code",
   "execution_count": null,
   "metadata": {
    "collapsed": true
   },
   "outputs": [],
   "source": [
    "## - My Strucutral BMP Modeling Notes\n",
    "#### Notes on effort to develop a model that identifies structural BMPs for City facilities to reduce their storm water quality pollution risks."
   ]
  },
  {
   "cell_type": "code",
   "execution_count": null,
   "metadata": {},
   "outputs": [],
   "source": [
    "#### sqlite basics:  https://pythonspot.com/python-database-programming-sqlite-tutorial/\n",
    "\n",
    "\n",
    "import sqlite3 as lite\n",
    "import sys\n",
    " \n",
    "con = None\n",
    " \n",
    "try:\n",
    "    con = lite.connect('test.db')\n",
    "    cur = con.cursor()    \n",
    "    cur.execute('SELECT SQLITE_VERSION()')\n",
    "    data = cur.fetchone()\n",
    "    print (\"SQLite version: %s\" % data)                \n",
    "except lite.Error as e:   \n",
    "    print (\"Error %s:\" % e.args[0])\n",
    "    sys.exit(1)\n",
    "finally:    \n",
    "    if con:\n",
    "        con.close()\n",
    "        "
   ]
  },
  {
   "cell_type": "code",
   "execution_count": null,
   "metadata": {
    "scrolled": true
   },
   "outputs": [],
   "source": [
    "\n",
    "#### Question: Can you run a SQLite script from python?\n",
    "\n",
    "#### let's say we want to run the following:\n",
    "# CREATE TABLE Users(Id INT, Name TEXT);\n",
    "# INSERT INTO Users VALUES(1,'Michelle');\n",
    "# INSERT INTO Users VALUES(2,'Howard');\n",
    "# INSERT INTO Users VALUES(3,'Greg');\n",
    "\n",
    "##### put it into a job file.\n",
    "##### then run the following code (modified from site: https://pagehalffull.wordpress.com/2013/03/05/simple-python-script-that-runs-sql-scripts-against-a-given-sqlite-database/)\n",
    "\n",
    "\n",
    "\n",
    "# <author>Pieter Muller</author>\n",
    "\n",
    "# <date>2013-03-05</date>\n",
    "\n",
    "# <note>Targets Python 2.7</note>\n",
    "\n",
    "import sqlite3 as sqlite\n",
    "import os\n",
    "\n",
    "dbfilename = '_jonhonda_dat\\\\testSQLScriptDB'\n",
    "scriptfilename = '_jonhonda_dat\\\\mySQLScript'\n",
    "\n",
    "os.remove(dbfilename)\n",
    "print (\"\\nOpening DB\")\n",
    "print (dbfilename)\n",
    "connection = sqlite.connect(dbfilename)\n",
    "cursor = connection.cursor()\n",
    "\n",
    "\n",
    "print (\"Reading Script...\")\n",
    "scriptFile = open(scriptfilename, 'r')\n",
    "script = scriptFile.read()\n",
    "scriptFile.close()\n",
    "\n",
    "print (\"Running Script...\")\n",
    "cursor.executescript(script)\n",
    "\n",
    "connection.commit()\n",
    "print (\"Changes successfully committed ...\\n\")\n",
    "connection.close()\n",
    "\n",
    "\n"
   ]
  },
  {
   "cell_type": "code",
   "execution_count": null,
   "metadata": {
    "collapsed": true
   },
   "outputs": [],
   "source": [
    "#### i need a math expression parser to evaluate user defined expressions in my python code.....\n",
    "#### https://stackoverflow.com/questions/11951701/safe-way-to-parse-user-supplied-mathematical-formula-in-python\n",
    "#### suggests Paul McGuire's pyparsing library.\n",
    "#### the below is the websites wrapper around pyparser.\n",
    "\n",
    "\n",
    "\n",
    "\n",
    "# from __future__ import division\n",
    "# import pyparsing as pyp\n",
    "# import math\n",
    "# import operator\n",
    "\n",
    "# class NumericStringParser(object):\n",
    "#     '''\n",
    "#     Most of this code comes from the fourFn.py pyparsing example\n",
    "#     http://pyparsing.wikispaces.com/file/view/fourFn.py\n",
    "#     http://pyparsing.wikispaces.com/message/view/home/15549426\n",
    "#     __author__='Paul McGuire'\n",
    "\n",
    "#     All I've done is rewrap Paul McGuire's fourFn.py as a class, so I can use it\n",
    "#     more easily in other places.\n",
    "#     '''\n",
    "#     def pushFirst(self, strg, loc, toks ):\n",
    "#         self.exprStack.append( toks[0] )\n",
    "#     def pushUMinus(self, strg, loc, toks ):\n",
    "#         if toks and toks[0] == '-':\n",
    "#             self.exprStack.append( 'unary -' )\n",
    "#     def __init__(self):\n",
    "#         \"\"\"\n",
    "#         expop   :: '^'\n",
    "#         multop  :: '*' | '/'\n",
    "#         addop   :: '+' | '-'\n",
    "#         integer :: ['+' | '-'] '0'..'9'+\n",
    "#         atom    :: PI | E | real | fn '(' expr ')' | '(' expr ')'\n",
    "#         factor  :: atom [ expop factor ]*\n",
    "#         term    :: factor [ multop factor ]*\n",
    "#         expr    :: term [ addop term ]*\n",
    "#         \"\"\"\n",
    "#         point = pyp.Literal( \".\" )\n",
    "#         e     = pyp.CaselessLiteral( \"E\" )\n",
    "#         fnumber = pyp.Combine( pyp.Word( \"+-\"+pyp.nums, pyp.nums ) + \n",
    "#                            pyp.Optional( point + pyp.Optional( pyp.Word( pyp.nums ) ) ) +\n",
    "#                            pyp.Optional( e + pyp.Word( \"+-\"+pyp.nums, pyp.nums ) ) )\n",
    "#         ident = pyp.Word(pyp.alphas, pyp.alphas+pyp.nums+\"_$\")       \n",
    "#         plus  = pyp.Literal( \"+\" )\n",
    "#         minus = pyp.Literal( \"-\" )\n",
    "#         mult  = pyp.Literal( \"*\" )\n",
    "#         div   = pyp.Literal( \"/\" )\n",
    "#         lpar  = pyp.Literal( \"(\" ).suppress()\n",
    "#         rpar  = pyp.Literal( \")\" ).suppress()\n",
    "#         addop  = plus | minus\n",
    "#         multop = mult | div\n",
    "#         expop = pyp.Literal( \"^\" )\n",
    "#         pi    = pyp.CaselessLiteral( \"PI\" )\n",
    "#         expr = pyp.Forward()\n",
    "#         atom = ((pyp.Optional(pyp.oneOf(\"- +\")) +\n",
    "#                  (pi|e|fnumber|ident+lpar+expr+rpar).setParseAction(self.pushFirst))\n",
    "#                 | pyp.Optional(pyp.oneOf(\"- +\")) + pyp.Group(lpar+expr+rpar)\n",
    "#                 ).setParseAction(self.pushUMinus)       \n",
    "#         # by defining exponentiation as \"atom [ ^ factor ]...\" instead of \n",
    "#         # \"atom [ ^ atom ]...\", we get right-to-left exponents, instead of left-to-right\n",
    "#         # that is, 2^3^2 = 2^(3^2), not (2^3)^2.\n",
    "#         factor = pyp.Forward()\n",
    "#         factor << atom + pyp.ZeroOrMore( ( expop + factor ).setParseAction(\n",
    "#             self.pushFirst ) )\n",
    "#         term = factor + pyp.ZeroOrMore( ( multop + factor ).setParseAction(\n",
    "#             self.pushFirst ) )\n",
    "#         expr << term + pyp.ZeroOrMore( ( addop + term ).setParseAction( self.pushFirst ) )\n",
    "#         self.bnf = expr\n",
    "#         # map operator symbols to corresponding arithmetic operations\n",
    "#         epsilon = 1e-12\n",
    "#         self.opn = { \"+\" : operator.add,\n",
    "#                 \"-\" : operator.sub,\n",
    "#                 \"*\" : operator.mul,\n",
    "#                 \"/\" : operator.truediv,\n",
    "#                 \"^\" : operator.pow }\n",
    "#         self.fn  = { \"sin\" : math.sin,\n",
    "#                 \"cos\" : math.cos,\n",
    "#                 \"tan\" : math.tan,\n",
    "#                 \"abs\" : abs,\n",
    "#                 \"trunc\" : lambda a: int(a),\n",
    "#                 \"round\" : round,\n",
    "#                 \"sgn\" : lambda a: abs(a)>epsilon and cmp(a, 0) or 0}\n",
    "#         self.exprStack = []\n",
    "#     def evaluateStack(self, s ):\n",
    "#         op = s.pop()\n",
    "#         if op == 'unary -':\n",
    "#             return -self.evaluateStack( s )\n",
    "#         if op in \"+-*/^\":\n",
    "#             op2 = self.evaluateStack( s )\n",
    "#             op1 = self.evaluateStack( s )\n",
    "#             return self.opn[op]( op1, op2 )\n",
    "#         elif op == \"PI\":\n",
    "#             return math.pi # 3.1415926535\n",
    "#         elif op == \"E\":\n",
    "#             return math.e  # 2.718281828\n",
    "#         elif op in self.fn:\n",
    "#             return self.fn[op]( self.evaluateStack( s ) )\n",
    "#         elif op[0].isalpha():\n",
    "#             return 0\n",
    "#         else:\n",
    "#             return float( op )\n",
    "#     def eval(self, num_string, parseAll = True):\n",
    "#         self.exprStack = []\n",
    "#         results = self.bnf.parseString(num_string, parseAll)\n",
    "#         val = self.evaluateStack( self.exprStack[:] )\n",
    "#         return val\n",
    "\n",
    "# # nsp = NumericStringParser()\n",
    "# print(nsp.eval('1+2'))\n",
    "# # 3.0\n",
    "\n",
    "# print(nsp.eval('2*3-5'))\n",
    "# # 1.0\n"
   ]
  },
  {
   "cell_type": "code",
   "execution_count": null,
   "metadata": {
    "scrolled": true
   },
   "outputs": [],
   "source": [
    "#### before resorting to special math parser, let's just try python's eval function\n",
    "#### this function is not safe b/c subject to malicious code injection...but for now should be ok b/c running in a safe environmnet.\n",
    "\n",
    "eval('3+5')"
   ]
  },
  {
   "cell_type": "code",
   "execution_count": null,
   "metadata": {},
   "outputs": [],
   "source": [
    "#### with expressions,  can we replace expression's variables with value assignments?\n",
    "\n",
    "str = '6*x+10'\n",
    "str=str.replace('x','5')\n",
    "eval(str)\n"
   ]
  },
  {
   "cell_type": "code",
   "execution_count": null,
   "metadata": {
    "collapsed": true
   },
   "outputs": [],
   "source": [
    "##### it works!  muaaaaaahhh"
   ]
  },
  {
   "cell_type": "code",
   "execution_count": null,
   "metadata": {
    "collapsed": true
   },
   "outputs": [],
   "source": [
    "#### can you define foreign keys in SQLite?\n",
    "\n",
    "#### https://sqlite.org/foreignkeys.html"
   ]
  },
  {
   "cell_type": "code",
   "execution_count": null,
   "metadata": {},
   "outputs": [],
   "source": [
    "#### how do you catch errors?\n",
    "#### https://docs.python.org/3/tutorial/errors.html\n",
    "#### list of standard python exceptions here: https://docs.python.org/3/library/exceptions.html#exception-hierarchy\n",
    "#### you must know which error in list you excpect and look out for it explicitly. f.e. need to catch div 0 exception eplicitly:\n",
    "\n",
    "x=0\n",
    "try:\n",
    "    1/x\n",
    "except ZeroDivisionError as err:\n",
    "    print (err)\n",
    "    \n",
    "    "
   ]
  },
  {
   "cell_type": "code",
   "execution_count": 1,
   "metadata": {},
   "outputs": [
    {
     "name": "stdout",
     "output_type": "stream",
     "text": [
      "\n",
      "Opening DB\n",
      "_jonhonda_dat\\testlab\\StrBMPModelDB001\n",
      "Reading Script...\n",
      "Running Script...\n",
      "Changes successfully committed ...\n",
      "\n"
     ]
    },
    {
     "ename": "OperationalError",
     "evalue": "no such table: StrBMPModelDB001.sqlite_master",
     "output_type": "error",
     "traceback": [
      "\u001b[1;31m---------------------------------------------------------------------------\u001b[0m",
      "\u001b[1;31mOperationalError\u001b[0m                          Traceback (most recent call last)",
      "\u001b[1;32m<ipython-input-1-e0bca698ee4a>\u001b[0m in \u001b[0;36m<module>\u001b[1;34m()\u001b[0m\n\u001b[0;32m     33\u001b[0m \u001b[1;33m\u001b[0m\u001b[0m\n\u001b[0;32m     34\u001b[0m \u001b[1;33m\u001b[0m\u001b[0m\n\u001b[1;32m---> 35\u001b[1;33m \u001b[0mcursor\u001b[0m\u001b[1;33m.\u001b[0m\u001b[0mexecute\u001b[0m\u001b[1;33m(\u001b[0m\u001b[1;34m'SELECT * FROM StrBMPModelDB001.sqlite_master'\u001b[0m\u001b[1;33m)\u001b[0m\u001b[1;33m\u001b[0m\u001b[0m\n\u001b[0m\u001b[0;32m     36\u001b[0m \u001b[0mconnection\u001b[0m\u001b[1;33m.\u001b[0m\u001b[0mclose\u001b[0m\u001b[1;33m(\u001b[0m\u001b[1;33m)\u001b[0m\u001b[1;33m\u001b[0m\u001b[0m\n",
      "\u001b[1;31mOperationalError\u001b[0m: no such table: StrBMPModelDB001.sqlite_master"
     ]
    }
   ],
   "source": [
    "#### LET'S START BUIDLING SQL TABLE MAKING SCRIPT\n",
    "\n",
    "import sqlite3 as sqlite\n",
    "import os\n",
    "\n",
    "dbfilename = '_jonhonda_dat\\\\testlab\\\\StrBMPModelDB001'\n",
    "scriptfilename = '_jonhonda_dat\\\\testlab\\\\MakeStrBMPModelTables'\n",
    "\n",
    "try:\n",
    "    os.remove(dbfilename)\n",
    "except FileNotFoundError as err:\n",
    "    print (\"no need to remove db file\")####it's okay if file doesn't exist. ####\n",
    "    \n",
    "print (\"\\nOpening DB\")\n",
    "print (dbfilename)\n",
    "connection = sqlite.connect(dbfilename)\n",
    "cursor = connection.cursor()\n",
    "# cursor.execute ('''DROP TABLE facilities''')\n",
    "# connection.commit()\n",
    "# cursor.execute ('''CREATE TABLE facilities (facility_id INTEGER PRIMARY KEY, facility_name TEXT, wrs_pollutant_risks_id INTEGER)''')\n",
    "# connection.commit()\n",
    "\n",
    "print (\"Reading Script...\")\n",
    "scriptFile = open(scriptfilename, 'r')\n",
    "script = scriptFile.read()\n",
    "scriptFile.close()\n",
    "\n",
    "print (\"Running Script...\")\n",
    "cursor.executescript(script)\n",
    "\n",
    "connection.commit()\n",
    "print (\"Changes successfully committed ...\\n\")\n",
    "\n",
    "\n",
    "connection.close()\n"
   ]
  },
  {
   "cell_type": "code",
   "execution_count": null,
   "metadata": {
    "collapsed": true
   },
   "outputs": [],
   "source": []
  }
 ],
 "metadata": {
  "kernelspec": {
   "display_name": "Python 3",
   "language": "python",
   "name": "python3"
  },
  "language_info": {
   "codemirror_mode": {
    "name": "ipython",
    "version": 3
   },
   "file_extension": ".py",
   "mimetype": "text/x-python",
   "name": "python",
   "nbconvert_exporter": "python",
   "pygments_lexer": "ipython3",
   "version": "3.6.3"
  }
 },
 "nbformat": 4,
 "nbformat_minor": 2
}
