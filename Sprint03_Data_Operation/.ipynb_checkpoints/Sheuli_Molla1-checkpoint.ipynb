{
 "cells": [
  {
   "cell_type": "code",
   "execution_count": null,
   "metadata": {
    "collapsed": true
   },
   "outputs": [],
   "source": [
    "array= (tomato, apple, banana)\n",
    "  "
   ]
  },
  {
   "cell_type": "markdown",
   "metadata": {
    "collapsed": true
   },
   "source": [
    "\n",
    "S4- GEOPANDAS OPERATIONS\n",
    "[12192017] | [S.MOLLA] | [Sprint 4\n",
    "Basic Data Operations in geopandas using Python\\n\",\n",
    "In Sprint 3, I practiced doing basic data manipulations in Python using the Geopandas libary.\n",
    "I was able to read spatial files, plot polygon geometry, and index columns and rows of the geodataframe.\n",
    "The first 5 Sections are mandatory. Free form after that, but there are a couple of suggested categories you can use. But really document however you feel the most comfortable.\\n\",\n",
    "Skill Backlog User Story\n",
    "\"As an Environmental scientist I need to be able to manipulate geospatial data relating to environmental conditions so that I can understand,\n",
    "synthesize and map it more efficiently.\\n\",\n",
    "\n",
    "\"## Project Proposal: Load Soils .shp Geodataframe and perform basic data operations. \\n\",\n",
    "\"In this project I will learn how to read .shp files and Geodataframes in Python by using the Geopandas library. I will perform basic data operations.\\n\",\n",
    "\n",
    "\"## Key Questions\\n\",\n",
    "\"- How do I read .shp files in Python?\n",
    "How do I plot functions in Python?\n",
    "How do I index rows and colums?\n",
    "\n",
    "\"- Definitions I want to establish and clarify:\n",
    "script, index, geodataframe, plot, head\\n\",\n",
    "\n",
    "\"## Key Findings\\n\",\n",
    "\"- A running list of things that I'm learning and don't want to forget:\n",
    "Basic geopandas operations:\n",
    "plot\n",
    "read file_extension\n",
    "head\n",
    "index\n",
    "columns\n",
    "\n",
    "\n",
    "\n",
    "\"## Gameplan\\n\",\n",
    "\"Here is my overall approach \\n\",\n",
    "\"1. Step 1 download soils data Geodataframes from USGS\\n\",\n",
    "\"2. Step 2 read geodataframes files in Python using Geopandas\\n\",\n",
    "\"3. Step 3 Perform basic data operations.\\n\",\n",
    "\"4. Step 4 Save script and run script in Atom\\n\",\n",
    "\n",
    "\"## Day 1 Work\n",
    "\n",
    "\" Download soils data from USGS and research Geopandas functions\\n\",\n",
    "\n",
    "\"## Day 2 Work\\n\",\n",
    "\n",
    "\"Perform basic data operations in Python using Geopandas. open geopandas as gp. gp.read_file (\"FILENAME\")\\n\",\n",
    "\n",
    "\n",
    "\"## Peer Feedback on Day 3\\n\",Justin helped me research algorythms to see whether a point is included within a polygon.\n",
    "\n",
    "\"After talking it over with a peer, I received the following feedback and decided to make these changes\n",
    "I will work on using the within function and experitment on the USGS data set. \\n\",\n",
    "\n",
    "\"## Here are some overall notes on the skills I learned\n",
    "Use basic functions in Geopandas\\n\",\n",
    "\n",
    "\n",
    "\n"
   ]
  },
  {
   "cell_type": "code",
   "execution_count": null,
   "metadata": {
    "collapsed": true
   },
   "outputs": [],
   "source": []
  }
 ],
 "metadata": {
  "kernelspec": {
   "display_name": "Python 3",
   "language": "python",
   "name": "python3"
  },
  "language_info": {
   "codemirror_mode": {
    "name": "ipython",
    "version": 3
   },
   "file_extension": ".py",
   "mimetype": "text/x-python",
   "name": "python",
   "nbconvert_exporter": "python",
   "pygments_lexer": "ipython3",
   "version": "3.6.3"
  }
 },
 "nbformat": 4,
 "nbformat_minor": 2
}
