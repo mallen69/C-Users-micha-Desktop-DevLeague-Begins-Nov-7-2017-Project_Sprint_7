{
 "cells": [
  {
   "cell_type": "markdown",
   "metadata": {},
   "source": [
    "# Data Operations \n",
    "*Module: Basic Data Manipulation (Sprint 1 of 2)*"
   ]
  },
  {
   "cell_type": "markdown",
   "metadata": {},
   "source": [
    "## Sprint Module Review and Data Stories\n",
    "\n",
    "#### Basic Data Manipulation\n",
    "*Before you engage in structured analysis, you often just want to see the data. This can mean pre-viewing a subset of it, summarize the columns/attributes/features, sorting or reorganizing it and otherwise finding ways to immerse yourself in your data. Different technologies tools have something different to offer, and our objective is to develop a good sense of the utilities available to you*\n",
    "\n",
    "|Data Journalist| Data Engineer | Statistical Modeler| Business Analyst |\n",
    "|----|:----------------|:----|:------------------|:----|\n",
    "|… I need to **filter, search, and remove features from my data set** so that I can conduct targeted investigations\t|… I need to understand the **programming basics of automation** so that I can develop tools that work efficiently (also big o notation, computability and complexity, sorting and searching algorithms)\t|…I need to understand the **programming basics** so that I can implement algorithms\t|…I need to **transform data or derive additional statistics** from input data, so that I can highlight more telling indicators|\n"
   ]
  },
  {
   "cell_type": "markdown",
   "metadata": {},
   "source": [
    "## Key Questions\n",
    "- What do I do with data loaded in SQL?\n",
    "        - How do I view it?\n",
    "        - How do I change it?\n",
    "        - How do I operate on it?\n",
    "- What do I do with data loaded in R?\n",
    "        - How do I view it?\n",
    "        - How do I change it?\n",
    "        - How do I operate on it?\n",
    "- What do I do with Data loaded in Python?\n",
    "        - How do I view it?\n",
    "        - How do I change it?\n",
    "        - How do I operate on it?\n",
    "   \n",
    "## Key Concepts\n",
    "- Data Types\n",
    "- Data Structures\n",
    "- Objects\n",
    "- Primitives\n",
    "- Headers / Factors / Keys\n",
    "- Operations / Operators / Functions / Methods\n",
    "- Loops\n",
    "- Maps\n",
    "- Indexing / Dereferencing"
   ]
  },
  {
   "cell_type": "markdown",
   "metadata": {},
   "source": [
    "### SQL\n",
    "- SELECT\n",
    "        - *, MIN(), MAX(), COUNT(), AVG(), SUM()\n",
    "        - AS\n",
    "        - FROM\n",
    "        - WHERE (= , <>, >, <. >=, <=, BETWEEN, LIKE, IN, NOT, AND, OR, NULL, %, _)\n",
    "        - ORDER BY (ASC | DESC)\n",
    "        - LIMIT\n",
    "        - JOIN (ON, INNER, LEFT, RIGHT, OUTER)\n",
    "        - UNION\n",
    "        - GROUP BY\n",
    "        - HAVING\n",
    "        - INTO\n",
    "        \n",
    "- UPDATE (SET)\n",
    "- DELETE\n",
    "- INSERT INTO (VALUES)\n",
    "- CREATE DATABASE\n",
    "- ALTER DATABASE\n",
    "- CREATE TABLE\n",
    "- ALTER TABLE\n",
    "- DROP TABLE\n",
    "- CREATE INDEX\n",
    "- DROP INDEX"
   ]
  },
  {
   "cell_type": "markdown",
   "metadata": {},
   "source": [
    "### R\n",
    "#### R in a Nutshell\n",
    "- https://github.com/devleague/BigDataAnalyst_Library/blob/master/books/rinanutshell.pdf\n",
    "\n",
    "#### Objects and Data Types\n",
    "- Vectors (integer, double, complex, character, logical, raw)\n",
    "- Lists\n",
    "- Data Frames\n",
    "- Tibbles\n",
    "- Other (Matrices / Arrays / Factors)\n",
    "\n",
    "#### Data\n",
    "- c()\n",
    "- typeof() / class()\n",
    "- length()\n",
    "- list()\n",
    "- list(key=value,\n",
    "\n",
    "#### Programming\n"
   ]
  },
  {
   "cell_type": "markdown",
   "metadata": {},
   "source": [
    "### Python\n"
   ]
  },
  {
   "cell_type": "markdown",
   "metadata": {},
   "source": [
    "#### Command Line"
   ]
  },
  {
   "cell_type": "markdown",
   "metadata": {},
   "source": [
    "# Sprint Title\n",
    "\n",
    "## Key Concepts and Definitions\n",
    "\n",
    "## Key Questions\n",
    "\n",
    "## Project Ideas\n",
    "\n",
    "From Justin for Both Sprints on Basic Data Operations\n",
    "- Inspect the contents of the files programmatically with a for loop!!!!\n",
    "- Count the lines in the file, Count the entries. Is there any metadata? What is it?\n",
    "- Clean the data with pandas or (r-based dataframe library)\n",
    "- Save the new data file to disk (Or push it to s3!!!)\n",
    "- Tools: Open the data with python libraries, csv, pandas, xarray, or pure python\n"
   ]
  },
  {
   "cell_type": "code",
   "execution_count": null,
   "metadata": {
    "collapsed": true
   },
   "outputs": [],
   "source": []
  }
 ],
 "metadata": {
  "kernelspec": {
   "display_name": "Python 3",
   "language": "python",
   "name": "python3"
  },
  "language_info": {
   "codemirror_mode": {
    "name": "ipython",
    "version": 3
   },
   "file_extension": ".py",
   "mimetype": "text/x-python",
   "name": "python",
   "nbconvert_exporter": "python",
   "pygments_lexer": "ipython3",
   "version": "3.6.1"
  }
 },
 "nbformat": 4,
 "nbformat_minor": 2
}
