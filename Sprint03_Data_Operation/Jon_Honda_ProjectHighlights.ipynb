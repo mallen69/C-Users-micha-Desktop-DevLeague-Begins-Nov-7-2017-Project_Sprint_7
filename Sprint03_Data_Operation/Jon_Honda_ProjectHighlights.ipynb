{
 "cells": [
  {
   "cell_type": "code",
   "execution_count": null,
   "metadata": {
    "collapsed": true
   },
   "outputs": [],
   "source": [
    "#Primary Project Objective:  Build a system to store, retrieve, and evaluate math expressions. \n",
    "                             #The system will store the expression, expression name, and its variables in a single table."
   ]
  },
  {
   "cell_type": "code",
   "execution_count": null,
   "metadata": {
    "collapsed": true
   },
   "outputs": [],
   "source": [
    "#Most interesting thing: The solution itself: \n",
    "    #database component: holds expression, variables, and location where variable values can be found all in a database.\n",
    "    #evaluating function: replaces variables w/ values held in database, then use python Eval() to evaluate.\n",
    "    #expressions can be made of other expressions. Solution will recursively replace each expression w/ its corresponding values. "
   ]
  },
  {
   "cell_type": "code",
   "execution_count": null,
   "metadata": {
    "collapsed": true
   },
   "outputs": [],
   "source": [
    "#Here is Snippet of output of successful run showing expression retrieval, variable retrieval and replacement, and recurssive expression eval.\n",
    "\n",
    "# RUN EvalExpr on expression: area*3+volume-length*length*length-SIDE for Size Item 1\n",
    "\n",
    "# proccessing expression: area*3+volume-length*length*length-SIDE\n",
    "#     attempting to retrieve value for:  area\n",
    "#       QUERY:SELECT area FROM sizes WHERE size_id=1\n",
    "#        QUERY RESULT: area=25.6\n",
    "# proccessing expression: 25.6*3+volume-length*length*length-SIDE\n",
    "#     attempting to retrieve value for:  volume\n",
    "#       QUERY:SELECT volume FROM sizes WHERE size_id=1\n",
    "#        QUERY RESULT: volume=33.1\n",
    "# proccessing expression: 25.6*3+33.1-length*length*length-SIDE\n",
    "#     attempting to retrieve value for:  length\n",
    "#       QUERY:SELECT length FROM sizes WHERE size_id=1\n",
    "#        QUERY RESULT: length=2.5\n",
    "# proccessing expression: 25.6*3+33.1-2.5*2.5*2.5-SIDE\n",
    "#     attempting to retrieve value for:  SIDE\n",
    "#       This is an expression. Prepare to re-enter EvalExpr...\n",
    "#       QUERY:SELECT expression_name, expression_str, expression_data_type, vars         FROM expressions WHERE expression_name= 'SIDE'\n",
    "#        Reentering EvalExpr....\n",
    "# proccessing expression: length*4\n",
    "#     attempting to retrieve value for:  length\n",
    "#       QUERY:SELECT length FROM sizes WHERE size_id=1\n",
    "#        QUERY RESULT: length=2.5\n",
    "# proccessing expression: 2.5*4\n",
    "#   eval(2.5*4)=10.0\n",
    "# proccessing expression: 25.6*3+33.1-2.5*2.5*2.5-10.0\n",
    "#   eval(25.6*3+33.1-2.5*2.5*2.5-10.0)=84.275"
   ]
  },
  {
   "cell_type": "code",
   "execution_count": null,
   "metadata": {
    "collapsed": true
   },
   "outputs": [],
   "source": [
    "#code retrieves expression and variables for SIZE equation from database:\n",
    "    cursor.execute ('''SELECT expression_name, expression_str, expression_data_type, vars FROM expressions WHERE expression_name = 'SIZE' ''')\n",
    "    #OUTPUT: area*3+volume-length*length*length-SIDE\n",
    "    #note: vars is a dictionary object of each variable's attributes (table where stored, field name of table, if variable's value is found in DB, or if variable is itself an expression stored in DB)\n",
    "    \n",
    "#code enters main eval function w/ variable attributes:\n",
    "    EvalExpr(dbVars)\n",
    "\n",
    "#w/in eval function, replace each variable w/ corresponding value held in DB.\n",
    "    for aVar in Vars.items(): #iterate thru each Var in Vars, replacing procstr's Var instances w/ Var's value \n",
    "        procstr = procstr.replace(aVar[C_VarDict_VarName],getVal(aVar,1)) #assume we are querying on ID = 1. This could be changed to be dynamic\n",
    "\n",
    "#code then calls getVal function:\n",
    "def getVal(aVar, QryOnUniqueFieldVal):\n",
    "\n",
    "#next do different things depending on if aVar's attribute is a value or an expression\n",
    "if aVar[1][C_VarDict_VarType] == 'db_val': #### value is housed somewhere in database. \n",
    "        #use attributest to query DB for value:\n",
    "        QryStr = '''SELECT ''' + dbFieldName + ''' FROM ''' + dbTableName + ''' WHERE ''' + dbQryOnUniqueField + '''=''' + str(QryOnUniqueFieldVal)\n",
    "        #after getting value from db (data held in dbVal variable), write value to variable strdbVal: \n",
    "        strdbVal = str(dbVal) #### cast to string\n",
    "        \n",
    "        \n",
    "elif aVar[1][C_VarDict_VarType]=='expression': ###variable is an expression. \n",
    "        #query DB for expression information:\n",
    "        QryStr = '''SELECT expression_name, expression_str, expression_data_type, vars \\\n",
    "        FROM ''' + dbTableName + ''' WHERE ''' + dbFieldName + '''= \\'''' +  aVar[C_VarDict_VarName] + '''\\''''\n",
    "        #after getting expression data from db (exprssion data held in dbVal variable), evaluate expression and write evaluated value to strdbVal\n",
    "        strdbVal = str(EvalExpr(dbVal)) #### cast to string"
   ]
  }
 ],
 "metadata": {
  "kernelspec": {
   "display_name": "Python 3",
   "language": "python",
   "name": "python3"
  },
  "language_info": {
   "codemirror_mode": {
    "name": "ipython",
    "version": 3
   },
   "file_extension": ".py",
   "mimetype": "text/x-python",
   "name": "python",
   "nbconvert_exporter": "python",
   "pygments_lexer": "ipython3",
   "version": "3.6.3"
  }
 },
 "nbformat": 4,
 "nbformat_minor": 2
}
