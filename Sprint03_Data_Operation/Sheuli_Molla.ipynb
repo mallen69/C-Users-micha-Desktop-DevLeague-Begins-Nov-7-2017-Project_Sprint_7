{
 "cells": [
  {
   "cell_type": "markdown",
   "metadata": {
    "collapsed": true
   },
   "source": [
    "# S4- GEOPANDAS OPERATIONS\n",
    "#### [12192017] | [S.MOLLA] | [Sprint 4]\n",
    "#### Basic Data Operations in geopandas using Python\n",
    "In Sprint 3, I practiced doing basic data manipulations in Python using the Geopandas libary.
    I was able to read spatial files, plot polygon geometry, and index columns and rows of the geodataframe.
    \ The first 5 Sections are mandatory. Free form after that, but there are a couple of suggested categories you can use. But really document however you feel the most comfortable.\n",
    "\n",
    "## Skill Backlog User Story\n",
    "As an Environmental scientist I need to be able to manipulate geospatial data relating to environmental conditions so that I can understand,
    synthesize and map it more efficiently.\n",
    "\n",
    "## Project Proposal: Load Soils .shp Geodataframe and perform basic data operations. \n",
    "In this project I will learn how to read .shp files and Geodataframes in Python by using the Geopandas library. I will perform basic data operations.\n",
    "\n",
    "## Key Questions\n",
    "- How do I read .shp files in Python?
    How do I plot functions in Python?
    How do I index rows and colums?
    \n",
    "- Definitions I want to establish and clarify:
    script, index, geodataframe, plot, head\n",
    "\n",
    "## Key Findings\n",
    "- A running list of things that I'm learning and don't want to forget:
    Basic geopandas operations:
    plot
    read file_extension
    head
    index
    columns

    \n",
    "\n",
    "## Gameplan\n",
    "Here is my overall approach \n",
    "1. Step 1 download soils data Geodataframes from USGS\n",
    "2. Step 2 read geodataframes files in Python using Geopandas\n",
    "3. Step 3 Perform basic data operations.\n",
    "4. Step 4 Save script and run script in Atom\n",
    "\n",
    "---\n",
    "\n",
    "## Day 1 Work\n",
    "\n",
    " Download soils data from USGS and research Geopandas functions\n",
    "\n",
    "## Day 2 Work\n",
    "\n",
    "Perform basic data operations in Python using Geopandas. open geopandas as gp. gp.read_file ("FILENAME")\n",
    "\n",
    "## Peer Feedback on Day 3\n",Justin helped me research algorythms to see whether a point is included within a polygon.
    "\n",
    "After talking it over with a peer, I received the following feedback and decided to make these changes
    I will work on using the within function and experitment on the USGS data set. \n",
    "\n",
    "## Here are some overall notes on the skills I learned
    Use basic functions in Geopandas\n",
    "And perhaps some stream of consciousness notes about what I did, and other questions I might have"
   ]
  },
  {
   "cell_type": "code",
   "execution_count": null,
   "metadata": {
    "collapsed": true
   },
   "outputs": [],
   "source": []
  }
 ],
 "metadata": {
  "kernelspec": {
   "display_name": "Python 3",
   "language": "python",
   "name": "python3"
  },
  "language_info": {
   "codemirror_mode": {
    "name": "ipython",
    "version": 3
   },
   "file_extension": ".py",
   "mimetype": "text/x-python",
   "name": "python",
   "nbconvert_exporter": "python",
   "pygments_lexer": "ipython3",
   "version": "3.6.1"
  }
 },
 "nbformat": 4,
 "nbformat_minor": 2
}
