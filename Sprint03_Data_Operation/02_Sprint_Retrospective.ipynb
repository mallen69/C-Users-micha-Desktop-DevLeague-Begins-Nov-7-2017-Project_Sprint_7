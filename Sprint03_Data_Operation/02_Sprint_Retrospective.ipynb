{
 "cells": [
  {
   "cell_type": "markdown",
   "metadata": {},
   "source": [
    "# Sprint Retrospective - Data Operations\n",
    "\n",
    "Dear BDA Cohort,\n",
    "\n",
    "The holidays were a difficult time to juggle a variety of priorities and I commend all of you for battling through the fatigue and putting a ton of hard work into the projects, which demonstrated quite a bit of technical skill and understanding, and with projects polished off in record time.\n",
    "\n",
    "Now that we're in 2018, we're gearing up for the long haul. It's imperative that we set up our sprints in a sustainable manner and that we lay out our learning path to make the most out of the time we spend together as a cohort. \n",
    "\n",
    "You should have gotten the impression by now that we have a lot of ground to cover, and the only way we are going to do that is by working together, dividing and conquering, and squeezing every last drop of learning value out of our class time together.\n",
    "\n",
    "If something isn't working for you, now's the time to discuss it. We will cover far more ground as a team, so 1.) be a strong contributor (to a strong team) and 2.) make sure you are getting maximum value out of the interactions with your cohort. \n",
    "\n",
    "With that, onto the adjustments:"
   ]
  },
  {
   "cell_type": "markdown",
   "metadata": {},
   "source": [
    "### Fear and Anxiety\n",
    "\n",
    "Learning is about letting your curiosity and critical process take the lead and getting out of your own way. The biggest obstruction to learning these technical and analytical concepts is fear. Fear that you're won't get it, fear that you won't get it fast enough, fear that your colleagues are learning faster than you, fear that you won't learn enough, fear that your colleagues can't help you, fear that you're wasting your time. \n",
    "\n",
    "The blocks produced by the fears and anxieties we are struggling with is a  real detractor from productivity. Accordingly I think it makes sense to devote some time each sprint to alleviating some of them. We started an exercise about identifying the anxieties and spending some time researching related ideas. Let's try to keep working on that\n",
    "\n",
    "### Deliverables\n",
    "\n",
    "There still seems to be something unnatural about the process of planning, scoping, executing, and packaging projects. These deliverables have been inconsistent -- full of value, but weighted towards one deliverable or another. I want the time you spend to be flexible to execute how you want to, but part of the process to solidify what you've learned as well as coordinate and work together as a team is to produce the deliverables as designated. The process has been modified to map out precisely when to deliver and note things. If this isn't working, we need to fix it so that it does.\n",
    "\n",
    "### Joint Mapping\n",
    "\n",
    "With all of the concepts flying around, Runjini had the suggestion that it might be useful to bring back the idea of mapping, but to work in pairs instead of a group facilitated discussion. I think this could be a great format to try to understand and connect the concepts to each other\n",
    "\n",
    "### Introducing Connections to the Big Picture\n",
    "\n",
    "Data Analysis follows an analytical process. The modules have been constructed to introduce the components of that process to provide a rough map of the universe of tools and techniques you will probably need to access at some point. Which ones will be specific to your task at whatever time you need it. \n",
    "\n",
    "### Roadmaps\n",
    "\n",
    "The purpose of your roadmap is to 1.) try to anticipate what you might need and learn that now, but more importantly 2.) lay out what you're most curious about and let that drive your learning. Neglecting to plan, neglecting to update and refine your roadmap is a recipe for becoming overwhelmed with all of the conceptual depth, and frustration at scoping projects that might have immediate application, but ultimately don't teach you as much as they could. \n",
    "\n",
    "In order to facilitate this, I propose to start off every sprint with a discussion of the analytical process and where the skills would be useful. Following that will be updates to the roadmap before we go into a discussion of the classroom content for the sprint.\n",
    "\n",
    "### Onward!\n",
    "\n",
    "We're all in this together. Your continued input, contributions, and commitment are going to determine whether we are successful collectively. You are an incredibly talented team of people facing an incredibly difficult task. At the end of the day, while it's a long haul, we don't have a lot of time together, so let's make sure we get the most out of every hour."
   ]
  },
  {
   "cell_type": "code",
   "execution_count": null,
   "metadata": {
    "collapsed": true
   },
   "outputs": [],
   "source": []
  }
 ],
 "metadata": {
  "kernelspec": {
   "display_name": "Python 3",
   "language": "python",
   "name": "python3"
  },
  "language_info": {
   "codemirror_mode": {
    "name": "ipython",
    "version": 3
   },
   "file_extension": ".py",
   "mimetype": "text/x-python",
   "name": "python",
   "nbconvert_exporter": "python",
   "pygments_lexer": "ipython3",
   "version": "3.6.1"
  }
 },
 "nbformat": 4,
 "nbformat_minor": 2
}
