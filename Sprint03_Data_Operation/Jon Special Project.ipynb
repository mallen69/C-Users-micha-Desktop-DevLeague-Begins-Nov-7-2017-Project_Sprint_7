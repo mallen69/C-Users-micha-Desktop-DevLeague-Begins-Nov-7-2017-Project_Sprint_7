{
 "cells": [
  {
   "cell_type": "code",
   "execution_count": null,
   "metadata": {
    "collapsed": true
   },
   "outputs": [],
   "source": [
    "## - My Strucutral BMP Modeling Notes\n",
    "#### Notes on effort to develop a model that identifies structural BMPs for City facilities to reduce their storm water quality pollution risks."
   ]
  },
  {
   "cell_type": "code",
   "execution_count": 9,
   "metadata": {},
   "outputs": [
    {
     "name": "stdout",
     "output_type": "stream",
     "text": [
      "SQLite version: 3.14.2\n"
     ]
    }
   ],
   "source": [
    "#### sqlite basics:  https://pythonspot.com/python-database-programming-sqlite-tutorial/\n",
    "\n",
    "\n",
    "import sqlite3 as lite\n",
    "import sys\n",
    " \n",
    "con = None\n",
    " \n",
    "try:\n",
    "    con = lite.connect('test.db')\n",
    "    cur = con.cursor()    \n",
    "    cur.execute('SELECT SQLITE_VERSION()')\n",
    "    data = cur.fetchone()\n",
    "    print (\"SQLite version: %s\" % data)                \n",
    "except lite.Error as e:   \n",
    "    print (\"Error %s:\" % e.args[0])\n",
    "    sys.exit(1)\n",
    "finally:    \n",
    "    if con:\n",
    "        con.close()\n",
    "        "
   ]
  },
  {
   "cell_type": "code",
   "execution_count": 2,
   "metadata": {},
   "outputs": [
    {
     "name": "stdout",
     "output_type": "stream",
     "text": [
      "\n",
      "Opening DB\n",
      "test_code\\testSQLScript\n",
      "Reading Script...\n"
     ]
    },
    {
     "ename": "FileNotFoundError",
     "evalue": "[Errno 2] No such file or directory: 'test_code\\\\Test SQL Script\\\\mySQLScript'",
     "output_type": "error",
     "traceback": [
      "\u001b[1;31m---------------------------------------------------------------------------\u001b[0m",
      "\u001b[1;31mFileNotFoundError\u001b[0m                         Traceback (most recent call last)",
      "\u001b[1;32m<ipython-input-2-afc1de1c1b97>\u001b[0m in \u001b[0;36m<module>\u001b[1;34m()\u001b[0m\n\u001b[0;32m     46\u001b[0m \u001b[1;33m\u001b[0m\u001b[0m\n\u001b[0;32m     47\u001b[0m \u001b[0mprint\u001b[0m \u001b[1;33m(\u001b[0m\u001b[1;34m\"Reading Script...\"\u001b[0m\u001b[1;33m)\u001b[0m\u001b[1;33m\u001b[0m\u001b[0m\n\u001b[1;32m---> 48\u001b[1;33m \u001b[0mscriptFile\u001b[0m \u001b[1;33m=\u001b[0m \u001b[0mopen\u001b[0m\u001b[1;33m(\u001b[0m\u001b[0mscriptfilename\u001b[0m\u001b[1;33m,\u001b[0m \u001b[1;34m'r'\u001b[0m\u001b[1;33m)\u001b[0m\u001b[1;33m\u001b[0m\u001b[0m\n\u001b[0m\u001b[0;32m     49\u001b[0m \u001b[0mscript\u001b[0m \u001b[1;33m=\u001b[0m \u001b[0mscriptFile\u001b[0m\u001b[1;33m.\u001b[0m\u001b[0mread\u001b[0m\u001b[1;33m(\u001b[0m\u001b[1;33m)\u001b[0m\u001b[1;33m\u001b[0m\u001b[0m\n\u001b[0;32m     50\u001b[0m \u001b[0mscriptFile\u001b[0m\u001b[1;33m.\u001b[0m\u001b[0mclose\u001b[0m\u001b[1;33m(\u001b[0m\u001b[1;33m)\u001b[0m\u001b[1;33m\u001b[0m\u001b[0m\n",
      "\u001b[1;31mFileNotFoundError\u001b[0m: [Errno 2] No such file or directory: 'test_code\\\\Test SQL Script\\\\mySQLScript'"
     ]
    }
   ],
   "source": [
    "\n",
    "#### Question: Can you run a SQLite script from python?\n",
    "\n",
    "#### let's say we want to run the following:\n",
    "# CREATE TABLE Users(Id INT, Name TEXT);\n",
    "# INSERT INTO Users VALUES(1,'Michelle');\n",
    "# INSERT INTO Users VALUES(2,'Howard');\n",
    "# INSERT INTO Users VALUES(3,'Greg');\n",
    "\n",
    "##### put it into a job file.\n",
    "##### then run the following code (modified from site: https://pagehalffull.wordpress.com/2013/03/05/simple-python-script-that-runs-sql-scripts-against-a-given-sqlite-database/)\n",
    "\n",
    "\n",
    "\n",
    "# <author>Pieter Muller</author>\n",
    "\n",
    "# <date>2013-03-05</date>\n",
    "\n",
    "# <note>Targets Python 2.7</note>\n",
    "import sqlite3\n",
    "\n",
    "db = sqlite3.connect(':memory:') #### allocate memory\n",
    "db = sqlite3.connect('_jonhonda_dat\\mydb2')  #### make a database\n",
    " #### build table:\n",
    "cursor = db.cursor()\n",
    "cursor.execute ('''CREATE TABLE StockPrices(id INTEGER PRIMARY KEY, Date TEXT, StockValue FLOAT)''')\n",
    "db.commit()\n",
    "db.close()\n",
    "\n",
    "\n",
    "\n",
    "\n",
    "\n",
    "import sqlite3 as sqlite\n",
    "import os\n",
    "import sys\n",
    "\n",
    "dbfilename = 'test_code\\\\testSQLScript'\n",
    "scriptfilename = 'test_code\\Test SQL Script\\mySQLScript'\n",
    "\n",
    "print (\"\\nOpening DB\")\n",
    "print (dbfilename)\n",
    "connection = sqlite.connect('testSQLScript')\n",
    "cursor = connection.cursor()\n",
    "\n",
    "\n",
    "print (\"Reading Script...\")\n",
    "scriptFile = open(scriptfilename, 'r')\n",
    "script = scriptFile.read()\n",
    "scriptFile.close()\n",
    "\n",
    "print (\"Running Script...\")\n",
    "cursor.executescript(script)\n",
    "\n",
    "connection.commit()\n",
    "print (\"Changes successfully committed\\n\")\n",
    "connection.close()\n",
    "\n",
    "\n"
   ]
  },
  {
   "cell_type": "code",
   "execution_count": null,
   "metadata": {
    "collapsed": true
   },
   "outputs": [],
   "source": []
  }
 ],
 "metadata": {
  "kernelspec": {
   "display_name": "Python 3",
   "language": "python",
   "name": "python3"
  },
  "language_info": {
   "codemirror_mode": {
    "name": "ipython",
    "version": 3
   },
   "file_extension": ".py",
   "mimetype": "text/x-python",
   "name": "python",
   "nbconvert_exporter": "python",
   "pygments_lexer": "ipython3",
   "version": "3.6.3"
  }
 },
 "nbformat": 4,
 "nbformat_minor": 2
}
