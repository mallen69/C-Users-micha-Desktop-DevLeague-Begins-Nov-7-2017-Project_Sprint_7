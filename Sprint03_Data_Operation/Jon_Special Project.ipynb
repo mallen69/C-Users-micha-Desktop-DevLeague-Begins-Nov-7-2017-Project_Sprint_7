{
 "cells": [
  {
   "cell_type": "code",
   "execution_count": 1,
   "metadata": {
    "collapsed": true
   },
   "outputs": [],
   "source": [
    "## - My Strucutral BMP Modeling Notes\n",
    "#### Notes on effort to develop a model that identifies structural BMPs for City facilities to reduce their storm water quality pollution risks."
   ]
  },
  {
   "cell_type": "code",
   "execution_count": 2,
   "metadata": {},
   "outputs": [
    {
     "name": "stdout",
     "output_type": "stream",
     "text": [
      "SQLite version: 3.14.2\n"
     ]
    }
   ],
   "source": [
    "#### sqlite basics:  https://pythonspot.com/python-database-programming-sqlite-tutorial/\n",
    "\n",
    "\n",
    "import sqlite3 as lite\n",
    "import sys\n",
    " \n",
    "con = None\n",
    " \n",
    "try:\n",
    "    con = lite.connect('test.db')\n",
    "    cur = con.cursor()    \n",
    "    cur.execute('SELECT SQLITE_VERSION()')\n",
    "    data = cur.fetchone()\n",
    "    print (\"SQLite version: %s\" % data)                \n",
    "except lite.Error as e:   \n",
    "    print (\"Error %s:\" % e.args[0])\n",
    "    sys.exit(1)\n",
    "finally:    \n",
    "    if con:\n",
    "        con.close()\n",
    "        "
   ]
  },
  {
   "cell_type": "code",
   "execution_count": 2,
   "metadata": {
    "scrolled": true
   },
   "outputs": [
    {
     "name": "stdout",
     "output_type": "stream",
     "text": [
      "\n",
      "Opening DB\n",
      "_jonhonda_dat\\testlab\\testSQLScriptDB\n",
      "Reading Script...\n",
      "Running Script...\n"
     ]
    },
    {
     "ename": "OperationalError",
     "evalue": "no such table: Users",
     "output_type": "error",
     "traceback": [
      "\u001b[1;31m---------------------------------------------------------------------------\u001b[0m",
      "\u001b[1;31mOperationalError\u001b[0m                          Traceback (most recent call last)",
      "\u001b[1;32m<ipython-input-2-d47f5035105c>\u001b[0m in \u001b[0;36m<module>\u001b[1;34m()\u001b[0m\n\u001b[0;32m     38\u001b[0m \u001b[1;33m\u001b[0m\u001b[0m\n\u001b[0;32m     39\u001b[0m \u001b[0mprint\u001b[0m \u001b[1;33m(\u001b[0m\u001b[1;34m\"Running Script...\"\u001b[0m\u001b[1;33m)\u001b[0m\u001b[1;33m\u001b[0m\u001b[0m\n\u001b[1;32m---> 40\u001b[1;33m \u001b[0mcursor\u001b[0m\u001b[1;33m.\u001b[0m\u001b[0mexecutescript\u001b[0m\u001b[1;33m(\u001b[0m\u001b[0mscript\u001b[0m\u001b[1;33m)\u001b[0m\u001b[1;33m\u001b[0m\u001b[0m\n\u001b[0m\u001b[0;32m     41\u001b[0m \u001b[1;33m\u001b[0m\u001b[0m\n\u001b[0;32m     42\u001b[0m \u001b[0mconnection\u001b[0m\u001b[1;33m.\u001b[0m\u001b[0mcommit\u001b[0m\u001b[1;33m(\u001b[0m\u001b[1;33m)\u001b[0m\u001b[1;33m\u001b[0m\u001b[0m\n",
      "\u001b[1;31mOperationalError\u001b[0m: no such table: Users"
     ]
    }
   ],
   "source": [
    "\n",
    "#### Question: Can you run a SQLite script from python?\n",
    "\n",
    "#### let's say we want to run the following:\n",
    "# CREATE TABLE Users(Id INT, Name TEXT);\n",
    "# INSERT INTO Users VALUES(1,'Michelle');\n",
    "# INSERT INTO Users VALUES(2,'Howard');\n",
    "# INSERT INTO Users VALUES(3,'Greg');\n",
    "\n",
    "##### put it into a job file.\n",
    "##### then run the following code (modified from site: https://pagehalffull.wordpress.com/2013/03/05/simple-python-script-that-runs-sql-scripts-against-a-given-sqlite-database/)\n",
    "\n",
    "\n",
    "\n",
    "# <author>Pieter Muller</author>\n",
    "\n",
    "# <date>2013-03-05</date>\n",
    "\n",
    "# <note>Targets Python 2.7</note>\n",
    "\n",
    "import sqlite3 as sqlite\n",
    "import os\n",
    "\n",
    "dbfilename = '_jonhonda_dat\\\\testlab\\\\testSQLScriptDB'\n",
    "scriptfilename = '_jonhonda_dat\\\\testlab\\\\mySQLScript'\n",
    "\n",
    "os.remove(dbfilename)\n",
    "print (\"\\nOpening DB\")\n",
    "print (dbfilename)\n",
    "connection = sqlite.connect(dbfilename)\n",
    "cursor = connection.cursor()\n",
    "\n",
    "\n",
    "print (\"Reading Script...\")\n",
    "scriptFile = open(scriptfilename, 'r')\n",
    "script = scriptFile.read()\n",
    "scriptFile.close()\n",
    "\n",
    "print (\"Running Script...\")\n",
    "cursor.executescript(script)\n",
    "\n",
    "connection.commit()\n",
    "print (\"Changes successfully committed ...\\n\")\n",
    "connection.close()\n",
    "\n",
    "\n"
   ]
  },
  {
   "cell_type": "code",
   "execution_count": null,
   "metadata": {
    "collapsed": true
   },
   "outputs": [],
   "source": [
    "#### i need a math expression parser to evaluate user defined expressions in my python code.....\n",
    "#### https://stackoverflow.com/questions/11951701/safe-way-to-parse-user-supplied-mathematical-formula-in-python\n",
    "#### suggests Paul McGuire's pyparsing library.\n",
    "#### the below is the websites wrapper around pyparser.\n",
    "\n",
    "# from __future__ import division\n",
    "# import pyparsing as pyp\n",
    "# import math\n",
    "# import operator\n",
    "\n",
    "# class NumericStringParser(object):\n",
    "#     '''\n",
    "#     Most of this code comes from the fourFn.py pyparsing example\n",
    "#     http://pyparsing.wikispaces.com/file/view/fourFn.py\n",
    "#     http://pyparsing.wikispaces.com/message/view/home/15549426\n",
    "#     __author__='Paul McGuire'\n",
    "\n",
    "#     All I've done is rewrap Paul McGuire's fourFn.py as a class, so I can use it\n",
    "#     more easily in other places.\n",
    "#     '''\n",
    "#     def pushFirst(self, strg, loc, toks ):\n",
    "#         self.exprStack.append( toks[0] )\n",
    "#     def pushUMinus(self, strg, loc, toks ):\n",
    "#         if toks and toks[0] == '-':\n",
    "#             self.exprStack.append( 'unary -' )\n",
    "#     def __init__(self):\n",
    "#         \"\"\"\n",
    "#         expop   :: '^'\n",
    "#         multop  :: '*' | '/'\n",
    "#         addop   :: '+' | '-'\n",
    "#         integer :: ['+' | '-'] '0'..'9'+\n",
    "#         atom    :: PI | E | real | fn '(' expr ')' | '(' expr ')'\n",
    "#         factor  :: atom [ expop factor ]*\n",
    "#         term    :: factor [ multop factor ]*\n",
    "#         expr    :: term [ addop term ]*\n",
    "#         \"\"\"\n",
    "#         point = pyp.Literal( \".\" )\n",
    "#         e     = pyp.CaselessLiteral( \"E\" )\n",
    "#         fnumber = pyp.Combine( pyp.Word( \"+-\"+pyp.nums, pyp.nums ) + \n",
    "#                            pyp.Optional( point + pyp.Optional( pyp.Word( pyp.nums ) ) ) +\n",
    "#                            pyp.Optional( e + pyp.Word( \"+-\"+pyp.nums, pyp.nums ) ) )\n",
    "#         ident = pyp.Word(pyp.alphas, pyp.alphas+pyp.nums+\"_$\")       \n",
    "#         plus  = pyp.Literal( \"+\" )\n",
    "#         minus = pyp.Literal( \"-\" )\n",
    "#         mult  = pyp.Literal( \"*\" )\n",
    "#         div   = pyp.Literal( \"/\" )\n",
    "#         lpar  = pyp.Literal( \"(\" ).suppress()\n",
    "#         rpar  = pyp.Literal( \")\" ).suppress()\n",
    "#         addop  = plus | minus\n",
    "#         multop = mult | div\n",
    "#         expop = pyp.Literal( \"^\" )\n",
    "#         pi    = pyp.CaselessLiteral( \"PI\" )\n",
    "#         expr = pyp.Forward()\n",
    "#         atom = ((pyp.Optional(pyp.oneOf(\"- +\")) +\n",
    "#                  (pi|e|fnumber|ident+lpar+expr+rpar).setParseAction(self.pushFirst))\n",
    "#                 | pyp.Optional(pyp.oneOf(\"- +\")) + pyp.Group(lpar+expr+rpar)\n",
    "#                 ).setParseAction(self.pushUMinus)       \n",
    "#         # by defining exponentiation as \"atom [ ^ factor ]...\" instead of \n",
    "#         # \"atom [ ^ atom ]...\", we get right-to-left exponents, instead of left-to-right\n",
    "#         # that is, 2^3^2 = 2^(3^2), not (2^3)^2.\n",
    "#         factor = pyp.Forward()\n",
    "#         factor << atom + pyp.ZeroOrMore( ( expop + factor ).setParseAction(\n",
    "#             self.pushFirst ) )\n",
    "#         term = factor + pyp.ZeroOrMore( ( multop + factor ).setParseAction(\n",
    "#             self.pushFirst ) )\n",
    "#         expr << term + pyp.ZeroOrMore( ( addop + term ).setParseAction( self.pushFirst ) )\n",
    "#         self.bnf = expr\n",
    "#         # map operator symbols to corresponding arithmetic operations\n",
    "#         epsilon = 1e-12\n",
    "#         self.opn = { \"+\" : operator.add,\n",
    "#                 \"-\" : operator.sub,\n",
    "#                 \"*\" : operator.mul,\n",
    "#                 \"/\" : operator.truediv,\n",
    "#                 \"^\" : operator.pow }\n",
    "#         self.fn  = { \"sin\" : math.sin,\n",
    "#                 \"cos\" : math.cos,\n",
    "#                 \"tan\" : math.tan,\n",
    "#                 \"abs\" : abs,\n",
    "#                 \"trunc\" : lambda a: int(a),\n",
    "#                 \"round\" : round,\n",
    "#                 \"sgn\" : lambda a: abs(a)>epsilon and cmp(a, 0) or 0}\n",
    "#         self.exprStack = []\n",
    "#     def evaluateStack(self, s ):\n",
    "#         op = s.pop()\n",
    "#         if op == 'unary -':\n",
    "#             return -self.evaluateStack( s )\n",
    "#         if op in \"+-*/^\":\n",
    "#             op2 = self.evaluateStack( s )\n",
    "#             op1 = self.evaluateStack( s )\n",
    "#             return self.opn[op]( op1, op2 )\n",
    "#         elif op == \"PI\":\n",
    "#             return math.pi # 3.1415926535\n",
    "#         elif op == \"E\":\n",
    "#             return math.e  # 2.718281828\n",
    "#         elif op in self.fn:\n",
    "#             return self.fn[op]( self.evaluateStack( s ) )\n",
    "#         elif op[0].isalpha():\n",
    "#             return 0\n",
    "#         else:\n",
    "#             return float( op )\n",
    "#     def eval(self, num_string, parseAll = True):\n",
    "#         self.exprStack = []\n",
    "#         results = self.bnf.parseString(num_string, parseAll)\n",
    "#         val = self.evaluateStack( self.exprStack[:] )\n",
    "#         return val\n",
    "\n",
    "# # nsp = NumericStringParser()\n",
    "# print(nsp.eval('1+2'))\n",
    "# # 3.0\n",
    "\n",
    "# print(nsp.eval('2*3-5'))\n",
    "# # 1.0\n"
   ]
  },
  {
   "cell_type": "code",
   "execution_count": null,
   "metadata": {
    "collapsed": true,
    "scrolled": true
   },
   "outputs": [],
   "source": [
    "#### before resorting to special math parser, let's just try python's eval function\n",
    "#### this function is not safe b/c subject to malicious code injection...but for now should be ok b/c running in a safe environmnet.\n",
    "\n",
    "eval('3+5')"
   ]
  },
  {
   "cell_type": "code",
   "execution_count": null,
   "metadata": {
    "collapsed": true
   },
   "outputs": [],
   "source": [
    "#### with expressions,  can we replace expression's variables with value assignments?\n",
    "\n",
    "str = '6*x+10'\n",
    "str=str.replace('x','5')\n",
    "eval(str)\n"
   ]
  },
  {
   "cell_type": "code",
   "execution_count": null,
   "metadata": {
    "collapsed": true
   },
   "outputs": [],
   "source": [
    "##### it works!  muaaaaaahhh"
   ]
  },
  {
   "cell_type": "code",
   "execution_count": 15,
   "metadata": {},
   "outputs": [
    {
     "name": "stdout",
     "output_type": "stream",
     "text": [
      "test\n"
     ]
    }
   ],
   "source": [
    "#### can you make python eval a function?\n",
    "def TestPrint (str):\n",
    "    print(str)\n",
    "    return\n",
    "x = 'test'\n",
    "eval('TestPrint(x)')        "
   ]
  },
  {
   "cell_type": "code",
   "execution_count": 3,
   "metadata": {},
   "outputs": [
    {
     "name": "stdout",
     "output_type": "stream",
     "text": [
      "2\n",
      "<class 'str'>\n",
      "<class 'int'>\n",
      "<class 'float'>\n",
      "<class 'bool'>\n",
      "Casted Str to:   <class 'int'>\n",
      "Eval:  10>0  as  True\n"
     ]
    }
   ],
   "source": [
    "# Use Python Eval() to evaluate bmp feasibility truth statements for a given facility. If all BMP feasibility statements are true, then bmp is feasible at the facility.\n",
    "\n",
    "# Statements given in form:\n",
    "# Facility Characteristic </=/> BMP Required Value\n",
    "\n",
    "# We will run Eval:\n",
    "# Eval(FacilityCharacteristic </=/> BMP Required Value)\n",
    "\n",
    "# Problem 1: BMP Required Values are stored in database. But stored as text. But Facility Char may be a different data type. \n",
    "# Solution: Need to cast BMP Required Value (always a TEXT type) to Facility Characteristic data type to allow truth statement evaluation.\n",
    "\n",
    "# but how to handle detecting and casting of different datatypes?\n",
    "# Possible Solution: using dictionary mapping\n",
    "# http://effbot.org/pyfaq/why-isn-t-there-a-switch-or-case-statement-in-python.htm\n",
    "# start by defining your functions:\n",
    "def function_1():\n",
    "    print (\"1\")\n",
    "\n",
    "def function_2():\n",
    "    print (\"2\")\n",
    "\n",
    "#then define a dictionary to map functions to keys:\n",
    "functions = {\n",
    "    'a': function_1,\n",
    "    'b': function_2,\n",
    "}\n",
    "#now use your function:\n",
    "func = functions['b']\n",
    "func()\n",
    "\n",
    "# so use this in our solution by making each data type name a key mapping to a corresponding data casting function\n",
    "# get names of different common python data types:\n",
    "print (type(\"test\")) #=<class 'str'>\n",
    "print (type(1)) #=<class 'int'>\n",
    "print(type(1.22)) #=<class 'float'>\n",
    "print (type(False)) #=<class 'bool'>\n",
    "\n",
    "#define casting functions:\n",
    "def CastStr2Str (mystr):\n",
    "    return mystr\n",
    "def CastStr2Int (mystr):\n",
    "    return int(mystr)\n",
    "def CastStr2Float (mystr):\n",
    "    return float(mystr)\n",
    "def CastStr2Bool (mystr):\n",
    "    return bool(mystr)\n",
    "\n",
    "#define casting mapping function:\n",
    "CastStr = { \n",
    "    '<class \\'str\\'>': CastStr2Str,\n",
    "    '<class \\'int\\'>': CastStr2Int,\n",
    "    '<class \\'float\\'>': CastStr2Float,\n",
    "    '<class \\'bool\\'>': CastStr2Bool \n",
    "}\n",
    "#now use it:\n",
    "myCasting = CastStr['<class \\'int\\'>']('1')\n",
    "print(\"Casted Str to:  \", type(myCasting))\n",
    "\n",
    "# implement in our feasibility evaluator:\n",
    "    \n",
    "# WAIT! argh.....no need to cast b/c we are just going to pass the truth statement as a string to py eval. Arrrrggg\n",
    "\n",
    "def ProtoFeasibilityEval():\n",
    "    BMP_ReqdVal = '0' #stored in DB as text value\n",
    "    FacChar_Val = 10 #Facility characteristic value. any data type can be assigned to this variable.\n",
    "    InequalityTestSymbol = '>' #states relationship between the BMPReqd and FacilityChr vals.\n",
    "    TruthStatement = str(FacChar_Val) + InequalityTestSymbol + BMP_ReqdVal\n",
    "    Truth = eval(TruthStatement)\n",
    "    print(\"Eval: \", TruthStatement, \" as \", Truth)   \n",
    "ProtoFeasibilityEval()"
   ]
  },
  {
   "cell_type": "code",
   "execution_count": 12,
   "metadata": {},
   "outputs": [
    {
     "ename": "NameError",
     "evalue": "name 'px' is not defined",
     "output_type": "error",
     "traceback": [
      "\u001b[1;31m---------------------------------------------------------------------------\u001b[0m",
      "\u001b[1;31mNameError\u001b[0m                                 Traceback (most recent call last)",
      "\u001b[1;32m<ipython-input-12-62873dce39f5>\u001b[0m in \u001b[0;36m<module>\u001b[1;34m()\u001b[0m\n\u001b[0;32m      1\u001b[0m \u001b[0mx\u001b[0m\u001b[1;33m=\u001b[0m\u001b[1;36m9\u001b[0m\u001b[1;33m\u001b[0m\u001b[0m\n\u001b[1;32m----> 2\u001b[1;33m \u001b[0meval\u001b[0m\u001b[1;33m(\u001b[0m\u001b[1;34m'px'\u001b[0m\u001b[1;33m)\u001b[0m\u001b[1;33m\u001b[0m\u001b[0m\n\u001b[0m",
      "\u001b[1;32m<string>\u001b[0m in \u001b[0;36m<module>\u001b[1;34m()\u001b[0m\n",
      "\u001b[1;31mNameError\u001b[0m: name 'px' is not defined"
     ]
    }
   ],
   "source": [
    "x=9 \n",
    "eval('px')"
   ]
  },
  {
   "cell_type": "code",
   "execution_count": null,
   "metadata": {
    "collapsed": true
   },
   "outputs": [],
   "source": [
    "#### can you define foreign keys in SQLite?\n",
    "\n",
    "#### https://sqlite.org/foreignkeys.html\n",
    "# CREATE TABLE track(\n",
    "#   trackid     INTEGER, \n",
    "#   trackname   TEXT, \n",
    "#   trackartist INTEGER,\n",
    "#   FOREIGN KEY(trackartist) REFERENCES artist(artistid)\n",
    "# );\n",
    "\n",
    "\n",
    "# #### https://stackoverflow.com/questions/15301643/sqlite3-forgets-to-use-foreign-keys\n",
    "# Put this at the top of the file that executes the SQL commands and it will enable foreign keys on runtime.\n",
    "# db = SQLite3::Database.new(\"database.db\")\n",
    "# db.execute(\"PRAGMA foreign_keys = ON\")"
   ]
  },
  {
   "cell_type": "code",
   "execution_count": null,
   "metadata": {
    "collapsed": true
   },
   "outputs": [],
   "source": [
    "#### how do you catch errors?\n",
    "#### https://docs.python.org/3/tutorial/errors.html\n",
    "#### list of standard python exceptions here: https://docs.python.org/3/library/exceptions.html#exception-hierarchy\n",
    "#### you must know which error in list you excpect and look out for it explicitly. f.e. need to catch div 0 exception eplicitly:\n",
    "\n",
    "x=0\n",
    "try:\n",
    "    1/x\n",
    "except ZeroDivisionError as err:\n",
    "    print (err)\n",
    "    \n",
    "    "
   ]
  },
  {
   "cell_type": "code",
   "execution_count": 6,
   "metadata": {
    "scrolled": true
   },
   "outputs": [
    {
     "name": "stdout",
     "output_type": "stream",
     "text": [
      "\n",
      "Clearing old DB\n",
      "Opening DB\n",
      "_jonhonda_dat\\testlab\\StrBMPModelDB001\n",
      "Reading Script...\n",
      "Running Script...\n",
      "Changes successfully committed ...\n"
     ]
    }
   ],
   "source": [
    "#### LET'S START BUIDLING SQL TABLE MAKING SCRIPT\n",
    "\n",
    "import sqlite3 as sqlite\n",
    "import os\n",
    "\n",
    "dbfilename = '_jonhonda_dat\\\\testlab\\\\StrBMPModelDB001'\n",
    "scriptfilename = '_jonhonda_dat\\\\testlab\\\\MakeStrBMPModelTables'\n",
    "\n",
    "print (\"\\nClearing old DB\")\n",
    "try:\n",
    "    os.remove(dbfilename)\n",
    "except FileNotFoundError as err:\n",
    "    print (\"no need to remove db file\")####it's okay if file doesn't exist. ####\n",
    "    \n",
    "print (\"Opening DB\")\n",
    "print (dbfilename)\n",
    "connection = sqlite.connect(dbfilename)\n",
    "connection.execute (\"PRAGMA foreign_keys = ON\")\n",
    "cursor = connection.cursor()\n",
    "# cursor.execute ('''DROP TABLE facilities''')\n",
    "# connection.commit()\n",
    "# cursor.execute ('''CREATE TABLE facilities (facility_id INTEGER PRIMARY KEY, facility_name TEXT, wrs_pollutant_risks_id INTEGER)''')\n",
    "# connection.commit()\n",
    "\n",
    "print (\"Reading Script...\")\n",
    "scriptFile = open(scriptfilename, 'r')\n",
    "script = scriptFile.read()\n",
    "scriptFile.close()\n",
    "\n",
    "print (\"Running Script...\")\n",
    "cursor.executescript(script)\n",
    "\n",
    "connection.commit()\n",
    "print (\"Changes successfully committed ...\")\n",
    " \n",
    "# cursor.execute('''INSERT INTO facilities (facility_name, wrs_pollutant_risks_id) VALUES(?,?)''', ('testfac',10))\n",
    "# cursor.execute('''INSERT INTO base_bmps(bmp_name,bmp_removal_rates_id,cip_expression_id,om_expression_id,facility_id) VALUES(?,?,?,?,?)''',('testbmp',1,1,1,1))\n",
    "# cursor.execute('''SELECT * FROM base_bmps''')\n",
    "# print(cursor.fetchall())\n",
    "# cursor.execute('''SELECT * FROM facilities''')\n",
    "# print(cursor.fetchall())\n",
    "# cursor.execute('''DELETE FROM facilities''')\n",
    "# cursor.execute('''SELECT * FROM base_bmps''')\n",
    "# print(cursor.fetchall())\n",
    "\n",
    "connection.close()\n"
   ]
  },
  {
   "cell_type": "code",
   "execution_count": null,
   "metadata": {
    "collapsed": true
   },
   "outputs": [],
   "source": []
  }
 ],
 "metadata": {
  "kernelspec": {
   "display_name": "Python 3",
   "language": "python",
   "name": "python3"
  },
  "language_info": {
   "codemirror_mode": {
    "name": "ipython",
    "version": 3
   },
   "file_extension": ".py",
   "mimetype": "text/x-python",
   "name": "python",
   "nbconvert_exporter": "python",
   "pygments_lexer": "ipython3",
   "version": "3.6.3"
  }
 },
 "nbformat": 4,
 "nbformat_minor": 2
}
