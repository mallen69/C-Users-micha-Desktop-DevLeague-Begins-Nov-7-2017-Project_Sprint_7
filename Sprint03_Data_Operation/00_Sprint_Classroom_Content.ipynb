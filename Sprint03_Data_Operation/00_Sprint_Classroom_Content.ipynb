{
 "cells": [
  {
   "cell_type": "markdown",
   "metadata": {},
   "source": [
    "# Sprint Title\n",
    "\n",
    "## Key Concepts and Definitions\n",
    "\n",
    "## Key Questions\n",
    "\n",
    "## Project Ideas\n",
    "\n",
    "From Justin for Both Sprints on Basic Data Operations\n",
    "- Inspect the contents of the files programmatically with a for loop!!!!\n",
    "- Count the lines in the file, Count the entries. Is there any metadata? What is it?\n",
    "- Clean the data with pandas or (r-based dataframe library)\n",
    "- Save the new data file to disk (Or push it to s3!!!)\n",
    "- Tools: Open the data with python libraries, csv, pandas, xarray, or pure python\n"
   ]
  },
  {
   "cell_type": "code",
   "execution_count": null,
   "metadata": {
    "collapsed": true
   },
   "outputs": [],
   "source": []
  }
 ],
 "metadata": {
  "kernelspec": {
   "display_name": "Python 3",
   "language": "python",
   "name": "python3"
  },
  "language_info": {
   "codemirror_mode": {
    "name": "ipython",
    "version": 3
   },
   "file_extension": ".py",
   "mimetype": "text/x-python",
   "name": "python",
   "nbconvert_exporter": "python",
   "pygments_lexer": "ipython3",
   "version": "3.6.3"
  }
 },
 "nbformat": 4,
 "nbformat_minor": 2
}
