{
 "cells": [
  {
   "cell_type": "markdown",
   "metadata": {
    "slideshow": {
     "slide_type": "slide"
    }
   },
   "source": [
    "# Data Operations \n",
    "*Module: Basic Data Manipulation (Sprint 1 of 2)*"
   ]
  },
  {
   "cell_type": "markdown",
   "metadata": {
    "slideshow": {
     "slide_type": "slide"
    }
   },
   "source": [
    "## Sprint Module Review and Data Stories\n",
    "\n",
    "#### Basic Data Manipulation\n",
    "*Before you engage in structured analysis, you often just want to see the data. This can mean pre-viewing a subset of it, summarize the columns/attributes/features, sorting or reorganizing it and otherwise finding ways to immerse yourself in your data. Different technologies tools have something different to offer, and our objective is to develop a good sense of the utilities available to you*\n",
    "\n",
    "|Data Journalist| Data Engineer | Statistical Modeler| Business Analyst |\n",
    "|----|:----------------|:----|:------------------|:----|\n",
    "|… I need to **filter, search, and remove features from my data set** so that I can conduct targeted investigations\t|… I need to understand the **programming basics of automation** so that I can develop tools that work efficiently (also big o notation, computability and complexity, sorting and searching algorithms)\t|…I need to understand the **programming basics** so that I can implement algorithms\t|…I need to **transform data or derive additional statistics** from input data, so that I can highlight more telling indicators|\n"
   ]
  },
  {
   "cell_type": "markdown",
   "metadata": {
    "slideshow": {
     "slide_type": "slide"
    }
   },
   "source": [
    "## Key Questions\n",
    "- What do I do with data loaded in SQL?\n",
    "        - How do I view it?\n",
    "        - How do I change it?\n",
    "        - How do I operate on it?\n",
    "- What do I do with data loaded in R?\n",
    "        - How do I view it?\n",
    "        - How do I change it?\n",
    "        - How do I operate on it?\n",
    "- What do I do with Data loaded in Python?\n",
    "        - How do I view it?\n",
    "        - How do I change it?\n",
    "        - How do I operate on it?\n",
    "   \n",
    "## Key Concepts\n",
    "- Data Types\n",
    "- Data Structures\n",
    "- Objects\n",
    "- Primitives\n",
    "- Literals\n",
    "- Data Type Coersion\n",
    "- Headers / Factors / Keys\n",
    "- Operations / Operators / Functions / Methods\n",
    "- Array access\n",
    "- Loops\n",
    "- Maps\n"
   ]
  },
  {
   "cell_type": "markdown",
   "metadata": {},
   "source": [
    "### SQL\n",
    "- SELECT\n",
    "        - *, MIN(), MAX(), COUNT(), AVG(), SUM()\n",
    "        - AS\n",
    "        - FROM\n",
    "        - WHERE (= , <>, >, <. >=, <=, BETWEEN, LIKE, IN, NOT, AND, OR, NULL, %, _)\n",
    "        - ORDER BY (ASC | DESC)\n",
    "        - LIMIT\n",
    "        - JOIN (ON, INNER, LEFT, RIGHT, OUTER)\n",
    "        - UNION\n",
    "        - GROUP BY\n",
    "        - HAVING\n",
    "        - INTO\n",
    "        \n",
    "- UPDATE (SET)\n",
    "- DELETE\n",
    "- INSERT INTO (VALUES)\n",
    "- CREATE DATABASE\n",
    "- ALTER DATABASE\n",
    "- CREATE TABLE\n",
    "- ALTER TABLE\n",
    "- DROP TABLE\n",
    "- CREATE INDEX\n",
    "- DROP INDEX"
   ]
  },
  {
   "cell_type": "markdown",
   "metadata": {},
   "source": [
    "### R\n",
    "#### R in a Nutshell\n",
    "- https://github.com/devleague/BigDataAnalyst_Library/blob/master/books/rinanutshell.pdf\n",
    "- Chapters \n",
    "        - 5 (overview of language - browse)\n",
    "        - 6 (syntax - literals, strings, variables, operators, loops) \n",
    "        - 7 (data objects - vectors / lists)\n",
    "        - 11 (saving, loading, and editing data)\n",
    "        - 12 (preparing Data)\n",
    "\n",
    "#### Objects and Data Types\n",
    "- Vectors (integer, double, complex, character, logical, raw)\n",
    "- Lists\n",
    "- Data Frames\n",
    "- Tibbles\n",
    "- Other (Matrices / Arrays / Factors)\n",
    "\n",
    "#### Programming\n",
    "- blocks (curly braces)\n",
    "- functions (return values, arguments, anonymous)\n",
    "- loops (repeat / while / for)\n",
    "- control flow (if /else)\n",
    "- index notation (brackets [] - INTEGER/LOGICAL, double brackets[[]], named $ )\n",
    "\n",
    "#### Reading and Writing Data\n",
    "- save() saving to .RData files\n",
    "- read.table() / read.csv, etc \n",
    "- readLines()\n",
    "- write.table()\n",
    "- RODBC / DBI (RMySQL, RSQLite, RPostgreSQL)\n",
    "\n",
    "#### Important Functions / Tools\n",
    "- c(): combine, creating vectors\n",
    "- paste(): concatenating\n",
    "- typeof() / class()\n",
    "- length()\n",
    "- list(): creating lists\n",
    "- list(key=value)\n",
    "- rbind(), cbind(): combining data structures by row or column\n",
    "- merge(): joining by field\n",
    "- transform() / stack() / unstack()\n",
    "- apply() / lapply(): applying a function to all elements of a collection\n",
    "- plyr\n",
    "- binning: grouping data\n",
    "- subset(): selecting a specific part of your data\n",
    "- tapply() / aggregate(): functions to summarize vectors\n",
    "- sort() / order()\n",
    "- duplicated()\n"
   ]
  },
  {
   "cell_type": "markdown",
   "metadata": {},
   "source": [
    "### Python\n",
    "\n",
    "#### Mathematical Python\n",
    "- https://github.com/devleague/BigDataAnalyst_Library/blob/master/books/mathematical_python.pdf\n",
    "- Chapters\n",
    "    - 2 Overview of the Python Language\n",
    "- Quickstart to Numpy https://docs.scipy.org/doc/numpy/user/quickstart.html\n",
    "- 10 minutes to Pandas http://pandas.pydata.org/pandas-docs/stable/10min.html\n",
    "\n",
    "#### Objects and Data Types\n",
    "- int / long, float / decimal, str, \n",
    "- list / array (append, insert, delete, count, index, reverse, sort)\n",
    "- tuple, set\n",
    "- dict\n",
    "- ndarray / numpy.array (.ndim / .shape / .size / .dtype)\n",
    "- Series / DataFrame (creation by dict of key: column header, value: series-like\n",
    "\n",
    "#### Programming\n",
    "- methods\n",
    "- slices\n",
    "- indenting and whitespace for blocks\n",
    "- list comprehensions\n",
    "- control flow (if, elif, else\n",
    "- loops (while, for in)\n",
    "- function (def, return, lambda)\n",
    "\n",
    "#### Reading and Writing Data\n",
    "- open()\n",
    "- file.write() / file.close()\n",
    "- file.read()\n",
    "- file.seek()\n",
    "- df.to_csv (writing to csv)\n",
    "- df.to_excel\n",
    "- pd.read_csv\n",
    "- pd.read_excel\n",
    "- df.to_hdf (python style data saving to .h5 extension)\n",
    "- pd.read_hdf\n",
    "\n",
    "\n",
    "#### Important Functions / Tools\n",
    "- help() / dir(): inspect and get information about objects, attributes, methods\n",
    "- print\n",
    "- libaries \n",
    "         - urllib (connecting / parsing)\n",
    "         - json\n",
    "         - pickle (serializing objects)\n",
    "         - sqlite\n",
    "- DataFrames\n",
    "        - df.head()\n",
    "        - df.tail()\n",
    "        - df.index()\n",
    "        - df.columns()\n",
    "        - df.values()\n",
    "        - df.describe()\n",
    "        - df.sort_index / df.sort_values\n",
    "        - [] / .at / .loc / .iloc\n",
    "        - boolean indexing\n",
    "        - df.isin\n",
    "        - df.apply\n",
    "        - df.concat\n",
    "        - df.merge (join by field)\n",
    "        - df.append\n",
    "        - df.groupby\n",
    "        - df.stack / df.unstack\n",
    "        - pd.pivot_table\n",
    "\n"
   ]
  },
  {
   "cell_type": "markdown",
   "metadata": {},
   "source": [
    "#### Command Line"
   ]
  },
  {
   "cell_type": "markdown",
   "metadata": {},
   "source": [
    "# Sprint Title\n",
    "\n",
    "## Key Concepts and Definitions\n",
    "\n",
    "## Key Questions\n",
    "\n",
    "## Project Ideas\n",
    "\n",
    "From Justin for Both Sprints on Basic Data Operations\n",
    "- Inspect the contents of the files programmatically with a for loop!!!!\n",
    "- Count the lines in the file, Count the entries. Is there any metadata? What is it?\n",
    "- Clean the data with pandas or (r-based dataframe library)\n",
    "- Save the new data file to disk (Or push it to s3!!!)\n",
    "- Tools: Open the data with python libraries, csv, pandas, xarray, or pure python\n",
    "- apply each function in R / SQL / Python to your dataset\n",
    "- compare functionality between the 3 languages. Do a read in each language, a \"select\" query in each language, a join in each language\n",
    "- research the usefulness of each function for your dataset\n",
    "- \n"
   ]
  },
  {
   "cell_type": "code",
   "execution_count": null,
   "metadata": {
    "collapsed": true
   },
   "outputs": [],
   "source": []
  }
 ],
 "metadata": {
  "kernelspec": {
   "display_name": "Python 3",
   "language": "python",
   "name": "python3"
  },
  "language_info": {
   "codemirror_mode": {
    "name": "ipython",
    "version": 3
   },
   "file_extension": ".py",
   "mimetype": "text/x-python",
   "name": "python",
   "nbconvert_exporter": "python",
   "pygments_lexer": "ipython3",
   "version": "3.6.3"
  }
 },
 "nbformat": 4,
 "nbformat_minor": 2
}
