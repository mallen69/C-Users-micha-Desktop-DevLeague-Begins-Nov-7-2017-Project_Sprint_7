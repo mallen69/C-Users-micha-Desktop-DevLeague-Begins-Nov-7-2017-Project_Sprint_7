{
 "cells": [
  {
   "cell_type": "markdown",
   "metadata": {
    "collapsed": true
   },
   "source": [
    "# [Sprint Topic] Sprint Journal for [Author]"
   ]
  },
  {
   "cell_type": "markdown",
   "metadata": {
    "collapsed": true
   },
   "source": [
    "---\n",
    "## DAY 1: Tuesday (Week 1)\n",
    "\n",
    "### Ideas for Projects\n",
    "* Import 5 months of Biki trip data into a Biki Trips database in SQlite Studio\n",
    "- Each month is it's own seperate data file and each will be imported as a seperate table. This should be relatively easy as I know how to create a new database and add tables, but I previously imported only a limited amount of the file and I'm concerned about each file being too big.\n",
    "\n",
    "* Combine 5 month's of Biki trips into a single table by stacking the 5 tables\n",
    "- I will utilize the \"union\" function, which I need to learn\n",
    "\n",
    "* Create a data structure that includes a Trips table as a primary table\n",
    "- I will utilize the \"SELECT/INSERT INTO\" function, which I need to practice\n",
    "\n",
    "* Move redundant information into a Stations table, Products table, and Customer table\n",
    "- I will utilize the \"SELECT/INSERT INTO\" function, which I need to practice\n",
    "\n",
    "* Execute all possible SQL quieries to test the utility of each function on my dataset\n",
    "- I will utilize the quieries and functions listed in our Classroom Content\n",
    "\n",
    "### What I Expect to Learn\n",
    "* I expect to familiarize myself with the functions of SQL and the relvency to my data set\n",
    "\n",
    "### Project References\n",
    "- https://www.tutorialspoint.com/sqlite/sqlite_distinct_keyword.htm this function will work with my table with all my trips and for a given coloumn, I want to select station name, this table of unique. This is going to isolate station and station IDs\n",
    "- https://www.datacamp.com/courses/intro-to-sql-for-data-science these courses will familiarize me with \n",
    "- http://www.sqlitetutorial.net/sqlite-union/ This tutorial will help me combine 5 tables (5 months of biki trip data) and seperate from there\n",
    "\n",
    "### Project Pitch\n",
    "- *Replace with project idea*\n",
    "- *Replace with description of how project relates to sprint content*"
   ]
  },
  {
   "cell_type": "markdown",
   "metadata": {},
   "source": [
    "--- \n",
    "## DAY 2: Wednesday (Week 1)\n",
    "### Pitch Feedback \n",
    "Ben suggested I use Rstudio instead of SQL\n",
    "\n",
    "### Prototype Notes\n",
    "\n",
    "I downloaded 4 seperate csv files (July trips data, August trips data, September trips data, and October trips data)\n",
    "\n",
    "I read them in Rstudio, then I made short cuts to read them, and I did a coupe commands on them I learned from Tori \n",
    "\n",
    "Here is some R code I learned from Michael and utilized\n",
    "\n",
    "getwd()   -> get working directory\n",
    "\n",
    "setwd(\"/Users/justine/Desktop/DevLeague/Biki Trips Data\") -> set working directory to the folder my files are at\n",
    "\n",
    "read.csv(\"July.csv\")       -> read each biki trip file\n",
    "read.csv(\"August.csv\")\n",
    "read.csv(\"September.csv\")\n",
    "read.csv(\"October.csv\")\n",
    "\n",
    "July=read.csv(\"July.csv\")        -> Simplify the command to read the file\n",
    "August=read.csv(\"August.csv\")\n",
    "September=read.csv(\"September.csv\")\n",
    "October=read.csv(\"October.csv\")\n",
    "\n",
    "### Pair Show & Tell Comments\n",
    "*Comments from prototype discussion*\n",
    "\n",
    "*These comments lead into plan development. Key considerations for me and my partner:  Do I have a plan? Is my plan feasible?*\n",
    "\n",
    "### Proposed Plan: Key Milestones by Day\n",
    "\n",
    "\n",
    "##### Day 2 (Wed Week 1):\n",
    "- Develop Project Proposal\n",
    "- Push Docs / Repo / Roadmap Update\n",
    "\n",
    "##### Day 3 (Thu Week 1):\n",
    "- Make a script to combine the reading commands for my files\n",
    "- Learn to save my work in rstudio\n",
    "- Push docs / repo\n",
    "\n",
    "##### Day 4 (Tue Week 2): \n",
    "- Play with manipulations/functions/commands. \"rbind()\" is one command suggested to \"stack\" my tables together\n",
    "- Find out what commands can extract redundant data from Trips table into a new table\n",
    "- Push docs / repo\n",
    "\n",
    "##### Day 5 (Wed Week 2):\n",
    "- Project highlights\n",
    "- Identify question or cohort knowledge gap for sprint review\n",
    "- Develop Topic Project + Presentation\n",
    "- Push Repo / docs / Presentation\n",
    "\n",
    "### Project Definition and README.MD Discussion \n",
    "*This is a discussion of how this project will fit into my overall roadmap. I will update my roadmap with the following project definition*\n",
    "\n",
    "*I will focus my project Repo's README.MD on the same topic, but with this additional detail.*\n"
   ]
  },
  {
   "cell_type": "markdown",
   "metadata": {},
   "source": [
    "--- \n",
    "## DAY 3: Thursday (Week 1)\n",
    "\n",
    "#### Setup for Repo and Documentation Push\n",
    "*Setup and testing I did to make sure my repo and documentation were ready to push at the end of the day*\n",
    "\n",
    "#### Repo File Strategy Discussion\n",
    "*How I will present my repo files for clarity and demonstration*\n",
    "\n",
    "#### Work towards milestone 1\n",
    "*Work I did towards Milestone *\n",
    "\n",
    "#### Work towards milestone 2\n",
    "*Work I did towards Milestone *\n",
    "\n",
    "#### Work towards milestone 3\n",
    "*Work I did towards Milestone *\n",
    "\n",
    "\n"
   ]
  },
  {
   "cell_type": "markdown",
   "metadata": {},
   "source": [
    "---\n",
    "## DAY 4: Tuesday (Week 2)\n",
    "\n",
    "#### Work in Progress Feedback \n",
    "*Feedback and ideas from my work in progress presentation *\n",
    "\n",
    "#### Work towards milestone 1\n",
    "*Work I did towards Milestone *\n",
    "\n",
    "#### Work towards milestone 2\n",
    "*Work I did towards Milestone *\n",
    "\n",
    "#### Work towards milestone 3\n",
    "*Work I did towards Milestone *\n"
   ]
  },
  {
   "cell_type": "markdown",
   "metadata": {},
   "source": [
    "--- \n",
    "\n",
    "## DAY 5: Wednesday (Week 2)\n",
    "\n",
    "### Project Highlights: The things I am most excited about in my project\n",
    "Me\n",
    "- \n",
    "- \n",
    "- \n",
    "\n",
    "Peer Identified\n",
    "\n",
    "- \n",
    "- \n",
    "- \n",
    "\n",
    "### Peer Repo Feedback \n",
    "\n",
    "*Here are the changes I am making to my repo structure for additional clarity* \n",
    "- \n",
    "- \n",
    "- \n",
    "\n"
   ]
  },
  {
   "cell_type": "markdown",
   "metadata": {},
   "source": [
    "## Day 6: Thursday (Week 2)\n",
    "--- \n",
    "\n",
    "#### Things I didn't get to\n",
    "*Here are some ideas that I didn't get to implement, but wanted to. I will be adding these to my roadmap table entry for this sprint as well."
   ]
  },
  {
   "cell_type": "code",
   "execution_count": null,
   "metadata": {
    "collapsed": true
   },
   "outputs": [],
   "source": []
  }
 ],
 "metadata": {
  "kernelspec": {
   "display_name": "Python 3",
   "language": "python",
   "name": "python3"
  },
  "language_info": {
   "codemirror_mode": {
    "name": "ipython",
    "version": 3
   },
   "file_extension": ".py",
   "mimetype": "text/x-python",
   "name": "python",
   "nbconvert_exporter": "python",
   "pygments_lexer": "ipython3",
   "version": "3.6.3"
  }
 },
 "nbformat": 4,
 "nbformat_minor": 2
}
