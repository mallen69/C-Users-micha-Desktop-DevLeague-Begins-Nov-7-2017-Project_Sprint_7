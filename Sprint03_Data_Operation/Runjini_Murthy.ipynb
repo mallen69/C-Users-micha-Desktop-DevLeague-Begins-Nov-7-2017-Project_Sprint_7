{
 "cells": [
  {
   "cell_type": "markdown",
   "metadata": {
    "collapsed": true
   },
   "source": [
    "# Sprint 3: Sprint Journal for Runjini Murthy"
   ]
  },
  {
   "cell_type": "markdown",
   "metadata": {
    "collapsed": true
   },
   "source": [
    "---\n",
    "## DAY 1: Tuesday (Week 1)\n",
    "### What I Expect to Learn\n",
    "* I would like to learn how to perform data operations on data in a SQL database.  This includes filtering, adding columns, and performing calculations.\n",
    "\n",
    "### Project References\n",
    "- Analyzing historical menu data from New York Public Library: https://www.kaggle.com/nypl/whats-on-the-menu -- But what questions?\n",
    "- UFO sightings data (only one table): https://www.kaggle.com/NUFORC/ufo-sightings/data\n",
    "- Wine data: https://www.kaggle.com/zynicide/wine-reviews/data\n",
    "- SQL Tutorial: https://data36.com/sql-for-data-analysis-tutorial-beginners/\n",
    "- For future project? Game of Thrones: https://www.kaggle.com/mylesoneill/game-of-thrones/data\n",
    "\n",
    "### Project Pitch\n",
    "- Language/program comparison: Export my OrangeTheory results from the past 6 months to get: count of sessions; sum of splat points; average of heart rate; sum of calories burned; average of calories burned; average attendance per week; where splat points were under 12; max calories burned, min calories burned\n",
    "- SQL only: Find a large data set from Kaggle to examine patterns/queries in the data set.\n",
    "\n",
    "### Notes\n",
    "- Important link not related to sprint: https://help.github.com/articles/syncing-a-fork/\n",
    "- SQL's primary goal is to manage and structure data.  Its goal is not to perform analysis.  Calculations are sums, but not statistically significant analysis.\n",
    "- Commands shown in summary content is fairly comprehensive list of commands.\n",
    "- SQL can subset/filter/choose, and also creates joins to return tables.\n",
    "- Group by example: Sum revenue by station ID; for me, sum revenue by HHC tower\n",
    "- Join on: on a specific field\n",
    "- Union: Combining tables together by pasting rows together\n",
    "- Into: Putting into temporary tables; to check to see if query is running but the database is too large. Do a limit for top 100 rows and then put them into a temp table.  Then perform manipulation on the temp table.\n",
    "- From: Use when you have more than one database.\n",
    "- Command line will probably always be in use.  But SQL GUI editors would also be used on the job.\n",
    "- Update: Edit a row\n",
    "- Create Index / Drop Index: Index controls unique IDs; affects efficiency of table - can run much faster.\n",
    "- For huge data sets, skill is agility in subsetting out data to size you can manage.\n",
    "- Data dictionary: Explains what each field means. Part of the documenation process for setting up a data.  By a database administrator.\n",
    "- Vector: List-like object.  However, data types must be homogenous.\n",
    "- List in R: can have different data types.  A list can store vectors.\n",
    "- Data frames: Brought in to R through library.  Implements table structure.  Uses lists and vectors.  Constructs lists of columns.\n",
    "- In interactive environments, these are easily tested.  Project work will allow us to self-experiment.\n",
    "- Tibbles: Table in R.  Like a variant of data frame.  Updated version of data frame.  Works with packages like Tidyverse.  CRAN includes it.\n"
   ]
  },
  {
   "cell_type": "markdown",
   "metadata": {},
   "source": [
    "--- \n",
    "## DAY 2: Wednesday (Week 1)\n",
    "### Pitch Feedback \n",
    "*These are comments I received or ideas I had from people's feedback to my pitch *\n",
    "\n",
    "### Prototype Notes\n",
    "*Results from prototype experiments, snippets of code, things I tried * \n",
    "\n",
    "### Pair Show & Tell Comments\n",
    "*Comments from prototype discussion*\n",
    "\n",
    "*These comments lead into plan development. Key considerations for me and my partner:  Do I have a plan? Is my plan feasible?*\n",
    "\n",
    "### Proposed Plan: Key Milestones by Day\n",
    "\n",
    "##### Day 2 (Wed Week 1):\n",
    "- Develop Project Proposal\n",
    "- Push Docs / Repo / Roadmap Update\n",
    "\n",
    "##### Day 3 (Thu Week 1):\n",
    "- *milestone 1*\n",
    "- *milestone 2*\n",
    "- *milestone X...*\n",
    "- Push docs / repo\n",
    "\n",
    "##### Day 4 (Tue Week 2): \n",
    "- *milestone X+1*\n",
    "- *milestone X+2*\n",
    "- *milestone X+3*\n",
    "- Push docs / repo\n",
    "\n",
    "##### Day 5 (Wed Week 2):\n",
    "- Project highlights\n",
    "- Identify question or cohort knowledge gap for sprint review\n",
    "- Develop Topic Project + Presentation\n",
    "- Push Repo / docs / Presentation\n",
    "\n",
    "### Project Definition and README.MD Discussion \n",
    "*This is a discussion of how this project will fit into my overall roadmap. I will update my roadmap with the following project definition*\n",
    "\n",
    "*I will focus my project Repo's README.MD on the same topic, but with this additional detail.*\n"
   ]
  },
  {
   "cell_type": "markdown",
   "metadata": {},
   "source": [
    "--- \n",
    "## DAY 3: Thursday (Week 1)\n",
    "\n",
    "#### Setup for Repo and Documentation Push\n",
    "*Setup and testing I did to make sure my repo and documentation were ready to push at the end of the day*\n",
    "\n",
    "#### Repo File Strategy Discussion\n",
    "*How I will present my repo files for clarity and demonstration*\n",
    "\n",
    "#### Work towards milestone 1\n",
    "*Work I did towards Milestone *\n",
    "\n",
    "#### Work towards milestone 2\n",
    "*Work I did towards Milestone *\n",
    "\n",
    "#### Work towards milestone 3\n",
    "*Work I did towards Milestone *\n",
    "\n",
    "\n"
   ]
  },
  {
   "cell_type": "markdown",
   "metadata": {},
   "source": [
    "---\n",
    "## DAY 4: Tuesday (Week 2)\n",
    "\n",
    "#### Work in Progress Feedback \n",
    "*Feedback and ideas from my work in progress presentation *\n",
    "\n",
    "#### Work towards milestone 1\n",
    "*Work I did towards Milestone *\n",
    "\n",
    "#### Work towards milestone 2\n",
    "*Work I did towards Milestone *\n",
    "\n",
    "#### Work towards milestone 3\n",
    "*Work I did towards Milestone *\n"
   ]
  },
  {
   "cell_type": "markdown",
   "metadata": {},
   "source": [
    "--- \n",
    "\n",
    "## DAY 5: Wednesday (Week 2)\n",
    "\n",
    "### Project Highlights: The things I am most excited about in my project\n",
    "Me\n",
    "- \n",
    "- \n",
    "- \n",
    "\n",
    "Peer Identified\n",
    "\n",
    "- \n",
    "- \n",
    "- \n",
    "\n",
    "### Peer Repo Feedback \n",
    "\n",
    "*Here are the changes I am making to my repo structure for additional clarity* \n",
    "- \n",
    "- \n",
    "- \n",
    "\n"
   ]
  },
  {
   "cell_type": "markdown",
   "metadata": {},
   "source": [
    "## Day 6: Thursday (Week 2)\n",
    "--- \n",
    "\n",
    "#### Things I didn't get to\n",
    "*Here are some ideas that I didn't get to implement, but wanted to. I will be adding these to my roadmap table entry for this sprint as well."
   ]
  },
  {
   "cell_type": "code",
   "execution_count": null,
   "metadata": {
    "collapsed": true
   },
   "outputs": [],
   "source": []
  }
 ],
 "metadata": {
  "kernelspec": {
   "display_name": "Python 3",
   "language": "python",
   "name": "python3"
  },
  "language_info": {
   "codemirror_mode": {
    "name": "ipython",
    "version": 3
   },
   "file_extension": ".py",
   "mimetype": "text/x-python",
   "name": "python",
   "nbconvert_exporter": "python",
   "pygments_lexer": "ipython3",
   "version": "3.6.3"
  }
 },
 "nbformat": 4,
 "nbformat_minor": 2
}
